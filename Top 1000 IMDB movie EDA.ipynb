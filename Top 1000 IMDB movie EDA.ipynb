{
 "cells": [
  {
   "cell_type": "code",
   "execution_count": 1,
   "id": "98974944",
   "metadata": {},
   "outputs": [
    {
     "data": {
      "text/html": [
       "        <script type=\"text/javascript\">\n",
       "        window.PlotlyConfig = {MathJaxConfig: 'local'};\n",
       "        if (window.MathJax) {MathJax.Hub.Config({SVG: {font: \"STIX-Web\"}});}\n",
       "        if (typeof require !== 'undefined') {\n",
       "        require.undef(\"plotly\");\n",
       "        requirejs.config({\n",
       "            paths: {\n",
       "                'plotly': ['https://cdn.plot.ly/plotly-2.1.0.min']\n",
       "            }\n",
       "        });\n",
       "        require(['plotly'], function(Plotly) {\n",
       "            window._Plotly = Plotly;\n",
       "        });\n",
       "        }\n",
       "        </script>\n",
       "        "
      ]
     },
     "metadata": {},
     "output_type": "display_data"
    }
   ],
   "source": [
    "import pandas as pd\n",
    "import numpy as np\n",
    "\n",
    "import plotly.graph_objects as go\n",
    "import plotly.express as px\n",
    "from plotly.subplots import make_subplots\n",
    "import plotly.figure_factory as ff\n",
    "import seaborn as sns\n",
    "import matplotlib.pyplot as plt\n",
    "\n",
    "\n",
    "from plotly.offline import plot, iplot, init_notebook_mode\n",
    "init_notebook_mode(connected=True)\n",
    "\n",
    "import re"
   ]
  },
  {
   "cell_type": "code",
   "execution_count": 2,
   "id": "5764144a",
   "metadata": {},
   "outputs": [],
   "source": [
    "df = pd.read_csv('Top 1000 IMDB movies.csv', index_col=[0])"
   ]
  },
  {
   "cell_type": "code",
   "execution_count": 3,
   "id": "61053da1",
   "metadata": {},
   "outputs": [
    {
     "data": {
      "text/html": [
       "<div>\n",
       "<style scoped>\n",
       "    .dataframe tbody tr th:only-of-type {\n",
       "        vertical-align: middle;\n",
       "    }\n",
       "\n",
       "    .dataframe tbody tr th {\n",
       "        vertical-align: top;\n",
       "    }\n",
       "\n",
       "    .dataframe thead th {\n",
       "        text-align: right;\n",
       "    }\n",
       "</style>\n",
       "<table border=\"1\" class=\"dataframe\">\n",
       "  <thead>\n",
       "    <tr style=\"text-align: right;\">\n",
       "      <th></th>\n",
       "      <th>Movie Name</th>\n",
       "      <th>Release Year</th>\n",
       "      <th>Watch Time</th>\n",
       "      <th>Movie Rating</th>\n",
       "      <th>Metascore</th>\n",
       "      <th>Votes</th>\n",
       "      <th>Gross</th>\n",
       "      <th>Genre</th>\n",
       "      <th>Directors</th>\n",
       "      <th>Stars</th>\n",
       "    </tr>\n",
       "    <tr>\n",
       "      <th>Ranking</th>\n",
       "      <th></th>\n",
       "      <th></th>\n",
       "      <th></th>\n",
       "      <th></th>\n",
       "      <th></th>\n",
       "      <th></th>\n",
       "      <th></th>\n",
       "      <th></th>\n",
       "      <th></th>\n",
       "      <th></th>\n",
       "    </tr>\n",
       "  </thead>\n",
       "  <tbody>\n",
       "    <tr>\n",
       "      <th>1</th>\n",
       "      <td>The Shawshank Redemption</td>\n",
       "      <td>1994</td>\n",
       "      <td>142</td>\n",
       "      <td>9.3</td>\n",
       "      <td>81.0</td>\n",
       "      <td>2,612,987</td>\n",
       "      <td>$28.34M</td>\n",
       "      <td>Drama</td>\n",
       "      <td>Frank Darabont</td>\n",
       "      <td>Tim Robbins, Morgan Freeman, Bob Gunton, Willi...</td>\n",
       "    </tr>\n",
       "    <tr>\n",
       "      <th>2</th>\n",
       "      <td>The Godfather</td>\n",
       "      <td>1972</td>\n",
       "      <td>175</td>\n",
       "      <td>9.2</td>\n",
       "      <td>100.0</td>\n",
       "      <td>1,808,435</td>\n",
       "      <td>$134.97M</td>\n",
       "      <td>Crime, Drama</td>\n",
       "      <td>Francis Ford Coppola</td>\n",
       "      <td>Marlon Brando, Al Pacino, James Caan, Diane Ke...</td>\n",
       "    </tr>\n",
       "    <tr>\n",
       "      <th>3</th>\n",
       "      <td>The Dark Knight</td>\n",
       "      <td>2008</td>\n",
       "      <td>152</td>\n",
       "      <td>9.0</td>\n",
       "      <td>84.0</td>\n",
       "      <td>2,585,038</td>\n",
       "      <td>$534.86M</td>\n",
       "      <td>Action, Crime, Drama</td>\n",
       "      <td>Christopher Nolan</td>\n",
       "      <td>Christian Bale, Heath Ledger, Aaron Eckhart, M...</td>\n",
       "    </tr>\n",
       "    <tr>\n",
       "      <th>4</th>\n",
       "      <td>The Lord of the Rings: The Return of the King</td>\n",
       "      <td>2003</td>\n",
       "      <td>201</td>\n",
       "      <td>9.0</td>\n",
       "      <td>94.0</td>\n",
       "      <td>1,793,421</td>\n",
       "      <td>$377.85M</td>\n",
       "      <td>Action, Adventure, Drama</td>\n",
       "      <td>Peter Jackson</td>\n",
       "      <td>Elijah Wood, Viggo Mortensen, Ian McKellen, Or...</td>\n",
       "    </tr>\n",
       "    <tr>\n",
       "      <th>5</th>\n",
       "      <td>Schindler's List</td>\n",
       "      <td>1993</td>\n",
       "      <td>195</td>\n",
       "      <td>9.0</td>\n",
       "      <td>94.0</td>\n",
       "      <td>1,327,956</td>\n",
       "      <td>$96.90M</td>\n",
       "      <td>Biography, Drama, History</td>\n",
       "      <td>Steven Spielberg</td>\n",
       "      <td>Liam Neeson, Ralph Fiennes, Ben Kingsley, Caro...</td>\n",
       "    </tr>\n",
       "  </tbody>\n",
       "</table>\n",
       "</div>"
      ],
      "text/plain": [
       "                                            Movie Name  Release Year  \\\n",
       "Ranking                                                                \n",
       "1                             The Shawshank Redemption          1994   \n",
       "2                                        The Godfather          1972   \n",
       "3                                      The Dark Knight          2008   \n",
       "4        The Lord of the Rings: The Return of the King          2003   \n",
       "5                                     Schindler's List          1993   \n",
       "\n",
       "         Watch Time  Movie Rating  Metascore      Votes     Gross  \\\n",
       "Ranking                                                             \n",
       "1               142           9.3       81.0  2,612,987   $28.34M   \n",
       "2               175           9.2      100.0  1,808,435  $134.97M   \n",
       "3               152           9.0       84.0  2,585,038  $534.86M   \n",
       "4               201           9.0       94.0  1,793,421  $377.85M   \n",
       "5               195           9.0       94.0  1,327,956   $96.90M   \n",
       "\n",
       "                             Genre             Directors  \\\n",
       "Ranking                                                    \n",
       "1                            Drama        Frank Darabont   \n",
       "2                     Crime, Drama  Francis Ford Coppola   \n",
       "3             Action, Crime, Drama     Christopher Nolan   \n",
       "4         Action, Adventure, Drama         Peter Jackson   \n",
       "5        Biography, Drama, History      Steven Spielberg   \n",
       "\n",
       "                                                     Stars  \n",
       "Ranking                                                     \n",
       "1        Tim Robbins, Morgan Freeman, Bob Gunton, Willi...  \n",
       "2        Marlon Brando, Al Pacino, James Caan, Diane Ke...  \n",
       "3        Christian Bale, Heath Ledger, Aaron Eckhart, M...  \n",
       "4        Elijah Wood, Viggo Mortensen, Ian McKellen, Or...  \n",
       "5        Liam Neeson, Ralph Fiennes, Ben Kingsley, Caro...  "
      ]
     },
     "execution_count": 3,
     "metadata": {},
     "output_type": "execute_result"
    }
   ],
   "source": [
    "df.head()"
   ]
  },
  {
   "cell_type": "code",
   "execution_count": 4,
   "id": "4f673e31",
   "metadata": {},
   "outputs": [
    {
     "name": "stdout",
     "output_type": "stream",
     "text": [
      "<class 'pandas.core.frame.DataFrame'>\n",
      "Index: 1000 entries, 1 to 1,000\n",
      "Data columns (total 10 columns):\n",
      " #   Column        Non-Null Count  Dtype  \n",
      "---  ------        --------------  -----  \n",
      " 0   Movie Name    1000 non-null   object \n",
      " 1   Release Year  1000 non-null   int64  \n",
      " 2   Watch Time    1000 non-null   int64  \n",
      " 3   Movie Rating  1000 non-null   float64\n",
      " 4   Metascore     836 non-null    float64\n",
      " 5   Votes         1000 non-null   object \n",
      " 6   Gross         817 non-null    object \n",
      " 7   Genre         1000 non-null   object \n",
      " 8   Directors     1000 non-null   object \n",
      " 9   Stars         1000 non-null   object \n",
      "dtypes: float64(2), int64(2), object(6)\n",
      "memory usage: 85.9+ KB\n"
     ]
    }
   ],
   "source": [
    "df.info()"
   ]
  },
  {
   "cell_type": "code",
   "execution_count": 5,
   "id": "3df94f26",
   "metadata": {},
   "outputs": [
    {
     "name": "stderr",
     "output_type": "stream",
     "text": [
      "<ipython-input-5-04d8eb66cdd5>:2: FutureWarning:\n",
      "\n",
      "The default value of regex will change from True to False in a future version.\n",
      "\n"
     ]
    }
   ],
   "source": [
    "#Converting Gross column from object to float type\n",
    "df['Gross'] =df['Gross'].str.replace(r'[$M]','').astype('float')\n"
   ]
  },
  {
   "cell_type": "code",
   "execution_count": 6,
   "id": "48a1316c",
   "metadata": {},
   "outputs": [],
   "source": [
    "#Converting Release Year column from int to object type\n",
    "# df['Release Year'] = df['Release Year'].astype('object')"
   ]
  },
  {
   "cell_type": "code",
   "execution_count": 7,
   "id": "62b525c0",
   "metadata": {},
   "outputs": [
    {
     "name": "stdout",
     "output_type": "stream",
     "text": [
      "<class 'pandas.core.frame.DataFrame'>\n",
      "Index: 1000 entries, 1 to 1,000\n",
      "Data columns (total 10 columns):\n",
      " #   Column        Non-Null Count  Dtype  \n",
      "---  ------        --------------  -----  \n",
      " 0   Movie Name    1000 non-null   object \n",
      " 1   Release Year  1000 non-null   int64  \n",
      " 2   Watch Time    1000 non-null   int64  \n",
      " 3   Movie Rating  1000 non-null   float64\n",
      " 4   Metascore     836 non-null    float64\n",
      " 5   Votes         1000 non-null   object \n",
      " 6   Gross         817 non-null    float64\n",
      " 7   Genre         1000 non-null   object \n",
      " 8   Directors     1000 non-null   object \n",
      " 9   Stars         1000 non-null   object \n",
      "dtypes: float64(3), int64(2), object(5)\n",
      "memory usage: 85.9+ KB\n"
     ]
    }
   ],
   "source": [
    "df.info()"
   ]
  },
  {
   "cell_type": "code",
   "execution_count": 8,
   "id": "ccea75d9",
   "metadata": {},
   "outputs": [
    {
     "data": {
      "text/plain": [
       "Movie Name        0\n",
       "Release Year      0\n",
       "Watch Time        0\n",
       "Movie Rating      0\n",
       "Metascore       164\n",
       "Votes             0\n",
       "Gross           183\n",
       "Genre             0\n",
       "Directors         0\n",
       "Stars             0\n",
       "dtype: int64"
      ]
     },
     "execution_count": 8,
     "metadata": {},
     "output_type": "execute_result"
    }
   ],
   "source": [
    "df.isnull().sum()"
   ]
  },
  {
   "cell_type": "markdown",
   "id": "2f2f51bd",
   "metadata": {},
   "source": [
    "* There are null values in columns:\n",
    "    * Metascore - replace null values with the mean value of Metascore column.\n",
    "    * Gross - replace null value with the mean value of Gross column."
   ]
  },
  {
   "cell_type": "code",
   "execution_count": 9,
   "id": "ef60e438",
   "metadata": {},
   "outputs": [],
   "source": [
    "df['Metascore'] = df['Metascore'].replace(np.nan, np.mean(df['Metascore']))\n",
    "df['Gross'] = df['Gross'].replace(np.nan, np.mean(df['Gross']))"
   ]
  },
  {
   "cell_type": "code",
   "execution_count": 10,
   "id": "c3273d27",
   "metadata": {},
   "outputs": [
    {
     "data": {
      "text/plain": [
       "Movie Name      0\n",
       "Release Year    0\n",
       "Watch Time      0\n",
       "Movie Rating    0\n",
       "Metascore       0\n",
       "Votes           0\n",
       "Gross           0\n",
       "Genre           0\n",
       "Directors       0\n",
       "Stars           0\n",
       "dtype: int64"
      ]
     },
     "execution_count": 10,
     "metadata": {},
     "output_type": "execute_result"
    }
   ],
   "source": [
    "df.isnull().sum()"
   ]
  },
  {
   "cell_type": "markdown",
   "id": "b2cd92e7",
   "metadata": {},
   "source": [
    "# Movies count over the years"
   ]
  },
  {
   "cell_type": "code",
   "execution_count": 11,
   "id": "d07d565b",
   "metadata": {},
   "outputs": [
    {
     "data": {
      "text/plain": [
       "array([1920, 1921, 1922, 1924, 1925, 1926, 1927, 1928, 1930, 1931, 1932,\n",
       "       1933, 1934, 1935, 1936, 1937, 1938, 1939, 1940, 1941, 1942, 1943,\n",
       "       1944, 1945, 1946, 1947, 1948, 1949, 1950, 1951, 1952, 1953, 1954,\n",
       "       1955, 1956, 1957, 1958, 1959, 1960, 1961, 1962, 1963, 1964, 1965,\n",
       "       1966, 1967, 1968, 1969, 1970, 1971, 1972, 1973, 1974, 1975, 1976,\n",
       "       1977, 1978, 1979, 1980, 1981, 1982, 1983, 1984, 1985, 1986, 1987,\n",
       "       1988, 1989, 1990, 1991, 1992, 1993, 1994, 1995, 1996, 1997, 1998,\n",
       "       1999, 2000, 2001, 2002, 2003, 2004, 2005, 2006, 2007, 2008, 2009,\n",
       "       2010, 2011, 2012, 2013, 2014, 2015, 2016, 2017, 2018, 2019, 2020,\n",
       "       2021, 2022], dtype=int64)"
      ]
     },
     "execution_count": 11,
     "metadata": {},
     "output_type": "execute_result"
    }
   ],
   "source": [
    "df['Release Year'].sort_values().unique()"
   ]
  },
  {
   "cell_type": "code",
   "execution_count": 12,
   "id": "3d26e57c",
   "metadata": {},
   "outputs": [
    {
     "data": {
      "application/vnd.plotly.v1+json": {
       "config": {
        "plotlyServerURL": "https://plot.ly"
       },
       "data": [
        {
         "alignmentgroup": "True",
         "bingroup": "x",
         "hovertemplate": "Release Year=%{x}<br>count=%{y}<extra></extra>",
         "legendgroup": "",
         "marker": {
          "color": "gold",
          "pattern": {
           "shape": ""
          }
         },
         "name": "",
         "nbinsx": 103,
         "offsetgroup": "",
         "orientation": "v",
         "showlegend": false,
         "type": "histogram",
         "x": [
          1920,
          1921,
          1922,
          1924,
          1925,
          1925,
          1926,
          1927,
          1927,
          1928,
          1928,
          1930,
          1931,
          1931,
          1931,
          1932,
          1932,
          1933,
          1933,
          1933,
          1934,
          1934,
          1935,
          1935,
          1935,
          1936,
          1937,
          1937,
          1938,
          1938,
          1938,
          1938,
          1939,
          1939,
          1939,
          1939,
          1939,
          1940,
          1940,
          1940,
          1940,
          1940,
          1940,
          1940,
          1941,
          1941,
          1941,
          1942,
          1942,
          1943,
          1943,
          1944,
          1944,
          1944,
          1944,
          1945,
          1945,
          1945,
          1945,
          1946,
          1946,
          1946,
          1946,
          1946,
          1947,
          1947,
          1948,
          1948,
          1948,
          1948,
          1948,
          1948,
          1949,
          1949,
          1949,
          1950,
          1950,
          1950,
          1950,
          1950,
          1950,
          1951,
          1951,
          1951,
          1951,
          1951,
          1952,
          1952,
          1952,
          1952,
          1952,
          1953,
          1953,
          1953,
          1953,
          1953,
          1953,
          1954,
          1954,
          1954,
          1954,
          1954,
          1954,
          1954,
          1955,
          1955,
          1955,
          1955,
          1955,
          1955,
          1956,
          1956,
          1956,
          1956,
          1957,
          1957,
          1957,
          1957,
          1957,
          1957,
          1957,
          1957,
          1957,
          1958,
          1958,
          1958,
          1958,
          1958,
          1959,
          1959,
          1959,
          1959,
          1959,
          1959,
          1959,
          1960,
          1960,
          1960,
          1960,
          1960,
          1960,
          1960,
          1960,
          1960,
          1960,
          1961,
          1961,
          1961,
          1961,
          1961,
          1962,
          1962,
          1962,
          1962,
          1962,
          1962,
          1962,
          1962,
          1962,
          1962,
          1962,
          1962,
          1962,
          1963,
          1963,
          1963,
          1963,
          1963,
          1963,
          1964,
          1964,
          1964,
          1964,
          1964,
          1964,
          1964,
          1965,
          1965,
          1965,
          1965,
          1966,
          1966,
          1966,
          1966,
          1966,
          1966,
          1967,
          1967,
          1967,
          1967,
          1967,
          1967,
          1967,
          1967,
          1967,
          1967,
          1967,
          1968,
          1968,
          1968,
          1968,
          1968,
          1968,
          1968,
          1968,
          1969,
          1969,
          1969,
          1969,
          1970,
          1970,
          1970,
          1971,
          1971,
          1971,
          1971,
          1971,
          1971,
          1971,
          1971,
          1972,
          1972,
          1972,
          1972,
          1972,
          1972,
          1972,
          1972,
          1973,
          1973,
          1973,
          1973,
          1973,
          1973,
          1973,
          1973,
          1973,
          1973,
          1973,
          1974,
          1974,
          1974,
          1974,
          1974,
          1974,
          1975,
          1975,
          1975,
          1975,
          1975,
          1975,
          1975,
          1975,
          1975,
          1975,
          1975,
          1976,
          1976,
          1976,
          1976,
          1976,
          1976,
          1977,
          1977,
          1977,
          1978,
          1978,
          1978,
          1978,
          1978,
          1979,
          1979,
          1979,
          1979,
          1979,
          1979,
          1979,
          1979,
          1980,
          1980,
          1980,
          1980,
          1980,
          1980,
          1980,
          1980,
          1981,
          1981,
          1981,
          1982,
          1982,
          1982,
          1982,
          1982,
          1982,
          1982,
          1982,
          1982,
          1982,
          1982,
          1983,
          1983,
          1983,
          1983,
          1983,
          1983,
          1984,
          1984,
          1984,
          1984,
          1984,
          1984,
          1984,
          1984,
          1985,
          1985,
          1985,
          1985,
          1985,
          1985,
          1985,
          1985,
          1985,
          1986,
          1986,
          1986,
          1986,
          1986,
          1986,
          1986,
          1986,
          1986,
          1986,
          1986,
          1986,
          1987,
          1987,
          1987,
          1987,
          1987,
          1987,
          1987,
          1987,
          1987,
          1987,
          1987,
          1988,
          1988,
          1988,
          1988,
          1988,
          1988,
          1988,
          1988,
          1988,
          1988,
          1988,
          1989,
          1989,
          1989,
          1989,
          1989,
          1989,
          1989,
          1989,
          1989,
          1989,
          1989,
          1990,
          1990,
          1990,
          1990,
          1990,
          1990,
          1990,
          1990,
          1990,
          1991,
          1991,
          1991,
          1991,
          1991,
          1991,
          1991,
          1991,
          1991,
          1991,
          1992,
          1992,
          1992,
          1992,
          1992,
          1992,
          1992,
          1992,
          1992,
          1992,
          1992,
          1992,
          1993,
          1993,
          1993,
          1993,
          1993,
          1993,
          1993,
          1993,
          1993,
          1993,
          1993,
          1993,
          1993,
          1993,
          1993,
          1993,
          1993,
          1993,
          1993,
          1993,
          1993,
          1994,
          1994,
          1994,
          1994,
          1994,
          1994,
          1994,
          1994,
          1994,
          1994,
          1994,
          1994,
          1994,
          1995,
          1995,
          1995,
          1995,
          1995,
          1995,
          1995,
          1995,
          1995,
          1995,
          1995,
          1995,
          1995,
          1995,
          1995,
          1995,
          1995,
          1996,
          1996,
          1996,
          1996,
          1996,
          1996,
          1996,
          1996,
          1996,
          1997,
          1997,
          1997,
          1997,
          1997,
          1997,
          1997,
          1997,
          1997,
          1997,
          1997,
          1997,
          1997,
          1997,
          1997,
          1997,
          1997,
          1997,
          1997,
          1998,
          1998,
          1998,
          1998,
          1998,
          1998,
          1998,
          1998,
          1998,
          1998,
          1998,
          1998,
          1998,
          1998,
          1998,
          1998,
          1998,
          1999,
          1999,
          1999,
          1999,
          1999,
          1999,
          1999,
          1999,
          1999,
          1999,
          1999,
          1999,
          1999,
          1999,
          1999,
          1999,
          1999,
          2000,
          2000,
          2000,
          2000,
          2000,
          2000,
          2000,
          2000,
          2000,
          2000,
          2000,
          2000,
          2000,
          2000,
          2000,
          2000,
          2000,
          2000,
          2001,
          2001,
          2001,
          2001,
          2001,
          2001,
          2001,
          2001,
          2001,
          2001,
          2001,
          2001,
          2001,
          2001,
          2001,
          2001,
          2001,
          2001,
          2001,
          2001,
          2001,
          2001,
          2001,
          2001,
          2001,
          2001,
          2002,
          2002,
          2002,
          2002,
          2002,
          2002,
          2002,
          2002,
          2002,
          2002,
          2002,
          2002,
          2002,
          2002,
          2002,
          2002,
          2003,
          2003,
          2003,
          2003,
          2003,
          2003,
          2003,
          2003,
          2003,
          2003,
          2003,
          2003,
          2003,
          2003,
          2003,
          2003,
          2003,
          2003,
          2003,
          2003,
          2003,
          2003,
          2004,
          2004,
          2004,
          2004,
          2004,
          2004,
          2004,
          2004,
          2004,
          2004,
          2004,
          2004,
          2004,
          2004,
          2004,
          2004,
          2004,
          2004,
          2004,
          2004,
          2004,
          2004,
          2004,
          2004,
          2004,
          2004,
          2004,
          2004,
          2004,
          2004,
          2004,
          2004,
          2005,
          2005,
          2005,
          2005,
          2005,
          2005,
          2005,
          2005,
          2005,
          2005,
          2005,
          2005,
          2005,
          2005,
          2005,
          2005,
          2005,
          2006,
          2006,
          2006,
          2006,
          2006,
          2006,
          2006,
          2006,
          2006,
          2006,
          2006,
          2006,
          2006,
          2006,
          2006,
          2006,
          2006,
          2006,
          2006,
          2006,
          2006,
          2006,
          2006,
          2006,
          2006,
          2007,
          2007,
          2007,
          2007,
          2007,
          2007,
          2007,
          2007,
          2007,
          2007,
          2007,
          2007,
          2007,
          2007,
          2007,
          2007,
          2007,
          2007,
          2007,
          2007,
          2007,
          2007,
          2007,
          2007,
          2007,
          2008,
          2008,
          2008,
          2008,
          2008,
          2008,
          2008,
          2008,
          2008,
          2008,
          2008,
          2008,
          2008,
          2008,
          2008,
          2008,
          2008,
          2008,
          2008,
          2008,
          2009,
          2009,
          2009,
          2009,
          2009,
          2009,
          2009,
          2009,
          2009,
          2009,
          2009,
          2009,
          2009,
          2009,
          2009,
          2009,
          2009,
          2009,
          2009,
          2009,
          2009,
          2009,
          2009,
          2009,
          2009,
          2009,
          2010,
          2010,
          2010,
          2010,
          2010,
          2010,
          2010,
          2010,
          2010,
          2010,
          2010,
          2010,
          2010,
          2010,
          2010,
          2010,
          2010,
          2010,
          2010,
          2010,
          2010,
          2011,
          2011,
          2011,
          2011,
          2011,
          2011,
          2011,
          2011,
          2011,
          2011,
          2011,
          2011,
          2011,
          2011,
          2011,
          2011,
          2011,
          2012,
          2012,
          2012,
          2012,
          2012,
          2012,
          2012,
          2012,
          2012,
          2012,
          2012,
          2012,
          2012,
          2012,
          2012,
          2012,
          2012,
          2012,
          2012,
          2012,
          2012,
          2012,
          2012,
          2013,
          2013,
          2013,
          2013,
          2013,
          2013,
          2013,
          2013,
          2013,
          2013,
          2013,
          2013,
          2013,
          2013,
          2013,
          2013,
          2013,
          2013,
          2013,
          2013,
          2013,
          2013,
          2013,
          2013,
          2013,
          2013,
          2013,
          2014,
          2014,
          2014,
          2014,
          2014,
          2014,
          2014,
          2014,
          2014,
          2014,
          2014,
          2014,
          2014,
          2014,
          2014,
          2014,
          2014,
          2014,
          2014,
          2014,
          2014,
          2014,
          2014,
          2014,
          2014,
          2014,
          2014,
          2014,
          2014,
          2014,
          2014,
          2014,
          2015,
          2015,
          2015,
          2015,
          2015,
          2015,
          2015,
          2015,
          2015,
          2015,
          2015,
          2015,
          2015,
          2015,
          2015,
          2015,
          2015,
          2015,
          2015,
          2015,
          2015,
          2015,
          2015,
          2015,
          2016,
          2016,
          2016,
          2016,
          2016,
          2016,
          2016,
          2016,
          2016,
          2016,
          2016,
          2016,
          2016,
          2016,
          2016,
          2016,
          2016,
          2016,
          2016,
          2016,
          2016,
          2016,
          2016,
          2016,
          2016,
          2016,
          2016,
          2016,
          2017,
          2017,
          2017,
          2017,
          2017,
          2017,
          2017,
          2017,
          2017,
          2017,
          2017,
          2017,
          2017,
          2017,
          2017,
          2017,
          2017,
          2018,
          2018,
          2018,
          2018,
          2018,
          2018,
          2018,
          2018,
          2018,
          2018,
          2018,
          2018,
          2018,
          2018,
          2018,
          2018,
          2018,
          2018,
          2018,
          2018,
          2018,
          2019,
          2019,
          2019,
          2019,
          2019,
          2019,
          2019,
          2019,
          2019,
          2019,
          2019,
          2019,
          2019,
          2019,
          2019,
          2019,
          2019,
          2019,
          2019,
          2019,
          2019,
          2019,
          2019,
          2019,
          2019,
          2019,
          2020,
          2020,
          2020,
          2020,
          2020,
          2020,
          2020,
          2020,
          2021,
          2021,
          2021,
          2021,
          2021,
          2021,
          2021,
          2021,
          2021,
          2021,
          2022,
          2022,
          2022,
          2022,
          2022,
          2022,
          2022
         ],
         "xaxis": "x",
         "yaxis": "y"
        }
       ],
       "layout": {
        "bargap": 0.2,
        "barmode": "relative",
        "font": {
         "color": "white",
         "family": "Lato",
         "size": 18
        },
        "legend": {
         "tracegroupgap": 0
        },
        "margin": {
         "t": 60
        },
        "paper_bgcolor": "black",
        "plot_bgcolor": "black",
        "template": {
         "data": {
          "bar": [
           {
            "error_x": {
             "color": "#2a3f5f"
            },
            "error_y": {
             "color": "#2a3f5f"
            },
            "marker": {
             "line": {
              "color": "#E5ECF6",
              "width": 0.5
             },
             "pattern": {
              "fillmode": "overlay",
              "size": 10,
              "solidity": 0.2
             }
            },
            "type": "bar"
           }
          ],
          "barpolar": [
           {
            "marker": {
             "line": {
              "color": "#E5ECF6",
              "width": 0.5
             },
             "pattern": {
              "fillmode": "overlay",
              "size": 10,
              "solidity": 0.2
             }
            },
            "type": "barpolar"
           }
          ],
          "carpet": [
           {
            "aaxis": {
             "endlinecolor": "#2a3f5f",
             "gridcolor": "white",
             "linecolor": "white",
             "minorgridcolor": "white",
             "startlinecolor": "#2a3f5f"
            },
            "baxis": {
             "endlinecolor": "#2a3f5f",
             "gridcolor": "white",
             "linecolor": "white",
             "minorgridcolor": "white",
             "startlinecolor": "#2a3f5f"
            },
            "type": "carpet"
           }
          ],
          "choropleth": [
           {
            "colorbar": {
             "outlinewidth": 0,
             "ticks": ""
            },
            "type": "choropleth"
           }
          ],
          "contour": [
           {
            "colorbar": {
             "outlinewidth": 0,
             "ticks": ""
            },
            "colorscale": [
             [
              0,
              "#0d0887"
             ],
             [
              0.1111111111111111,
              "#46039f"
             ],
             [
              0.2222222222222222,
              "#7201a8"
             ],
             [
              0.3333333333333333,
              "#9c179e"
             ],
             [
              0.4444444444444444,
              "#bd3786"
             ],
             [
              0.5555555555555556,
              "#d8576b"
             ],
             [
              0.6666666666666666,
              "#ed7953"
             ],
             [
              0.7777777777777778,
              "#fb9f3a"
             ],
             [
              0.8888888888888888,
              "#fdca26"
             ],
             [
              1,
              "#f0f921"
             ]
            ],
            "type": "contour"
           }
          ],
          "contourcarpet": [
           {
            "colorbar": {
             "outlinewidth": 0,
             "ticks": ""
            },
            "type": "contourcarpet"
           }
          ],
          "heatmap": [
           {
            "colorbar": {
             "outlinewidth": 0,
             "ticks": ""
            },
            "colorscale": [
             [
              0,
              "#0d0887"
             ],
             [
              0.1111111111111111,
              "#46039f"
             ],
             [
              0.2222222222222222,
              "#7201a8"
             ],
             [
              0.3333333333333333,
              "#9c179e"
             ],
             [
              0.4444444444444444,
              "#bd3786"
             ],
             [
              0.5555555555555556,
              "#d8576b"
             ],
             [
              0.6666666666666666,
              "#ed7953"
             ],
             [
              0.7777777777777778,
              "#fb9f3a"
             ],
             [
              0.8888888888888888,
              "#fdca26"
             ],
             [
              1,
              "#f0f921"
             ]
            ],
            "type": "heatmap"
           }
          ],
          "heatmapgl": [
           {
            "colorbar": {
             "outlinewidth": 0,
             "ticks": ""
            },
            "colorscale": [
             [
              0,
              "#0d0887"
             ],
             [
              0.1111111111111111,
              "#46039f"
             ],
             [
              0.2222222222222222,
              "#7201a8"
             ],
             [
              0.3333333333333333,
              "#9c179e"
             ],
             [
              0.4444444444444444,
              "#bd3786"
             ],
             [
              0.5555555555555556,
              "#d8576b"
             ],
             [
              0.6666666666666666,
              "#ed7953"
             ],
             [
              0.7777777777777778,
              "#fb9f3a"
             ],
             [
              0.8888888888888888,
              "#fdca26"
             ],
             [
              1,
              "#f0f921"
             ]
            ],
            "type": "heatmapgl"
           }
          ],
          "histogram": [
           {
            "marker": {
             "pattern": {
              "fillmode": "overlay",
              "size": 10,
              "solidity": 0.2
             }
            },
            "type": "histogram"
           }
          ],
          "histogram2d": [
           {
            "colorbar": {
             "outlinewidth": 0,
             "ticks": ""
            },
            "colorscale": [
             [
              0,
              "#0d0887"
             ],
             [
              0.1111111111111111,
              "#46039f"
             ],
             [
              0.2222222222222222,
              "#7201a8"
             ],
             [
              0.3333333333333333,
              "#9c179e"
             ],
             [
              0.4444444444444444,
              "#bd3786"
             ],
             [
              0.5555555555555556,
              "#d8576b"
             ],
             [
              0.6666666666666666,
              "#ed7953"
             ],
             [
              0.7777777777777778,
              "#fb9f3a"
             ],
             [
              0.8888888888888888,
              "#fdca26"
             ],
             [
              1,
              "#f0f921"
             ]
            ],
            "type": "histogram2d"
           }
          ],
          "histogram2dcontour": [
           {
            "colorbar": {
             "outlinewidth": 0,
             "ticks": ""
            },
            "colorscale": [
             [
              0,
              "#0d0887"
             ],
             [
              0.1111111111111111,
              "#46039f"
             ],
             [
              0.2222222222222222,
              "#7201a8"
             ],
             [
              0.3333333333333333,
              "#9c179e"
             ],
             [
              0.4444444444444444,
              "#bd3786"
             ],
             [
              0.5555555555555556,
              "#d8576b"
             ],
             [
              0.6666666666666666,
              "#ed7953"
             ],
             [
              0.7777777777777778,
              "#fb9f3a"
             ],
             [
              0.8888888888888888,
              "#fdca26"
             ],
             [
              1,
              "#f0f921"
             ]
            ],
            "type": "histogram2dcontour"
           }
          ],
          "mesh3d": [
           {
            "colorbar": {
             "outlinewidth": 0,
             "ticks": ""
            },
            "type": "mesh3d"
           }
          ],
          "parcoords": [
           {
            "line": {
             "colorbar": {
              "outlinewidth": 0,
              "ticks": ""
             }
            },
            "type": "parcoords"
           }
          ],
          "pie": [
           {
            "automargin": true,
            "type": "pie"
           }
          ],
          "scatter": [
           {
            "marker": {
             "colorbar": {
              "outlinewidth": 0,
              "ticks": ""
             }
            },
            "type": "scatter"
           }
          ],
          "scatter3d": [
           {
            "line": {
             "colorbar": {
              "outlinewidth": 0,
              "ticks": ""
             }
            },
            "marker": {
             "colorbar": {
              "outlinewidth": 0,
              "ticks": ""
             }
            },
            "type": "scatter3d"
           }
          ],
          "scattercarpet": [
           {
            "marker": {
             "colorbar": {
              "outlinewidth": 0,
              "ticks": ""
             }
            },
            "type": "scattercarpet"
           }
          ],
          "scattergeo": [
           {
            "marker": {
             "colorbar": {
              "outlinewidth": 0,
              "ticks": ""
             }
            },
            "type": "scattergeo"
           }
          ],
          "scattergl": [
           {
            "marker": {
             "colorbar": {
              "outlinewidth": 0,
              "ticks": ""
             }
            },
            "type": "scattergl"
           }
          ],
          "scattermapbox": [
           {
            "marker": {
             "colorbar": {
              "outlinewidth": 0,
              "ticks": ""
             }
            },
            "type": "scattermapbox"
           }
          ],
          "scatterpolar": [
           {
            "marker": {
             "colorbar": {
              "outlinewidth": 0,
              "ticks": ""
             }
            },
            "type": "scatterpolar"
           }
          ],
          "scatterpolargl": [
           {
            "marker": {
             "colorbar": {
              "outlinewidth": 0,
              "ticks": ""
             }
            },
            "type": "scatterpolargl"
           }
          ],
          "scatterternary": [
           {
            "marker": {
             "colorbar": {
              "outlinewidth": 0,
              "ticks": ""
             }
            },
            "type": "scatterternary"
           }
          ],
          "surface": [
           {
            "colorbar": {
             "outlinewidth": 0,
             "ticks": ""
            },
            "colorscale": [
             [
              0,
              "#0d0887"
             ],
             [
              0.1111111111111111,
              "#46039f"
             ],
             [
              0.2222222222222222,
              "#7201a8"
             ],
             [
              0.3333333333333333,
              "#9c179e"
             ],
             [
              0.4444444444444444,
              "#bd3786"
             ],
             [
              0.5555555555555556,
              "#d8576b"
             ],
             [
              0.6666666666666666,
              "#ed7953"
             ],
             [
              0.7777777777777778,
              "#fb9f3a"
             ],
             [
              0.8888888888888888,
              "#fdca26"
             ],
             [
              1,
              "#f0f921"
             ]
            ],
            "type": "surface"
           }
          ],
          "table": [
           {
            "cells": {
             "fill": {
              "color": "#EBF0F8"
             },
             "line": {
              "color": "white"
             }
            },
            "header": {
             "fill": {
              "color": "#C8D4E3"
             },
             "line": {
              "color": "white"
             }
            },
            "type": "table"
           }
          ]
         },
         "layout": {
          "annotationdefaults": {
           "arrowcolor": "#2a3f5f",
           "arrowhead": 0,
           "arrowwidth": 1
          },
          "autotypenumbers": "strict",
          "coloraxis": {
           "colorbar": {
            "outlinewidth": 0,
            "ticks": ""
           }
          },
          "colorscale": {
           "diverging": [
            [
             0,
             "#8e0152"
            ],
            [
             0.1,
             "#c51b7d"
            ],
            [
             0.2,
             "#de77ae"
            ],
            [
             0.3,
             "#f1b6da"
            ],
            [
             0.4,
             "#fde0ef"
            ],
            [
             0.5,
             "#f7f7f7"
            ],
            [
             0.6,
             "#e6f5d0"
            ],
            [
             0.7,
             "#b8e186"
            ],
            [
             0.8,
             "#7fbc41"
            ],
            [
             0.9,
             "#4d9221"
            ],
            [
             1,
             "#276419"
            ]
           ],
           "sequential": [
            [
             0,
             "#0d0887"
            ],
            [
             0.1111111111111111,
             "#46039f"
            ],
            [
             0.2222222222222222,
             "#7201a8"
            ],
            [
             0.3333333333333333,
             "#9c179e"
            ],
            [
             0.4444444444444444,
             "#bd3786"
            ],
            [
             0.5555555555555556,
             "#d8576b"
            ],
            [
             0.6666666666666666,
             "#ed7953"
            ],
            [
             0.7777777777777778,
             "#fb9f3a"
            ],
            [
             0.8888888888888888,
             "#fdca26"
            ],
            [
             1,
             "#f0f921"
            ]
           ],
           "sequentialminus": [
            [
             0,
             "#0d0887"
            ],
            [
             0.1111111111111111,
             "#46039f"
            ],
            [
             0.2222222222222222,
             "#7201a8"
            ],
            [
             0.3333333333333333,
             "#9c179e"
            ],
            [
             0.4444444444444444,
             "#bd3786"
            ],
            [
             0.5555555555555556,
             "#d8576b"
            ],
            [
             0.6666666666666666,
             "#ed7953"
            ],
            [
             0.7777777777777778,
             "#fb9f3a"
            ],
            [
             0.8888888888888888,
             "#fdca26"
            ],
            [
             1,
             "#f0f921"
            ]
           ]
          },
          "colorway": [
           "#636efa",
           "#EF553B",
           "#00cc96",
           "#ab63fa",
           "#FFA15A",
           "#19d3f3",
           "#FF6692",
           "#B6E880",
           "#FF97FF",
           "#FECB52"
          ],
          "font": {
           "color": "#2a3f5f"
          },
          "geo": {
           "bgcolor": "white",
           "lakecolor": "white",
           "landcolor": "#E5ECF6",
           "showlakes": true,
           "showland": true,
           "subunitcolor": "white"
          },
          "hoverlabel": {
           "align": "left"
          },
          "hovermode": "closest",
          "mapbox": {
           "style": "light"
          },
          "paper_bgcolor": "white",
          "plot_bgcolor": "#E5ECF6",
          "polar": {
           "angularaxis": {
            "gridcolor": "white",
            "linecolor": "white",
            "ticks": ""
           },
           "bgcolor": "#E5ECF6",
           "radialaxis": {
            "gridcolor": "white",
            "linecolor": "white",
            "ticks": ""
           }
          },
          "scene": {
           "xaxis": {
            "backgroundcolor": "#E5ECF6",
            "gridcolor": "white",
            "gridwidth": 2,
            "linecolor": "white",
            "showbackground": true,
            "ticks": "",
            "zerolinecolor": "white"
           },
           "yaxis": {
            "backgroundcolor": "#E5ECF6",
            "gridcolor": "white",
            "gridwidth": 2,
            "linecolor": "white",
            "showbackground": true,
            "ticks": "",
            "zerolinecolor": "white"
           },
           "zaxis": {
            "backgroundcolor": "#E5ECF6",
            "gridcolor": "white",
            "gridwidth": 2,
            "linecolor": "white",
            "showbackground": true,
            "ticks": "",
            "zerolinecolor": "white"
           }
          },
          "shapedefaults": {
           "line": {
            "color": "#2a3f5f"
           }
          },
          "ternary": {
           "aaxis": {
            "gridcolor": "white",
            "linecolor": "white",
            "ticks": ""
           },
           "baxis": {
            "gridcolor": "white",
            "linecolor": "white",
            "ticks": ""
           },
           "bgcolor": "#E5ECF6",
           "caxis": {
            "gridcolor": "white",
            "linecolor": "white",
            "ticks": ""
           }
          },
          "title": {
           "x": 0.05
          },
          "xaxis": {
           "automargin": true,
           "gridcolor": "white",
           "linecolor": "white",
           "ticks": "",
           "title": {
            "standoff": 15
           },
           "zerolinecolor": "white",
           "zerolinewidth": 2
          },
          "yaxis": {
           "automargin": true,
           "gridcolor": "white",
           "linecolor": "white",
           "ticks": "",
           "title": {
            "standoff": 15
           },
           "zerolinecolor": "white",
           "zerolinewidth": 2
          }
         }
        },
        "title": {
         "font": {
          "size": 30
         },
         "text": "<b>Distributions of IMBD movies from<b> 1920 - now",
         "x": 0.5
        },
        "xaxis": {
         "anchor": "y",
         "domain": [
          0,
          1
         ],
         "showgrid": false,
         "title": {
          "text": "Year of release"
         }
        },
        "yaxis": {
         "anchor": "x",
         "domain": [
          0,
          1
         ],
         "showgrid": false,
         "title": {
          "text": "count"
         }
        }
       }
      },
      "text/html": [
       "<div>                            <div id=\"96841c58-c281-4c23-ad10-15da7200bf63\" class=\"plotly-graph-div\" style=\"height:525px; width:100%;\"></div>            <script type=\"text/javascript\">                require([\"plotly\"], function(Plotly) {                    window.PLOTLYENV=window.PLOTLYENV || {};                                    if (document.getElementById(\"96841c58-c281-4c23-ad10-15da7200bf63\")) {                    Plotly.newPlot(                        \"96841c58-c281-4c23-ad10-15da7200bf63\",                        [{\"alignmentgroup\":\"True\",\"bingroup\":\"x\",\"hovertemplate\":\"Release Year=%{x}<br>count=%{y}<extra></extra>\",\"legendgroup\":\"\",\"marker\":{\"color\":\"gold\",\"pattern\":{\"shape\":\"\"}},\"name\":\"\",\"nbinsx\":103,\"offsetgroup\":\"\",\"orientation\":\"v\",\"showlegend\":false,\"type\":\"histogram\",\"x\":[1920,1921,1922,1924,1925,1925,1926,1927,1927,1928,1928,1930,1931,1931,1931,1932,1932,1933,1933,1933,1934,1934,1935,1935,1935,1936,1937,1937,1938,1938,1938,1938,1939,1939,1939,1939,1939,1940,1940,1940,1940,1940,1940,1940,1941,1941,1941,1942,1942,1943,1943,1944,1944,1944,1944,1945,1945,1945,1945,1946,1946,1946,1946,1946,1947,1947,1948,1948,1948,1948,1948,1948,1949,1949,1949,1950,1950,1950,1950,1950,1950,1951,1951,1951,1951,1951,1952,1952,1952,1952,1952,1953,1953,1953,1953,1953,1953,1954,1954,1954,1954,1954,1954,1954,1955,1955,1955,1955,1955,1955,1956,1956,1956,1956,1957,1957,1957,1957,1957,1957,1957,1957,1957,1958,1958,1958,1958,1958,1959,1959,1959,1959,1959,1959,1959,1960,1960,1960,1960,1960,1960,1960,1960,1960,1960,1961,1961,1961,1961,1961,1962,1962,1962,1962,1962,1962,1962,1962,1962,1962,1962,1962,1962,1963,1963,1963,1963,1963,1963,1964,1964,1964,1964,1964,1964,1964,1965,1965,1965,1965,1966,1966,1966,1966,1966,1966,1967,1967,1967,1967,1967,1967,1967,1967,1967,1967,1967,1968,1968,1968,1968,1968,1968,1968,1968,1969,1969,1969,1969,1970,1970,1970,1971,1971,1971,1971,1971,1971,1971,1971,1972,1972,1972,1972,1972,1972,1972,1972,1973,1973,1973,1973,1973,1973,1973,1973,1973,1973,1973,1974,1974,1974,1974,1974,1974,1975,1975,1975,1975,1975,1975,1975,1975,1975,1975,1975,1976,1976,1976,1976,1976,1976,1977,1977,1977,1978,1978,1978,1978,1978,1979,1979,1979,1979,1979,1979,1979,1979,1980,1980,1980,1980,1980,1980,1980,1980,1981,1981,1981,1982,1982,1982,1982,1982,1982,1982,1982,1982,1982,1982,1983,1983,1983,1983,1983,1983,1984,1984,1984,1984,1984,1984,1984,1984,1985,1985,1985,1985,1985,1985,1985,1985,1985,1986,1986,1986,1986,1986,1986,1986,1986,1986,1986,1986,1986,1987,1987,1987,1987,1987,1987,1987,1987,1987,1987,1987,1988,1988,1988,1988,1988,1988,1988,1988,1988,1988,1988,1989,1989,1989,1989,1989,1989,1989,1989,1989,1989,1989,1990,1990,1990,1990,1990,1990,1990,1990,1990,1991,1991,1991,1991,1991,1991,1991,1991,1991,1991,1992,1992,1992,1992,1992,1992,1992,1992,1992,1992,1992,1992,1993,1993,1993,1993,1993,1993,1993,1993,1993,1993,1993,1993,1993,1993,1993,1993,1993,1993,1993,1993,1993,1994,1994,1994,1994,1994,1994,1994,1994,1994,1994,1994,1994,1994,1995,1995,1995,1995,1995,1995,1995,1995,1995,1995,1995,1995,1995,1995,1995,1995,1995,1996,1996,1996,1996,1996,1996,1996,1996,1996,1997,1997,1997,1997,1997,1997,1997,1997,1997,1997,1997,1997,1997,1997,1997,1997,1997,1997,1997,1998,1998,1998,1998,1998,1998,1998,1998,1998,1998,1998,1998,1998,1998,1998,1998,1998,1999,1999,1999,1999,1999,1999,1999,1999,1999,1999,1999,1999,1999,1999,1999,1999,1999,2000,2000,2000,2000,2000,2000,2000,2000,2000,2000,2000,2000,2000,2000,2000,2000,2000,2000,2001,2001,2001,2001,2001,2001,2001,2001,2001,2001,2001,2001,2001,2001,2001,2001,2001,2001,2001,2001,2001,2001,2001,2001,2001,2001,2002,2002,2002,2002,2002,2002,2002,2002,2002,2002,2002,2002,2002,2002,2002,2002,2003,2003,2003,2003,2003,2003,2003,2003,2003,2003,2003,2003,2003,2003,2003,2003,2003,2003,2003,2003,2003,2003,2004,2004,2004,2004,2004,2004,2004,2004,2004,2004,2004,2004,2004,2004,2004,2004,2004,2004,2004,2004,2004,2004,2004,2004,2004,2004,2004,2004,2004,2004,2004,2004,2005,2005,2005,2005,2005,2005,2005,2005,2005,2005,2005,2005,2005,2005,2005,2005,2005,2006,2006,2006,2006,2006,2006,2006,2006,2006,2006,2006,2006,2006,2006,2006,2006,2006,2006,2006,2006,2006,2006,2006,2006,2006,2007,2007,2007,2007,2007,2007,2007,2007,2007,2007,2007,2007,2007,2007,2007,2007,2007,2007,2007,2007,2007,2007,2007,2007,2007,2008,2008,2008,2008,2008,2008,2008,2008,2008,2008,2008,2008,2008,2008,2008,2008,2008,2008,2008,2008,2009,2009,2009,2009,2009,2009,2009,2009,2009,2009,2009,2009,2009,2009,2009,2009,2009,2009,2009,2009,2009,2009,2009,2009,2009,2009,2010,2010,2010,2010,2010,2010,2010,2010,2010,2010,2010,2010,2010,2010,2010,2010,2010,2010,2010,2010,2010,2011,2011,2011,2011,2011,2011,2011,2011,2011,2011,2011,2011,2011,2011,2011,2011,2011,2012,2012,2012,2012,2012,2012,2012,2012,2012,2012,2012,2012,2012,2012,2012,2012,2012,2012,2012,2012,2012,2012,2012,2013,2013,2013,2013,2013,2013,2013,2013,2013,2013,2013,2013,2013,2013,2013,2013,2013,2013,2013,2013,2013,2013,2013,2013,2013,2013,2013,2014,2014,2014,2014,2014,2014,2014,2014,2014,2014,2014,2014,2014,2014,2014,2014,2014,2014,2014,2014,2014,2014,2014,2014,2014,2014,2014,2014,2014,2014,2014,2014,2015,2015,2015,2015,2015,2015,2015,2015,2015,2015,2015,2015,2015,2015,2015,2015,2015,2015,2015,2015,2015,2015,2015,2015,2016,2016,2016,2016,2016,2016,2016,2016,2016,2016,2016,2016,2016,2016,2016,2016,2016,2016,2016,2016,2016,2016,2016,2016,2016,2016,2016,2016,2017,2017,2017,2017,2017,2017,2017,2017,2017,2017,2017,2017,2017,2017,2017,2017,2017,2018,2018,2018,2018,2018,2018,2018,2018,2018,2018,2018,2018,2018,2018,2018,2018,2018,2018,2018,2018,2018,2019,2019,2019,2019,2019,2019,2019,2019,2019,2019,2019,2019,2019,2019,2019,2019,2019,2019,2019,2019,2019,2019,2019,2019,2019,2019,2020,2020,2020,2020,2020,2020,2020,2020,2021,2021,2021,2021,2021,2021,2021,2021,2021,2021,2022,2022,2022,2022,2022,2022,2022],\"xaxis\":\"x\",\"yaxis\":\"y\"}],                        {\"bargap\":0.2,\"barmode\":\"relative\",\"font\":{\"color\":\"white\",\"family\":\"Lato\",\"size\":18},\"legend\":{\"tracegroupgap\":0},\"margin\":{\"t\":60},\"paper_bgcolor\":\"black\",\"plot_bgcolor\":\"black\",\"template\":{\"data\":{\"bar\":[{\"error_x\":{\"color\":\"#2a3f5f\"},\"error_y\":{\"color\":\"#2a3f5f\"},\"marker\":{\"line\":{\"color\":\"#E5ECF6\",\"width\":0.5},\"pattern\":{\"fillmode\":\"overlay\",\"size\":10,\"solidity\":0.2}},\"type\":\"bar\"}],\"barpolar\":[{\"marker\":{\"line\":{\"color\":\"#E5ECF6\",\"width\":0.5},\"pattern\":{\"fillmode\":\"overlay\",\"size\":10,\"solidity\":0.2}},\"type\":\"barpolar\"}],\"carpet\":[{\"aaxis\":{\"endlinecolor\":\"#2a3f5f\",\"gridcolor\":\"white\",\"linecolor\":\"white\",\"minorgridcolor\":\"white\",\"startlinecolor\":\"#2a3f5f\"},\"baxis\":{\"endlinecolor\":\"#2a3f5f\",\"gridcolor\":\"white\",\"linecolor\":\"white\",\"minorgridcolor\":\"white\",\"startlinecolor\":\"#2a3f5f\"},\"type\":\"carpet\"}],\"choropleth\":[{\"colorbar\":{\"outlinewidth\":0,\"ticks\":\"\"},\"type\":\"choropleth\"}],\"contour\":[{\"colorbar\":{\"outlinewidth\":0,\"ticks\":\"\"},\"colorscale\":[[0.0,\"#0d0887\"],[0.1111111111111111,\"#46039f\"],[0.2222222222222222,\"#7201a8\"],[0.3333333333333333,\"#9c179e\"],[0.4444444444444444,\"#bd3786\"],[0.5555555555555556,\"#d8576b\"],[0.6666666666666666,\"#ed7953\"],[0.7777777777777778,\"#fb9f3a\"],[0.8888888888888888,\"#fdca26\"],[1.0,\"#f0f921\"]],\"type\":\"contour\"}],\"contourcarpet\":[{\"colorbar\":{\"outlinewidth\":0,\"ticks\":\"\"},\"type\":\"contourcarpet\"}],\"heatmap\":[{\"colorbar\":{\"outlinewidth\":0,\"ticks\":\"\"},\"colorscale\":[[0.0,\"#0d0887\"],[0.1111111111111111,\"#46039f\"],[0.2222222222222222,\"#7201a8\"],[0.3333333333333333,\"#9c179e\"],[0.4444444444444444,\"#bd3786\"],[0.5555555555555556,\"#d8576b\"],[0.6666666666666666,\"#ed7953\"],[0.7777777777777778,\"#fb9f3a\"],[0.8888888888888888,\"#fdca26\"],[1.0,\"#f0f921\"]],\"type\":\"heatmap\"}],\"heatmapgl\":[{\"colorbar\":{\"outlinewidth\":0,\"ticks\":\"\"},\"colorscale\":[[0.0,\"#0d0887\"],[0.1111111111111111,\"#46039f\"],[0.2222222222222222,\"#7201a8\"],[0.3333333333333333,\"#9c179e\"],[0.4444444444444444,\"#bd3786\"],[0.5555555555555556,\"#d8576b\"],[0.6666666666666666,\"#ed7953\"],[0.7777777777777778,\"#fb9f3a\"],[0.8888888888888888,\"#fdca26\"],[1.0,\"#f0f921\"]],\"type\":\"heatmapgl\"}],\"histogram\":[{\"marker\":{\"pattern\":{\"fillmode\":\"overlay\",\"size\":10,\"solidity\":0.2}},\"type\":\"histogram\"}],\"histogram2d\":[{\"colorbar\":{\"outlinewidth\":0,\"ticks\":\"\"},\"colorscale\":[[0.0,\"#0d0887\"],[0.1111111111111111,\"#46039f\"],[0.2222222222222222,\"#7201a8\"],[0.3333333333333333,\"#9c179e\"],[0.4444444444444444,\"#bd3786\"],[0.5555555555555556,\"#d8576b\"],[0.6666666666666666,\"#ed7953\"],[0.7777777777777778,\"#fb9f3a\"],[0.8888888888888888,\"#fdca26\"],[1.0,\"#f0f921\"]],\"type\":\"histogram2d\"}],\"histogram2dcontour\":[{\"colorbar\":{\"outlinewidth\":0,\"ticks\":\"\"},\"colorscale\":[[0.0,\"#0d0887\"],[0.1111111111111111,\"#46039f\"],[0.2222222222222222,\"#7201a8\"],[0.3333333333333333,\"#9c179e\"],[0.4444444444444444,\"#bd3786\"],[0.5555555555555556,\"#d8576b\"],[0.6666666666666666,\"#ed7953\"],[0.7777777777777778,\"#fb9f3a\"],[0.8888888888888888,\"#fdca26\"],[1.0,\"#f0f921\"]],\"type\":\"histogram2dcontour\"}],\"mesh3d\":[{\"colorbar\":{\"outlinewidth\":0,\"ticks\":\"\"},\"type\":\"mesh3d\"}],\"parcoords\":[{\"line\":{\"colorbar\":{\"outlinewidth\":0,\"ticks\":\"\"}},\"type\":\"parcoords\"}],\"pie\":[{\"automargin\":true,\"type\":\"pie\"}],\"scatter\":[{\"marker\":{\"colorbar\":{\"outlinewidth\":0,\"ticks\":\"\"}},\"type\":\"scatter\"}],\"scatter3d\":[{\"line\":{\"colorbar\":{\"outlinewidth\":0,\"ticks\":\"\"}},\"marker\":{\"colorbar\":{\"outlinewidth\":0,\"ticks\":\"\"}},\"type\":\"scatter3d\"}],\"scattercarpet\":[{\"marker\":{\"colorbar\":{\"outlinewidth\":0,\"ticks\":\"\"}},\"type\":\"scattercarpet\"}],\"scattergeo\":[{\"marker\":{\"colorbar\":{\"outlinewidth\":0,\"ticks\":\"\"}},\"type\":\"scattergeo\"}],\"scattergl\":[{\"marker\":{\"colorbar\":{\"outlinewidth\":0,\"ticks\":\"\"}},\"type\":\"scattergl\"}],\"scattermapbox\":[{\"marker\":{\"colorbar\":{\"outlinewidth\":0,\"ticks\":\"\"}},\"type\":\"scattermapbox\"}],\"scatterpolar\":[{\"marker\":{\"colorbar\":{\"outlinewidth\":0,\"ticks\":\"\"}},\"type\":\"scatterpolar\"}],\"scatterpolargl\":[{\"marker\":{\"colorbar\":{\"outlinewidth\":0,\"ticks\":\"\"}},\"type\":\"scatterpolargl\"}],\"scatterternary\":[{\"marker\":{\"colorbar\":{\"outlinewidth\":0,\"ticks\":\"\"}},\"type\":\"scatterternary\"}],\"surface\":[{\"colorbar\":{\"outlinewidth\":0,\"ticks\":\"\"},\"colorscale\":[[0.0,\"#0d0887\"],[0.1111111111111111,\"#46039f\"],[0.2222222222222222,\"#7201a8\"],[0.3333333333333333,\"#9c179e\"],[0.4444444444444444,\"#bd3786\"],[0.5555555555555556,\"#d8576b\"],[0.6666666666666666,\"#ed7953\"],[0.7777777777777778,\"#fb9f3a\"],[0.8888888888888888,\"#fdca26\"],[1.0,\"#f0f921\"]],\"type\":\"surface\"}],\"table\":[{\"cells\":{\"fill\":{\"color\":\"#EBF0F8\"},\"line\":{\"color\":\"white\"}},\"header\":{\"fill\":{\"color\":\"#C8D4E3\"},\"line\":{\"color\":\"white\"}},\"type\":\"table\"}]},\"layout\":{\"annotationdefaults\":{\"arrowcolor\":\"#2a3f5f\",\"arrowhead\":0,\"arrowwidth\":1},\"autotypenumbers\":\"strict\",\"coloraxis\":{\"colorbar\":{\"outlinewidth\":0,\"ticks\":\"\"}},\"colorscale\":{\"diverging\":[[0,\"#8e0152\"],[0.1,\"#c51b7d\"],[0.2,\"#de77ae\"],[0.3,\"#f1b6da\"],[0.4,\"#fde0ef\"],[0.5,\"#f7f7f7\"],[0.6,\"#e6f5d0\"],[0.7,\"#b8e186\"],[0.8,\"#7fbc41\"],[0.9,\"#4d9221\"],[1,\"#276419\"]],\"sequential\":[[0.0,\"#0d0887\"],[0.1111111111111111,\"#46039f\"],[0.2222222222222222,\"#7201a8\"],[0.3333333333333333,\"#9c179e\"],[0.4444444444444444,\"#bd3786\"],[0.5555555555555556,\"#d8576b\"],[0.6666666666666666,\"#ed7953\"],[0.7777777777777778,\"#fb9f3a\"],[0.8888888888888888,\"#fdca26\"],[1.0,\"#f0f921\"]],\"sequentialminus\":[[0.0,\"#0d0887\"],[0.1111111111111111,\"#46039f\"],[0.2222222222222222,\"#7201a8\"],[0.3333333333333333,\"#9c179e\"],[0.4444444444444444,\"#bd3786\"],[0.5555555555555556,\"#d8576b\"],[0.6666666666666666,\"#ed7953\"],[0.7777777777777778,\"#fb9f3a\"],[0.8888888888888888,\"#fdca26\"],[1.0,\"#f0f921\"]]},\"colorway\":[\"#636efa\",\"#EF553B\",\"#00cc96\",\"#ab63fa\",\"#FFA15A\",\"#19d3f3\",\"#FF6692\",\"#B6E880\",\"#FF97FF\",\"#FECB52\"],\"font\":{\"color\":\"#2a3f5f\"},\"geo\":{\"bgcolor\":\"white\",\"lakecolor\":\"white\",\"landcolor\":\"#E5ECF6\",\"showlakes\":true,\"showland\":true,\"subunitcolor\":\"white\"},\"hoverlabel\":{\"align\":\"left\"},\"hovermode\":\"closest\",\"mapbox\":{\"style\":\"light\"},\"paper_bgcolor\":\"white\",\"plot_bgcolor\":\"#E5ECF6\",\"polar\":{\"angularaxis\":{\"gridcolor\":\"white\",\"linecolor\":\"white\",\"ticks\":\"\"},\"bgcolor\":\"#E5ECF6\",\"radialaxis\":{\"gridcolor\":\"white\",\"linecolor\":\"white\",\"ticks\":\"\"}},\"scene\":{\"xaxis\":{\"backgroundcolor\":\"#E5ECF6\",\"gridcolor\":\"white\",\"gridwidth\":2,\"linecolor\":\"white\",\"showbackground\":true,\"ticks\":\"\",\"zerolinecolor\":\"white\"},\"yaxis\":{\"backgroundcolor\":\"#E5ECF6\",\"gridcolor\":\"white\",\"gridwidth\":2,\"linecolor\":\"white\",\"showbackground\":true,\"ticks\":\"\",\"zerolinecolor\":\"white\"},\"zaxis\":{\"backgroundcolor\":\"#E5ECF6\",\"gridcolor\":\"white\",\"gridwidth\":2,\"linecolor\":\"white\",\"showbackground\":true,\"ticks\":\"\",\"zerolinecolor\":\"white\"}},\"shapedefaults\":{\"line\":{\"color\":\"#2a3f5f\"}},\"ternary\":{\"aaxis\":{\"gridcolor\":\"white\",\"linecolor\":\"white\",\"ticks\":\"\"},\"baxis\":{\"gridcolor\":\"white\",\"linecolor\":\"white\",\"ticks\":\"\"},\"bgcolor\":\"#E5ECF6\",\"caxis\":{\"gridcolor\":\"white\",\"linecolor\":\"white\",\"ticks\":\"\"}},\"title\":{\"x\":0.05},\"xaxis\":{\"automargin\":true,\"gridcolor\":\"white\",\"linecolor\":\"white\",\"ticks\":\"\",\"title\":{\"standoff\":15},\"zerolinecolor\":\"white\",\"zerolinewidth\":2},\"yaxis\":{\"automargin\":true,\"gridcolor\":\"white\",\"linecolor\":\"white\",\"ticks\":\"\",\"title\":{\"standoff\":15},\"zerolinecolor\":\"white\",\"zerolinewidth\":2}}},\"title\":{\"font\":{\"size\":30},\"text\":\"<b>Distributions of IMBD movies from<b> 1920 - now\",\"x\":0.5},\"xaxis\":{\"anchor\":\"y\",\"domain\":[0.0,1.0],\"showgrid\":false,\"title\":{\"text\":\"Year of release\"}},\"yaxis\":{\"anchor\":\"x\",\"domain\":[0.0,1.0],\"showgrid\":false,\"title\":{\"text\":\"count\"}}},                        {\"responsive\": true}                    ).then(function(){\n",
       "                            \n",
       "var gd = document.getElementById('96841c58-c281-4c23-ad10-15da7200bf63');\n",
       "var x = new MutationObserver(function (mutations, observer) {{\n",
       "        var display = window.getComputedStyle(gd).display;\n",
       "        if (!display || display === 'none') {{\n",
       "            console.log([gd, 'removed!']);\n",
       "            Plotly.purge(gd);\n",
       "            observer.disconnect();\n",
       "        }}\n",
       "}});\n",
       "\n",
       "// Listen for the removal of the full notebook cells\n",
       "var notebookContainer = gd.closest('#notebook-container');\n",
       "if (notebookContainer) {{\n",
       "    x.observe(notebookContainer, {childList: true});\n",
       "}}\n",
       "\n",
       "// Listen for the clearing of the current output cell\n",
       "var outputEl = gd.closest('.output');\n",
       "if (outputEl) {{\n",
       "    x.observe(outputEl, {childList: true});\n",
       "}}\n",
       "\n",
       "                        })                };                });            </script>        </div>"
      ]
     },
     "metadata": {},
     "output_type": "display_data"
    }
   ],
   "source": [
    "fig = px.histogram(data_frame=df.sort_values(by='Release Year'), x='Release Year', \n",
    "                   color_discrete_sequence=['gold'], nbins=103)\n",
    "\n",
    "fig.update_layout(font=dict(family='Lato', size=18, color='white'), \n",
    "                  title=dict(text='<b>Distributions of IMBD movies from<b> 1920 - now',\n",
    "                           font=dict(size=30), x=.5), bargap=0.2,\n",
    "                  paper_bgcolor= 'black', plot_bgcolor='black',\n",
    "                 xaxis = dict(title='Year of release', showgrid=False),\n",
    "                 yaxis=dict(showgrid=False))"
   ]
  },
  {
   "cell_type": "markdown",
   "id": "ecca0096",
   "metadata": {},
   "source": [
    "* The Distribution is left skewed.\n",
    "* Year 2004 and 2014 has most number of top movies ie 32 each.\n",
    "* Apart from this there is some peaks of top movies in 1962, 1993, and 2001.\n",
    "* After 2019 the number of movies top films have decreased because of the rise in Covid-19 pandemic. "
   ]
  },
  {
   "cell_type": "markdown",
   "id": "0411437e",
   "metadata": {},
   "source": [
    "# Genres"
   ]
  },
  {
   "cell_type": "code",
   "execution_count": 13,
   "id": "387f80a3",
   "metadata": {},
   "outputs": [
    {
     "data": {
      "text/html": [
       "<div>\n",
       "<style scoped>\n",
       "    .dataframe tbody tr th:only-of-type {\n",
       "        vertical-align: middle;\n",
       "    }\n",
       "\n",
       "    .dataframe tbody tr th {\n",
       "        vertical-align: top;\n",
       "    }\n",
       "\n",
       "    .dataframe thead th {\n",
       "        text-align: right;\n",
       "    }\n",
       "</style>\n",
       "<table border=\"1\" class=\"dataframe\">\n",
       "  <thead>\n",
       "    <tr style=\"text-align: right;\">\n",
       "      <th></th>\n",
       "      <th>G1</th>\n",
       "      <th>G2</th>\n",
       "      <th>G3</th>\n",
       "    </tr>\n",
       "    <tr>\n",
       "      <th>Ranking</th>\n",
       "      <th></th>\n",
       "      <th></th>\n",
       "      <th></th>\n",
       "    </tr>\n",
       "  </thead>\n",
       "  <tbody>\n",
       "    <tr>\n",
       "      <th>1</th>\n",
       "      <td>Drama</td>\n",
       "      <td>None</td>\n",
       "      <td>None</td>\n",
       "    </tr>\n",
       "    <tr>\n",
       "      <th>2</th>\n",
       "      <td>Crime</td>\n",
       "      <td>Drama</td>\n",
       "      <td>None</td>\n",
       "    </tr>\n",
       "    <tr>\n",
       "      <th>3</th>\n",
       "      <td>Action</td>\n",
       "      <td>Crime</td>\n",
       "      <td>Drama</td>\n",
       "    </tr>\n",
       "    <tr>\n",
       "      <th>4</th>\n",
       "      <td>Action</td>\n",
       "      <td>Adventure</td>\n",
       "      <td>Drama</td>\n",
       "    </tr>\n",
       "    <tr>\n",
       "      <th>5</th>\n",
       "      <td>Biography</td>\n",
       "      <td>Drama</td>\n",
       "      <td>History</td>\n",
       "    </tr>\n",
       "  </tbody>\n",
       "</table>\n",
       "</div>"
      ],
      "text/plain": [
       "                G1         G2       G3\n",
       "Ranking                               \n",
       "1            Drama       None     None\n",
       "2            Crime      Drama     None\n",
       "3           Action      Crime    Drama\n",
       "4           Action  Adventure    Drama\n",
       "5        Biography      Drama  History"
      ]
     },
     "execution_count": 13,
     "metadata": {},
     "output_type": "execute_result"
    }
   ],
   "source": [
    "# Splitting genres \n",
    "gensplt = df['Genre'].str.split(', ', n=-1, expand= True)\n",
    "gensplt.columns = ['G1','G2','G3']\n",
    "gensplt.head()"
   ]
  },
  {
   "cell_type": "code",
   "execution_count": 14,
   "id": "a156afd8",
   "metadata": {},
   "outputs": [
    {
     "name": "stderr",
     "output_type": "stream",
     "text": [
      "<ipython-input-14-709abea9dccb>:2: FutureWarning:\n",
      "\n",
      "The series.append method is deprecated and will be removed from pandas in a future version. Use pandas.concat instead.\n",
      "\n",
      "<ipython-input-14-709abea9dccb>:3: FutureWarning:\n",
      "\n",
      "The series.append method is deprecated and will be removed from pandas in a future version. Use pandas.concat instead.\n",
      "\n"
     ]
    },
    {
     "data": {
      "text/plain": [
       "Ranking\n",
       "1          Drama\n",
       "2          Crime\n",
       "3         Action\n",
       "4         Action\n",
       "5      Biography\n",
       "         ...    \n",
       "993      Romance\n",
       "996      Romance\n",
       "997          War\n",
       "998       Family\n",
       "999     Thriller\n",
       "Length: 2540, dtype: object"
      ]
     },
     "execution_count": 14,
     "metadata": {},
     "output_type": "execute_result"
    }
   ],
   "source": [
    "# Appending genres into one string\n",
    "genone = gensplt['G1'].append(gensplt['G2'])\n",
    "genone= genone.append(gensplt['G3'])\n",
    "genone = genone.dropna(axis=0, how='any')\n",
    "genone = genone.str.lstrip()\n",
    "genone"
   ]
  },
  {
   "cell_type": "code",
   "execution_count": 15,
   "id": "7900eb7f",
   "metadata": {},
   "outputs": [],
   "source": [
    "# Creating a dataframe of genre string\n",
    "dfgenre = pd.DataFrame(genone)\n",
    "dfgenre.columns =['G']"
   ]
  },
  {
   "cell_type": "code",
   "execution_count": 16,
   "id": "9bd0a78b",
   "metadata": {},
   "outputs": [
    {
     "data": {
      "text/plain": [
       "array(['Action', 'Adventure', 'Animation', 'Biography', 'Comedy', 'Crime',\n",
       "       'Drama', 'Family', 'Fantasy', 'Film-Noir', 'History', 'Horror',\n",
       "       'Music', 'Musical', 'Mystery', 'Romance', 'Sci-Fi', 'Sport',\n",
       "       'Thriller', 'War', 'Western'], dtype=object)"
      ]
     },
     "execution_count": 16,
     "metadata": {},
     "output_type": "execute_result"
    }
   ],
   "source": [
    "dfgenre['G'].sort_values().unique()\n"
   ]
  },
  {
   "cell_type": "code",
   "execution_count": 17,
   "id": "3666e559",
   "metadata": {},
   "outputs": [
    {
     "data": {
      "text/plain": [
       "Drama        728\n",
       "Comedy       237\n",
       "Crime        209\n",
       "Action       200\n",
       "Adventure    191\n",
       "Thriller     135\n",
       "Romance      127\n",
       "Biography    107\n",
       "Mystery       99\n",
       "Animation     83\n",
       "Sci-Fi        68\n",
       "Fantasy       62\n",
       "History       50\n",
       "Family        50\n",
       "War           49\n",
       "Horror        36\n",
       "Music         36\n",
       "Film-Noir     22\n",
       "Western       19\n",
       "Musical       16\n",
       "Sport         16\n",
       "Name: G, dtype: int64"
      ]
     },
     "execution_count": 17,
     "metadata": {},
     "output_type": "execute_result"
    }
   ],
   "source": [
    "# Count of each genre \n",
    "dfgenre['G'].value_counts()"
   ]
  },
  {
   "cell_type": "code",
   "execution_count": 18,
   "id": "252cc781",
   "metadata": {},
   "outputs": [
    {
     "data": {
      "application/vnd.plotly.v1+json": {
       "config": {
        "plotlyServerURL": "https://plot.ly"
       },
       "data": [
        {
         "alignmentgroup": "True",
         "bingroup": "x",
         "hovertemplate": "x=%{x}<br>count=%{y}<extra></extra>",
         "legendgroup": "",
         "marker": {
          "color": "gold",
          "pattern": {
           "shape": ""
          }
         },
         "name": "",
         "offsetgroup": "",
         "orientation": "v",
         "showlegend": false,
         "type": "histogram",
         "x": [
          "Drama",
          "Crime",
          "Action",
          "Action",
          "Biography",
          "Crime",
          "Crime",
          "Crime",
          "Crime",
          "Action",
          "Action",
          "Drama",
          "Action",
          "Drama",
          "Adventure",
          "Drama",
          "Action",
          "Biography",
          "Action",
          "Drama",
          "Action",
          "Adventure",
          "Crime",
          "Animation",
          "Drama",
          "Crime",
          "Comedy",
          "Crime",
          "Action",
          "Crime",
          "Action",
          "Action",
          "Action",
          "Drama",
          "Action",
          "Action",
          "Action",
          "Comedy",
          "Drama",
          "Biography",
          "Biography",
          "Drama",
          "Crime",
          "Biography",
          "Action",
          "Crime",
          "Crime",
          "Action",
          "Animation",
          "Drama",
          "Animation",
          "Adventure",
          "Drama",
          "Horror",
          "Western",
          "Horror",
          "Mystery",
          "Drama",
          "Comedy",
          "Comedy",
          "Drama",
          "Crime",
          "Drama",
          "Animation",
          "Animation",
          "Action",
          "Action",
          "Animation",
          "Drama",
          "Action",
          "Crime",
          "Comedy",
          "Action",
          "Action",
          "Animation",
          "Drama",
          "Action",
          "Mystery",
          "Drama",
          "Animation",
          "Biography",
          "Drama",
          "Action",
          "Biography",
          "Action",
          "Drama",
          "Drama",
          "Crime",
          "Comedy",
          "Crime",
          "Drama",
          "Drama",
          "Comedy",
          "Biography",
          "Crime",
          "Biography",
          "Action",
          "Crime",
          "Drama",
          "Drama",
          "Drama",
          "Action",
          "Animation",
          "Drama",
          "Animation",
          "Adventure",
          "Drama",
          "Comedy",
          "Comedy",
          "Drama",
          "Drama",
          "Animation",
          "Action",
          "Crime",
          "Drama",
          "Crime",
          "Crime",
          "Action",
          "Comedy",
          "Crime",
          "Adventure",
          "Crime",
          "Adventure",
          "Drama",
          "Comedy",
          "Action",
          "Mystery",
          "Drama",
          "Comedy",
          "Drama",
          "Drama",
          "Crime",
          "Drama",
          "Crime",
          "Drama",
          "Comedy",
          "Comedy",
          "Action",
          "Action",
          "Drama",
          "Comedy",
          "Action",
          "Biography",
          "Action",
          "Action",
          "Action",
          "Crime",
          "Biography",
          "Animation",
          "Action",
          "Action",
          "Drama",
          "Action",
          "Mystery",
          "Animation",
          "Drama",
          "Crime",
          "Drama",
          "Biography",
          "Crime",
          "Drama",
          "Drama",
          "Drama",
          "Action",
          "Action",
          "Biography",
          "Animation",
          "Biography",
          "Action",
          "Animation",
          "Drama",
          "Action",
          "Comedy",
          "Crime",
          "Drama",
          "Crime",
          "Action",
          "Drama",
          "Action",
          "Action",
          "Action",
          "Horror",
          "Biography",
          "Biography",
          "Crime",
          "Adventure",
          "Adventure",
          "Drama",
          "Crime",
          "Western",
          "Adventure",
          "Action",
          "Comedy",
          "Adventure",
          "Crime",
          "Drama",
          "Adventure",
          "Drama",
          "Crime",
          "Drama",
          "Adventure",
          "Comedy",
          "Drama",
          "Biography",
          "Action",
          "Adventure",
          "Action",
          "Drama",
          "Crime",
          "Animation",
          "Comedy",
          "Crime",
          "Animation",
          "Drama",
          "Drama",
          "Action",
          "Action",
          "Adventure",
          "Action",
          "Drama",
          "Comedy",
          "Drama",
          "Comedy",
          "Comedy",
          "Adventure",
          "Drama",
          "Animation",
          "Biography",
          "Comedy",
          "Biography",
          "Action",
          "Action",
          "Biography",
          "Mystery",
          "Drama",
          "Comedy",
          "Drama",
          "Crime",
          "Action",
          "Action",
          "Drama",
          "Adventure",
          "Biography",
          "Animation",
          "Animation",
          "Drama",
          "Adventure",
          "Comedy",
          "Drama",
          "Biography",
          "Animation",
          "Drama",
          "Drama",
          "Comedy",
          "Drama",
          "Crime",
          "Action",
          "Comedy",
          "Biography",
          "Comedy",
          "Drama",
          "Action",
          "Action",
          "Animation",
          "Drama",
          "Drama",
          "Animation",
          "Comedy",
          "Drama",
          "Drama",
          "Crime",
          "Crime",
          "Comedy",
          "Crime",
          "Drama",
          "Drama",
          "Biography",
          "Comedy",
          "Drama",
          "Drama",
          "Comedy",
          "Comedy",
          "Animation",
          "Adventure",
          "Drama",
          "Comedy",
          "Action",
          "Drama",
          "Biography",
          "Drama",
          "Action",
          "Drama",
          "Drama",
          "Drama",
          "Drama",
          "Drama",
          "Biography",
          "Action",
          "Adventure",
          "Adventure",
          "Comedy",
          "Horror",
          "Drama",
          "Crime",
          "Drama",
          "Biography",
          "Drama",
          "Drama",
          "Drama",
          "Biography",
          "Crime",
          "Adventure",
          "Action",
          "Drama",
          "Drama",
          "Drama",
          "Drama",
          "Crime",
          "Crime",
          "Crime",
          "Drama",
          "Action",
          "Film-Noir",
          "Drama",
          "Drama",
          "Comedy",
          "Drama",
          "Drama",
          "Adventure",
          "Comedy",
          "Drama",
          "Comedy",
          "Drama",
          "Comedy",
          "Drama",
          "Action",
          "Comedy",
          "Animation",
          "Crime",
          "Comedy",
          "Biography",
          "Adventure",
          "Drama",
          "Animation",
          "Animation",
          "Drama",
          "Action",
          "Animation",
          "Crime",
          "Biography",
          "Action",
          "Animation",
          "Action",
          "Drama",
          "Action",
          "Drama",
          "Action",
          "Biography",
          "Action",
          "Action",
          "Action",
          "Action",
          "Drama",
          "Comedy",
          "Crime",
          "Drama",
          "Action",
          "Action",
          "Animation",
          "Comedy",
          "Biography",
          "Adventure",
          "Action",
          "Drama",
          "Crime",
          "Biography",
          "Action",
          "Adventure",
          "Action",
          "Action",
          "Drama",
          "Biography",
          "Biography",
          "Action",
          "Adventure",
          "Animation",
          "Comedy",
          "Crime",
          "Comedy",
          "Drama",
          "Drama",
          "Animation",
          "Biography",
          "Animation",
          "Drama",
          "Drama",
          "Comedy",
          "Drama",
          "Comedy",
          "Mystery",
          "Drama",
          "Comedy",
          "Action",
          "Drama",
          "Animation",
          "Drama",
          "Animation",
          "Adventure",
          "Drama",
          "Animation",
          "Adventure",
          "Drama",
          "Drama",
          "Animation",
          "Animation",
          "Drama",
          "Drama",
          "Adventure",
          "Comedy",
          "Comedy",
          "Comedy",
          "Biography",
          "Biography",
          "Comedy",
          "Biography",
          "Drama",
          "Drama",
          "Mystery",
          "Drama",
          "Drama",
          "Biography",
          "Drama",
          "Adventure",
          "Crime",
          "Comedy",
          "Drama",
          "Biography",
          "Drama",
          "Drama",
          "Drama",
          "Drama",
          "Action",
          "Drama",
          "Drama",
          "Comedy",
          "Western",
          "Drama",
          "Crime",
          "Drama",
          "Crime",
          "Crime",
          "Drama",
          "Comedy",
          "Comedy",
          "Drama",
          "Comedy",
          "Crime",
          "Drama",
          "Crime",
          "Drama",
          "Crime",
          "Drama",
          "Horror",
          "Comedy",
          "Crime",
          "Drama",
          "Biography",
          "Biography",
          "Adventure",
          "Action",
          "Biography",
          "Action",
          "Comedy",
          "Action",
          "Comedy",
          "Drama",
          "Drama",
          "Drama",
          "Drama",
          "Action",
          "Drama",
          "Action",
          "Action",
          "Biography",
          "Drama",
          "Comedy",
          "Action",
          "Drama",
          "Drama",
          "Comedy",
          "Adventure",
          "Action",
          "Drama",
          "Action",
          "Drama",
          "Comedy",
          "Drama",
          "Comedy",
          "Drama",
          "Action",
          "Biography",
          "Comedy",
          "Drama",
          "Action",
          "Adventure",
          "Animation",
          "Crime",
          "Comedy",
          "Drama",
          "Action",
          "Comedy",
          "Comedy",
          "Drama",
          "Crime",
          "Adventure",
          "Action",
          "Drama",
          "Comedy",
          "Action",
          "Crime",
          "Action",
          "Action",
          "Adventure",
          "Crime",
          "Drama",
          "Animation",
          "Animation",
          "Drama",
          "Action",
          "Drama",
          "Animation",
          "Animation",
          "Crime",
          "Crime",
          "Drama",
          "Animation",
          "Crime",
          "Crime",
          "Drama",
          "Biography",
          "Comedy",
          "Crime",
          "Drama",
          "Comedy",
          "Drama",
          "Comedy",
          "Comedy",
          "Adventure",
          "Drama",
          "Action",
          "Comedy",
          "Drama",
          "Comedy",
          "Comedy",
          "Biography",
          "Drama",
          "Crime",
          "Action",
          "Biography",
          "Drama",
          "Biography",
          "Drama",
          "Action",
          "Comedy",
          "Drama",
          "Drama",
          "Adventure",
          "Drama",
          "Drama",
          "Crime",
          "Adventure",
          "Adventure",
          "Crime",
          "Drama",
          "Crime",
          "Drama",
          "Comedy",
          "Crime",
          "Comedy",
          "Drama",
          "Crime",
          "Drama",
          "Drama",
          "Drama",
          "Comedy",
          "Adventure",
          "Comedy",
          "Comedy",
          "Action",
          "Comedy",
          "Adventure",
          "Drama",
          "Fantasy",
          "Action",
          "Animation",
          "Comedy",
          "Drama",
          "Drama",
          "Animation",
          "Action",
          "Biography",
          "Adventure",
          "Adventure",
          "Drama",
          "Drama",
          "Action",
          "Biography",
          "Comedy",
          "Action",
          "Crime",
          "Drama",
          "Animation",
          "Biography",
          "Crime",
          "Action",
          "Drama",
          "Comedy",
          "Animation",
          "Comedy",
          "Comedy",
          "Crime",
          "Action",
          "Crime",
          "Comedy",
          "Animation",
          "Biography",
          "Action",
          "Crime",
          "Action",
          "Biography",
          "Biography",
          "Biography",
          "Crime",
          "Crime",
          "Action",
          "Drama",
          "Adventure",
          "Drama",
          "Crime",
          "Action",
          "Action",
          "Action",
          "Drama",
          "Adventure",
          "Biography",
          "Drama",
          "Action",
          "Biography",
          "Action",
          "Drama",
          "Action",
          "Adventure",
          "Comedy",
          "Action",
          "Drama",
          "Drama",
          "Drama",
          "Biography",
          "Animation",
          "Action",
          "Crime",
          "Comedy",
          "Biography",
          "Drama",
          "Action",
          "Adventure",
          "Crime",
          "Animation",
          "Animation",
          "Action",
          "Biography",
          "Drama",
          "Adventure",
          "Biography",
          "Biography",
          "Comedy",
          "Drama",
          "Drama",
          "Drama",
          "Biography",
          "Biography",
          "Comedy",
          "Drama",
          "Animation",
          "Action",
          "Crime",
          "Animation",
          "Crime",
          "Drama",
          "Biography",
          "Animation",
          "Biography",
          "Action",
          "Comedy",
          "Adventure",
          "Crime",
          "Action",
          "Comedy",
          "Comedy",
          "Biography",
          "Action",
          "Adventure",
          "Comedy",
          "Drama",
          "Drama",
          "Drama",
          "Horror",
          "Western",
          "Adventure",
          "Adventure",
          "Drama",
          "Crime",
          "Comedy",
          "Drama",
          "Action",
          "Family",
          "Drama",
          "Horror",
          "Comedy",
          "Drama",
          "Drama",
          "Comedy",
          "Horror",
          "Drama",
          "Drama",
          "Drama",
          "Crime",
          "Drama",
          "Adventure",
          "Crime",
          "Film-Noir",
          "Comedy",
          "Adventure",
          "Comedy",
          "Mystery",
          "Comedy",
          "Comedy",
          "Drama",
          "Comedy",
          "Drama",
          "Drama",
          "Action",
          "Drama",
          "Crime",
          "Drama",
          "Horror",
          "Action",
          "Comedy",
          "Action",
          "Animation",
          "Comedy",
          "Animation",
          "Biography",
          "Action",
          "Drama",
          "Comedy",
          "Comedy",
          "Drama",
          "Drama",
          "Drama",
          "Drama",
          "Animation",
          "Animation",
          "Adventure",
          "Animation",
          "Animation",
          "Drama",
          "Comedy",
          "Drama",
          "Action",
          "Animation",
          "Action",
          "Action",
          "Drama",
          "Action",
          "Comedy",
          "Drama",
          "Comedy",
          "Comedy",
          "Biography",
          "Comedy",
          "Adventure",
          "Drama",
          "Drama",
          "Biography",
          "Animation",
          "Comedy",
          "Animation",
          "Crime",
          "Drama",
          "Drama",
          "Crime",
          "Crime",
          "Drama",
          "Biography",
          "Comedy",
          "Animation",
          "Drama",
          "Drama",
          "Action",
          "Action",
          "Action",
          "Drama",
          "Biography",
          "Drama",
          "Comedy",
          "Adventure",
          "Action",
          "Animation",
          "Drama",
          "Crime",
          "Biography",
          "Comedy",
          "Drama",
          "Animation",
          "Comedy",
          "Action",
          "Crime",
          "Drama",
          "Drama",
          "Comedy",
          "Action",
          "Drama",
          "Animation",
          "Crime",
          "Adventure",
          "Action",
          "Animation",
          "Comedy",
          "Comedy",
          "Action",
          "Action",
          "Action",
          "Drama",
          "Drama",
          "Comedy",
          "Crime",
          "Drama",
          "Biography",
          "Drama",
          "Biography",
          "Crime",
          "Drama",
          "Adventure",
          "Biography",
          "Comedy",
          "Drama",
          "Comedy",
          "Drama",
          "Comedy",
          "Comedy",
          "Biography",
          "Action",
          "Action",
          "Animation",
          "Crime",
          "Drama",
          "Comedy",
          "Drama",
          "Drama",
          "Drama",
          "Crime",
          "Comedy",
          "Comedy",
          "Animation",
          "Mystery",
          "Biography",
          "Comedy",
          "Drama",
          "Drama",
          "Comedy",
          "Crime",
          "Comedy",
          "Adventure",
          "Drama",
          "Comedy",
          "Drama",
          "Action",
          "Action",
          "Drama",
          "Comedy",
          "Horror",
          "Comedy",
          "Comedy",
          "Comedy",
          "Biography",
          "Animation",
          "Action",
          "Adventure",
          "Action",
          "Action",
          "Thriller",
          "Action",
          "Action",
          "Drama",
          "Biography",
          "Drama",
          "Action",
          "Action",
          "Drama",
          "Drama",
          "Action",
          "Crime",
          "Drama",
          "Drama",
          "Comedy",
          "Adventure",
          "Action",
          "Animation",
          "Action",
          "Biography",
          "Animation",
          "Drama",
          "Comedy",
          "Action",
          "Drama",
          "Animation",
          "Animation",
          "Comedy",
          "Action",
          "Action",
          "Crime",
          "Crime",
          "Biography",
          "Action",
          "Action",
          "Action",
          "Drama",
          "Drama",
          "Animation",
          "Comedy",
          "Action",
          "Action",
          "Biography",
          "Drama",
          "Action",
          "Biography",
          "Animation",
          "Comedy",
          "Drama",
          "Crime",
          "Adventure",
          "Action",
          "Biography",
          "Crime",
          "Crime",
          "Animation",
          "Action",
          "Drama",
          "Action",
          "Crime",
          "Horror",
          "Crime",
          "Drama",
          "Comedy",
          "Comedy",
          "Drama",
          "Drama",
          "Drama",
          "Comedy",
          "Adventure",
          "Horror",
          "Crime",
          "Crime",
          "Comedy",
          "Action",
          "Drama",
          "Animation",
          "Action",
          "Comedy",
          "Fantasy",
          "Action",
          "Drama",
          "Comedy",
          "Comedy",
          "Comedy",
          "Crime",
          "Animation",
          "Comedy",
          "Action",
          "Action",
          "Drama",
          "Comedy",
          "Action",
          "Drama",
          "Action",
          "Action",
          "Action",
          "Comedy",
          "Animation",
          "Drama",
          "Drama",
          "Comedy",
          "Drama",
          "Drama",
          "Comedy",
          "Drama",
          "Animation",
          "Crime",
          "Horror",
          "Drama",
          "Crime",
          "Adventure",
          "Drama",
          "Drama",
          "Drama",
          "Drama",
          "Drama",
          "Adventure",
          "Adventure",
          "Adventure",
          "Romance",
          "Western",
          "Sci-Fi",
          "Crime",
          "Adventure",
          "Drama",
          "Drama",
          "Drama",
          "Adventure",
          "War",
          "Drama",
          "Drama",
          "Drama",
          "Sci-Fi",
          "Drama",
          "Adventure",
          "Drama",
          "Drama",
          "Family",
          "Crime",
          "Drama",
          "Thriller",
          "Drama",
          "Music",
          "Comedy",
          "Crime",
          "Mystery",
          "Drama",
          "Drama",
          "Adventure",
          "Drama",
          "Drama",
          "Crime",
          "Adventure",
          "Romance",
          "Drama",
          "Comedy",
          "Mystery",
          "Sci-Fi",
          "Mystery",
          "Thriller",
          "Romance",
          "Drama",
          "Drama",
          "Drama",
          "Romance",
          "Drama",
          "Action",
          "Adventure",
          "Adventure",
          "Adventure",
          "Western",
          "Drama",
          "Drama",
          "Drama",
          "Crime",
          "Biography",
          "Adventure",
          "Mystery",
          "Drama",
          "Thriller",
          "Adventure",
          "Drama",
          "Thriller",
          "Adventure",
          "Drama",
          "Adventure",
          "War",
          "Horror",
          "Drama",
          "War",
          "Drama",
          "War",
          "Film-Noir",
          "Drama",
          "Drama",
          "Drama",
          "Drama",
          "Biography",
          "Drama",
          "Mystery",
          "Adventure",
          "Adventure",
          "Family",
          "Adventure",
          "Drama",
          "Romance",
          "Romance",
          "Crime",
          "Romance",
          "Adventure",
          "Crime",
          "Drama",
          "War",
          "Drama",
          "Drama",
          "Adventure",
          "Crime",
          "Sci-Fi",
          "Sci-Fi",
          "Drama",
          "Biography",
          "War",
          "Drama",
          "Adventure",
          "Romance",
          "Musical",
          "Drama",
          "Mystery",
          "Mystery",
          "Sci-Fi",
          "Drama",
          "Drama",
          "Drama",
          "Drama",
          "Fantasy",
          "Crime",
          "Crime",
          "Comedy",
          "Adventure",
          "Crime",
          "Drama",
          "Drama",
          "Drama",
          "Adventure",
          "Comedy",
          "Biography",
          "Mystery",
          "Drama",
          "Thriller",
          "Action",
          "Drama",
          "Mystery",
          "Comedy",
          "Drama",
          "Family",
          "Fantasy",
          "Drama",
          "Crime",
          "Drama",
          "Adventure",
          "Drama",
          "Crime",
          "Adventure",
          "Mystery",
          "Comedy",
          "Drama",
          "Drama",
          "Family",
          "Drama",
          "Adventure",
          "Western",
          "Adventure",
          "Thriller",
          "Drama",
          "Mystery",
          "Drama",
          "Drama",
          "Drama",
          "Comedy",
          "Biography",
          "Mystery",
          "Drama",
          "Drama",
          "Drama",
          "Music",
          "Drama",
          "Thriller",
          "Drama",
          "Drama",
          "Drama",
          "Romance",
          "Romance",
          "Drama",
          "Adventure",
          "Comedy",
          "Comedy",
          "Romance",
          "Drama",
          "Drama",
          "Crime",
          "Drama",
          "Adventure",
          "Romance",
          "Adventure",
          "Crime",
          "Comedy",
          "Drama",
          "Thriller",
          "Drama",
          "War",
          "Drama",
          "Drama",
          "Comedy",
          "Mystery",
          "Drama",
          "Drama",
          "Drama",
          "Drama",
          "Biography",
          "Biography",
          "Crime",
          "Thriller",
          "Drama",
          "Drama",
          "Adventure",
          "Crime",
          "Fantasy",
          "Drama",
          "Comedy",
          "Action",
          "Family",
          "Biography",
          "Crime",
          "Sport",
          "Drama",
          "Adventure",
          "Romance",
          "Drama",
          "Musical",
          "Drama",
          "Adventure",
          "Drama",
          "Crime",
          "Drama",
          "Thriller",
          "Comedy",
          "Drama",
          "Adventure",
          "Musical",
          "Action",
          "Crime",
          "Romance",
          "Thriller",
          "Drama",
          "Drama",
          "Drama",
          "Romance",
          "Mystery",
          "Crime",
          "Drama",
          "Music",
          "History",
          "Crime",
          "Drama",
          "Comedy",
          "Drama",
          "War",
          "Drama",
          "Sci-Fi",
          "Drama",
          "Drama",
          "Sci-Fi",
          "Music",
          "War",
          "Sport",
          "Drama",
          "Adventure",
          "Thriller",
          "Drama",
          "Crime",
          "Musical",
          "Drama",
          "Thriller",
          "Drama",
          "War",
          "Western",
          "Drama",
          "Drama",
          "Drama",
          "Adventure",
          "Romance",
          "Fantasy",
          "History",
          "Drama",
          "Drama",
          "Drama",
          "Film-Noir",
          "Crime",
          "Mystery",
          "Music",
          "Romance",
          "Drama",
          "Film-Noir",
          "Family",
          "Drama",
          "War",
          "Romance",
          "War",
          "Family",
          "Romance",
          "Drama",
          "Drama",
          "Adventure",
          "Drama",
          "Drama",
          "Drama",
          "Drama",
          "Adventure",
          "Adventure",
          "Drama",
          "Drama",
          "Drama",
          "Drama",
          "Adventure",
          "Adventure",
          "Drama",
          "Romance",
          "Adventure",
          "Romance",
          "Crime",
          "Drama",
          "Adventure",
          "Adventure",
          "Biography",
          "Adventure",
          "Music",
          "Drama",
          "Drama",
          "Thriller",
          "Crime",
          "Adventure",
          "Biography",
          "Drama",
          "Drama",
          "Drama",
          "Mystery",
          "Thriller",
          "Drama",
          "Drama",
          "Comedy",
          "Adventure",
          "Crime",
          "Romance",
          "Drama",
          "Drama",
          "Crime",
          "Drama",
          "Action",
          "Drama",
          "Drama",
          "Drama",
          "Mystery",
          "Action",
          "Drama",
          "Crime",
          "Music",
          "Crime",
          "Drama",
          "Sci-Fi",
          "Romance",
          "Crime",
          "Comedy",
          "Adventure",
          "History",
          "Family",
          "Drama",
          "Action",
          "Family",
          "Fantasy",
          "War",
          "Adventure",
          "Adventure",
          "Fantasy",
          "Drama",
          "Drama",
          "Romance",
          "Crime",
          "Drama",
          "Crime",
          "Mystery",
          "Thriller",
          "Romance",
          "Family",
          "Crime",
          "Horror",
          "Sci-Fi",
          "Drama",
          "Drama",
          "Drama",
          "History",
          "Fantasy",
          "Horror",
          "Drama",
          "War",
          "Sport",
          "Drama",
          "Mystery",
          "Drama",
          "Film-Noir",
          "Drama",
          "Drama",
          "Drama",
          "Romance",
          "Thriller",
          "Crime",
          "Drama",
          "Thriller",
          "Drama",
          "Romance",
          "Film-Noir",
          "History",
          "Mystery",
          "Crime",
          "Drama",
          "Romance",
          "Drama",
          "Comedy",
          "Biography",
          "Drama",
          "Drama",
          "Crime",
          "Drama",
          "Adventure",
          "Drama",
          "Family",
          "Mystery",
          "Music",
          "Crime",
          "Romance",
          "Adventure",
          "Crime",
          "Drama",
          "Romance",
          "Drama",
          "Adventure",
          "Mystery",
          "Drama",
          "Drama",
          "Drama",
          "Fantasy",
          "Sci-Fi",
          "Sport",
          "Drama",
          "Drama",
          "Adventure",
          "Drama",
          "Crime",
          "Fantasy",
          "Adventure",
          "Drama",
          "Adventure",
          "Drama",
          "Drama",
          "Adventure",
          "Horror",
          "Drama",
          "Romance",
          "Drama",
          "Family",
          "Adventure",
          "Mystery",
          "Drama",
          "Mystery",
          "Drama",
          "Drama",
          "Adventure",
          "Comedy",
          "Drama",
          "Mystery",
          "Adventure",
          "Adventure",
          "Romance",
          "Crime",
          "Drama",
          "Action",
          "Drama",
          "Drama",
          "Music",
          "Family",
          "Drama",
          "Drama",
          "Fantasy",
          "Drama",
          "Drama",
          "Drama",
          "Drama",
          "Sci-Fi",
          "Music",
          "Family",
          "Family",
          "History",
          "Adventure",
          "Drama",
          "History",
          "Drama",
          "Drama",
          "Drama",
          "Drama",
          "Adventure",
          "Drama",
          "Mystery",
          "Crime",
          "Romance",
          "Drama",
          "Mystery",
          "Thriller",
          "Biography",
          "Romance",
          "Drama",
          "Drama",
          "Drama",
          "Film-Noir",
          "Drama",
          "Film-Noir",
          "Drama",
          "Drama",
          "Drama",
          "Film-Noir",
          "Film-Noir",
          "Fantasy",
          "Film-Noir",
          "Film-Noir",
          "Crime",
          "Comedy",
          "Romance",
          "Drama",
          "Adventure",
          "Mystery",
          "Horror",
          "Horror",
          "Horror",
          "Comedy",
          "Action",
          "Drama",
          "Romance",
          "Adventure",
          "Drama",
          "Drama",
          "Comedy",
          "Comedy",
          "History",
          "Adventure",
          "Drama",
          "Drama",
          "Adventure",
          "Drama",
          "Romance",
          "Biography",
          "Comedy",
          "Drama",
          "Adventure",
          "Romance",
          "Romance",
          "Action",
          "Drama",
          "Drama",
          "Drama",
          "Adventure",
          "Drama",
          "Drama",
          "Action",
          "Comedy",
          "Crime",
          "Drama",
          "Biography",
          "Drama",
          "Crime",
          "Drama",
          "Drama",
          "Drama",
          "Crime",
          "Mystery",
          "Fantasy",
          "Mystery",
          "Drama",
          "Adventure",
          "Biography",
          "Crime",
          "Music",
          "Fantasy",
          "Crime",
          "Mystery",
          "Drama",
          "Crime",
          "Adventure",
          "Fantasy",
          "Adventure",
          "Drama",
          "Drama",
          "Comedy",
          "Fantasy",
          "Family",
          "Romance",
          "Drama",
          "Adventure",
          "Adventure",
          "Drama",
          "Drama",
          "Drama",
          "Romance",
          "Drama",
          "Biography",
          "Drama",
          "Drama",
          "Action",
          "Drama",
          "Drama",
          "Drama",
          "Drama",
          "Drama",
          "Drama",
          "Sci-Fi",
          "Comedy",
          "Drama",
          "Drama",
          "Romance",
          "Action",
          "Crime",
          "Drama",
          "Action",
          "Drama",
          "Thriller",
          "Drama",
          "Adventure",
          "Drama",
          "Crime",
          "Drama",
          "Comedy",
          "Drama",
          "Adventure",
          "Drama",
          "Drama",
          "Comedy",
          "Biography",
          "Crime",
          "Music",
          "Romance",
          "Thriller",
          "History",
          "Drama",
          "Mystery",
          "Drama",
          "Music",
          "Adventure",
          "Fantasy",
          "Thriller",
          "Drama",
          "Musical",
          "Family",
          "Family",
          "Mystery",
          "Sci-Fi",
          "Drama",
          "Western",
          "Comedy",
          "Drama",
          "Thriller",
          "Drama",
          "Drama",
          "Drama",
          "Thriller",
          "Music",
          "Horror",
          "Musical",
          "Horror",
          "Adventure",
          "Music",
          "Drama",
          "Mystery",
          "Adventure",
          "Drama",
          "Crime",
          "Action",
          "Drama",
          "Drama",
          "Drama",
          "Adventure",
          "Romance",
          "Drama",
          "Drama",
          "Mystery",
          "Romance",
          "Music",
          "Biography",
          "Adventure",
          "Comedy",
          "Adventure",
          "Adventure",
          "Fantasy",
          "Thriller",
          "Crime",
          "Action",
          "Drama",
          "Adventure",
          "War",
          "Adventure",
          "History",
          "Drama",
          "Drama",
          "Drama",
          "Drama",
          "Family",
          "War",
          "Drama",
          "Drama",
          "Drama",
          "Adventure",
          "Drama",
          "Sci-Fi",
          "Drama",
          "Drama",
          "History",
          "Drama",
          "Crime",
          "Adventure",
          "Thriller",
          "Romance",
          "Crime",
          "Comedy",
          "Mystery",
          "Thriller",
          "Drama",
          "Drama",
          "Family",
          "Crime",
          "Drama",
          "Drama",
          "Drama",
          "Drama",
          "Comedy",
          "Drama",
          "Drama",
          "Drama",
          "Thriller",
          "Music",
          "Drama",
          "Adventure",
          "Drama",
          "Thriller",
          "Comedy",
          "Crime",
          "Comedy",
          "Drama",
          "Thriller",
          "Crime",
          "Crime",
          "Mystery",
          "Drama",
          "Drama",
          "Mystery",
          "Crime",
          "Romance",
          "Drama",
          "Drama",
          "Romance",
          "Drama",
          "Comedy",
          "Drama",
          "Drama",
          "Drama",
          "Drama",
          "Adventure",
          "Crime",
          "Adventure",
          "Drama",
          "Thriller",
          "Drama",
          "Fantasy",
          "Fantasy",
          "Drama",
          "Family",
          "Drama",
          "Adventure",
          "Thriller",
          "Drama",
          "Horror",
          "History",
          "History",
          "Crime",
          "Drama",
          "Fantasy",
          "Comedy",
          "Adventure",
          "Adventure",
          "Thriller",
          "Drama",
          "War",
          "Western",
          "Crime",
          "Sci-Fi",
          "Crime",
          "Drama",
          "Crime",
          "Crime",
          "Adventure",
          "Biography",
          "Romance",
          "Drama",
          "History",
          "Adventure",
          "Drama",
          "Thriller",
          "Romance",
          "Adventure",
          "Drama",
          "Horror",
          "War",
          "Drama",
          "Drama",
          "Crime",
          "Family",
          "Crime",
          "Drama",
          "Adventure",
          "Mystery",
          "Drama",
          "Adventure",
          "History",
          "Action",
          "Adventure",
          "Horror",
          "Crime",
          "Drama",
          "Drama",
          "Drama",
          "Comedy",
          "Adventure",
          "Crime",
          "Adventure",
          "Music",
          "Western",
          "Adventure",
          "Drama",
          "Comedy",
          "Crime",
          "Drama",
          "Horror",
          "Comedy",
          "Drama",
          "Adventure",
          "Drama",
          "Family",
          "Drama",
          "Drama",
          "Drama",
          "Drama",
          "Action",
          "Drama",
          "Romance",
          "Drama",
          "Drama",
          "Mystery",
          "Drama",
          "Mystery",
          "Drama",
          "Drama",
          "Sci-Fi",
          "Drama",
          "Family",
          "Mystery",
          "Drama",
          "Drama",
          "Drama",
          "Adventure",
          "History",
          "Adventure",
          "Adventure",
          "Mystery",
          "Adventure",
          "Romance",
          "Drama",
          "Crime",
          "Drama",
          "Drama",
          "Adventure",
          "Crime",
          "Crime",
          "Crime",
          "Horror",
          "Crime",
          "Adventure",
          "Sci-Fi",
          "Crime",
          "Crime",
          "Adventure",
          "Adventure",
          "Horror",
          "Horror",
          "Drama",
          "Horror",
          "Drama",
          "Romance",
          "Adventure",
          "Mystery",
          "Sci-Fi",
          "Drama",
          "Drama",
          "History",
          "Mystery",
          "Sci-Fi",
          "Drama",
          "Drama",
          "Drama",
          "Fantasy",
          "Sci-Fi",
          "Family",
          "Fantasy",
          "Romance",
          "Mystery",
          "Thriller",
          "Fantasy",
          "Mystery",
          "Fantasy",
          "Thriller",
          "Thriller",
          "Drama",
          "Drama",
          "Sci-Fi",
          "Thriller",
          "Music",
          "Drama",
          "Mystery",
          "Drama",
          "Drama",
          "War",
          "Sci-Fi",
          "War",
          "Thriller",
          "War",
          "Romance",
          "Romance",
          "Thriller",
          "Fantasy",
          "Adventure",
          "Drama",
          "Sci-Fi",
          "Comedy",
          "Thriller",
          "Drama",
          "Drama",
          "Family",
          "Thriller",
          "Mystery",
          "Fantasy",
          "History",
          "War",
          "Sci-Fi",
          "Music",
          "Mystery",
          "Mystery",
          "War",
          "History",
          "Mystery",
          "History",
          "Drama",
          "Thriller",
          "Fantasy",
          "Comedy",
          "Comedy",
          "War",
          "Sci-Fi",
          "Comedy",
          "Drama",
          "Thriller",
          "Fantasy",
          "Drama",
          "Drama",
          "Romance",
          "Mystery",
          "Thriller",
          "Romance",
          "Film-Noir",
          "Thriller",
          "Family",
          "Romance",
          "War",
          "History",
          "Horror",
          "Music",
          "Drama",
          "Drama",
          "Comedy",
          "Drama",
          "Mystery",
          "Sport",
          "Comedy",
          "Crime",
          "Crime",
          "Romance",
          "Sport",
          "Adventure",
          "Mystery",
          "Crime",
          "Thriller",
          "War",
          "Sci-Fi",
          "Drama",
          "History",
          "Family",
          "Drama",
          "Comedy",
          "Thriller",
          "Crime",
          "Mystery",
          "Sport",
          "Sci-Fi",
          "War",
          "Sci-Fi",
          "Sport",
          "Fantasy",
          "Drama",
          "Thriller",
          "Thriller",
          "History",
          "Thriller",
          "Romance",
          "War",
          "Thriller",
          "Mystery",
          "Western",
          "War",
          "War",
          "History",
          "Comedy",
          "Drama",
          "Romance",
          "Thriller",
          "Drama",
          "Mystery",
          "Comedy",
          "Thriller",
          "Comedy",
          "Drama",
          "Drama",
          "Sci-Fi",
          "Thriller",
          "Sci-Fi",
          "Fantasy",
          "Crime",
          "Thriller",
          "Family",
          "History",
          "Romance",
          "History",
          "Drama",
          "Drama",
          "Drama",
          "Musical",
          "Mystery",
          "Sci-Fi",
          "Drama",
          "Mystery",
          "Family",
          "Drama",
          "Adventure",
          "Sport",
          "Drama",
          "Drama",
          "History",
          "Comedy",
          "Mystery",
          "Fantasy",
          "Romance",
          "Drama",
          "Thriller",
          "Crime",
          "Thriller",
          "Comedy",
          "Sport",
          "Adventure",
          "Thriller",
          "Fantasy",
          "Romance",
          "Drama",
          "Fantasy",
          "Romance",
          "Romance",
          "Drama",
          "Family",
          "Sci-Fi",
          "History",
          "Comedy",
          "War",
          "Drama",
          "Family",
          "History",
          "Drama",
          "Thriller",
          "Thriller",
          "Horror",
          "Drama",
          "Thriller",
          "Romance",
          "War",
          "Romance",
          "Mystery",
          "Fantasy",
          "Romance",
          "Family",
          "Mystery",
          "Music",
          "Sci-Fi",
          "Comedy",
          "Comedy",
          "Family",
          "Thriller",
          "Thriller",
          "Comedy",
          "Drama",
          "Mystery",
          "Sci-Fi",
          "Drama",
          "Drama",
          "History",
          "Comedy",
          "Fantasy",
          "Drama",
          "Drama",
          "Music",
          "Romance",
          "Drama",
          "Sci-Fi",
          "Drama",
          "Romance",
          "Thriller",
          "Thriller",
          "War",
          "Sci-Fi",
          "Thriller",
          "Thriller",
          "Romance",
          "Drama",
          "Fantasy",
          "Adventure",
          "Romance",
          "Sci-Fi",
          "Drama",
          "Drama",
          "Romance",
          "Romance",
          "Thriller",
          "Drama",
          "Romance",
          "Comedy",
          "Thriller",
          "Fantasy",
          "Western",
          "Drama",
          "Fantasy",
          "Romance",
          "Family",
          "Sci-Fi",
          "Music",
          "Drama",
          "Drama",
          "Sci-Fi",
          "Musical",
          "Drama",
          "Romance",
          "History",
          "Thriller",
          "Thriller",
          "Film-Noir",
          "Film-Noir",
          "Film-Noir",
          "War",
          "Western",
          "Film-Noir",
          "War",
          "Film-Noir",
          "Mystery",
          "Thriller",
          "Thriller",
          "Drama",
          "Thriller",
          "Drama",
          "Drama",
          "History",
          "Sport",
          "Thriller",
          "Music",
          "Comedy",
          "War",
          "Sci-Fi",
          "Romance",
          "Thriller",
          "Sci-Fi",
          "Drama",
          "Music",
          "Romance",
          "Sci-Fi",
          "Romance",
          "Romance",
          "Thriller",
          "Horror",
          "Thriller",
          "Romance",
          "Romance",
          "Sci-Fi",
          "Drama",
          "Mystery",
          "Drama",
          "Fantasy",
          "Comedy",
          "Romance",
          "Sci-Fi",
          "Musical",
          "Mystery",
          "Fantasy",
          "Drama",
          "Romance",
          "War",
          "Thriller",
          "Thriller",
          "Sci-Fi",
          "Drama",
          "Drama",
          "Musical",
          "Thriller",
          "Comedy",
          "Comedy",
          "Comedy",
          "Family",
          "Crime",
          "Romance",
          "Mystery",
          "Fantasy",
          "Thriller",
          "Romance",
          "Thriller",
          "Sci-Fi",
          "War",
          "Comedy",
          "Romance",
          "Thriller",
          "Romance",
          "War",
          "Thriller",
          "Western",
          "History",
          "Thriller",
          "Drama",
          "War",
          "Western",
          "Romance",
          "Drama",
          "Thriller",
          "Family",
          "Western",
          "Thriller",
          "Film-Noir",
          "Mystery",
          "Fantasy",
          "Mystery",
          "Family",
          "Romance",
          "Mystery",
          "Romance",
          "Mystery",
          "Thriller",
          "Drama",
          "Romance",
          "Sci-Fi",
          "Crime",
          "Adventure",
          "Comedy",
          "History",
          "History",
          "Drama",
          "Family",
          "War",
          "Sci-Fi",
          "Music",
          "Sci-Fi",
          "Mystery",
          "Crime",
          "Drama",
          "Thriller",
          "Sci-Fi",
          "Adventure",
          "Fantasy",
          "Family",
          "Mystery",
          "Sci-Fi",
          "Romance",
          "Adventure",
          "Drama",
          "Drama",
          "Mystery",
          "Crime",
          "History",
          "Drama",
          "Mystery",
          "Drama",
          "Sci-Fi",
          "Thriller",
          "Mystery",
          "Thriller",
          "Drama",
          "Thriller",
          "Romance",
          "Drama",
          "Romance",
          "Drama",
          "Fantasy",
          "Romance",
          "Drama",
          "Fantasy",
          "Mystery",
          "Romance",
          "Musical",
          "Sport",
          "Comedy",
          "Sci-Fi",
          "Thriller",
          "Music",
          "Music",
          "Drama",
          "Fantasy",
          "Crime",
          "Thriller",
          "Sport",
          "Romance",
          "Thriller",
          "Family",
          "Fantasy",
          "Thriller",
          "Drama",
          "History",
          "Family",
          "Adventure",
          "Drama",
          "Adventure",
          "Family",
          "History",
          "Drama",
          "Sci-Fi",
          "History",
          "Horror",
          "History",
          "Fantasy",
          "Drama",
          "Drama",
          "Musical",
          "War",
          "Fantasy",
          "Thriller",
          "Thriller",
          "Musical",
          "Biography",
          "Musical",
          "Romance",
          "Musical",
          "Fantasy",
          "Romance",
          "Film-Noir",
          "Film-Noir",
          "Mystery",
          "Romance",
          "Western",
          "Romance",
          "Musical",
          "Sci-Fi",
          "Sci-Fi",
          "Comedy",
          "Mystery",
          "Thriller",
          "Thriller",
          "Drama",
          "Adventure",
          "Romance",
          "Family",
          "Romance",
          "Comedy",
          "Romance",
          "Drama",
          "Comedy",
          "Drama",
          "Comedy",
          "Drama",
          "Romance",
          "Drama",
          "Adventure",
          "Sci-Fi",
          "Sci-Fi",
          "Sci-Fi",
          "Thriller",
          "Romance",
          "Thriller",
          "Romance",
          "Fantasy",
          "History",
          "Fantasy",
          "Romance",
          "Comedy",
          "Thriller",
          "Mystery",
          "Thriller",
          "Music",
          "Music",
          "Drama",
          "Comedy",
          "War",
          "Drama",
          "Fantasy",
          "Thriller",
          "Music",
          "Fantasy",
          "Drama",
          "Family",
          "Thriller",
          "Family",
          "Romance",
          "Drama",
          "History",
          "Thriller",
          "Music",
          "Drama",
          "Fantasy",
          "Crime",
          "Mystery",
          "Fantasy",
          "Drama",
          "Thriller",
          "Sci-Fi",
          "Romance",
          "Romance",
          "Thriller",
          "Drama",
          "Music",
          "Mystery",
          "History",
          "Drama",
          "Family",
          "History",
          "Drama",
          "Thriller",
          "Comedy",
          "Mystery",
          "Music",
          "Thriller",
          "Romance",
          "Comedy",
          "History",
          "War",
          "Mystery",
          "Drama",
          "Mystery",
          "Romance",
          "Family",
          "Sci-Fi",
          "Thriller",
          "Music",
          "Drama",
          "Drama",
          "Thriller",
          "Drama",
          "Thriller",
          "War",
          "Crime",
          "History",
          "War",
          "Thriller",
          "History",
          "Western",
          "Sci-Fi",
          "Romance",
          "Romance",
          "Drama",
          "Fantasy",
          "Drama",
          "History",
          "Comedy",
          "Thriller",
          "Comedy",
          "Thriller",
          "Adventure",
          "Comedy",
          "Drama",
          "Sport",
          "Thriller",
          "Drama",
          "Drama",
          "Thriller",
          "Crime",
          "Romance",
          "Comedy",
          "Romance",
          "Crime",
          "Drama",
          "Sport",
          "Thriller",
          "Horror",
          "Sport",
          "Comedy",
          "Thriller",
          "Fantasy",
          "History",
          "History",
          "Mystery",
          "Mystery",
          "Adventure",
          "Thriller",
          "Mystery",
          "Thriller",
          "Romance",
          "Romance",
          "Thriller",
          "Fantasy",
          "Thriller",
          "Thriller",
          "Horror",
          "Romance",
          "Fantasy",
          "War",
          "Comedy",
          "Sci-Fi",
          "Sci-Fi",
          "Thriller",
          "Romance",
          "Thriller",
          "Comedy",
          "Sci-Fi",
          "Thriller",
          "Sci-Fi",
          "Drama",
          "Sci-Fi",
          "Thriller",
          "Drama",
          "War",
          "Comedy",
          "Thriller",
          "Mystery",
          "Romance",
          "Romance",
          "War",
          "Family",
          "Thriller"
         ],
         "xaxis": "x",
         "yaxis": "y"
        }
       ],
       "layout": {
        "bargap": 0.2,
        "barmode": "relative",
        "font": {
         "color": "white",
         "family": "Lato",
         "size": 18
        },
        "legend": {
         "tracegroupgap": 0
        },
        "margin": {
         "t": 60
        },
        "paper_bgcolor": "black",
        "plot_bgcolor": "black",
        "template": {
         "data": {
          "bar": [
           {
            "error_x": {
             "color": "#2a3f5f"
            },
            "error_y": {
             "color": "#2a3f5f"
            },
            "marker": {
             "line": {
              "color": "#E5ECF6",
              "width": 0.5
             },
             "pattern": {
              "fillmode": "overlay",
              "size": 10,
              "solidity": 0.2
             }
            },
            "type": "bar"
           }
          ],
          "barpolar": [
           {
            "marker": {
             "line": {
              "color": "#E5ECF6",
              "width": 0.5
             },
             "pattern": {
              "fillmode": "overlay",
              "size": 10,
              "solidity": 0.2
             }
            },
            "type": "barpolar"
           }
          ],
          "carpet": [
           {
            "aaxis": {
             "endlinecolor": "#2a3f5f",
             "gridcolor": "white",
             "linecolor": "white",
             "minorgridcolor": "white",
             "startlinecolor": "#2a3f5f"
            },
            "baxis": {
             "endlinecolor": "#2a3f5f",
             "gridcolor": "white",
             "linecolor": "white",
             "minorgridcolor": "white",
             "startlinecolor": "#2a3f5f"
            },
            "type": "carpet"
           }
          ],
          "choropleth": [
           {
            "colorbar": {
             "outlinewidth": 0,
             "ticks": ""
            },
            "type": "choropleth"
           }
          ],
          "contour": [
           {
            "colorbar": {
             "outlinewidth": 0,
             "ticks": ""
            },
            "colorscale": [
             [
              0,
              "#0d0887"
             ],
             [
              0.1111111111111111,
              "#46039f"
             ],
             [
              0.2222222222222222,
              "#7201a8"
             ],
             [
              0.3333333333333333,
              "#9c179e"
             ],
             [
              0.4444444444444444,
              "#bd3786"
             ],
             [
              0.5555555555555556,
              "#d8576b"
             ],
             [
              0.6666666666666666,
              "#ed7953"
             ],
             [
              0.7777777777777778,
              "#fb9f3a"
             ],
             [
              0.8888888888888888,
              "#fdca26"
             ],
             [
              1,
              "#f0f921"
             ]
            ],
            "type": "contour"
           }
          ],
          "contourcarpet": [
           {
            "colorbar": {
             "outlinewidth": 0,
             "ticks": ""
            },
            "type": "contourcarpet"
           }
          ],
          "heatmap": [
           {
            "colorbar": {
             "outlinewidth": 0,
             "ticks": ""
            },
            "colorscale": [
             [
              0,
              "#0d0887"
             ],
             [
              0.1111111111111111,
              "#46039f"
             ],
             [
              0.2222222222222222,
              "#7201a8"
             ],
             [
              0.3333333333333333,
              "#9c179e"
             ],
             [
              0.4444444444444444,
              "#bd3786"
             ],
             [
              0.5555555555555556,
              "#d8576b"
             ],
             [
              0.6666666666666666,
              "#ed7953"
             ],
             [
              0.7777777777777778,
              "#fb9f3a"
             ],
             [
              0.8888888888888888,
              "#fdca26"
             ],
             [
              1,
              "#f0f921"
             ]
            ],
            "type": "heatmap"
           }
          ],
          "heatmapgl": [
           {
            "colorbar": {
             "outlinewidth": 0,
             "ticks": ""
            },
            "colorscale": [
             [
              0,
              "#0d0887"
             ],
             [
              0.1111111111111111,
              "#46039f"
             ],
             [
              0.2222222222222222,
              "#7201a8"
             ],
             [
              0.3333333333333333,
              "#9c179e"
             ],
             [
              0.4444444444444444,
              "#bd3786"
             ],
             [
              0.5555555555555556,
              "#d8576b"
             ],
             [
              0.6666666666666666,
              "#ed7953"
             ],
             [
              0.7777777777777778,
              "#fb9f3a"
             ],
             [
              0.8888888888888888,
              "#fdca26"
             ],
             [
              1,
              "#f0f921"
             ]
            ],
            "type": "heatmapgl"
           }
          ],
          "histogram": [
           {
            "marker": {
             "pattern": {
              "fillmode": "overlay",
              "size": 10,
              "solidity": 0.2
             }
            },
            "type": "histogram"
           }
          ],
          "histogram2d": [
           {
            "colorbar": {
             "outlinewidth": 0,
             "ticks": ""
            },
            "colorscale": [
             [
              0,
              "#0d0887"
             ],
             [
              0.1111111111111111,
              "#46039f"
             ],
             [
              0.2222222222222222,
              "#7201a8"
             ],
             [
              0.3333333333333333,
              "#9c179e"
             ],
             [
              0.4444444444444444,
              "#bd3786"
             ],
             [
              0.5555555555555556,
              "#d8576b"
             ],
             [
              0.6666666666666666,
              "#ed7953"
             ],
             [
              0.7777777777777778,
              "#fb9f3a"
             ],
             [
              0.8888888888888888,
              "#fdca26"
             ],
             [
              1,
              "#f0f921"
             ]
            ],
            "type": "histogram2d"
           }
          ],
          "histogram2dcontour": [
           {
            "colorbar": {
             "outlinewidth": 0,
             "ticks": ""
            },
            "colorscale": [
             [
              0,
              "#0d0887"
             ],
             [
              0.1111111111111111,
              "#46039f"
             ],
             [
              0.2222222222222222,
              "#7201a8"
             ],
             [
              0.3333333333333333,
              "#9c179e"
             ],
             [
              0.4444444444444444,
              "#bd3786"
             ],
             [
              0.5555555555555556,
              "#d8576b"
             ],
             [
              0.6666666666666666,
              "#ed7953"
             ],
             [
              0.7777777777777778,
              "#fb9f3a"
             ],
             [
              0.8888888888888888,
              "#fdca26"
             ],
             [
              1,
              "#f0f921"
             ]
            ],
            "type": "histogram2dcontour"
           }
          ],
          "mesh3d": [
           {
            "colorbar": {
             "outlinewidth": 0,
             "ticks": ""
            },
            "type": "mesh3d"
           }
          ],
          "parcoords": [
           {
            "line": {
             "colorbar": {
              "outlinewidth": 0,
              "ticks": ""
             }
            },
            "type": "parcoords"
           }
          ],
          "pie": [
           {
            "automargin": true,
            "type": "pie"
           }
          ],
          "scatter": [
           {
            "marker": {
             "colorbar": {
              "outlinewidth": 0,
              "ticks": ""
             }
            },
            "type": "scatter"
           }
          ],
          "scatter3d": [
           {
            "line": {
             "colorbar": {
              "outlinewidth": 0,
              "ticks": ""
             }
            },
            "marker": {
             "colorbar": {
              "outlinewidth": 0,
              "ticks": ""
             }
            },
            "type": "scatter3d"
           }
          ],
          "scattercarpet": [
           {
            "marker": {
             "colorbar": {
              "outlinewidth": 0,
              "ticks": ""
             }
            },
            "type": "scattercarpet"
           }
          ],
          "scattergeo": [
           {
            "marker": {
             "colorbar": {
              "outlinewidth": 0,
              "ticks": ""
             }
            },
            "type": "scattergeo"
           }
          ],
          "scattergl": [
           {
            "marker": {
             "colorbar": {
              "outlinewidth": 0,
              "ticks": ""
             }
            },
            "type": "scattergl"
           }
          ],
          "scattermapbox": [
           {
            "marker": {
             "colorbar": {
              "outlinewidth": 0,
              "ticks": ""
             }
            },
            "type": "scattermapbox"
           }
          ],
          "scatterpolar": [
           {
            "marker": {
             "colorbar": {
              "outlinewidth": 0,
              "ticks": ""
             }
            },
            "type": "scatterpolar"
           }
          ],
          "scatterpolargl": [
           {
            "marker": {
             "colorbar": {
              "outlinewidth": 0,
              "ticks": ""
             }
            },
            "type": "scatterpolargl"
           }
          ],
          "scatterternary": [
           {
            "marker": {
             "colorbar": {
              "outlinewidth": 0,
              "ticks": ""
             }
            },
            "type": "scatterternary"
           }
          ],
          "surface": [
           {
            "colorbar": {
             "outlinewidth": 0,
             "ticks": ""
            },
            "colorscale": [
             [
              0,
              "#0d0887"
             ],
             [
              0.1111111111111111,
              "#46039f"
             ],
             [
              0.2222222222222222,
              "#7201a8"
             ],
             [
              0.3333333333333333,
              "#9c179e"
             ],
             [
              0.4444444444444444,
              "#bd3786"
             ],
             [
              0.5555555555555556,
              "#d8576b"
             ],
             [
              0.6666666666666666,
              "#ed7953"
             ],
             [
              0.7777777777777778,
              "#fb9f3a"
             ],
             [
              0.8888888888888888,
              "#fdca26"
             ],
             [
              1,
              "#f0f921"
             ]
            ],
            "type": "surface"
           }
          ],
          "table": [
           {
            "cells": {
             "fill": {
              "color": "#EBF0F8"
             },
             "line": {
              "color": "white"
             }
            },
            "header": {
             "fill": {
              "color": "#C8D4E3"
             },
             "line": {
              "color": "white"
             }
            },
            "type": "table"
           }
          ]
         },
         "layout": {
          "annotationdefaults": {
           "arrowcolor": "#2a3f5f",
           "arrowhead": 0,
           "arrowwidth": 1
          },
          "autotypenumbers": "strict",
          "coloraxis": {
           "colorbar": {
            "outlinewidth": 0,
            "ticks": ""
           }
          },
          "colorscale": {
           "diverging": [
            [
             0,
             "#8e0152"
            ],
            [
             0.1,
             "#c51b7d"
            ],
            [
             0.2,
             "#de77ae"
            ],
            [
             0.3,
             "#f1b6da"
            ],
            [
             0.4,
             "#fde0ef"
            ],
            [
             0.5,
             "#f7f7f7"
            ],
            [
             0.6,
             "#e6f5d0"
            ],
            [
             0.7,
             "#b8e186"
            ],
            [
             0.8,
             "#7fbc41"
            ],
            [
             0.9,
             "#4d9221"
            ],
            [
             1,
             "#276419"
            ]
           ],
           "sequential": [
            [
             0,
             "#0d0887"
            ],
            [
             0.1111111111111111,
             "#46039f"
            ],
            [
             0.2222222222222222,
             "#7201a8"
            ],
            [
             0.3333333333333333,
             "#9c179e"
            ],
            [
             0.4444444444444444,
             "#bd3786"
            ],
            [
             0.5555555555555556,
             "#d8576b"
            ],
            [
             0.6666666666666666,
             "#ed7953"
            ],
            [
             0.7777777777777778,
             "#fb9f3a"
            ],
            [
             0.8888888888888888,
             "#fdca26"
            ],
            [
             1,
             "#f0f921"
            ]
           ],
           "sequentialminus": [
            [
             0,
             "#0d0887"
            ],
            [
             0.1111111111111111,
             "#46039f"
            ],
            [
             0.2222222222222222,
             "#7201a8"
            ],
            [
             0.3333333333333333,
             "#9c179e"
            ],
            [
             0.4444444444444444,
             "#bd3786"
            ],
            [
             0.5555555555555556,
             "#d8576b"
            ],
            [
             0.6666666666666666,
             "#ed7953"
            ],
            [
             0.7777777777777778,
             "#fb9f3a"
            ],
            [
             0.8888888888888888,
             "#fdca26"
            ],
            [
             1,
             "#f0f921"
            ]
           ]
          },
          "colorway": [
           "#636efa",
           "#EF553B",
           "#00cc96",
           "#ab63fa",
           "#FFA15A",
           "#19d3f3",
           "#FF6692",
           "#B6E880",
           "#FF97FF",
           "#FECB52"
          ],
          "font": {
           "color": "#2a3f5f"
          },
          "geo": {
           "bgcolor": "white",
           "lakecolor": "white",
           "landcolor": "#E5ECF6",
           "showlakes": true,
           "showland": true,
           "subunitcolor": "white"
          },
          "hoverlabel": {
           "align": "left"
          },
          "hovermode": "closest",
          "mapbox": {
           "style": "light"
          },
          "paper_bgcolor": "white",
          "plot_bgcolor": "#E5ECF6",
          "polar": {
           "angularaxis": {
            "gridcolor": "white",
            "linecolor": "white",
            "ticks": ""
           },
           "bgcolor": "#E5ECF6",
           "radialaxis": {
            "gridcolor": "white",
            "linecolor": "white",
            "ticks": ""
           }
          },
          "scene": {
           "xaxis": {
            "backgroundcolor": "#E5ECF6",
            "gridcolor": "white",
            "gridwidth": 2,
            "linecolor": "white",
            "showbackground": true,
            "ticks": "",
            "zerolinecolor": "white"
           },
           "yaxis": {
            "backgroundcolor": "#E5ECF6",
            "gridcolor": "white",
            "gridwidth": 2,
            "linecolor": "white",
            "showbackground": true,
            "ticks": "",
            "zerolinecolor": "white"
           },
           "zaxis": {
            "backgroundcolor": "#E5ECF6",
            "gridcolor": "white",
            "gridwidth": 2,
            "linecolor": "white",
            "showbackground": true,
            "ticks": "",
            "zerolinecolor": "white"
           }
          },
          "shapedefaults": {
           "line": {
            "color": "#2a3f5f"
           }
          },
          "ternary": {
           "aaxis": {
            "gridcolor": "white",
            "linecolor": "white",
            "ticks": ""
           },
           "baxis": {
            "gridcolor": "white",
            "linecolor": "white",
            "ticks": ""
           },
           "bgcolor": "#E5ECF6",
           "caxis": {
            "gridcolor": "white",
            "linecolor": "white",
            "ticks": ""
           }
          },
          "title": {
           "x": 0.05
          },
          "xaxis": {
           "automargin": true,
           "gridcolor": "white",
           "linecolor": "white",
           "ticks": "",
           "title": {
            "standoff": 15
           },
           "zerolinecolor": "white",
           "zerolinewidth": 2
          },
          "yaxis": {
           "automargin": true,
           "gridcolor": "white",
           "linecolor": "white",
           "ticks": "",
           "title": {
            "standoff": 15
           },
           "zerolinecolor": "white",
           "zerolinewidth": 2
          }
         }
        },
        "title": {
         "font": {
          "size": 30
         },
         "text": "<b>Genre Count<b>",
         "x": 0.5
        },
        "xaxis": {
         "anchor": "y",
         "domain": [
          0,
          1
         ],
         "showgrid": false,
         "tickangle": 30,
         "title": {
          "text": "Genres"
         }
        },
        "yaxis": {
         "anchor": "x",
         "domain": [
          0,
          1
         ],
         "showgrid": false,
         "title": {
          "text": "Count"
         }
        }
       }
      },
      "text/html": [
       "<div>                            <div id=\"2fe90d8d-021c-44cd-a26f-7ae30f877e01\" class=\"plotly-graph-div\" style=\"height:525px; width:100%;\"></div>            <script type=\"text/javascript\">                require([\"plotly\"], function(Plotly) {                    window.PLOTLYENV=window.PLOTLYENV || {};                                    if (document.getElementById(\"2fe90d8d-021c-44cd-a26f-7ae30f877e01\")) {                    Plotly.newPlot(                        \"2fe90d8d-021c-44cd-a26f-7ae30f877e01\",                        [{\"alignmentgroup\":\"True\",\"bingroup\":\"x\",\"hovertemplate\":\"x=%{x}<br>count=%{y}<extra></extra>\",\"legendgroup\":\"\",\"marker\":{\"color\":\"gold\",\"pattern\":{\"shape\":\"\"}},\"name\":\"\",\"offsetgroup\":\"\",\"orientation\":\"v\",\"showlegend\":false,\"type\":\"histogram\",\"x\":[\"Drama\",\"Crime\",\"Action\",\"Action\",\"Biography\",\"Crime\",\"Crime\",\"Crime\",\"Crime\",\"Action\",\"Action\",\"Drama\",\"Action\",\"Drama\",\"Adventure\",\"Drama\",\"Action\",\"Biography\",\"Action\",\"Drama\",\"Action\",\"Adventure\",\"Crime\",\"Animation\",\"Drama\",\"Crime\",\"Comedy\",\"Crime\",\"Action\",\"Crime\",\"Action\",\"Action\",\"Action\",\"Drama\",\"Action\",\"Action\",\"Action\",\"Comedy\",\"Drama\",\"Biography\",\"Biography\",\"Drama\",\"Crime\",\"Biography\",\"Action\",\"Crime\",\"Crime\",\"Action\",\"Animation\",\"Drama\",\"Animation\",\"Adventure\",\"Drama\",\"Horror\",\"Western\",\"Horror\",\"Mystery\",\"Drama\",\"Comedy\",\"Comedy\",\"Drama\",\"Crime\",\"Drama\",\"Animation\",\"Animation\",\"Action\",\"Action\",\"Animation\",\"Drama\",\"Action\",\"Crime\",\"Comedy\",\"Action\",\"Action\",\"Animation\",\"Drama\",\"Action\",\"Mystery\",\"Drama\",\"Animation\",\"Biography\",\"Drama\",\"Action\",\"Biography\",\"Action\",\"Drama\",\"Drama\",\"Crime\",\"Comedy\",\"Crime\",\"Drama\",\"Drama\",\"Comedy\",\"Biography\",\"Crime\",\"Biography\",\"Action\",\"Crime\",\"Drama\",\"Drama\",\"Drama\",\"Action\",\"Animation\",\"Drama\",\"Animation\",\"Adventure\",\"Drama\",\"Comedy\",\"Comedy\",\"Drama\",\"Drama\",\"Animation\",\"Action\",\"Crime\",\"Drama\",\"Crime\",\"Crime\",\"Action\",\"Comedy\",\"Crime\",\"Adventure\",\"Crime\",\"Adventure\",\"Drama\",\"Comedy\",\"Action\",\"Mystery\",\"Drama\",\"Comedy\",\"Drama\",\"Drama\",\"Crime\",\"Drama\",\"Crime\",\"Drama\",\"Comedy\",\"Comedy\",\"Action\",\"Action\",\"Drama\",\"Comedy\",\"Action\",\"Biography\",\"Action\",\"Action\",\"Action\",\"Crime\",\"Biography\",\"Animation\",\"Action\",\"Action\",\"Drama\",\"Action\",\"Mystery\",\"Animation\",\"Drama\",\"Crime\",\"Drama\",\"Biography\",\"Crime\",\"Drama\",\"Drama\",\"Drama\",\"Action\",\"Action\",\"Biography\",\"Animation\",\"Biography\",\"Action\",\"Animation\",\"Drama\",\"Action\",\"Comedy\",\"Crime\",\"Drama\",\"Crime\",\"Action\",\"Drama\",\"Action\",\"Action\",\"Action\",\"Horror\",\"Biography\",\"Biography\",\"Crime\",\"Adventure\",\"Adventure\",\"Drama\",\"Crime\",\"Western\",\"Adventure\",\"Action\",\"Comedy\",\"Adventure\",\"Crime\",\"Drama\",\"Adventure\",\"Drama\",\"Crime\",\"Drama\",\"Adventure\",\"Comedy\",\"Drama\",\"Biography\",\"Action\",\"Adventure\",\"Action\",\"Drama\",\"Crime\",\"Animation\",\"Comedy\",\"Crime\",\"Animation\",\"Drama\",\"Drama\",\"Action\",\"Action\",\"Adventure\",\"Action\",\"Drama\",\"Comedy\",\"Drama\",\"Comedy\",\"Comedy\",\"Adventure\",\"Drama\",\"Animation\",\"Biography\",\"Comedy\",\"Biography\",\"Action\",\"Action\",\"Biography\",\"Mystery\",\"Drama\",\"Comedy\",\"Drama\",\"Crime\",\"Action\",\"Action\",\"Drama\",\"Adventure\",\"Biography\",\"Animation\",\"Animation\",\"Drama\",\"Adventure\",\"Comedy\",\"Drama\",\"Biography\",\"Animation\",\"Drama\",\"Drama\",\"Comedy\",\"Drama\",\"Crime\",\"Action\",\"Comedy\",\"Biography\",\"Comedy\",\"Drama\",\"Action\",\"Action\",\"Animation\",\"Drama\",\"Drama\",\"Animation\",\"Comedy\",\"Drama\",\"Drama\",\"Crime\",\"Crime\",\"Comedy\",\"Crime\",\"Drama\",\"Drama\",\"Biography\",\"Comedy\",\"Drama\",\"Drama\",\"Comedy\",\"Comedy\",\"Animation\",\"Adventure\",\"Drama\",\"Comedy\",\"Action\",\"Drama\",\"Biography\",\"Drama\",\"Action\",\"Drama\",\"Drama\",\"Drama\",\"Drama\",\"Drama\",\"Biography\",\"Action\",\"Adventure\",\"Adventure\",\"Comedy\",\"Horror\",\"Drama\",\"Crime\",\"Drama\",\"Biography\",\"Drama\",\"Drama\",\"Drama\",\"Biography\",\"Crime\",\"Adventure\",\"Action\",\"Drama\",\"Drama\",\"Drama\",\"Drama\",\"Crime\",\"Crime\",\"Crime\",\"Drama\",\"Action\",\"Film-Noir\",\"Drama\",\"Drama\",\"Comedy\",\"Drama\",\"Drama\",\"Adventure\",\"Comedy\",\"Drama\",\"Comedy\",\"Drama\",\"Comedy\",\"Drama\",\"Action\",\"Comedy\",\"Animation\",\"Crime\",\"Comedy\",\"Biography\",\"Adventure\",\"Drama\",\"Animation\",\"Animation\",\"Drama\",\"Action\",\"Animation\",\"Crime\",\"Biography\",\"Action\",\"Animation\",\"Action\",\"Drama\",\"Action\",\"Drama\",\"Action\",\"Biography\",\"Action\",\"Action\",\"Action\",\"Action\",\"Drama\",\"Comedy\",\"Crime\",\"Drama\",\"Action\",\"Action\",\"Animation\",\"Comedy\",\"Biography\",\"Adventure\",\"Action\",\"Drama\",\"Crime\",\"Biography\",\"Action\",\"Adventure\",\"Action\",\"Action\",\"Drama\",\"Biography\",\"Biography\",\"Action\",\"Adventure\",\"Animation\",\"Comedy\",\"Crime\",\"Comedy\",\"Drama\",\"Drama\",\"Animation\",\"Biography\",\"Animation\",\"Drama\",\"Drama\",\"Comedy\",\"Drama\",\"Comedy\",\"Mystery\",\"Drama\",\"Comedy\",\"Action\",\"Drama\",\"Animation\",\"Drama\",\"Animation\",\"Adventure\",\"Drama\",\"Animation\",\"Adventure\",\"Drama\",\"Drama\",\"Animation\",\"Animation\",\"Drama\",\"Drama\",\"Adventure\",\"Comedy\",\"Comedy\",\"Comedy\",\"Biography\",\"Biography\",\"Comedy\",\"Biography\",\"Drama\",\"Drama\",\"Mystery\",\"Drama\",\"Drama\",\"Biography\",\"Drama\",\"Adventure\",\"Crime\",\"Comedy\",\"Drama\",\"Biography\",\"Drama\",\"Drama\",\"Drama\",\"Drama\",\"Action\",\"Drama\",\"Drama\",\"Comedy\",\"Western\",\"Drama\",\"Crime\",\"Drama\",\"Crime\",\"Crime\",\"Drama\",\"Comedy\",\"Comedy\",\"Drama\",\"Comedy\",\"Crime\",\"Drama\",\"Crime\",\"Drama\",\"Crime\",\"Drama\",\"Horror\",\"Comedy\",\"Crime\",\"Drama\",\"Biography\",\"Biography\",\"Adventure\",\"Action\",\"Biography\",\"Action\",\"Comedy\",\"Action\",\"Comedy\",\"Drama\",\"Drama\",\"Drama\",\"Drama\",\"Action\",\"Drama\",\"Action\",\"Action\",\"Biography\",\"Drama\",\"Comedy\",\"Action\",\"Drama\",\"Drama\",\"Comedy\",\"Adventure\",\"Action\",\"Drama\",\"Action\",\"Drama\",\"Comedy\",\"Drama\",\"Comedy\",\"Drama\",\"Action\",\"Biography\",\"Comedy\",\"Drama\",\"Action\",\"Adventure\",\"Animation\",\"Crime\",\"Comedy\",\"Drama\",\"Action\",\"Comedy\",\"Comedy\",\"Drama\",\"Crime\",\"Adventure\",\"Action\",\"Drama\",\"Comedy\",\"Action\",\"Crime\",\"Action\",\"Action\",\"Adventure\",\"Crime\",\"Drama\",\"Animation\",\"Animation\",\"Drama\",\"Action\",\"Drama\",\"Animation\",\"Animation\",\"Crime\",\"Crime\",\"Drama\",\"Animation\",\"Crime\",\"Crime\",\"Drama\",\"Biography\",\"Comedy\",\"Crime\",\"Drama\",\"Comedy\",\"Drama\",\"Comedy\",\"Comedy\",\"Adventure\",\"Drama\",\"Action\",\"Comedy\",\"Drama\",\"Comedy\",\"Comedy\",\"Biography\",\"Drama\",\"Crime\",\"Action\",\"Biography\",\"Drama\",\"Biography\",\"Drama\",\"Action\",\"Comedy\",\"Drama\",\"Drama\",\"Adventure\",\"Drama\",\"Drama\",\"Crime\",\"Adventure\",\"Adventure\",\"Crime\",\"Drama\",\"Crime\",\"Drama\",\"Comedy\",\"Crime\",\"Comedy\",\"Drama\",\"Crime\",\"Drama\",\"Drama\",\"Drama\",\"Comedy\",\"Adventure\",\"Comedy\",\"Comedy\",\"Action\",\"Comedy\",\"Adventure\",\"Drama\",\"Fantasy\",\"Action\",\"Animation\",\"Comedy\",\"Drama\",\"Drama\",\"Animation\",\"Action\",\"Biography\",\"Adventure\",\"Adventure\",\"Drama\",\"Drama\",\"Action\",\"Biography\",\"Comedy\",\"Action\",\"Crime\",\"Drama\",\"Animation\",\"Biography\",\"Crime\",\"Action\",\"Drama\",\"Comedy\",\"Animation\",\"Comedy\",\"Comedy\",\"Crime\",\"Action\",\"Crime\",\"Comedy\",\"Animation\",\"Biography\",\"Action\",\"Crime\",\"Action\",\"Biography\",\"Biography\",\"Biography\",\"Crime\",\"Crime\",\"Action\",\"Drama\",\"Adventure\",\"Drama\",\"Crime\",\"Action\",\"Action\",\"Action\",\"Drama\",\"Adventure\",\"Biography\",\"Drama\",\"Action\",\"Biography\",\"Action\",\"Drama\",\"Action\",\"Adventure\",\"Comedy\",\"Action\",\"Drama\",\"Drama\",\"Drama\",\"Biography\",\"Animation\",\"Action\",\"Crime\",\"Comedy\",\"Biography\",\"Drama\",\"Action\",\"Adventure\",\"Crime\",\"Animation\",\"Animation\",\"Action\",\"Biography\",\"Drama\",\"Adventure\",\"Biography\",\"Biography\",\"Comedy\",\"Drama\",\"Drama\",\"Drama\",\"Biography\",\"Biography\",\"Comedy\",\"Drama\",\"Animation\",\"Action\",\"Crime\",\"Animation\",\"Crime\",\"Drama\",\"Biography\",\"Animation\",\"Biography\",\"Action\",\"Comedy\",\"Adventure\",\"Crime\",\"Action\",\"Comedy\",\"Comedy\",\"Biography\",\"Action\",\"Adventure\",\"Comedy\",\"Drama\",\"Drama\",\"Drama\",\"Horror\",\"Western\",\"Adventure\",\"Adventure\",\"Drama\",\"Crime\",\"Comedy\",\"Drama\",\"Action\",\"Family\",\"Drama\",\"Horror\",\"Comedy\",\"Drama\",\"Drama\",\"Comedy\",\"Horror\",\"Drama\",\"Drama\",\"Drama\",\"Crime\",\"Drama\",\"Adventure\",\"Crime\",\"Film-Noir\",\"Comedy\",\"Adventure\",\"Comedy\",\"Mystery\",\"Comedy\",\"Comedy\",\"Drama\",\"Comedy\",\"Drama\",\"Drama\",\"Action\",\"Drama\",\"Crime\",\"Drama\",\"Horror\",\"Action\",\"Comedy\",\"Action\",\"Animation\",\"Comedy\",\"Animation\",\"Biography\",\"Action\",\"Drama\",\"Comedy\",\"Comedy\",\"Drama\",\"Drama\",\"Drama\",\"Drama\",\"Animation\",\"Animation\",\"Adventure\",\"Animation\",\"Animation\",\"Drama\",\"Comedy\",\"Drama\",\"Action\",\"Animation\",\"Action\",\"Action\",\"Drama\",\"Action\",\"Comedy\",\"Drama\",\"Comedy\",\"Comedy\",\"Biography\",\"Comedy\",\"Adventure\",\"Drama\",\"Drama\",\"Biography\",\"Animation\",\"Comedy\",\"Animation\",\"Crime\",\"Drama\",\"Drama\",\"Crime\",\"Crime\",\"Drama\",\"Biography\",\"Comedy\",\"Animation\",\"Drama\",\"Drama\",\"Action\",\"Action\",\"Action\",\"Drama\",\"Biography\",\"Drama\",\"Comedy\",\"Adventure\",\"Action\",\"Animation\",\"Drama\",\"Crime\",\"Biography\",\"Comedy\",\"Drama\",\"Animation\",\"Comedy\",\"Action\",\"Crime\",\"Drama\",\"Drama\",\"Comedy\",\"Action\",\"Drama\",\"Animation\",\"Crime\",\"Adventure\",\"Action\",\"Animation\",\"Comedy\",\"Comedy\",\"Action\",\"Action\",\"Action\",\"Drama\",\"Drama\",\"Comedy\",\"Crime\",\"Drama\",\"Biography\",\"Drama\",\"Biography\",\"Crime\",\"Drama\",\"Adventure\",\"Biography\",\"Comedy\",\"Drama\",\"Comedy\",\"Drama\",\"Comedy\",\"Comedy\",\"Biography\",\"Action\",\"Action\",\"Animation\",\"Crime\",\"Drama\",\"Comedy\",\"Drama\",\"Drama\",\"Drama\",\"Crime\",\"Comedy\",\"Comedy\",\"Animation\",\"Mystery\",\"Biography\",\"Comedy\",\"Drama\",\"Drama\",\"Comedy\",\"Crime\",\"Comedy\",\"Adventure\",\"Drama\",\"Comedy\",\"Drama\",\"Action\",\"Action\",\"Drama\",\"Comedy\",\"Horror\",\"Comedy\",\"Comedy\",\"Comedy\",\"Biography\",\"Animation\",\"Action\",\"Adventure\",\"Action\",\"Action\",\"Thriller\",\"Action\",\"Action\",\"Drama\",\"Biography\",\"Drama\",\"Action\",\"Action\",\"Drama\",\"Drama\",\"Action\",\"Crime\",\"Drama\",\"Drama\",\"Comedy\",\"Adventure\",\"Action\",\"Animation\",\"Action\",\"Biography\",\"Animation\",\"Drama\",\"Comedy\",\"Action\",\"Drama\",\"Animation\",\"Animation\",\"Comedy\",\"Action\",\"Action\",\"Crime\",\"Crime\",\"Biography\",\"Action\",\"Action\",\"Action\",\"Drama\",\"Drama\",\"Animation\",\"Comedy\",\"Action\",\"Action\",\"Biography\",\"Drama\",\"Action\",\"Biography\",\"Animation\",\"Comedy\",\"Drama\",\"Crime\",\"Adventure\",\"Action\",\"Biography\",\"Crime\",\"Crime\",\"Animation\",\"Action\",\"Drama\",\"Action\",\"Crime\",\"Horror\",\"Crime\",\"Drama\",\"Comedy\",\"Comedy\",\"Drama\",\"Drama\",\"Drama\",\"Comedy\",\"Adventure\",\"Horror\",\"Crime\",\"Crime\",\"Comedy\",\"Action\",\"Drama\",\"Animation\",\"Action\",\"Comedy\",\"Fantasy\",\"Action\",\"Drama\",\"Comedy\",\"Comedy\",\"Comedy\",\"Crime\",\"Animation\",\"Comedy\",\"Action\",\"Action\",\"Drama\",\"Comedy\",\"Action\",\"Drama\",\"Action\",\"Action\",\"Action\",\"Comedy\",\"Animation\",\"Drama\",\"Drama\",\"Comedy\",\"Drama\",\"Drama\",\"Comedy\",\"Drama\",\"Animation\",\"Crime\",\"Horror\",\"Drama\",\"Crime\",\"Adventure\",\"Drama\",\"Drama\",\"Drama\",\"Drama\",\"Drama\",\"Adventure\",\"Adventure\",\"Adventure\",\"Romance\",\"Western\",\"Sci-Fi\",\"Crime\",\"Adventure\",\"Drama\",\"Drama\",\"Drama\",\"Adventure\",\"War\",\"Drama\",\"Drama\",\"Drama\",\"Sci-Fi\",\"Drama\",\"Adventure\",\"Drama\",\"Drama\",\"Family\",\"Crime\",\"Drama\",\"Thriller\",\"Drama\",\"Music\",\"Comedy\",\"Crime\",\"Mystery\",\"Drama\",\"Drama\",\"Adventure\",\"Drama\",\"Drama\",\"Crime\",\"Adventure\",\"Romance\",\"Drama\",\"Comedy\",\"Mystery\",\"Sci-Fi\",\"Mystery\",\"Thriller\",\"Romance\",\"Drama\",\"Drama\",\"Drama\",\"Romance\",\"Drama\",\"Action\",\"Adventure\",\"Adventure\",\"Adventure\",\"Western\",\"Drama\",\"Drama\",\"Drama\",\"Crime\",\"Biography\",\"Adventure\",\"Mystery\",\"Drama\",\"Thriller\",\"Adventure\",\"Drama\",\"Thriller\",\"Adventure\",\"Drama\",\"Adventure\",\"War\",\"Horror\",\"Drama\",\"War\",\"Drama\",\"War\",\"Film-Noir\",\"Drama\",\"Drama\",\"Drama\",\"Drama\",\"Biography\",\"Drama\",\"Mystery\",\"Adventure\",\"Adventure\",\"Family\",\"Adventure\",\"Drama\",\"Romance\",\"Romance\",\"Crime\",\"Romance\",\"Adventure\",\"Crime\",\"Drama\",\"War\",\"Drama\",\"Drama\",\"Adventure\",\"Crime\",\"Sci-Fi\",\"Sci-Fi\",\"Drama\",\"Biography\",\"War\",\"Drama\",\"Adventure\",\"Romance\",\"Musical\",\"Drama\",\"Mystery\",\"Mystery\",\"Sci-Fi\",\"Drama\",\"Drama\",\"Drama\",\"Drama\",\"Fantasy\",\"Crime\",\"Crime\",\"Comedy\",\"Adventure\",\"Crime\",\"Drama\",\"Drama\",\"Drama\",\"Adventure\",\"Comedy\",\"Biography\",\"Mystery\",\"Drama\",\"Thriller\",\"Action\",\"Drama\",\"Mystery\",\"Comedy\",\"Drama\",\"Family\",\"Fantasy\",\"Drama\",\"Crime\",\"Drama\",\"Adventure\",\"Drama\",\"Crime\",\"Adventure\",\"Mystery\",\"Comedy\",\"Drama\",\"Drama\",\"Family\",\"Drama\",\"Adventure\",\"Western\",\"Adventure\",\"Thriller\",\"Drama\",\"Mystery\",\"Drama\",\"Drama\",\"Drama\",\"Comedy\",\"Biography\",\"Mystery\",\"Drama\",\"Drama\",\"Drama\",\"Music\",\"Drama\",\"Thriller\",\"Drama\",\"Drama\",\"Drama\",\"Romance\",\"Romance\",\"Drama\",\"Adventure\",\"Comedy\",\"Comedy\",\"Romance\",\"Drama\",\"Drama\",\"Crime\",\"Drama\",\"Adventure\",\"Romance\",\"Adventure\",\"Crime\",\"Comedy\",\"Drama\",\"Thriller\",\"Drama\",\"War\",\"Drama\",\"Drama\",\"Comedy\",\"Mystery\",\"Drama\",\"Drama\",\"Drama\",\"Drama\",\"Biography\",\"Biography\",\"Crime\",\"Thriller\",\"Drama\",\"Drama\",\"Adventure\",\"Crime\",\"Fantasy\",\"Drama\",\"Comedy\",\"Action\",\"Family\",\"Biography\",\"Crime\",\"Sport\",\"Drama\",\"Adventure\",\"Romance\",\"Drama\",\"Musical\",\"Drama\",\"Adventure\",\"Drama\",\"Crime\",\"Drama\",\"Thriller\",\"Comedy\",\"Drama\",\"Adventure\",\"Musical\",\"Action\",\"Crime\",\"Romance\",\"Thriller\",\"Drama\",\"Drama\",\"Drama\",\"Romance\",\"Mystery\",\"Crime\",\"Drama\",\"Music\",\"History\",\"Crime\",\"Drama\",\"Comedy\",\"Drama\",\"War\",\"Drama\",\"Sci-Fi\",\"Drama\",\"Drama\",\"Sci-Fi\",\"Music\",\"War\",\"Sport\",\"Drama\",\"Adventure\",\"Thriller\",\"Drama\",\"Crime\",\"Musical\",\"Drama\",\"Thriller\",\"Drama\",\"War\",\"Western\",\"Drama\",\"Drama\",\"Drama\",\"Adventure\",\"Romance\",\"Fantasy\",\"History\",\"Drama\",\"Drama\",\"Drama\",\"Film-Noir\",\"Crime\",\"Mystery\",\"Music\",\"Romance\",\"Drama\",\"Film-Noir\",\"Family\",\"Drama\",\"War\",\"Romance\",\"War\",\"Family\",\"Romance\",\"Drama\",\"Drama\",\"Adventure\",\"Drama\",\"Drama\",\"Drama\",\"Drama\",\"Adventure\",\"Adventure\",\"Drama\",\"Drama\",\"Drama\",\"Drama\",\"Adventure\",\"Adventure\",\"Drama\",\"Romance\",\"Adventure\",\"Romance\",\"Crime\",\"Drama\",\"Adventure\",\"Adventure\",\"Biography\",\"Adventure\",\"Music\",\"Drama\",\"Drama\",\"Thriller\",\"Crime\",\"Adventure\",\"Biography\",\"Drama\",\"Drama\",\"Drama\",\"Mystery\",\"Thriller\",\"Drama\",\"Drama\",\"Comedy\",\"Adventure\",\"Crime\",\"Romance\",\"Drama\",\"Drama\",\"Crime\",\"Drama\",\"Action\",\"Drama\",\"Drama\",\"Drama\",\"Mystery\",\"Action\",\"Drama\",\"Crime\",\"Music\",\"Crime\",\"Drama\",\"Sci-Fi\",\"Romance\",\"Crime\",\"Comedy\",\"Adventure\",\"History\",\"Family\",\"Drama\",\"Action\",\"Family\",\"Fantasy\",\"War\",\"Adventure\",\"Adventure\",\"Fantasy\",\"Drama\",\"Drama\",\"Romance\",\"Crime\",\"Drama\",\"Crime\",\"Mystery\",\"Thriller\",\"Romance\",\"Family\",\"Crime\",\"Horror\",\"Sci-Fi\",\"Drama\",\"Drama\",\"Drama\",\"History\",\"Fantasy\",\"Horror\",\"Drama\",\"War\",\"Sport\",\"Drama\",\"Mystery\",\"Drama\",\"Film-Noir\",\"Drama\",\"Drama\",\"Drama\",\"Romance\",\"Thriller\",\"Crime\",\"Drama\",\"Thriller\",\"Drama\",\"Romance\",\"Film-Noir\",\"History\",\"Mystery\",\"Crime\",\"Drama\",\"Romance\",\"Drama\",\"Comedy\",\"Biography\",\"Drama\",\"Drama\",\"Crime\",\"Drama\",\"Adventure\",\"Drama\",\"Family\",\"Mystery\",\"Music\",\"Crime\",\"Romance\",\"Adventure\",\"Crime\",\"Drama\",\"Romance\",\"Drama\",\"Adventure\",\"Mystery\",\"Drama\",\"Drama\",\"Drama\",\"Fantasy\",\"Sci-Fi\",\"Sport\",\"Drama\",\"Drama\",\"Adventure\",\"Drama\",\"Crime\",\"Fantasy\",\"Adventure\",\"Drama\",\"Adventure\",\"Drama\",\"Drama\",\"Adventure\",\"Horror\",\"Drama\",\"Romance\",\"Drama\",\"Family\",\"Adventure\",\"Mystery\",\"Drama\",\"Mystery\",\"Drama\",\"Drama\",\"Adventure\",\"Comedy\",\"Drama\",\"Mystery\",\"Adventure\",\"Adventure\",\"Romance\",\"Crime\",\"Drama\",\"Action\",\"Drama\",\"Drama\",\"Music\",\"Family\",\"Drama\",\"Drama\",\"Fantasy\",\"Drama\",\"Drama\",\"Drama\",\"Drama\",\"Sci-Fi\",\"Music\",\"Family\",\"Family\",\"History\",\"Adventure\",\"Drama\",\"History\",\"Drama\",\"Drama\",\"Drama\",\"Drama\",\"Adventure\",\"Drama\",\"Mystery\",\"Crime\",\"Romance\",\"Drama\",\"Mystery\",\"Thriller\",\"Biography\",\"Romance\",\"Drama\",\"Drama\",\"Drama\",\"Film-Noir\",\"Drama\",\"Film-Noir\",\"Drama\",\"Drama\",\"Drama\",\"Film-Noir\",\"Film-Noir\",\"Fantasy\",\"Film-Noir\",\"Film-Noir\",\"Crime\",\"Comedy\",\"Romance\",\"Drama\",\"Adventure\",\"Mystery\",\"Horror\",\"Horror\",\"Horror\",\"Comedy\",\"Action\",\"Drama\",\"Romance\",\"Adventure\",\"Drama\",\"Drama\",\"Comedy\",\"Comedy\",\"History\",\"Adventure\",\"Drama\",\"Drama\",\"Adventure\",\"Drama\",\"Romance\",\"Biography\",\"Comedy\",\"Drama\",\"Adventure\",\"Romance\",\"Romance\",\"Action\",\"Drama\",\"Drama\",\"Drama\",\"Adventure\",\"Drama\",\"Drama\",\"Action\",\"Comedy\",\"Crime\",\"Drama\",\"Biography\",\"Drama\",\"Crime\",\"Drama\",\"Drama\",\"Drama\",\"Crime\",\"Mystery\",\"Fantasy\",\"Mystery\",\"Drama\",\"Adventure\",\"Biography\",\"Crime\",\"Music\",\"Fantasy\",\"Crime\",\"Mystery\",\"Drama\",\"Crime\",\"Adventure\",\"Fantasy\",\"Adventure\",\"Drama\",\"Drama\",\"Comedy\",\"Fantasy\",\"Family\",\"Romance\",\"Drama\",\"Adventure\",\"Adventure\",\"Drama\",\"Drama\",\"Drama\",\"Romance\",\"Drama\",\"Biography\",\"Drama\",\"Drama\",\"Action\",\"Drama\",\"Drama\",\"Drama\",\"Drama\",\"Drama\",\"Drama\",\"Sci-Fi\",\"Comedy\",\"Drama\",\"Drama\",\"Romance\",\"Action\",\"Crime\",\"Drama\",\"Action\",\"Drama\",\"Thriller\",\"Drama\",\"Adventure\",\"Drama\",\"Crime\",\"Drama\",\"Comedy\",\"Drama\",\"Adventure\",\"Drama\",\"Drama\",\"Comedy\",\"Biography\",\"Crime\",\"Music\",\"Romance\",\"Thriller\",\"History\",\"Drama\",\"Mystery\",\"Drama\",\"Music\",\"Adventure\",\"Fantasy\",\"Thriller\",\"Drama\",\"Musical\",\"Family\",\"Family\",\"Mystery\",\"Sci-Fi\",\"Drama\",\"Western\",\"Comedy\",\"Drama\",\"Thriller\",\"Drama\",\"Drama\",\"Drama\",\"Thriller\",\"Music\",\"Horror\",\"Musical\",\"Horror\",\"Adventure\",\"Music\",\"Drama\",\"Mystery\",\"Adventure\",\"Drama\",\"Crime\",\"Action\",\"Drama\",\"Drama\",\"Drama\",\"Adventure\",\"Romance\",\"Drama\",\"Drama\",\"Mystery\",\"Romance\",\"Music\",\"Biography\",\"Adventure\",\"Comedy\",\"Adventure\",\"Adventure\",\"Fantasy\",\"Thriller\",\"Crime\",\"Action\",\"Drama\",\"Adventure\",\"War\",\"Adventure\",\"History\",\"Drama\",\"Drama\",\"Drama\",\"Drama\",\"Family\",\"War\",\"Drama\",\"Drama\",\"Drama\",\"Adventure\",\"Drama\",\"Sci-Fi\",\"Drama\",\"Drama\",\"History\",\"Drama\",\"Crime\",\"Adventure\",\"Thriller\",\"Romance\",\"Crime\",\"Comedy\",\"Mystery\",\"Thriller\",\"Drama\",\"Drama\",\"Family\",\"Crime\",\"Drama\",\"Drama\",\"Drama\",\"Drama\",\"Comedy\",\"Drama\",\"Drama\",\"Drama\",\"Thriller\",\"Music\",\"Drama\",\"Adventure\",\"Drama\",\"Thriller\",\"Comedy\",\"Crime\",\"Comedy\",\"Drama\",\"Thriller\",\"Crime\",\"Crime\",\"Mystery\",\"Drama\",\"Drama\",\"Mystery\",\"Crime\",\"Romance\",\"Drama\",\"Drama\",\"Romance\",\"Drama\",\"Comedy\",\"Drama\",\"Drama\",\"Drama\",\"Drama\",\"Adventure\",\"Crime\",\"Adventure\",\"Drama\",\"Thriller\",\"Drama\",\"Fantasy\",\"Fantasy\",\"Drama\",\"Family\",\"Drama\",\"Adventure\",\"Thriller\",\"Drama\",\"Horror\",\"History\",\"History\",\"Crime\",\"Drama\",\"Fantasy\",\"Comedy\",\"Adventure\",\"Adventure\",\"Thriller\",\"Drama\",\"War\",\"Western\",\"Crime\",\"Sci-Fi\",\"Crime\",\"Drama\",\"Crime\",\"Crime\",\"Adventure\",\"Biography\",\"Romance\",\"Drama\",\"History\",\"Adventure\",\"Drama\",\"Thriller\",\"Romance\",\"Adventure\",\"Drama\",\"Horror\",\"War\",\"Drama\",\"Drama\",\"Crime\",\"Family\",\"Crime\",\"Drama\",\"Adventure\",\"Mystery\",\"Drama\",\"Adventure\",\"History\",\"Action\",\"Adventure\",\"Horror\",\"Crime\",\"Drama\",\"Drama\",\"Drama\",\"Comedy\",\"Adventure\",\"Crime\",\"Adventure\",\"Music\",\"Western\",\"Adventure\",\"Drama\",\"Comedy\",\"Crime\",\"Drama\",\"Horror\",\"Comedy\",\"Drama\",\"Adventure\",\"Drama\",\"Family\",\"Drama\",\"Drama\",\"Drama\",\"Drama\",\"Action\",\"Drama\",\"Romance\",\"Drama\",\"Drama\",\"Mystery\",\"Drama\",\"Mystery\",\"Drama\",\"Drama\",\"Sci-Fi\",\"Drama\",\"Family\",\"Mystery\",\"Drama\",\"Drama\",\"Drama\",\"Adventure\",\"History\",\"Adventure\",\"Adventure\",\"Mystery\",\"Adventure\",\"Romance\",\"Drama\",\"Crime\",\"Drama\",\"Drama\",\"Adventure\",\"Crime\",\"Crime\",\"Crime\",\"Horror\",\"Crime\",\"Adventure\",\"Sci-Fi\",\"Crime\",\"Crime\",\"Adventure\",\"Adventure\",\"Horror\",\"Horror\",\"Drama\",\"Horror\",\"Drama\",\"Romance\",\"Adventure\",\"Mystery\",\"Sci-Fi\",\"Drama\",\"Drama\",\"History\",\"Mystery\",\"Sci-Fi\",\"Drama\",\"Drama\",\"Drama\",\"Fantasy\",\"Sci-Fi\",\"Family\",\"Fantasy\",\"Romance\",\"Mystery\",\"Thriller\",\"Fantasy\",\"Mystery\",\"Fantasy\",\"Thriller\",\"Thriller\",\"Drama\",\"Drama\",\"Sci-Fi\",\"Thriller\",\"Music\",\"Drama\",\"Mystery\",\"Drama\",\"Drama\",\"War\",\"Sci-Fi\",\"War\",\"Thriller\",\"War\",\"Romance\",\"Romance\",\"Thriller\",\"Fantasy\",\"Adventure\",\"Drama\",\"Sci-Fi\",\"Comedy\",\"Thriller\",\"Drama\",\"Drama\",\"Family\",\"Thriller\",\"Mystery\",\"Fantasy\",\"History\",\"War\",\"Sci-Fi\",\"Music\",\"Mystery\",\"Mystery\",\"War\",\"History\",\"Mystery\",\"History\",\"Drama\",\"Thriller\",\"Fantasy\",\"Comedy\",\"Comedy\",\"War\",\"Sci-Fi\",\"Comedy\",\"Drama\",\"Thriller\",\"Fantasy\",\"Drama\",\"Drama\",\"Romance\",\"Mystery\",\"Thriller\",\"Romance\",\"Film-Noir\",\"Thriller\",\"Family\",\"Romance\",\"War\",\"History\",\"Horror\",\"Music\",\"Drama\",\"Drama\",\"Comedy\",\"Drama\",\"Mystery\",\"Sport\",\"Comedy\",\"Crime\",\"Crime\",\"Romance\",\"Sport\",\"Adventure\",\"Mystery\",\"Crime\",\"Thriller\",\"War\",\"Sci-Fi\",\"Drama\",\"History\",\"Family\",\"Drama\",\"Comedy\",\"Thriller\",\"Crime\",\"Mystery\",\"Sport\",\"Sci-Fi\",\"War\",\"Sci-Fi\",\"Sport\",\"Fantasy\",\"Drama\",\"Thriller\",\"Thriller\",\"History\",\"Thriller\",\"Romance\",\"War\",\"Thriller\",\"Mystery\",\"Western\",\"War\",\"War\",\"History\",\"Comedy\",\"Drama\",\"Romance\",\"Thriller\",\"Drama\",\"Mystery\",\"Comedy\",\"Thriller\",\"Comedy\",\"Drama\",\"Drama\",\"Sci-Fi\",\"Thriller\",\"Sci-Fi\",\"Fantasy\",\"Crime\",\"Thriller\",\"Family\",\"History\",\"Romance\",\"History\",\"Drama\",\"Drama\",\"Drama\",\"Musical\",\"Mystery\",\"Sci-Fi\",\"Drama\",\"Mystery\",\"Family\",\"Drama\",\"Adventure\",\"Sport\",\"Drama\",\"Drama\",\"History\",\"Comedy\",\"Mystery\",\"Fantasy\",\"Romance\",\"Drama\",\"Thriller\",\"Crime\",\"Thriller\",\"Comedy\",\"Sport\",\"Adventure\",\"Thriller\",\"Fantasy\",\"Romance\",\"Drama\",\"Fantasy\",\"Romance\",\"Romance\",\"Drama\",\"Family\",\"Sci-Fi\",\"History\",\"Comedy\",\"War\",\"Drama\",\"Family\",\"History\",\"Drama\",\"Thriller\",\"Thriller\",\"Horror\",\"Drama\",\"Thriller\",\"Romance\",\"War\",\"Romance\",\"Mystery\",\"Fantasy\",\"Romance\",\"Family\",\"Mystery\",\"Music\",\"Sci-Fi\",\"Comedy\",\"Comedy\",\"Family\",\"Thriller\",\"Thriller\",\"Comedy\",\"Drama\",\"Mystery\",\"Sci-Fi\",\"Drama\",\"Drama\",\"History\",\"Comedy\",\"Fantasy\",\"Drama\",\"Drama\",\"Music\",\"Romance\",\"Drama\",\"Sci-Fi\",\"Drama\",\"Romance\",\"Thriller\",\"Thriller\",\"War\",\"Sci-Fi\",\"Thriller\",\"Thriller\",\"Romance\",\"Drama\",\"Fantasy\",\"Adventure\",\"Romance\",\"Sci-Fi\",\"Drama\",\"Drama\",\"Romance\",\"Romance\",\"Thriller\",\"Drama\",\"Romance\",\"Comedy\",\"Thriller\",\"Fantasy\",\"Western\",\"Drama\",\"Fantasy\",\"Romance\",\"Family\",\"Sci-Fi\",\"Music\",\"Drama\",\"Drama\",\"Sci-Fi\",\"Musical\",\"Drama\",\"Romance\",\"History\",\"Thriller\",\"Thriller\",\"Film-Noir\",\"Film-Noir\",\"Film-Noir\",\"War\",\"Western\",\"Film-Noir\",\"War\",\"Film-Noir\",\"Mystery\",\"Thriller\",\"Thriller\",\"Drama\",\"Thriller\",\"Drama\",\"Drama\",\"History\",\"Sport\",\"Thriller\",\"Music\",\"Comedy\",\"War\",\"Sci-Fi\",\"Romance\",\"Thriller\",\"Sci-Fi\",\"Drama\",\"Music\",\"Romance\",\"Sci-Fi\",\"Romance\",\"Romance\",\"Thriller\",\"Horror\",\"Thriller\",\"Romance\",\"Romance\",\"Sci-Fi\",\"Drama\",\"Mystery\",\"Drama\",\"Fantasy\",\"Comedy\",\"Romance\",\"Sci-Fi\",\"Musical\",\"Mystery\",\"Fantasy\",\"Drama\",\"Romance\",\"War\",\"Thriller\",\"Thriller\",\"Sci-Fi\",\"Drama\",\"Drama\",\"Musical\",\"Thriller\",\"Comedy\",\"Comedy\",\"Comedy\",\"Family\",\"Crime\",\"Romance\",\"Mystery\",\"Fantasy\",\"Thriller\",\"Romance\",\"Thriller\",\"Sci-Fi\",\"War\",\"Comedy\",\"Romance\",\"Thriller\",\"Romance\",\"War\",\"Thriller\",\"Western\",\"History\",\"Thriller\",\"Drama\",\"War\",\"Western\",\"Romance\",\"Drama\",\"Thriller\",\"Family\",\"Western\",\"Thriller\",\"Film-Noir\",\"Mystery\",\"Fantasy\",\"Mystery\",\"Family\",\"Romance\",\"Mystery\",\"Romance\",\"Mystery\",\"Thriller\",\"Drama\",\"Romance\",\"Sci-Fi\",\"Crime\",\"Adventure\",\"Comedy\",\"History\",\"History\",\"Drama\",\"Family\",\"War\",\"Sci-Fi\",\"Music\",\"Sci-Fi\",\"Mystery\",\"Crime\",\"Drama\",\"Thriller\",\"Sci-Fi\",\"Adventure\",\"Fantasy\",\"Family\",\"Mystery\",\"Sci-Fi\",\"Romance\",\"Adventure\",\"Drama\",\"Drama\",\"Mystery\",\"Crime\",\"History\",\"Drama\",\"Mystery\",\"Drama\",\"Sci-Fi\",\"Thriller\",\"Mystery\",\"Thriller\",\"Drama\",\"Thriller\",\"Romance\",\"Drama\",\"Romance\",\"Drama\",\"Fantasy\",\"Romance\",\"Drama\",\"Fantasy\",\"Mystery\",\"Romance\",\"Musical\",\"Sport\",\"Comedy\",\"Sci-Fi\",\"Thriller\",\"Music\",\"Music\",\"Drama\",\"Fantasy\",\"Crime\",\"Thriller\",\"Sport\",\"Romance\",\"Thriller\",\"Family\",\"Fantasy\",\"Thriller\",\"Drama\",\"History\",\"Family\",\"Adventure\",\"Drama\",\"Adventure\",\"Family\",\"History\",\"Drama\",\"Sci-Fi\",\"History\",\"Horror\",\"History\",\"Fantasy\",\"Drama\",\"Drama\",\"Musical\",\"War\",\"Fantasy\",\"Thriller\",\"Thriller\",\"Musical\",\"Biography\",\"Musical\",\"Romance\",\"Musical\",\"Fantasy\",\"Romance\",\"Film-Noir\",\"Film-Noir\",\"Mystery\",\"Romance\",\"Western\",\"Romance\",\"Musical\",\"Sci-Fi\",\"Sci-Fi\",\"Comedy\",\"Mystery\",\"Thriller\",\"Thriller\",\"Drama\",\"Adventure\",\"Romance\",\"Family\",\"Romance\",\"Comedy\",\"Romance\",\"Drama\",\"Comedy\",\"Drama\",\"Comedy\",\"Drama\",\"Romance\",\"Drama\",\"Adventure\",\"Sci-Fi\",\"Sci-Fi\",\"Sci-Fi\",\"Thriller\",\"Romance\",\"Thriller\",\"Romance\",\"Fantasy\",\"History\",\"Fantasy\",\"Romance\",\"Comedy\",\"Thriller\",\"Mystery\",\"Thriller\",\"Music\",\"Music\",\"Drama\",\"Comedy\",\"War\",\"Drama\",\"Fantasy\",\"Thriller\",\"Music\",\"Fantasy\",\"Drama\",\"Family\",\"Thriller\",\"Family\",\"Romance\",\"Drama\",\"History\",\"Thriller\",\"Music\",\"Drama\",\"Fantasy\",\"Crime\",\"Mystery\",\"Fantasy\",\"Drama\",\"Thriller\",\"Sci-Fi\",\"Romance\",\"Romance\",\"Thriller\",\"Drama\",\"Music\",\"Mystery\",\"History\",\"Drama\",\"Family\",\"History\",\"Drama\",\"Thriller\",\"Comedy\",\"Mystery\",\"Music\",\"Thriller\",\"Romance\",\"Comedy\",\"History\",\"War\",\"Mystery\",\"Drama\",\"Mystery\",\"Romance\",\"Family\",\"Sci-Fi\",\"Thriller\",\"Music\",\"Drama\",\"Drama\",\"Thriller\",\"Drama\",\"Thriller\",\"War\",\"Crime\",\"History\",\"War\",\"Thriller\",\"History\",\"Western\",\"Sci-Fi\",\"Romance\",\"Romance\",\"Drama\",\"Fantasy\",\"Drama\",\"History\",\"Comedy\",\"Thriller\",\"Comedy\",\"Thriller\",\"Adventure\",\"Comedy\",\"Drama\",\"Sport\",\"Thriller\",\"Drama\",\"Drama\",\"Thriller\",\"Crime\",\"Romance\",\"Comedy\",\"Romance\",\"Crime\",\"Drama\",\"Sport\",\"Thriller\",\"Horror\",\"Sport\",\"Comedy\",\"Thriller\",\"Fantasy\",\"History\",\"History\",\"Mystery\",\"Mystery\",\"Adventure\",\"Thriller\",\"Mystery\",\"Thriller\",\"Romance\",\"Romance\",\"Thriller\",\"Fantasy\",\"Thriller\",\"Thriller\",\"Horror\",\"Romance\",\"Fantasy\",\"War\",\"Comedy\",\"Sci-Fi\",\"Sci-Fi\",\"Thriller\",\"Romance\",\"Thriller\",\"Comedy\",\"Sci-Fi\",\"Thriller\",\"Sci-Fi\",\"Drama\",\"Sci-Fi\",\"Thriller\",\"Drama\",\"War\",\"Comedy\",\"Thriller\",\"Mystery\",\"Romance\",\"Romance\",\"War\",\"Family\",\"Thriller\"],\"xaxis\":\"x\",\"yaxis\":\"y\"}],                        {\"bargap\":0.2,\"barmode\":\"relative\",\"font\":{\"color\":\"white\",\"family\":\"Lato\",\"size\":18},\"legend\":{\"tracegroupgap\":0},\"margin\":{\"t\":60},\"paper_bgcolor\":\"black\",\"plot_bgcolor\":\"black\",\"template\":{\"data\":{\"bar\":[{\"error_x\":{\"color\":\"#2a3f5f\"},\"error_y\":{\"color\":\"#2a3f5f\"},\"marker\":{\"line\":{\"color\":\"#E5ECF6\",\"width\":0.5},\"pattern\":{\"fillmode\":\"overlay\",\"size\":10,\"solidity\":0.2}},\"type\":\"bar\"}],\"barpolar\":[{\"marker\":{\"line\":{\"color\":\"#E5ECF6\",\"width\":0.5},\"pattern\":{\"fillmode\":\"overlay\",\"size\":10,\"solidity\":0.2}},\"type\":\"barpolar\"}],\"carpet\":[{\"aaxis\":{\"endlinecolor\":\"#2a3f5f\",\"gridcolor\":\"white\",\"linecolor\":\"white\",\"minorgridcolor\":\"white\",\"startlinecolor\":\"#2a3f5f\"},\"baxis\":{\"endlinecolor\":\"#2a3f5f\",\"gridcolor\":\"white\",\"linecolor\":\"white\",\"minorgridcolor\":\"white\",\"startlinecolor\":\"#2a3f5f\"},\"type\":\"carpet\"}],\"choropleth\":[{\"colorbar\":{\"outlinewidth\":0,\"ticks\":\"\"},\"type\":\"choropleth\"}],\"contour\":[{\"colorbar\":{\"outlinewidth\":0,\"ticks\":\"\"},\"colorscale\":[[0.0,\"#0d0887\"],[0.1111111111111111,\"#46039f\"],[0.2222222222222222,\"#7201a8\"],[0.3333333333333333,\"#9c179e\"],[0.4444444444444444,\"#bd3786\"],[0.5555555555555556,\"#d8576b\"],[0.6666666666666666,\"#ed7953\"],[0.7777777777777778,\"#fb9f3a\"],[0.8888888888888888,\"#fdca26\"],[1.0,\"#f0f921\"]],\"type\":\"contour\"}],\"contourcarpet\":[{\"colorbar\":{\"outlinewidth\":0,\"ticks\":\"\"},\"type\":\"contourcarpet\"}],\"heatmap\":[{\"colorbar\":{\"outlinewidth\":0,\"ticks\":\"\"},\"colorscale\":[[0.0,\"#0d0887\"],[0.1111111111111111,\"#46039f\"],[0.2222222222222222,\"#7201a8\"],[0.3333333333333333,\"#9c179e\"],[0.4444444444444444,\"#bd3786\"],[0.5555555555555556,\"#d8576b\"],[0.6666666666666666,\"#ed7953\"],[0.7777777777777778,\"#fb9f3a\"],[0.8888888888888888,\"#fdca26\"],[1.0,\"#f0f921\"]],\"type\":\"heatmap\"}],\"heatmapgl\":[{\"colorbar\":{\"outlinewidth\":0,\"ticks\":\"\"},\"colorscale\":[[0.0,\"#0d0887\"],[0.1111111111111111,\"#46039f\"],[0.2222222222222222,\"#7201a8\"],[0.3333333333333333,\"#9c179e\"],[0.4444444444444444,\"#bd3786\"],[0.5555555555555556,\"#d8576b\"],[0.6666666666666666,\"#ed7953\"],[0.7777777777777778,\"#fb9f3a\"],[0.8888888888888888,\"#fdca26\"],[1.0,\"#f0f921\"]],\"type\":\"heatmapgl\"}],\"histogram\":[{\"marker\":{\"pattern\":{\"fillmode\":\"overlay\",\"size\":10,\"solidity\":0.2}},\"type\":\"histogram\"}],\"histogram2d\":[{\"colorbar\":{\"outlinewidth\":0,\"ticks\":\"\"},\"colorscale\":[[0.0,\"#0d0887\"],[0.1111111111111111,\"#46039f\"],[0.2222222222222222,\"#7201a8\"],[0.3333333333333333,\"#9c179e\"],[0.4444444444444444,\"#bd3786\"],[0.5555555555555556,\"#d8576b\"],[0.6666666666666666,\"#ed7953\"],[0.7777777777777778,\"#fb9f3a\"],[0.8888888888888888,\"#fdca26\"],[1.0,\"#f0f921\"]],\"type\":\"histogram2d\"}],\"histogram2dcontour\":[{\"colorbar\":{\"outlinewidth\":0,\"ticks\":\"\"},\"colorscale\":[[0.0,\"#0d0887\"],[0.1111111111111111,\"#46039f\"],[0.2222222222222222,\"#7201a8\"],[0.3333333333333333,\"#9c179e\"],[0.4444444444444444,\"#bd3786\"],[0.5555555555555556,\"#d8576b\"],[0.6666666666666666,\"#ed7953\"],[0.7777777777777778,\"#fb9f3a\"],[0.8888888888888888,\"#fdca26\"],[1.0,\"#f0f921\"]],\"type\":\"histogram2dcontour\"}],\"mesh3d\":[{\"colorbar\":{\"outlinewidth\":0,\"ticks\":\"\"},\"type\":\"mesh3d\"}],\"parcoords\":[{\"line\":{\"colorbar\":{\"outlinewidth\":0,\"ticks\":\"\"}},\"type\":\"parcoords\"}],\"pie\":[{\"automargin\":true,\"type\":\"pie\"}],\"scatter\":[{\"marker\":{\"colorbar\":{\"outlinewidth\":0,\"ticks\":\"\"}},\"type\":\"scatter\"}],\"scatter3d\":[{\"line\":{\"colorbar\":{\"outlinewidth\":0,\"ticks\":\"\"}},\"marker\":{\"colorbar\":{\"outlinewidth\":0,\"ticks\":\"\"}},\"type\":\"scatter3d\"}],\"scattercarpet\":[{\"marker\":{\"colorbar\":{\"outlinewidth\":0,\"ticks\":\"\"}},\"type\":\"scattercarpet\"}],\"scattergeo\":[{\"marker\":{\"colorbar\":{\"outlinewidth\":0,\"ticks\":\"\"}},\"type\":\"scattergeo\"}],\"scattergl\":[{\"marker\":{\"colorbar\":{\"outlinewidth\":0,\"ticks\":\"\"}},\"type\":\"scattergl\"}],\"scattermapbox\":[{\"marker\":{\"colorbar\":{\"outlinewidth\":0,\"ticks\":\"\"}},\"type\":\"scattermapbox\"}],\"scatterpolar\":[{\"marker\":{\"colorbar\":{\"outlinewidth\":0,\"ticks\":\"\"}},\"type\":\"scatterpolar\"}],\"scatterpolargl\":[{\"marker\":{\"colorbar\":{\"outlinewidth\":0,\"ticks\":\"\"}},\"type\":\"scatterpolargl\"}],\"scatterternary\":[{\"marker\":{\"colorbar\":{\"outlinewidth\":0,\"ticks\":\"\"}},\"type\":\"scatterternary\"}],\"surface\":[{\"colorbar\":{\"outlinewidth\":0,\"ticks\":\"\"},\"colorscale\":[[0.0,\"#0d0887\"],[0.1111111111111111,\"#46039f\"],[0.2222222222222222,\"#7201a8\"],[0.3333333333333333,\"#9c179e\"],[0.4444444444444444,\"#bd3786\"],[0.5555555555555556,\"#d8576b\"],[0.6666666666666666,\"#ed7953\"],[0.7777777777777778,\"#fb9f3a\"],[0.8888888888888888,\"#fdca26\"],[1.0,\"#f0f921\"]],\"type\":\"surface\"}],\"table\":[{\"cells\":{\"fill\":{\"color\":\"#EBF0F8\"},\"line\":{\"color\":\"white\"}},\"header\":{\"fill\":{\"color\":\"#C8D4E3\"},\"line\":{\"color\":\"white\"}},\"type\":\"table\"}]},\"layout\":{\"annotationdefaults\":{\"arrowcolor\":\"#2a3f5f\",\"arrowhead\":0,\"arrowwidth\":1},\"autotypenumbers\":\"strict\",\"coloraxis\":{\"colorbar\":{\"outlinewidth\":0,\"ticks\":\"\"}},\"colorscale\":{\"diverging\":[[0,\"#8e0152\"],[0.1,\"#c51b7d\"],[0.2,\"#de77ae\"],[0.3,\"#f1b6da\"],[0.4,\"#fde0ef\"],[0.5,\"#f7f7f7\"],[0.6,\"#e6f5d0\"],[0.7,\"#b8e186\"],[0.8,\"#7fbc41\"],[0.9,\"#4d9221\"],[1,\"#276419\"]],\"sequential\":[[0.0,\"#0d0887\"],[0.1111111111111111,\"#46039f\"],[0.2222222222222222,\"#7201a8\"],[0.3333333333333333,\"#9c179e\"],[0.4444444444444444,\"#bd3786\"],[0.5555555555555556,\"#d8576b\"],[0.6666666666666666,\"#ed7953\"],[0.7777777777777778,\"#fb9f3a\"],[0.8888888888888888,\"#fdca26\"],[1.0,\"#f0f921\"]],\"sequentialminus\":[[0.0,\"#0d0887\"],[0.1111111111111111,\"#46039f\"],[0.2222222222222222,\"#7201a8\"],[0.3333333333333333,\"#9c179e\"],[0.4444444444444444,\"#bd3786\"],[0.5555555555555556,\"#d8576b\"],[0.6666666666666666,\"#ed7953\"],[0.7777777777777778,\"#fb9f3a\"],[0.8888888888888888,\"#fdca26\"],[1.0,\"#f0f921\"]]},\"colorway\":[\"#636efa\",\"#EF553B\",\"#00cc96\",\"#ab63fa\",\"#FFA15A\",\"#19d3f3\",\"#FF6692\",\"#B6E880\",\"#FF97FF\",\"#FECB52\"],\"font\":{\"color\":\"#2a3f5f\"},\"geo\":{\"bgcolor\":\"white\",\"lakecolor\":\"white\",\"landcolor\":\"#E5ECF6\",\"showlakes\":true,\"showland\":true,\"subunitcolor\":\"white\"},\"hoverlabel\":{\"align\":\"left\"},\"hovermode\":\"closest\",\"mapbox\":{\"style\":\"light\"},\"paper_bgcolor\":\"white\",\"plot_bgcolor\":\"#E5ECF6\",\"polar\":{\"angularaxis\":{\"gridcolor\":\"white\",\"linecolor\":\"white\",\"ticks\":\"\"},\"bgcolor\":\"#E5ECF6\",\"radialaxis\":{\"gridcolor\":\"white\",\"linecolor\":\"white\",\"ticks\":\"\"}},\"scene\":{\"xaxis\":{\"backgroundcolor\":\"#E5ECF6\",\"gridcolor\":\"white\",\"gridwidth\":2,\"linecolor\":\"white\",\"showbackground\":true,\"ticks\":\"\",\"zerolinecolor\":\"white\"},\"yaxis\":{\"backgroundcolor\":\"#E5ECF6\",\"gridcolor\":\"white\",\"gridwidth\":2,\"linecolor\":\"white\",\"showbackground\":true,\"ticks\":\"\",\"zerolinecolor\":\"white\"},\"zaxis\":{\"backgroundcolor\":\"#E5ECF6\",\"gridcolor\":\"white\",\"gridwidth\":2,\"linecolor\":\"white\",\"showbackground\":true,\"ticks\":\"\",\"zerolinecolor\":\"white\"}},\"shapedefaults\":{\"line\":{\"color\":\"#2a3f5f\"}},\"ternary\":{\"aaxis\":{\"gridcolor\":\"white\",\"linecolor\":\"white\",\"ticks\":\"\"},\"baxis\":{\"gridcolor\":\"white\",\"linecolor\":\"white\",\"ticks\":\"\"},\"bgcolor\":\"#E5ECF6\",\"caxis\":{\"gridcolor\":\"white\",\"linecolor\":\"white\",\"ticks\":\"\"}},\"title\":{\"x\":0.05},\"xaxis\":{\"automargin\":true,\"gridcolor\":\"white\",\"linecolor\":\"white\",\"ticks\":\"\",\"title\":{\"standoff\":15},\"zerolinecolor\":\"white\",\"zerolinewidth\":2},\"yaxis\":{\"automargin\":true,\"gridcolor\":\"white\",\"linecolor\":\"white\",\"ticks\":\"\",\"title\":{\"standoff\":15},\"zerolinecolor\":\"white\",\"zerolinewidth\":2}}},\"title\":{\"font\":{\"size\":30},\"text\":\"<b>Genre Count<b>\",\"x\":0.5},\"xaxis\":{\"anchor\":\"y\",\"domain\":[0.0,1.0],\"showgrid\":false,\"tickangle\":30,\"title\":{\"text\":\"Genres\"}},\"yaxis\":{\"anchor\":\"x\",\"domain\":[0.0,1.0],\"showgrid\":false,\"title\":{\"text\":\"Count\"}}},                        {\"responsive\": true}                    ).then(function(){\n",
       "                            \n",
       "var gd = document.getElementById('2fe90d8d-021c-44cd-a26f-7ae30f877e01');\n",
       "var x = new MutationObserver(function (mutations, observer) {{\n",
       "        var display = window.getComputedStyle(gd).display;\n",
       "        if (!display || display === 'none') {{\n",
       "            console.log([gd, 'removed!']);\n",
       "            Plotly.purge(gd);\n",
       "            observer.disconnect();\n",
       "        }}\n",
       "}});\n",
       "\n",
       "// Listen for the removal of the full notebook cells\n",
       "var notebookContainer = gd.closest('#notebook-container');\n",
       "if (notebookContainer) {{\n",
       "    x.observe(notebookContainer, {childList: true});\n",
       "}}\n",
       "\n",
       "// Listen for the clearing of the current output cell\n",
       "var outputEl = gd.closest('.output');\n",
       "if (outputEl) {{\n",
       "    x.observe(outputEl, {childList: true});\n",
       "}}\n",
       "\n",
       "                        })                };                });            </script>        </div>"
      ]
     },
     "metadata": {},
     "output_type": "display_data"
    }
   ],
   "source": [
    "fig = px.histogram(data_frame =dfgenre.value_counts(),x=dfgenre['G'], color_discrete_sequence=['gold'])\n",
    "\n",
    "fig.update_layout(font=dict(family='Lato', size=18, color='white'), \n",
    "                  title=dict(text='<b>Genre Count<b>',\n",
    "                           font=dict(size=30), x=.5), bargap=0.2,\n",
    "                  paper_bgcolor= 'black', plot_bgcolor='black',\n",
    "                 xaxis = dict(title='Genres', showgrid=False),\n",
    "                 yaxis=dict(title='Count',showgrid=False))\n",
    "fig.update_xaxes(tickangle=30)\n",
    "fig.show()"
   ]
  },
  {
   "cell_type": "markdown",
   "id": "ffc03ff0",
   "metadata": {},
   "source": [
    "* Drama is the most popular genre in top movies having the count of 728.\n",
    "* Musical and Sport is least popular genre in top movies having the count of 16 each."
   ]
  },
  {
   "cell_type": "code",
   "execution_count": 19,
   "id": "8802fa57",
   "metadata": {},
   "outputs": [],
   "source": [
    "def bar_plot(column_name, data_frame =df, tribe='value_counts', by=None, limit=None, **kwargs):\n",
    "    \n",
    "    if type(column_name)!= str or column_name not in data_frame.columns:\n",
    "        raise ValueError('Incorrect name or type')\n",
    "        \n",
    "    if type(limit)!= int:\n",
    "        raise ValueError(f'expected int type, got {type(limit)}')\n",
    "        \n",
    "    if tribe == 'sort':\n",
    "        \n",
    "        if not by or by not in data_frame.columns:\n",
    "            raise ValueError('by parameter must be a column from dataframe!')\n",
    "        data = data_frame.sort_values(by=by, ascending=False).head(limit)\n",
    "        y=data[by].values\n",
    "        x=data[column_name]\n",
    "        title=by\n",
    "        \n",
    "    elif tribe == 'value_counts':\n",
    "        data = data_frame[column_name].value_counts().head(limit)\n",
    "        x=data.index\n",
    "        y=data.values\n",
    "        title=column_name\n",
    "            \n",
    "    fig = px.bar(x=x, y=y, color_discrete_sequence=['gold'])\n",
    "        \n",
    "    fig.update_layout(font=dict(family='Lato', size=18, color='white'),\n",
    "                        title=dict(text=f'<b>IMDB movies - {title}',\n",
    "                                  font = dict(size=30), x=0.5),\n",
    "                        paper_bgcolor='black', plot_bgcolor='black',\n",
    "                        xaxis=dict(title=f'{title}', showgrid=False),\n",
    "                        yaxis=dict(title=f'count', showgrid=False))\n",
    "    fig.update_xaxes(tickangle=30)\n",
    "    fig.show()\n",
    "        \n",
    "        "
   ]
  },
  {
   "cell_type": "markdown",
   "id": "844804b3",
   "metadata": {},
   "source": [
    "# Top Grossing Movies"
   ]
  },
  {
   "cell_type": "code",
   "execution_count": 20,
   "id": "659d7555",
   "metadata": {},
   "outputs": [
    {
     "data": {
      "application/vnd.plotly.v1+json": {
       "config": {
        "plotlyServerURL": "https://plot.ly"
       },
       "data": [
        {
         "alignmentgroup": "True",
         "hovertemplate": "x=%{x}<br>y=%{y}<extra></extra>",
         "legendgroup": "",
         "marker": {
          "color": "gold",
          "pattern": {
           "shape": ""
          }
         },
         "name": "",
         "offsetgroup": "",
         "orientation": "v",
         "showlegend": false,
         "textposition": "auto",
         "type": "bar",
         "x": [
          "Star Wars: Episode VII - The Force Awakens",
          "Avengers: Endgame",
          "Spider-Man: No Way Home",
          "Avatar",
          "Avengers: Infinity War",
          "Titanic",
          "The Avengers",
          "Incredibles 2",
          "The Dark Knight",
          "Rogue One"
         ],
         "xaxis": "x",
         "y": [
          936.66,
          858.37,
          804.75,
          760.51,
          678.82,
          659.33,
          623.28,
          608.58,
          534.86,
          532.18
         ],
         "yaxis": "y"
        }
       ],
       "layout": {
        "barmode": "relative",
        "font": {
         "color": "white",
         "family": "Lato",
         "size": 18
        },
        "legend": {
         "tracegroupgap": 0
        },
        "margin": {
         "t": 60
        },
        "paper_bgcolor": "black",
        "plot_bgcolor": "black",
        "template": {
         "data": {
          "bar": [
           {
            "error_x": {
             "color": "#2a3f5f"
            },
            "error_y": {
             "color": "#2a3f5f"
            },
            "marker": {
             "line": {
              "color": "#E5ECF6",
              "width": 0.5
             },
             "pattern": {
              "fillmode": "overlay",
              "size": 10,
              "solidity": 0.2
             }
            },
            "type": "bar"
           }
          ],
          "barpolar": [
           {
            "marker": {
             "line": {
              "color": "#E5ECF6",
              "width": 0.5
             },
             "pattern": {
              "fillmode": "overlay",
              "size": 10,
              "solidity": 0.2
             }
            },
            "type": "barpolar"
           }
          ],
          "carpet": [
           {
            "aaxis": {
             "endlinecolor": "#2a3f5f",
             "gridcolor": "white",
             "linecolor": "white",
             "minorgridcolor": "white",
             "startlinecolor": "#2a3f5f"
            },
            "baxis": {
             "endlinecolor": "#2a3f5f",
             "gridcolor": "white",
             "linecolor": "white",
             "minorgridcolor": "white",
             "startlinecolor": "#2a3f5f"
            },
            "type": "carpet"
           }
          ],
          "choropleth": [
           {
            "colorbar": {
             "outlinewidth": 0,
             "ticks": ""
            },
            "type": "choropleth"
           }
          ],
          "contour": [
           {
            "colorbar": {
             "outlinewidth": 0,
             "ticks": ""
            },
            "colorscale": [
             [
              0,
              "#0d0887"
             ],
             [
              0.1111111111111111,
              "#46039f"
             ],
             [
              0.2222222222222222,
              "#7201a8"
             ],
             [
              0.3333333333333333,
              "#9c179e"
             ],
             [
              0.4444444444444444,
              "#bd3786"
             ],
             [
              0.5555555555555556,
              "#d8576b"
             ],
             [
              0.6666666666666666,
              "#ed7953"
             ],
             [
              0.7777777777777778,
              "#fb9f3a"
             ],
             [
              0.8888888888888888,
              "#fdca26"
             ],
             [
              1,
              "#f0f921"
             ]
            ],
            "type": "contour"
           }
          ],
          "contourcarpet": [
           {
            "colorbar": {
             "outlinewidth": 0,
             "ticks": ""
            },
            "type": "contourcarpet"
           }
          ],
          "heatmap": [
           {
            "colorbar": {
             "outlinewidth": 0,
             "ticks": ""
            },
            "colorscale": [
             [
              0,
              "#0d0887"
             ],
             [
              0.1111111111111111,
              "#46039f"
             ],
             [
              0.2222222222222222,
              "#7201a8"
             ],
             [
              0.3333333333333333,
              "#9c179e"
             ],
             [
              0.4444444444444444,
              "#bd3786"
             ],
             [
              0.5555555555555556,
              "#d8576b"
             ],
             [
              0.6666666666666666,
              "#ed7953"
             ],
             [
              0.7777777777777778,
              "#fb9f3a"
             ],
             [
              0.8888888888888888,
              "#fdca26"
             ],
             [
              1,
              "#f0f921"
             ]
            ],
            "type": "heatmap"
           }
          ],
          "heatmapgl": [
           {
            "colorbar": {
             "outlinewidth": 0,
             "ticks": ""
            },
            "colorscale": [
             [
              0,
              "#0d0887"
             ],
             [
              0.1111111111111111,
              "#46039f"
             ],
             [
              0.2222222222222222,
              "#7201a8"
             ],
             [
              0.3333333333333333,
              "#9c179e"
             ],
             [
              0.4444444444444444,
              "#bd3786"
             ],
             [
              0.5555555555555556,
              "#d8576b"
             ],
             [
              0.6666666666666666,
              "#ed7953"
             ],
             [
              0.7777777777777778,
              "#fb9f3a"
             ],
             [
              0.8888888888888888,
              "#fdca26"
             ],
             [
              1,
              "#f0f921"
             ]
            ],
            "type": "heatmapgl"
           }
          ],
          "histogram": [
           {
            "marker": {
             "pattern": {
              "fillmode": "overlay",
              "size": 10,
              "solidity": 0.2
             }
            },
            "type": "histogram"
           }
          ],
          "histogram2d": [
           {
            "colorbar": {
             "outlinewidth": 0,
             "ticks": ""
            },
            "colorscale": [
             [
              0,
              "#0d0887"
             ],
             [
              0.1111111111111111,
              "#46039f"
             ],
             [
              0.2222222222222222,
              "#7201a8"
             ],
             [
              0.3333333333333333,
              "#9c179e"
             ],
             [
              0.4444444444444444,
              "#bd3786"
             ],
             [
              0.5555555555555556,
              "#d8576b"
             ],
             [
              0.6666666666666666,
              "#ed7953"
             ],
             [
              0.7777777777777778,
              "#fb9f3a"
             ],
             [
              0.8888888888888888,
              "#fdca26"
             ],
             [
              1,
              "#f0f921"
             ]
            ],
            "type": "histogram2d"
           }
          ],
          "histogram2dcontour": [
           {
            "colorbar": {
             "outlinewidth": 0,
             "ticks": ""
            },
            "colorscale": [
             [
              0,
              "#0d0887"
             ],
             [
              0.1111111111111111,
              "#46039f"
             ],
             [
              0.2222222222222222,
              "#7201a8"
             ],
             [
              0.3333333333333333,
              "#9c179e"
             ],
             [
              0.4444444444444444,
              "#bd3786"
             ],
             [
              0.5555555555555556,
              "#d8576b"
             ],
             [
              0.6666666666666666,
              "#ed7953"
             ],
             [
              0.7777777777777778,
              "#fb9f3a"
             ],
             [
              0.8888888888888888,
              "#fdca26"
             ],
             [
              1,
              "#f0f921"
             ]
            ],
            "type": "histogram2dcontour"
           }
          ],
          "mesh3d": [
           {
            "colorbar": {
             "outlinewidth": 0,
             "ticks": ""
            },
            "type": "mesh3d"
           }
          ],
          "parcoords": [
           {
            "line": {
             "colorbar": {
              "outlinewidth": 0,
              "ticks": ""
             }
            },
            "type": "parcoords"
           }
          ],
          "pie": [
           {
            "automargin": true,
            "type": "pie"
           }
          ],
          "scatter": [
           {
            "marker": {
             "colorbar": {
              "outlinewidth": 0,
              "ticks": ""
             }
            },
            "type": "scatter"
           }
          ],
          "scatter3d": [
           {
            "line": {
             "colorbar": {
              "outlinewidth": 0,
              "ticks": ""
             }
            },
            "marker": {
             "colorbar": {
              "outlinewidth": 0,
              "ticks": ""
             }
            },
            "type": "scatter3d"
           }
          ],
          "scattercarpet": [
           {
            "marker": {
             "colorbar": {
              "outlinewidth": 0,
              "ticks": ""
             }
            },
            "type": "scattercarpet"
           }
          ],
          "scattergeo": [
           {
            "marker": {
             "colorbar": {
              "outlinewidth": 0,
              "ticks": ""
             }
            },
            "type": "scattergeo"
           }
          ],
          "scattergl": [
           {
            "marker": {
             "colorbar": {
              "outlinewidth": 0,
              "ticks": ""
             }
            },
            "type": "scattergl"
           }
          ],
          "scattermapbox": [
           {
            "marker": {
             "colorbar": {
              "outlinewidth": 0,
              "ticks": ""
             }
            },
            "type": "scattermapbox"
           }
          ],
          "scatterpolar": [
           {
            "marker": {
             "colorbar": {
              "outlinewidth": 0,
              "ticks": ""
             }
            },
            "type": "scatterpolar"
           }
          ],
          "scatterpolargl": [
           {
            "marker": {
             "colorbar": {
              "outlinewidth": 0,
              "ticks": ""
             }
            },
            "type": "scatterpolargl"
           }
          ],
          "scatterternary": [
           {
            "marker": {
             "colorbar": {
              "outlinewidth": 0,
              "ticks": ""
             }
            },
            "type": "scatterternary"
           }
          ],
          "surface": [
           {
            "colorbar": {
             "outlinewidth": 0,
             "ticks": ""
            },
            "colorscale": [
             [
              0,
              "#0d0887"
             ],
             [
              0.1111111111111111,
              "#46039f"
             ],
             [
              0.2222222222222222,
              "#7201a8"
             ],
             [
              0.3333333333333333,
              "#9c179e"
             ],
             [
              0.4444444444444444,
              "#bd3786"
             ],
             [
              0.5555555555555556,
              "#d8576b"
             ],
             [
              0.6666666666666666,
              "#ed7953"
             ],
             [
              0.7777777777777778,
              "#fb9f3a"
             ],
             [
              0.8888888888888888,
              "#fdca26"
             ],
             [
              1,
              "#f0f921"
             ]
            ],
            "type": "surface"
           }
          ],
          "table": [
           {
            "cells": {
             "fill": {
              "color": "#EBF0F8"
             },
             "line": {
              "color": "white"
             }
            },
            "header": {
             "fill": {
              "color": "#C8D4E3"
             },
             "line": {
              "color": "white"
             }
            },
            "type": "table"
           }
          ]
         },
         "layout": {
          "annotationdefaults": {
           "arrowcolor": "#2a3f5f",
           "arrowhead": 0,
           "arrowwidth": 1
          },
          "autotypenumbers": "strict",
          "coloraxis": {
           "colorbar": {
            "outlinewidth": 0,
            "ticks": ""
           }
          },
          "colorscale": {
           "diverging": [
            [
             0,
             "#8e0152"
            ],
            [
             0.1,
             "#c51b7d"
            ],
            [
             0.2,
             "#de77ae"
            ],
            [
             0.3,
             "#f1b6da"
            ],
            [
             0.4,
             "#fde0ef"
            ],
            [
             0.5,
             "#f7f7f7"
            ],
            [
             0.6,
             "#e6f5d0"
            ],
            [
             0.7,
             "#b8e186"
            ],
            [
             0.8,
             "#7fbc41"
            ],
            [
             0.9,
             "#4d9221"
            ],
            [
             1,
             "#276419"
            ]
           ],
           "sequential": [
            [
             0,
             "#0d0887"
            ],
            [
             0.1111111111111111,
             "#46039f"
            ],
            [
             0.2222222222222222,
             "#7201a8"
            ],
            [
             0.3333333333333333,
             "#9c179e"
            ],
            [
             0.4444444444444444,
             "#bd3786"
            ],
            [
             0.5555555555555556,
             "#d8576b"
            ],
            [
             0.6666666666666666,
             "#ed7953"
            ],
            [
             0.7777777777777778,
             "#fb9f3a"
            ],
            [
             0.8888888888888888,
             "#fdca26"
            ],
            [
             1,
             "#f0f921"
            ]
           ],
           "sequentialminus": [
            [
             0,
             "#0d0887"
            ],
            [
             0.1111111111111111,
             "#46039f"
            ],
            [
             0.2222222222222222,
             "#7201a8"
            ],
            [
             0.3333333333333333,
             "#9c179e"
            ],
            [
             0.4444444444444444,
             "#bd3786"
            ],
            [
             0.5555555555555556,
             "#d8576b"
            ],
            [
             0.6666666666666666,
             "#ed7953"
            ],
            [
             0.7777777777777778,
             "#fb9f3a"
            ],
            [
             0.8888888888888888,
             "#fdca26"
            ],
            [
             1,
             "#f0f921"
            ]
           ]
          },
          "colorway": [
           "#636efa",
           "#EF553B",
           "#00cc96",
           "#ab63fa",
           "#FFA15A",
           "#19d3f3",
           "#FF6692",
           "#B6E880",
           "#FF97FF",
           "#FECB52"
          ],
          "font": {
           "color": "#2a3f5f"
          },
          "geo": {
           "bgcolor": "white",
           "lakecolor": "white",
           "landcolor": "#E5ECF6",
           "showlakes": true,
           "showland": true,
           "subunitcolor": "white"
          },
          "hoverlabel": {
           "align": "left"
          },
          "hovermode": "closest",
          "mapbox": {
           "style": "light"
          },
          "paper_bgcolor": "white",
          "plot_bgcolor": "#E5ECF6",
          "polar": {
           "angularaxis": {
            "gridcolor": "white",
            "linecolor": "white",
            "ticks": ""
           },
           "bgcolor": "#E5ECF6",
           "radialaxis": {
            "gridcolor": "white",
            "linecolor": "white",
            "ticks": ""
           }
          },
          "scene": {
           "xaxis": {
            "backgroundcolor": "#E5ECF6",
            "gridcolor": "white",
            "gridwidth": 2,
            "linecolor": "white",
            "showbackground": true,
            "ticks": "",
            "zerolinecolor": "white"
           },
           "yaxis": {
            "backgroundcolor": "#E5ECF6",
            "gridcolor": "white",
            "gridwidth": 2,
            "linecolor": "white",
            "showbackground": true,
            "ticks": "",
            "zerolinecolor": "white"
           },
           "zaxis": {
            "backgroundcolor": "#E5ECF6",
            "gridcolor": "white",
            "gridwidth": 2,
            "linecolor": "white",
            "showbackground": true,
            "ticks": "",
            "zerolinecolor": "white"
           }
          },
          "shapedefaults": {
           "line": {
            "color": "#2a3f5f"
           }
          },
          "ternary": {
           "aaxis": {
            "gridcolor": "white",
            "linecolor": "white",
            "ticks": ""
           },
           "baxis": {
            "gridcolor": "white",
            "linecolor": "white",
            "ticks": ""
           },
           "bgcolor": "#E5ECF6",
           "caxis": {
            "gridcolor": "white",
            "linecolor": "white",
            "ticks": ""
           }
          },
          "title": {
           "x": 0.05
          },
          "xaxis": {
           "automargin": true,
           "gridcolor": "white",
           "linecolor": "white",
           "ticks": "",
           "title": {
            "standoff": 15
           },
           "zerolinecolor": "white",
           "zerolinewidth": 2
          },
          "yaxis": {
           "automargin": true,
           "gridcolor": "white",
           "linecolor": "white",
           "ticks": "",
           "title": {
            "standoff": 15
           },
           "zerolinecolor": "white",
           "zerolinewidth": 2
          }
         }
        },
        "title": {
         "font": {
          "size": 30
         },
         "text": "<b>IMDB movies - Gross",
         "x": 0.5
        },
        "xaxis": {
         "anchor": "y",
         "domain": [
          0,
          1
         ],
         "showgrid": false,
         "tickangle": 30,
         "title": {
          "text": "Gross"
         }
        },
        "yaxis": {
         "anchor": "x",
         "domain": [
          0,
          1
         ],
         "showgrid": false,
         "title": {
          "text": "count"
         }
        }
       }
      },
      "text/html": [
       "<div>                            <div id=\"1d81e7f3-cdfc-4e8b-b4af-c8bbffcbb277\" class=\"plotly-graph-div\" style=\"height:525px; width:100%;\"></div>            <script type=\"text/javascript\">                require([\"plotly\"], function(Plotly) {                    window.PLOTLYENV=window.PLOTLYENV || {};                                    if (document.getElementById(\"1d81e7f3-cdfc-4e8b-b4af-c8bbffcbb277\")) {                    Plotly.newPlot(                        \"1d81e7f3-cdfc-4e8b-b4af-c8bbffcbb277\",                        [{\"alignmentgroup\":\"True\",\"hovertemplate\":\"x=%{x}<br>y=%{y}<extra></extra>\",\"legendgroup\":\"\",\"marker\":{\"color\":\"gold\",\"pattern\":{\"shape\":\"\"}},\"name\":\"\",\"offsetgroup\":\"\",\"orientation\":\"v\",\"showlegend\":false,\"textposition\":\"auto\",\"type\":\"bar\",\"x\":[\"Star Wars: Episode VII - The Force Awakens\",\"Avengers: Endgame\",\"Spider-Man: No Way Home\",\"Avatar\",\"Avengers: Infinity War\",\"Titanic\",\"The Avengers\",\"Incredibles 2\",\"The Dark Knight\",\"Rogue One\"],\"xaxis\":\"x\",\"y\":[936.66,858.37,804.75,760.51,678.82,659.33,623.28,608.58,534.86,532.18],\"yaxis\":\"y\"}],                        {\"barmode\":\"relative\",\"font\":{\"color\":\"white\",\"family\":\"Lato\",\"size\":18},\"legend\":{\"tracegroupgap\":0},\"margin\":{\"t\":60},\"paper_bgcolor\":\"black\",\"plot_bgcolor\":\"black\",\"template\":{\"data\":{\"bar\":[{\"error_x\":{\"color\":\"#2a3f5f\"},\"error_y\":{\"color\":\"#2a3f5f\"},\"marker\":{\"line\":{\"color\":\"#E5ECF6\",\"width\":0.5},\"pattern\":{\"fillmode\":\"overlay\",\"size\":10,\"solidity\":0.2}},\"type\":\"bar\"}],\"barpolar\":[{\"marker\":{\"line\":{\"color\":\"#E5ECF6\",\"width\":0.5},\"pattern\":{\"fillmode\":\"overlay\",\"size\":10,\"solidity\":0.2}},\"type\":\"barpolar\"}],\"carpet\":[{\"aaxis\":{\"endlinecolor\":\"#2a3f5f\",\"gridcolor\":\"white\",\"linecolor\":\"white\",\"minorgridcolor\":\"white\",\"startlinecolor\":\"#2a3f5f\"},\"baxis\":{\"endlinecolor\":\"#2a3f5f\",\"gridcolor\":\"white\",\"linecolor\":\"white\",\"minorgridcolor\":\"white\",\"startlinecolor\":\"#2a3f5f\"},\"type\":\"carpet\"}],\"choropleth\":[{\"colorbar\":{\"outlinewidth\":0,\"ticks\":\"\"},\"type\":\"choropleth\"}],\"contour\":[{\"colorbar\":{\"outlinewidth\":0,\"ticks\":\"\"},\"colorscale\":[[0.0,\"#0d0887\"],[0.1111111111111111,\"#46039f\"],[0.2222222222222222,\"#7201a8\"],[0.3333333333333333,\"#9c179e\"],[0.4444444444444444,\"#bd3786\"],[0.5555555555555556,\"#d8576b\"],[0.6666666666666666,\"#ed7953\"],[0.7777777777777778,\"#fb9f3a\"],[0.8888888888888888,\"#fdca26\"],[1.0,\"#f0f921\"]],\"type\":\"contour\"}],\"contourcarpet\":[{\"colorbar\":{\"outlinewidth\":0,\"ticks\":\"\"},\"type\":\"contourcarpet\"}],\"heatmap\":[{\"colorbar\":{\"outlinewidth\":0,\"ticks\":\"\"},\"colorscale\":[[0.0,\"#0d0887\"],[0.1111111111111111,\"#46039f\"],[0.2222222222222222,\"#7201a8\"],[0.3333333333333333,\"#9c179e\"],[0.4444444444444444,\"#bd3786\"],[0.5555555555555556,\"#d8576b\"],[0.6666666666666666,\"#ed7953\"],[0.7777777777777778,\"#fb9f3a\"],[0.8888888888888888,\"#fdca26\"],[1.0,\"#f0f921\"]],\"type\":\"heatmap\"}],\"heatmapgl\":[{\"colorbar\":{\"outlinewidth\":0,\"ticks\":\"\"},\"colorscale\":[[0.0,\"#0d0887\"],[0.1111111111111111,\"#46039f\"],[0.2222222222222222,\"#7201a8\"],[0.3333333333333333,\"#9c179e\"],[0.4444444444444444,\"#bd3786\"],[0.5555555555555556,\"#d8576b\"],[0.6666666666666666,\"#ed7953\"],[0.7777777777777778,\"#fb9f3a\"],[0.8888888888888888,\"#fdca26\"],[1.0,\"#f0f921\"]],\"type\":\"heatmapgl\"}],\"histogram\":[{\"marker\":{\"pattern\":{\"fillmode\":\"overlay\",\"size\":10,\"solidity\":0.2}},\"type\":\"histogram\"}],\"histogram2d\":[{\"colorbar\":{\"outlinewidth\":0,\"ticks\":\"\"},\"colorscale\":[[0.0,\"#0d0887\"],[0.1111111111111111,\"#46039f\"],[0.2222222222222222,\"#7201a8\"],[0.3333333333333333,\"#9c179e\"],[0.4444444444444444,\"#bd3786\"],[0.5555555555555556,\"#d8576b\"],[0.6666666666666666,\"#ed7953\"],[0.7777777777777778,\"#fb9f3a\"],[0.8888888888888888,\"#fdca26\"],[1.0,\"#f0f921\"]],\"type\":\"histogram2d\"}],\"histogram2dcontour\":[{\"colorbar\":{\"outlinewidth\":0,\"ticks\":\"\"},\"colorscale\":[[0.0,\"#0d0887\"],[0.1111111111111111,\"#46039f\"],[0.2222222222222222,\"#7201a8\"],[0.3333333333333333,\"#9c179e\"],[0.4444444444444444,\"#bd3786\"],[0.5555555555555556,\"#d8576b\"],[0.6666666666666666,\"#ed7953\"],[0.7777777777777778,\"#fb9f3a\"],[0.8888888888888888,\"#fdca26\"],[1.0,\"#f0f921\"]],\"type\":\"histogram2dcontour\"}],\"mesh3d\":[{\"colorbar\":{\"outlinewidth\":0,\"ticks\":\"\"},\"type\":\"mesh3d\"}],\"parcoords\":[{\"line\":{\"colorbar\":{\"outlinewidth\":0,\"ticks\":\"\"}},\"type\":\"parcoords\"}],\"pie\":[{\"automargin\":true,\"type\":\"pie\"}],\"scatter\":[{\"marker\":{\"colorbar\":{\"outlinewidth\":0,\"ticks\":\"\"}},\"type\":\"scatter\"}],\"scatter3d\":[{\"line\":{\"colorbar\":{\"outlinewidth\":0,\"ticks\":\"\"}},\"marker\":{\"colorbar\":{\"outlinewidth\":0,\"ticks\":\"\"}},\"type\":\"scatter3d\"}],\"scattercarpet\":[{\"marker\":{\"colorbar\":{\"outlinewidth\":0,\"ticks\":\"\"}},\"type\":\"scattercarpet\"}],\"scattergeo\":[{\"marker\":{\"colorbar\":{\"outlinewidth\":0,\"ticks\":\"\"}},\"type\":\"scattergeo\"}],\"scattergl\":[{\"marker\":{\"colorbar\":{\"outlinewidth\":0,\"ticks\":\"\"}},\"type\":\"scattergl\"}],\"scattermapbox\":[{\"marker\":{\"colorbar\":{\"outlinewidth\":0,\"ticks\":\"\"}},\"type\":\"scattermapbox\"}],\"scatterpolar\":[{\"marker\":{\"colorbar\":{\"outlinewidth\":0,\"ticks\":\"\"}},\"type\":\"scatterpolar\"}],\"scatterpolargl\":[{\"marker\":{\"colorbar\":{\"outlinewidth\":0,\"ticks\":\"\"}},\"type\":\"scatterpolargl\"}],\"scatterternary\":[{\"marker\":{\"colorbar\":{\"outlinewidth\":0,\"ticks\":\"\"}},\"type\":\"scatterternary\"}],\"surface\":[{\"colorbar\":{\"outlinewidth\":0,\"ticks\":\"\"},\"colorscale\":[[0.0,\"#0d0887\"],[0.1111111111111111,\"#46039f\"],[0.2222222222222222,\"#7201a8\"],[0.3333333333333333,\"#9c179e\"],[0.4444444444444444,\"#bd3786\"],[0.5555555555555556,\"#d8576b\"],[0.6666666666666666,\"#ed7953\"],[0.7777777777777778,\"#fb9f3a\"],[0.8888888888888888,\"#fdca26\"],[1.0,\"#f0f921\"]],\"type\":\"surface\"}],\"table\":[{\"cells\":{\"fill\":{\"color\":\"#EBF0F8\"},\"line\":{\"color\":\"white\"}},\"header\":{\"fill\":{\"color\":\"#C8D4E3\"},\"line\":{\"color\":\"white\"}},\"type\":\"table\"}]},\"layout\":{\"annotationdefaults\":{\"arrowcolor\":\"#2a3f5f\",\"arrowhead\":0,\"arrowwidth\":1},\"autotypenumbers\":\"strict\",\"coloraxis\":{\"colorbar\":{\"outlinewidth\":0,\"ticks\":\"\"}},\"colorscale\":{\"diverging\":[[0,\"#8e0152\"],[0.1,\"#c51b7d\"],[0.2,\"#de77ae\"],[0.3,\"#f1b6da\"],[0.4,\"#fde0ef\"],[0.5,\"#f7f7f7\"],[0.6,\"#e6f5d0\"],[0.7,\"#b8e186\"],[0.8,\"#7fbc41\"],[0.9,\"#4d9221\"],[1,\"#276419\"]],\"sequential\":[[0.0,\"#0d0887\"],[0.1111111111111111,\"#46039f\"],[0.2222222222222222,\"#7201a8\"],[0.3333333333333333,\"#9c179e\"],[0.4444444444444444,\"#bd3786\"],[0.5555555555555556,\"#d8576b\"],[0.6666666666666666,\"#ed7953\"],[0.7777777777777778,\"#fb9f3a\"],[0.8888888888888888,\"#fdca26\"],[1.0,\"#f0f921\"]],\"sequentialminus\":[[0.0,\"#0d0887\"],[0.1111111111111111,\"#46039f\"],[0.2222222222222222,\"#7201a8\"],[0.3333333333333333,\"#9c179e\"],[0.4444444444444444,\"#bd3786\"],[0.5555555555555556,\"#d8576b\"],[0.6666666666666666,\"#ed7953\"],[0.7777777777777778,\"#fb9f3a\"],[0.8888888888888888,\"#fdca26\"],[1.0,\"#f0f921\"]]},\"colorway\":[\"#636efa\",\"#EF553B\",\"#00cc96\",\"#ab63fa\",\"#FFA15A\",\"#19d3f3\",\"#FF6692\",\"#B6E880\",\"#FF97FF\",\"#FECB52\"],\"font\":{\"color\":\"#2a3f5f\"},\"geo\":{\"bgcolor\":\"white\",\"lakecolor\":\"white\",\"landcolor\":\"#E5ECF6\",\"showlakes\":true,\"showland\":true,\"subunitcolor\":\"white\"},\"hoverlabel\":{\"align\":\"left\"},\"hovermode\":\"closest\",\"mapbox\":{\"style\":\"light\"},\"paper_bgcolor\":\"white\",\"plot_bgcolor\":\"#E5ECF6\",\"polar\":{\"angularaxis\":{\"gridcolor\":\"white\",\"linecolor\":\"white\",\"ticks\":\"\"},\"bgcolor\":\"#E5ECF6\",\"radialaxis\":{\"gridcolor\":\"white\",\"linecolor\":\"white\",\"ticks\":\"\"}},\"scene\":{\"xaxis\":{\"backgroundcolor\":\"#E5ECF6\",\"gridcolor\":\"white\",\"gridwidth\":2,\"linecolor\":\"white\",\"showbackground\":true,\"ticks\":\"\",\"zerolinecolor\":\"white\"},\"yaxis\":{\"backgroundcolor\":\"#E5ECF6\",\"gridcolor\":\"white\",\"gridwidth\":2,\"linecolor\":\"white\",\"showbackground\":true,\"ticks\":\"\",\"zerolinecolor\":\"white\"},\"zaxis\":{\"backgroundcolor\":\"#E5ECF6\",\"gridcolor\":\"white\",\"gridwidth\":2,\"linecolor\":\"white\",\"showbackground\":true,\"ticks\":\"\",\"zerolinecolor\":\"white\"}},\"shapedefaults\":{\"line\":{\"color\":\"#2a3f5f\"}},\"ternary\":{\"aaxis\":{\"gridcolor\":\"white\",\"linecolor\":\"white\",\"ticks\":\"\"},\"baxis\":{\"gridcolor\":\"white\",\"linecolor\":\"white\",\"ticks\":\"\"},\"bgcolor\":\"#E5ECF6\",\"caxis\":{\"gridcolor\":\"white\",\"linecolor\":\"white\",\"ticks\":\"\"}},\"title\":{\"x\":0.05},\"xaxis\":{\"automargin\":true,\"gridcolor\":\"white\",\"linecolor\":\"white\",\"ticks\":\"\",\"title\":{\"standoff\":15},\"zerolinecolor\":\"white\",\"zerolinewidth\":2},\"yaxis\":{\"automargin\":true,\"gridcolor\":\"white\",\"linecolor\":\"white\",\"ticks\":\"\",\"title\":{\"standoff\":15},\"zerolinecolor\":\"white\",\"zerolinewidth\":2}}},\"title\":{\"font\":{\"size\":30},\"text\":\"<b>IMDB movies - Gross\",\"x\":0.5},\"xaxis\":{\"anchor\":\"y\",\"domain\":[0.0,1.0],\"showgrid\":false,\"tickangle\":30,\"title\":{\"text\":\"Gross\"}},\"yaxis\":{\"anchor\":\"x\",\"domain\":[0.0,1.0],\"showgrid\":false,\"title\":{\"text\":\"count\"}}},                        {\"responsive\": true}                    ).then(function(){\n",
       "                            \n",
       "var gd = document.getElementById('1d81e7f3-cdfc-4e8b-b4af-c8bbffcbb277');\n",
       "var x = new MutationObserver(function (mutations, observer) {{\n",
       "        var display = window.getComputedStyle(gd).display;\n",
       "        if (!display || display === 'none') {{\n",
       "            console.log([gd, 'removed!']);\n",
       "            Plotly.purge(gd);\n",
       "            observer.disconnect();\n",
       "        }}\n",
       "}});\n",
       "\n",
       "// Listen for the removal of the full notebook cells\n",
       "var notebookContainer = gd.closest('#notebook-container');\n",
       "if (notebookContainer) {{\n",
       "    x.observe(notebookContainer, {childList: true});\n",
       "}}\n",
       "\n",
       "// Listen for the clearing of the current output cell\n",
       "var outputEl = gd.closest('.output');\n",
       "if (outputEl) {{\n",
       "    x.observe(outputEl, {childList: true});\n",
       "}}\n",
       "\n",
       "                        })                };                });            </script>        </div>"
      ]
     },
     "metadata": {},
     "output_type": "display_data"
    }
   ],
   "source": [
    "# Top 10 highest Grossing movies\n",
    "bar_plot(\"Movie Name\", tribe='sort', by='Gross', limit=10)"
   ]
  },
  {
   "cell_type": "markdown",
   "id": "b6505785",
   "metadata": {},
   "source": [
    "* Star Wars Episode VII- The Force Awakens is the most grossing movie and has collected of $936.66M.\n"
   ]
  },
  {
   "cell_type": "markdown",
   "id": "bd0ea66f",
   "metadata": {},
   "source": [
    "# Movies with high Watch Time "
   ]
  },
  {
   "cell_type": "code",
   "execution_count": 21,
   "id": "982f707a",
   "metadata": {},
   "outputs": [
    {
     "data": {
      "application/vnd.plotly.v1+json": {
       "config": {
        "plotlyServerURL": "https://plot.ly"
       },
       "data": [
        {
         "alignmentgroup": "True",
         "hovertemplate": "x=%{x}<br>y=%{y}<extra></extra>",
         "legendgroup": "",
         "marker": {
          "color": "gold",
          "pattern": {
           "shape": ""
          }
         },
         "name": "",
         "offsetgroup": "",
         "orientation": "v",
         "showlegend": false,
         "textposition": "auto",
         "type": "bar",
         "x": [
          "Gangs of Wasseypur",
          "Hamlet",
          "Zack Snyder's Justice League",
          "Gone with the Wind",
          "Once Upon a Time in America",
          "Lagaan: Once Upon a Time in India",
          "The Ten Commandments",
          "Lawrence of Arabia",
          "Ben-Hur",
          "Swades: We, the People"
         ],
         "xaxis": "x",
         "y": [
          321,
          242,
          242,
          238,
          229,
          224,
          220,
          218,
          212,
          210
         ],
         "yaxis": "y"
        }
       ],
       "layout": {
        "barmode": "relative",
        "font": {
         "color": "white",
         "family": "Lato",
         "size": 18
        },
        "legend": {
         "tracegroupgap": 0
        },
        "margin": {
         "t": 60
        },
        "paper_bgcolor": "black",
        "plot_bgcolor": "black",
        "template": {
         "data": {
          "bar": [
           {
            "error_x": {
             "color": "#2a3f5f"
            },
            "error_y": {
             "color": "#2a3f5f"
            },
            "marker": {
             "line": {
              "color": "#E5ECF6",
              "width": 0.5
             },
             "pattern": {
              "fillmode": "overlay",
              "size": 10,
              "solidity": 0.2
             }
            },
            "type": "bar"
           }
          ],
          "barpolar": [
           {
            "marker": {
             "line": {
              "color": "#E5ECF6",
              "width": 0.5
             },
             "pattern": {
              "fillmode": "overlay",
              "size": 10,
              "solidity": 0.2
             }
            },
            "type": "barpolar"
           }
          ],
          "carpet": [
           {
            "aaxis": {
             "endlinecolor": "#2a3f5f",
             "gridcolor": "white",
             "linecolor": "white",
             "minorgridcolor": "white",
             "startlinecolor": "#2a3f5f"
            },
            "baxis": {
             "endlinecolor": "#2a3f5f",
             "gridcolor": "white",
             "linecolor": "white",
             "minorgridcolor": "white",
             "startlinecolor": "#2a3f5f"
            },
            "type": "carpet"
           }
          ],
          "choropleth": [
           {
            "colorbar": {
             "outlinewidth": 0,
             "ticks": ""
            },
            "type": "choropleth"
           }
          ],
          "contour": [
           {
            "colorbar": {
             "outlinewidth": 0,
             "ticks": ""
            },
            "colorscale": [
             [
              0,
              "#0d0887"
             ],
             [
              0.1111111111111111,
              "#46039f"
             ],
             [
              0.2222222222222222,
              "#7201a8"
             ],
             [
              0.3333333333333333,
              "#9c179e"
             ],
             [
              0.4444444444444444,
              "#bd3786"
             ],
             [
              0.5555555555555556,
              "#d8576b"
             ],
             [
              0.6666666666666666,
              "#ed7953"
             ],
             [
              0.7777777777777778,
              "#fb9f3a"
             ],
             [
              0.8888888888888888,
              "#fdca26"
             ],
             [
              1,
              "#f0f921"
             ]
            ],
            "type": "contour"
           }
          ],
          "contourcarpet": [
           {
            "colorbar": {
             "outlinewidth": 0,
             "ticks": ""
            },
            "type": "contourcarpet"
           }
          ],
          "heatmap": [
           {
            "colorbar": {
             "outlinewidth": 0,
             "ticks": ""
            },
            "colorscale": [
             [
              0,
              "#0d0887"
             ],
             [
              0.1111111111111111,
              "#46039f"
             ],
             [
              0.2222222222222222,
              "#7201a8"
             ],
             [
              0.3333333333333333,
              "#9c179e"
             ],
             [
              0.4444444444444444,
              "#bd3786"
             ],
             [
              0.5555555555555556,
              "#d8576b"
             ],
             [
              0.6666666666666666,
              "#ed7953"
             ],
             [
              0.7777777777777778,
              "#fb9f3a"
             ],
             [
              0.8888888888888888,
              "#fdca26"
             ],
             [
              1,
              "#f0f921"
             ]
            ],
            "type": "heatmap"
           }
          ],
          "heatmapgl": [
           {
            "colorbar": {
             "outlinewidth": 0,
             "ticks": ""
            },
            "colorscale": [
             [
              0,
              "#0d0887"
             ],
             [
              0.1111111111111111,
              "#46039f"
             ],
             [
              0.2222222222222222,
              "#7201a8"
             ],
             [
              0.3333333333333333,
              "#9c179e"
             ],
             [
              0.4444444444444444,
              "#bd3786"
             ],
             [
              0.5555555555555556,
              "#d8576b"
             ],
             [
              0.6666666666666666,
              "#ed7953"
             ],
             [
              0.7777777777777778,
              "#fb9f3a"
             ],
             [
              0.8888888888888888,
              "#fdca26"
             ],
             [
              1,
              "#f0f921"
             ]
            ],
            "type": "heatmapgl"
           }
          ],
          "histogram": [
           {
            "marker": {
             "pattern": {
              "fillmode": "overlay",
              "size": 10,
              "solidity": 0.2
             }
            },
            "type": "histogram"
           }
          ],
          "histogram2d": [
           {
            "colorbar": {
             "outlinewidth": 0,
             "ticks": ""
            },
            "colorscale": [
             [
              0,
              "#0d0887"
             ],
             [
              0.1111111111111111,
              "#46039f"
             ],
             [
              0.2222222222222222,
              "#7201a8"
             ],
             [
              0.3333333333333333,
              "#9c179e"
             ],
             [
              0.4444444444444444,
              "#bd3786"
             ],
             [
              0.5555555555555556,
              "#d8576b"
             ],
             [
              0.6666666666666666,
              "#ed7953"
             ],
             [
              0.7777777777777778,
              "#fb9f3a"
             ],
             [
              0.8888888888888888,
              "#fdca26"
             ],
             [
              1,
              "#f0f921"
             ]
            ],
            "type": "histogram2d"
           }
          ],
          "histogram2dcontour": [
           {
            "colorbar": {
             "outlinewidth": 0,
             "ticks": ""
            },
            "colorscale": [
             [
              0,
              "#0d0887"
             ],
             [
              0.1111111111111111,
              "#46039f"
             ],
             [
              0.2222222222222222,
              "#7201a8"
             ],
             [
              0.3333333333333333,
              "#9c179e"
             ],
             [
              0.4444444444444444,
              "#bd3786"
             ],
             [
              0.5555555555555556,
              "#d8576b"
             ],
             [
              0.6666666666666666,
              "#ed7953"
             ],
             [
              0.7777777777777778,
              "#fb9f3a"
             ],
             [
              0.8888888888888888,
              "#fdca26"
             ],
             [
              1,
              "#f0f921"
             ]
            ],
            "type": "histogram2dcontour"
           }
          ],
          "mesh3d": [
           {
            "colorbar": {
             "outlinewidth": 0,
             "ticks": ""
            },
            "type": "mesh3d"
           }
          ],
          "parcoords": [
           {
            "line": {
             "colorbar": {
              "outlinewidth": 0,
              "ticks": ""
             }
            },
            "type": "parcoords"
           }
          ],
          "pie": [
           {
            "automargin": true,
            "type": "pie"
           }
          ],
          "scatter": [
           {
            "marker": {
             "colorbar": {
              "outlinewidth": 0,
              "ticks": ""
             }
            },
            "type": "scatter"
           }
          ],
          "scatter3d": [
           {
            "line": {
             "colorbar": {
              "outlinewidth": 0,
              "ticks": ""
             }
            },
            "marker": {
             "colorbar": {
              "outlinewidth": 0,
              "ticks": ""
             }
            },
            "type": "scatter3d"
           }
          ],
          "scattercarpet": [
           {
            "marker": {
             "colorbar": {
              "outlinewidth": 0,
              "ticks": ""
             }
            },
            "type": "scattercarpet"
           }
          ],
          "scattergeo": [
           {
            "marker": {
             "colorbar": {
              "outlinewidth": 0,
              "ticks": ""
             }
            },
            "type": "scattergeo"
           }
          ],
          "scattergl": [
           {
            "marker": {
             "colorbar": {
              "outlinewidth": 0,
              "ticks": ""
             }
            },
            "type": "scattergl"
           }
          ],
          "scattermapbox": [
           {
            "marker": {
             "colorbar": {
              "outlinewidth": 0,
              "ticks": ""
             }
            },
            "type": "scattermapbox"
           }
          ],
          "scatterpolar": [
           {
            "marker": {
             "colorbar": {
              "outlinewidth": 0,
              "ticks": ""
             }
            },
            "type": "scatterpolar"
           }
          ],
          "scatterpolargl": [
           {
            "marker": {
             "colorbar": {
              "outlinewidth": 0,
              "ticks": ""
             }
            },
            "type": "scatterpolargl"
           }
          ],
          "scatterternary": [
           {
            "marker": {
             "colorbar": {
              "outlinewidth": 0,
              "ticks": ""
             }
            },
            "type": "scatterternary"
           }
          ],
          "surface": [
           {
            "colorbar": {
             "outlinewidth": 0,
             "ticks": ""
            },
            "colorscale": [
             [
              0,
              "#0d0887"
             ],
             [
              0.1111111111111111,
              "#46039f"
             ],
             [
              0.2222222222222222,
              "#7201a8"
             ],
             [
              0.3333333333333333,
              "#9c179e"
             ],
             [
              0.4444444444444444,
              "#bd3786"
             ],
             [
              0.5555555555555556,
              "#d8576b"
             ],
             [
              0.6666666666666666,
              "#ed7953"
             ],
             [
              0.7777777777777778,
              "#fb9f3a"
             ],
             [
              0.8888888888888888,
              "#fdca26"
             ],
             [
              1,
              "#f0f921"
             ]
            ],
            "type": "surface"
           }
          ],
          "table": [
           {
            "cells": {
             "fill": {
              "color": "#EBF0F8"
             },
             "line": {
              "color": "white"
             }
            },
            "header": {
             "fill": {
              "color": "#C8D4E3"
             },
             "line": {
              "color": "white"
             }
            },
            "type": "table"
           }
          ]
         },
         "layout": {
          "annotationdefaults": {
           "arrowcolor": "#2a3f5f",
           "arrowhead": 0,
           "arrowwidth": 1
          },
          "autotypenumbers": "strict",
          "coloraxis": {
           "colorbar": {
            "outlinewidth": 0,
            "ticks": ""
           }
          },
          "colorscale": {
           "diverging": [
            [
             0,
             "#8e0152"
            ],
            [
             0.1,
             "#c51b7d"
            ],
            [
             0.2,
             "#de77ae"
            ],
            [
             0.3,
             "#f1b6da"
            ],
            [
             0.4,
             "#fde0ef"
            ],
            [
             0.5,
             "#f7f7f7"
            ],
            [
             0.6,
             "#e6f5d0"
            ],
            [
             0.7,
             "#b8e186"
            ],
            [
             0.8,
             "#7fbc41"
            ],
            [
             0.9,
             "#4d9221"
            ],
            [
             1,
             "#276419"
            ]
           ],
           "sequential": [
            [
             0,
             "#0d0887"
            ],
            [
             0.1111111111111111,
             "#46039f"
            ],
            [
             0.2222222222222222,
             "#7201a8"
            ],
            [
             0.3333333333333333,
             "#9c179e"
            ],
            [
             0.4444444444444444,
             "#bd3786"
            ],
            [
             0.5555555555555556,
             "#d8576b"
            ],
            [
             0.6666666666666666,
             "#ed7953"
            ],
            [
             0.7777777777777778,
             "#fb9f3a"
            ],
            [
             0.8888888888888888,
             "#fdca26"
            ],
            [
             1,
             "#f0f921"
            ]
           ],
           "sequentialminus": [
            [
             0,
             "#0d0887"
            ],
            [
             0.1111111111111111,
             "#46039f"
            ],
            [
             0.2222222222222222,
             "#7201a8"
            ],
            [
             0.3333333333333333,
             "#9c179e"
            ],
            [
             0.4444444444444444,
             "#bd3786"
            ],
            [
             0.5555555555555556,
             "#d8576b"
            ],
            [
             0.6666666666666666,
             "#ed7953"
            ],
            [
             0.7777777777777778,
             "#fb9f3a"
            ],
            [
             0.8888888888888888,
             "#fdca26"
            ],
            [
             1,
             "#f0f921"
            ]
           ]
          },
          "colorway": [
           "#636efa",
           "#EF553B",
           "#00cc96",
           "#ab63fa",
           "#FFA15A",
           "#19d3f3",
           "#FF6692",
           "#B6E880",
           "#FF97FF",
           "#FECB52"
          ],
          "font": {
           "color": "#2a3f5f"
          },
          "geo": {
           "bgcolor": "white",
           "lakecolor": "white",
           "landcolor": "#E5ECF6",
           "showlakes": true,
           "showland": true,
           "subunitcolor": "white"
          },
          "hoverlabel": {
           "align": "left"
          },
          "hovermode": "closest",
          "mapbox": {
           "style": "light"
          },
          "paper_bgcolor": "white",
          "plot_bgcolor": "#E5ECF6",
          "polar": {
           "angularaxis": {
            "gridcolor": "white",
            "linecolor": "white",
            "ticks": ""
           },
           "bgcolor": "#E5ECF6",
           "radialaxis": {
            "gridcolor": "white",
            "linecolor": "white",
            "ticks": ""
           }
          },
          "scene": {
           "xaxis": {
            "backgroundcolor": "#E5ECF6",
            "gridcolor": "white",
            "gridwidth": 2,
            "linecolor": "white",
            "showbackground": true,
            "ticks": "",
            "zerolinecolor": "white"
           },
           "yaxis": {
            "backgroundcolor": "#E5ECF6",
            "gridcolor": "white",
            "gridwidth": 2,
            "linecolor": "white",
            "showbackground": true,
            "ticks": "",
            "zerolinecolor": "white"
           },
           "zaxis": {
            "backgroundcolor": "#E5ECF6",
            "gridcolor": "white",
            "gridwidth": 2,
            "linecolor": "white",
            "showbackground": true,
            "ticks": "",
            "zerolinecolor": "white"
           }
          },
          "shapedefaults": {
           "line": {
            "color": "#2a3f5f"
           }
          },
          "ternary": {
           "aaxis": {
            "gridcolor": "white",
            "linecolor": "white",
            "ticks": ""
           },
           "baxis": {
            "gridcolor": "white",
            "linecolor": "white",
            "ticks": ""
           },
           "bgcolor": "#E5ECF6",
           "caxis": {
            "gridcolor": "white",
            "linecolor": "white",
            "ticks": ""
           }
          },
          "title": {
           "x": 0.05
          },
          "xaxis": {
           "automargin": true,
           "gridcolor": "white",
           "linecolor": "white",
           "ticks": "",
           "title": {
            "standoff": 15
           },
           "zerolinecolor": "white",
           "zerolinewidth": 2
          },
          "yaxis": {
           "automargin": true,
           "gridcolor": "white",
           "linecolor": "white",
           "ticks": "",
           "title": {
            "standoff": 15
           },
           "zerolinecolor": "white",
           "zerolinewidth": 2
          }
         }
        },
        "title": {
         "font": {
          "size": 30
         },
         "text": "<b>IMDB movies - Watch Time",
         "x": 0.5
        },
        "xaxis": {
         "anchor": "y",
         "domain": [
          0,
          1
         ],
         "showgrid": false,
         "tickangle": 30,
         "title": {
          "text": "Watch Time"
         }
        },
        "yaxis": {
         "anchor": "x",
         "domain": [
          0,
          1
         ],
         "showgrid": false,
         "title": {
          "text": "count"
         }
        }
       }
      },
      "text/html": [
       "<div>                            <div id=\"bc9497f4-1a6e-44f4-93ff-ab1346765185\" class=\"plotly-graph-div\" style=\"height:525px; width:100%;\"></div>            <script type=\"text/javascript\">                require([\"plotly\"], function(Plotly) {                    window.PLOTLYENV=window.PLOTLYENV || {};                                    if (document.getElementById(\"bc9497f4-1a6e-44f4-93ff-ab1346765185\")) {                    Plotly.newPlot(                        \"bc9497f4-1a6e-44f4-93ff-ab1346765185\",                        [{\"alignmentgroup\":\"True\",\"hovertemplate\":\"x=%{x}<br>y=%{y}<extra></extra>\",\"legendgroup\":\"\",\"marker\":{\"color\":\"gold\",\"pattern\":{\"shape\":\"\"}},\"name\":\"\",\"offsetgroup\":\"\",\"orientation\":\"v\",\"showlegend\":false,\"textposition\":\"auto\",\"type\":\"bar\",\"x\":[\"Gangs of Wasseypur\",\"Hamlet\",\"Zack Snyder's Justice League\",\"Gone with the Wind\",\"Once Upon a Time in America\",\"Lagaan: Once Upon a Time in India\",\"The Ten Commandments\",\"Lawrence of Arabia\",\"Ben-Hur\",\"Swades: We, the People\"],\"xaxis\":\"x\",\"y\":[321,242,242,238,229,224,220,218,212,210],\"yaxis\":\"y\"}],                        {\"barmode\":\"relative\",\"font\":{\"color\":\"white\",\"family\":\"Lato\",\"size\":18},\"legend\":{\"tracegroupgap\":0},\"margin\":{\"t\":60},\"paper_bgcolor\":\"black\",\"plot_bgcolor\":\"black\",\"template\":{\"data\":{\"bar\":[{\"error_x\":{\"color\":\"#2a3f5f\"},\"error_y\":{\"color\":\"#2a3f5f\"},\"marker\":{\"line\":{\"color\":\"#E5ECF6\",\"width\":0.5},\"pattern\":{\"fillmode\":\"overlay\",\"size\":10,\"solidity\":0.2}},\"type\":\"bar\"}],\"barpolar\":[{\"marker\":{\"line\":{\"color\":\"#E5ECF6\",\"width\":0.5},\"pattern\":{\"fillmode\":\"overlay\",\"size\":10,\"solidity\":0.2}},\"type\":\"barpolar\"}],\"carpet\":[{\"aaxis\":{\"endlinecolor\":\"#2a3f5f\",\"gridcolor\":\"white\",\"linecolor\":\"white\",\"minorgridcolor\":\"white\",\"startlinecolor\":\"#2a3f5f\"},\"baxis\":{\"endlinecolor\":\"#2a3f5f\",\"gridcolor\":\"white\",\"linecolor\":\"white\",\"minorgridcolor\":\"white\",\"startlinecolor\":\"#2a3f5f\"},\"type\":\"carpet\"}],\"choropleth\":[{\"colorbar\":{\"outlinewidth\":0,\"ticks\":\"\"},\"type\":\"choropleth\"}],\"contour\":[{\"colorbar\":{\"outlinewidth\":0,\"ticks\":\"\"},\"colorscale\":[[0.0,\"#0d0887\"],[0.1111111111111111,\"#46039f\"],[0.2222222222222222,\"#7201a8\"],[0.3333333333333333,\"#9c179e\"],[0.4444444444444444,\"#bd3786\"],[0.5555555555555556,\"#d8576b\"],[0.6666666666666666,\"#ed7953\"],[0.7777777777777778,\"#fb9f3a\"],[0.8888888888888888,\"#fdca26\"],[1.0,\"#f0f921\"]],\"type\":\"contour\"}],\"contourcarpet\":[{\"colorbar\":{\"outlinewidth\":0,\"ticks\":\"\"},\"type\":\"contourcarpet\"}],\"heatmap\":[{\"colorbar\":{\"outlinewidth\":0,\"ticks\":\"\"},\"colorscale\":[[0.0,\"#0d0887\"],[0.1111111111111111,\"#46039f\"],[0.2222222222222222,\"#7201a8\"],[0.3333333333333333,\"#9c179e\"],[0.4444444444444444,\"#bd3786\"],[0.5555555555555556,\"#d8576b\"],[0.6666666666666666,\"#ed7953\"],[0.7777777777777778,\"#fb9f3a\"],[0.8888888888888888,\"#fdca26\"],[1.0,\"#f0f921\"]],\"type\":\"heatmap\"}],\"heatmapgl\":[{\"colorbar\":{\"outlinewidth\":0,\"ticks\":\"\"},\"colorscale\":[[0.0,\"#0d0887\"],[0.1111111111111111,\"#46039f\"],[0.2222222222222222,\"#7201a8\"],[0.3333333333333333,\"#9c179e\"],[0.4444444444444444,\"#bd3786\"],[0.5555555555555556,\"#d8576b\"],[0.6666666666666666,\"#ed7953\"],[0.7777777777777778,\"#fb9f3a\"],[0.8888888888888888,\"#fdca26\"],[1.0,\"#f0f921\"]],\"type\":\"heatmapgl\"}],\"histogram\":[{\"marker\":{\"pattern\":{\"fillmode\":\"overlay\",\"size\":10,\"solidity\":0.2}},\"type\":\"histogram\"}],\"histogram2d\":[{\"colorbar\":{\"outlinewidth\":0,\"ticks\":\"\"},\"colorscale\":[[0.0,\"#0d0887\"],[0.1111111111111111,\"#46039f\"],[0.2222222222222222,\"#7201a8\"],[0.3333333333333333,\"#9c179e\"],[0.4444444444444444,\"#bd3786\"],[0.5555555555555556,\"#d8576b\"],[0.6666666666666666,\"#ed7953\"],[0.7777777777777778,\"#fb9f3a\"],[0.8888888888888888,\"#fdca26\"],[1.0,\"#f0f921\"]],\"type\":\"histogram2d\"}],\"histogram2dcontour\":[{\"colorbar\":{\"outlinewidth\":0,\"ticks\":\"\"},\"colorscale\":[[0.0,\"#0d0887\"],[0.1111111111111111,\"#46039f\"],[0.2222222222222222,\"#7201a8\"],[0.3333333333333333,\"#9c179e\"],[0.4444444444444444,\"#bd3786\"],[0.5555555555555556,\"#d8576b\"],[0.6666666666666666,\"#ed7953\"],[0.7777777777777778,\"#fb9f3a\"],[0.8888888888888888,\"#fdca26\"],[1.0,\"#f0f921\"]],\"type\":\"histogram2dcontour\"}],\"mesh3d\":[{\"colorbar\":{\"outlinewidth\":0,\"ticks\":\"\"},\"type\":\"mesh3d\"}],\"parcoords\":[{\"line\":{\"colorbar\":{\"outlinewidth\":0,\"ticks\":\"\"}},\"type\":\"parcoords\"}],\"pie\":[{\"automargin\":true,\"type\":\"pie\"}],\"scatter\":[{\"marker\":{\"colorbar\":{\"outlinewidth\":0,\"ticks\":\"\"}},\"type\":\"scatter\"}],\"scatter3d\":[{\"line\":{\"colorbar\":{\"outlinewidth\":0,\"ticks\":\"\"}},\"marker\":{\"colorbar\":{\"outlinewidth\":0,\"ticks\":\"\"}},\"type\":\"scatter3d\"}],\"scattercarpet\":[{\"marker\":{\"colorbar\":{\"outlinewidth\":0,\"ticks\":\"\"}},\"type\":\"scattercarpet\"}],\"scattergeo\":[{\"marker\":{\"colorbar\":{\"outlinewidth\":0,\"ticks\":\"\"}},\"type\":\"scattergeo\"}],\"scattergl\":[{\"marker\":{\"colorbar\":{\"outlinewidth\":0,\"ticks\":\"\"}},\"type\":\"scattergl\"}],\"scattermapbox\":[{\"marker\":{\"colorbar\":{\"outlinewidth\":0,\"ticks\":\"\"}},\"type\":\"scattermapbox\"}],\"scatterpolar\":[{\"marker\":{\"colorbar\":{\"outlinewidth\":0,\"ticks\":\"\"}},\"type\":\"scatterpolar\"}],\"scatterpolargl\":[{\"marker\":{\"colorbar\":{\"outlinewidth\":0,\"ticks\":\"\"}},\"type\":\"scatterpolargl\"}],\"scatterternary\":[{\"marker\":{\"colorbar\":{\"outlinewidth\":0,\"ticks\":\"\"}},\"type\":\"scatterternary\"}],\"surface\":[{\"colorbar\":{\"outlinewidth\":0,\"ticks\":\"\"},\"colorscale\":[[0.0,\"#0d0887\"],[0.1111111111111111,\"#46039f\"],[0.2222222222222222,\"#7201a8\"],[0.3333333333333333,\"#9c179e\"],[0.4444444444444444,\"#bd3786\"],[0.5555555555555556,\"#d8576b\"],[0.6666666666666666,\"#ed7953\"],[0.7777777777777778,\"#fb9f3a\"],[0.8888888888888888,\"#fdca26\"],[1.0,\"#f0f921\"]],\"type\":\"surface\"}],\"table\":[{\"cells\":{\"fill\":{\"color\":\"#EBF0F8\"},\"line\":{\"color\":\"white\"}},\"header\":{\"fill\":{\"color\":\"#C8D4E3\"},\"line\":{\"color\":\"white\"}},\"type\":\"table\"}]},\"layout\":{\"annotationdefaults\":{\"arrowcolor\":\"#2a3f5f\",\"arrowhead\":0,\"arrowwidth\":1},\"autotypenumbers\":\"strict\",\"coloraxis\":{\"colorbar\":{\"outlinewidth\":0,\"ticks\":\"\"}},\"colorscale\":{\"diverging\":[[0,\"#8e0152\"],[0.1,\"#c51b7d\"],[0.2,\"#de77ae\"],[0.3,\"#f1b6da\"],[0.4,\"#fde0ef\"],[0.5,\"#f7f7f7\"],[0.6,\"#e6f5d0\"],[0.7,\"#b8e186\"],[0.8,\"#7fbc41\"],[0.9,\"#4d9221\"],[1,\"#276419\"]],\"sequential\":[[0.0,\"#0d0887\"],[0.1111111111111111,\"#46039f\"],[0.2222222222222222,\"#7201a8\"],[0.3333333333333333,\"#9c179e\"],[0.4444444444444444,\"#bd3786\"],[0.5555555555555556,\"#d8576b\"],[0.6666666666666666,\"#ed7953\"],[0.7777777777777778,\"#fb9f3a\"],[0.8888888888888888,\"#fdca26\"],[1.0,\"#f0f921\"]],\"sequentialminus\":[[0.0,\"#0d0887\"],[0.1111111111111111,\"#46039f\"],[0.2222222222222222,\"#7201a8\"],[0.3333333333333333,\"#9c179e\"],[0.4444444444444444,\"#bd3786\"],[0.5555555555555556,\"#d8576b\"],[0.6666666666666666,\"#ed7953\"],[0.7777777777777778,\"#fb9f3a\"],[0.8888888888888888,\"#fdca26\"],[1.0,\"#f0f921\"]]},\"colorway\":[\"#636efa\",\"#EF553B\",\"#00cc96\",\"#ab63fa\",\"#FFA15A\",\"#19d3f3\",\"#FF6692\",\"#B6E880\",\"#FF97FF\",\"#FECB52\"],\"font\":{\"color\":\"#2a3f5f\"},\"geo\":{\"bgcolor\":\"white\",\"lakecolor\":\"white\",\"landcolor\":\"#E5ECF6\",\"showlakes\":true,\"showland\":true,\"subunitcolor\":\"white\"},\"hoverlabel\":{\"align\":\"left\"},\"hovermode\":\"closest\",\"mapbox\":{\"style\":\"light\"},\"paper_bgcolor\":\"white\",\"plot_bgcolor\":\"#E5ECF6\",\"polar\":{\"angularaxis\":{\"gridcolor\":\"white\",\"linecolor\":\"white\",\"ticks\":\"\"},\"bgcolor\":\"#E5ECF6\",\"radialaxis\":{\"gridcolor\":\"white\",\"linecolor\":\"white\",\"ticks\":\"\"}},\"scene\":{\"xaxis\":{\"backgroundcolor\":\"#E5ECF6\",\"gridcolor\":\"white\",\"gridwidth\":2,\"linecolor\":\"white\",\"showbackground\":true,\"ticks\":\"\",\"zerolinecolor\":\"white\"},\"yaxis\":{\"backgroundcolor\":\"#E5ECF6\",\"gridcolor\":\"white\",\"gridwidth\":2,\"linecolor\":\"white\",\"showbackground\":true,\"ticks\":\"\",\"zerolinecolor\":\"white\"},\"zaxis\":{\"backgroundcolor\":\"#E5ECF6\",\"gridcolor\":\"white\",\"gridwidth\":2,\"linecolor\":\"white\",\"showbackground\":true,\"ticks\":\"\",\"zerolinecolor\":\"white\"}},\"shapedefaults\":{\"line\":{\"color\":\"#2a3f5f\"}},\"ternary\":{\"aaxis\":{\"gridcolor\":\"white\",\"linecolor\":\"white\",\"ticks\":\"\"},\"baxis\":{\"gridcolor\":\"white\",\"linecolor\":\"white\",\"ticks\":\"\"},\"bgcolor\":\"#E5ECF6\",\"caxis\":{\"gridcolor\":\"white\",\"linecolor\":\"white\",\"ticks\":\"\"}},\"title\":{\"x\":0.05},\"xaxis\":{\"automargin\":true,\"gridcolor\":\"white\",\"linecolor\":\"white\",\"ticks\":\"\",\"title\":{\"standoff\":15},\"zerolinecolor\":\"white\",\"zerolinewidth\":2},\"yaxis\":{\"automargin\":true,\"gridcolor\":\"white\",\"linecolor\":\"white\",\"ticks\":\"\",\"title\":{\"standoff\":15},\"zerolinecolor\":\"white\",\"zerolinewidth\":2}}},\"title\":{\"font\":{\"size\":30},\"text\":\"<b>IMDB movies - Watch Time\",\"x\":0.5},\"xaxis\":{\"anchor\":\"y\",\"domain\":[0.0,1.0],\"showgrid\":false,\"tickangle\":30,\"title\":{\"text\":\"Watch Time\"}},\"yaxis\":{\"anchor\":\"x\",\"domain\":[0.0,1.0],\"showgrid\":false,\"title\":{\"text\":\"count\"}}},                        {\"responsive\": true}                    ).then(function(){\n",
       "                            \n",
       "var gd = document.getElementById('bc9497f4-1a6e-44f4-93ff-ab1346765185');\n",
       "var x = new MutationObserver(function (mutations, observer) {{\n",
       "        var display = window.getComputedStyle(gd).display;\n",
       "        if (!display || display === 'none') {{\n",
       "            console.log([gd, 'removed!']);\n",
       "            Plotly.purge(gd);\n",
       "            observer.disconnect();\n",
       "        }}\n",
       "}});\n",
       "\n",
       "// Listen for the removal of the full notebook cells\n",
       "var notebookContainer = gd.closest('#notebook-container');\n",
       "if (notebookContainer) {{\n",
       "    x.observe(notebookContainer, {childList: true});\n",
       "}}\n",
       "\n",
       "// Listen for the clearing of the current output cell\n",
       "var outputEl = gd.closest('.output');\n",
       "if (outputEl) {{\n",
       "    x.observe(outputEl, {childList: true});\n",
       "}}\n",
       "\n",
       "                        })                };                });            </script>        </div>"
      ]
     },
     "metadata": {},
     "output_type": "display_data"
    }
   ],
   "source": [
    "# Top 10 movies with high watching time.\n",
    "bar_plot('Movie Name', tribe='sort', by='Watch Time', limit=10)"
   ]
  },
  {
   "cell_type": "markdown",
   "id": "a3850681",
   "metadata": {},
   "source": [
    "* Gangs of Wasseypur is the movie with highest watch time of 321 mins."
   ]
  },
  {
   "cell_type": "markdown",
   "id": "31d0fe60",
   "metadata": {},
   "source": [
    "# Movies according to Ratings"
   ]
  },
  {
   "cell_type": "code",
   "execution_count": 22,
   "id": "a160dba0",
   "metadata": {},
   "outputs": [
    {
     "data": {
      "application/vnd.plotly.v1+json": {
       "config": {
        "plotlyServerURL": "https://plot.ly"
       },
       "data": [
        {
         "alignmentgroup": "True",
         "hovertemplate": "x=%{x}<br>y=%{y}<extra></extra>",
         "legendgroup": "",
         "marker": {
          "color": "gold",
          "pattern": {
           "shape": ""
          }
         },
         "name": "",
         "offsetgroup": "",
         "orientation": "v",
         "showlegend": false,
         "textposition": "auto",
         "type": "bar",
         "x": [
          "The Shawshank Redemption",
          "The Godfather",
          "The Dark Knight",
          "The Lord of the Rings: The Return of the King",
          "Schindler's List",
          "The Godfather Part II",
          "12 Angry Men",
          "Jai Bhim",
          "Pulp Fiction",
          "The Lord of the Rings: The Fellowship of the Ring"
         ],
         "xaxis": "x",
         "y": [
          9.3,
          9.2,
          9,
          9,
          9,
          9,
          9,
          8.9,
          8.9,
          8.8
         ],
         "yaxis": "y"
        }
       ],
       "layout": {
        "barmode": "relative",
        "font": {
         "color": "white",
         "family": "Lato",
         "size": 18
        },
        "legend": {
         "tracegroupgap": 0
        },
        "margin": {
         "t": 60
        },
        "paper_bgcolor": "black",
        "plot_bgcolor": "black",
        "template": {
         "data": {
          "bar": [
           {
            "error_x": {
             "color": "#2a3f5f"
            },
            "error_y": {
             "color": "#2a3f5f"
            },
            "marker": {
             "line": {
              "color": "#E5ECF6",
              "width": 0.5
             },
             "pattern": {
              "fillmode": "overlay",
              "size": 10,
              "solidity": 0.2
             }
            },
            "type": "bar"
           }
          ],
          "barpolar": [
           {
            "marker": {
             "line": {
              "color": "#E5ECF6",
              "width": 0.5
             },
             "pattern": {
              "fillmode": "overlay",
              "size": 10,
              "solidity": 0.2
             }
            },
            "type": "barpolar"
           }
          ],
          "carpet": [
           {
            "aaxis": {
             "endlinecolor": "#2a3f5f",
             "gridcolor": "white",
             "linecolor": "white",
             "minorgridcolor": "white",
             "startlinecolor": "#2a3f5f"
            },
            "baxis": {
             "endlinecolor": "#2a3f5f",
             "gridcolor": "white",
             "linecolor": "white",
             "minorgridcolor": "white",
             "startlinecolor": "#2a3f5f"
            },
            "type": "carpet"
           }
          ],
          "choropleth": [
           {
            "colorbar": {
             "outlinewidth": 0,
             "ticks": ""
            },
            "type": "choropleth"
           }
          ],
          "contour": [
           {
            "colorbar": {
             "outlinewidth": 0,
             "ticks": ""
            },
            "colorscale": [
             [
              0,
              "#0d0887"
             ],
             [
              0.1111111111111111,
              "#46039f"
             ],
             [
              0.2222222222222222,
              "#7201a8"
             ],
             [
              0.3333333333333333,
              "#9c179e"
             ],
             [
              0.4444444444444444,
              "#bd3786"
             ],
             [
              0.5555555555555556,
              "#d8576b"
             ],
             [
              0.6666666666666666,
              "#ed7953"
             ],
             [
              0.7777777777777778,
              "#fb9f3a"
             ],
             [
              0.8888888888888888,
              "#fdca26"
             ],
             [
              1,
              "#f0f921"
             ]
            ],
            "type": "contour"
           }
          ],
          "contourcarpet": [
           {
            "colorbar": {
             "outlinewidth": 0,
             "ticks": ""
            },
            "type": "contourcarpet"
           }
          ],
          "heatmap": [
           {
            "colorbar": {
             "outlinewidth": 0,
             "ticks": ""
            },
            "colorscale": [
             [
              0,
              "#0d0887"
             ],
             [
              0.1111111111111111,
              "#46039f"
             ],
             [
              0.2222222222222222,
              "#7201a8"
             ],
             [
              0.3333333333333333,
              "#9c179e"
             ],
             [
              0.4444444444444444,
              "#bd3786"
             ],
             [
              0.5555555555555556,
              "#d8576b"
             ],
             [
              0.6666666666666666,
              "#ed7953"
             ],
             [
              0.7777777777777778,
              "#fb9f3a"
             ],
             [
              0.8888888888888888,
              "#fdca26"
             ],
             [
              1,
              "#f0f921"
             ]
            ],
            "type": "heatmap"
           }
          ],
          "heatmapgl": [
           {
            "colorbar": {
             "outlinewidth": 0,
             "ticks": ""
            },
            "colorscale": [
             [
              0,
              "#0d0887"
             ],
             [
              0.1111111111111111,
              "#46039f"
             ],
             [
              0.2222222222222222,
              "#7201a8"
             ],
             [
              0.3333333333333333,
              "#9c179e"
             ],
             [
              0.4444444444444444,
              "#bd3786"
             ],
             [
              0.5555555555555556,
              "#d8576b"
             ],
             [
              0.6666666666666666,
              "#ed7953"
             ],
             [
              0.7777777777777778,
              "#fb9f3a"
             ],
             [
              0.8888888888888888,
              "#fdca26"
             ],
             [
              1,
              "#f0f921"
             ]
            ],
            "type": "heatmapgl"
           }
          ],
          "histogram": [
           {
            "marker": {
             "pattern": {
              "fillmode": "overlay",
              "size": 10,
              "solidity": 0.2
             }
            },
            "type": "histogram"
           }
          ],
          "histogram2d": [
           {
            "colorbar": {
             "outlinewidth": 0,
             "ticks": ""
            },
            "colorscale": [
             [
              0,
              "#0d0887"
             ],
             [
              0.1111111111111111,
              "#46039f"
             ],
             [
              0.2222222222222222,
              "#7201a8"
             ],
             [
              0.3333333333333333,
              "#9c179e"
             ],
             [
              0.4444444444444444,
              "#bd3786"
             ],
             [
              0.5555555555555556,
              "#d8576b"
             ],
             [
              0.6666666666666666,
              "#ed7953"
             ],
             [
              0.7777777777777778,
              "#fb9f3a"
             ],
             [
              0.8888888888888888,
              "#fdca26"
             ],
             [
              1,
              "#f0f921"
             ]
            ],
            "type": "histogram2d"
           }
          ],
          "histogram2dcontour": [
           {
            "colorbar": {
             "outlinewidth": 0,
             "ticks": ""
            },
            "colorscale": [
             [
              0,
              "#0d0887"
             ],
             [
              0.1111111111111111,
              "#46039f"
             ],
             [
              0.2222222222222222,
              "#7201a8"
             ],
             [
              0.3333333333333333,
              "#9c179e"
             ],
             [
              0.4444444444444444,
              "#bd3786"
             ],
             [
              0.5555555555555556,
              "#d8576b"
             ],
             [
              0.6666666666666666,
              "#ed7953"
             ],
             [
              0.7777777777777778,
              "#fb9f3a"
             ],
             [
              0.8888888888888888,
              "#fdca26"
             ],
             [
              1,
              "#f0f921"
             ]
            ],
            "type": "histogram2dcontour"
           }
          ],
          "mesh3d": [
           {
            "colorbar": {
             "outlinewidth": 0,
             "ticks": ""
            },
            "type": "mesh3d"
           }
          ],
          "parcoords": [
           {
            "line": {
             "colorbar": {
              "outlinewidth": 0,
              "ticks": ""
             }
            },
            "type": "parcoords"
           }
          ],
          "pie": [
           {
            "automargin": true,
            "type": "pie"
           }
          ],
          "scatter": [
           {
            "marker": {
             "colorbar": {
              "outlinewidth": 0,
              "ticks": ""
             }
            },
            "type": "scatter"
           }
          ],
          "scatter3d": [
           {
            "line": {
             "colorbar": {
              "outlinewidth": 0,
              "ticks": ""
             }
            },
            "marker": {
             "colorbar": {
              "outlinewidth": 0,
              "ticks": ""
             }
            },
            "type": "scatter3d"
           }
          ],
          "scattercarpet": [
           {
            "marker": {
             "colorbar": {
              "outlinewidth": 0,
              "ticks": ""
             }
            },
            "type": "scattercarpet"
           }
          ],
          "scattergeo": [
           {
            "marker": {
             "colorbar": {
              "outlinewidth": 0,
              "ticks": ""
             }
            },
            "type": "scattergeo"
           }
          ],
          "scattergl": [
           {
            "marker": {
             "colorbar": {
              "outlinewidth": 0,
              "ticks": ""
             }
            },
            "type": "scattergl"
           }
          ],
          "scattermapbox": [
           {
            "marker": {
             "colorbar": {
              "outlinewidth": 0,
              "ticks": ""
             }
            },
            "type": "scattermapbox"
           }
          ],
          "scatterpolar": [
           {
            "marker": {
             "colorbar": {
              "outlinewidth": 0,
              "ticks": ""
             }
            },
            "type": "scatterpolar"
           }
          ],
          "scatterpolargl": [
           {
            "marker": {
             "colorbar": {
              "outlinewidth": 0,
              "ticks": ""
             }
            },
            "type": "scatterpolargl"
           }
          ],
          "scatterternary": [
           {
            "marker": {
             "colorbar": {
              "outlinewidth": 0,
              "ticks": ""
             }
            },
            "type": "scatterternary"
           }
          ],
          "surface": [
           {
            "colorbar": {
             "outlinewidth": 0,
             "ticks": ""
            },
            "colorscale": [
             [
              0,
              "#0d0887"
             ],
             [
              0.1111111111111111,
              "#46039f"
             ],
             [
              0.2222222222222222,
              "#7201a8"
             ],
             [
              0.3333333333333333,
              "#9c179e"
             ],
             [
              0.4444444444444444,
              "#bd3786"
             ],
             [
              0.5555555555555556,
              "#d8576b"
             ],
             [
              0.6666666666666666,
              "#ed7953"
             ],
             [
              0.7777777777777778,
              "#fb9f3a"
             ],
             [
              0.8888888888888888,
              "#fdca26"
             ],
             [
              1,
              "#f0f921"
             ]
            ],
            "type": "surface"
           }
          ],
          "table": [
           {
            "cells": {
             "fill": {
              "color": "#EBF0F8"
             },
             "line": {
              "color": "white"
             }
            },
            "header": {
             "fill": {
              "color": "#C8D4E3"
             },
             "line": {
              "color": "white"
             }
            },
            "type": "table"
           }
          ]
         },
         "layout": {
          "annotationdefaults": {
           "arrowcolor": "#2a3f5f",
           "arrowhead": 0,
           "arrowwidth": 1
          },
          "autotypenumbers": "strict",
          "coloraxis": {
           "colorbar": {
            "outlinewidth": 0,
            "ticks": ""
           }
          },
          "colorscale": {
           "diverging": [
            [
             0,
             "#8e0152"
            ],
            [
             0.1,
             "#c51b7d"
            ],
            [
             0.2,
             "#de77ae"
            ],
            [
             0.3,
             "#f1b6da"
            ],
            [
             0.4,
             "#fde0ef"
            ],
            [
             0.5,
             "#f7f7f7"
            ],
            [
             0.6,
             "#e6f5d0"
            ],
            [
             0.7,
             "#b8e186"
            ],
            [
             0.8,
             "#7fbc41"
            ],
            [
             0.9,
             "#4d9221"
            ],
            [
             1,
             "#276419"
            ]
           ],
           "sequential": [
            [
             0,
             "#0d0887"
            ],
            [
             0.1111111111111111,
             "#46039f"
            ],
            [
             0.2222222222222222,
             "#7201a8"
            ],
            [
             0.3333333333333333,
             "#9c179e"
            ],
            [
             0.4444444444444444,
             "#bd3786"
            ],
            [
             0.5555555555555556,
             "#d8576b"
            ],
            [
             0.6666666666666666,
             "#ed7953"
            ],
            [
             0.7777777777777778,
             "#fb9f3a"
            ],
            [
             0.8888888888888888,
             "#fdca26"
            ],
            [
             1,
             "#f0f921"
            ]
           ],
           "sequentialminus": [
            [
             0,
             "#0d0887"
            ],
            [
             0.1111111111111111,
             "#46039f"
            ],
            [
             0.2222222222222222,
             "#7201a8"
            ],
            [
             0.3333333333333333,
             "#9c179e"
            ],
            [
             0.4444444444444444,
             "#bd3786"
            ],
            [
             0.5555555555555556,
             "#d8576b"
            ],
            [
             0.6666666666666666,
             "#ed7953"
            ],
            [
             0.7777777777777778,
             "#fb9f3a"
            ],
            [
             0.8888888888888888,
             "#fdca26"
            ],
            [
             1,
             "#f0f921"
            ]
           ]
          },
          "colorway": [
           "#636efa",
           "#EF553B",
           "#00cc96",
           "#ab63fa",
           "#FFA15A",
           "#19d3f3",
           "#FF6692",
           "#B6E880",
           "#FF97FF",
           "#FECB52"
          ],
          "font": {
           "color": "#2a3f5f"
          },
          "geo": {
           "bgcolor": "white",
           "lakecolor": "white",
           "landcolor": "#E5ECF6",
           "showlakes": true,
           "showland": true,
           "subunitcolor": "white"
          },
          "hoverlabel": {
           "align": "left"
          },
          "hovermode": "closest",
          "mapbox": {
           "style": "light"
          },
          "paper_bgcolor": "white",
          "plot_bgcolor": "#E5ECF6",
          "polar": {
           "angularaxis": {
            "gridcolor": "white",
            "linecolor": "white",
            "ticks": ""
           },
           "bgcolor": "#E5ECF6",
           "radialaxis": {
            "gridcolor": "white",
            "linecolor": "white",
            "ticks": ""
           }
          },
          "scene": {
           "xaxis": {
            "backgroundcolor": "#E5ECF6",
            "gridcolor": "white",
            "gridwidth": 2,
            "linecolor": "white",
            "showbackground": true,
            "ticks": "",
            "zerolinecolor": "white"
           },
           "yaxis": {
            "backgroundcolor": "#E5ECF6",
            "gridcolor": "white",
            "gridwidth": 2,
            "linecolor": "white",
            "showbackground": true,
            "ticks": "",
            "zerolinecolor": "white"
           },
           "zaxis": {
            "backgroundcolor": "#E5ECF6",
            "gridcolor": "white",
            "gridwidth": 2,
            "linecolor": "white",
            "showbackground": true,
            "ticks": "",
            "zerolinecolor": "white"
           }
          },
          "shapedefaults": {
           "line": {
            "color": "#2a3f5f"
           }
          },
          "ternary": {
           "aaxis": {
            "gridcolor": "white",
            "linecolor": "white",
            "ticks": ""
           },
           "baxis": {
            "gridcolor": "white",
            "linecolor": "white",
            "ticks": ""
           },
           "bgcolor": "#E5ECF6",
           "caxis": {
            "gridcolor": "white",
            "linecolor": "white",
            "ticks": ""
           }
          },
          "title": {
           "x": 0.05
          },
          "xaxis": {
           "automargin": true,
           "gridcolor": "white",
           "linecolor": "white",
           "ticks": "",
           "title": {
            "standoff": 15
           },
           "zerolinecolor": "white",
           "zerolinewidth": 2
          },
          "yaxis": {
           "automargin": true,
           "gridcolor": "white",
           "linecolor": "white",
           "ticks": "",
           "title": {
            "standoff": 15
           },
           "zerolinecolor": "white",
           "zerolinewidth": 2
          }
         }
        },
        "title": {
         "font": {
          "size": 30
         },
         "text": "<b>IMDB movies - Movie Rating",
         "x": 0.5
        },
        "xaxis": {
         "anchor": "y",
         "domain": [
          0,
          1
         ],
         "showgrid": false,
         "tickangle": 30,
         "title": {
          "text": "Movie Rating"
         }
        },
        "yaxis": {
         "anchor": "x",
         "domain": [
          0,
          1
         ],
         "showgrid": false,
         "title": {
          "text": "count"
         }
        }
       }
      },
      "text/html": [
       "<div>                            <div id=\"22d725c1-fa8a-4a11-8c51-ec8f0c022383\" class=\"plotly-graph-div\" style=\"height:525px; width:100%;\"></div>            <script type=\"text/javascript\">                require([\"plotly\"], function(Plotly) {                    window.PLOTLYENV=window.PLOTLYENV || {};                                    if (document.getElementById(\"22d725c1-fa8a-4a11-8c51-ec8f0c022383\")) {                    Plotly.newPlot(                        \"22d725c1-fa8a-4a11-8c51-ec8f0c022383\",                        [{\"alignmentgroup\":\"True\",\"hovertemplate\":\"x=%{x}<br>y=%{y}<extra></extra>\",\"legendgroup\":\"\",\"marker\":{\"color\":\"gold\",\"pattern\":{\"shape\":\"\"}},\"name\":\"\",\"offsetgroup\":\"\",\"orientation\":\"v\",\"showlegend\":false,\"textposition\":\"auto\",\"type\":\"bar\",\"x\":[\"The Shawshank Redemption\",\"The Godfather\",\"The Dark Knight\",\"The Lord of the Rings: The Return of the King\",\"Schindler's List\",\"The Godfather Part II\",\"12 Angry Men\",\"Jai Bhim\",\"Pulp Fiction\",\"The Lord of the Rings: The Fellowship of the Ring\"],\"xaxis\":\"x\",\"y\":[9.3,9.2,9.0,9.0,9.0,9.0,9.0,8.9,8.9,8.8],\"yaxis\":\"y\"}],                        {\"barmode\":\"relative\",\"font\":{\"color\":\"white\",\"family\":\"Lato\",\"size\":18},\"legend\":{\"tracegroupgap\":0},\"margin\":{\"t\":60},\"paper_bgcolor\":\"black\",\"plot_bgcolor\":\"black\",\"template\":{\"data\":{\"bar\":[{\"error_x\":{\"color\":\"#2a3f5f\"},\"error_y\":{\"color\":\"#2a3f5f\"},\"marker\":{\"line\":{\"color\":\"#E5ECF6\",\"width\":0.5},\"pattern\":{\"fillmode\":\"overlay\",\"size\":10,\"solidity\":0.2}},\"type\":\"bar\"}],\"barpolar\":[{\"marker\":{\"line\":{\"color\":\"#E5ECF6\",\"width\":0.5},\"pattern\":{\"fillmode\":\"overlay\",\"size\":10,\"solidity\":0.2}},\"type\":\"barpolar\"}],\"carpet\":[{\"aaxis\":{\"endlinecolor\":\"#2a3f5f\",\"gridcolor\":\"white\",\"linecolor\":\"white\",\"minorgridcolor\":\"white\",\"startlinecolor\":\"#2a3f5f\"},\"baxis\":{\"endlinecolor\":\"#2a3f5f\",\"gridcolor\":\"white\",\"linecolor\":\"white\",\"minorgridcolor\":\"white\",\"startlinecolor\":\"#2a3f5f\"},\"type\":\"carpet\"}],\"choropleth\":[{\"colorbar\":{\"outlinewidth\":0,\"ticks\":\"\"},\"type\":\"choropleth\"}],\"contour\":[{\"colorbar\":{\"outlinewidth\":0,\"ticks\":\"\"},\"colorscale\":[[0.0,\"#0d0887\"],[0.1111111111111111,\"#46039f\"],[0.2222222222222222,\"#7201a8\"],[0.3333333333333333,\"#9c179e\"],[0.4444444444444444,\"#bd3786\"],[0.5555555555555556,\"#d8576b\"],[0.6666666666666666,\"#ed7953\"],[0.7777777777777778,\"#fb9f3a\"],[0.8888888888888888,\"#fdca26\"],[1.0,\"#f0f921\"]],\"type\":\"contour\"}],\"contourcarpet\":[{\"colorbar\":{\"outlinewidth\":0,\"ticks\":\"\"},\"type\":\"contourcarpet\"}],\"heatmap\":[{\"colorbar\":{\"outlinewidth\":0,\"ticks\":\"\"},\"colorscale\":[[0.0,\"#0d0887\"],[0.1111111111111111,\"#46039f\"],[0.2222222222222222,\"#7201a8\"],[0.3333333333333333,\"#9c179e\"],[0.4444444444444444,\"#bd3786\"],[0.5555555555555556,\"#d8576b\"],[0.6666666666666666,\"#ed7953\"],[0.7777777777777778,\"#fb9f3a\"],[0.8888888888888888,\"#fdca26\"],[1.0,\"#f0f921\"]],\"type\":\"heatmap\"}],\"heatmapgl\":[{\"colorbar\":{\"outlinewidth\":0,\"ticks\":\"\"},\"colorscale\":[[0.0,\"#0d0887\"],[0.1111111111111111,\"#46039f\"],[0.2222222222222222,\"#7201a8\"],[0.3333333333333333,\"#9c179e\"],[0.4444444444444444,\"#bd3786\"],[0.5555555555555556,\"#d8576b\"],[0.6666666666666666,\"#ed7953\"],[0.7777777777777778,\"#fb9f3a\"],[0.8888888888888888,\"#fdca26\"],[1.0,\"#f0f921\"]],\"type\":\"heatmapgl\"}],\"histogram\":[{\"marker\":{\"pattern\":{\"fillmode\":\"overlay\",\"size\":10,\"solidity\":0.2}},\"type\":\"histogram\"}],\"histogram2d\":[{\"colorbar\":{\"outlinewidth\":0,\"ticks\":\"\"},\"colorscale\":[[0.0,\"#0d0887\"],[0.1111111111111111,\"#46039f\"],[0.2222222222222222,\"#7201a8\"],[0.3333333333333333,\"#9c179e\"],[0.4444444444444444,\"#bd3786\"],[0.5555555555555556,\"#d8576b\"],[0.6666666666666666,\"#ed7953\"],[0.7777777777777778,\"#fb9f3a\"],[0.8888888888888888,\"#fdca26\"],[1.0,\"#f0f921\"]],\"type\":\"histogram2d\"}],\"histogram2dcontour\":[{\"colorbar\":{\"outlinewidth\":0,\"ticks\":\"\"},\"colorscale\":[[0.0,\"#0d0887\"],[0.1111111111111111,\"#46039f\"],[0.2222222222222222,\"#7201a8\"],[0.3333333333333333,\"#9c179e\"],[0.4444444444444444,\"#bd3786\"],[0.5555555555555556,\"#d8576b\"],[0.6666666666666666,\"#ed7953\"],[0.7777777777777778,\"#fb9f3a\"],[0.8888888888888888,\"#fdca26\"],[1.0,\"#f0f921\"]],\"type\":\"histogram2dcontour\"}],\"mesh3d\":[{\"colorbar\":{\"outlinewidth\":0,\"ticks\":\"\"},\"type\":\"mesh3d\"}],\"parcoords\":[{\"line\":{\"colorbar\":{\"outlinewidth\":0,\"ticks\":\"\"}},\"type\":\"parcoords\"}],\"pie\":[{\"automargin\":true,\"type\":\"pie\"}],\"scatter\":[{\"marker\":{\"colorbar\":{\"outlinewidth\":0,\"ticks\":\"\"}},\"type\":\"scatter\"}],\"scatter3d\":[{\"line\":{\"colorbar\":{\"outlinewidth\":0,\"ticks\":\"\"}},\"marker\":{\"colorbar\":{\"outlinewidth\":0,\"ticks\":\"\"}},\"type\":\"scatter3d\"}],\"scattercarpet\":[{\"marker\":{\"colorbar\":{\"outlinewidth\":0,\"ticks\":\"\"}},\"type\":\"scattercarpet\"}],\"scattergeo\":[{\"marker\":{\"colorbar\":{\"outlinewidth\":0,\"ticks\":\"\"}},\"type\":\"scattergeo\"}],\"scattergl\":[{\"marker\":{\"colorbar\":{\"outlinewidth\":0,\"ticks\":\"\"}},\"type\":\"scattergl\"}],\"scattermapbox\":[{\"marker\":{\"colorbar\":{\"outlinewidth\":0,\"ticks\":\"\"}},\"type\":\"scattermapbox\"}],\"scatterpolar\":[{\"marker\":{\"colorbar\":{\"outlinewidth\":0,\"ticks\":\"\"}},\"type\":\"scatterpolar\"}],\"scatterpolargl\":[{\"marker\":{\"colorbar\":{\"outlinewidth\":0,\"ticks\":\"\"}},\"type\":\"scatterpolargl\"}],\"scatterternary\":[{\"marker\":{\"colorbar\":{\"outlinewidth\":0,\"ticks\":\"\"}},\"type\":\"scatterternary\"}],\"surface\":[{\"colorbar\":{\"outlinewidth\":0,\"ticks\":\"\"},\"colorscale\":[[0.0,\"#0d0887\"],[0.1111111111111111,\"#46039f\"],[0.2222222222222222,\"#7201a8\"],[0.3333333333333333,\"#9c179e\"],[0.4444444444444444,\"#bd3786\"],[0.5555555555555556,\"#d8576b\"],[0.6666666666666666,\"#ed7953\"],[0.7777777777777778,\"#fb9f3a\"],[0.8888888888888888,\"#fdca26\"],[1.0,\"#f0f921\"]],\"type\":\"surface\"}],\"table\":[{\"cells\":{\"fill\":{\"color\":\"#EBF0F8\"},\"line\":{\"color\":\"white\"}},\"header\":{\"fill\":{\"color\":\"#C8D4E3\"},\"line\":{\"color\":\"white\"}},\"type\":\"table\"}]},\"layout\":{\"annotationdefaults\":{\"arrowcolor\":\"#2a3f5f\",\"arrowhead\":0,\"arrowwidth\":1},\"autotypenumbers\":\"strict\",\"coloraxis\":{\"colorbar\":{\"outlinewidth\":0,\"ticks\":\"\"}},\"colorscale\":{\"diverging\":[[0,\"#8e0152\"],[0.1,\"#c51b7d\"],[0.2,\"#de77ae\"],[0.3,\"#f1b6da\"],[0.4,\"#fde0ef\"],[0.5,\"#f7f7f7\"],[0.6,\"#e6f5d0\"],[0.7,\"#b8e186\"],[0.8,\"#7fbc41\"],[0.9,\"#4d9221\"],[1,\"#276419\"]],\"sequential\":[[0.0,\"#0d0887\"],[0.1111111111111111,\"#46039f\"],[0.2222222222222222,\"#7201a8\"],[0.3333333333333333,\"#9c179e\"],[0.4444444444444444,\"#bd3786\"],[0.5555555555555556,\"#d8576b\"],[0.6666666666666666,\"#ed7953\"],[0.7777777777777778,\"#fb9f3a\"],[0.8888888888888888,\"#fdca26\"],[1.0,\"#f0f921\"]],\"sequentialminus\":[[0.0,\"#0d0887\"],[0.1111111111111111,\"#46039f\"],[0.2222222222222222,\"#7201a8\"],[0.3333333333333333,\"#9c179e\"],[0.4444444444444444,\"#bd3786\"],[0.5555555555555556,\"#d8576b\"],[0.6666666666666666,\"#ed7953\"],[0.7777777777777778,\"#fb9f3a\"],[0.8888888888888888,\"#fdca26\"],[1.0,\"#f0f921\"]]},\"colorway\":[\"#636efa\",\"#EF553B\",\"#00cc96\",\"#ab63fa\",\"#FFA15A\",\"#19d3f3\",\"#FF6692\",\"#B6E880\",\"#FF97FF\",\"#FECB52\"],\"font\":{\"color\":\"#2a3f5f\"},\"geo\":{\"bgcolor\":\"white\",\"lakecolor\":\"white\",\"landcolor\":\"#E5ECF6\",\"showlakes\":true,\"showland\":true,\"subunitcolor\":\"white\"},\"hoverlabel\":{\"align\":\"left\"},\"hovermode\":\"closest\",\"mapbox\":{\"style\":\"light\"},\"paper_bgcolor\":\"white\",\"plot_bgcolor\":\"#E5ECF6\",\"polar\":{\"angularaxis\":{\"gridcolor\":\"white\",\"linecolor\":\"white\",\"ticks\":\"\"},\"bgcolor\":\"#E5ECF6\",\"radialaxis\":{\"gridcolor\":\"white\",\"linecolor\":\"white\",\"ticks\":\"\"}},\"scene\":{\"xaxis\":{\"backgroundcolor\":\"#E5ECF6\",\"gridcolor\":\"white\",\"gridwidth\":2,\"linecolor\":\"white\",\"showbackground\":true,\"ticks\":\"\",\"zerolinecolor\":\"white\"},\"yaxis\":{\"backgroundcolor\":\"#E5ECF6\",\"gridcolor\":\"white\",\"gridwidth\":2,\"linecolor\":\"white\",\"showbackground\":true,\"ticks\":\"\",\"zerolinecolor\":\"white\"},\"zaxis\":{\"backgroundcolor\":\"#E5ECF6\",\"gridcolor\":\"white\",\"gridwidth\":2,\"linecolor\":\"white\",\"showbackground\":true,\"ticks\":\"\",\"zerolinecolor\":\"white\"}},\"shapedefaults\":{\"line\":{\"color\":\"#2a3f5f\"}},\"ternary\":{\"aaxis\":{\"gridcolor\":\"white\",\"linecolor\":\"white\",\"ticks\":\"\"},\"baxis\":{\"gridcolor\":\"white\",\"linecolor\":\"white\",\"ticks\":\"\"},\"bgcolor\":\"#E5ECF6\",\"caxis\":{\"gridcolor\":\"white\",\"linecolor\":\"white\",\"ticks\":\"\"}},\"title\":{\"x\":0.05},\"xaxis\":{\"automargin\":true,\"gridcolor\":\"white\",\"linecolor\":\"white\",\"ticks\":\"\",\"title\":{\"standoff\":15},\"zerolinecolor\":\"white\",\"zerolinewidth\":2},\"yaxis\":{\"automargin\":true,\"gridcolor\":\"white\",\"linecolor\":\"white\",\"ticks\":\"\",\"title\":{\"standoff\":15},\"zerolinecolor\":\"white\",\"zerolinewidth\":2}}},\"title\":{\"font\":{\"size\":30},\"text\":\"<b>IMDB movies - Movie Rating\",\"x\":0.5},\"xaxis\":{\"anchor\":\"y\",\"domain\":[0.0,1.0],\"showgrid\":false,\"tickangle\":30,\"title\":{\"text\":\"Movie Rating\"}},\"yaxis\":{\"anchor\":\"x\",\"domain\":[0.0,1.0],\"showgrid\":false,\"title\":{\"text\":\"count\"}}},                        {\"responsive\": true}                    ).then(function(){\n",
       "                            \n",
       "var gd = document.getElementById('22d725c1-fa8a-4a11-8c51-ec8f0c022383');\n",
       "var x = new MutationObserver(function (mutations, observer) {{\n",
       "        var display = window.getComputedStyle(gd).display;\n",
       "        if (!display || display === 'none') {{\n",
       "            console.log([gd, 'removed!']);\n",
       "            Plotly.purge(gd);\n",
       "            observer.disconnect();\n",
       "        }}\n",
       "}});\n",
       "\n",
       "// Listen for the removal of the full notebook cells\n",
       "var notebookContainer = gd.closest('#notebook-container');\n",
       "if (notebookContainer) {{\n",
       "    x.observe(notebookContainer, {childList: true});\n",
       "}}\n",
       "\n",
       "// Listen for the clearing of the current output cell\n",
       "var outputEl = gd.closest('.output');\n",
       "if (outputEl) {{\n",
       "    x.observe(outputEl, {childList: true});\n",
       "}}\n",
       "\n",
       "                        })                };                });            </script>        </div>"
      ]
     },
     "metadata": {},
     "output_type": "display_data"
    }
   ],
   "source": [
    "# Top 10 movies According to the ratings.\n",
    "bar_plot('Movie Name', tribe='sort', by='Movie Rating', limit=10)"
   ]
  },
  {
   "cell_type": "markdown",
   "id": "b75b75ab",
   "metadata": {},
   "source": [
    "* The Shawshank Redemption is the movie with highest rating oof 9.3 ."
   ]
  },
  {
   "cell_type": "markdown",
   "id": "3068068a",
   "metadata": {},
   "source": [
    "# Top Directors"
   ]
  },
  {
   "cell_type": "code",
   "execution_count": 23,
   "id": "bf25e4ab",
   "metadata": {},
   "outputs": [
    {
     "data": {
      "application/vnd.plotly.v1+json": {
       "config": {
        "plotlyServerURL": "https://plot.ly"
       },
       "data": [
        {
         "alignmentgroup": "True",
         "hovertemplate": "x=%{x}<br>y=%{y}<extra></extra>",
         "legendgroup": "",
         "marker": {
          "color": "gold",
          "pattern": {
           "shape": ""
          }
         },
         "name": "",
         "offsetgroup": "",
         "orientation": "v",
         "showlegend": false,
         "textposition": "auto",
         "type": "bar",
         "x": [
          "Steven Spielberg",
          "Alfred Hitchcock",
          "Akira Kurosawa",
          "Martin Scorsese",
          "Hayao Miyazaki",
          "Woody Allen",
          "Billy Wilder",
          "Stanley Kubrick",
          "Clint Eastwood",
          "David Fincher",
          "Quentin Tarantino",
          "Christopher Nolan",
          "Ingmar Bergman",
          "Rob Reiner",
          "Charles Chaplin",
          "Wes Anderson",
          "Denis Villeneuve",
          "Andrei Tarkovsky",
          "John Huston",
          "Ridley Scott"
         ],
         "xaxis": "x",
         "y": [
          13,
          13,
          11,
          10,
          10,
          9,
          9,
          9,
          8,
          8,
          8,
          8,
          7,
          7,
          6,
          6,
          6,
          6,
          6,
          6
         ],
         "yaxis": "y"
        }
       ],
       "layout": {
        "barmode": "relative",
        "font": {
         "color": "white",
         "family": "Lato",
         "size": 18
        },
        "legend": {
         "tracegroupgap": 0
        },
        "margin": {
         "t": 60
        },
        "paper_bgcolor": "black",
        "plot_bgcolor": "black",
        "template": {
         "data": {
          "bar": [
           {
            "error_x": {
             "color": "#2a3f5f"
            },
            "error_y": {
             "color": "#2a3f5f"
            },
            "marker": {
             "line": {
              "color": "#E5ECF6",
              "width": 0.5
             },
             "pattern": {
              "fillmode": "overlay",
              "size": 10,
              "solidity": 0.2
             }
            },
            "type": "bar"
           }
          ],
          "barpolar": [
           {
            "marker": {
             "line": {
              "color": "#E5ECF6",
              "width": 0.5
             },
             "pattern": {
              "fillmode": "overlay",
              "size": 10,
              "solidity": 0.2
             }
            },
            "type": "barpolar"
           }
          ],
          "carpet": [
           {
            "aaxis": {
             "endlinecolor": "#2a3f5f",
             "gridcolor": "white",
             "linecolor": "white",
             "minorgridcolor": "white",
             "startlinecolor": "#2a3f5f"
            },
            "baxis": {
             "endlinecolor": "#2a3f5f",
             "gridcolor": "white",
             "linecolor": "white",
             "minorgridcolor": "white",
             "startlinecolor": "#2a3f5f"
            },
            "type": "carpet"
           }
          ],
          "choropleth": [
           {
            "colorbar": {
             "outlinewidth": 0,
             "ticks": ""
            },
            "type": "choropleth"
           }
          ],
          "contour": [
           {
            "colorbar": {
             "outlinewidth": 0,
             "ticks": ""
            },
            "colorscale": [
             [
              0,
              "#0d0887"
             ],
             [
              0.1111111111111111,
              "#46039f"
             ],
             [
              0.2222222222222222,
              "#7201a8"
             ],
             [
              0.3333333333333333,
              "#9c179e"
             ],
             [
              0.4444444444444444,
              "#bd3786"
             ],
             [
              0.5555555555555556,
              "#d8576b"
             ],
             [
              0.6666666666666666,
              "#ed7953"
             ],
             [
              0.7777777777777778,
              "#fb9f3a"
             ],
             [
              0.8888888888888888,
              "#fdca26"
             ],
             [
              1,
              "#f0f921"
             ]
            ],
            "type": "contour"
           }
          ],
          "contourcarpet": [
           {
            "colorbar": {
             "outlinewidth": 0,
             "ticks": ""
            },
            "type": "contourcarpet"
           }
          ],
          "heatmap": [
           {
            "colorbar": {
             "outlinewidth": 0,
             "ticks": ""
            },
            "colorscale": [
             [
              0,
              "#0d0887"
             ],
             [
              0.1111111111111111,
              "#46039f"
             ],
             [
              0.2222222222222222,
              "#7201a8"
             ],
             [
              0.3333333333333333,
              "#9c179e"
             ],
             [
              0.4444444444444444,
              "#bd3786"
             ],
             [
              0.5555555555555556,
              "#d8576b"
             ],
             [
              0.6666666666666666,
              "#ed7953"
             ],
             [
              0.7777777777777778,
              "#fb9f3a"
             ],
             [
              0.8888888888888888,
              "#fdca26"
             ],
             [
              1,
              "#f0f921"
             ]
            ],
            "type": "heatmap"
           }
          ],
          "heatmapgl": [
           {
            "colorbar": {
             "outlinewidth": 0,
             "ticks": ""
            },
            "colorscale": [
             [
              0,
              "#0d0887"
             ],
             [
              0.1111111111111111,
              "#46039f"
             ],
             [
              0.2222222222222222,
              "#7201a8"
             ],
             [
              0.3333333333333333,
              "#9c179e"
             ],
             [
              0.4444444444444444,
              "#bd3786"
             ],
             [
              0.5555555555555556,
              "#d8576b"
             ],
             [
              0.6666666666666666,
              "#ed7953"
             ],
             [
              0.7777777777777778,
              "#fb9f3a"
             ],
             [
              0.8888888888888888,
              "#fdca26"
             ],
             [
              1,
              "#f0f921"
             ]
            ],
            "type": "heatmapgl"
           }
          ],
          "histogram": [
           {
            "marker": {
             "pattern": {
              "fillmode": "overlay",
              "size": 10,
              "solidity": 0.2
             }
            },
            "type": "histogram"
           }
          ],
          "histogram2d": [
           {
            "colorbar": {
             "outlinewidth": 0,
             "ticks": ""
            },
            "colorscale": [
             [
              0,
              "#0d0887"
             ],
             [
              0.1111111111111111,
              "#46039f"
             ],
             [
              0.2222222222222222,
              "#7201a8"
             ],
             [
              0.3333333333333333,
              "#9c179e"
             ],
             [
              0.4444444444444444,
              "#bd3786"
             ],
             [
              0.5555555555555556,
              "#d8576b"
             ],
             [
              0.6666666666666666,
              "#ed7953"
             ],
             [
              0.7777777777777778,
              "#fb9f3a"
             ],
             [
              0.8888888888888888,
              "#fdca26"
             ],
             [
              1,
              "#f0f921"
             ]
            ],
            "type": "histogram2d"
           }
          ],
          "histogram2dcontour": [
           {
            "colorbar": {
             "outlinewidth": 0,
             "ticks": ""
            },
            "colorscale": [
             [
              0,
              "#0d0887"
             ],
             [
              0.1111111111111111,
              "#46039f"
             ],
             [
              0.2222222222222222,
              "#7201a8"
             ],
             [
              0.3333333333333333,
              "#9c179e"
             ],
             [
              0.4444444444444444,
              "#bd3786"
             ],
             [
              0.5555555555555556,
              "#d8576b"
             ],
             [
              0.6666666666666666,
              "#ed7953"
             ],
             [
              0.7777777777777778,
              "#fb9f3a"
             ],
             [
              0.8888888888888888,
              "#fdca26"
             ],
             [
              1,
              "#f0f921"
             ]
            ],
            "type": "histogram2dcontour"
           }
          ],
          "mesh3d": [
           {
            "colorbar": {
             "outlinewidth": 0,
             "ticks": ""
            },
            "type": "mesh3d"
           }
          ],
          "parcoords": [
           {
            "line": {
             "colorbar": {
              "outlinewidth": 0,
              "ticks": ""
             }
            },
            "type": "parcoords"
           }
          ],
          "pie": [
           {
            "automargin": true,
            "type": "pie"
           }
          ],
          "scatter": [
           {
            "marker": {
             "colorbar": {
              "outlinewidth": 0,
              "ticks": ""
             }
            },
            "type": "scatter"
           }
          ],
          "scatter3d": [
           {
            "line": {
             "colorbar": {
              "outlinewidth": 0,
              "ticks": ""
             }
            },
            "marker": {
             "colorbar": {
              "outlinewidth": 0,
              "ticks": ""
             }
            },
            "type": "scatter3d"
           }
          ],
          "scattercarpet": [
           {
            "marker": {
             "colorbar": {
              "outlinewidth": 0,
              "ticks": ""
             }
            },
            "type": "scattercarpet"
           }
          ],
          "scattergeo": [
           {
            "marker": {
             "colorbar": {
              "outlinewidth": 0,
              "ticks": ""
             }
            },
            "type": "scattergeo"
           }
          ],
          "scattergl": [
           {
            "marker": {
             "colorbar": {
              "outlinewidth": 0,
              "ticks": ""
             }
            },
            "type": "scattergl"
           }
          ],
          "scattermapbox": [
           {
            "marker": {
             "colorbar": {
              "outlinewidth": 0,
              "ticks": ""
             }
            },
            "type": "scattermapbox"
           }
          ],
          "scatterpolar": [
           {
            "marker": {
             "colorbar": {
              "outlinewidth": 0,
              "ticks": ""
             }
            },
            "type": "scatterpolar"
           }
          ],
          "scatterpolargl": [
           {
            "marker": {
             "colorbar": {
              "outlinewidth": 0,
              "ticks": ""
             }
            },
            "type": "scatterpolargl"
           }
          ],
          "scatterternary": [
           {
            "marker": {
             "colorbar": {
              "outlinewidth": 0,
              "ticks": ""
             }
            },
            "type": "scatterternary"
           }
          ],
          "surface": [
           {
            "colorbar": {
             "outlinewidth": 0,
             "ticks": ""
            },
            "colorscale": [
             [
              0,
              "#0d0887"
             ],
             [
              0.1111111111111111,
              "#46039f"
             ],
             [
              0.2222222222222222,
              "#7201a8"
             ],
             [
              0.3333333333333333,
              "#9c179e"
             ],
             [
              0.4444444444444444,
              "#bd3786"
             ],
             [
              0.5555555555555556,
              "#d8576b"
             ],
             [
              0.6666666666666666,
              "#ed7953"
             ],
             [
              0.7777777777777778,
              "#fb9f3a"
             ],
             [
              0.8888888888888888,
              "#fdca26"
             ],
             [
              1,
              "#f0f921"
             ]
            ],
            "type": "surface"
           }
          ],
          "table": [
           {
            "cells": {
             "fill": {
              "color": "#EBF0F8"
             },
             "line": {
              "color": "white"
             }
            },
            "header": {
             "fill": {
              "color": "#C8D4E3"
             },
             "line": {
              "color": "white"
             }
            },
            "type": "table"
           }
          ]
         },
         "layout": {
          "annotationdefaults": {
           "arrowcolor": "#2a3f5f",
           "arrowhead": 0,
           "arrowwidth": 1
          },
          "autotypenumbers": "strict",
          "coloraxis": {
           "colorbar": {
            "outlinewidth": 0,
            "ticks": ""
           }
          },
          "colorscale": {
           "diverging": [
            [
             0,
             "#8e0152"
            ],
            [
             0.1,
             "#c51b7d"
            ],
            [
             0.2,
             "#de77ae"
            ],
            [
             0.3,
             "#f1b6da"
            ],
            [
             0.4,
             "#fde0ef"
            ],
            [
             0.5,
             "#f7f7f7"
            ],
            [
             0.6,
             "#e6f5d0"
            ],
            [
             0.7,
             "#b8e186"
            ],
            [
             0.8,
             "#7fbc41"
            ],
            [
             0.9,
             "#4d9221"
            ],
            [
             1,
             "#276419"
            ]
           ],
           "sequential": [
            [
             0,
             "#0d0887"
            ],
            [
             0.1111111111111111,
             "#46039f"
            ],
            [
             0.2222222222222222,
             "#7201a8"
            ],
            [
             0.3333333333333333,
             "#9c179e"
            ],
            [
             0.4444444444444444,
             "#bd3786"
            ],
            [
             0.5555555555555556,
             "#d8576b"
            ],
            [
             0.6666666666666666,
             "#ed7953"
            ],
            [
             0.7777777777777778,
             "#fb9f3a"
            ],
            [
             0.8888888888888888,
             "#fdca26"
            ],
            [
             1,
             "#f0f921"
            ]
           ],
           "sequentialminus": [
            [
             0,
             "#0d0887"
            ],
            [
             0.1111111111111111,
             "#46039f"
            ],
            [
             0.2222222222222222,
             "#7201a8"
            ],
            [
             0.3333333333333333,
             "#9c179e"
            ],
            [
             0.4444444444444444,
             "#bd3786"
            ],
            [
             0.5555555555555556,
             "#d8576b"
            ],
            [
             0.6666666666666666,
             "#ed7953"
            ],
            [
             0.7777777777777778,
             "#fb9f3a"
            ],
            [
             0.8888888888888888,
             "#fdca26"
            ],
            [
             1,
             "#f0f921"
            ]
           ]
          },
          "colorway": [
           "#636efa",
           "#EF553B",
           "#00cc96",
           "#ab63fa",
           "#FFA15A",
           "#19d3f3",
           "#FF6692",
           "#B6E880",
           "#FF97FF",
           "#FECB52"
          ],
          "font": {
           "color": "#2a3f5f"
          },
          "geo": {
           "bgcolor": "white",
           "lakecolor": "white",
           "landcolor": "#E5ECF6",
           "showlakes": true,
           "showland": true,
           "subunitcolor": "white"
          },
          "hoverlabel": {
           "align": "left"
          },
          "hovermode": "closest",
          "mapbox": {
           "style": "light"
          },
          "paper_bgcolor": "white",
          "plot_bgcolor": "#E5ECF6",
          "polar": {
           "angularaxis": {
            "gridcolor": "white",
            "linecolor": "white",
            "ticks": ""
           },
           "bgcolor": "#E5ECF6",
           "radialaxis": {
            "gridcolor": "white",
            "linecolor": "white",
            "ticks": ""
           }
          },
          "scene": {
           "xaxis": {
            "backgroundcolor": "#E5ECF6",
            "gridcolor": "white",
            "gridwidth": 2,
            "linecolor": "white",
            "showbackground": true,
            "ticks": "",
            "zerolinecolor": "white"
           },
           "yaxis": {
            "backgroundcolor": "#E5ECF6",
            "gridcolor": "white",
            "gridwidth": 2,
            "linecolor": "white",
            "showbackground": true,
            "ticks": "",
            "zerolinecolor": "white"
           },
           "zaxis": {
            "backgroundcolor": "#E5ECF6",
            "gridcolor": "white",
            "gridwidth": 2,
            "linecolor": "white",
            "showbackground": true,
            "ticks": "",
            "zerolinecolor": "white"
           }
          },
          "shapedefaults": {
           "line": {
            "color": "#2a3f5f"
           }
          },
          "ternary": {
           "aaxis": {
            "gridcolor": "white",
            "linecolor": "white",
            "ticks": ""
           },
           "baxis": {
            "gridcolor": "white",
            "linecolor": "white",
            "ticks": ""
           },
           "bgcolor": "#E5ECF6",
           "caxis": {
            "gridcolor": "white",
            "linecolor": "white",
            "ticks": ""
           }
          },
          "title": {
           "x": 0.05
          },
          "xaxis": {
           "automargin": true,
           "gridcolor": "white",
           "linecolor": "white",
           "ticks": "",
           "title": {
            "standoff": 15
           },
           "zerolinecolor": "white",
           "zerolinewidth": 2
          },
          "yaxis": {
           "automargin": true,
           "gridcolor": "white",
           "linecolor": "white",
           "ticks": "",
           "title": {
            "standoff": 15
           },
           "zerolinecolor": "white",
           "zerolinewidth": 2
          }
         }
        },
        "title": {
         "font": {
          "size": 30
         },
         "text": "<b>IMDB movies - Directors",
         "x": 0.5
        },
        "xaxis": {
         "anchor": "y",
         "domain": [
          0,
          1
         ],
         "showgrid": false,
         "tickangle": 30,
         "title": {
          "text": "Directors"
         }
        },
        "yaxis": {
         "anchor": "x",
         "domain": [
          0,
          1
         ],
         "showgrid": false,
         "title": {
          "text": "count"
         }
        }
       }
      },
      "text/html": [
       "<div>                            <div id=\"32a3533a-a000-4dd7-84bb-fc4d33c3f828\" class=\"plotly-graph-div\" style=\"height:525px; width:100%;\"></div>            <script type=\"text/javascript\">                require([\"plotly\"], function(Plotly) {                    window.PLOTLYENV=window.PLOTLYENV || {};                                    if (document.getElementById(\"32a3533a-a000-4dd7-84bb-fc4d33c3f828\")) {                    Plotly.newPlot(                        \"32a3533a-a000-4dd7-84bb-fc4d33c3f828\",                        [{\"alignmentgroup\":\"True\",\"hovertemplate\":\"x=%{x}<br>y=%{y}<extra></extra>\",\"legendgroup\":\"\",\"marker\":{\"color\":\"gold\",\"pattern\":{\"shape\":\"\"}},\"name\":\"\",\"offsetgroup\":\"\",\"orientation\":\"v\",\"showlegend\":false,\"textposition\":\"auto\",\"type\":\"bar\",\"x\":[\"Steven Spielberg\",\"Alfred Hitchcock\",\"Akira Kurosawa\",\"Martin Scorsese\",\"Hayao Miyazaki\",\"Woody Allen\",\"Billy Wilder\",\"Stanley Kubrick\",\"Clint Eastwood\",\"David Fincher\",\"Quentin Tarantino\",\"Christopher Nolan\",\"Ingmar Bergman\",\"Rob Reiner\",\"Charles Chaplin\",\"Wes Anderson\",\"Denis Villeneuve\",\"Andrei Tarkovsky\",\"John Huston\",\"Ridley Scott\"],\"xaxis\":\"x\",\"y\":[13,13,11,10,10,9,9,9,8,8,8,8,7,7,6,6,6,6,6,6],\"yaxis\":\"y\"}],                        {\"barmode\":\"relative\",\"font\":{\"color\":\"white\",\"family\":\"Lato\",\"size\":18},\"legend\":{\"tracegroupgap\":0},\"margin\":{\"t\":60},\"paper_bgcolor\":\"black\",\"plot_bgcolor\":\"black\",\"template\":{\"data\":{\"bar\":[{\"error_x\":{\"color\":\"#2a3f5f\"},\"error_y\":{\"color\":\"#2a3f5f\"},\"marker\":{\"line\":{\"color\":\"#E5ECF6\",\"width\":0.5},\"pattern\":{\"fillmode\":\"overlay\",\"size\":10,\"solidity\":0.2}},\"type\":\"bar\"}],\"barpolar\":[{\"marker\":{\"line\":{\"color\":\"#E5ECF6\",\"width\":0.5},\"pattern\":{\"fillmode\":\"overlay\",\"size\":10,\"solidity\":0.2}},\"type\":\"barpolar\"}],\"carpet\":[{\"aaxis\":{\"endlinecolor\":\"#2a3f5f\",\"gridcolor\":\"white\",\"linecolor\":\"white\",\"minorgridcolor\":\"white\",\"startlinecolor\":\"#2a3f5f\"},\"baxis\":{\"endlinecolor\":\"#2a3f5f\",\"gridcolor\":\"white\",\"linecolor\":\"white\",\"minorgridcolor\":\"white\",\"startlinecolor\":\"#2a3f5f\"},\"type\":\"carpet\"}],\"choropleth\":[{\"colorbar\":{\"outlinewidth\":0,\"ticks\":\"\"},\"type\":\"choropleth\"}],\"contour\":[{\"colorbar\":{\"outlinewidth\":0,\"ticks\":\"\"},\"colorscale\":[[0.0,\"#0d0887\"],[0.1111111111111111,\"#46039f\"],[0.2222222222222222,\"#7201a8\"],[0.3333333333333333,\"#9c179e\"],[0.4444444444444444,\"#bd3786\"],[0.5555555555555556,\"#d8576b\"],[0.6666666666666666,\"#ed7953\"],[0.7777777777777778,\"#fb9f3a\"],[0.8888888888888888,\"#fdca26\"],[1.0,\"#f0f921\"]],\"type\":\"contour\"}],\"contourcarpet\":[{\"colorbar\":{\"outlinewidth\":0,\"ticks\":\"\"},\"type\":\"contourcarpet\"}],\"heatmap\":[{\"colorbar\":{\"outlinewidth\":0,\"ticks\":\"\"},\"colorscale\":[[0.0,\"#0d0887\"],[0.1111111111111111,\"#46039f\"],[0.2222222222222222,\"#7201a8\"],[0.3333333333333333,\"#9c179e\"],[0.4444444444444444,\"#bd3786\"],[0.5555555555555556,\"#d8576b\"],[0.6666666666666666,\"#ed7953\"],[0.7777777777777778,\"#fb9f3a\"],[0.8888888888888888,\"#fdca26\"],[1.0,\"#f0f921\"]],\"type\":\"heatmap\"}],\"heatmapgl\":[{\"colorbar\":{\"outlinewidth\":0,\"ticks\":\"\"},\"colorscale\":[[0.0,\"#0d0887\"],[0.1111111111111111,\"#46039f\"],[0.2222222222222222,\"#7201a8\"],[0.3333333333333333,\"#9c179e\"],[0.4444444444444444,\"#bd3786\"],[0.5555555555555556,\"#d8576b\"],[0.6666666666666666,\"#ed7953\"],[0.7777777777777778,\"#fb9f3a\"],[0.8888888888888888,\"#fdca26\"],[1.0,\"#f0f921\"]],\"type\":\"heatmapgl\"}],\"histogram\":[{\"marker\":{\"pattern\":{\"fillmode\":\"overlay\",\"size\":10,\"solidity\":0.2}},\"type\":\"histogram\"}],\"histogram2d\":[{\"colorbar\":{\"outlinewidth\":0,\"ticks\":\"\"},\"colorscale\":[[0.0,\"#0d0887\"],[0.1111111111111111,\"#46039f\"],[0.2222222222222222,\"#7201a8\"],[0.3333333333333333,\"#9c179e\"],[0.4444444444444444,\"#bd3786\"],[0.5555555555555556,\"#d8576b\"],[0.6666666666666666,\"#ed7953\"],[0.7777777777777778,\"#fb9f3a\"],[0.8888888888888888,\"#fdca26\"],[1.0,\"#f0f921\"]],\"type\":\"histogram2d\"}],\"histogram2dcontour\":[{\"colorbar\":{\"outlinewidth\":0,\"ticks\":\"\"},\"colorscale\":[[0.0,\"#0d0887\"],[0.1111111111111111,\"#46039f\"],[0.2222222222222222,\"#7201a8\"],[0.3333333333333333,\"#9c179e\"],[0.4444444444444444,\"#bd3786\"],[0.5555555555555556,\"#d8576b\"],[0.6666666666666666,\"#ed7953\"],[0.7777777777777778,\"#fb9f3a\"],[0.8888888888888888,\"#fdca26\"],[1.0,\"#f0f921\"]],\"type\":\"histogram2dcontour\"}],\"mesh3d\":[{\"colorbar\":{\"outlinewidth\":0,\"ticks\":\"\"},\"type\":\"mesh3d\"}],\"parcoords\":[{\"line\":{\"colorbar\":{\"outlinewidth\":0,\"ticks\":\"\"}},\"type\":\"parcoords\"}],\"pie\":[{\"automargin\":true,\"type\":\"pie\"}],\"scatter\":[{\"marker\":{\"colorbar\":{\"outlinewidth\":0,\"ticks\":\"\"}},\"type\":\"scatter\"}],\"scatter3d\":[{\"line\":{\"colorbar\":{\"outlinewidth\":0,\"ticks\":\"\"}},\"marker\":{\"colorbar\":{\"outlinewidth\":0,\"ticks\":\"\"}},\"type\":\"scatter3d\"}],\"scattercarpet\":[{\"marker\":{\"colorbar\":{\"outlinewidth\":0,\"ticks\":\"\"}},\"type\":\"scattercarpet\"}],\"scattergeo\":[{\"marker\":{\"colorbar\":{\"outlinewidth\":0,\"ticks\":\"\"}},\"type\":\"scattergeo\"}],\"scattergl\":[{\"marker\":{\"colorbar\":{\"outlinewidth\":0,\"ticks\":\"\"}},\"type\":\"scattergl\"}],\"scattermapbox\":[{\"marker\":{\"colorbar\":{\"outlinewidth\":0,\"ticks\":\"\"}},\"type\":\"scattermapbox\"}],\"scatterpolar\":[{\"marker\":{\"colorbar\":{\"outlinewidth\":0,\"ticks\":\"\"}},\"type\":\"scatterpolar\"}],\"scatterpolargl\":[{\"marker\":{\"colorbar\":{\"outlinewidth\":0,\"ticks\":\"\"}},\"type\":\"scatterpolargl\"}],\"scatterternary\":[{\"marker\":{\"colorbar\":{\"outlinewidth\":0,\"ticks\":\"\"}},\"type\":\"scatterternary\"}],\"surface\":[{\"colorbar\":{\"outlinewidth\":0,\"ticks\":\"\"},\"colorscale\":[[0.0,\"#0d0887\"],[0.1111111111111111,\"#46039f\"],[0.2222222222222222,\"#7201a8\"],[0.3333333333333333,\"#9c179e\"],[0.4444444444444444,\"#bd3786\"],[0.5555555555555556,\"#d8576b\"],[0.6666666666666666,\"#ed7953\"],[0.7777777777777778,\"#fb9f3a\"],[0.8888888888888888,\"#fdca26\"],[1.0,\"#f0f921\"]],\"type\":\"surface\"}],\"table\":[{\"cells\":{\"fill\":{\"color\":\"#EBF0F8\"},\"line\":{\"color\":\"white\"}},\"header\":{\"fill\":{\"color\":\"#C8D4E3\"},\"line\":{\"color\":\"white\"}},\"type\":\"table\"}]},\"layout\":{\"annotationdefaults\":{\"arrowcolor\":\"#2a3f5f\",\"arrowhead\":0,\"arrowwidth\":1},\"autotypenumbers\":\"strict\",\"coloraxis\":{\"colorbar\":{\"outlinewidth\":0,\"ticks\":\"\"}},\"colorscale\":{\"diverging\":[[0,\"#8e0152\"],[0.1,\"#c51b7d\"],[0.2,\"#de77ae\"],[0.3,\"#f1b6da\"],[0.4,\"#fde0ef\"],[0.5,\"#f7f7f7\"],[0.6,\"#e6f5d0\"],[0.7,\"#b8e186\"],[0.8,\"#7fbc41\"],[0.9,\"#4d9221\"],[1,\"#276419\"]],\"sequential\":[[0.0,\"#0d0887\"],[0.1111111111111111,\"#46039f\"],[0.2222222222222222,\"#7201a8\"],[0.3333333333333333,\"#9c179e\"],[0.4444444444444444,\"#bd3786\"],[0.5555555555555556,\"#d8576b\"],[0.6666666666666666,\"#ed7953\"],[0.7777777777777778,\"#fb9f3a\"],[0.8888888888888888,\"#fdca26\"],[1.0,\"#f0f921\"]],\"sequentialminus\":[[0.0,\"#0d0887\"],[0.1111111111111111,\"#46039f\"],[0.2222222222222222,\"#7201a8\"],[0.3333333333333333,\"#9c179e\"],[0.4444444444444444,\"#bd3786\"],[0.5555555555555556,\"#d8576b\"],[0.6666666666666666,\"#ed7953\"],[0.7777777777777778,\"#fb9f3a\"],[0.8888888888888888,\"#fdca26\"],[1.0,\"#f0f921\"]]},\"colorway\":[\"#636efa\",\"#EF553B\",\"#00cc96\",\"#ab63fa\",\"#FFA15A\",\"#19d3f3\",\"#FF6692\",\"#B6E880\",\"#FF97FF\",\"#FECB52\"],\"font\":{\"color\":\"#2a3f5f\"},\"geo\":{\"bgcolor\":\"white\",\"lakecolor\":\"white\",\"landcolor\":\"#E5ECF6\",\"showlakes\":true,\"showland\":true,\"subunitcolor\":\"white\"},\"hoverlabel\":{\"align\":\"left\"},\"hovermode\":\"closest\",\"mapbox\":{\"style\":\"light\"},\"paper_bgcolor\":\"white\",\"plot_bgcolor\":\"#E5ECF6\",\"polar\":{\"angularaxis\":{\"gridcolor\":\"white\",\"linecolor\":\"white\",\"ticks\":\"\"},\"bgcolor\":\"#E5ECF6\",\"radialaxis\":{\"gridcolor\":\"white\",\"linecolor\":\"white\",\"ticks\":\"\"}},\"scene\":{\"xaxis\":{\"backgroundcolor\":\"#E5ECF6\",\"gridcolor\":\"white\",\"gridwidth\":2,\"linecolor\":\"white\",\"showbackground\":true,\"ticks\":\"\",\"zerolinecolor\":\"white\"},\"yaxis\":{\"backgroundcolor\":\"#E5ECF6\",\"gridcolor\":\"white\",\"gridwidth\":2,\"linecolor\":\"white\",\"showbackground\":true,\"ticks\":\"\",\"zerolinecolor\":\"white\"},\"zaxis\":{\"backgroundcolor\":\"#E5ECF6\",\"gridcolor\":\"white\",\"gridwidth\":2,\"linecolor\":\"white\",\"showbackground\":true,\"ticks\":\"\",\"zerolinecolor\":\"white\"}},\"shapedefaults\":{\"line\":{\"color\":\"#2a3f5f\"}},\"ternary\":{\"aaxis\":{\"gridcolor\":\"white\",\"linecolor\":\"white\",\"ticks\":\"\"},\"baxis\":{\"gridcolor\":\"white\",\"linecolor\":\"white\",\"ticks\":\"\"},\"bgcolor\":\"#E5ECF6\",\"caxis\":{\"gridcolor\":\"white\",\"linecolor\":\"white\",\"ticks\":\"\"}},\"title\":{\"x\":0.05},\"xaxis\":{\"automargin\":true,\"gridcolor\":\"white\",\"linecolor\":\"white\",\"ticks\":\"\",\"title\":{\"standoff\":15},\"zerolinecolor\":\"white\",\"zerolinewidth\":2},\"yaxis\":{\"automargin\":true,\"gridcolor\":\"white\",\"linecolor\":\"white\",\"ticks\":\"\",\"title\":{\"standoff\":15},\"zerolinecolor\":\"white\",\"zerolinewidth\":2}}},\"title\":{\"font\":{\"size\":30},\"text\":\"<b>IMDB movies - Directors\",\"x\":0.5},\"xaxis\":{\"anchor\":\"y\",\"domain\":[0.0,1.0],\"showgrid\":false,\"tickangle\":30,\"title\":{\"text\":\"Directors\"}},\"yaxis\":{\"anchor\":\"x\",\"domain\":[0.0,1.0],\"showgrid\":false,\"title\":{\"text\":\"count\"}}},                        {\"responsive\": true}                    ).then(function(){\n",
       "                            \n",
       "var gd = document.getElementById('32a3533a-a000-4dd7-84bb-fc4d33c3f828');\n",
       "var x = new MutationObserver(function (mutations, observer) {{\n",
       "        var display = window.getComputedStyle(gd).display;\n",
       "        if (!display || display === 'none') {{\n",
       "            console.log([gd, 'removed!']);\n",
       "            Plotly.purge(gd);\n",
       "            observer.disconnect();\n",
       "        }}\n",
       "}});\n",
       "\n",
       "// Listen for the removal of the full notebook cells\n",
       "var notebookContainer = gd.closest('#notebook-container');\n",
       "if (notebookContainer) {{\n",
       "    x.observe(notebookContainer, {childList: true});\n",
       "}}\n",
       "\n",
       "// Listen for the clearing of the current output cell\n",
       "var outputEl = gd.closest('.output');\n",
       "if (outputEl) {{\n",
       "    x.observe(outputEl, {childList: true});\n",
       "}}\n",
       "\n",
       "                        })                };                });            </script>        </div>"
      ]
     },
     "metadata": {},
     "output_type": "display_data"
    }
   ],
   "source": [
    "#Top 20 Directors with top movies\n",
    "bar_plot('Directors', limit =20)"
   ]
  },
  {
   "cell_type": "markdown",
   "id": "629fd471",
   "metadata": {},
   "source": [
    "* Steven Spielberg, Alfred Hitchcock is the most sucessful director with count of 13 movies each in top 1000 movies."
   ]
  },
  {
   "cell_type": "markdown",
   "id": "e18ad456",
   "metadata": {},
   "source": [
    "# Stars"
   ]
  },
  {
   "cell_type": "code",
   "execution_count": 24,
   "id": "ef3e764a",
   "metadata": {},
   "outputs": [
    {
     "data": {
      "text/html": [
       "<div>\n",
       "<style scoped>\n",
       "    .dataframe tbody tr th:only-of-type {\n",
       "        vertical-align: middle;\n",
       "    }\n",
       "\n",
       "    .dataframe tbody tr th {\n",
       "        vertical-align: top;\n",
       "    }\n",
       "\n",
       "    .dataframe thead th {\n",
       "        text-align: right;\n",
       "    }\n",
       "</style>\n",
       "<table border=\"1\" class=\"dataframe\">\n",
       "  <thead>\n",
       "    <tr style=\"text-align: right;\">\n",
       "      <th></th>\n",
       "      <th>S1</th>\n",
       "      <th>S2</th>\n",
       "      <th>S3</th>\n",
       "      <th>S4</th>\n",
       "    </tr>\n",
       "    <tr>\n",
       "      <th>Ranking</th>\n",
       "      <th></th>\n",
       "      <th></th>\n",
       "      <th></th>\n",
       "      <th></th>\n",
       "    </tr>\n",
       "  </thead>\n",
       "  <tbody>\n",
       "    <tr>\n",
       "      <th>1</th>\n",
       "      <td>Tim Robbins</td>\n",
       "      <td>Morgan Freeman</td>\n",
       "      <td>Bob Gunton</td>\n",
       "      <td>William Sadler</td>\n",
       "    </tr>\n",
       "    <tr>\n",
       "      <th>2</th>\n",
       "      <td>Marlon Brando</td>\n",
       "      <td>Al Pacino</td>\n",
       "      <td>James Caan</td>\n",
       "      <td>Diane Keaton</td>\n",
       "    </tr>\n",
       "    <tr>\n",
       "      <th>3</th>\n",
       "      <td>Christian Bale</td>\n",
       "      <td>Heath Ledger</td>\n",
       "      <td>Aaron Eckhart</td>\n",
       "      <td>Michael Caine</td>\n",
       "    </tr>\n",
       "    <tr>\n",
       "      <th>4</th>\n",
       "      <td>Elijah Wood</td>\n",
       "      <td>Viggo Mortensen</td>\n",
       "      <td>Ian McKellen</td>\n",
       "      <td>Orlando Bloom</td>\n",
       "    </tr>\n",
       "    <tr>\n",
       "      <th>5</th>\n",
       "      <td>Liam Neeson</td>\n",
       "      <td>Ralph Fiennes</td>\n",
       "      <td>Ben Kingsley</td>\n",
       "      <td>Caroline Goodall</td>\n",
       "    </tr>\n",
       "  </tbody>\n",
       "</table>\n",
       "</div>"
      ],
      "text/plain": [
       "                     S1               S2             S3                S4\n",
       "Ranking                                                                  \n",
       "1           Tim Robbins   Morgan Freeman     Bob Gunton    William Sadler\n",
       "2         Marlon Brando        Al Pacino     James Caan      Diane Keaton\n",
       "3        Christian Bale     Heath Ledger  Aaron Eckhart     Michael Caine\n",
       "4           Elijah Wood  Viggo Mortensen   Ian McKellen     Orlando Bloom\n",
       "5           Liam Neeson    Ralph Fiennes   Ben Kingsley  Caroline Goodall"
      ]
     },
     "execution_count": 24,
     "metadata": {},
     "output_type": "execute_result"
    }
   ],
   "source": [
    "starsplt = df['Stars'].str.split(', ', n=-1, expand= True)\n",
    "starsplt.columns = ['S1','S2','S3','S4']\n",
    "starsplt.head()"
   ]
  },
  {
   "cell_type": "code",
   "execution_count": 25,
   "id": "74e7e0e9",
   "metadata": {},
   "outputs": [
    {
     "name": "stderr",
     "output_type": "stream",
     "text": [
      "<ipython-input-25-5f417a68e3d3>:1: FutureWarning:\n",
      "\n",
      "The series.append method is deprecated and will be removed from pandas in a future version. Use pandas.concat instead.\n",
      "\n",
      "<ipython-input-25-5f417a68e3d3>:2: FutureWarning:\n",
      "\n",
      "The series.append method is deprecated and will be removed from pandas in a future version. Use pandas.concat instead.\n",
      "\n",
      "<ipython-input-25-5f417a68e3d3>:3: FutureWarning:\n",
      "\n",
      "The series.append method is deprecated and will be removed from pandas in a future version. Use pandas.concat instead.\n",
      "\n"
     ]
    },
    {
     "data": {
      "text/plain": [
       "Ranking\n",
       "1           Tim Robbins\n",
       "2         Marlon Brando\n",
       "3        Christian Bale\n",
       "4           Elijah Wood\n",
       "5           Liam Neeson\n",
       "              ...      \n",
       "996      Walter Hampden\n",
       "997          Donna Reed\n",
       "998          Roy Atwell\n",
       "999      Godfrey Tearle\n",
       "1,000     Henry Travers\n",
       "Length: 4000, dtype: object"
      ]
     },
     "execution_count": 25,
     "metadata": {},
     "output_type": "execute_result"
    }
   ],
   "source": [
    "starone = starsplt['S1'].append(starsplt['S2'])\n",
    "starone = starone.append(starsplt['S3'])\n",
    "starone = starone.append(starsplt['S4'])\n",
    "starone.dropna(axis=0, how='any')\n",
    "starone"
   ]
  },
  {
   "cell_type": "code",
   "execution_count": 26,
   "id": "9bd3b3a9",
   "metadata": {
    "scrolled": false
   },
   "outputs": [
    {
     "data": {
      "text/html": [
       "<div>\n",
       "<style scoped>\n",
       "    .dataframe tbody tr th:only-of-type {\n",
       "        vertical-align: middle;\n",
       "    }\n",
       "\n",
       "    .dataframe tbody tr th {\n",
       "        vertical-align: top;\n",
       "    }\n",
       "\n",
       "    .dataframe thead th {\n",
       "        text-align: right;\n",
       "    }\n",
       "</style>\n",
       "<table border=\"1\" class=\"dataframe\">\n",
       "  <thead>\n",
       "    <tr style=\"text-align: right;\">\n",
       "      <th></th>\n",
       "      <th>Stars</th>\n",
       "    </tr>\n",
       "    <tr>\n",
       "      <th>Ranking</th>\n",
       "      <th></th>\n",
       "    </tr>\n",
       "  </thead>\n",
       "  <tbody>\n",
       "    <tr>\n",
       "      <th>1</th>\n",
       "      <td>Tim Robbins</td>\n",
       "    </tr>\n",
       "    <tr>\n",
       "      <th>2</th>\n",
       "      <td>Marlon Brando</td>\n",
       "    </tr>\n",
       "    <tr>\n",
       "      <th>3</th>\n",
       "      <td>Christian Bale</td>\n",
       "    </tr>\n",
       "    <tr>\n",
       "      <th>4</th>\n",
       "      <td>Elijah Wood</td>\n",
       "    </tr>\n",
       "    <tr>\n",
       "      <th>5</th>\n",
       "      <td>Liam Neeson</td>\n",
       "    </tr>\n",
       "    <tr>\n",
       "      <th>...</th>\n",
       "      <td>...</td>\n",
       "    </tr>\n",
       "    <tr>\n",
       "      <th>996</th>\n",
       "      <td>Walter Hampden</td>\n",
       "    </tr>\n",
       "    <tr>\n",
       "      <th>997</th>\n",
       "      <td>Donna Reed</td>\n",
       "    </tr>\n",
       "    <tr>\n",
       "      <th>998</th>\n",
       "      <td>Roy Atwell</td>\n",
       "    </tr>\n",
       "    <tr>\n",
       "      <th>999</th>\n",
       "      <td>Godfrey Tearle</td>\n",
       "    </tr>\n",
       "    <tr>\n",
       "      <th>1,000</th>\n",
       "      <td>Henry Travers</td>\n",
       "    </tr>\n",
       "  </tbody>\n",
       "</table>\n",
       "<p>4000 rows × 1 columns</p>\n",
       "</div>"
      ],
      "text/plain": [
       "                  Stars\n",
       "Ranking                \n",
       "1           Tim Robbins\n",
       "2         Marlon Brando\n",
       "3        Christian Bale\n",
       "4           Elijah Wood\n",
       "5           Liam Neeson\n",
       "...                 ...\n",
       "996      Walter Hampden\n",
       "997          Donna Reed\n",
       "998          Roy Atwell\n",
       "999      Godfrey Tearle\n",
       "1,000     Henry Travers\n",
       "\n",
       "[4000 rows x 1 columns]"
      ]
     },
     "execution_count": 26,
     "metadata": {},
     "output_type": "execute_result"
    }
   ],
   "source": [
    "dfstar = pd.DataFrame(starone)\n",
    "dfstar.columns =['Stars']\n",
    "dfstar"
   ]
  },
  {
   "cell_type": "code",
   "execution_count": 27,
   "id": "5f96c4b9",
   "metadata": {},
   "outputs": [
    {
     "data": {
      "application/vnd.plotly.v1+json": {
       "config": {
        "plotlyServerURL": "https://plot.ly"
       },
       "data": [
        {
         "alignmentgroup": "True",
         "hovertemplate": "x=%{x}<br>y=%{y}<extra></extra>",
         "legendgroup": "",
         "marker": {
          "color": "gold",
          "pattern": {
           "shape": ""
          }
         },
         "name": "",
         "offsetgroup": "",
         "orientation": "v",
         "showlegend": false,
         "textposition": "auto",
         "type": "bar",
         "x": [
          "Robert De Niro",
          "Tom Hanks",
          "Al Pacino",
          "Leonardo DiCaprio",
          "James Stewart",
          "Brad Pitt",
          "Matt Damon",
          "Christian Bale",
          "Clint Eastwood",
          "Humphrey Bogart",
          "Michael Caine",
          "Aamir Khan",
          "Ethan Hawke",
          "Scarlett Johansson",
          "Denzel Washington",
          "Tom Cruise",
          "Bruce Willis",
          "Harrison Ford",
          "Mark Ruffalo",
          "Ian McKellen"
         ],
         "xaxis": "x",
         "y": [
          16,
          15,
          13,
          11,
          11,
          11,
          11,
          11,
          10,
          10,
          9,
          9,
          9,
          9,
          8,
          8,
          8,
          8,
          7,
          7
         ],
         "yaxis": "y"
        }
       ],
       "layout": {
        "barmode": "relative",
        "font": {
         "color": "white",
         "family": "Lato",
         "size": 18
        },
        "legend": {
         "tracegroupgap": 0
        },
        "margin": {
         "t": 60
        },
        "paper_bgcolor": "black",
        "plot_bgcolor": "black",
        "template": {
         "data": {
          "bar": [
           {
            "error_x": {
             "color": "#2a3f5f"
            },
            "error_y": {
             "color": "#2a3f5f"
            },
            "marker": {
             "line": {
              "color": "#E5ECF6",
              "width": 0.5
             },
             "pattern": {
              "fillmode": "overlay",
              "size": 10,
              "solidity": 0.2
             }
            },
            "type": "bar"
           }
          ],
          "barpolar": [
           {
            "marker": {
             "line": {
              "color": "#E5ECF6",
              "width": 0.5
             },
             "pattern": {
              "fillmode": "overlay",
              "size": 10,
              "solidity": 0.2
             }
            },
            "type": "barpolar"
           }
          ],
          "carpet": [
           {
            "aaxis": {
             "endlinecolor": "#2a3f5f",
             "gridcolor": "white",
             "linecolor": "white",
             "minorgridcolor": "white",
             "startlinecolor": "#2a3f5f"
            },
            "baxis": {
             "endlinecolor": "#2a3f5f",
             "gridcolor": "white",
             "linecolor": "white",
             "minorgridcolor": "white",
             "startlinecolor": "#2a3f5f"
            },
            "type": "carpet"
           }
          ],
          "choropleth": [
           {
            "colorbar": {
             "outlinewidth": 0,
             "ticks": ""
            },
            "type": "choropleth"
           }
          ],
          "contour": [
           {
            "colorbar": {
             "outlinewidth": 0,
             "ticks": ""
            },
            "colorscale": [
             [
              0,
              "#0d0887"
             ],
             [
              0.1111111111111111,
              "#46039f"
             ],
             [
              0.2222222222222222,
              "#7201a8"
             ],
             [
              0.3333333333333333,
              "#9c179e"
             ],
             [
              0.4444444444444444,
              "#bd3786"
             ],
             [
              0.5555555555555556,
              "#d8576b"
             ],
             [
              0.6666666666666666,
              "#ed7953"
             ],
             [
              0.7777777777777778,
              "#fb9f3a"
             ],
             [
              0.8888888888888888,
              "#fdca26"
             ],
             [
              1,
              "#f0f921"
             ]
            ],
            "type": "contour"
           }
          ],
          "contourcarpet": [
           {
            "colorbar": {
             "outlinewidth": 0,
             "ticks": ""
            },
            "type": "contourcarpet"
           }
          ],
          "heatmap": [
           {
            "colorbar": {
             "outlinewidth": 0,
             "ticks": ""
            },
            "colorscale": [
             [
              0,
              "#0d0887"
             ],
             [
              0.1111111111111111,
              "#46039f"
             ],
             [
              0.2222222222222222,
              "#7201a8"
             ],
             [
              0.3333333333333333,
              "#9c179e"
             ],
             [
              0.4444444444444444,
              "#bd3786"
             ],
             [
              0.5555555555555556,
              "#d8576b"
             ],
             [
              0.6666666666666666,
              "#ed7953"
             ],
             [
              0.7777777777777778,
              "#fb9f3a"
             ],
             [
              0.8888888888888888,
              "#fdca26"
             ],
             [
              1,
              "#f0f921"
             ]
            ],
            "type": "heatmap"
           }
          ],
          "heatmapgl": [
           {
            "colorbar": {
             "outlinewidth": 0,
             "ticks": ""
            },
            "colorscale": [
             [
              0,
              "#0d0887"
             ],
             [
              0.1111111111111111,
              "#46039f"
             ],
             [
              0.2222222222222222,
              "#7201a8"
             ],
             [
              0.3333333333333333,
              "#9c179e"
             ],
             [
              0.4444444444444444,
              "#bd3786"
             ],
             [
              0.5555555555555556,
              "#d8576b"
             ],
             [
              0.6666666666666666,
              "#ed7953"
             ],
             [
              0.7777777777777778,
              "#fb9f3a"
             ],
             [
              0.8888888888888888,
              "#fdca26"
             ],
             [
              1,
              "#f0f921"
             ]
            ],
            "type": "heatmapgl"
           }
          ],
          "histogram": [
           {
            "marker": {
             "pattern": {
              "fillmode": "overlay",
              "size": 10,
              "solidity": 0.2
             }
            },
            "type": "histogram"
           }
          ],
          "histogram2d": [
           {
            "colorbar": {
             "outlinewidth": 0,
             "ticks": ""
            },
            "colorscale": [
             [
              0,
              "#0d0887"
             ],
             [
              0.1111111111111111,
              "#46039f"
             ],
             [
              0.2222222222222222,
              "#7201a8"
             ],
             [
              0.3333333333333333,
              "#9c179e"
             ],
             [
              0.4444444444444444,
              "#bd3786"
             ],
             [
              0.5555555555555556,
              "#d8576b"
             ],
             [
              0.6666666666666666,
              "#ed7953"
             ],
             [
              0.7777777777777778,
              "#fb9f3a"
             ],
             [
              0.8888888888888888,
              "#fdca26"
             ],
             [
              1,
              "#f0f921"
             ]
            ],
            "type": "histogram2d"
           }
          ],
          "histogram2dcontour": [
           {
            "colorbar": {
             "outlinewidth": 0,
             "ticks": ""
            },
            "colorscale": [
             [
              0,
              "#0d0887"
             ],
             [
              0.1111111111111111,
              "#46039f"
             ],
             [
              0.2222222222222222,
              "#7201a8"
             ],
             [
              0.3333333333333333,
              "#9c179e"
             ],
             [
              0.4444444444444444,
              "#bd3786"
             ],
             [
              0.5555555555555556,
              "#d8576b"
             ],
             [
              0.6666666666666666,
              "#ed7953"
             ],
             [
              0.7777777777777778,
              "#fb9f3a"
             ],
             [
              0.8888888888888888,
              "#fdca26"
             ],
             [
              1,
              "#f0f921"
             ]
            ],
            "type": "histogram2dcontour"
           }
          ],
          "mesh3d": [
           {
            "colorbar": {
             "outlinewidth": 0,
             "ticks": ""
            },
            "type": "mesh3d"
           }
          ],
          "parcoords": [
           {
            "line": {
             "colorbar": {
              "outlinewidth": 0,
              "ticks": ""
             }
            },
            "type": "parcoords"
           }
          ],
          "pie": [
           {
            "automargin": true,
            "type": "pie"
           }
          ],
          "scatter": [
           {
            "marker": {
             "colorbar": {
              "outlinewidth": 0,
              "ticks": ""
             }
            },
            "type": "scatter"
           }
          ],
          "scatter3d": [
           {
            "line": {
             "colorbar": {
              "outlinewidth": 0,
              "ticks": ""
             }
            },
            "marker": {
             "colorbar": {
              "outlinewidth": 0,
              "ticks": ""
             }
            },
            "type": "scatter3d"
           }
          ],
          "scattercarpet": [
           {
            "marker": {
             "colorbar": {
              "outlinewidth": 0,
              "ticks": ""
             }
            },
            "type": "scattercarpet"
           }
          ],
          "scattergeo": [
           {
            "marker": {
             "colorbar": {
              "outlinewidth": 0,
              "ticks": ""
             }
            },
            "type": "scattergeo"
           }
          ],
          "scattergl": [
           {
            "marker": {
             "colorbar": {
              "outlinewidth": 0,
              "ticks": ""
             }
            },
            "type": "scattergl"
           }
          ],
          "scattermapbox": [
           {
            "marker": {
             "colorbar": {
              "outlinewidth": 0,
              "ticks": ""
             }
            },
            "type": "scattermapbox"
           }
          ],
          "scatterpolar": [
           {
            "marker": {
             "colorbar": {
              "outlinewidth": 0,
              "ticks": ""
             }
            },
            "type": "scatterpolar"
           }
          ],
          "scatterpolargl": [
           {
            "marker": {
             "colorbar": {
              "outlinewidth": 0,
              "ticks": ""
             }
            },
            "type": "scatterpolargl"
           }
          ],
          "scatterternary": [
           {
            "marker": {
             "colorbar": {
              "outlinewidth": 0,
              "ticks": ""
             }
            },
            "type": "scatterternary"
           }
          ],
          "surface": [
           {
            "colorbar": {
             "outlinewidth": 0,
             "ticks": ""
            },
            "colorscale": [
             [
              0,
              "#0d0887"
             ],
             [
              0.1111111111111111,
              "#46039f"
             ],
             [
              0.2222222222222222,
              "#7201a8"
             ],
             [
              0.3333333333333333,
              "#9c179e"
             ],
             [
              0.4444444444444444,
              "#bd3786"
             ],
             [
              0.5555555555555556,
              "#d8576b"
             ],
             [
              0.6666666666666666,
              "#ed7953"
             ],
             [
              0.7777777777777778,
              "#fb9f3a"
             ],
             [
              0.8888888888888888,
              "#fdca26"
             ],
             [
              1,
              "#f0f921"
             ]
            ],
            "type": "surface"
           }
          ],
          "table": [
           {
            "cells": {
             "fill": {
              "color": "#EBF0F8"
             },
             "line": {
              "color": "white"
             }
            },
            "header": {
             "fill": {
              "color": "#C8D4E3"
             },
             "line": {
              "color": "white"
             }
            },
            "type": "table"
           }
          ]
         },
         "layout": {
          "annotationdefaults": {
           "arrowcolor": "#2a3f5f",
           "arrowhead": 0,
           "arrowwidth": 1
          },
          "autotypenumbers": "strict",
          "coloraxis": {
           "colorbar": {
            "outlinewidth": 0,
            "ticks": ""
           }
          },
          "colorscale": {
           "diverging": [
            [
             0,
             "#8e0152"
            ],
            [
             0.1,
             "#c51b7d"
            ],
            [
             0.2,
             "#de77ae"
            ],
            [
             0.3,
             "#f1b6da"
            ],
            [
             0.4,
             "#fde0ef"
            ],
            [
             0.5,
             "#f7f7f7"
            ],
            [
             0.6,
             "#e6f5d0"
            ],
            [
             0.7,
             "#b8e186"
            ],
            [
             0.8,
             "#7fbc41"
            ],
            [
             0.9,
             "#4d9221"
            ],
            [
             1,
             "#276419"
            ]
           ],
           "sequential": [
            [
             0,
             "#0d0887"
            ],
            [
             0.1111111111111111,
             "#46039f"
            ],
            [
             0.2222222222222222,
             "#7201a8"
            ],
            [
             0.3333333333333333,
             "#9c179e"
            ],
            [
             0.4444444444444444,
             "#bd3786"
            ],
            [
             0.5555555555555556,
             "#d8576b"
            ],
            [
             0.6666666666666666,
             "#ed7953"
            ],
            [
             0.7777777777777778,
             "#fb9f3a"
            ],
            [
             0.8888888888888888,
             "#fdca26"
            ],
            [
             1,
             "#f0f921"
            ]
           ],
           "sequentialminus": [
            [
             0,
             "#0d0887"
            ],
            [
             0.1111111111111111,
             "#46039f"
            ],
            [
             0.2222222222222222,
             "#7201a8"
            ],
            [
             0.3333333333333333,
             "#9c179e"
            ],
            [
             0.4444444444444444,
             "#bd3786"
            ],
            [
             0.5555555555555556,
             "#d8576b"
            ],
            [
             0.6666666666666666,
             "#ed7953"
            ],
            [
             0.7777777777777778,
             "#fb9f3a"
            ],
            [
             0.8888888888888888,
             "#fdca26"
            ],
            [
             1,
             "#f0f921"
            ]
           ]
          },
          "colorway": [
           "#636efa",
           "#EF553B",
           "#00cc96",
           "#ab63fa",
           "#FFA15A",
           "#19d3f3",
           "#FF6692",
           "#B6E880",
           "#FF97FF",
           "#FECB52"
          ],
          "font": {
           "color": "#2a3f5f"
          },
          "geo": {
           "bgcolor": "white",
           "lakecolor": "white",
           "landcolor": "#E5ECF6",
           "showlakes": true,
           "showland": true,
           "subunitcolor": "white"
          },
          "hoverlabel": {
           "align": "left"
          },
          "hovermode": "closest",
          "mapbox": {
           "style": "light"
          },
          "paper_bgcolor": "white",
          "plot_bgcolor": "#E5ECF6",
          "polar": {
           "angularaxis": {
            "gridcolor": "white",
            "linecolor": "white",
            "ticks": ""
           },
           "bgcolor": "#E5ECF6",
           "radialaxis": {
            "gridcolor": "white",
            "linecolor": "white",
            "ticks": ""
           }
          },
          "scene": {
           "xaxis": {
            "backgroundcolor": "#E5ECF6",
            "gridcolor": "white",
            "gridwidth": 2,
            "linecolor": "white",
            "showbackground": true,
            "ticks": "",
            "zerolinecolor": "white"
           },
           "yaxis": {
            "backgroundcolor": "#E5ECF6",
            "gridcolor": "white",
            "gridwidth": 2,
            "linecolor": "white",
            "showbackground": true,
            "ticks": "",
            "zerolinecolor": "white"
           },
           "zaxis": {
            "backgroundcolor": "#E5ECF6",
            "gridcolor": "white",
            "gridwidth": 2,
            "linecolor": "white",
            "showbackground": true,
            "ticks": "",
            "zerolinecolor": "white"
           }
          },
          "shapedefaults": {
           "line": {
            "color": "#2a3f5f"
           }
          },
          "ternary": {
           "aaxis": {
            "gridcolor": "white",
            "linecolor": "white",
            "ticks": ""
           },
           "baxis": {
            "gridcolor": "white",
            "linecolor": "white",
            "ticks": ""
           },
           "bgcolor": "#E5ECF6",
           "caxis": {
            "gridcolor": "white",
            "linecolor": "white",
            "ticks": ""
           }
          },
          "title": {
           "x": 0.05
          },
          "xaxis": {
           "automargin": true,
           "gridcolor": "white",
           "linecolor": "white",
           "ticks": "",
           "title": {
            "standoff": 15
           },
           "zerolinecolor": "white",
           "zerolinewidth": 2
          },
          "yaxis": {
           "automargin": true,
           "gridcolor": "white",
           "linecolor": "white",
           "ticks": "",
           "title": {
            "standoff": 15
           },
           "zerolinecolor": "white",
           "zerolinewidth": 2
          }
         }
        },
        "title": {
         "font": {
          "size": 30
         },
         "text": "<b>IMDB movies - Stars",
         "x": 0.5
        },
        "xaxis": {
         "anchor": "y",
         "domain": [
          0,
          1
         ],
         "showgrid": false,
         "tickangle": 30,
         "title": {
          "text": "Stars"
         }
        },
        "yaxis": {
         "anchor": "x",
         "domain": [
          0,
          1
         ],
         "showgrid": false,
         "title": {
          "text": "count"
         }
        }
       }
      },
      "text/html": [
       "<div>                            <div id=\"6dd33d1b-b1e1-4ff8-89a6-9e1bc896c07a\" class=\"plotly-graph-div\" style=\"height:525px; width:100%;\"></div>            <script type=\"text/javascript\">                require([\"plotly\"], function(Plotly) {                    window.PLOTLYENV=window.PLOTLYENV || {};                                    if (document.getElementById(\"6dd33d1b-b1e1-4ff8-89a6-9e1bc896c07a\")) {                    Plotly.newPlot(                        \"6dd33d1b-b1e1-4ff8-89a6-9e1bc896c07a\",                        [{\"alignmentgroup\":\"True\",\"hovertemplate\":\"x=%{x}<br>y=%{y}<extra></extra>\",\"legendgroup\":\"\",\"marker\":{\"color\":\"gold\",\"pattern\":{\"shape\":\"\"}},\"name\":\"\",\"offsetgroup\":\"\",\"orientation\":\"v\",\"showlegend\":false,\"textposition\":\"auto\",\"type\":\"bar\",\"x\":[\"Robert De Niro\",\"Tom Hanks\",\"Al Pacino\",\"Leonardo DiCaprio\",\"James Stewart\",\"Brad Pitt\",\"Matt Damon\",\"Christian Bale\",\"Clint Eastwood\",\"Humphrey Bogart\",\"Michael Caine\",\"Aamir Khan\",\"Ethan Hawke\",\"Scarlett Johansson\",\"Denzel Washington\",\"Tom Cruise\",\"Bruce Willis\",\"Harrison Ford\",\"Mark Ruffalo\",\"Ian McKellen\"],\"xaxis\":\"x\",\"y\":[16,15,13,11,11,11,11,11,10,10,9,9,9,9,8,8,8,8,7,7],\"yaxis\":\"y\"}],                        {\"barmode\":\"relative\",\"font\":{\"color\":\"white\",\"family\":\"Lato\",\"size\":18},\"legend\":{\"tracegroupgap\":0},\"margin\":{\"t\":60},\"paper_bgcolor\":\"black\",\"plot_bgcolor\":\"black\",\"template\":{\"data\":{\"bar\":[{\"error_x\":{\"color\":\"#2a3f5f\"},\"error_y\":{\"color\":\"#2a3f5f\"},\"marker\":{\"line\":{\"color\":\"#E5ECF6\",\"width\":0.5},\"pattern\":{\"fillmode\":\"overlay\",\"size\":10,\"solidity\":0.2}},\"type\":\"bar\"}],\"barpolar\":[{\"marker\":{\"line\":{\"color\":\"#E5ECF6\",\"width\":0.5},\"pattern\":{\"fillmode\":\"overlay\",\"size\":10,\"solidity\":0.2}},\"type\":\"barpolar\"}],\"carpet\":[{\"aaxis\":{\"endlinecolor\":\"#2a3f5f\",\"gridcolor\":\"white\",\"linecolor\":\"white\",\"minorgridcolor\":\"white\",\"startlinecolor\":\"#2a3f5f\"},\"baxis\":{\"endlinecolor\":\"#2a3f5f\",\"gridcolor\":\"white\",\"linecolor\":\"white\",\"minorgridcolor\":\"white\",\"startlinecolor\":\"#2a3f5f\"},\"type\":\"carpet\"}],\"choropleth\":[{\"colorbar\":{\"outlinewidth\":0,\"ticks\":\"\"},\"type\":\"choropleth\"}],\"contour\":[{\"colorbar\":{\"outlinewidth\":0,\"ticks\":\"\"},\"colorscale\":[[0.0,\"#0d0887\"],[0.1111111111111111,\"#46039f\"],[0.2222222222222222,\"#7201a8\"],[0.3333333333333333,\"#9c179e\"],[0.4444444444444444,\"#bd3786\"],[0.5555555555555556,\"#d8576b\"],[0.6666666666666666,\"#ed7953\"],[0.7777777777777778,\"#fb9f3a\"],[0.8888888888888888,\"#fdca26\"],[1.0,\"#f0f921\"]],\"type\":\"contour\"}],\"contourcarpet\":[{\"colorbar\":{\"outlinewidth\":0,\"ticks\":\"\"},\"type\":\"contourcarpet\"}],\"heatmap\":[{\"colorbar\":{\"outlinewidth\":0,\"ticks\":\"\"},\"colorscale\":[[0.0,\"#0d0887\"],[0.1111111111111111,\"#46039f\"],[0.2222222222222222,\"#7201a8\"],[0.3333333333333333,\"#9c179e\"],[0.4444444444444444,\"#bd3786\"],[0.5555555555555556,\"#d8576b\"],[0.6666666666666666,\"#ed7953\"],[0.7777777777777778,\"#fb9f3a\"],[0.8888888888888888,\"#fdca26\"],[1.0,\"#f0f921\"]],\"type\":\"heatmap\"}],\"heatmapgl\":[{\"colorbar\":{\"outlinewidth\":0,\"ticks\":\"\"},\"colorscale\":[[0.0,\"#0d0887\"],[0.1111111111111111,\"#46039f\"],[0.2222222222222222,\"#7201a8\"],[0.3333333333333333,\"#9c179e\"],[0.4444444444444444,\"#bd3786\"],[0.5555555555555556,\"#d8576b\"],[0.6666666666666666,\"#ed7953\"],[0.7777777777777778,\"#fb9f3a\"],[0.8888888888888888,\"#fdca26\"],[1.0,\"#f0f921\"]],\"type\":\"heatmapgl\"}],\"histogram\":[{\"marker\":{\"pattern\":{\"fillmode\":\"overlay\",\"size\":10,\"solidity\":0.2}},\"type\":\"histogram\"}],\"histogram2d\":[{\"colorbar\":{\"outlinewidth\":0,\"ticks\":\"\"},\"colorscale\":[[0.0,\"#0d0887\"],[0.1111111111111111,\"#46039f\"],[0.2222222222222222,\"#7201a8\"],[0.3333333333333333,\"#9c179e\"],[0.4444444444444444,\"#bd3786\"],[0.5555555555555556,\"#d8576b\"],[0.6666666666666666,\"#ed7953\"],[0.7777777777777778,\"#fb9f3a\"],[0.8888888888888888,\"#fdca26\"],[1.0,\"#f0f921\"]],\"type\":\"histogram2d\"}],\"histogram2dcontour\":[{\"colorbar\":{\"outlinewidth\":0,\"ticks\":\"\"},\"colorscale\":[[0.0,\"#0d0887\"],[0.1111111111111111,\"#46039f\"],[0.2222222222222222,\"#7201a8\"],[0.3333333333333333,\"#9c179e\"],[0.4444444444444444,\"#bd3786\"],[0.5555555555555556,\"#d8576b\"],[0.6666666666666666,\"#ed7953\"],[0.7777777777777778,\"#fb9f3a\"],[0.8888888888888888,\"#fdca26\"],[1.0,\"#f0f921\"]],\"type\":\"histogram2dcontour\"}],\"mesh3d\":[{\"colorbar\":{\"outlinewidth\":0,\"ticks\":\"\"},\"type\":\"mesh3d\"}],\"parcoords\":[{\"line\":{\"colorbar\":{\"outlinewidth\":0,\"ticks\":\"\"}},\"type\":\"parcoords\"}],\"pie\":[{\"automargin\":true,\"type\":\"pie\"}],\"scatter\":[{\"marker\":{\"colorbar\":{\"outlinewidth\":0,\"ticks\":\"\"}},\"type\":\"scatter\"}],\"scatter3d\":[{\"line\":{\"colorbar\":{\"outlinewidth\":0,\"ticks\":\"\"}},\"marker\":{\"colorbar\":{\"outlinewidth\":0,\"ticks\":\"\"}},\"type\":\"scatter3d\"}],\"scattercarpet\":[{\"marker\":{\"colorbar\":{\"outlinewidth\":0,\"ticks\":\"\"}},\"type\":\"scattercarpet\"}],\"scattergeo\":[{\"marker\":{\"colorbar\":{\"outlinewidth\":0,\"ticks\":\"\"}},\"type\":\"scattergeo\"}],\"scattergl\":[{\"marker\":{\"colorbar\":{\"outlinewidth\":0,\"ticks\":\"\"}},\"type\":\"scattergl\"}],\"scattermapbox\":[{\"marker\":{\"colorbar\":{\"outlinewidth\":0,\"ticks\":\"\"}},\"type\":\"scattermapbox\"}],\"scatterpolar\":[{\"marker\":{\"colorbar\":{\"outlinewidth\":0,\"ticks\":\"\"}},\"type\":\"scatterpolar\"}],\"scatterpolargl\":[{\"marker\":{\"colorbar\":{\"outlinewidth\":0,\"ticks\":\"\"}},\"type\":\"scatterpolargl\"}],\"scatterternary\":[{\"marker\":{\"colorbar\":{\"outlinewidth\":0,\"ticks\":\"\"}},\"type\":\"scatterternary\"}],\"surface\":[{\"colorbar\":{\"outlinewidth\":0,\"ticks\":\"\"},\"colorscale\":[[0.0,\"#0d0887\"],[0.1111111111111111,\"#46039f\"],[0.2222222222222222,\"#7201a8\"],[0.3333333333333333,\"#9c179e\"],[0.4444444444444444,\"#bd3786\"],[0.5555555555555556,\"#d8576b\"],[0.6666666666666666,\"#ed7953\"],[0.7777777777777778,\"#fb9f3a\"],[0.8888888888888888,\"#fdca26\"],[1.0,\"#f0f921\"]],\"type\":\"surface\"}],\"table\":[{\"cells\":{\"fill\":{\"color\":\"#EBF0F8\"},\"line\":{\"color\":\"white\"}},\"header\":{\"fill\":{\"color\":\"#C8D4E3\"},\"line\":{\"color\":\"white\"}},\"type\":\"table\"}]},\"layout\":{\"annotationdefaults\":{\"arrowcolor\":\"#2a3f5f\",\"arrowhead\":0,\"arrowwidth\":1},\"autotypenumbers\":\"strict\",\"coloraxis\":{\"colorbar\":{\"outlinewidth\":0,\"ticks\":\"\"}},\"colorscale\":{\"diverging\":[[0,\"#8e0152\"],[0.1,\"#c51b7d\"],[0.2,\"#de77ae\"],[0.3,\"#f1b6da\"],[0.4,\"#fde0ef\"],[0.5,\"#f7f7f7\"],[0.6,\"#e6f5d0\"],[0.7,\"#b8e186\"],[0.8,\"#7fbc41\"],[0.9,\"#4d9221\"],[1,\"#276419\"]],\"sequential\":[[0.0,\"#0d0887\"],[0.1111111111111111,\"#46039f\"],[0.2222222222222222,\"#7201a8\"],[0.3333333333333333,\"#9c179e\"],[0.4444444444444444,\"#bd3786\"],[0.5555555555555556,\"#d8576b\"],[0.6666666666666666,\"#ed7953\"],[0.7777777777777778,\"#fb9f3a\"],[0.8888888888888888,\"#fdca26\"],[1.0,\"#f0f921\"]],\"sequentialminus\":[[0.0,\"#0d0887\"],[0.1111111111111111,\"#46039f\"],[0.2222222222222222,\"#7201a8\"],[0.3333333333333333,\"#9c179e\"],[0.4444444444444444,\"#bd3786\"],[0.5555555555555556,\"#d8576b\"],[0.6666666666666666,\"#ed7953\"],[0.7777777777777778,\"#fb9f3a\"],[0.8888888888888888,\"#fdca26\"],[1.0,\"#f0f921\"]]},\"colorway\":[\"#636efa\",\"#EF553B\",\"#00cc96\",\"#ab63fa\",\"#FFA15A\",\"#19d3f3\",\"#FF6692\",\"#B6E880\",\"#FF97FF\",\"#FECB52\"],\"font\":{\"color\":\"#2a3f5f\"},\"geo\":{\"bgcolor\":\"white\",\"lakecolor\":\"white\",\"landcolor\":\"#E5ECF6\",\"showlakes\":true,\"showland\":true,\"subunitcolor\":\"white\"},\"hoverlabel\":{\"align\":\"left\"},\"hovermode\":\"closest\",\"mapbox\":{\"style\":\"light\"},\"paper_bgcolor\":\"white\",\"plot_bgcolor\":\"#E5ECF6\",\"polar\":{\"angularaxis\":{\"gridcolor\":\"white\",\"linecolor\":\"white\",\"ticks\":\"\"},\"bgcolor\":\"#E5ECF6\",\"radialaxis\":{\"gridcolor\":\"white\",\"linecolor\":\"white\",\"ticks\":\"\"}},\"scene\":{\"xaxis\":{\"backgroundcolor\":\"#E5ECF6\",\"gridcolor\":\"white\",\"gridwidth\":2,\"linecolor\":\"white\",\"showbackground\":true,\"ticks\":\"\",\"zerolinecolor\":\"white\"},\"yaxis\":{\"backgroundcolor\":\"#E5ECF6\",\"gridcolor\":\"white\",\"gridwidth\":2,\"linecolor\":\"white\",\"showbackground\":true,\"ticks\":\"\",\"zerolinecolor\":\"white\"},\"zaxis\":{\"backgroundcolor\":\"#E5ECF6\",\"gridcolor\":\"white\",\"gridwidth\":2,\"linecolor\":\"white\",\"showbackground\":true,\"ticks\":\"\",\"zerolinecolor\":\"white\"}},\"shapedefaults\":{\"line\":{\"color\":\"#2a3f5f\"}},\"ternary\":{\"aaxis\":{\"gridcolor\":\"white\",\"linecolor\":\"white\",\"ticks\":\"\"},\"baxis\":{\"gridcolor\":\"white\",\"linecolor\":\"white\",\"ticks\":\"\"},\"bgcolor\":\"#E5ECF6\",\"caxis\":{\"gridcolor\":\"white\",\"linecolor\":\"white\",\"ticks\":\"\"}},\"title\":{\"x\":0.05},\"xaxis\":{\"automargin\":true,\"gridcolor\":\"white\",\"linecolor\":\"white\",\"ticks\":\"\",\"title\":{\"standoff\":15},\"zerolinecolor\":\"white\",\"zerolinewidth\":2},\"yaxis\":{\"automargin\":true,\"gridcolor\":\"white\",\"linecolor\":\"white\",\"ticks\":\"\",\"title\":{\"standoff\":15},\"zerolinecolor\":\"white\",\"zerolinewidth\":2}}},\"title\":{\"font\":{\"size\":30},\"text\":\"<b>IMDB movies - Stars\",\"x\":0.5},\"xaxis\":{\"anchor\":\"y\",\"domain\":[0.0,1.0],\"showgrid\":false,\"tickangle\":30,\"title\":{\"text\":\"Stars\"}},\"yaxis\":{\"anchor\":\"x\",\"domain\":[0.0,1.0],\"showgrid\":false,\"title\":{\"text\":\"count\"}}},                        {\"responsive\": true}                    ).then(function(){\n",
       "                            \n",
       "var gd = document.getElementById('6dd33d1b-b1e1-4ff8-89a6-9e1bc896c07a');\n",
       "var x = new MutationObserver(function (mutations, observer) {{\n",
       "        var display = window.getComputedStyle(gd).display;\n",
       "        if (!display || display === 'none') {{\n",
       "            console.log([gd, 'removed!']);\n",
       "            Plotly.purge(gd);\n",
       "            observer.disconnect();\n",
       "        }}\n",
       "}});\n",
       "\n",
       "// Listen for the removal of the full notebook cells\n",
       "var notebookContainer = gd.closest('#notebook-container');\n",
       "if (notebookContainer) {{\n",
       "    x.observe(notebookContainer, {childList: true});\n",
       "}}\n",
       "\n",
       "// Listen for the clearing of the current output cell\n",
       "var outputEl = gd.closest('.output');\n",
       "if (outputEl) {{\n",
       "    x.observe(outputEl, {childList: true});\n",
       "}}\n",
       "\n",
       "                        })                };                });            </script>        </div>"
      ]
     },
     "metadata": {},
     "output_type": "display_data"
    }
   ],
   "source": [
    "bar_plot('Stars', data_frame=dfstar, limit=20)"
   ]
  },
  {
   "cell_type": "markdown",
   "id": "a60625e3",
   "metadata": {},
   "source": [
    "* Robert De Niro is the most succesfull actors starring in 16 movies in the Top 1000 IMDB movies."
   ]
  },
  {
   "cell_type": "code",
   "execution_count": 28,
   "id": "85a4b508",
   "metadata": {},
   "outputs": [
    {
     "name": "stderr",
     "output_type": "stream",
     "text": [
      "C:\\Users\\yjynj\\anaconda3\\lib\\site-packages\\seaborn\\_decorators.py:36: FutureWarning:\n",
      "\n",
      "Pass the following variables as keyword args: x, y. From version 0.12, the only valid positional argument will be `data`, and passing other arguments without an explicit keyword will result in an error or misinterpretation.\n",
      "\n"
     ]
    },
    {
     "data": {
      "text/plain": [
       "<seaborn.axisgrid.JointGrid at 0x1764cfce2b0>"
      ]
     },
     "execution_count": 28,
     "metadata": {},
     "output_type": "execute_result"
    },
    {
     "data": {
      "text/plain": [
       "<Figure size 1440x1440 with 0 Axes>"
      ]
     },
     "metadata": {},
     "output_type": "display_data"
    },
    {
     "data": {
      "image/png": "[encoded data removed]",
      "text/plain": [
       "<Figure size 432x432 with 3 Axes>"
      ]
     },
     "metadata": {
      "needs_background": "light"
     },
     "output_type": "display_data"
    }
   ],
   "source": [
    "plt.figure(figsize=(20,20))\n",
    "sns.jointplot(\"Movie Rating\", \"Gross\", data=df, kind='hex', color='DarkBlue')"
   ]
  },
  {
   "cell_type": "code",
   "execution_count": null,
   "id": "72b1f669",
   "metadata": {},
   "outputs": [],
   "source": []
  },
  {
   "cell_type": "code",
   "execution_count": null,
   "id": "83903f9e",
   "metadata": {},
   "outputs": [],
   "source": []
  },
  {
   "cell_type": "code",
   "execution_count": null,
   "id": "e89f5a6e",
   "metadata": {},
   "outputs": [],
   "source": []
  },
  {
   "cell_type": "code",
   "execution_count": null,
   "id": "78d6921a",
   "metadata": {},
   "outputs": [],
   "source": []
  },
  {
   "cell_type": "code",
   "execution_count": null,
   "id": "3714bb0a",
   "metadata": {},
   "outputs": [],
   "source": []
  },
  {
   "cell_type": "code",
   "execution_count": null,
   "id": "52caaf1a",
   "metadata": {},
   "outputs": [],
   "source": []
  }
 ],
 "metadata": {
  "kernelspec": {
   "display_name": "Python 3",
   "language": "python",
   "name": "python3"
  },
  "language_info": {
   "codemirror_mode": {
    "name": "ipython",
    "version": 3
   },
   "file_extension": ".py",
   "mimetype": "text/x-python",
   "name": "python",
   "nbconvert_exporter": "python",
   "pygments_lexer": "ipython3",
   "version": "3.8.8"
  }
 },
 "nbformat": 4,
 "nbformat_minor": 5
}
