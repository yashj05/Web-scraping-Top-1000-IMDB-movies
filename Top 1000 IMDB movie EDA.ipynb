{
 "cells": [
  {
   "cell_type": "code",
   "execution_count": 1,
   "id": "98974944",
   "metadata": {},
   "outputs": [
    {
     "data": {
      "text/html": [
       "        <script type=\"text/javascript\">\n",
       "        window.PlotlyConfig = {MathJaxConfig: 'local'};\n",
       "        if (window.MathJax) {MathJax.Hub.Config({SVG: {font: \"STIX-Web\"}});}\n",
       "        if (typeof require !== 'undefined') {\n",
       "        require.undef(\"plotly\");\n",
       "        requirejs.config({\n",
       "            paths: {\n",
       "                'plotly': ['https://cdn.plot.ly/plotly-2.1.0.min']\n",
       "            }\n",
       "        });\n",
       "        require(['plotly'], function(Plotly) {\n",
       "            window._Plotly = Plotly;\n",
       "        });\n",
       "        }\n",
       "        </script>\n",
       "        "
      ]
     },
     "metadata": {},
     "output_type": "display_data"
    }
   ],
   "source": [
    "import pandas as pd\n",
    "import numpy as np\n",
    "\n",
    "import plotly.graph_objects as go\n",
    "import plotly.express as px\n",
    "from plotly.subplots import make_subplots\n",
    "import plotly.figure_factory as ff\n",
    "import seaborn as sns\n",
    "\n",
    "from plotly.offline import plot, iplot, init_notebook_mode\n",
    "init_notebook_mode(connected=True)\n",
    "\n",
    "import re"
   ]
  },
  {
   "cell_type": "code",
   "execution_count": 2,
   "id": "5764144a",
   "metadata": {},
   "outputs": [],
   "source": [
    "df = pd.read_csv('Top 1000 IMDB movies.csv', index_col=[0])"
   ]
  },
  {
   "cell_type": "code",
   "execution_count": 3,
   "id": "61053da1",
   "metadata": {},
   "outputs": [
    {
     "data": {
      "text/html": [
       "<div>\n",
       "<style scoped>\n",
       "    .dataframe tbody tr th:only-of-type {\n",
       "        vertical-align: middle;\n",
       "    }\n",
       "\n",
       "    .dataframe tbody tr th {\n",
       "        vertical-align: top;\n",
       "    }\n",
       "\n",
       "    .dataframe thead th {\n",
       "        text-align: right;\n",
       "    }\n",
       "</style>\n",
       "<table border=\"1\" class=\"dataframe\">\n",
       "  <thead>\n",
       "    <tr style=\"text-align: right;\">\n",
       "      <th></th>\n",
       "      <th>Movie Name</th>\n",
       "      <th>Release Year</th>\n",
       "      <th>Watch Time</th>\n",
       "      <th>Movie Rating</th>\n",
       "      <th>Metascore</th>\n",
       "      <th>Votes</th>\n",
       "      <th>Gross</th>\n",
       "      <th>Genre</th>\n",
       "      <th>Directors</th>\n",
       "      <th>Stars</th>\n",
       "    </tr>\n",
       "    <tr>\n",
       "      <th>Ranking</th>\n",
       "      <th></th>\n",
       "      <th></th>\n",
       "      <th></th>\n",
       "      <th></th>\n",
       "      <th></th>\n",
       "      <th></th>\n",
       "      <th></th>\n",
       "      <th></th>\n",
       "      <th></th>\n",
       "      <th></th>\n",
       "    </tr>\n",
       "  </thead>\n",
       "  <tbody>\n",
       "    <tr>\n",
       "      <th>1</th>\n",
       "      <td>The Shawshank Redemption</td>\n",
       "      <td>1994</td>\n",
       "      <td>142</td>\n",
       "      <td>9.3</td>\n",
       "      <td>81.0</td>\n",
       "      <td>2,612,987</td>\n",
       "      <td>$28.34M</td>\n",
       "      <td>Drama</td>\n",
       "      <td>Frank Darabont</td>\n",
       "      <td>Tim Robbins, Morgan Freeman, Bob Gunton, Willi...</td>\n",
       "    </tr>\n",
       "    <tr>\n",
       "      <th>2</th>\n",
       "      <td>The Godfather</td>\n",
       "      <td>1972</td>\n",
       "      <td>175</td>\n",
       "      <td>9.2</td>\n",
       "      <td>100.0</td>\n",
       "      <td>1,808,435</td>\n",
       "      <td>$134.97M</td>\n",
       "      <td>Crime, Drama</td>\n",
       "      <td>Francis Ford Coppola</td>\n",
       "      <td>Marlon Brando, Al Pacino, James Caan, Diane Ke...</td>\n",
       "    </tr>\n",
       "    <tr>\n",
       "      <th>3</th>\n",
       "      <td>The Dark Knight</td>\n",
       "      <td>2008</td>\n",
       "      <td>152</td>\n",
       "      <td>9.0</td>\n",
       "      <td>84.0</td>\n",
       "      <td>2,585,038</td>\n",
       "      <td>$534.86M</td>\n",
       "      <td>Action, Crime, Drama</td>\n",
       "      <td>Christopher Nolan</td>\n",
       "      <td>Christian Bale, Heath Ledger, Aaron Eckhart, M...</td>\n",
       "    </tr>\n",
       "    <tr>\n",
       "      <th>4</th>\n",
       "      <td>The Lord of the Rings: The Return of the King</td>\n",
       "      <td>2003</td>\n",
       "      <td>201</td>\n",
       "      <td>9.0</td>\n",
       "      <td>94.0</td>\n",
       "      <td>1,793,421</td>\n",
       "      <td>$377.85M</td>\n",
       "      <td>Action, Adventure, Drama</td>\n",
       "      <td>Peter Jackson</td>\n",
       "      <td>Elijah Wood, Viggo Mortensen, Ian McKellen, Or...</td>\n",
       "    </tr>\n",
       "    <tr>\n",
       "      <th>5</th>\n",
       "      <td>Schindler's List</td>\n",
       "      <td>1993</td>\n",
       "      <td>195</td>\n",
       "      <td>9.0</td>\n",
       "      <td>94.0</td>\n",
       "      <td>1,327,956</td>\n",
       "      <td>$96.90M</td>\n",
       "      <td>Biography, Drama, History</td>\n",
       "      <td>Steven Spielberg</td>\n",
       "      <td>Liam Neeson, Ralph Fiennes, Ben Kingsley, Caro...</td>\n",
       "    </tr>\n",
       "  </tbody>\n",
       "</table>\n",
       "</div>"
      ],
      "text/plain": [
       "                                            Movie Name  Release Year  \\\n",
       "Ranking                                                                \n",
       "1                             The Shawshank Redemption          1994   \n",
       "2                                        The Godfather          1972   \n",
       "3                                      The Dark Knight          2008   \n",
       "4        The Lord of the Rings: The Return of the King          2003   \n",
       "5                                     Schindler's List          1993   \n",
       "\n",
       "         Watch Time  Movie Rating  Metascore      Votes     Gross  \\\n",
       "Ranking                                                             \n",
       "1               142           9.3       81.0  2,612,987   $28.34M   \n",
       "2               175           9.2      100.0  1,808,435  $134.97M   \n",
       "3               152           9.0       84.0  2,585,038  $534.86M   \n",
       "4               201           9.0       94.0  1,793,421  $377.85M   \n",
       "5               195           9.0       94.0  1,327,956   $96.90M   \n",
       "\n",
       "                             Genre             Directors  \\\n",
       "Ranking                                                    \n",
       "1                            Drama        Frank Darabont   \n",
       "2                     Crime, Drama  Francis Ford Coppola   \n",
       "3             Action, Crime, Drama     Christopher Nolan   \n",
       "4         Action, Adventure, Drama         Peter Jackson   \n",
       "5        Biography, Drama, History      Steven Spielberg   \n",
       "\n",
       "                                                     Stars  \n",
       "Ranking                                                     \n",
       "1        Tim Robbins, Morgan Freeman, Bob Gunton, Willi...  \n",
       "2        Marlon Brando, Al Pacino, James Caan, Diane Ke...  \n",
       "3        Christian Bale, Heath Ledger, Aaron Eckhart, M...  \n",
       "4        Elijah Wood, Viggo Mortensen, Ian McKellen, Or...  \n",
       "5        Liam Neeson, Ralph Fiennes, Ben Kingsley, Caro...  "
      ]
     },
     "execution_count": 3,
     "metadata": {},
     "output_type": "execute_result"
    }
   ],
   "source": [
    "df.head()"
   ]
  },
  {
   "cell_type": "code",
   "execution_count": 4,
   "id": "4f673e31",
   "metadata": {},
   "outputs": [
    {
     "name": "stdout",
     "output_type": "stream",
     "text": [
      "<class 'pandas.core.frame.DataFrame'>\n",
      "Index: 1000 entries, 1 to 1,000\n",
      "Data columns (total 10 columns):\n",
      " #   Column        Non-Null Count  Dtype  \n",
      "---  ------        --------------  -----  \n",
      " 0   Movie Name    1000 non-null   object \n",
      " 1   Release Year  1000 non-null   int64  \n",
      " 2   Watch Time    1000 non-null   int64  \n",
      " 3   Movie Rating  1000 non-null   float64\n",
      " 4   Metascore     836 non-null    float64\n",
      " 5   Votes         1000 non-null   object \n",
      " 6   Gross         817 non-null    object \n",
      " 7   Genre         1000 non-null   object \n",
      " 8   Directors     1000 non-null   object \n",
      " 9   Stars         1000 non-null   object \n",
      "dtypes: float64(2), int64(2), object(6)\n",
      "memory usage: 85.9+ KB\n"
     ]
    }
   ],
   "source": [
    "df.info()"
   ]
  },
  {
   "cell_type": "code",
   "execution_count": 5,
   "id": "3df94f26",
   "metadata": {},
   "outputs": [
    {
     "name": "stderr",
     "output_type": "stream",
     "text": [
      "<ipython-input-5-04d8eb66cdd5>:2: FutureWarning:\n",
      "\n",
      "The default value of regex will change from True to False in a future version.\n",
      "\n"
     ]
    }
   ],
   "source": [
    "#Converting Gross column from object to float type\n",
    "df['Gross'] =df['Gross'].str.replace(r'[$M]','').astype('float')\n"
   ]
  },
  {
   "cell_type": "code",
   "execution_count": 6,
   "id": "48a1316c",
   "metadata": {},
   "outputs": [],
   "source": [
    "#Converting Release Year column from int to object type\n",
    "# df['Release Year'] = df['Release Year'].astype('object')"
   ]
  },
  {
   "cell_type": "code",
   "execution_count": 7,
   "id": "62b525c0",
   "metadata": {},
   "outputs": [
    {
     "name": "stdout",
     "output_type": "stream",
     "text": [
      "<class 'pandas.core.frame.DataFrame'>\n",
      "Index: 1000 entries, 1 to 1,000\n",
      "Data columns (total 10 columns):\n",
      " #   Column        Non-Null Count  Dtype  \n",
      "---  ------        --------------  -----  \n",
      " 0   Movie Name    1000 non-null   object \n",
      " 1   Release Year  1000 non-null   int64  \n",
      " 2   Watch Time    1000 non-null   int64  \n",
      " 3   Movie Rating  1000 non-null   float64\n",
      " 4   Metascore     836 non-null    float64\n",
      " 5   Votes         1000 non-null   object \n",
      " 6   Gross         817 non-null    float64\n",
      " 7   Genre         1000 non-null   object \n",
      " 8   Directors     1000 non-null   object \n",
      " 9   Stars         1000 non-null   object \n",
      "dtypes: float64(3), int64(2), object(5)\n",
      "memory usage: 85.9+ KB\n"
     ]
    }
   ],
   "source": [
    "df.info()"
   ]
  },
  {
   "cell_type": "code",
   "execution_count": 8,
   "id": "ccea75d9",
   "metadata": {},
   "outputs": [
    {
     "data": {
      "text/plain": [
       "Movie Name        0\n",
       "Release Year      0\n",
       "Watch Time        0\n",
       "Movie Rating      0\n",
       "Metascore       164\n",
       "Votes             0\n",
       "Gross           183\n",
       "Genre             0\n",
       "Directors         0\n",
       "Stars             0\n",
       "dtype: int64"
      ]
     },
     "execution_count": 8,
     "metadata": {},
     "output_type": "execute_result"
    }
   ],
   "source": [
    "df.isnull().sum()"
   ]
  },
  {
   "cell_type": "markdown",
   "id": "2f2f51bd",
   "metadata": {},
   "source": [
    "* There are null values in columns:\n",
    "    * Metascore - replace null values with the mean value of Metascore column.\n",
    "    * Gross - replace null value with the mean value of Gross column."
   ]
  },
  {
   "cell_type": "code",
   "execution_count": 9,
   "id": "ef60e438",
   "metadata": {},
   "outputs": [],
   "source": [
    "df['Metascore'] = df['Metascore'].replace(np.nan, np.mean(df['Metascore']))\n",
    "df['Gross'] = df['Gross'].replace(np.nan, np.mean(df['Gross']))"
   ]
  },
  {
   "cell_type": "code",
   "execution_count": 10,
   "id": "c3273d27",
   "metadata": {},
   "outputs": [
    {
     "data": {
      "text/plain": [
       "Movie Name      0\n",
       "Release Year    0\n",
       "Watch Time      0\n",
       "Movie Rating    0\n",
       "Metascore       0\n",
       "Votes           0\n",
       "Gross           0\n",
       "Genre           0\n",
       "Directors       0\n",
       "Stars           0\n",
       "dtype: int64"
      ]
     },
     "execution_count": 10,
     "metadata": {},
     "output_type": "execute_result"
    }
   ],
   "source": [
    "df.isnull().sum()"
   ]
  },
  {
   "cell_type": "markdown",
   "id": "b2cd92e7",
   "metadata": {},
   "source": [
    "# Movies count over the years"
   ]
  },
  {
   "cell_type": "code",
   "execution_count": 11,
   "id": "d07d565b",
   "metadata": {},
   "outputs": [
    {
     "data": {
      "text/plain": [
       "array([1920, 1921, 1922, 1924, 1925, 1926, 1927, 1928, 1930, 1931, 1932,\n",
       "       1933, 1934, 1935, 1936, 1937, 1938, 1939, 1940, 1941, 1942, 1943,\n",
       "       1944, 1945, 1946, 1947, 1948, 1949, 1950, 1951, 1952, 1953, 1954,\n",
       "       1955, 1956, 1957, 1958, 1959, 1960, 1961, 1962, 1963, 1964, 1965,\n",
       "       1966, 1967, 1968, 1969, 1970, 1971, 1972, 1973, 1974, 1975, 1976,\n",
       "       1977, 1978, 1979, 1980, 1981, 1982, 1983, 1984, 1985, 1986, 1987,\n",
       "       1988, 1989, 1990, 1991, 1992, 1993, 1994, 1995, 1996, 1997, 1998,\n",
       "       1999, 2000, 2001, 2002, 2003, 2004, 2005, 2006, 2007, 2008, 2009,\n",
       "       2010, 2011, 2012, 2013, 2014, 2015, 2016, 2017, 2018, 2019, 2020,\n",
       "       2021, 2022], dtype=int64)"
      ]
     },
     "execution_count": 11,
     "metadata": {},
     "output_type": "execute_result"
    }
   ],
   "source": [
    "df['Release Year'].sort_values().unique()"
   ]
  },
  {
   "cell_type": "code",
   "execution_count": 12,
   "id": "3d26e57c",
   "metadata": {},
   "outputs": [
    {
     "data": {
      "application/vnd.plotly.v1+json": {
       "config": {
        "plotlyServerURL": "https://plot.ly"
       },
       "data": [
        {
         "alignmentgroup": "True",
         "bingroup": "x",
         "hovertemplate": "Release Year=%{x}<br>count=%{y}<extra></extra>",
         "legendgroup": "",
         "marker": {
          "color": "gold",
          "pattern": {
           "shape": ""
          }
         },
         "name": "",
         "nbinsx": 103,
         "offsetgroup": "",
         "orientation": "v",
         "showlegend": false,
         "type": "histogram",
         "x": [
          1920,
          1921,
          1922,
          1924,
          1925,
          1925,
          1926,
          1927,
          1927,
          1928,
          1928,
          1930,
          1931,
          1931,
          1931,
          1932,
          1932,
          1933,
          1933,
          1933,
          1934,
          1934,
          1935,
          1935,
          1935,
          1936,
          1937,
          1937,
          1938,
          1938,
          1938,
          1938,
          1939,
          1939,
          1939,
          1939,
          1939,
          1940,
          1940,
          1940,
          1940,
          1940,
          1940,
          1940,
          1941,
          1941,
          1941,
          1942,
          1942,
          1943,
          1943,
          1944,
          1944,
          1944,
          1944,
          1945,
          1945,
          1945,
          1945,
          1946,
          1946,
          1946,
          1946,
          1946,
          1947,
          1947,
          1948,
          1948,
          1948,
          1948,
          1948,
          1948,
          1949,
          1949,
          1949,
          1950,
          1950,
          1950,
          1950,
          1950,
          1950,
          1951,
          1951,
          1951,
          1951,
          1951,
          1952,
          1952,
          1952,
          1952,
          1952,
          1953,
          1953,
          1953,
          1953,
          1953,
          1953,
          1954,
          1954,
          1954,
          1954,
          1954,
          1954,
          1954,
          1955,
          1955,
          1955,
          1955,
          1955,
          1955,
          1956,
          1956,
          1956,
          1956,
          1957,
          1957,
          1957,
          1957,
          1957,
          1957,
          1957,
          1957,
          1957,
          1958,
          1958,
          1958,
          1958,
          1958,
          1959,
          1959,
          1959,
          1959,
          1959,
          1959,
          1959,
          1960,
          1960,
          1960,
          1960,
          1960,
          1960,
          1960,
          1960,
          1960,
          1960,
          1961,
          1961,
          1961,
          1961,
          1961,
          1962,
          1962,
          1962,
          1962,
          1962,
          1962,
          1962,
          1962,
          1962,
          1962,
          1962,
          1962,
          1962,
          1963,
          1963,
          1963,
          1963,
          1963,
          1963,
          1964,
          1964,
          1964,
          1964,
          1964,
          1964,
          1964,
          1965,
          1965,
          1965,
          1965,
          1966,
          1966,
          1966,
          1966,
          1966,
          1966,
          1967,
          1967,
          1967,
          1967,
          1967,
          1967,
          1967,
          1967,
          1967,
          1967,
          1967,
          1968,
          1968,
          1968,
          1968,
          1968,
          1968,
          1968,
          1968,
          1969,
          1969,
          1969,
          1969,
          1970,
          1970,
          1970,
          1971,
          1971,
          1971,
          1971,
          1971,
          1971,
          1971,
          1971,
          1972,
          1972,
          1972,
          1972,
          1972,
          1972,
          1972,
          1972,
          1973,
          1973,
          1973,
          1973,
          1973,
          1973,
          1973,
          1973,
          1973,
          1973,
          1973,
          1974,
          1974,
          1974,
          1974,
          1974,
          1974,
          1975,
          1975,
          1975,
          1975,
          1975,
          1975,
          1975,
          1975,
          1975,
          1975,
          1975,
          1976,
          1976,
          1976,
          1976,
          1976,
          1976,
          1977,
          1977,
          1977,
          1978,
          1978,
          1978,
          1978,
          1978,
          1979,
          1979,
          1979,
          1979,
          1979,
          1979,
          1979,
          1979,
          1980,
          1980,
          1980,
          1980,
          1980,
          1980,
          1980,
          1980,
          1981,
          1981,
          1981,
          1982,
          1982,
          1982,
          1982,
          1982,
          1982,
          1982,
          1982,
          1982,
          1982,
          1982,
          1983,
          1983,
          1983,
          1983,
          1983,
          1983,
          1984,
          1984,
          1984,
          1984,
          1984,
          1984,
          1984,
          1984,
          1985,
          1985,
          1985,
          1985,
          1985,
          1985,
          1985,
          1985,
          1985,
          1986,
          1986,
          1986,
          1986,
          1986,
          1986,
          1986,
          1986,
          1986,
          1986,
          1986,
          1986,
          1987,
          1987,
          1987,
          1987,
          1987,
          1987,
          1987,
          1987,
          1987,
          1987,
          1987,
          1988,
          1988,
          1988,
          1988,
          1988,
          1988,
          1988,
          1988,
          1988,
          1988,
          1988,
          1989,
          1989,
          1989,
          1989,
          1989,
          1989,
          1989,
          1989,
          1989,
          1989,
          1989,
          1990,
          1990,
          1990,
          1990,
          1990,
          1990,
          1990,
          1990,
          1990,
          1991,
          1991,
          1991,
          1991,
          1991,
          1991,
          1991,
          1991,
          1991,
          1991,
          1992,
          1992,
          1992,
          1992,
          1992,
          1992,
          1992,
          1992,
          1992,
          1992,
          1992,
          1992,
          1993,
          1993,
          1993,
          1993,
          1993,
          1993,
          1993,
          1993,
          1993,
          1993,
          1993,
          1993,
          1993,
          1993,
          1993,
          1993,
          1993,
          1993,
          1993,
          1993,
          1993,
          1994,
          1994,
          1994,
          1994,
          1994,
          1994,
          1994,
          1994,
          1994,
          1994,
          1994,
          1994,
          1994,
          1995,
          1995,
          1995,
          1995,
          1995,
          1995,
          1995,
          1995,
          1995,
          1995,
          1995,
          1995,
          1995,
          1995,
          1995,
          1995,
          1995,
          1996,
          1996,
          1996,
          1996,
          1996,
          1996,
          1996,
          1996,
          1996,
          1997,
          1997,
          1997,
          1997,
          1997,
          1997,
          1997,
          1997,
          1997,
          1997,
          1997,
          1997,
          1997,
          1997,
          1997,
          1997,
          1997,
          1997,
          1997,
          1998,
          1998,
          1998,
          1998,
          1998,
          1998,
          1998,
          1998,
          1998,
          1998,
          1998,
          1998,
          1998,
          1998,
          1998,
          1998,
          1998,
          1999,
          1999,
          1999,
          1999,
          1999,
          1999,
          1999,
          1999,
          1999,
          1999,
          1999,
          1999,
          1999,
          1999,
          1999,
          1999,
          1999,
          2000,
          2000,
          2000,
          2000,
          2000,
          2000,
          2000,
          2000,
          2000,
          2000,
          2000,
          2000,
          2000,
          2000,
          2000,
          2000,
          2000,
          2000,
          2001,
          2001,
          2001,
          2001,
          2001,
          2001,
          2001,
          2001,
          2001,
          2001,
          2001,
          2001,
          2001,
          2001,
          2001,
          2001,
          2001,
          2001,
          2001,
          2001,
          2001,
          2001,
          2001,
          2001,
          2001,
          2001,
          2002,
          2002,
          2002,
          2002,
          2002,
          2002,
          2002,
          2002,
          2002,
          2002,
          2002,
          2002,
          2002,
          2002,
          2002,
          2002,
          2003,
          2003,
          2003,
          2003,
          2003,
          2003,
          2003,
          2003,
          2003,
          2003,
          2003,
          2003,
          2003,
          2003,
          2003,
          2003,
          2003,
          2003,
          2003,
          2003,
          2003,
          2003,
          2004,
          2004,
          2004,
          2004,
          2004,
          2004,
          2004,
          2004,
          2004,
          2004,
          2004,
          2004,
          2004,
          2004,
          2004,
          2004,
          2004,
          2004,
          2004,
          2004,
          2004,
          2004,
          2004,
          2004,
          2004,
          2004,
          2004,
          2004,
          2004,
          2004,
          2004,
          2004,
          2005,
          2005,
          2005,
          2005,
          2005,
          2005,
          2005,
          2005,
          2005,
          2005,
          2005,
          2005,
          2005,
          2005,
          2005,
          2005,
          2005,
          2006,
          2006,
          2006,
          2006,
          2006,
          2006,
          2006,
          2006,
          2006,
          2006,
          2006,
          2006,
          2006,
          2006,
          2006,
          2006,
          2006,
          2006,
          2006,
          2006,
          2006,
          2006,
          2006,
          2006,
          2006,
          2007,
          2007,
          2007,
          2007,
          2007,
          2007,
          2007,
          2007,
          2007,
          2007,
          2007,
          2007,
          2007,
          2007,
          2007,
          2007,
          2007,
          2007,
          2007,
          2007,
          2007,
          2007,
          2007,
          2007,
          2007,
          2008,
          2008,
          2008,
          2008,
          2008,
          2008,
          2008,
          2008,
          2008,
          2008,
          2008,
          2008,
          2008,
          2008,
          2008,
          2008,
          2008,
          2008,
          2008,
          2008,
          2009,
          2009,
          2009,
          2009,
          2009,
          2009,
          2009,
          2009,
          2009,
          2009,
          2009,
          2009,
          2009,
          2009,
          2009,
          2009,
          2009,
          2009,
          2009,
          2009,
          2009,
          2009,
          2009,
          2009,
          2009,
          2009,
          2010,
          2010,
          2010,
          2010,
          2010,
          2010,
          2010,
          2010,
          2010,
          2010,
          2010,
          2010,
          2010,
          2010,
          2010,
          2010,
          2010,
          2010,
          2010,
          2010,
          2010,
          2011,
          2011,
          2011,
          2011,
          2011,
          2011,
          2011,
          2011,
          2011,
          2011,
          2011,
          2011,
          2011,
          2011,
          2011,
          2011,
          2011,
          2012,
          2012,
          2012,
          2012,
          2012,
          2012,
          2012,
          2012,
          2012,
          2012,
          2012,
          2012,
          2012,
          2012,
          2012,
          2012,
          2012,
          2012,
          2012,
          2012,
          2012,
          2012,
          2012,
          2013,
          2013,
          2013,
          2013,
          2013,
          2013,
          2013,
          2013,
          2013,
          2013,
          2013,
          2013,
          2013,
          2013,
          2013,
          2013,
          2013,
          2013,
          2013,
          2013,
          2013,
          2013,
          2013,
          2013,
          2013,
          2013,
          2013,
          2014,
          2014,
          2014,
          2014,
          2014,
          2014,
          2014,
          2014,
          2014,
          2014,
          2014,
          2014,
          2014,
          2014,
          2014,
          2014,
          2014,
          2014,
          2014,
          2014,
          2014,
          2014,
          2014,
          2014,
          2014,
          2014,
          2014,
          2014,
          2014,
          2014,
          2014,
          2014,
          2015,
          2015,
          2015,
          2015,
          2015,
          2015,
          2015,
          2015,
          2015,
          2015,
          2015,
          2015,
          2015,
          2015,
          2015,
          2015,
          2015,
          2015,
          2015,
          2015,
          2015,
          2015,
          2015,
          2015,
          2016,
          2016,
          2016,
          2016,
          2016,
          2016,
          2016,
          2016,
          2016,
          2016,
          2016,
          2016,
          2016,
          2016,
          2016,
          2016,
          2016,
          2016,
          2016,
          2016,
          2016,
          2016,
          2016,
          2016,
          2016,
          2016,
          2016,
          2016,
          2017,
          2017,
          2017,
          2017,
          2017,
          2017,
          2017,
          2017,
          2017,
          2017,
          2017,
          2017,
          2017,
          2017,
          2017,
          2017,
          2017,
          2018,
          2018,
          2018,
          2018,
          2018,
          2018,
          2018,
          2018,
          2018,
          2018,
          2018,
          2018,
          2018,
          2018,
          2018,
          2018,
          2018,
          2018,
          2018,
          2018,
          2018,
          2019,
          2019,
          2019,
          2019,
          2019,
          2019,
          2019,
          2019,
          2019,
          2019,
          2019,
          2019,
          2019,
          2019,
          2019,
          2019,
          2019,
          2019,
          2019,
          2019,
          2019,
          2019,
          2019,
          2019,
          2019,
          2019,
          2020,
          2020,
          2020,
          2020,
          2020,
          2020,
          2020,
          2020,
          2021,
          2021,
          2021,
          2021,
          2021,
          2021,
          2021,
          2021,
          2021,
          2021,
          2022,
          2022,
          2022,
          2022,
          2022,
          2022,
          2022
         ],
         "xaxis": "x",
         "yaxis": "y"
        }
       ],
       "layout": {
        "bargap": 0.2,
        "barmode": "relative",
        "font": {
         "color": "white",
         "family": "Lato",
         "size": 18
        },
        "legend": {
         "tracegroupgap": 0
        },
        "margin": {
         "t": 60
        },
        "paper_bgcolor": "black",
        "plot_bgcolor": "black",
        "template": {
         "data": {
          "bar": [
           {
            "error_x": {
             "color": "#2a3f5f"
            },
            "error_y": {
             "color": "#2a3f5f"
            },
            "marker": {
             "line": {
              "color": "#E5ECF6",
              "width": 0.5
             },
             "pattern": {
              "fillmode": "overlay",
              "size": 10,
              "solidity": 0.2
             }
            },
            "type": "bar"
           }
          ],
          "barpolar": [
           {
            "marker": {
             "line": {
              "color": "#E5ECF6",
              "width": 0.5
             },
             "pattern": {
              "fillmode": "overlay",
              "size": 10,
              "solidity": 0.2
             }
            },
            "type": "barpolar"
           }
          ],
          "carpet": [
           {
            "aaxis": {
             "endlinecolor": "#2a3f5f",
             "gridcolor": "white",
             "linecolor": "white",
             "minorgridcolor": "white",
             "startlinecolor": "#2a3f5f"
            },
            "baxis": {
             "endlinecolor": "#2a3f5f",
             "gridcolor": "white",
             "linecolor": "white",
             "minorgridcolor": "white",
             "startlinecolor": "#2a3f5f"
            },
            "type": "carpet"
           }
          ],
          "choropleth": [
           {
            "colorbar": {
             "outlinewidth": 0,
             "ticks": ""
            },
            "type": "choropleth"
           }
          ],
          "contour": [
           {
            "colorbar": {
             "outlinewidth": 0,
             "ticks": ""
            },
            "colorscale": [
             [
              0,
              "#0d0887"
             ],
             [
              0.1111111111111111,
              "#46039f"
             ],
             [
              0.2222222222222222,
              "#7201a8"
             ],
             [
              0.3333333333333333,
              "#9c179e"
             ],
             [
              0.4444444444444444,
              "#bd3786"
             ],
             [
              0.5555555555555556,
              "#d8576b"
             ],
             [
              0.6666666666666666,
              "#ed7953"
             ],
             [
              0.7777777777777778,
              "#fb9f3a"
             ],
             [
              0.8888888888888888,
              "#fdca26"
             ],
             [
              1,
              "#f0f921"
             ]
            ],
            "type": "contour"
           }
          ],
          "contourcarpet": [
           {
            "colorbar": {
             "outlinewidth": 0,
             "ticks": ""
            },
            "type": "contourcarpet"
           }
          ],
          "heatmap": [
           {
            "colorbar": {
             "outlinewidth": 0,
             "ticks": ""
            },
            "colorscale": [
             [
              0,
              "#0d0887"
             ],
             [
              0.1111111111111111,
              "#46039f"
             ],
             [
              0.2222222222222222,
              "#7201a8"
             ],
             [
              0.3333333333333333,
              "#9c179e"
             ],
             [
              0.4444444444444444,
              "#bd3786"
             ],
             [
              0.5555555555555556,
              "#d8576b"
             ],
             [
              0.6666666666666666,
              "#ed7953"
             ],
             [
              0.7777777777777778,
              "#fb9f3a"
             ],
             [
              0.8888888888888888,
              "#fdca26"
             ],
             [
              1,
              "#f0f921"
             ]
            ],
            "type": "heatmap"
           }
          ],
          "heatmapgl": [
           {
            "colorbar": {
             "outlinewidth": 0,
             "ticks": ""
            },
            "colorscale": [
             [
              0,
              "#0d0887"
             ],
             [
              0.1111111111111111,
              "#46039f"
             ],
             [
              0.2222222222222222,
              "#7201a8"
             ],
             [
              0.3333333333333333,
              "#9c179e"
             ],
             [
              0.4444444444444444,
              "#bd3786"
             ],
             [
              0.5555555555555556,
              "#d8576b"
             ],
             [
              0.6666666666666666,
              "#ed7953"
             ],
             [
              0.7777777777777778,
              "#fb9f3a"
             ],
             [
              0.8888888888888888,
              "#fdca26"
             ],
             [
              1,
              "#f0f921"
             ]
            ],
            "type": "heatmapgl"
           }
          ],
          "histogram": [
           {
            "marker": {
             "pattern": {
              "fillmode": "overlay",
              "size": 10,
              "solidity": 0.2
             }
            },
            "type": "histogram"
           }
          ],
          "histogram2d": [
           {
            "colorbar": {
             "outlinewidth": 0,
             "ticks": ""
            },
            "colorscale": [
             [
              0,
              "#0d0887"
             ],
             [
              0.1111111111111111,
              "#46039f"
             ],
             [
              0.2222222222222222,
              "#7201a8"
             ],
             [
              0.3333333333333333,
              "#9c179e"
             ],
             [
              0.4444444444444444,
              "#bd3786"
             ],
             [
              0.5555555555555556,
              "#d8576b"
             ],
             [
              0.6666666666666666,
              "#ed7953"
             ],
             [
              0.7777777777777778,
              "#fb9f3a"
             ],
             [
              0.8888888888888888,
              "#fdca26"
             ],
             [
              1,
              "#f0f921"
             ]
            ],
            "type": "histogram2d"
           }
          ],
          "histogram2dcontour": [
           {
            "colorbar": {
             "outlinewidth": 0,
             "ticks": ""
            },
            "colorscale": [
             [
              0,
              "#0d0887"
             ],
             [
              0.1111111111111111,
              "#46039f"
             ],
             [
              0.2222222222222222,
              "#7201a8"
             ],
             [
              0.3333333333333333,
              "#9c179e"
             ],
             [
              0.4444444444444444,
              "#bd3786"
             ],
             [
              0.5555555555555556,
              "#d8576b"
             ],
             [
              0.6666666666666666,
              "#ed7953"
             ],
             [
              0.7777777777777778,
              "#fb9f3a"
             ],
             [
              0.8888888888888888,
              "#fdca26"
             ],
             [
              1,
              "#f0f921"
             ]
            ],
            "type": "histogram2dcontour"
           }
          ],
          "mesh3d": [
           {
            "colorbar": {
             "outlinewidth": 0,
             "ticks": ""
            },
            "type": "mesh3d"
           }
          ],
          "parcoords": [
           {
            "line": {
             "colorbar": {
              "outlinewidth": 0,
              "ticks": ""
             }
            },
            "type": "parcoords"
           }
          ],
          "pie": [
           {
            "automargin": true,
            "type": "pie"
           }
          ],
          "scatter": [
           {
            "marker": {
             "colorbar": {
              "outlinewidth": 0,
              "ticks": ""
             }
            },
            "type": "scatter"
           }
          ],
          "scatter3d": [
           {
            "line": {
             "colorbar": {
              "outlinewidth": 0,
              "ticks": ""
             }
            },
            "marker": {
             "colorbar": {
              "outlinewidth": 0,
              "ticks": ""
             }
            },
            "type": "scatter3d"
           }
          ],
          "scattercarpet": [
           {
            "marker": {
             "colorbar": {
              "outlinewidth": 0,
              "ticks": ""
             }
            },
            "type": "scattercarpet"
           }
          ],
          "scattergeo": [
           {
            "marker": {
             "colorbar": {
              "outlinewidth": 0,
              "ticks": ""
             }
            },
            "type": "scattergeo"
           }
          ],
          "scattergl": [
           {
            "marker": {
             "colorbar": {
              "outlinewidth": 0,
              "ticks": ""
             }
            },
            "type": "scattergl"
           }
          ],
          "scattermapbox": [
           {
            "marker": {
             "colorbar": {
              "outlinewidth": 0,
              "ticks": ""
             }
            },
            "type": "scattermapbox"
           }
          ],
          "scatterpolar": [
           {
            "marker": {
             "colorbar": {
              "outlinewidth": 0,
              "ticks": ""
             }
            },
            "type": "scatterpolar"
           }
          ],
          "scatterpolargl": [
           {
            "marker": {
             "colorbar": {
              "outlinewidth": 0,
              "ticks": ""
             }
            },
            "type": "scatterpolargl"
           }
          ],
          "scatterternary": [
           {
            "marker": {
             "colorbar": {
              "outlinewidth": 0,
              "ticks": ""
             }
            },
            "type": "scatterternary"
           }
          ],
          "surface": [
           {
            "colorbar": {
             "outlinewidth": 0,
             "ticks": ""
            },
            "colorscale": [
             [
              0,
              "#0d0887"
             ],
             [
              0.1111111111111111,
              "#46039f"
             ],
             [
              0.2222222222222222,
              "#7201a8"
             ],
             [
              0.3333333333333333,
              "#9c179e"
             ],
             [
              0.4444444444444444,
              "#bd3786"
             ],
             [
              0.5555555555555556,
              "#d8576b"
             ],
             [
              0.6666666666666666,
              "#ed7953"
             ],
             [
              0.7777777777777778,
              "#fb9f3a"
             ],
             [
              0.8888888888888888,
              "#fdca26"
             ],
             [
              1,
              "#f0f921"
             ]
            ],
            "type": "surface"
           }
          ],
          "table": [
           {
            "cells": {
             "fill": {
              "color": "#EBF0F8"
             },
             "line": {
              "color": "white"
             }
            },
            "header": {
             "fill": {
              "color": "#C8D4E3"
             },
             "line": {
              "color": "white"
             }
            },
            "type": "table"
           }
          ]
         },
         "layout": {
          "annotationdefaults": {
           "arrowcolor": "#2a3f5f",
           "arrowhead": 0,
           "arrowwidth": 1
          },
          "autotypenumbers": "strict",
          "coloraxis": {
           "colorbar": {
            "outlinewidth": 0,
            "ticks": ""
           }
          },
          "colorscale": {
           "diverging": [
            [
             0,
             "#8e0152"
            ],
            [
             0.1,
             "#c51b7d"
            ],
            [
             0.2,
             "#de77ae"
            ],
            [
             0.3,
             "#f1b6da"
            ],
            [
             0.4,
             "#fde0ef"
            ],
            [
             0.5,
             "#f7f7f7"
            ],
            [
             0.6,
             "#e6f5d0"
            ],
            [
             0.7,
             "#b8e186"
            ],
            [
             0.8,
             "#7fbc41"
            ],
            [
             0.9,
             "#4d9221"
            ],
            [
             1,
             "#276419"
            ]
           ],
           "sequential": [
            [
             0,
             "#0d0887"
            ],
            [
             0.1111111111111111,
             "#46039f"
            ],
            [
             0.2222222222222222,
             "#7201a8"
            ],
            [
             0.3333333333333333,
             "#9c179e"
            ],
            [
             0.4444444444444444,
             "#bd3786"
            ],
            [
             0.5555555555555556,
             "#d8576b"
            ],
            [
             0.6666666666666666,
             "#ed7953"
            ],
            [
             0.7777777777777778,
             "#fb9f3a"
            ],
            [
             0.8888888888888888,
             "#fdca26"
            ],
            [
             1,
             "#f0f921"
            ]
           ],
           "sequentialminus": [
            [
             0,
             "#0d0887"
            ],
            [
             0.1111111111111111,
             "#46039f"
            ],
            [
             0.2222222222222222,
             "#7201a8"
            ],
            [
             0.3333333333333333,
             "#9c179e"
            ],
            [
             0.4444444444444444,
             "#bd3786"
            ],
            [
             0.5555555555555556,
             "#d8576b"
            ],
            [
             0.6666666666666666,
             "#ed7953"
            ],
            [
             0.7777777777777778,
             "#fb9f3a"
            ],
            [
             0.8888888888888888,
             "#fdca26"
            ],
            [
             1,
             "#f0f921"
            ]
           ]
          },
          "colorway": [
           "#636efa",
           "#EF553B",
           "#00cc96",
           "#ab63fa",
           "#FFA15A",
           "#19d3f3",
           "#FF6692",
           "#B6E880",
           "#FF97FF",
           "#FECB52"
          ],
          "font": {
           "color": "#2a3f5f"
          },
          "geo": {
           "bgcolor": "white",
           "lakecolor": "white",
           "landcolor": "#E5ECF6",
           "showlakes": true,
           "showland": true,
           "subunitcolor": "white"
          },
          "hoverlabel": {
           "align": "left"
          },
          "hovermode": "closest",
          "mapbox": {
           "style": "light"
          },
          "paper_bgcolor": "white",
          "plot_bgcolor": "#E5ECF6",
          "polar": {
           "angularaxis": {
            "gridcolor": "white",
            "linecolor": "white",
            "ticks": ""
           },
           "bgcolor": "#E5ECF6",
           "radialaxis": {
            "gridcolor": "white",
            "linecolor": "white",
            "ticks": ""
           }
          },
          "scene": {
           "xaxis": {
            "backgroundcolor": "#E5ECF6",
            "gridcolor": "white",
            "gridwidth": 2,
            "linecolor": "white",
            "showbackground": true,
            "ticks": "",
            "zerolinecolor": "white"
           },
           "yaxis": {
            "backgroundcolor": "#E5ECF6",
            "gridcolor": "white",
            "gridwidth": 2,
            "linecolor": "white",
            "showbackground": true,
            "ticks": "",
            "zerolinecolor": "white"
           },
           "zaxis": {
            "backgroundcolor": "#E5ECF6",
            "gridcolor": "white",
            "gridwidth": 2,
            "linecolor": "white",
            "showbackground": true,
            "ticks": "",
            "zerolinecolor": "white"
           }
          },
          "shapedefaults": {
           "line": {
            "color": "#2a3f5f"
           }
          },
          "ternary": {
           "aaxis": {
            "gridcolor": "white",
            "linecolor": "white",
            "ticks": ""
           },
           "baxis": {
            "gridcolor": "white",
            "linecolor": "white",
            "ticks": ""
           },
           "bgcolor": "#E5ECF6",
           "caxis": {
            "gridcolor": "white",
            "linecolor": "white",
            "ticks": ""
           }
          },
          "title": {
           "x": 0.05
          },
          "xaxis": {
           "automargin": true,
           "gridcolor": "white",
           "linecolor": "white",
           "ticks": "",
           "title": {
            "standoff": 15
           },
           "zerolinecolor": "white",
           "zerolinewidth": 2
          },
          "yaxis": {
           "automargin": true,
           "gridcolor": "white",
           "linecolor": "white",
           "ticks": "",
           "title": {
            "standoff": 15
           },
           "zerolinecolor": "white",
           "zerolinewidth": 2
          }
         }
        },
        "title": {
         "font": {
          "size": 30
         },
         "text": "<b>Distributions of IMBD movies from<b> 1920 - now",
         "x": 0.5
        },
        "xaxis": {
         "anchor": "y",
         "domain": [
          0,
          1
         ],
         "showgrid": false,
         "title": {
          "text": "Year of release"
         }
        },
        "yaxis": {
         "anchor": "x",
         "domain": [
          0,
          1
         ],
         "showgrid": false,
         "title": {
          "text": "count"
         }
        }
       }
      },
      "text/html": [
       "<div>                            <div id=\"e9994bf8-ab65-4250-a063-1fcf066419d3\" class=\"plotly-graph-div\" style=\"height:525px; width:100%;\"></div>            <script type=\"text/javascript\">                require([\"plotly\"], function(Plotly) {                    window.PLOTLYENV=window.PLOTLYENV || {};                                    if (document.getElementById(\"e9994bf8-ab65-4250-a063-1fcf066419d3\")) {                    Plotly.newPlot(                        \"e9994bf8-ab65-4250-a063-1fcf066419d3\",                        [{\"alignmentgroup\":\"True\",\"bingroup\":\"x\",\"hovertemplate\":\"Release Year=%{x}<br>count=%{y}<extra></extra>\",\"legendgroup\":\"\",\"marker\":{\"color\":\"gold\",\"pattern\":{\"shape\":\"\"}},\"name\":\"\",\"nbinsx\":103,\"offsetgroup\":\"\",\"orientation\":\"v\",\"showlegend\":false,\"type\":\"histogram\",\"x\":[1920,1921,1922,1924,1925,1925,1926,1927,1927,1928,1928,1930,1931,1931,1931,1932,1932,1933,1933,1933,1934,1934,1935,1935,1935,1936,1937,1937,1938,1938,1938,1938,1939,1939,1939,1939,1939,1940,1940,1940,1940,1940,1940,1940,1941,1941,1941,1942,1942,1943,1943,1944,1944,1944,1944,1945,1945,1945,1945,1946,1946,1946,1946,1946,1947,1947,1948,1948,1948,1948,1948,1948,1949,1949,1949,1950,1950,1950,1950,1950,1950,1951,1951,1951,1951,1951,1952,1952,1952,1952,1952,1953,1953,1953,1953,1953,1953,1954,1954,1954,1954,1954,1954,1954,1955,1955,1955,1955,1955,1955,1956,1956,1956,1956,1957,1957,1957,1957,1957,1957,1957,1957,1957,1958,1958,1958,1958,1958,1959,1959,1959,1959,1959,1959,1959,1960,1960,1960,1960,1960,1960,1960,1960,1960,1960,1961,1961,1961,1961,1961,1962,1962,1962,1962,1962,1962,1962,1962,1962,1962,1962,1962,1962,1963,1963,1963,1963,1963,1963,1964,1964,1964,1964,1964,1964,1964,1965,1965,1965,1965,1966,1966,1966,1966,1966,1966,1967,1967,1967,1967,1967,1967,1967,1967,1967,1967,1967,1968,1968,1968,1968,1968,1968,1968,1968,1969,1969,1969,1969,1970,1970,1970,1971,1971,1971,1971,1971,1971,1971,1971,1972,1972,1972,1972,1972,1972,1972,1972,1973,1973,1973,1973,1973,1973,1973,1973,1973,1973,1973,1974,1974,1974,1974,1974,1974,1975,1975,1975,1975,1975,1975,1975,1975,1975,1975,1975,1976,1976,1976,1976,1976,1976,1977,1977,1977,1978,1978,1978,1978,1978,1979,1979,1979,1979,1979,1979,1979,1979,1980,1980,1980,1980,1980,1980,1980,1980,1981,1981,1981,1982,1982,1982,1982,1982,1982,1982,1982,1982,1982,1982,1983,1983,1983,1983,1983,1983,1984,1984,1984,1984,1984,1984,1984,1984,1985,1985,1985,1985,1985,1985,1985,1985,1985,1986,1986,1986,1986,1986,1986,1986,1986,1986,1986,1986,1986,1987,1987,1987,1987,1987,1987,1987,1987,1987,1987,1987,1988,1988,1988,1988,1988,1988,1988,1988,1988,1988,1988,1989,1989,1989,1989,1989,1989,1989,1989,1989,1989,1989,1990,1990,1990,1990,1990,1990,1990,1990,1990,1991,1991,1991,1991,1991,1991,1991,1991,1991,1991,1992,1992,1992,1992,1992,1992,1992,1992,1992,1992,1992,1992,1993,1993,1993,1993,1993,1993,1993,1993,1993,1993,1993,1993,1993,1993,1993,1993,1993,1993,1993,1993,1993,1994,1994,1994,1994,1994,1994,1994,1994,1994,1994,1994,1994,1994,1995,1995,1995,1995,1995,1995,1995,1995,1995,1995,1995,1995,1995,1995,1995,1995,1995,1996,1996,1996,1996,1996,1996,1996,1996,1996,1997,1997,1997,1997,1997,1997,1997,1997,1997,1997,1997,1997,1997,1997,1997,1997,1997,1997,1997,1998,1998,1998,1998,1998,1998,1998,1998,1998,1998,1998,1998,1998,1998,1998,1998,1998,1999,1999,1999,1999,1999,1999,1999,1999,1999,1999,1999,1999,1999,1999,1999,1999,1999,2000,2000,2000,2000,2000,2000,2000,2000,2000,2000,2000,2000,2000,2000,2000,2000,2000,2000,2001,2001,2001,2001,2001,2001,2001,2001,2001,2001,2001,2001,2001,2001,2001,2001,2001,2001,2001,2001,2001,2001,2001,2001,2001,2001,2002,2002,2002,2002,2002,2002,2002,2002,2002,2002,2002,2002,2002,2002,2002,2002,2003,2003,2003,2003,2003,2003,2003,2003,2003,2003,2003,2003,2003,2003,2003,2003,2003,2003,2003,2003,2003,2003,2004,2004,2004,2004,2004,2004,2004,2004,2004,2004,2004,2004,2004,2004,2004,2004,2004,2004,2004,2004,2004,2004,2004,2004,2004,2004,2004,2004,2004,2004,2004,2004,2005,2005,2005,2005,2005,2005,2005,2005,2005,2005,2005,2005,2005,2005,2005,2005,2005,2006,2006,2006,2006,2006,2006,2006,2006,2006,2006,2006,2006,2006,2006,2006,2006,2006,2006,2006,2006,2006,2006,2006,2006,2006,2007,2007,2007,2007,2007,2007,2007,2007,2007,2007,2007,2007,2007,2007,2007,2007,2007,2007,2007,2007,2007,2007,2007,2007,2007,2008,2008,2008,2008,2008,2008,2008,2008,2008,2008,2008,2008,2008,2008,2008,2008,2008,2008,2008,2008,2009,2009,2009,2009,2009,2009,2009,2009,2009,2009,2009,2009,2009,2009,2009,2009,2009,2009,2009,2009,2009,2009,2009,2009,2009,2009,2010,2010,2010,2010,2010,2010,2010,2010,2010,2010,2010,2010,2010,2010,2010,2010,2010,2010,2010,2010,2010,2011,2011,2011,2011,2011,2011,2011,2011,2011,2011,2011,2011,2011,2011,2011,2011,2011,2012,2012,2012,2012,2012,2012,2012,2012,2012,2012,2012,2012,2012,2012,2012,2012,2012,2012,2012,2012,2012,2012,2012,2013,2013,2013,2013,2013,2013,2013,2013,2013,2013,2013,2013,2013,2013,2013,2013,2013,2013,2013,2013,2013,2013,2013,2013,2013,2013,2013,2014,2014,2014,2014,2014,2014,2014,2014,2014,2014,2014,2014,2014,2014,2014,2014,2014,2014,2014,2014,2014,2014,2014,2014,2014,2014,2014,2014,2014,2014,2014,2014,2015,2015,2015,2015,2015,2015,2015,2015,2015,2015,2015,2015,2015,2015,2015,2015,2015,2015,2015,2015,2015,2015,2015,2015,2016,2016,2016,2016,2016,2016,2016,2016,2016,2016,2016,2016,2016,2016,2016,2016,2016,2016,2016,2016,2016,2016,2016,2016,2016,2016,2016,2016,2017,2017,2017,2017,2017,2017,2017,2017,2017,2017,2017,2017,2017,2017,2017,2017,2017,2018,2018,2018,2018,2018,2018,2018,2018,2018,2018,2018,2018,2018,2018,2018,2018,2018,2018,2018,2018,2018,2019,2019,2019,2019,2019,2019,2019,2019,2019,2019,2019,2019,2019,2019,2019,2019,2019,2019,2019,2019,2019,2019,2019,2019,2019,2019,2020,2020,2020,2020,2020,2020,2020,2020,2021,2021,2021,2021,2021,2021,2021,2021,2021,2021,2022,2022,2022,2022,2022,2022,2022],\"xaxis\":\"x\",\"yaxis\":\"y\"}],                        {\"bargap\":0.2,\"barmode\":\"relative\",\"font\":{\"color\":\"white\",\"family\":\"Lato\",\"size\":18},\"legend\":{\"tracegroupgap\":0},\"margin\":{\"t\":60},\"paper_bgcolor\":\"black\",\"plot_bgcolor\":\"black\",\"template\":{\"data\":{\"bar\":[{\"error_x\":{\"color\":\"#2a3f5f\"},\"error_y\":{\"color\":\"#2a3f5f\"},\"marker\":{\"line\":{\"color\":\"#E5ECF6\",\"width\":0.5},\"pattern\":{\"fillmode\":\"overlay\",\"size\":10,\"solidity\":0.2}},\"type\":\"bar\"}],\"barpolar\":[{\"marker\":{\"line\":{\"color\":\"#E5ECF6\",\"width\":0.5},\"pattern\":{\"fillmode\":\"overlay\",\"size\":10,\"solidity\":0.2}},\"type\":\"barpolar\"}],\"carpet\":[{\"aaxis\":{\"endlinecolor\":\"#2a3f5f\",\"gridcolor\":\"white\",\"linecolor\":\"white\",\"minorgridcolor\":\"white\",\"startlinecolor\":\"#2a3f5f\"},\"baxis\":{\"endlinecolor\":\"#2a3f5f\",\"gridcolor\":\"white\",\"linecolor\":\"white\",\"minorgridcolor\":\"white\",\"startlinecolor\":\"#2a3f5f\"},\"type\":\"carpet\"}],\"choropleth\":[{\"colorbar\":{\"outlinewidth\":0,\"ticks\":\"\"},\"type\":\"choropleth\"}],\"contour\":[{\"colorbar\":{\"outlinewidth\":0,\"ticks\":\"\"},\"colorscale\":[[0.0,\"#0d0887\"],[0.1111111111111111,\"#46039f\"],[0.2222222222222222,\"#7201a8\"],[0.3333333333333333,\"#9c179e\"],[0.4444444444444444,\"#bd3786\"],[0.5555555555555556,\"#d8576b\"],[0.6666666666666666,\"#ed7953\"],[0.7777777777777778,\"#fb9f3a\"],[0.8888888888888888,\"#fdca26\"],[1.0,\"#f0f921\"]],\"type\":\"contour\"}],\"contourcarpet\":[{\"colorbar\":{\"outlinewidth\":0,\"ticks\":\"\"},\"type\":\"contourcarpet\"}],\"heatmap\":[{\"colorbar\":{\"outlinewidth\":0,\"ticks\":\"\"},\"colorscale\":[[0.0,\"#0d0887\"],[0.1111111111111111,\"#46039f\"],[0.2222222222222222,\"#7201a8\"],[0.3333333333333333,\"#9c179e\"],[0.4444444444444444,\"#bd3786\"],[0.5555555555555556,\"#d8576b\"],[0.6666666666666666,\"#ed7953\"],[0.7777777777777778,\"#fb9f3a\"],[0.8888888888888888,\"#fdca26\"],[1.0,\"#f0f921\"]],\"type\":\"heatmap\"}],\"heatmapgl\":[{\"colorbar\":{\"outlinewidth\":0,\"ticks\":\"\"},\"colorscale\":[[0.0,\"#0d0887\"],[0.1111111111111111,\"#46039f\"],[0.2222222222222222,\"#7201a8\"],[0.3333333333333333,\"#9c179e\"],[0.4444444444444444,\"#bd3786\"],[0.5555555555555556,\"#d8576b\"],[0.6666666666666666,\"#ed7953\"],[0.7777777777777778,\"#fb9f3a\"],[0.8888888888888888,\"#fdca26\"],[1.0,\"#f0f921\"]],\"type\":\"heatmapgl\"}],\"histogram\":[{\"marker\":{\"pattern\":{\"fillmode\":\"overlay\",\"size\":10,\"solidity\":0.2}},\"type\":\"histogram\"}],\"histogram2d\":[{\"colorbar\":{\"outlinewidth\":0,\"ticks\":\"\"},\"colorscale\":[[0.0,\"#0d0887\"],[0.1111111111111111,\"#46039f\"],[0.2222222222222222,\"#7201a8\"],[0.3333333333333333,\"#9c179e\"],[0.4444444444444444,\"#bd3786\"],[0.5555555555555556,\"#d8576b\"],[0.6666666666666666,\"#ed7953\"],[0.7777777777777778,\"#fb9f3a\"],[0.8888888888888888,\"#fdca26\"],[1.0,\"#f0f921\"]],\"type\":\"histogram2d\"}],\"histogram2dcontour\":[{\"colorbar\":{\"outlinewidth\":0,\"ticks\":\"\"},\"colorscale\":[[0.0,\"#0d0887\"],[0.1111111111111111,\"#46039f\"],[0.2222222222222222,\"#7201a8\"],[0.3333333333333333,\"#9c179e\"],[0.4444444444444444,\"#bd3786\"],[0.5555555555555556,\"#d8576b\"],[0.6666666666666666,\"#ed7953\"],[0.7777777777777778,\"#fb9f3a\"],[0.8888888888888888,\"#fdca26\"],[1.0,\"#f0f921\"]],\"type\":\"histogram2dcontour\"}],\"mesh3d\":[{\"colorbar\":{\"outlinewidth\":0,\"ticks\":\"\"},\"type\":\"mesh3d\"}],\"parcoords\":[{\"line\":{\"colorbar\":{\"outlinewidth\":0,\"ticks\":\"\"}},\"type\":\"parcoords\"}],\"pie\":[{\"automargin\":true,\"type\":\"pie\"}],\"scatter\":[{\"marker\":{\"colorbar\":{\"outlinewidth\":0,\"ticks\":\"\"}},\"type\":\"scatter\"}],\"scatter3d\":[{\"line\":{\"colorbar\":{\"outlinewidth\":0,\"ticks\":\"\"}},\"marker\":{\"colorbar\":{\"outlinewidth\":0,\"ticks\":\"\"}},\"type\":\"scatter3d\"}],\"scattercarpet\":[{\"marker\":{\"colorbar\":{\"outlinewidth\":0,\"ticks\":\"\"}},\"type\":\"scattercarpet\"}],\"scattergeo\":[{\"marker\":{\"colorbar\":{\"outlinewidth\":0,\"ticks\":\"\"}},\"type\":\"scattergeo\"}],\"scattergl\":[{\"marker\":{\"colorbar\":{\"outlinewidth\":0,\"ticks\":\"\"}},\"type\":\"scattergl\"}],\"scattermapbox\":[{\"marker\":{\"colorbar\":{\"outlinewidth\":0,\"ticks\":\"\"}},\"type\":\"scattermapbox\"}],\"scatterpolar\":[{\"marker\":{\"colorbar\":{\"outlinewidth\":0,\"ticks\":\"\"}},\"type\":\"scatterpolar\"}],\"scatterpolargl\":[{\"marker\":{\"colorbar\":{\"outlinewidth\":0,\"ticks\":\"\"}},\"type\":\"scatterpolargl\"}],\"scatterternary\":[{\"marker\":{\"colorbar\":{\"outlinewidth\":0,\"ticks\":\"\"}},\"type\":\"scatterternary\"}],\"surface\":[{\"colorbar\":{\"outlinewidth\":0,\"ticks\":\"\"},\"colorscale\":[[0.0,\"#0d0887\"],[0.1111111111111111,\"#46039f\"],[0.2222222222222222,\"#7201a8\"],[0.3333333333333333,\"#9c179e\"],[0.4444444444444444,\"#bd3786\"],[0.5555555555555556,\"#d8576b\"],[0.6666666666666666,\"#ed7953\"],[0.7777777777777778,\"#fb9f3a\"],[0.8888888888888888,\"#fdca26\"],[1.0,\"#f0f921\"]],\"type\":\"surface\"}],\"table\":[{\"cells\":{\"fill\":{\"color\":\"#EBF0F8\"},\"line\":{\"color\":\"white\"}},\"header\":{\"fill\":{\"color\":\"#C8D4E3\"},\"line\":{\"color\":\"white\"}},\"type\":\"table\"}]},\"layout\":{\"annotationdefaults\":{\"arrowcolor\":\"#2a3f5f\",\"arrowhead\":0,\"arrowwidth\":1},\"autotypenumbers\":\"strict\",\"coloraxis\":{\"colorbar\":{\"outlinewidth\":0,\"ticks\":\"\"}},\"colorscale\":{\"diverging\":[[0,\"#8e0152\"],[0.1,\"#c51b7d\"],[0.2,\"#de77ae\"],[0.3,\"#f1b6da\"],[0.4,\"#fde0ef\"],[0.5,\"#f7f7f7\"],[0.6,\"#e6f5d0\"],[0.7,\"#b8e186\"],[0.8,\"#7fbc41\"],[0.9,\"#4d9221\"],[1,\"#276419\"]],\"sequential\":[[0.0,\"#0d0887\"],[0.1111111111111111,\"#46039f\"],[0.2222222222222222,\"#7201a8\"],[0.3333333333333333,\"#9c179e\"],[0.4444444444444444,\"#bd3786\"],[0.5555555555555556,\"#d8576b\"],[0.6666666666666666,\"#ed7953\"],[0.7777777777777778,\"#fb9f3a\"],[0.8888888888888888,\"#fdca26\"],[1.0,\"#f0f921\"]],\"sequentialminus\":[[0.0,\"#0d0887\"],[0.1111111111111111,\"#46039f\"],[0.2222222222222222,\"#7201a8\"],[0.3333333333333333,\"#9c179e\"],[0.4444444444444444,\"#bd3786\"],[0.5555555555555556,\"#d8576b\"],[0.6666666666666666,\"#ed7953\"],[0.7777777777777778,\"#fb9f3a\"],[0.8888888888888888,\"#fdca26\"],[1.0,\"#f0f921\"]]},\"colorway\":[\"#636efa\",\"#EF553B\",\"#00cc96\",\"#ab63fa\",\"#FFA15A\",\"#19d3f3\",\"#FF6692\",\"#B6E880\",\"#FF97FF\",\"#FECB52\"],\"font\":{\"color\":\"#2a3f5f\"},\"geo\":{\"bgcolor\":\"white\",\"lakecolor\":\"white\",\"landcolor\":\"#E5ECF6\",\"showlakes\":true,\"showland\":true,\"subunitcolor\":\"white\"},\"hoverlabel\":{\"align\":\"left\"},\"hovermode\":\"closest\",\"mapbox\":{\"style\":\"light\"},\"paper_bgcolor\":\"white\",\"plot_bgcolor\":\"#E5ECF6\",\"polar\":{\"angularaxis\":{\"gridcolor\":\"white\",\"linecolor\":\"white\",\"ticks\":\"\"},\"bgcolor\":\"#E5ECF6\",\"radialaxis\":{\"gridcolor\":\"white\",\"linecolor\":\"white\",\"ticks\":\"\"}},\"scene\":{\"xaxis\":{\"backgroundcolor\":\"#E5ECF6\",\"gridcolor\":\"white\",\"gridwidth\":2,\"linecolor\":\"white\",\"showbackground\":true,\"ticks\":\"\",\"zerolinecolor\":\"white\"},\"yaxis\":{\"backgroundcolor\":\"#E5ECF6\",\"gridcolor\":\"white\",\"gridwidth\":2,\"linecolor\":\"white\",\"showbackground\":true,\"ticks\":\"\",\"zerolinecolor\":\"white\"},\"zaxis\":{\"backgroundcolor\":\"#E5ECF6\",\"gridcolor\":\"white\",\"gridwidth\":2,\"linecolor\":\"white\",\"showbackground\":true,\"ticks\":\"\",\"zerolinecolor\":\"white\"}},\"shapedefaults\":{\"line\":{\"color\":\"#2a3f5f\"}},\"ternary\":{\"aaxis\":{\"gridcolor\":\"white\",\"linecolor\":\"white\",\"ticks\":\"\"},\"baxis\":{\"gridcolor\":\"white\",\"linecolor\":\"white\",\"ticks\":\"\"},\"bgcolor\":\"#E5ECF6\",\"caxis\":{\"gridcolor\":\"white\",\"linecolor\":\"white\",\"ticks\":\"\"}},\"title\":{\"x\":0.05},\"xaxis\":{\"automargin\":true,\"gridcolor\":\"white\",\"linecolor\":\"white\",\"ticks\":\"\",\"title\":{\"standoff\":15},\"zerolinecolor\":\"white\",\"zerolinewidth\":2},\"yaxis\":{\"automargin\":true,\"gridcolor\":\"white\",\"linecolor\":\"white\",\"ticks\":\"\",\"title\":{\"standoff\":15},\"zerolinecolor\":\"white\",\"zerolinewidth\":2}}},\"title\":{\"font\":{\"size\":30},\"text\":\"<b>Distributions of IMBD movies from<b> 1920 - now\",\"x\":0.5},\"xaxis\":{\"anchor\":\"y\",\"domain\":[0.0,1.0],\"showgrid\":false,\"title\":{\"text\":\"Year of release\"}},\"yaxis\":{\"anchor\":\"x\",\"domain\":[0.0,1.0],\"showgrid\":false,\"title\":{\"text\":\"count\"}}},                        {\"responsive\": true}                    ).then(function(){\n",
       "                            \n",
       "var gd = document.getElementById('e9994bf8-ab65-4250-a063-1fcf066419d3');\n",
       "var x = new MutationObserver(function (mutations, observer) {{\n",
       "        var display = window.getComputedStyle(gd).display;\n",
       "        if (!display || display === 'none') {{\n",
       "            console.log([gd, 'removed!']);\n",
       "            Plotly.purge(gd);\n",
       "            observer.disconnect();\n",
       "        }}\n",
       "}});\n",
       "\n",
       "// Listen for the removal of the full notebook cells\n",
       "var notebookContainer = gd.closest('#notebook-container');\n",
       "if (notebookContainer) {{\n",
       "    x.observe(notebookContainer, {childList: true});\n",
       "}}\n",
       "\n",
       "// Listen for the clearing of the current output cell\n",
       "var outputEl = gd.closest('.output');\n",
       "if (outputEl) {{\n",
       "    x.observe(outputEl, {childList: true});\n",
       "}}\n",
       "\n",
       "                        })                };                });            </script>        </div>"
      ]
     },
     "metadata": {},
     "output_type": "display_data"
    }
   ],
   "source": [
    "fig = px.histogram(data_frame=df.sort_values(by='Release Year'), x='Release Year', \n",
    "                   color_discrete_sequence=['gold'], nbins=103)\n",
    "\n",
    "fig.update_layout(font=dict(family='Lato', size=18, color='white'), \n",
    "                  title=dict(text='<b>Distributions of IMBD movies from<b> 1920 - now',\n",
    "                           font=dict(size=30), x=.5), bargap=0.2,\n",
    "                  paper_bgcolor= 'black', plot_bgcolor='black',\n",
    "                 xaxis = dict(title='Year of release', showgrid=False),\n",
    "                 yaxis=dict(showgrid=False))"
   ]
  },
  {
   "cell_type": "markdown",
   "id": "ecca0096",
   "metadata": {},
   "source": [
    "* The Distribution is left skewed.\n",
    "* Year 2004 and 2014 has most number of top movies ie 32 each.\n",
    "* Apart from this there is some peaks of top movies in 1962, 1993, and 2001.\n",
    "* After 2019 the number of movies top films have decreased because of the rise in Covid-19 pandemic. "
   ]
  },
  {
   "cell_type": "markdown",
   "id": "0411437e",
   "metadata": {},
   "source": [
    "# Genres"
   ]
  },
  {
   "cell_type": "code",
   "execution_count": 13,
   "id": "387f80a3",
   "metadata": {},
   "outputs": [
    {
     "data": {
      "text/html": [
       "<div>\n",
       "<style scoped>\n",
       "    .dataframe tbody tr th:only-of-type {\n",
       "        vertical-align: middle;\n",
       "    }\n",
       "\n",
       "    .dataframe tbody tr th {\n",
       "        vertical-align: top;\n",
       "    }\n",
       "\n",
       "    .dataframe thead th {\n",
       "        text-align: right;\n",
       "    }\n",
       "</style>\n",
       "<table border=\"1\" class=\"dataframe\">\n",
       "  <thead>\n",
       "    <tr style=\"text-align: right;\">\n",
       "      <th></th>\n",
       "      <th>G1</th>\n",
       "      <th>G2</th>\n",
       "      <th>G3</th>\n",
       "    </tr>\n",
       "    <tr>\n",
       "      <th>Ranking</th>\n",
       "      <th></th>\n",
       "      <th></th>\n",
       "      <th></th>\n",
       "    </tr>\n",
       "  </thead>\n",
       "  <tbody>\n",
       "    <tr>\n",
       "      <th>1</th>\n",
       "      <td>Drama</td>\n",
       "      <td>None</td>\n",
       "      <td>None</td>\n",
       "    </tr>\n",
       "    <tr>\n",
       "      <th>2</th>\n",
       "      <td>Crime</td>\n",
       "      <td>Drama</td>\n",
       "      <td>None</td>\n",
       "    </tr>\n",
       "    <tr>\n",
       "      <th>3</th>\n",
       "      <td>Action</td>\n",
       "      <td>Crime</td>\n",
       "      <td>Drama</td>\n",
       "    </tr>\n",
       "    <tr>\n",
       "      <th>4</th>\n",
       "      <td>Action</td>\n",
       "      <td>Adventure</td>\n",
       "      <td>Drama</td>\n",
       "    </tr>\n",
       "    <tr>\n",
       "      <th>5</th>\n",
       "      <td>Biography</td>\n",
       "      <td>Drama</td>\n",
       "      <td>History</td>\n",
       "    </tr>\n",
       "  </tbody>\n",
       "</table>\n",
       "</div>"
      ],
      "text/plain": [
       "                G1         G2       G3\n",
       "Ranking                               \n",
       "1            Drama       None     None\n",
       "2            Crime      Drama     None\n",
       "3           Action      Crime    Drama\n",
       "4           Action  Adventure    Drama\n",
       "5        Biography      Drama  History"
      ]
     },
     "execution_count": 13,
     "metadata": {},
     "output_type": "execute_result"
    }
   ],
   "source": [
    "# Splitting genres \n",
    "gensplt = df['Genre'].str.split(', ', n=-1, expand= True)\n",
    "gensplt.columns = ['G1','G2','G3']\n",
    "gensplt.head()"
   ]
  },
  {
   "cell_type": "code",
   "execution_count": 14,
   "id": "a156afd8",
   "metadata": {},
   "outputs": [
    {
     "name": "stderr",
     "output_type": "stream",
     "text": [
      "<ipython-input-14-709abea9dccb>:2: FutureWarning:\n",
      "\n",
      "The series.append method is deprecated and will be removed from pandas in a future version. Use pandas.concat instead.\n",
      "\n",
      "<ipython-input-14-709abea9dccb>:3: FutureWarning:\n",
      "\n",
      "The series.append method is deprecated and will be removed from pandas in a future version. Use pandas.concat instead.\n",
      "\n"
     ]
    },
    {
     "data": {
      "text/plain": [
       "Ranking\n",
       "1          Drama\n",
       "2          Crime\n",
       "3         Action\n",
       "4         Action\n",
       "5      Biography\n",
       "         ...    \n",
       "993      Romance\n",
       "996      Romance\n",
       "997          War\n",
       "998       Family\n",
       "999     Thriller\n",
       "Length: 2540, dtype: object"
      ]
     },
     "execution_count": 14,
     "metadata": {},
     "output_type": "execute_result"
    }
   ],
   "source": [
    "# Appending genres into one string\n",
    "genone = gensplt['G1'].append(gensplt['G2'])\n",
    "genone= genone.append(gensplt['G3'])\n",
    "genone = genone.dropna(axis=0, how='any')\n",
    "genone = genone.str.lstrip()\n",
    "genone"
   ]
  },
  {
   "cell_type": "code",
   "execution_count": 15,
   "id": "7900eb7f",
   "metadata": {},
   "outputs": [],
   "source": [
    "# Creating a dataframe of genre string\n",
    "dfgenre = pd.DataFrame(genone)\n",
    "dfgenre.columns =['G']"
   ]
  },
  {
   "cell_type": "code",
   "execution_count": 16,
   "id": "9bd0a78b",
   "metadata": {},
   "outputs": [
    {
     "data": {
      "text/plain": [
       "array(['Action', 'Adventure', 'Animation', 'Biography', 'Comedy', 'Crime',\n",
       "       'Drama', 'Family', 'Fantasy', 'Film-Noir', 'History', 'Horror',\n",
       "       'Music', 'Musical', 'Mystery', 'Romance', 'Sci-Fi', 'Sport',\n",
       "       'Thriller', 'War', 'Western'], dtype=object)"
      ]
     },
     "execution_count": 16,
     "metadata": {},
     "output_type": "execute_result"
    }
   ],
   "source": [
    "dfgenre['G'].sort_values().unique()\n"
   ]
  },
  {
   "cell_type": "code",
   "execution_count": 17,
   "id": "3666e559",
   "metadata": {},
   "outputs": [
    {
     "data": {
      "text/plain": [
       "Drama        728\n",
       "Comedy       237\n",
       "Crime        209\n",
       "Action       200\n",
       "Adventure    191\n",
       "Thriller     135\n",
       "Romance      127\n",
       "Biography    107\n",
       "Mystery       99\n",
       "Animation     83\n",
       "Sci-Fi        68\n",
       "Fantasy       62\n",
       "History       50\n",
       "Family        50\n",
       "War           49\n",
       "Horror        36\n",
       "Music         36\n",
       "Film-Noir     22\n",
       "Western       19\n",
       "Musical       16\n",
       "Sport         16\n",
       "Name: G, dtype: int64"
      ]
     },
     "execution_count": 17,
     "metadata": {},
     "output_type": "execute_result"
    }
   ],
   "source": [
    "# Count of each genre \n",
    "dfgenre['G'].value_counts()"
   ]
  },
  {
   "cell_type": "code",
   "execution_count": 18,
   "id": "252cc781",
   "metadata": {},
   "outputs": [
    {
     "data": {
      "application/vnd.plotly.v1+json": {
       "config": {
        "plotlyServerURL": "https://plot.ly"
       },
       "data": [
        {
         "alignmentgroup": "True",
         "bingroup": "x",
         "hovertemplate": "x=%{x}<br>count=%{y}<extra></extra>",
         "legendgroup": "",
         "marker": {
          "color": "gold",
          "pattern": {
           "shape": ""
          }
         },
         "name": "",
         "offsetgroup": "",
         "orientation": "v",
         "showlegend": false,
         "type": "histogram",
         "x": [
          "Drama",
          "Crime",
          "Action",
          "Action",
          "Biography",
          "Crime",
          "Crime",
          "Crime",
          "Crime",
          "Action",
          "Action",
          "Drama",
          "Action",
          "Drama",
          "Adventure",
          "Drama",
          "Action",
          "Biography",
          "Action",
          "Drama",
          "Action",
          "Adventure",
          "Crime",
          "Animation",
          "Drama",
          "Crime",
          "Comedy",
          "Crime",
          "Action",
          "Crime",
          "Action",
          "Action",
          "Action",
          "Drama",
          "Action",
          "Action",
          "Action",
          "Comedy",
          "Drama",
          "Biography",
          "Biography",
          "Drama",
          "Crime",
          "Biography",
          "Action",
          "Crime",
          "Crime",
          "Action",
          "Animation",
          "Drama",
          "Animation",
          "Adventure",
          "Drama",
          "Horror",
          "Western",
          "Horror",
          "Mystery",
          "Drama",
          "Comedy",
          "Comedy",
          "Drama",
          "Crime",
          "Drama",
          "Animation",
          "Animation",
          "Action",
          "Action",
          "Animation",
          "Drama",
          "Action",
          "Crime",
          "Comedy",
          "Action",
          "Action",
          "Animation",
          "Drama",
          "Action",
          "Mystery",
          "Drama",
          "Animation",
          "Biography",
          "Drama",
          "Action",
          "Biography",
          "Action",
          "Drama",
          "Drama",
          "Crime",
          "Comedy",
          "Crime",
          "Drama",
          "Drama",
          "Comedy",
          "Biography",
          "Crime",
          "Biography",
          "Action",
          "Crime",
          "Drama",
          "Drama",
          "Drama",
          "Action",
          "Animation",
          "Drama",
          "Animation",
          "Adventure",
          "Drama",
          "Comedy",
          "Comedy",
          "Drama",
          "Drama",
          "Animation",
          "Action",
          "Crime",
          "Drama",
          "Crime",
          "Crime",
          "Action",
          "Comedy",
          "Crime",
          "Adventure",
          "Crime",
          "Adventure",
          "Drama",
          "Comedy",
          "Action",
          "Mystery",
          "Drama",
          "Comedy",
          "Drama",
          "Drama",
          "Crime",
          "Drama",
          "Crime",
          "Drama",
          "Comedy",
          "Comedy",
          "Action",
          "Action",
          "Drama",
          "Comedy",
          "Action",
          "Biography",
          "Action",
          "Action",
          "Action",
          "Crime",
          "Biography",
          "Animation",
          "Action",
          "Action",
          "Drama",
          "Action",
          "Mystery",
          "Animation",
          "Drama",
          "Crime",
          "Drama",
          "Biography",
          "Crime",
          "Drama",
          "Drama",
          "Drama",
          "Action",
          "Action",
          "Biography",
          "Animation",
          "Biography",
          "Action",
          "Animation",
          "Drama",
          "Action",
          "Comedy",
          "Crime",
          "Drama",
          "Crime",
          "Action",
          "Drama",
          "Action",
          "Action",
          "Action",
          "Horror",
          "Biography",
          "Biography",
          "Crime",
          "Adventure",
          "Adventure",
          "Drama",
          "Crime",
          "Western",
          "Adventure",
          "Action",
          "Comedy",
          "Adventure",
          "Crime",
          "Drama",
          "Adventure",
          "Drama",
          "Crime",
          "Drama",
          "Adventure",
          "Comedy",
          "Drama",
          "Biography",
          "Action",
          "Adventure",
          "Action",
          "Drama",
          "Crime",
          "Animation",
          "Comedy",
          "Crime",
          "Animation",
          "Drama",
          "Drama",
          "Action",
          "Action",
          "Adventure",
          "Action",
          "Drama",
          "Comedy",
          "Drama",
          "Comedy",
          "Comedy",
          "Adventure",
          "Drama",
          "Animation",
          "Biography",
          "Comedy",
          "Biography",
          "Action",
          "Action",
          "Biography",
          "Mystery",
          "Drama",
          "Comedy",
          "Drama",
          "Crime",
          "Action",
          "Action",
          "Drama",
          "Adventure",
          "Biography",
          "Animation",
          "Animation",
          "Drama",
          "Adventure",
          "Comedy",
          "Drama",
          "Biography",
          "Animation",
          "Drama",
          "Drama",
          "Comedy",
          "Drama",
          "Crime",
          "Action",
          "Comedy",
          "Biography",
          "Comedy",
          "Drama",
          "Action",
          "Action",
          "Animation",
          "Drama",
          "Drama",
          "Animation",
          "Comedy",
          "Drama",
          "Drama",
          "Crime",
          "Crime",
          "Comedy",
          "Crime",
          "Drama",
          "Drama",
          "Biography",
          "Comedy",
          "Drama",
          "Drama",
          "Comedy",
          "Comedy",
          "Animation",
          "Adventure",
          "Drama",
          "Comedy",
          "Action",
          "Drama",
          "Biography",
          "Drama",
          "Action",
          "Drama",
          "Drama",
          "Drama",
          "Drama",
          "Drama",
          "Biography",
          "Action",
          "Adventure",
          "Adventure",
          "Comedy",
          "Horror",
          "Drama",
          "Crime",
          "Drama",
          "Biography",
          "Drama",
          "Drama",
          "Drama",
          "Biography",
          "Crime",
          "Adventure",
          "Action",
          "Drama",
          "Drama",
          "Drama",
          "Drama",
          "Crime",
          "Crime",
          "Crime",
          "Drama",
          "Action",
          "Film-Noir",
          "Drama",
          "Drama",
          "Comedy",
          "Drama",
          "Drama",
          "Adventure",
          "Comedy",
          "Drama",
          "Comedy",
          "Drama",
          "Comedy",
          "Drama",
          "Action",
          "Comedy",
          "Animation",
          "Crime",
          "Comedy",
          "Biography",
          "Adventure",
          "Drama",
          "Animation",
          "Animation",
          "Drama",
          "Action",
          "Animation",
          "Crime",
          "Biography",
          "Action",
          "Animation",
          "Action",
          "Drama",
          "Action",
          "Drama",
          "Action",
          "Biography",
          "Action",
          "Action",
          "Action",
          "Action",
          "Drama",
          "Comedy",
          "Crime",
          "Drama",
          "Action",
          "Action",
          "Animation",
          "Comedy",
          "Biography",
          "Adventure",
          "Action",
          "Drama",
          "Crime",
          "Biography",
          "Action",
          "Adventure",
          "Action",
          "Action",
          "Drama",
          "Biography",
          "Biography",
          "Action",
          "Adventure",
          "Animation",
          "Comedy",
          "Crime",
          "Comedy",
          "Drama",
          "Drama",
          "Animation",
          "Biography",
          "Animation",
          "Drama",
          "Drama",
          "Comedy",
          "Drama",
          "Comedy",
          "Mystery",
          "Drama",
          "Comedy",
          "Action",
          "Drama",
          "Animation",
          "Drama",
          "Animation",
          "Adventure",
          "Drama",
          "Animation",
          "Adventure",
          "Drama",
          "Drama",
          "Animation",
          "Animation",
          "Drama",
          "Drama",
          "Adventure",
          "Comedy",
          "Comedy",
          "Comedy",
          "Biography",
          "Biography",
          "Comedy",
          "Biography",
          "Drama",
          "Drama",
          "Mystery",
          "Drama",
          "Drama",
          "Biography",
          "Drama",
          "Adventure",
          "Crime",
          "Comedy",
          "Drama",
          "Biography",
          "Drama",
          "Drama",
          "Drama",
          "Drama",
          "Action",
          "Drama",
          "Drama",
          "Comedy",
          "Western",
          "Drama",
          "Crime",
          "Drama",
          "Crime",
          "Crime",
          "Drama",
          "Comedy",
          "Comedy",
          "Drama",
          "Comedy",
          "Crime",
          "Drama",
          "Crime",
          "Drama",
          "Crime",
          "Drama",
          "Horror",
          "Comedy",
          "Crime",
          "Drama",
          "Biography",
          "Biography",
          "Adventure",
          "Action",
          "Biography",
          "Action",
          "Comedy",
          "Action",
          "Comedy",
          "Drama",
          "Drama",
          "Drama",
          "Drama",
          "Action",
          "Drama",
          "Action",
          "Action",
          "Biography",
          "Drama",
          "Comedy",
          "Action",
          "Drama",
          "Drama",
          "Comedy",
          "Adventure",
          "Action",
          "Drama",
          "Action",
          "Drama",
          "Comedy",
          "Drama",
          "Comedy",
          "Drama",
          "Action",
          "Biography",
          "Comedy",
          "Drama",
          "Action",
          "Adventure",
          "Animation",
          "Crime",
          "Comedy",
          "Drama",
          "Action",
          "Comedy",
          "Comedy",
          "Drama",
          "Crime",
          "Adventure",
          "Action",
          "Drama",
          "Comedy",
          "Action",
          "Crime",
          "Action",
          "Action",
          "Adventure",
          "Crime",
          "Drama",
          "Animation",
          "Animation",
          "Drama",
          "Action",
          "Drama",
          "Animation",
          "Animation",
          "Crime",
          "Crime",
          "Drama",
          "Animation",
          "Crime",
          "Crime",
          "Drama",
          "Biography",
          "Comedy",
          "Crime",
          "Drama",
          "Comedy",
          "Drama",
          "Comedy",
          "Comedy",
          "Adventure",
          "Drama",
          "Action",
          "Comedy",
          "Drama",
          "Comedy",
          "Comedy",
          "Biography",
          "Drama",
          "Crime",
          "Action",
          "Biography",
          "Drama",
          "Biography",
          "Drama",
          "Action",
          "Comedy",
          "Drama",
          "Drama",
          "Adventure",
          "Drama",
          "Drama",
          "Crime",
          "Adventure",
          "Adventure",
          "Crime",
          "Drama",
          "Crime",
          "Drama",
          "Comedy",
          "Crime",
          "Comedy",
          "Drama",
          "Crime",
          "Drama",
          "Drama",
          "Drama",
          "Comedy",
          "Adventure",
          "Comedy",
          "Comedy",
          "Action",
          "Comedy",
          "Adventure",
          "Drama",
          "Fantasy",
          "Action",
          "Animation",
          "Comedy",
          "Drama",
          "Drama",
          "Animation",
          "Action",
          "Biography",
          "Adventure",
          "Adventure",
          "Drama",
          "Drama",
          "Action",
          "Biography",
          "Comedy",
          "Action",
          "Crime",
          "Drama",
          "Animation",
          "Biography",
          "Crime",
          "Action",
          "Drama",
          "Comedy",
          "Animation",
          "Comedy",
          "Comedy",
          "Crime",
          "Action",
          "Crime",
          "Comedy",
          "Animation",
          "Biography",
          "Action",
          "Crime",
          "Action",
          "Biography",
          "Biography",
          "Biography",
          "Crime",
          "Crime",
          "Action",
          "Drama",
          "Adventure",
          "Drama",
          "Crime",
          "Action",
          "Action",
          "Action",
          "Drama",
          "Adventure",
          "Biography",
          "Drama",
          "Action",
          "Biography",
          "Action",
          "Drama",
          "Action",
          "Adventure",
          "Comedy",
          "Action",
          "Drama",
          "Drama",
          "Drama",
          "Biography",
          "Animation",
          "Action",
          "Crime",
          "Comedy",
          "Biography",
          "Drama",
          "Action",
          "Adventure",
          "Crime",
          "Animation",
          "Animation",
          "Action",
          "Biography",
          "Drama",
          "Adventure",
          "Biography",
          "Biography",
          "Comedy",
          "Drama",
          "Drama",
          "Drama",
          "Biography",
          "Biography",
          "Comedy",
          "Drama",
          "Animation",
          "Action",
          "Crime",
          "Animation",
          "Crime",
          "Drama",
          "Biography",
          "Animation",
          "Biography",
          "Action",
          "Comedy",
          "Adventure",
          "Crime",
          "Action",
          "Comedy",
          "Comedy",
          "Biography",
          "Action",
          "Adventure",
          "Comedy",
          "Drama",
          "Drama",
          "Drama",
          "Horror",
          "Western",
          "Adventure",
          "Adventure",
          "Drama",
          "Crime",
          "Comedy",
          "Drama",
          "Action",
          "Family",
          "Drama",
          "Horror",
          "Comedy",
          "Drama",
          "Drama",
          "Comedy",
          "Horror",
          "Drama",
          "Drama",
          "Drama",
          "Crime",
          "Drama",
          "Adventure",
          "Crime",
          "Film-Noir",
          "Comedy",
          "Adventure",
          "Comedy",
          "Mystery",
          "Comedy",
          "Comedy",
          "Drama",
          "Comedy",
          "Drama",
          "Drama",
          "Action",
          "Drama",
          "Crime",
          "Drama",
          "Horror",
          "Action",
          "Comedy",
          "Action",
          "Animation",
          "Comedy",
          "Animation",
          "Biography",
          "Action",
          "Drama",
          "Comedy",
          "Comedy",
          "Drama",
          "Drama",
          "Drama",
          "Drama",
          "Animation",
          "Animation",
          "Adventure",
          "Animation",
          "Animation",
          "Drama",
          "Comedy",
          "Drama",
          "Action",
          "Animation",
          "Action",
          "Action",
          "Drama",
          "Action",
          "Comedy",
          "Drama",
          "Comedy",
          "Comedy",
          "Biography",
          "Comedy",
          "Adventure",
          "Drama",
          "Drama",
          "Biography",
          "Animation",
          "Comedy",
          "Animation",
          "Crime",
          "Drama",
          "Drama",
          "Crime",
          "Crime",
          "Drama",
          "Biography",
          "Comedy",
          "Animation",
          "Drama",
          "Drama",
          "Action",
          "Action",
          "Action",
          "Drama",
          "Biography",
          "Drama",
          "Comedy",
          "Adventure",
          "Action",
          "Animation",
          "Drama",
          "Crime",
          "Biography",
          "Comedy",
          "Drama",
          "Animation",
          "Comedy",
          "Action",
          "Crime",
          "Drama",
          "Drama",
          "Comedy",
          "Action",
          "Drama",
          "Animation",
          "Crime",
          "Adventure",
          "Action",
          "Animation",
          "Comedy",
          "Comedy",
          "Action",
          "Action",
          "Action",
          "Drama",
          "Drama",
          "Comedy",
          "Crime",
          "Drama",
          "Biography",
          "Drama",
          "Biography",
          "Crime",
          "Drama",
          "Adventure",
          "Biography",
          "Comedy",
          "Drama",
          "Comedy",
          "Drama",
          "Comedy",
          "Comedy",
          "Biography",
          "Action",
          "Action",
          "Animation",
          "Crime",
          "Drama",
          "Comedy",
          "Drama",
          "Drama",
          "Drama",
          "Crime",
          "Comedy",
          "Comedy",
          "Animation",
          "Mystery",
          "Biography",
          "Comedy",
          "Drama",
          "Drama",
          "Comedy",
          "Crime",
          "Comedy",
          "Adventure",
          "Drama",
          "Comedy",
          "Drama",
          "Action",
          "Action",
          "Drama",
          "Comedy",
          "Horror",
          "Comedy",
          "Comedy",
          "Comedy",
          "Biography",
          "Animation",
          "Action",
          "Adventure",
          "Action",
          "Action",
          "Thriller",
          "Action",
          "Action",
          "Drama",
          "Biography",
          "Drama",
          "Action",
          "Action",
          "Drama",
          "Drama",
          "Action",
          "Crime",
          "Drama",
          "Drama",
          "Comedy",
          "Adventure",
          "Action",
          "Animation",
          "Action",
          "Biography",
          "Animation",
          "Drama",
          "Comedy",
          "Action",
          "Drama",
          "Animation",
          "Animation",
          "Comedy",
          "Action",
          "Action",
          "Crime",
          "Crime",
          "Biography",
          "Action",
          "Action",
          "Action",
          "Drama",
          "Drama",
          "Animation",
          "Comedy",
          "Action",
          "Action",
          "Biography",
          "Drama",
          "Action",
          "Biography",
          "Animation",
          "Comedy",
          "Drama",
          "Crime",
          "Adventure",
          "Action",
          "Biography",
          "Crime",
          "Crime",
          "Animation",
          "Action",
          "Drama",
          "Action",
          "Crime",
          "Horror",
          "Crime",
          "Drama",
          "Comedy",
          "Comedy",
          "Drama",
          "Drama",
          "Drama",
          "Comedy",
          "Adventure",
          "Horror",
          "Crime",
          "Crime",
          "Comedy",
          "Action",
          "Drama",
          "Animation",
          "Action",
          "Comedy",
          "Fantasy",
          "Action",
          "Drama",
          "Comedy",
          "Comedy",
          "Comedy",
          "Crime",
          "Animation",
          "Comedy",
          "Action",
          "Action",
          "Drama",
          "Comedy",
          "Action",
          "Drama",
          "Action",
          "Action",
          "Action",
          "Comedy",
          "Animation",
          "Drama",
          "Drama",
          "Comedy",
          "Drama",
          "Drama",
          "Comedy",
          "Drama",
          "Animation",
          "Crime",
          "Horror",
          "Drama",
          "Crime",
          "Adventure",
          "Drama",
          "Drama",
          "Drama",
          "Drama",
          "Drama",
          "Adventure",
          "Adventure",
          "Adventure",
          "Romance",
          "Western",
          "Sci-Fi",
          "Crime",
          "Adventure",
          "Drama",
          "Drama",
          "Drama",
          "Adventure",
          "War",
          "Drama",
          "Drama",
          "Drama",
          "Sci-Fi",
          "Drama",
          "Adventure",
          "Drama",
          "Drama",
          "Family",
          "Crime",
          "Drama",
          "Thriller",
          "Drama",
          "Music",
          "Comedy",
          "Crime",
          "Mystery",
          "Drama",
          "Drama",
          "Adventure",
          "Drama",
          "Drama",
          "Crime",
          "Adventure",
          "Romance",
          "Drama",
          "Comedy",
          "Mystery",
          "Sci-Fi",
          "Mystery",
          "Thriller",
          "Romance",
          "Drama",
          "Drama",
          "Drama",
          "Romance",
          "Drama",
          "Action",
          "Adventure",
          "Adventure",
          "Adventure",
          "Western",
          "Drama",
          "Drama",
          "Drama",
          "Crime",
          "Biography",
          "Adventure",
          "Mystery",
          "Drama",
          "Thriller",
          "Adventure",
          "Drama",
          "Thriller",
          "Adventure",
          "Drama",
          "Adventure",
          "War",
          "Horror",
          "Drama",
          "War",
          "Drama",
          "War",
          "Film-Noir",
          "Drama",
          "Drama",
          "Drama",
          "Drama",
          "Biography",
          "Drama",
          "Mystery",
          "Adventure",
          "Adventure",
          "Family",
          "Adventure",
          "Drama",
          "Romance",
          "Romance",
          "Crime",
          "Romance",
          "Adventure",
          "Crime",
          "Drama",
          "War",
          "Drama",
          "Drama",
          "Adventure",
          "Crime",
          "Sci-Fi",
          "Sci-Fi",
          "Drama",
          "Biography",
          "War",
          "Drama",
          "Adventure",
          "Romance",
          "Musical",
          "Drama",
          "Mystery",
          "Mystery",
          "Sci-Fi",
          "Drama",
          "Drama",
          "Drama",
          "Drama",
          "Fantasy",
          "Crime",
          "Crime",
          "Comedy",
          "Adventure",
          "Crime",
          "Drama",
          "Drama",
          "Drama",
          "Adventure",
          "Comedy",
          "Biography",
          "Mystery",
          "Drama",
          "Thriller",
          "Action",
          "Drama",
          "Mystery",
          "Comedy",
          "Drama",
          "Family",
          "Fantasy",
          "Drama",
          "Crime",
          "Drama",
          "Adventure",
          "Drama",
          "Crime",
          "Adventure",
          "Mystery",
          "Comedy",
          "Drama",
          "Drama",
          "Family",
          "Drama",
          "Adventure",
          "Western",
          "Adventure",
          "Thriller",
          "Drama",
          "Mystery",
          "Drama",
          "Drama",
          "Drama",
          "Comedy",
          "Biography",
          "Mystery",
          "Drama",
          "Drama",
          "Drama",
          "Music",
          "Drama",
          "Thriller",
          "Drama",
          "Drama",
          "Drama",
          "Romance",
          "Romance",
          "Drama",
          "Adventure",
          "Comedy",
          "Comedy",
          "Romance",
          "Drama",
          "Drama",
          "Crime",
          "Drama",
          "Adventure",
          "Romance",
          "Adventure",
          "Crime",
          "Comedy",
          "Drama",
          "Thriller",
          "Drama",
          "War",
          "Drama",
          "Drama",
          "Comedy",
          "Mystery",
          "Drama",
          "Drama",
          "Drama",
          "Drama",
          "Biography",
          "Biography",
          "Crime",
          "Thriller",
          "Drama",
          "Drama",
          "Adventure",
          "Crime",
          "Fantasy",
          "Drama",
          "Comedy",
          "Action",
          "Family",
          "Biography",
          "Crime",
          "Sport",
          "Drama",
          "Adventure",
          "Romance",
          "Drama",
          "Musical",
          "Drama",
          "Adventure",
          "Drama",
          "Crime",
          "Drama",
          "Thriller",
          "Comedy",
          "Drama",
          "Adventure",
          "Musical",
          "Action",
          "Crime",
          "Romance",
          "Thriller",
          "Drama",
          "Drama",
          "Drama",
          "Romance",
          "Mystery",
          "Crime",
          "Drama",
          "Music",
          "History",
          "Crime",
          "Drama",
          "Comedy",
          "Drama",
          "War",
          "Drama",
          "Sci-Fi",
          "Drama",
          "Drama",
          "Sci-Fi",
          "Music",
          "War",
          "Sport",
          "Drama",
          "Adventure",
          "Thriller",
          "Drama",
          "Crime",
          "Musical",
          "Drama",
          "Thriller",
          "Drama",
          "War",
          "Western",
          "Drama",
          "Drama",
          "Drama",
          "Adventure",
          "Romance",
          "Fantasy",
          "History",
          "Drama",
          "Drama",
          "Drama",
          "Film-Noir",
          "Crime",
          "Mystery",
          "Music",
          "Romance",
          "Drama",
          "Film-Noir",
          "Family",
          "Drama",
          "War",
          "Romance",
          "War",
          "Family",
          "Romance",
          "Drama",
          "Drama",
          "Adventure",
          "Drama",
          "Drama",
          "Drama",
          "Drama",
          "Adventure",
          "Adventure",
          "Drama",
          "Drama",
          "Drama",
          "Drama",
          "Adventure",
          "Adventure",
          "Drama",
          "Romance",
          "Adventure",
          "Romance",
          "Crime",
          "Drama",
          "Adventure",
          "Adventure",
          "Biography",
          "Adventure",
          "Music",
          "Drama",
          "Drama",
          "Thriller",
          "Crime",
          "Adventure",
          "Biography",
          "Drama",
          "Drama",
          "Drama",
          "Mystery",
          "Thriller",
          "Drama",
          "Drama",
          "Comedy",
          "Adventure",
          "Crime",
          "Romance",
          "Drama",
          "Drama",
          "Crime",
          "Drama",
          "Action",
          "Drama",
          "Drama",
          "Drama",
          "Mystery",
          "Action",
          "Drama",
          "Crime",
          "Music",
          "Crime",
          "Drama",
          "Sci-Fi",
          "Romance",
          "Crime",
          "Comedy",
          "Adventure",
          "History",
          "Family",
          "Drama",
          "Action",
          "Family",
          "Fantasy",
          "War",
          "Adventure",
          "Adventure",
          "Fantasy",
          "Drama",
          "Drama",
          "Romance",
          "Crime",
          "Drama",
          "Crime",
          "Mystery",
          "Thriller",
          "Romance",
          "Family",
          "Crime",
          "Horror",
          "Sci-Fi",
          "Drama",
          "Drama",
          "Drama",
          "History",
          "Fantasy",
          "Horror",
          "Drama",
          "War",
          "Sport",
          "Drama",
          "Mystery",
          "Drama",
          "Film-Noir",
          "Drama",
          "Drama",
          "Drama",
          "Romance",
          "Thriller",
          "Crime",
          "Drama",
          "Thriller",
          "Drama",
          "Romance",
          "Film-Noir",
          "History",
          "Mystery",
          "Crime",
          "Drama",
          "Romance",
          "Drama",
          "Comedy",
          "Biography",
          "Drama",
          "Drama",
          "Crime",
          "Drama",
          "Adventure",
          "Drama",
          "Family",
          "Mystery",
          "Music",
          "Crime",
          "Romance",
          "Adventure",
          "Crime",
          "Drama",
          "Romance",
          "Drama",
          "Adventure",
          "Mystery",
          "Drama",
          "Drama",
          "Drama",
          "Fantasy",
          "Sci-Fi",
          "Sport",
          "Drama",
          "Drama",
          "Adventure",
          "Drama",
          "Crime",
          "Fantasy",
          "Adventure",
          "Drama",
          "Adventure",
          "Drama",
          "Drama",
          "Adventure",
          "Horror",
          "Drama",
          "Romance",
          "Drama",
          "Family",
          "Adventure",
          "Mystery",
          "Drama",
          "Mystery",
          "Drama",
          "Drama",
          "Adventure",
          "Comedy",
          "Drama",
          "Mystery",
          "Adventure",
          "Adventure",
          "Romance",
          "Crime",
          "Drama",
          "Action",
          "Drama",
          "Drama",
          "Music",
          "Family",
          "Drama",
          "Drama",
          "Fantasy",
          "Drama",
          "Drama",
          "Drama",
          "Drama",
          "Sci-Fi",
          "Music",
          "Family",
          "Family",
          "History",
          "Adventure",
          "Drama",
          "History",
          "Drama",
          "Drama",
          "Drama",
          "Drama",
          "Adventure",
          "Drama",
          "Mystery",
          "Crime",
          "Romance",
          "Drama",
          "Mystery",
          "Thriller",
          "Biography",
          "Romance",
          "Drama",
          "Drama",
          "Drama",
          "Film-Noir",
          "Drama",
          "Film-Noir",
          "Drama",
          "Drama",
          "Drama",
          "Film-Noir",
          "Film-Noir",
          "Fantasy",
          "Film-Noir",
          "Film-Noir",
          "Crime",
          "Comedy",
          "Romance",
          "Drama",
          "Adventure",
          "Mystery",
          "Horror",
          "Horror",
          "Horror",
          "Comedy",
          "Action",
          "Drama",
          "Romance",
          "Adventure",
          "Drama",
          "Drama",
          "Comedy",
          "Comedy",
          "History",
          "Adventure",
          "Drama",
          "Drama",
          "Adventure",
          "Drama",
          "Romance",
          "Biography",
          "Comedy",
          "Drama",
          "Adventure",
          "Romance",
          "Romance",
          "Action",
          "Drama",
          "Drama",
          "Drama",
          "Adventure",
          "Drama",
          "Drama",
          "Action",
          "Comedy",
          "Crime",
          "Drama",
          "Biography",
          "Drama",
          "Crime",
          "Drama",
          "Drama",
          "Drama",
          "Crime",
          "Mystery",
          "Fantasy",
          "Mystery",
          "Drama",
          "Adventure",
          "Biography",
          "Crime",
          "Music",
          "Fantasy",
          "Crime",
          "Mystery",
          "Drama",
          "Crime",
          "Adventure",
          "Fantasy",
          "Adventure",
          "Drama",
          "Drama",
          "Comedy",
          "Fantasy",
          "Family",
          "Romance",
          "Drama",
          "Adventure",
          "Adventure",
          "Drama",
          "Drama",
          "Drama",
          "Romance",
          "Drama",
          "Biography",
          "Drama",
          "Drama",
          "Action",
          "Drama",
          "Drama",
          "Drama",
          "Drama",
          "Drama",
          "Drama",
          "Sci-Fi",
          "Comedy",
          "Drama",
          "Drama",
          "Romance",
          "Action",
          "Crime",
          "Drama",
          "Action",
          "Drama",
          "Thriller",
          "Drama",
          "Adventure",
          "Drama",
          "Crime",
          "Drama",
          "Comedy",
          "Drama",
          "Adventure",
          "Drama",
          "Drama",
          "Comedy",
          "Biography",
          "Crime",
          "Music",
          "Romance",
          "Thriller",
          "History",
          "Drama",
          "Mystery",
          "Drama",
          "Music",
          "Adventure",
          "Fantasy",
          "Thriller",
          "Drama",
          "Musical",
          "Family",
          "Family",
          "Mystery",
          "Sci-Fi",
          "Drama",
          "Western",
          "Comedy",
          "Drama",
          "Thriller",
          "Drama",
          "Drama",
          "Drama",
          "Thriller",
          "Music",
          "Horror",
          "Musical",
          "Horror",
          "Adventure",
          "Music",
          "Drama",
          "Mystery",
          "Adventure",
          "Drama",
          "Crime",
          "Action",
          "Drama",
          "Drama",
          "Drama",
          "Adventure",
          "Romance",
          "Drama",
          "Drama",
          "Mystery",
          "Romance",
          "Music",
          "Biography",
          "Adventure",
          "Comedy",
          "Adventure",
          "Adventure",
          "Fantasy",
          "Thriller",
          "Crime",
          "Action",
          "Drama",
          "Adventure",
          "War",
          "Adventure",
          "History",
          "Drama",
          "Drama",
          "Drama",
          "Drama",
          "Family",
          "War",
          "Drama",
          "Drama",
          "Drama",
          "Adventure",
          "Drama",
          "Sci-Fi",
          "Drama",
          "Drama",
          "History",
          "Drama",
          "Crime",
          "Adventure",
          "Thriller",
          "Romance",
          "Crime",
          "Comedy",
          "Mystery",
          "Thriller",
          "Drama",
          "Drama",
          "Family",
          "Crime",
          "Drama",
          "Drama",
          "Drama",
          "Drama",
          "Comedy",
          "Drama",
          "Drama",
          "Drama",
          "Thriller",
          "Music",
          "Drama",
          "Adventure",
          "Drama",
          "Thriller",
          "Comedy",
          "Crime",
          "Comedy",
          "Drama",
          "Thriller",
          "Crime",
          "Crime",
          "Mystery",
          "Drama",
          "Drama",
          "Mystery",
          "Crime",
          "Romance",
          "Drama",
          "Drama",
          "Romance",
          "Drama",
          "Comedy",
          "Drama",
          "Drama",
          "Drama",
          "Drama",
          "Adventure",
          "Crime",
          "Adventure",
          "Drama",
          "Thriller",
          "Drama",
          "Fantasy",
          "Fantasy",
          "Drama",
          "Family",
          "Drama",
          "Adventure",
          "Thriller",
          "Drama",
          "Horror",
          "History",
          "History",
          "Crime",
          "Drama",
          "Fantasy",
          "Comedy",
          "Adventure",
          "Adventure",
          "Thriller",
          "Drama",
          "War",
          "Western",
          "Crime",
          "Sci-Fi",
          "Crime",
          "Drama",
          "Crime",
          "Crime",
          "Adventure",
          "Biography",
          "Romance",
          "Drama",
          "History",
          "Adventure",
          "Drama",
          "Thriller",
          "Romance",
          "Adventure",
          "Drama",
          "Horror",
          "War",
          "Drama",
          "Drama",
          "Crime",
          "Family",
          "Crime",
          "Drama",
          "Adventure",
          "Mystery",
          "Drama",
          "Adventure",
          "History",
          "Action",
          "Adventure",
          "Horror",
          "Crime",
          "Drama",
          "Drama",
          "Drama",
          "Comedy",
          "Adventure",
          "Crime",
          "Adventure",
          "Music",
          "Western",
          "Adventure",
          "Drama",
          "Comedy",
          "Crime",
          "Drama",
          "Horror",
          "Comedy",
          "Drama",
          "Adventure",
          "Drama",
          "Family",
          "Drama",
          "Drama",
          "Drama",
          "Drama",
          "Action",
          "Drama",
          "Romance",
          "Drama",
          "Drama",
          "Mystery",
          "Drama",
          "Mystery",
          "Drama",
          "Drama",
          "Sci-Fi",
          "Drama",
          "Family",
          "Mystery",
          "Drama",
          "Drama",
          "Drama",
          "Adventure",
          "History",
          "Adventure",
          "Adventure",
          "Mystery",
          "Adventure",
          "Romance",
          "Drama",
          "Crime",
          "Drama",
          "Drama",
          "Adventure",
          "Crime",
          "Crime",
          "Crime",
          "Horror",
          "Crime",
          "Adventure",
          "Sci-Fi",
          "Crime",
          "Crime",
          "Adventure",
          "Adventure",
          "Horror",
          "Horror",
          "Drama",
          "Horror",
          "Drama",
          "Romance",
          "Adventure",
          "Mystery",
          "Sci-Fi",
          "Drama",
          "Drama",
          "History",
          "Mystery",
          "Sci-Fi",
          "Drama",
          "Drama",
          "Drama",
          "Fantasy",
          "Sci-Fi",
          "Family",
          "Fantasy",
          "Romance",
          "Mystery",
          "Thriller",
          "Fantasy",
          "Mystery",
          "Fantasy",
          "Thriller",
          "Thriller",
          "Drama",
          "Drama",
          "Sci-Fi",
          "Thriller",
          "Music",
          "Drama",
          "Mystery",
          "Drama",
          "Drama",
          "War",
          "Sci-Fi",
          "War",
          "Thriller",
          "War",
          "Romance",
          "Romance",
          "Thriller",
          "Fantasy",
          "Adventure",
          "Drama",
          "Sci-Fi",
          "Comedy",
          "Thriller",
          "Drama",
          "Drama",
          "Family",
          "Thriller",
          "Mystery",
          "Fantasy",
          "History",
          "War",
          "Sci-Fi",
          "Music",
          "Mystery",
          "Mystery",
          "War",
          "History",
          "Mystery",
          "History",
          "Drama",
          "Thriller",
          "Fantasy",
          "Comedy",
          "Comedy",
          "War",
          "Sci-Fi",
          "Comedy",
          "Drama",
          "Thriller",
          "Fantasy",
          "Drama",
          "Drama",
          "Romance",
          "Mystery",
          "Thriller",
          "Romance",
          "Film-Noir",
          "Thriller",
          "Family",
          "Romance",
          "War",
          "History",
          "Horror",
          "Music",
          "Drama",
          "Drama",
          "Comedy",
          "Drama",
          "Mystery",
          "Sport",
          "Comedy",
          "Crime",
          "Crime",
          "Romance",
          "Sport",
          "Adventure",
          "Mystery",
          "Crime",
          "Thriller",
          "War",
          "Sci-Fi",
          "Drama",
          "History",
          "Family",
          "Drama",
          "Comedy",
          "Thriller",
          "Crime",
          "Mystery",
          "Sport",
          "Sci-Fi",
          "War",
          "Sci-Fi",
          "Sport",
          "Fantasy",
          "Drama",
          "Thriller",
          "Thriller",
          "History",
          "Thriller",
          "Romance",
          "War",
          "Thriller",
          "Mystery",
          "Western",
          "War",
          "War",
          "History",
          "Comedy",
          "Drama",
          "Romance",
          "Thriller",
          "Drama",
          "Mystery",
          "Comedy",
          "Thriller",
          "Comedy",
          "Drama",
          "Drama",
          "Sci-Fi",
          "Thriller",
          "Sci-Fi",
          "Fantasy",
          "Crime",
          "Thriller",
          "Family",
          "History",
          "Romance",
          "History",
          "Drama",
          "Drama",
          "Drama",
          "Musical",
          "Mystery",
          "Sci-Fi",
          "Drama",
          "Mystery",
          "Family",
          "Drama",
          "Adventure",
          "Sport",
          "Drama",
          "Drama",
          "History",
          "Comedy",
          "Mystery",
          "Fantasy",
          "Romance",
          "Drama",
          "Thriller",
          "Crime",
          "Thriller",
          "Comedy",
          "Sport",
          "Adventure",
          "Thriller",
          "Fantasy",
          "Romance",
          "Drama",
          "Fantasy",
          "Romance",
          "Romance",
          "Drama",
          "Family",
          "Sci-Fi",
          "History",
          "Comedy",
          "War",
          "Drama",
          "Family",
          "History",
          "Drama",
          "Thriller",
          "Thriller",
          "Horror",
          "Drama",
          "Thriller",
          "Romance",
          "War",
          "Romance",
          "Mystery",
          "Fantasy",
          "Romance",
          "Family",
          "Mystery",
          "Music",
          "Sci-Fi",
          "Comedy",
          "Comedy",
          "Family",
          "Thriller",
          "Thriller",
          "Comedy",
          "Drama",
          "Mystery",
          "Sci-Fi",
          "Drama",
          "Drama",
          "History",
          "Comedy",
          "Fantasy",
          "Drama",
          "Drama",
          "Music",
          "Romance",
          "Drama",
          "Sci-Fi",
          "Drama",
          "Romance",
          "Thriller",
          "Thriller",
          "War",
          "Sci-Fi",
          "Thriller",
          "Thriller",
          "Romance",
          "Drama",
          "Fantasy",
          "Adventure",
          "Romance",
          "Sci-Fi",
          "Drama",
          "Drama",
          "Romance",
          "Romance",
          "Thriller",
          "Drama",
          "Romance",
          "Comedy",
          "Thriller",
          "Fantasy",
          "Western",
          "Drama",
          "Fantasy",
          "Romance",
          "Family",
          "Sci-Fi",
          "Music",
          "Drama",
          "Drama",
          "Sci-Fi",
          "Musical",
          "Drama",
          "Romance",
          "History",
          "Thriller",
          "Thriller",
          "Film-Noir",
          "Film-Noir",
          "Film-Noir",
          "War",
          "Western",
          "Film-Noir",
          "War",
          "Film-Noir",
          "Mystery",
          "Thriller",
          "Thriller",
          "Drama",
          "Thriller",
          "Drama",
          "Drama",
          "History",
          "Sport",
          "Thriller",
          "Music",
          "Comedy",
          "War",
          "Sci-Fi",
          "Romance",
          "Thriller",
          "Sci-Fi",
          "Drama",
          "Music",
          "Romance",
          "Sci-Fi",
          "Romance",
          "Romance",
          "Thriller",
          "Horror",
          "Thriller",
          "Romance",
          "Romance",
          "Sci-Fi",
          "Drama",
          "Mystery",
          "Drama",
          "Fantasy",
          "Comedy",
          "Romance",
          "Sci-Fi",
          "Musical",
          "Mystery",
          "Fantasy",
          "Drama",
          "Romance",
          "War",
          "Thriller",
          "Thriller",
          "Sci-Fi",
          "Drama",
          "Drama",
          "Musical",
          "Thriller",
          "Comedy",
          "Comedy",
          "Comedy",
          "Family",
          "Crime",
          "Romance",
          "Mystery",
          "Fantasy",
          "Thriller",
          "Romance",
          "Thriller",
          "Sci-Fi",
          "War",
          "Comedy",
          "Romance",
          "Thriller",
          "Romance",
          "War",
          "Thriller",
          "Western",
          "History",
          "Thriller",
          "Drama",
          "War",
          "Western",
          "Romance",
          "Drama",
          "Thriller",
          "Family",
          "Western",
          "Thriller",
          "Film-Noir",
          "Mystery",
          "Fantasy",
          "Mystery",
          "Family",
          "Romance",
          "Mystery",
          "Romance",
          "Mystery",
          "Thriller",
          "Drama",
          "Romance",
          "Sci-Fi",
          "Crime",
          "Adventure",
          "Comedy",
          "History",
          "History",
          "Drama",
          "Family",
          "War",
          "Sci-Fi",
          "Music",
          "Sci-Fi",
          "Mystery",
          "Crime",
          "Drama",
          "Thriller",
          "Sci-Fi",
          "Adventure",
          "Fantasy",
          "Family",
          "Mystery",
          "Sci-Fi",
          "Romance",
          "Adventure",
          "Drama",
          "Drama",
          "Mystery",
          "Crime",
          "History",
          "Drama",
          "Mystery",
          "Drama",
          "Sci-Fi",
          "Thriller",
          "Mystery",
          "Thriller",
          "Drama",
          "Thriller",
          "Romance",
          "Drama",
          "Romance",
          "Drama",
          "Fantasy",
          "Romance",
          "Drama",
          "Fantasy",
          "Mystery",
          "Romance",
          "Musical",
          "Sport",
          "Comedy",
          "Sci-Fi",
          "Thriller",
          "Music",
          "Music",
          "Drama",
          "Fantasy",
          "Crime",
          "Thriller",
          "Sport",
          "Romance",
          "Thriller",
          "Family",
          "Fantasy",
          "Thriller",
          "Drama",
          "History",
          "Family",
          "Adventure",
          "Drama",
          "Adventure",
          "Family",
          "History",
          "Drama",
          "Sci-Fi",
          "History",
          "Horror",
          "History",
          "Fantasy",
          "Drama",
          "Drama",
          "Musical",
          "War",
          "Fantasy",
          "Thriller",
          "Thriller",
          "Musical",
          "Biography",
          "Musical",
          "Romance",
          "Musical",
          "Fantasy",
          "Romance",
          "Film-Noir",
          "Film-Noir",
          "Mystery",
          "Romance",
          "Western",
          "Romance",
          "Musical",
          "Sci-Fi",
          "Sci-Fi",
          "Comedy",
          "Mystery",
          "Thriller",
          "Thriller",
          "Drama",
          "Adventure",
          "Romance",
          "Family",
          "Romance",
          "Comedy",
          "Romance",
          "Drama",
          "Comedy",
          "Drama",
          "Comedy",
          "Drama",
          "Romance",
          "Drama",
          "Adventure",
          "Sci-Fi",
          "Sci-Fi",
          "Sci-Fi",
          "Thriller",
          "Romance",
          "Thriller",
          "Romance",
          "Fantasy",
          "History",
          "Fantasy",
          "Romance",
          "Comedy",
          "Thriller",
          "Mystery",
          "Thriller",
          "Music",
          "Music",
          "Drama",
          "Comedy",
          "War",
          "Drama",
          "Fantasy",
          "Thriller",
          "Music",
          "Fantasy",
          "Drama",
          "Family",
          "Thriller",
          "Family",
          "Romance",
          "Drama",
          "History",
          "Thriller",
          "Music",
          "Drama",
          "Fantasy",
          "Crime",
          "Mystery",
          "Fantasy",
          "Drama",
          "Thriller",
          "Sci-Fi",
          "Romance",
          "Romance",
          "Thriller",
          "Drama",
          "Music",
          "Mystery",
          "History",
          "Drama",
          "Family",
          "History",
          "Drama",
          "Thriller",
          "Comedy",
          "Mystery",
          "Music",
          "Thriller",
          "Romance",
          "Comedy",
          "History",
          "War",
          "Mystery",
          "Drama",
          "Mystery",
          "Romance",
          "Family",
          "Sci-Fi",
          "Thriller",
          "Music",
          "Drama",
          "Drama",
          "Thriller",
          "Drama",
          "Thriller",
          "War",
          "Crime",
          "History",
          "War",
          "Thriller",
          "History",
          "Western",
          "Sci-Fi",
          "Romance",
          "Romance",
          "Drama",
          "Fantasy",
          "Drama",
          "History",
          "Comedy",
          "Thriller",
          "Comedy",
          "Thriller",
          "Adventure",
          "Comedy",
          "Drama",
          "Sport",
          "Thriller",
          "Drama",
          "Drama",
          "Thriller",
          "Crime",
          "Romance",
          "Comedy",
          "Romance",
          "Crime",
          "Drama",
          "Sport",
          "Thriller",
          "Horror",
          "Sport",
          "Comedy",
          "Thriller",
          "Fantasy",
          "History",
          "History",
          "Mystery",
          "Mystery",
          "Adventure",
          "Thriller",
          "Mystery",
          "Thriller",
          "Romance",
          "Romance",
          "Thriller",
          "Fantasy",
          "Thriller",
          "Thriller",
          "Horror",
          "Romance",
          "Fantasy",
          "War",
          "Comedy",
          "Sci-Fi",
          "Sci-Fi",
          "Thriller",
          "Romance",
          "Thriller",
          "Comedy",
          "Sci-Fi",
          "Thriller",
          "Sci-Fi",
          "Drama",
          "Sci-Fi",
          "Thriller",
          "Drama",
          "War",
          "Comedy",
          "Thriller",
          "Mystery",
          "Romance",
          "Romance",
          "War",
          "Family",
          "Thriller"
         ],
         "xaxis": "x",
         "yaxis": "y"
        }
       ],
       "layout": {
        "bargap": 0.2,
        "barmode": "relative",
        "font": {
         "color": "white",
         "family": "Lato",
         "size": 18
        },
        "legend": {
         "tracegroupgap": 0
        },
        "margin": {
         "t": 60
        },
        "paper_bgcolor": "black",
        "plot_bgcolor": "black",
        "template": {
         "data": {
          "bar": [
           {
            "error_x": {
             "color": "#2a3f5f"
            },
            "error_y": {
             "color": "#2a3f5f"
            },
            "marker": {
             "line": {
              "color": "#E5ECF6",
              "width": 0.5
             },
             "pattern": {
              "fillmode": "overlay",
              "size": 10,
              "solidity": 0.2
             }
            },
            "type": "bar"
           }
          ],
          "barpolar": [
           {
            "marker": {
             "line": {
              "color": "#E5ECF6",
              "width": 0.5
             },
             "pattern": {
              "fillmode": "overlay",
              "size": 10,
              "solidity": 0.2
             }
            },
            "type": "barpolar"
           }
          ],
          "carpet": [
           {
            "aaxis": {
             "endlinecolor": "#2a3f5f",
             "gridcolor": "white",
             "linecolor": "white",
             "minorgridcolor": "white",
             "startlinecolor": "#2a3f5f"
            },
            "baxis": {
             "endlinecolor": "#2a3f5f",
             "gridcolor": "white",
             "linecolor": "white",
             "minorgridcolor": "white",
             "startlinecolor": "#2a3f5f"
            },
            "type": "carpet"
           }
          ],
          "choropleth": [
           {
            "colorbar": {
             "outlinewidth": 0,
             "ticks": ""
            },
            "type": "choropleth"
           }
          ],
          "contour": [
           {
            "colorbar": {
             "outlinewidth": 0,
             "ticks": ""
            },
            "colorscale": [
             [
              0,
              "#0d0887"
             ],
             [
              0.1111111111111111,
              "#46039f"
             ],
             [
              0.2222222222222222,
              "#7201a8"
             ],
             [
              0.3333333333333333,
              "#9c179e"
             ],
             [
              0.4444444444444444,
              "#bd3786"
             ],
             [
              0.5555555555555556,
              "#d8576b"
             ],
             [
              0.6666666666666666,
              "#ed7953"
             ],
             [
              0.7777777777777778,
              "#fb9f3a"
             ],
             [
              0.8888888888888888,
              "#fdca26"
             ],
             [
              1,
              "#f0f921"
             ]
            ],
            "type": "contour"
           }
          ],
          "contourcarpet": [
           {
            "colorbar": {
             "outlinewidth": 0,
             "ticks": ""
            },
            "type": "contourcarpet"
           }
          ],
          "heatmap": [
           {
            "colorbar": {
             "outlinewidth": 0,
             "ticks": ""
            },
            "colorscale": [
             [
              0,
              "#0d0887"
             ],
             [
              0.1111111111111111,
              "#46039f"
             ],
             [
              0.2222222222222222,
              "#7201a8"
             ],
             [
              0.3333333333333333,
              "#9c179e"
             ],
             [
              0.4444444444444444,
              "#bd3786"
             ],
             [
              0.5555555555555556,
              "#d8576b"
             ],
             [
              0.6666666666666666,
              "#ed7953"
             ],
             [
              0.7777777777777778,
              "#fb9f3a"
             ],
             [
              0.8888888888888888,
              "#fdca26"
             ],
             [
              1,
              "#f0f921"
             ]
            ],
            "type": "heatmap"
           }
          ],
          "heatmapgl": [
           {
            "colorbar": {
             "outlinewidth": 0,
             "ticks": ""
            },
            "colorscale": [
             [
              0,
              "#0d0887"
             ],
             [
              0.1111111111111111,
              "#46039f"
             ],
             [
              0.2222222222222222,
              "#7201a8"
             ],
             [
              0.3333333333333333,
              "#9c179e"
             ],
             [
              0.4444444444444444,
              "#bd3786"
             ],
             [
              0.5555555555555556,
              "#d8576b"
             ],
             [
              0.6666666666666666,
              "#ed7953"
             ],
             [
              0.7777777777777778,
              "#fb9f3a"
             ],
             [
              0.8888888888888888,
              "#fdca26"
             ],
             [
              1,
              "#f0f921"
             ]
            ],
            "type": "heatmapgl"
           }
          ],
          "histogram": [
           {
            "marker": {
             "pattern": {
              "fillmode": "overlay",
              "size": 10,
              "solidity": 0.2
             }
            },
            "type": "histogram"
           }
          ],
          "histogram2d": [
           {
            "colorbar": {
             "outlinewidth": 0,
             "ticks": ""
            },
            "colorscale": [
             [
              0,
              "#0d0887"
             ],
             [
              0.1111111111111111,
              "#46039f"
             ],
             [
              0.2222222222222222,
              "#7201a8"
             ],
             [
              0.3333333333333333,
              "#9c179e"
             ],
             [
              0.4444444444444444,
              "#bd3786"
             ],
             [
              0.5555555555555556,
              "#d8576b"
             ],
             [
              0.6666666666666666,
              "#ed7953"
             ],
             [
              0.7777777777777778,
              "#fb9f3a"
             ],
             [
              0.8888888888888888,
              "#fdca26"
             ],
             [
              1,
              "#f0f921"
             ]
            ],
            "type": "histogram2d"
           }
          ],
          "histogram2dcontour": [
           {
            "colorbar": {
             "outlinewidth": 0,
             "ticks": ""
            },
            "colorscale": [
             [
              0,
              "#0d0887"
             ],
             [
              0.1111111111111111,
              "#46039f"
             ],
             [
              0.2222222222222222,
              "#7201a8"
             ],
             [
              0.3333333333333333,
              "#9c179e"
             ],
             [
              0.4444444444444444,
              "#bd3786"
             ],
             [
              0.5555555555555556,
              "#d8576b"
             ],
             [
              0.6666666666666666,
              "#ed7953"
             ],
             [
              0.7777777777777778,
              "#fb9f3a"
             ],
             [
              0.8888888888888888,
              "#fdca26"
             ],
             [
              1,
              "#f0f921"
             ]
            ],
            "type": "histogram2dcontour"
           }
          ],
          "mesh3d": [
           {
            "colorbar": {
             "outlinewidth": 0,
             "ticks": ""
            },
            "type": "mesh3d"
           }
          ],
          "parcoords": [
           {
            "line": {
             "colorbar": {
              "outlinewidth": 0,
              "ticks": ""
             }
            },
            "type": "parcoords"
           }
          ],
          "pie": [
           {
            "automargin": true,
            "type": "pie"
           }
          ],
          "scatter": [
           {
            "marker": {
             "colorbar": {
              "outlinewidth": 0,
              "ticks": ""
             }
            },
            "type": "scatter"
           }
          ],
          "scatter3d": [
           {
            "line": {
             "colorbar": {
              "outlinewidth": 0,
              "ticks": ""
             }
            },
            "marker": {
             "colorbar": {
              "outlinewidth": 0,
              "ticks": ""
             }
            },
            "type": "scatter3d"
           }
          ],
          "scattercarpet": [
           {
            "marker": {
             "colorbar": {
              "outlinewidth": 0,
              "ticks": ""
             }
            },
            "type": "scattercarpet"
           }
          ],
          "scattergeo": [
           {
            "marker": {
             "colorbar": {
              "outlinewidth": 0,
              "ticks": ""
             }
            },
            "type": "scattergeo"
           }
          ],
          "scattergl": [
           {
            "marker": {
             "colorbar": {
              "outlinewidth": 0,
              "ticks": ""
             }
            },
            "type": "scattergl"
           }
          ],
          "scattermapbox": [
           {
            "marker": {
             "colorbar": {
              "outlinewidth": 0,
              "ticks": ""
             }
            },
            "type": "scattermapbox"
           }
          ],
          "scatterpolar": [
           {
            "marker": {
             "colorbar": {
              "outlinewidth": 0,
              "ticks": ""
             }
            },
            "type": "scatterpolar"
           }
          ],
          "scatterpolargl": [
           {
            "marker": {
             "colorbar": {
              "outlinewidth": 0,
              "ticks": ""
             }
            },
            "type": "scatterpolargl"
           }
          ],
          "scatterternary": [
           {
            "marker": {
             "colorbar": {
              "outlinewidth": 0,
              "ticks": ""
             }
            },
            "type": "scatterternary"
           }
          ],
          "surface": [
           {
            "colorbar": {
             "outlinewidth": 0,
             "ticks": ""
            },
            "colorscale": [
             [
              0,
              "#0d0887"
             ],
             [
              0.1111111111111111,
              "#46039f"
             ],
             [
              0.2222222222222222,
              "#7201a8"
             ],
             [
              0.3333333333333333,
              "#9c179e"
             ],
             [
              0.4444444444444444,
              "#bd3786"
             ],
             [
              0.5555555555555556,
              "#d8576b"
             ],
             [
              0.6666666666666666,
              "#ed7953"
             ],
             [
              0.7777777777777778,
              "#fb9f3a"
             ],
             [
              0.8888888888888888,
              "#fdca26"
             ],
             [
              1,
              "#f0f921"
             ]
            ],
            "type": "surface"
           }
          ],
          "table": [
           {
            "cells": {
             "fill": {
              "color": "#EBF0F8"
             },
             "line": {
              "color": "white"
             }
            },
            "header": {
             "fill": {
              "color": "#C8D4E3"
             },
             "line": {
              "color": "white"
             }
            },
            "type": "table"
           }
          ]
         },
         "layout": {
          "annotationdefaults": {
           "arrowcolor": "#2a3f5f",
           "arrowhead": 0,
           "arrowwidth": 1
          },
          "autotypenumbers": "strict",
          "coloraxis": {
           "colorbar": {
            "outlinewidth": 0,
            "ticks": ""
           }
          },
          "colorscale": {
           "diverging": [
            [
             0,
             "#8e0152"
            ],
            [
             0.1,
             "#c51b7d"
            ],
            [
             0.2,
             "#de77ae"
            ],
            [
             0.3,
             "#f1b6da"
            ],
            [
             0.4,
             "#fde0ef"
            ],
            [
             0.5,
             "#f7f7f7"
            ],
            [
             0.6,
             "#e6f5d0"
            ],
            [
             0.7,
             "#b8e186"
            ],
            [
             0.8,
             "#7fbc41"
            ],
            [
             0.9,
             "#4d9221"
            ],
            [
             1,
             "#276419"
            ]
           ],
           "sequential": [
            [
             0,
             "#0d0887"
            ],
            [
             0.1111111111111111,
             "#46039f"
            ],
            [
             0.2222222222222222,
             "#7201a8"
            ],
            [
             0.3333333333333333,
             "#9c179e"
            ],
            [
             0.4444444444444444,
             "#bd3786"
            ],
            [
             0.5555555555555556,
             "#d8576b"
            ],
            [
             0.6666666666666666,
             "#ed7953"
            ],
            [
             0.7777777777777778,
             "#fb9f3a"
            ],
            [
             0.8888888888888888,
             "#fdca26"
            ],
            [
             1,
             "#f0f921"
            ]
           ],
           "sequentialminus": [
            [
             0,
             "#0d0887"
            ],
            [
             0.1111111111111111,
             "#46039f"
            ],
            [
             0.2222222222222222,
             "#7201a8"
            ],
            [
             0.3333333333333333,
             "#9c179e"
            ],
            [
             0.4444444444444444,
             "#bd3786"
            ],
            [
             0.5555555555555556,
             "#d8576b"
            ],
            [
             0.6666666666666666,
             "#ed7953"
            ],
            [
             0.7777777777777778,
             "#fb9f3a"
            ],
            [
             0.8888888888888888,
             "#fdca26"
            ],
            [
             1,
             "#f0f921"
            ]
           ]
          },
          "colorway": [
           "#636efa",
           "#EF553B",
           "#00cc96",
           "#ab63fa",
           "#FFA15A",
           "#19d3f3",
           "#FF6692",
           "#B6E880",
           "#FF97FF",
           "#FECB52"
          ],
          "font": {
           "color": "#2a3f5f"
          },
          "geo": {
           "bgcolor": "white",
           "lakecolor": "white",
           "landcolor": "#E5ECF6",
           "showlakes": true,
           "showland": true,
           "subunitcolor": "white"
          },
          "hoverlabel": {
           "align": "left"
          },
          "hovermode": "closest",
          "mapbox": {
           "style": "light"
          },
          "paper_bgcolor": "white",
          "plot_bgcolor": "#E5ECF6",
          "polar": {
           "angularaxis": {
            "gridcolor": "white",
            "linecolor": "white",
            "ticks": ""
           },
           "bgcolor": "#E5ECF6",
           "radialaxis": {
            "gridcolor": "white",
            "linecolor": "white",
            "ticks": ""
           }
          },
          "scene": {
           "xaxis": {
            "backgroundcolor": "#E5ECF6",
            "gridcolor": "white",
            "gridwidth": 2,
            "linecolor": "white",
            "showbackground": true,
            "ticks": "",
            "zerolinecolor": "white"
           },
           "yaxis": {
            "backgroundcolor": "#E5ECF6",
            "gridcolor": "white",
            "gridwidth": 2,
            "linecolor": "white",
            "showbackground": true,
            "ticks": "",
            "zerolinecolor": "white"
           },
           "zaxis": {
            "backgroundcolor": "#E5ECF6",
            "gridcolor": "white",
            "gridwidth": 2,
            "linecolor": "white",
            "showbackground": true,
            "ticks": "",
            "zerolinecolor": "white"
           }
          },
          "shapedefaults": {
           "line": {
            "color": "#2a3f5f"
           }
          },
          "ternary": {
           "aaxis": {
            "gridcolor": "white",
            "linecolor": "white",
            "ticks": ""
           },
           "baxis": {
            "gridcolor": "white",
            "linecolor": "white",
            "ticks": ""
           },
           "bgcolor": "#E5ECF6",
           "caxis": {
            "gridcolor": "white",
            "linecolor": "white",
            "ticks": ""
           }
          },
          "title": {
           "x": 0.05
          },
          "xaxis": {
           "automargin": true,
           "gridcolor": "white",
           "linecolor": "white",
           "ticks": "",
           "title": {
            "standoff": 15
           },
           "zerolinecolor": "white",
           "zerolinewidth": 2
          },
          "yaxis": {
           "automargin": true,
           "gridcolor": "white",
           "linecolor": "white",
           "ticks": "",
           "title": {
            "standoff": 15
           },
           "zerolinecolor": "white",
           "zerolinewidth": 2
          }
         }
        },
        "title": {
         "font": {
          "size": 30
         },
         "text": "<b>Genre Count<b>",
         "x": 0.5
        },
        "xaxis": {
         "anchor": "y",
         "domain": [
          0,
          1
         ],
         "showgrid": false,
         "tickangle": 30,
         "title": {
          "text": "Genres"
         }
        },
        "yaxis": {
         "anchor": "x",
         "domain": [
          0,
          1
         ],
         "showgrid": false,
         "title": {
          "text": "Count"
         }
        }
       }
      },
      "text/html": [
       "<div>                            <div id=\"3daad120-4d3b-4737-a38b-b5547a51b379\" class=\"plotly-graph-div\" style=\"height:525px; width:100%;\"></div>            <script type=\"text/javascript\">                require([\"plotly\"], function(Plotly) {                    window.PLOTLYENV=window.PLOTLYENV || {};                                    if (document.getElementById(\"3daad120-4d3b-4737-a38b-b5547a51b379\")) {                    Plotly.newPlot(                        \"3daad120-4d3b-4737-a38b-b5547a51b379\",                        [{\"alignmentgroup\":\"True\",\"bingroup\":\"x\",\"hovertemplate\":\"x=%{x}<br>count=%{y}<extra></extra>\",\"legendgroup\":\"\",\"marker\":{\"color\":\"gold\",\"pattern\":{\"shape\":\"\"}},\"name\":\"\",\"offsetgroup\":\"\",\"orientation\":\"v\",\"showlegend\":false,\"type\":\"histogram\",\"x\":[\"Drama\",\"Crime\",\"Action\",\"Action\",\"Biography\",\"Crime\",\"Crime\",\"Crime\",\"Crime\",\"Action\",\"Action\",\"Drama\",\"Action\",\"Drama\",\"Adventure\",\"Drama\",\"Action\",\"Biography\",\"Action\",\"Drama\",\"Action\",\"Adventure\",\"Crime\",\"Animation\",\"Drama\",\"Crime\",\"Comedy\",\"Crime\",\"Action\",\"Crime\",\"Action\",\"Action\",\"Action\",\"Drama\",\"Action\",\"Action\",\"Action\",\"Comedy\",\"Drama\",\"Biography\",\"Biography\",\"Drama\",\"Crime\",\"Biography\",\"Action\",\"Crime\",\"Crime\",\"Action\",\"Animation\",\"Drama\",\"Animation\",\"Adventure\",\"Drama\",\"Horror\",\"Western\",\"Horror\",\"Mystery\",\"Drama\",\"Comedy\",\"Comedy\",\"Drama\",\"Crime\",\"Drama\",\"Animation\",\"Animation\",\"Action\",\"Action\",\"Animation\",\"Drama\",\"Action\",\"Crime\",\"Comedy\",\"Action\",\"Action\",\"Animation\",\"Drama\",\"Action\",\"Mystery\",\"Drama\",\"Animation\",\"Biography\",\"Drama\",\"Action\",\"Biography\",\"Action\",\"Drama\",\"Drama\",\"Crime\",\"Comedy\",\"Crime\",\"Drama\",\"Drama\",\"Comedy\",\"Biography\",\"Crime\",\"Biography\",\"Action\",\"Crime\",\"Drama\",\"Drama\",\"Drama\",\"Action\",\"Animation\",\"Drama\",\"Animation\",\"Adventure\",\"Drama\",\"Comedy\",\"Comedy\",\"Drama\",\"Drama\",\"Animation\",\"Action\",\"Crime\",\"Drama\",\"Crime\",\"Crime\",\"Action\",\"Comedy\",\"Crime\",\"Adventure\",\"Crime\",\"Adventure\",\"Drama\",\"Comedy\",\"Action\",\"Mystery\",\"Drama\",\"Comedy\",\"Drama\",\"Drama\",\"Crime\",\"Drama\",\"Crime\",\"Drama\",\"Comedy\",\"Comedy\",\"Action\",\"Action\",\"Drama\",\"Comedy\",\"Action\",\"Biography\",\"Action\",\"Action\",\"Action\",\"Crime\",\"Biography\",\"Animation\",\"Action\",\"Action\",\"Drama\",\"Action\",\"Mystery\",\"Animation\",\"Drama\",\"Crime\",\"Drama\",\"Biography\",\"Crime\",\"Drama\",\"Drama\",\"Drama\",\"Action\",\"Action\",\"Biography\",\"Animation\",\"Biography\",\"Action\",\"Animation\",\"Drama\",\"Action\",\"Comedy\",\"Crime\",\"Drama\",\"Crime\",\"Action\",\"Drama\",\"Action\",\"Action\",\"Action\",\"Horror\",\"Biography\",\"Biography\",\"Crime\",\"Adventure\",\"Adventure\",\"Drama\",\"Crime\",\"Western\",\"Adventure\",\"Action\",\"Comedy\",\"Adventure\",\"Crime\",\"Drama\",\"Adventure\",\"Drama\",\"Crime\",\"Drama\",\"Adventure\",\"Comedy\",\"Drama\",\"Biography\",\"Action\",\"Adventure\",\"Action\",\"Drama\",\"Crime\",\"Animation\",\"Comedy\",\"Crime\",\"Animation\",\"Drama\",\"Drama\",\"Action\",\"Action\",\"Adventure\",\"Action\",\"Drama\",\"Comedy\",\"Drama\",\"Comedy\",\"Comedy\",\"Adventure\",\"Drama\",\"Animation\",\"Biography\",\"Comedy\",\"Biography\",\"Action\",\"Action\",\"Biography\",\"Mystery\",\"Drama\",\"Comedy\",\"Drama\",\"Crime\",\"Action\",\"Action\",\"Drama\",\"Adventure\",\"Biography\",\"Animation\",\"Animation\",\"Drama\",\"Adventure\",\"Comedy\",\"Drama\",\"Biography\",\"Animation\",\"Drama\",\"Drama\",\"Comedy\",\"Drama\",\"Crime\",\"Action\",\"Comedy\",\"Biography\",\"Comedy\",\"Drama\",\"Action\",\"Action\",\"Animation\",\"Drama\",\"Drama\",\"Animation\",\"Comedy\",\"Drama\",\"Drama\",\"Crime\",\"Crime\",\"Comedy\",\"Crime\",\"Drama\",\"Drama\",\"Biography\",\"Comedy\",\"Drama\",\"Drama\",\"Comedy\",\"Comedy\",\"Animation\",\"Adventure\",\"Drama\",\"Comedy\",\"Action\",\"Drama\",\"Biography\",\"Drama\",\"Action\",\"Drama\",\"Drama\",\"Drama\",\"Drama\",\"Drama\",\"Biography\",\"Action\",\"Adventure\",\"Adventure\",\"Comedy\",\"Horror\",\"Drama\",\"Crime\",\"Drama\",\"Biography\",\"Drama\",\"Drama\",\"Drama\",\"Biography\",\"Crime\",\"Adventure\",\"Action\",\"Drama\",\"Drama\",\"Drama\",\"Drama\",\"Crime\",\"Crime\",\"Crime\",\"Drama\",\"Action\",\"Film-Noir\",\"Drama\",\"Drama\",\"Comedy\",\"Drama\",\"Drama\",\"Adventure\",\"Comedy\",\"Drama\",\"Comedy\",\"Drama\",\"Comedy\",\"Drama\",\"Action\",\"Comedy\",\"Animation\",\"Crime\",\"Comedy\",\"Biography\",\"Adventure\",\"Drama\",\"Animation\",\"Animation\",\"Drama\",\"Action\",\"Animation\",\"Crime\",\"Biography\",\"Action\",\"Animation\",\"Action\",\"Drama\",\"Action\",\"Drama\",\"Action\",\"Biography\",\"Action\",\"Action\",\"Action\",\"Action\",\"Drama\",\"Comedy\",\"Crime\",\"Drama\",\"Action\",\"Action\",\"Animation\",\"Comedy\",\"Biography\",\"Adventure\",\"Action\",\"Drama\",\"Crime\",\"Biography\",\"Action\",\"Adventure\",\"Action\",\"Action\",\"Drama\",\"Biography\",\"Biography\",\"Action\",\"Adventure\",\"Animation\",\"Comedy\",\"Crime\",\"Comedy\",\"Drama\",\"Drama\",\"Animation\",\"Biography\",\"Animation\",\"Drama\",\"Drama\",\"Comedy\",\"Drama\",\"Comedy\",\"Mystery\",\"Drama\",\"Comedy\",\"Action\",\"Drama\",\"Animation\",\"Drama\",\"Animation\",\"Adventure\",\"Drama\",\"Animation\",\"Adventure\",\"Drama\",\"Drama\",\"Animation\",\"Animation\",\"Drama\",\"Drama\",\"Adventure\",\"Comedy\",\"Comedy\",\"Comedy\",\"Biography\",\"Biography\",\"Comedy\",\"Biography\",\"Drama\",\"Drama\",\"Mystery\",\"Drama\",\"Drama\",\"Biography\",\"Drama\",\"Adventure\",\"Crime\",\"Comedy\",\"Drama\",\"Biography\",\"Drama\",\"Drama\",\"Drama\",\"Drama\",\"Action\",\"Drama\",\"Drama\",\"Comedy\",\"Western\",\"Drama\",\"Crime\",\"Drama\",\"Crime\",\"Crime\",\"Drama\",\"Comedy\",\"Comedy\",\"Drama\",\"Comedy\",\"Crime\",\"Drama\",\"Crime\",\"Drama\",\"Crime\",\"Drama\",\"Horror\",\"Comedy\",\"Crime\",\"Drama\",\"Biography\",\"Biography\",\"Adventure\",\"Action\",\"Biography\",\"Action\",\"Comedy\",\"Action\",\"Comedy\",\"Drama\",\"Drama\",\"Drama\",\"Drama\",\"Action\",\"Drama\",\"Action\",\"Action\",\"Biography\",\"Drama\",\"Comedy\",\"Action\",\"Drama\",\"Drama\",\"Comedy\",\"Adventure\",\"Action\",\"Drama\",\"Action\",\"Drama\",\"Comedy\",\"Drama\",\"Comedy\",\"Drama\",\"Action\",\"Biography\",\"Comedy\",\"Drama\",\"Action\",\"Adventure\",\"Animation\",\"Crime\",\"Comedy\",\"Drama\",\"Action\",\"Comedy\",\"Comedy\",\"Drama\",\"Crime\",\"Adventure\",\"Action\",\"Drama\",\"Comedy\",\"Action\",\"Crime\",\"Action\",\"Action\",\"Adventure\",\"Crime\",\"Drama\",\"Animation\",\"Animation\",\"Drama\",\"Action\",\"Drama\",\"Animation\",\"Animation\",\"Crime\",\"Crime\",\"Drama\",\"Animation\",\"Crime\",\"Crime\",\"Drama\",\"Biography\",\"Comedy\",\"Crime\",\"Drama\",\"Comedy\",\"Drama\",\"Comedy\",\"Comedy\",\"Adventure\",\"Drama\",\"Action\",\"Comedy\",\"Drama\",\"Comedy\",\"Comedy\",\"Biography\",\"Drama\",\"Crime\",\"Action\",\"Biography\",\"Drama\",\"Biography\",\"Drama\",\"Action\",\"Comedy\",\"Drama\",\"Drama\",\"Adventure\",\"Drama\",\"Drama\",\"Crime\",\"Adventure\",\"Adventure\",\"Crime\",\"Drama\",\"Crime\",\"Drama\",\"Comedy\",\"Crime\",\"Comedy\",\"Drama\",\"Crime\",\"Drama\",\"Drama\",\"Drama\",\"Comedy\",\"Adventure\",\"Comedy\",\"Comedy\",\"Action\",\"Comedy\",\"Adventure\",\"Drama\",\"Fantasy\",\"Action\",\"Animation\",\"Comedy\",\"Drama\",\"Drama\",\"Animation\",\"Action\",\"Biography\",\"Adventure\",\"Adventure\",\"Drama\",\"Drama\",\"Action\",\"Biography\",\"Comedy\",\"Action\",\"Crime\",\"Drama\",\"Animation\",\"Biography\",\"Crime\",\"Action\",\"Drama\",\"Comedy\",\"Animation\",\"Comedy\",\"Comedy\",\"Crime\",\"Action\",\"Crime\",\"Comedy\",\"Animation\",\"Biography\",\"Action\",\"Crime\",\"Action\",\"Biography\",\"Biography\",\"Biography\",\"Crime\",\"Crime\",\"Action\",\"Drama\",\"Adventure\",\"Drama\",\"Crime\",\"Action\",\"Action\",\"Action\",\"Drama\",\"Adventure\",\"Biography\",\"Drama\",\"Action\",\"Biography\",\"Action\",\"Drama\",\"Action\",\"Adventure\",\"Comedy\",\"Action\",\"Drama\",\"Drama\",\"Drama\",\"Biography\",\"Animation\",\"Action\",\"Crime\",\"Comedy\",\"Biography\",\"Drama\",\"Action\",\"Adventure\",\"Crime\",\"Animation\",\"Animation\",\"Action\",\"Biography\",\"Drama\",\"Adventure\",\"Biography\",\"Biography\",\"Comedy\",\"Drama\",\"Drama\",\"Drama\",\"Biography\",\"Biography\",\"Comedy\",\"Drama\",\"Animation\",\"Action\",\"Crime\",\"Animation\",\"Crime\",\"Drama\",\"Biography\",\"Animation\",\"Biography\",\"Action\",\"Comedy\",\"Adventure\",\"Crime\",\"Action\",\"Comedy\",\"Comedy\",\"Biography\",\"Action\",\"Adventure\",\"Comedy\",\"Drama\",\"Drama\",\"Drama\",\"Horror\",\"Western\",\"Adventure\",\"Adventure\",\"Drama\",\"Crime\",\"Comedy\",\"Drama\",\"Action\",\"Family\",\"Drama\",\"Horror\",\"Comedy\",\"Drama\",\"Drama\",\"Comedy\",\"Horror\",\"Drama\",\"Drama\",\"Drama\",\"Crime\",\"Drama\",\"Adventure\",\"Crime\",\"Film-Noir\",\"Comedy\",\"Adventure\",\"Comedy\",\"Mystery\",\"Comedy\",\"Comedy\",\"Drama\",\"Comedy\",\"Drama\",\"Drama\",\"Action\",\"Drama\",\"Crime\",\"Drama\",\"Horror\",\"Action\",\"Comedy\",\"Action\",\"Animation\",\"Comedy\",\"Animation\",\"Biography\",\"Action\",\"Drama\",\"Comedy\",\"Comedy\",\"Drama\",\"Drama\",\"Drama\",\"Drama\",\"Animation\",\"Animation\",\"Adventure\",\"Animation\",\"Animation\",\"Drama\",\"Comedy\",\"Drama\",\"Action\",\"Animation\",\"Action\",\"Action\",\"Drama\",\"Action\",\"Comedy\",\"Drama\",\"Comedy\",\"Comedy\",\"Biography\",\"Comedy\",\"Adventure\",\"Drama\",\"Drama\",\"Biography\",\"Animation\",\"Comedy\",\"Animation\",\"Crime\",\"Drama\",\"Drama\",\"Crime\",\"Crime\",\"Drama\",\"Biography\",\"Comedy\",\"Animation\",\"Drama\",\"Drama\",\"Action\",\"Action\",\"Action\",\"Drama\",\"Biography\",\"Drama\",\"Comedy\",\"Adventure\",\"Action\",\"Animation\",\"Drama\",\"Crime\",\"Biography\",\"Comedy\",\"Drama\",\"Animation\",\"Comedy\",\"Action\",\"Crime\",\"Drama\",\"Drama\",\"Comedy\",\"Action\",\"Drama\",\"Animation\",\"Crime\",\"Adventure\",\"Action\",\"Animation\",\"Comedy\",\"Comedy\",\"Action\",\"Action\",\"Action\",\"Drama\",\"Drama\",\"Comedy\",\"Crime\",\"Drama\",\"Biography\",\"Drama\",\"Biography\",\"Crime\",\"Drama\",\"Adventure\",\"Biography\",\"Comedy\",\"Drama\",\"Comedy\",\"Drama\",\"Comedy\",\"Comedy\",\"Biography\",\"Action\",\"Action\",\"Animation\",\"Crime\",\"Drama\",\"Comedy\",\"Drama\",\"Drama\",\"Drama\",\"Crime\",\"Comedy\",\"Comedy\",\"Animation\",\"Mystery\",\"Biography\",\"Comedy\",\"Drama\",\"Drama\",\"Comedy\",\"Crime\",\"Comedy\",\"Adventure\",\"Drama\",\"Comedy\",\"Drama\",\"Action\",\"Action\",\"Drama\",\"Comedy\",\"Horror\",\"Comedy\",\"Comedy\",\"Comedy\",\"Biography\",\"Animation\",\"Action\",\"Adventure\",\"Action\",\"Action\",\"Thriller\",\"Action\",\"Action\",\"Drama\",\"Biography\",\"Drama\",\"Action\",\"Action\",\"Drama\",\"Drama\",\"Action\",\"Crime\",\"Drama\",\"Drama\",\"Comedy\",\"Adventure\",\"Action\",\"Animation\",\"Action\",\"Biography\",\"Animation\",\"Drama\",\"Comedy\",\"Action\",\"Drama\",\"Animation\",\"Animation\",\"Comedy\",\"Action\",\"Action\",\"Crime\",\"Crime\",\"Biography\",\"Action\",\"Action\",\"Action\",\"Drama\",\"Drama\",\"Animation\",\"Comedy\",\"Action\",\"Action\",\"Biography\",\"Drama\",\"Action\",\"Biography\",\"Animation\",\"Comedy\",\"Drama\",\"Crime\",\"Adventure\",\"Action\",\"Biography\",\"Crime\",\"Crime\",\"Animation\",\"Action\",\"Drama\",\"Action\",\"Crime\",\"Horror\",\"Crime\",\"Drama\",\"Comedy\",\"Comedy\",\"Drama\",\"Drama\",\"Drama\",\"Comedy\",\"Adventure\",\"Horror\",\"Crime\",\"Crime\",\"Comedy\",\"Action\",\"Drama\",\"Animation\",\"Action\",\"Comedy\",\"Fantasy\",\"Action\",\"Drama\",\"Comedy\",\"Comedy\",\"Comedy\",\"Crime\",\"Animation\",\"Comedy\",\"Action\",\"Action\",\"Drama\",\"Comedy\",\"Action\",\"Drama\",\"Action\",\"Action\",\"Action\",\"Comedy\",\"Animation\",\"Drama\",\"Drama\",\"Comedy\",\"Drama\",\"Drama\",\"Comedy\",\"Drama\",\"Animation\",\"Crime\",\"Horror\",\"Drama\",\"Crime\",\"Adventure\",\"Drama\",\"Drama\",\"Drama\",\"Drama\",\"Drama\",\"Adventure\",\"Adventure\",\"Adventure\",\"Romance\",\"Western\",\"Sci-Fi\",\"Crime\",\"Adventure\",\"Drama\",\"Drama\",\"Drama\",\"Adventure\",\"War\",\"Drama\",\"Drama\",\"Drama\",\"Sci-Fi\",\"Drama\",\"Adventure\",\"Drama\",\"Drama\",\"Family\",\"Crime\",\"Drama\",\"Thriller\",\"Drama\",\"Music\",\"Comedy\",\"Crime\",\"Mystery\",\"Drama\",\"Drama\",\"Adventure\",\"Drama\",\"Drama\",\"Crime\",\"Adventure\",\"Romance\",\"Drama\",\"Comedy\",\"Mystery\",\"Sci-Fi\",\"Mystery\",\"Thriller\",\"Romance\",\"Drama\",\"Drama\",\"Drama\",\"Romance\",\"Drama\",\"Action\",\"Adventure\",\"Adventure\",\"Adventure\",\"Western\",\"Drama\",\"Drama\",\"Drama\",\"Crime\",\"Biography\",\"Adventure\",\"Mystery\",\"Drama\",\"Thriller\",\"Adventure\",\"Drama\",\"Thriller\",\"Adventure\",\"Drama\",\"Adventure\",\"War\",\"Horror\",\"Drama\",\"War\",\"Drama\",\"War\",\"Film-Noir\",\"Drama\",\"Drama\",\"Drama\",\"Drama\",\"Biography\",\"Drama\",\"Mystery\",\"Adventure\",\"Adventure\",\"Family\",\"Adventure\",\"Drama\",\"Romance\",\"Romance\",\"Crime\",\"Romance\",\"Adventure\",\"Crime\",\"Drama\",\"War\",\"Drama\",\"Drama\",\"Adventure\",\"Crime\",\"Sci-Fi\",\"Sci-Fi\",\"Drama\",\"Biography\",\"War\",\"Drama\",\"Adventure\",\"Romance\",\"Musical\",\"Drama\",\"Mystery\",\"Mystery\",\"Sci-Fi\",\"Drama\",\"Drama\",\"Drama\",\"Drama\",\"Fantasy\",\"Crime\",\"Crime\",\"Comedy\",\"Adventure\",\"Crime\",\"Drama\",\"Drama\",\"Drama\",\"Adventure\",\"Comedy\",\"Biography\",\"Mystery\",\"Drama\",\"Thriller\",\"Action\",\"Drama\",\"Mystery\",\"Comedy\",\"Drama\",\"Family\",\"Fantasy\",\"Drama\",\"Crime\",\"Drama\",\"Adventure\",\"Drama\",\"Crime\",\"Adventure\",\"Mystery\",\"Comedy\",\"Drama\",\"Drama\",\"Family\",\"Drama\",\"Adventure\",\"Western\",\"Adventure\",\"Thriller\",\"Drama\",\"Mystery\",\"Drama\",\"Drama\",\"Drama\",\"Comedy\",\"Biography\",\"Mystery\",\"Drama\",\"Drama\",\"Drama\",\"Music\",\"Drama\",\"Thriller\",\"Drama\",\"Drama\",\"Drama\",\"Romance\",\"Romance\",\"Drama\",\"Adventure\",\"Comedy\",\"Comedy\",\"Romance\",\"Drama\",\"Drama\",\"Crime\",\"Drama\",\"Adventure\",\"Romance\",\"Adventure\",\"Crime\",\"Comedy\",\"Drama\",\"Thriller\",\"Drama\",\"War\",\"Drama\",\"Drama\",\"Comedy\",\"Mystery\",\"Drama\",\"Drama\",\"Drama\",\"Drama\",\"Biography\",\"Biography\",\"Crime\",\"Thriller\",\"Drama\",\"Drama\",\"Adventure\",\"Crime\",\"Fantasy\",\"Drama\",\"Comedy\",\"Action\",\"Family\",\"Biography\",\"Crime\",\"Sport\",\"Drama\",\"Adventure\",\"Romance\",\"Drama\",\"Musical\",\"Drama\",\"Adventure\",\"Drama\",\"Crime\",\"Drama\",\"Thriller\",\"Comedy\",\"Drama\",\"Adventure\",\"Musical\",\"Action\",\"Crime\",\"Romance\",\"Thriller\",\"Drama\",\"Drama\",\"Drama\",\"Romance\",\"Mystery\",\"Crime\",\"Drama\",\"Music\",\"History\",\"Crime\",\"Drama\",\"Comedy\",\"Drama\",\"War\",\"Drama\",\"Sci-Fi\",\"Drama\",\"Drama\",\"Sci-Fi\",\"Music\",\"War\",\"Sport\",\"Drama\",\"Adventure\",\"Thriller\",\"Drama\",\"Crime\",\"Musical\",\"Drama\",\"Thriller\",\"Drama\",\"War\",\"Western\",\"Drama\",\"Drama\",\"Drama\",\"Adventure\",\"Romance\",\"Fantasy\",\"History\",\"Drama\",\"Drama\",\"Drama\",\"Film-Noir\",\"Crime\",\"Mystery\",\"Music\",\"Romance\",\"Drama\",\"Film-Noir\",\"Family\",\"Drama\",\"War\",\"Romance\",\"War\",\"Family\",\"Romance\",\"Drama\",\"Drama\",\"Adventure\",\"Drama\",\"Drama\",\"Drama\",\"Drama\",\"Adventure\",\"Adventure\",\"Drama\",\"Drama\",\"Drama\",\"Drama\",\"Adventure\",\"Adventure\",\"Drama\",\"Romance\",\"Adventure\",\"Romance\",\"Crime\",\"Drama\",\"Adventure\",\"Adventure\",\"Biography\",\"Adventure\",\"Music\",\"Drama\",\"Drama\",\"Thriller\",\"Crime\",\"Adventure\",\"Biography\",\"Drama\",\"Drama\",\"Drama\",\"Mystery\",\"Thriller\",\"Drama\",\"Drama\",\"Comedy\",\"Adventure\",\"Crime\",\"Romance\",\"Drama\",\"Drama\",\"Crime\",\"Drama\",\"Action\",\"Drama\",\"Drama\",\"Drama\",\"Mystery\",\"Action\",\"Drama\",\"Crime\",\"Music\",\"Crime\",\"Drama\",\"Sci-Fi\",\"Romance\",\"Crime\",\"Comedy\",\"Adventure\",\"History\",\"Family\",\"Drama\",\"Action\",\"Family\",\"Fantasy\",\"War\",\"Adventure\",\"Adventure\",\"Fantasy\",\"Drama\",\"Drama\",\"Romance\",\"Crime\",\"Drama\",\"Crime\",\"Mystery\",\"Thriller\",\"Romance\",\"Family\",\"Crime\",\"Horror\",\"Sci-Fi\",\"Drama\",\"Drama\",\"Drama\",\"History\",\"Fantasy\",\"Horror\",\"Drama\",\"War\",\"Sport\",\"Drama\",\"Mystery\",\"Drama\",\"Film-Noir\",\"Drama\",\"Drama\",\"Drama\",\"Romance\",\"Thriller\",\"Crime\",\"Drama\",\"Thriller\",\"Drama\",\"Romance\",\"Film-Noir\",\"History\",\"Mystery\",\"Crime\",\"Drama\",\"Romance\",\"Drama\",\"Comedy\",\"Biography\",\"Drama\",\"Drama\",\"Crime\",\"Drama\",\"Adventure\",\"Drama\",\"Family\",\"Mystery\",\"Music\",\"Crime\",\"Romance\",\"Adventure\",\"Crime\",\"Drama\",\"Romance\",\"Drama\",\"Adventure\",\"Mystery\",\"Drama\",\"Drama\",\"Drama\",\"Fantasy\",\"Sci-Fi\",\"Sport\",\"Drama\",\"Drama\",\"Adventure\",\"Drama\",\"Crime\",\"Fantasy\",\"Adventure\",\"Drama\",\"Adventure\",\"Drama\",\"Drama\",\"Adventure\",\"Horror\",\"Drama\",\"Romance\",\"Drama\",\"Family\",\"Adventure\",\"Mystery\",\"Drama\",\"Mystery\",\"Drama\",\"Drama\",\"Adventure\",\"Comedy\",\"Drama\",\"Mystery\",\"Adventure\",\"Adventure\",\"Romance\",\"Crime\",\"Drama\",\"Action\",\"Drama\",\"Drama\",\"Music\",\"Family\",\"Drama\",\"Drama\",\"Fantasy\",\"Drama\",\"Drama\",\"Drama\",\"Drama\",\"Sci-Fi\",\"Music\",\"Family\",\"Family\",\"History\",\"Adventure\",\"Drama\",\"History\",\"Drama\",\"Drama\",\"Drama\",\"Drama\",\"Adventure\",\"Drama\",\"Mystery\",\"Crime\",\"Romance\",\"Drama\",\"Mystery\",\"Thriller\",\"Biography\",\"Romance\",\"Drama\",\"Drama\",\"Drama\",\"Film-Noir\",\"Drama\",\"Film-Noir\",\"Drama\",\"Drama\",\"Drama\",\"Film-Noir\",\"Film-Noir\",\"Fantasy\",\"Film-Noir\",\"Film-Noir\",\"Crime\",\"Comedy\",\"Romance\",\"Drama\",\"Adventure\",\"Mystery\",\"Horror\",\"Horror\",\"Horror\",\"Comedy\",\"Action\",\"Drama\",\"Romance\",\"Adventure\",\"Drama\",\"Drama\",\"Comedy\",\"Comedy\",\"History\",\"Adventure\",\"Drama\",\"Drama\",\"Adventure\",\"Drama\",\"Romance\",\"Biography\",\"Comedy\",\"Drama\",\"Adventure\",\"Romance\",\"Romance\",\"Action\",\"Drama\",\"Drama\",\"Drama\",\"Adventure\",\"Drama\",\"Drama\",\"Action\",\"Comedy\",\"Crime\",\"Drama\",\"Biography\",\"Drama\",\"Crime\",\"Drama\",\"Drama\",\"Drama\",\"Crime\",\"Mystery\",\"Fantasy\",\"Mystery\",\"Drama\",\"Adventure\",\"Biography\",\"Crime\",\"Music\",\"Fantasy\",\"Crime\",\"Mystery\",\"Drama\",\"Crime\",\"Adventure\",\"Fantasy\",\"Adventure\",\"Drama\",\"Drama\",\"Comedy\",\"Fantasy\",\"Family\",\"Romance\",\"Drama\",\"Adventure\",\"Adventure\",\"Drama\",\"Drama\",\"Drama\",\"Romance\",\"Drama\",\"Biography\",\"Drama\",\"Drama\",\"Action\",\"Drama\",\"Drama\",\"Drama\",\"Drama\",\"Drama\",\"Drama\",\"Sci-Fi\",\"Comedy\",\"Drama\",\"Drama\",\"Romance\",\"Action\",\"Crime\",\"Drama\",\"Action\",\"Drama\",\"Thriller\",\"Drama\",\"Adventure\",\"Drama\",\"Crime\",\"Drama\",\"Comedy\",\"Drama\",\"Adventure\",\"Drama\",\"Drama\",\"Comedy\",\"Biography\",\"Crime\",\"Music\",\"Romance\",\"Thriller\",\"History\",\"Drama\",\"Mystery\",\"Drama\",\"Music\",\"Adventure\",\"Fantasy\",\"Thriller\",\"Drama\",\"Musical\",\"Family\",\"Family\",\"Mystery\",\"Sci-Fi\",\"Drama\",\"Western\",\"Comedy\",\"Drama\",\"Thriller\",\"Drama\",\"Drama\",\"Drama\",\"Thriller\",\"Music\",\"Horror\",\"Musical\",\"Horror\",\"Adventure\",\"Music\",\"Drama\",\"Mystery\",\"Adventure\",\"Drama\",\"Crime\",\"Action\",\"Drama\",\"Drama\",\"Drama\",\"Adventure\",\"Romance\",\"Drama\",\"Drama\",\"Mystery\",\"Romance\",\"Music\",\"Biography\",\"Adventure\",\"Comedy\",\"Adventure\",\"Adventure\",\"Fantasy\",\"Thriller\",\"Crime\",\"Action\",\"Drama\",\"Adventure\",\"War\",\"Adventure\",\"History\",\"Drama\",\"Drama\",\"Drama\",\"Drama\",\"Family\",\"War\",\"Drama\",\"Drama\",\"Drama\",\"Adventure\",\"Drama\",\"Sci-Fi\",\"Drama\",\"Drama\",\"History\",\"Drama\",\"Crime\",\"Adventure\",\"Thriller\",\"Romance\",\"Crime\",\"Comedy\",\"Mystery\",\"Thriller\",\"Drama\",\"Drama\",\"Family\",\"Crime\",\"Drama\",\"Drama\",\"Drama\",\"Drama\",\"Comedy\",\"Drama\",\"Drama\",\"Drama\",\"Thriller\",\"Music\",\"Drama\",\"Adventure\",\"Drama\",\"Thriller\",\"Comedy\",\"Crime\",\"Comedy\",\"Drama\",\"Thriller\",\"Crime\",\"Crime\",\"Mystery\",\"Drama\",\"Drama\",\"Mystery\",\"Crime\",\"Romance\",\"Drama\",\"Drama\",\"Romance\",\"Drama\",\"Comedy\",\"Drama\",\"Drama\",\"Drama\",\"Drama\",\"Adventure\",\"Crime\",\"Adventure\",\"Drama\",\"Thriller\",\"Drama\",\"Fantasy\",\"Fantasy\",\"Drama\",\"Family\",\"Drama\",\"Adventure\",\"Thriller\",\"Drama\",\"Horror\",\"History\",\"History\",\"Crime\",\"Drama\",\"Fantasy\",\"Comedy\",\"Adventure\",\"Adventure\",\"Thriller\",\"Drama\",\"War\",\"Western\",\"Crime\",\"Sci-Fi\",\"Crime\",\"Drama\",\"Crime\",\"Crime\",\"Adventure\",\"Biography\",\"Romance\",\"Drama\",\"History\",\"Adventure\",\"Drama\",\"Thriller\",\"Romance\",\"Adventure\",\"Drama\",\"Horror\",\"War\",\"Drama\",\"Drama\",\"Crime\",\"Family\",\"Crime\",\"Drama\",\"Adventure\",\"Mystery\",\"Drama\",\"Adventure\",\"History\",\"Action\",\"Adventure\",\"Horror\",\"Crime\",\"Drama\",\"Drama\",\"Drama\",\"Comedy\",\"Adventure\",\"Crime\",\"Adventure\",\"Music\",\"Western\",\"Adventure\",\"Drama\",\"Comedy\",\"Crime\",\"Drama\",\"Horror\",\"Comedy\",\"Drama\",\"Adventure\",\"Drama\",\"Family\",\"Drama\",\"Drama\",\"Drama\",\"Drama\",\"Action\",\"Drama\",\"Romance\",\"Drama\",\"Drama\",\"Mystery\",\"Drama\",\"Mystery\",\"Drama\",\"Drama\",\"Sci-Fi\",\"Drama\",\"Family\",\"Mystery\",\"Drama\",\"Drama\",\"Drama\",\"Adventure\",\"History\",\"Adventure\",\"Adventure\",\"Mystery\",\"Adventure\",\"Romance\",\"Drama\",\"Crime\",\"Drama\",\"Drama\",\"Adventure\",\"Crime\",\"Crime\",\"Crime\",\"Horror\",\"Crime\",\"Adventure\",\"Sci-Fi\",\"Crime\",\"Crime\",\"Adventure\",\"Adventure\",\"Horror\",\"Horror\",\"Drama\",\"Horror\",\"Drama\",\"Romance\",\"Adventure\",\"Mystery\",\"Sci-Fi\",\"Drama\",\"Drama\",\"History\",\"Mystery\",\"Sci-Fi\",\"Drama\",\"Drama\",\"Drama\",\"Fantasy\",\"Sci-Fi\",\"Family\",\"Fantasy\",\"Romance\",\"Mystery\",\"Thriller\",\"Fantasy\",\"Mystery\",\"Fantasy\",\"Thriller\",\"Thriller\",\"Drama\",\"Drama\",\"Sci-Fi\",\"Thriller\",\"Music\",\"Drama\",\"Mystery\",\"Drama\",\"Drama\",\"War\",\"Sci-Fi\",\"War\",\"Thriller\",\"War\",\"Romance\",\"Romance\",\"Thriller\",\"Fantasy\",\"Adventure\",\"Drama\",\"Sci-Fi\",\"Comedy\",\"Thriller\",\"Drama\",\"Drama\",\"Family\",\"Thriller\",\"Mystery\",\"Fantasy\",\"History\",\"War\",\"Sci-Fi\",\"Music\",\"Mystery\",\"Mystery\",\"War\",\"History\",\"Mystery\",\"History\",\"Drama\",\"Thriller\",\"Fantasy\",\"Comedy\",\"Comedy\",\"War\",\"Sci-Fi\",\"Comedy\",\"Drama\",\"Thriller\",\"Fantasy\",\"Drama\",\"Drama\",\"Romance\",\"Mystery\",\"Thriller\",\"Romance\",\"Film-Noir\",\"Thriller\",\"Family\",\"Romance\",\"War\",\"History\",\"Horror\",\"Music\",\"Drama\",\"Drama\",\"Comedy\",\"Drama\",\"Mystery\",\"Sport\",\"Comedy\",\"Crime\",\"Crime\",\"Romance\",\"Sport\",\"Adventure\",\"Mystery\",\"Crime\",\"Thriller\",\"War\",\"Sci-Fi\",\"Drama\",\"History\",\"Family\",\"Drama\",\"Comedy\",\"Thriller\",\"Crime\",\"Mystery\",\"Sport\",\"Sci-Fi\",\"War\",\"Sci-Fi\",\"Sport\",\"Fantasy\",\"Drama\",\"Thriller\",\"Thriller\",\"History\",\"Thriller\",\"Romance\",\"War\",\"Thriller\",\"Mystery\",\"Western\",\"War\",\"War\",\"History\",\"Comedy\",\"Drama\",\"Romance\",\"Thriller\",\"Drama\",\"Mystery\",\"Comedy\",\"Thriller\",\"Comedy\",\"Drama\",\"Drama\",\"Sci-Fi\",\"Thriller\",\"Sci-Fi\",\"Fantasy\",\"Crime\",\"Thriller\",\"Family\",\"History\",\"Romance\",\"History\",\"Drama\",\"Drama\",\"Drama\",\"Musical\",\"Mystery\",\"Sci-Fi\",\"Drama\",\"Mystery\",\"Family\",\"Drama\",\"Adventure\",\"Sport\",\"Drama\",\"Drama\",\"History\",\"Comedy\",\"Mystery\",\"Fantasy\",\"Romance\",\"Drama\",\"Thriller\",\"Crime\",\"Thriller\",\"Comedy\",\"Sport\",\"Adventure\",\"Thriller\",\"Fantasy\",\"Romance\",\"Drama\",\"Fantasy\",\"Romance\",\"Romance\",\"Drama\",\"Family\",\"Sci-Fi\",\"History\",\"Comedy\",\"War\",\"Drama\",\"Family\",\"History\",\"Drama\",\"Thriller\",\"Thriller\",\"Horror\",\"Drama\",\"Thriller\",\"Romance\",\"War\",\"Romance\",\"Mystery\",\"Fantasy\",\"Romance\",\"Family\",\"Mystery\",\"Music\",\"Sci-Fi\",\"Comedy\",\"Comedy\",\"Family\",\"Thriller\",\"Thriller\",\"Comedy\",\"Drama\",\"Mystery\",\"Sci-Fi\",\"Drama\",\"Drama\",\"History\",\"Comedy\",\"Fantasy\",\"Drama\",\"Drama\",\"Music\",\"Romance\",\"Drama\",\"Sci-Fi\",\"Drama\",\"Romance\",\"Thriller\",\"Thriller\",\"War\",\"Sci-Fi\",\"Thriller\",\"Thriller\",\"Romance\",\"Drama\",\"Fantasy\",\"Adventure\",\"Romance\",\"Sci-Fi\",\"Drama\",\"Drama\",\"Romance\",\"Romance\",\"Thriller\",\"Drama\",\"Romance\",\"Comedy\",\"Thriller\",\"Fantasy\",\"Western\",\"Drama\",\"Fantasy\",\"Romance\",\"Family\",\"Sci-Fi\",\"Music\",\"Drama\",\"Drama\",\"Sci-Fi\",\"Musical\",\"Drama\",\"Romance\",\"History\",\"Thriller\",\"Thriller\",\"Film-Noir\",\"Film-Noir\",\"Film-Noir\",\"War\",\"Western\",\"Film-Noir\",\"War\",\"Film-Noir\",\"Mystery\",\"Thriller\",\"Thriller\",\"Drama\",\"Thriller\",\"Drama\",\"Drama\",\"History\",\"Sport\",\"Thriller\",\"Music\",\"Comedy\",\"War\",\"Sci-Fi\",\"Romance\",\"Thriller\",\"Sci-Fi\",\"Drama\",\"Music\",\"Romance\",\"Sci-Fi\",\"Romance\",\"Romance\",\"Thriller\",\"Horror\",\"Thriller\",\"Romance\",\"Romance\",\"Sci-Fi\",\"Drama\",\"Mystery\",\"Drama\",\"Fantasy\",\"Comedy\",\"Romance\",\"Sci-Fi\",\"Musical\",\"Mystery\",\"Fantasy\",\"Drama\",\"Romance\",\"War\",\"Thriller\",\"Thriller\",\"Sci-Fi\",\"Drama\",\"Drama\",\"Musical\",\"Thriller\",\"Comedy\",\"Comedy\",\"Comedy\",\"Family\",\"Crime\",\"Romance\",\"Mystery\",\"Fantasy\",\"Thriller\",\"Romance\",\"Thriller\",\"Sci-Fi\",\"War\",\"Comedy\",\"Romance\",\"Thriller\",\"Romance\",\"War\",\"Thriller\",\"Western\",\"History\",\"Thriller\",\"Drama\",\"War\",\"Western\",\"Romance\",\"Drama\",\"Thriller\",\"Family\",\"Western\",\"Thriller\",\"Film-Noir\",\"Mystery\",\"Fantasy\",\"Mystery\",\"Family\",\"Romance\",\"Mystery\",\"Romance\",\"Mystery\",\"Thriller\",\"Drama\",\"Romance\",\"Sci-Fi\",\"Crime\",\"Adventure\",\"Comedy\",\"History\",\"History\",\"Drama\",\"Family\",\"War\",\"Sci-Fi\",\"Music\",\"Sci-Fi\",\"Mystery\",\"Crime\",\"Drama\",\"Thriller\",\"Sci-Fi\",\"Adventure\",\"Fantasy\",\"Family\",\"Mystery\",\"Sci-Fi\",\"Romance\",\"Adventure\",\"Drama\",\"Drama\",\"Mystery\",\"Crime\",\"History\",\"Drama\",\"Mystery\",\"Drama\",\"Sci-Fi\",\"Thriller\",\"Mystery\",\"Thriller\",\"Drama\",\"Thriller\",\"Romance\",\"Drama\",\"Romance\",\"Drama\",\"Fantasy\",\"Romance\",\"Drama\",\"Fantasy\",\"Mystery\",\"Romance\",\"Musical\",\"Sport\",\"Comedy\",\"Sci-Fi\",\"Thriller\",\"Music\",\"Music\",\"Drama\",\"Fantasy\",\"Crime\",\"Thriller\",\"Sport\",\"Romance\",\"Thriller\",\"Family\",\"Fantasy\",\"Thriller\",\"Drama\",\"History\",\"Family\",\"Adventure\",\"Drama\",\"Adventure\",\"Family\",\"History\",\"Drama\",\"Sci-Fi\",\"History\",\"Horror\",\"History\",\"Fantasy\",\"Drama\",\"Drama\",\"Musical\",\"War\",\"Fantasy\",\"Thriller\",\"Thriller\",\"Musical\",\"Biography\",\"Musical\",\"Romance\",\"Musical\",\"Fantasy\",\"Romance\",\"Film-Noir\",\"Film-Noir\",\"Mystery\",\"Romance\",\"Western\",\"Romance\",\"Musical\",\"Sci-Fi\",\"Sci-Fi\",\"Comedy\",\"Mystery\",\"Thriller\",\"Thriller\",\"Drama\",\"Adventure\",\"Romance\",\"Family\",\"Romance\",\"Comedy\",\"Romance\",\"Drama\",\"Comedy\",\"Drama\",\"Comedy\",\"Drama\",\"Romance\",\"Drama\",\"Adventure\",\"Sci-Fi\",\"Sci-Fi\",\"Sci-Fi\",\"Thriller\",\"Romance\",\"Thriller\",\"Romance\",\"Fantasy\",\"History\",\"Fantasy\",\"Romance\",\"Comedy\",\"Thriller\",\"Mystery\",\"Thriller\",\"Music\",\"Music\",\"Drama\",\"Comedy\",\"War\",\"Drama\",\"Fantasy\",\"Thriller\",\"Music\",\"Fantasy\",\"Drama\",\"Family\",\"Thriller\",\"Family\",\"Romance\",\"Drama\",\"History\",\"Thriller\",\"Music\",\"Drama\",\"Fantasy\",\"Crime\",\"Mystery\",\"Fantasy\",\"Drama\",\"Thriller\",\"Sci-Fi\",\"Romance\",\"Romance\",\"Thriller\",\"Drama\",\"Music\",\"Mystery\",\"History\",\"Drama\",\"Family\",\"History\",\"Drama\",\"Thriller\",\"Comedy\",\"Mystery\",\"Music\",\"Thriller\",\"Romance\",\"Comedy\",\"History\",\"War\",\"Mystery\",\"Drama\",\"Mystery\",\"Romance\",\"Family\",\"Sci-Fi\",\"Thriller\",\"Music\",\"Drama\",\"Drama\",\"Thriller\",\"Drama\",\"Thriller\",\"War\",\"Crime\",\"History\",\"War\",\"Thriller\",\"History\",\"Western\",\"Sci-Fi\",\"Romance\",\"Romance\",\"Drama\",\"Fantasy\",\"Drama\",\"History\",\"Comedy\",\"Thriller\",\"Comedy\",\"Thriller\",\"Adventure\",\"Comedy\",\"Drama\",\"Sport\",\"Thriller\",\"Drama\",\"Drama\",\"Thriller\",\"Crime\",\"Romance\",\"Comedy\",\"Romance\",\"Crime\",\"Drama\",\"Sport\",\"Thriller\",\"Horror\",\"Sport\",\"Comedy\",\"Thriller\",\"Fantasy\",\"History\",\"History\",\"Mystery\",\"Mystery\",\"Adventure\",\"Thriller\",\"Mystery\",\"Thriller\",\"Romance\",\"Romance\",\"Thriller\",\"Fantasy\",\"Thriller\",\"Thriller\",\"Horror\",\"Romance\",\"Fantasy\",\"War\",\"Comedy\",\"Sci-Fi\",\"Sci-Fi\",\"Thriller\",\"Romance\",\"Thriller\",\"Comedy\",\"Sci-Fi\",\"Thriller\",\"Sci-Fi\",\"Drama\",\"Sci-Fi\",\"Thriller\",\"Drama\",\"War\",\"Comedy\",\"Thriller\",\"Mystery\",\"Romance\",\"Romance\",\"War\",\"Family\",\"Thriller\"],\"xaxis\":\"x\",\"yaxis\":\"y\"}],                        {\"bargap\":0.2,\"barmode\":\"relative\",\"font\":{\"color\":\"white\",\"family\":\"Lato\",\"size\":18},\"legend\":{\"tracegroupgap\":0},\"margin\":{\"t\":60},\"paper_bgcolor\":\"black\",\"plot_bgcolor\":\"black\",\"template\":{\"data\":{\"bar\":[{\"error_x\":{\"color\":\"#2a3f5f\"},\"error_y\":{\"color\":\"#2a3f5f\"},\"marker\":{\"line\":{\"color\":\"#E5ECF6\",\"width\":0.5},\"pattern\":{\"fillmode\":\"overlay\",\"size\":10,\"solidity\":0.2}},\"type\":\"bar\"}],\"barpolar\":[{\"marker\":{\"line\":{\"color\":\"#E5ECF6\",\"width\":0.5},\"pattern\":{\"fillmode\":\"overlay\",\"size\":10,\"solidity\":0.2}},\"type\":\"barpolar\"}],\"carpet\":[{\"aaxis\":{\"endlinecolor\":\"#2a3f5f\",\"gridcolor\":\"white\",\"linecolor\":\"white\",\"minorgridcolor\":\"white\",\"startlinecolor\":\"#2a3f5f\"},\"baxis\":{\"endlinecolor\":\"#2a3f5f\",\"gridcolor\":\"white\",\"linecolor\":\"white\",\"minorgridcolor\":\"white\",\"startlinecolor\":\"#2a3f5f\"},\"type\":\"carpet\"}],\"choropleth\":[{\"colorbar\":{\"outlinewidth\":0,\"ticks\":\"\"},\"type\":\"choropleth\"}],\"contour\":[{\"colorbar\":{\"outlinewidth\":0,\"ticks\":\"\"},\"colorscale\":[[0.0,\"#0d0887\"],[0.1111111111111111,\"#46039f\"],[0.2222222222222222,\"#7201a8\"],[0.3333333333333333,\"#9c179e\"],[0.4444444444444444,\"#bd3786\"],[0.5555555555555556,\"#d8576b\"],[0.6666666666666666,\"#ed7953\"],[0.7777777777777778,\"#fb9f3a\"],[0.8888888888888888,\"#fdca26\"],[1.0,\"#f0f921\"]],\"type\":\"contour\"}],\"contourcarpet\":[{\"colorbar\":{\"outlinewidth\":0,\"ticks\":\"\"},\"type\":\"contourcarpet\"}],\"heatmap\":[{\"colorbar\":{\"outlinewidth\":0,\"ticks\":\"\"},\"colorscale\":[[0.0,\"#0d0887\"],[0.1111111111111111,\"#46039f\"],[0.2222222222222222,\"#7201a8\"],[0.3333333333333333,\"#9c179e\"],[0.4444444444444444,\"#bd3786\"],[0.5555555555555556,\"#d8576b\"],[0.6666666666666666,\"#ed7953\"],[0.7777777777777778,\"#fb9f3a\"],[0.8888888888888888,\"#fdca26\"],[1.0,\"#f0f921\"]],\"type\":\"heatmap\"}],\"heatmapgl\":[{\"colorbar\":{\"outlinewidth\":0,\"ticks\":\"\"},\"colorscale\":[[0.0,\"#0d0887\"],[0.1111111111111111,\"#46039f\"],[0.2222222222222222,\"#7201a8\"],[0.3333333333333333,\"#9c179e\"],[0.4444444444444444,\"#bd3786\"],[0.5555555555555556,\"#d8576b\"],[0.6666666666666666,\"#ed7953\"],[0.7777777777777778,\"#fb9f3a\"],[0.8888888888888888,\"#fdca26\"],[1.0,\"#f0f921\"]],\"type\":\"heatmapgl\"}],\"histogram\":[{\"marker\":{\"pattern\":{\"fillmode\":\"overlay\",\"size\":10,\"solidity\":0.2}},\"type\":\"histogram\"}],\"histogram2d\":[{\"colorbar\":{\"outlinewidth\":0,\"ticks\":\"\"},\"colorscale\":[[0.0,\"#0d0887\"],[0.1111111111111111,\"#46039f\"],[0.2222222222222222,\"#7201a8\"],[0.3333333333333333,\"#9c179e\"],[0.4444444444444444,\"#bd3786\"],[0.5555555555555556,\"#d8576b\"],[0.6666666666666666,\"#ed7953\"],[0.7777777777777778,\"#fb9f3a\"],[0.8888888888888888,\"#fdca26\"],[1.0,\"#f0f921\"]],\"type\":\"histogram2d\"}],\"histogram2dcontour\":[{\"colorbar\":{\"outlinewidth\":0,\"ticks\":\"\"},\"colorscale\":[[0.0,\"#0d0887\"],[0.1111111111111111,\"#46039f\"],[0.2222222222222222,\"#7201a8\"],[0.3333333333333333,\"#9c179e\"],[0.4444444444444444,\"#bd3786\"],[0.5555555555555556,\"#d8576b\"],[0.6666666666666666,\"#ed7953\"],[0.7777777777777778,\"#fb9f3a\"],[0.8888888888888888,\"#fdca26\"],[1.0,\"#f0f921\"]],\"type\":\"histogram2dcontour\"}],\"mesh3d\":[{\"colorbar\":{\"outlinewidth\":0,\"ticks\":\"\"},\"type\":\"mesh3d\"}],\"parcoords\":[{\"line\":{\"colorbar\":{\"outlinewidth\":0,\"ticks\":\"\"}},\"type\":\"parcoords\"}],\"pie\":[{\"automargin\":true,\"type\":\"pie\"}],\"scatter\":[{\"marker\":{\"colorbar\":{\"outlinewidth\":0,\"ticks\":\"\"}},\"type\":\"scatter\"}],\"scatter3d\":[{\"line\":{\"colorbar\":{\"outlinewidth\":0,\"ticks\":\"\"}},\"marker\":{\"colorbar\":{\"outlinewidth\":0,\"ticks\":\"\"}},\"type\":\"scatter3d\"}],\"scattercarpet\":[{\"marker\":{\"colorbar\":{\"outlinewidth\":0,\"ticks\":\"\"}},\"type\":\"scattercarpet\"}],\"scattergeo\":[{\"marker\":{\"colorbar\":{\"outlinewidth\":0,\"ticks\":\"\"}},\"type\":\"scattergeo\"}],\"scattergl\":[{\"marker\":{\"colorbar\":{\"outlinewidth\":0,\"ticks\":\"\"}},\"type\":\"scattergl\"}],\"scattermapbox\":[{\"marker\":{\"colorbar\":{\"outlinewidth\":0,\"ticks\":\"\"}},\"type\":\"scattermapbox\"}],\"scatterpolar\":[{\"marker\":{\"colorbar\":{\"outlinewidth\":0,\"ticks\":\"\"}},\"type\":\"scatterpolar\"}],\"scatterpolargl\":[{\"marker\":{\"colorbar\":{\"outlinewidth\":0,\"ticks\":\"\"}},\"type\":\"scatterpolargl\"}],\"scatterternary\":[{\"marker\":{\"colorbar\":{\"outlinewidth\":0,\"ticks\":\"\"}},\"type\":\"scatterternary\"}],\"surface\":[{\"colorbar\":{\"outlinewidth\":0,\"ticks\":\"\"},\"colorscale\":[[0.0,\"#0d0887\"],[0.1111111111111111,\"#46039f\"],[0.2222222222222222,\"#7201a8\"],[0.3333333333333333,\"#9c179e\"],[0.4444444444444444,\"#bd3786\"],[0.5555555555555556,\"#d8576b\"],[0.6666666666666666,\"#ed7953\"],[0.7777777777777778,\"#fb9f3a\"],[0.8888888888888888,\"#fdca26\"],[1.0,\"#f0f921\"]],\"type\":\"surface\"}],\"table\":[{\"cells\":{\"fill\":{\"color\":\"#EBF0F8\"},\"line\":{\"color\":\"white\"}},\"header\":{\"fill\":{\"color\":\"#C8D4E3\"},\"line\":{\"color\":\"white\"}},\"type\":\"table\"}]},\"layout\":{\"annotationdefaults\":{\"arrowcolor\":\"#2a3f5f\",\"arrowhead\":0,\"arrowwidth\":1},\"autotypenumbers\":\"strict\",\"coloraxis\":{\"colorbar\":{\"outlinewidth\":0,\"ticks\":\"\"}},\"colorscale\":{\"diverging\":[[0,\"#8e0152\"],[0.1,\"#c51b7d\"],[0.2,\"#de77ae\"],[0.3,\"#f1b6da\"],[0.4,\"#fde0ef\"],[0.5,\"#f7f7f7\"],[0.6,\"#e6f5d0\"],[0.7,\"#b8e186\"],[0.8,\"#7fbc41\"],[0.9,\"#4d9221\"],[1,\"#276419\"]],\"sequential\":[[0.0,\"#0d0887\"],[0.1111111111111111,\"#46039f\"],[0.2222222222222222,\"#7201a8\"],[0.3333333333333333,\"#9c179e\"],[0.4444444444444444,\"#bd3786\"],[0.5555555555555556,\"#d8576b\"],[0.6666666666666666,\"#ed7953\"],[0.7777777777777778,\"#fb9f3a\"],[0.8888888888888888,\"#fdca26\"],[1.0,\"#f0f921\"]],\"sequentialminus\":[[0.0,\"#0d0887\"],[0.1111111111111111,\"#46039f\"],[0.2222222222222222,\"#7201a8\"],[0.3333333333333333,\"#9c179e\"],[0.4444444444444444,\"#bd3786\"],[0.5555555555555556,\"#d8576b\"],[0.6666666666666666,\"#ed7953\"],[0.7777777777777778,\"#fb9f3a\"],[0.8888888888888888,\"#fdca26\"],[1.0,\"#f0f921\"]]},\"colorway\":[\"#636efa\",\"#EF553B\",\"#00cc96\",\"#ab63fa\",\"#FFA15A\",\"#19d3f3\",\"#FF6692\",\"#B6E880\",\"#FF97FF\",\"#FECB52\"],\"font\":{\"color\":\"#2a3f5f\"},\"geo\":{\"bgcolor\":\"white\",\"lakecolor\":\"white\",\"landcolor\":\"#E5ECF6\",\"showlakes\":true,\"showland\":true,\"subunitcolor\":\"white\"},\"hoverlabel\":{\"align\":\"left\"},\"hovermode\":\"closest\",\"mapbox\":{\"style\":\"light\"},\"paper_bgcolor\":\"white\",\"plot_bgcolor\":\"#E5ECF6\",\"polar\":{\"angularaxis\":{\"gridcolor\":\"white\",\"linecolor\":\"white\",\"ticks\":\"\"},\"bgcolor\":\"#E5ECF6\",\"radialaxis\":{\"gridcolor\":\"white\",\"linecolor\":\"white\",\"ticks\":\"\"}},\"scene\":{\"xaxis\":{\"backgroundcolor\":\"#E5ECF6\",\"gridcolor\":\"white\",\"gridwidth\":2,\"linecolor\":\"white\",\"showbackground\":true,\"ticks\":\"\",\"zerolinecolor\":\"white\"},\"yaxis\":{\"backgroundcolor\":\"#E5ECF6\",\"gridcolor\":\"white\",\"gridwidth\":2,\"linecolor\":\"white\",\"showbackground\":true,\"ticks\":\"\",\"zerolinecolor\":\"white\"},\"zaxis\":{\"backgroundcolor\":\"#E5ECF6\",\"gridcolor\":\"white\",\"gridwidth\":2,\"linecolor\":\"white\",\"showbackground\":true,\"ticks\":\"\",\"zerolinecolor\":\"white\"}},\"shapedefaults\":{\"line\":{\"color\":\"#2a3f5f\"}},\"ternary\":{\"aaxis\":{\"gridcolor\":\"white\",\"linecolor\":\"white\",\"ticks\":\"\"},\"baxis\":{\"gridcolor\":\"white\",\"linecolor\":\"white\",\"ticks\":\"\"},\"bgcolor\":\"#E5ECF6\",\"caxis\":{\"gridcolor\":\"white\",\"linecolor\":\"white\",\"ticks\":\"\"}},\"title\":{\"x\":0.05},\"xaxis\":{\"automargin\":true,\"gridcolor\":\"white\",\"linecolor\":\"white\",\"ticks\":\"\",\"title\":{\"standoff\":15},\"zerolinecolor\":\"white\",\"zerolinewidth\":2},\"yaxis\":{\"automargin\":true,\"gridcolor\":\"white\",\"linecolor\":\"white\",\"ticks\":\"\",\"title\":{\"standoff\":15},\"zerolinecolor\":\"white\",\"zerolinewidth\":2}}},\"title\":{\"font\":{\"size\":30},\"text\":\"<b>Genre Count<b>\",\"x\":0.5},\"xaxis\":{\"anchor\":\"y\",\"domain\":[0.0,1.0],\"showgrid\":false,\"tickangle\":30,\"title\":{\"text\":\"Genres\"}},\"yaxis\":{\"anchor\":\"x\",\"domain\":[0.0,1.0],\"showgrid\":false,\"title\":{\"text\":\"Count\"}}},                        {\"responsive\": true}                    ).then(function(){\n",
       "                            \n",
       "var gd = document.getElementById('3daad120-4d3b-4737-a38b-b5547a51b379');\n",
       "var x = new MutationObserver(function (mutations, observer) {{\n",
       "        var display = window.getComputedStyle(gd).display;\n",
       "        if (!display || display === 'none') {{\n",
       "            console.log([gd, 'removed!']);\n",
       "            Plotly.purge(gd);\n",
       "            observer.disconnect();\n",
       "        }}\n",
       "}});\n",
       "\n",
       "// Listen for the removal of the full notebook cells\n",
       "var notebookContainer = gd.closest('#notebook-container');\n",
       "if (notebookContainer) {{\n",
       "    x.observe(notebookContainer, {childList: true});\n",
       "}}\n",
       "\n",
       "// Listen for the clearing of the current output cell\n",
       "var outputEl = gd.closest('.output');\n",
       "if (outputEl) {{\n",
       "    x.observe(outputEl, {childList: true});\n",
       "}}\n",
       "\n",
       "                        })                };                });            </script>        </div>"
      ]
     },
     "metadata": {},
     "output_type": "display_data"
    }
   ],
   "source": [
    "fig = px.histogram(data_frame =dfgenre.value_counts(),x=dfgenre['G'], color_discrete_sequence=['gold'])\n",
    "\n",
    "fig.update_layout(font=dict(family='Lato', size=18, color='white'), \n",
    "                  title=dict(text='<b>Genre Count<b>',\n",
    "                           font=dict(size=30), x=.5), bargap=0.2,\n",
    "                  paper_bgcolor= 'black', plot_bgcolor='black',\n",
    "                 xaxis = dict(title='Genres', showgrid=False),\n",
    "                 yaxis=dict(title='Count',showgrid=False))\n",
    "fig.update_xaxes(tickangle=30)\n",
    "fig.show()"
   ]
  },
  {
   "cell_type": "markdown",
   "id": "ffc03ff0",
   "metadata": {},
   "source": [
    "* Drama is the most popular genre in top movies having the count of 728.\n",
    "* Musical and Sport is least popular genre in top movies having the count of 16 each."
   ]
  },
  {
   "cell_type": "code",
   "execution_count": 19,
   "id": "8802fa57",
   "metadata": {},
   "outputs": [],
   "source": [
    "def bar_plot(column_name, data_frame =df, tribe='value_counts', by=None, limit=None, **kwargs):\n",
    "    \n",
    "    if type(column_name)!= str or column_name not in data_frame.columns:\n",
    "        raise ValueError('Incorrect name or type')\n",
    "        \n",
    "    if type(limit)!= int:\n",
    "        raise ValueError(f'expected int type, got {type(limit)}')\n",
    "        \n",
    "    if tribe == 'sort':\n",
    "        \n",
    "        if not by or by not in data_frame.columns:\n",
    "            raise ValueError('by parameter must be a column from dataframe!')\n",
    "        data = data_frame.sort_values(by=by, ascending=False).head(limit)\n",
    "        y=data[by].values\n",
    "        x=data[column_name]\n",
    "        title=by\n",
    "        \n",
    "    elif tribe == 'value_counts':\n",
    "        data = data_frame[column_name].value_counts().head(limit)\n",
    "        x=data.index\n",
    "        y=data.values\n",
    "        title=column_name\n",
    "            \n",
    "    fig = px.bar(x=x, y=y, color_discrete_sequence=['gold'])\n",
    "        \n",
    "    fig.update_layout(font=dict(family='Lato', size=18, color='white'),\n",
    "                        title=dict(text=f'<b>IMDB movies - {title}',\n",
    "                                  font = dict(size=30), x=0.5),\n",
    "                        paper_bgcolor='black', plot_bgcolor='black',\n",
    "                        xaxis=dict(title=f'{title}', showgrid=False),\n",
    "                        yaxis=dict(title=f'count', showgrid=False))\n",
    "    fig.update_xaxes(tickangle=30)\n",
    "    fig.show()\n",
    "        \n",
    "        "
   ]
  },
  {
   "cell_type": "markdown",
   "id": "844804b3",
   "metadata": {},
   "source": [
    "# Top 10 Grossing Movies"
   ]
  },
  {
   "cell_type": "code",
   "execution_count": 20,
   "id": "659d7555",
   "metadata": {},
   "outputs": [
    {
     "data": {
      "application/vnd.plotly.v1+json": {
       "config": {
        "plotlyServerURL": "https://plot.ly"
       },
       "data": [
        {
         "alignmentgroup": "True",
         "hovertemplate": "x=%{x}<br>y=%{y}<extra></extra>",
         "legendgroup": "",
         "marker": {
          "color": "gold",
          "pattern": {
           "shape": ""
          }
         },
         "name": "",
         "offsetgroup": "",
         "orientation": "v",
         "showlegend": false,
         "textposition": "auto",
         "type": "bar",
         "x": [
          "Star Wars: Episode VII - The Force Awakens",
          "Avengers: Endgame",
          "Spider-Man: No Way Home",
          "Avatar",
          "Avengers: Infinity War",
          "Titanic",
          "The Avengers",
          "Incredibles 2",
          "The Dark Knight",
          "Rogue One"
         ],
         "xaxis": "x",
         "y": [
          936.66,
          858.37,
          804.75,
          760.51,
          678.82,
          659.33,
          623.28,
          608.58,
          534.86,
          532.18
         ],
         "yaxis": "y"
        }
       ],
       "layout": {
        "barmode": "relative",
        "font": {
         "color": "white",
         "family": "Lato",
         "size": 18
        },
        "legend": {
         "tracegroupgap": 0
        },
        "margin": {
         "t": 60
        },
        "paper_bgcolor": "black",
        "plot_bgcolor": "black",
        "template": {
         "data": {
          "bar": [
           {
            "error_x": {
             "color": "#2a3f5f"
            },
            "error_y": {
             "color": "#2a3f5f"
            },
            "marker": {
             "line": {
              "color": "#E5ECF6",
              "width": 0.5
             },
             "pattern": {
              "fillmode": "overlay",
              "size": 10,
              "solidity": 0.2
             }
            },
            "type": "bar"
           }
          ],
          "barpolar": [
           {
            "marker": {
             "line": {
              "color": "#E5ECF6",
              "width": 0.5
             },
             "pattern": {
              "fillmode": "overlay",
              "size": 10,
              "solidity": 0.2
             }
            },
            "type": "barpolar"
           }
          ],
          "carpet": [
           {
            "aaxis": {
             "endlinecolor": "#2a3f5f",
             "gridcolor": "white",
             "linecolor": "white",
             "minorgridcolor": "white",
             "startlinecolor": "#2a3f5f"
            },
            "baxis": {
             "endlinecolor": "#2a3f5f",
             "gridcolor": "white",
             "linecolor": "white",
             "minorgridcolor": "white",
             "startlinecolor": "#2a3f5f"
            },
            "type": "carpet"
           }
          ],
          "choropleth": [
           {
            "colorbar": {
             "outlinewidth": 0,
             "ticks": ""
            },
            "type": "choropleth"
           }
          ],
          "contour": [
           {
            "colorbar": {
             "outlinewidth": 0,
             "ticks": ""
            },
            "colorscale": [
             [
              0,
              "#0d0887"
             ],
             [
              0.1111111111111111,
              "#46039f"
             ],
             [
              0.2222222222222222,
              "#7201a8"
             ],
             [
              0.3333333333333333,
              "#9c179e"
             ],
             [
              0.4444444444444444,
              "#bd3786"
             ],
             [
              0.5555555555555556,
              "#d8576b"
             ],
             [
              0.6666666666666666,
              "#ed7953"
             ],
             [
              0.7777777777777778,
              "#fb9f3a"
             ],
             [
              0.8888888888888888,
              "#fdca26"
             ],
             [
              1,
              "#f0f921"
             ]
            ],
            "type": "contour"
           }
          ],
          "contourcarpet": [
           {
            "colorbar": {
             "outlinewidth": 0,
             "ticks": ""
            },
            "type": "contourcarpet"
           }
          ],
          "heatmap": [
           {
            "colorbar": {
             "outlinewidth": 0,
             "ticks": ""
            },
            "colorscale": [
             [
              0,
              "#0d0887"
             ],
             [
              0.1111111111111111,
              "#46039f"
             ],
             [
              0.2222222222222222,
              "#7201a8"
             ],
             [
              0.3333333333333333,
              "#9c179e"
             ],
             [
              0.4444444444444444,
              "#bd3786"
             ],
             [
              0.5555555555555556,
              "#d8576b"
             ],
             [
              0.6666666666666666,
              "#ed7953"
             ],
             [
              0.7777777777777778,
              "#fb9f3a"
             ],
             [
              0.8888888888888888,
              "#fdca26"
             ],
             [
              1,
              "#f0f921"
             ]
            ],
            "type": "heatmap"
           }
          ],
          "heatmapgl": [
           {
            "colorbar": {
             "outlinewidth": 0,
             "ticks": ""
            },
            "colorscale": [
             [
              0,
              "#0d0887"
             ],
             [
              0.1111111111111111,
              "#46039f"
             ],
             [
              0.2222222222222222,
              "#7201a8"
             ],
             [
              0.3333333333333333,
              "#9c179e"
             ],
             [
              0.4444444444444444,
              "#bd3786"
             ],
             [
              0.5555555555555556,
              "#d8576b"
             ],
             [
              0.6666666666666666,
              "#ed7953"
             ],
             [
              0.7777777777777778,
              "#fb9f3a"
             ],
             [
              0.8888888888888888,
              "#fdca26"
             ],
             [
              1,
              "#f0f921"
             ]
            ],
            "type": "heatmapgl"
           }
          ],
          "histogram": [
           {
            "marker": {
             "pattern": {
              "fillmode": "overlay",
              "size": 10,
              "solidity": 0.2
             }
            },
            "type": "histogram"
           }
          ],
          "histogram2d": [
           {
            "colorbar": {
             "outlinewidth": 0,
             "ticks": ""
            },
            "colorscale": [
             [
              0,
              "#0d0887"
             ],
             [
              0.1111111111111111,
              "#46039f"
             ],
             [
              0.2222222222222222,
              "#7201a8"
             ],
             [
              0.3333333333333333,
              "#9c179e"
             ],
             [
              0.4444444444444444,
              "#bd3786"
             ],
             [
              0.5555555555555556,
              "#d8576b"
             ],
             [
              0.6666666666666666,
              "#ed7953"
             ],
             [
              0.7777777777777778,
              "#fb9f3a"
             ],
             [
              0.8888888888888888,
              "#fdca26"
             ],
             [
              1,
              "#f0f921"
             ]
            ],
            "type": "histogram2d"
           }
          ],
          "histogram2dcontour": [
           {
            "colorbar": {
             "outlinewidth": 0,
             "ticks": ""
            },
            "colorscale": [
             [
              0,
              "#0d0887"
             ],
             [
              0.1111111111111111,
              "#46039f"
             ],
             [
              0.2222222222222222,
              "#7201a8"
             ],
             [
              0.3333333333333333,
              "#9c179e"
             ],
             [
              0.4444444444444444,
              "#bd3786"
             ],
             [
              0.5555555555555556,
              "#d8576b"
             ],
             [
              0.6666666666666666,
              "#ed7953"
             ],
             [
              0.7777777777777778,
              "#fb9f3a"
             ],
             [
              0.8888888888888888,
              "#fdca26"
             ],
             [
              1,
              "#f0f921"
             ]
            ],
            "type": "histogram2dcontour"
           }
          ],
          "mesh3d": [
           {
            "colorbar": {
             "outlinewidth": 0,
             "ticks": ""
            },
            "type": "mesh3d"
           }
          ],
          "parcoords": [
           {
            "line": {
             "colorbar": {
              "outlinewidth": 0,
              "ticks": ""
             }
            },
            "type": "parcoords"
           }
          ],
          "pie": [
           {
            "automargin": true,
            "type": "pie"
           }
          ],
          "scatter": [
           {
            "marker": {
             "colorbar": {
              "outlinewidth": 0,
              "ticks": ""
             }
            },
            "type": "scatter"
           }
          ],
          "scatter3d": [
           {
            "line": {
             "colorbar": {
              "outlinewidth": 0,
              "ticks": ""
             }
            },
            "marker": {
             "colorbar": {
              "outlinewidth": 0,
              "ticks": ""
             }
            },
            "type": "scatter3d"
           }
          ],
          "scattercarpet": [
           {
            "marker": {
             "colorbar": {
              "outlinewidth": 0,
              "ticks": ""
             }
            },
            "type": "scattercarpet"
           }
          ],
          "scattergeo": [
           {
            "marker": {
             "colorbar": {
              "outlinewidth": 0,
              "ticks": ""
             }
            },
            "type": "scattergeo"
           }
          ],
          "scattergl": [
           {
            "marker": {
             "colorbar": {
              "outlinewidth": 0,
              "ticks": ""
             }
            },
            "type": "scattergl"
           }
          ],
          "scattermapbox": [
           {
            "marker": {
             "colorbar": {
              "outlinewidth": 0,
              "ticks": ""
             }
            },
            "type": "scattermapbox"
           }
          ],
          "scatterpolar": [
           {
            "marker": {
             "colorbar": {
              "outlinewidth": 0,
              "ticks": ""
             }
            },
            "type": "scatterpolar"
           }
          ],
          "scatterpolargl": [
           {
            "marker": {
             "colorbar": {
              "outlinewidth": 0,
              "ticks": ""
             }
            },
            "type": "scatterpolargl"
           }
          ],
          "scatterternary": [
           {
            "marker": {
             "colorbar": {
              "outlinewidth": 0,
              "ticks": ""
             }
            },
            "type": "scatterternary"
           }
          ],
          "surface": [
           {
            "colorbar": {
             "outlinewidth": 0,
             "ticks": ""
            },
            "colorscale": [
             [
              0,
              "#0d0887"
             ],
             [
              0.1111111111111111,
              "#46039f"
             ],
             [
              0.2222222222222222,
              "#7201a8"
             ],
             [
              0.3333333333333333,
              "#9c179e"
             ],
             [
              0.4444444444444444,
              "#bd3786"
             ],
             [
              0.5555555555555556,
              "#d8576b"
             ],
             [
              0.6666666666666666,
              "#ed7953"
             ],
             [
              0.7777777777777778,
              "#fb9f3a"
             ],
             [
              0.8888888888888888,
              "#fdca26"
             ],
             [
              1,
              "#f0f921"
             ]
            ],
            "type": "surface"
           }
          ],
          "table": [
           {
            "cells": {
             "fill": {
              "color": "#EBF0F8"
             },
             "line": {
              "color": "white"
             }
            },
            "header": {
             "fill": {
              "color": "#C8D4E3"
             },
             "line": {
              "color": "white"
             }
            },
            "type": "table"
           }
          ]
         },
         "layout": {
          "annotationdefaults": {
           "arrowcolor": "#2a3f5f",
           "arrowhead": 0,
           "arrowwidth": 1
          },
          "autotypenumbers": "strict",
          "coloraxis": {
           "colorbar": {
            "outlinewidth": 0,
            "ticks": ""
           }
          },
          "colorscale": {
           "diverging": [
            [
             0,
             "#8e0152"
            ],
            [
             0.1,
             "#c51b7d"
            ],
            [
             0.2,
             "#de77ae"
            ],
            [
             0.3,
             "#f1b6da"
            ],
            [
             0.4,
             "#fde0ef"
            ],
            [
             0.5,
             "#f7f7f7"
            ],
            [
             0.6,
             "#e6f5d0"
            ],
            [
             0.7,
             "#b8e186"
            ],
            [
             0.8,
             "#7fbc41"
            ],
            [
             0.9,
             "#4d9221"
            ],
            [
             1,
             "#276419"
            ]
           ],
           "sequential": [
            [
             0,
             "#0d0887"
            ],
            [
             0.1111111111111111,
             "#46039f"
            ],
            [
             0.2222222222222222,
             "#7201a8"
            ],
            [
             0.3333333333333333,
             "#9c179e"
            ],
            [
             0.4444444444444444,
             "#bd3786"
            ],
            [
             0.5555555555555556,
             "#d8576b"
            ],
            [
             0.6666666666666666,
             "#ed7953"
            ],
            [
             0.7777777777777778,
             "#fb9f3a"
            ],
            [
             0.8888888888888888,
             "#fdca26"
            ],
            [
             1,
             "#f0f921"
            ]
           ],
           "sequentialminus": [
            [
             0,
             "#0d0887"
            ],
            [
             0.1111111111111111,
             "#46039f"
            ],
            [
             0.2222222222222222,
             "#7201a8"
            ],
            [
             0.3333333333333333,
             "#9c179e"
            ],
            [
             0.4444444444444444,
             "#bd3786"
            ],
            [
             0.5555555555555556,
             "#d8576b"
            ],
            [
             0.6666666666666666,
             "#ed7953"
            ],
            [
             0.7777777777777778,
             "#fb9f3a"
            ],
            [
             0.8888888888888888,
             "#fdca26"
            ],
            [
             1,
             "#f0f921"
            ]
           ]
          },
          "colorway": [
           "#636efa",
           "#EF553B",
           "#00cc96",
           "#ab63fa",
           "#FFA15A",
           "#19d3f3",
           "#FF6692",
           "#B6E880",
           "#FF97FF",
           "#FECB52"
          ],
          "font": {
           "color": "#2a3f5f"
          },
          "geo": {
           "bgcolor": "white",
           "lakecolor": "white",
           "landcolor": "#E5ECF6",
           "showlakes": true,
           "showland": true,
           "subunitcolor": "white"
          },
          "hoverlabel": {
           "align": "left"
          },
          "hovermode": "closest",
          "mapbox": {
           "style": "light"
          },
          "paper_bgcolor": "white",
          "plot_bgcolor": "#E5ECF6",
          "polar": {
           "angularaxis": {
            "gridcolor": "white",
            "linecolor": "white",
            "ticks": ""
           },
           "bgcolor": "#E5ECF6",
           "radialaxis": {
            "gridcolor": "white",
            "linecolor": "white",
            "ticks": ""
           }
          },
          "scene": {
           "xaxis": {
            "backgroundcolor": "#E5ECF6",
            "gridcolor": "white",
            "gridwidth": 2,
            "linecolor": "white",
            "showbackground": true,
            "ticks": "",
            "zerolinecolor": "white"
           },
           "yaxis": {
            "backgroundcolor": "#E5ECF6",
            "gridcolor": "white",
            "gridwidth": 2,
            "linecolor": "white",
            "showbackground": true,
            "ticks": "",
            "zerolinecolor": "white"
           },
           "zaxis": {
            "backgroundcolor": "#E5ECF6",
            "gridcolor": "white",
            "gridwidth": 2,
            "linecolor": "white",
            "showbackground": true,
            "ticks": "",
            "zerolinecolor": "white"
           }
          },
          "shapedefaults": {
           "line": {
            "color": "#2a3f5f"
           }
          },
          "ternary": {
           "aaxis": {
            "gridcolor": "white",
            "linecolor": "white",
            "ticks": ""
           },
           "baxis": {
            "gridcolor": "white",
            "linecolor": "white",
            "ticks": ""
           },
           "bgcolor": "#E5ECF6",
           "caxis": {
            "gridcolor": "white",
            "linecolor": "white",
            "ticks": ""
           }
          },
          "title": {
           "x": 0.05
          },
          "xaxis": {
           "automargin": true,
           "gridcolor": "white",
           "linecolor": "white",
           "ticks": "",
           "title": {
            "standoff": 15
           },
           "zerolinecolor": "white",
           "zerolinewidth": 2
          },
          "yaxis": {
           "automargin": true,
           "gridcolor": "white",
           "linecolor": "white",
           "ticks": "",
           "title": {
            "standoff": 15
           },
           "zerolinecolor": "white",
           "zerolinewidth": 2
          }
         }
        },
        "title": {
         "font": {
          "size": 30
         },
         "text": "<b>IMDB movies - Gross",
         "x": 0.5
        },
        "xaxis": {
         "anchor": "y",
         "domain": [
          0,
          1
         ],
         "showgrid": false,
         "tickangle": 30,
         "title": {
          "text": "Gross"
         }
        },
        "yaxis": {
         "anchor": "x",
         "domain": [
          0,
          1
         ],
         "showgrid": false,
         "title": {
          "text": "count"
         }
        }
       }
      },
      "text/html": [
       "<div>                            <div id=\"e0741e84-6a78-44bc-bb34-58135be1ade9\" class=\"plotly-graph-div\" style=\"height:525px; width:100%;\"></div>            <script type=\"text/javascript\">                require([\"plotly\"], function(Plotly) {                    window.PLOTLYENV=window.PLOTLYENV || {};                                    if (document.getElementById(\"e0741e84-6a78-44bc-bb34-58135be1ade9\")) {                    Plotly.newPlot(                        \"e0741e84-6a78-44bc-bb34-58135be1ade9\",                        [{\"alignmentgroup\":\"True\",\"hovertemplate\":\"x=%{x}<br>y=%{y}<extra></extra>\",\"legendgroup\":\"\",\"marker\":{\"color\":\"gold\",\"pattern\":{\"shape\":\"\"}},\"name\":\"\",\"offsetgroup\":\"\",\"orientation\":\"v\",\"showlegend\":false,\"textposition\":\"auto\",\"type\":\"bar\",\"x\":[\"Star Wars: Episode VII - The Force Awakens\",\"Avengers: Endgame\",\"Spider-Man: No Way Home\",\"Avatar\",\"Avengers: Infinity War\",\"Titanic\",\"The Avengers\",\"Incredibles 2\",\"The Dark Knight\",\"Rogue One\"],\"xaxis\":\"x\",\"y\":[936.66,858.37,804.75,760.51,678.82,659.33,623.28,608.58,534.86,532.18],\"yaxis\":\"y\"}],                        {\"barmode\":\"relative\",\"font\":{\"color\":\"white\",\"family\":\"Lato\",\"size\":18},\"legend\":{\"tracegroupgap\":0},\"margin\":{\"t\":60},\"paper_bgcolor\":\"black\",\"plot_bgcolor\":\"black\",\"template\":{\"data\":{\"bar\":[{\"error_x\":{\"color\":\"#2a3f5f\"},\"error_y\":{\"color\":\"#2a3f5f\"},\"marker\":{\"line\":{\"color\":\"#E5ECF6\",\"width\":0.5},\"pattern\":{\"fillmode\":\"overlay\",\"size\":10,\"solidity\":0.2}},\"type\":\"bar\"}],\"barpolar\":[{\"marker\":{\"line\":{\"color\":\"#E5ECF6\",\"width\":0.5},\"pattern\":{\"fillmode\":\"overlay\",\"size\":10,\"solidity\":0.2}},\"type\":\"barpolar\"}],\"carpet\":[{\"aaxis\":{\"endlinecolor\":\"#2a3f5f\",\"gridcolor\":\"white\",\"linecolor\":\"white\",\"minorgridcolor\":\"white\",\"startlinecolor\":\"#2a3f5f\"},\"baxis\":{\"endlinecolor\":\"#2a3f5f\",\"gridcolor\":\"white\",\"linecolor\":\"white\",\"minorgridcolor\":\"white\",\"startlinecolor\":\"#2a3f5f\"},\"type\":\"carpet\"}],\"choropleth\":[{\"colorbar\":{\"outlinewidth\":0,\"ticks\":\"\"},\"type\":\"choropleth\"}],\"contour\":[{\"colorbar\":{\"outlinewidth\":0,\"ticks\":\"\"},\"colorscale\":[[0.0,\"#0d0887\"],[0.1111111111111111,\"#46039f\"],[0.2222222222222222,\"#7201a8\"],[0.3333333333333333,\"#9c179e\"],[0.4444444444444444,\"#bd3786\"],[0.5555555555555556,\"#d8576b\"],[0.6666666666666666,\"#ed7953\"],[0.7777777777777778,\"#fb9f3a\"],[0.8888888888888888,\"#fdca26\"],[1.0,\"#f0f921\"]],\"type\":\"contour\"}],\"contourcarpet\":[{\"colorbar\":{\"outlinewidth\":0,\"ticks\":\"\"},\"type\":\"contourcarpet\"}],\"heatmap\":[{\"colorbar\":{\"outlinewidth\":0,\"ticks\":\"\"},\"colorscale\":[[0.0,\"#0d0887\"],[0.1111111111111111,\"#46039f\"],[0.2222222222222222,\"#7201a8\"],[0.3333333333333333,\"#9c179e\"],[0.4444444444444444,\"#bd3786\"],[0.5555555555555556,\"#d8576b\"],[0.6666666666666666,\"#ed7953\"],[0.7777777777777778,\"#fb9f3a\"],[0.8888888888888888,\"#fdca26\"],[1.0,\"#f0f921\"]],\"type\":\"heatmap\"}],\"heatmapgl\":[{\"colorbar\":{\"outlinewidth\":0,\"ticks\":\"\"},\"colorscale\":[[0.0,\"#0d0887\"],[0.1111111111111111,\"#46039f\"],[0.2222222222222222,\"#7201a8\"],[0.3333333333333333,\"#9c179e\"],[0.4444444444444444,\"#bd3786\"],[0.5555555555555556,\"#d8576b\"],[0.6666666666666666,\"#ed7953\"],[0.7777777777777778,\"#fb9f3a\"],[0.8888888888888888,\"#fdca26\"],[1.0,\"#f0f921\"]],\"type\":\"heatmapgl\"}],\"histogram\":[{\"marker\":{\"pattern\":{\"fillmode\":\"overlay\",\"size\":10,\"solidity\":0.2}},\"type\":\"histogram\"}],\"histogram2d\":[{\"colorbar\":{\"outlinewidth\":0,\"ticks\":\"\"},\"colorscale\":[[0.0,\"#0d0887\"],[0.1111111111111111,\"#46039f\"],[0.2222222222222222,\"#7201a8\"],[0.3333333333333333,\"#9c179e\"],[0.4444444444444444,\"#bd3786\"],[0.5555555555555556,\"#d8576b\"],[0.6666666666666666,\"#ed7953\"],[0.7777777777777778,\"#fb9f3a\"],[0.8888888888888888,\"#fdca26\"],[1.0,\"#f0f921\"]],\"type\":\"histogram2d\"}],\"histogram2dcontour\":[{\"colorbar\":{\"outlinewidth\":0,\"ticks\":\"\"},\"colorscale\":[[0.0,\"#0d0887\"],[0.1111111111111111,\"#46039f\"],[0.2222222222222222,\"#7201a8\"],[0.3333333333333333,\"#9c179e\"],[0.4444444444444444,\"#bd3786\"],[0.5555555555555556,\"#d8576b\"],[0.6666666666666666,\"#ed7953\"],[0.7777777777777778,\"#fb9f3a\"],[0.8888888888888888,\"#fdca26\"],[1.0,\"#f0f921\"]],\"type\":\"histogram2dcontour\"}],\"mesh3d\":[{\"colorbar\":{\"outlinewidth\":0,\"ticks\":\"\"},\"type\":\"mesh3d\"}],\"parcoords\":[{\"line\":{\"colorbar\":{\"outlinewidth\":0,\"ticks\":\"\"}},\"type\":\"parcoords\"}],\"pie\":[{\"automargin\":true,\"type\":\"pie\"}],\"scatter\":[{\"marker\":{\"colorbar\":{\"outlinewidth\":0,\"ticks\":\"\"}},\"type\":\"scatter\"}],\"scatter3d\":[{\"line\":{\"colorbar\":{\"outlinewidth\":0,\"ticks\":\"\"}},\"marker\":{\"colorbar\":{\"outlinewidth\":0,\"ticks\":\"\"}},\"type\":\"scatter3d\"}],\"scattercarpet\":[{\"marker\":{\"colorbar\":{\"outlinewidth\":0,\"ticks\":\"\"}},\"type\":\"scattercarpet\"}],\"scattergeo\":[{\"marker\":{\"colorbar\":{\"outlinewidth\":0,\"ticks\":\"\"}},\"type\":\"scattergeo\"}],\"scattergl\":[{\"marker\":{\"colorbar\":{\"outlinewidth\":0,\"ticks\":\"\"}},\"type\":\"scattergl\"}],\"scattermapbox\":[{\"marker\":{\"colorbar\":{\"outlinewidth\":0,\"ticks\":\"\"}},\"type\":\"scattermapbox\"}],\"scatterpolar\":[{\"marker\":{\"colorbar\":{\"outlinewidth\":0,\"ticks\":\"\"}},\"type\":\"scatterpolar\"}],\"scatterpolargl\":[{\"marker\":{\"colorbar\":{\"outlinewidth\":0,\"ticks\":\"\"}},\"type\":\"scatterpolargl\"}],\"scatterternary\":[{\"marker\":{\"colorbar\":{\"outlinewidth\":0,\"ticks\":\"\"}},\"type\":\"scatterternary\"}],\"surface\":[{\"colorbar\":{\"outlinewidth\":0,\"ticks\":\"\"},\"colorscale\":[[0.0,\"#0d0887\"],[0.1111111111111111,\"#46039f\"],[0.2222222222222222,\"#7201a8\"],[0.3333333333333333,\"#9c179e\"],[0.4444444444444444,\"#bd3786\"],[0.5555555555555556,\"#d8576b\"],[0.6666666666666666,\"#ed7953\"],[0.7777777777777778,\"#fb9f3a\"],[0.8888888888888888,\"#fdca26\"],[1.0,\"#f0f921\"]],\"type\":\"surface\"}],\"table\":[{\"cells\":{\"fill\":{\"color\":\"#EBF0F8\"},\"line\":{\"color\":\"white\"}},\"header\":{\"fill\":{\"color\":\"#C8D4E3\"},\"line\":{\"color\":\"white\"}},\"type\":\"table\"}]},\"layout\":{\"annotationdefaults\":{\"arrowcolor\":\"#2a3f5f\",\"arrowhead\":0,\"arrowwidth\":1},\"autotypenumbers\":\"strict\",\"coloraxis\":{\"colorbar\":{\"outlinewidth\":0,\"ticks\":\"\"}},\"colorscale\":{\"diverging\":[[0,\"#8e0152\"],[0.1,\"#c51b7d\"],[0.2,\"#de77ae\"],[0.3,\"#f1b6da\"],[0.4,\"#fde0ef\"],[0.5,\"#f7f7f7\"],[0.6,\"#e6f5d0\"],[0.7,\"#b8e186\"],[0.8,\"#7fbc41\"],[0.9,\"#4d9221\"],[1,\"#276419\"]],\"sequential\":[[0.0,\"#0d0887\"],[0.1111111111111111,\"#46039f\"],[0.2222222222222222,\"#7201a8\"],[0.3333333333333333,\"#9c179e\"],[0.4444444444444444,\"#bd3786\"],[0.5555555555555556,\"#d8576b\"],[0.6666666666666666,\"#ed7953\"],[0.7777777777777778,\"#fb9f3a\"],[0.8888888888888888,\"#fdca26\"],[1.0,\"#f0f921\"]],\"sequentialminus\":[[0.0,\"#0d0887\"],[0.1111111111111111,\"#46039f\"],[0.2222222222222222,\"#7201a8\"],[0.3333333333333333,\"#9c179e\"],[0.4444444444444444,\"#bd3786\"],[0.5555555555555556,\"#d8576b\"],[0.6666666666666666,\"#ed7953\"],[0.7777777777777778,\"#fb9f3a\"],[0.8888888888888888,\"#fdca26\"],[1.0,\"#f0f921\"]]},\"colorway\":[\"#636efa\",\"#EF553B\",\"#00cc96\",\"#ab63fa\",\"#FFA15A\",\"#19d3f3\",\"#FF6692\",\"#B6E880\",\"#FF97FF\",\"#FECB52\"],\"font\":{\"color\":\"#2a3f5f\"},\"geo\":{\"bgcolor\":\"white\",\"lakecolor\":\"white\",\"landcolor\":\"#E5ECF6\",\"showlakes\":true,\"showland\":true,\"subunitcolor\":\"white\"},\"hoverlabel\":{\"align\":\"left\"},\"hovermode\":\"closest\",\"mapbox\":{\"style\":\"light\"},\"paper_bgcolor\":\"white\",\"plot_bgcolor\":\"#E5ECF6\",\"polar\":{\"angularaxis\":{\"gridcolor\":\"white\",\"linecolor\":\"white\",\"ticks\":\"\"},\"bgcolor\":\"#E5ECF6\",\"radialaxis\":{\"gridcolor\":\"white\",\"linecolor\":\"white\",\"ticks\":\"\"}},\"scene\":{\"xaxis\":{\"backgroundcolor\":\"#E5ECF6\",\"gridcolor\":\"white\",\"gridwidth\":2,\"linecolor\":\"white\",\"showbackground\":true,\"ticks\":\"\",\"zerolinecolor\":\"white\"},\"yaxis\":{\"backgroundcolor\":\"#E5ECF6\",\"gridcolor\":\"white\",\"gridwidth\":2,\"linecolor\":\"white\",\"showbackground\":true,\"ticks\":\"\",\"zerolinecolor\":\"white\"},\"zaxis\":{\"backgroundcolor\":\"#E5ECF6\",\"gridcolor\":\"white\",\"gridwidth\":2,\"linecolor\":\"white\",\"showbackground\":true,\"ticks\":\"\",\"zerolinecolor\":\"white\"}},\"shapedefaults\":{\"line\":{\"color\":\"#2a3f5f\"}},\"ternary\":{\"aaxis\":{\"gridcolor\":\"white\",\"linecolor\":\"white\",\"ticks\":\"\"},\"baxis\":{\"gridcolor\":\"white\",\"linecolor\":\"white\",\"ticks\":\"\"},\"bgcolor\":\"#E5ECF6\",\"caxis\":{\"gridcolor\":\"white\",\"linecolor\":\"white\",\"ticks\":\"\"}},\"title\":{\"x\":0.05},\"xaxis\":{\"automargin\":true,\"gridcolor\":\"white\",\"linecolor\":\"white\",\"ticks\":\"\",\"title\":{\"standoff\":15},\"zerolinecolor\":\"white\",\"zerolinewidth\":2},\"yaxis\":{\"automargin\":true,\"gridcolor\":\"white\",\"linecolor\":\"white\",\"ticks\":\"\",\"title\":{\"standoff\":15},\"zerolinecolor\":\"white\",\"zerolinewidth\":2}}},\"title\":{\"font\":{\"size\":30},\"text\":\"<b>IMDB movies - Gross\",\"x\":0.5},\"xaxis\":{\"anchor\":\"y\",\"domain\":[0.0,1.0],\"showgrid\":false,\"tickangle\":30,\"title\":{\"text\":\"Gross\"}},\"yaxis\":{\"anchor\":\"x\",\"domain\":[0.0,1.0],\"showgrid\":false,\"title\":{\"text\":\"count\"}}},                        {\"responsive\": true}                    ).then(function(){\n",
       "                            \n",
       "var gd = document.getElementById('e0741e84-6a78-44bc-bb34-58135be1ade9');\n",
       "var x = new MutationObserver(function (mutations, observer) {{\n",
       "        var display = window.getComputedStyle(gd).display;\n",
       "        if (!display || display === 'none') {{\n",
       "            console.log([gd, 'removed!']);\n",
       "            Plotly.purge(gd);\n",
       "            observer.disconnect();\n",
       "        }}\n",
       "}});\n",
       "\n",
       "// Listen for the removal of the full notebook cells\n",
       "var notebookContainer = gd.closest('#notebook-container');\n",
       "if (notebookContainer) {{\n",
       "    x.observe(notebookContainer, {childList: true});\n",
       "}}\n",
       "\n",
       "// Listen for the clearing of the current output cell\n",
       "var outputEl = gd.closest('.output');\n",
       "if (outputEl) {{\n",
       "    x.observe(outputEl, {childList: true});\n",
       "}}\n",
       "\n",
       "                        })                };                });            </script>        </div>"
      ]
     },
     "metadata": {},
     "output_type": "display_data"
    }
   ],
   "source": [
    "# Top 10 highest Grossing movies\n",
    "bar_plot(\"Movie Name\", tribe='sort', by='Gross', limit=10)"
   ]
  },
  {
   "cell_type": "markdown",
   "id": "b6505785",
   "metadata": {},
   "source": [
    "* Star Wars Episode VII- The Force Awakens is the most grossing movie and has collected of $936.66M.\n"
   ]
  },
  {
   "cell_type": "markdown",
   "id": "bd0ea66f",
   "metadata": {},
   "source": [
    "# Top 10 Movies with high Watch Time "
   ]
  },
  {
   "cell_type": "code",
   "execution_count": 21,
   "id": "982f707a",
   "metadata": {},
   "outputs": [
    {
     "data": {
      "application/vnd.plotly.v1+json": {
       "config": {
        "plotlyServerURL": "https://plot.ly"
       },
       "data": [
        {
         "alignmentgroup": "True",
         "hovertemplate": "x=%{x}<br>y=%{y}<extra></extra>",
         "legendgroup": "",
         "marker": {
          "color": "gold",
          "pattern": {
           "shape": ""
          }
         },
         "name": "",
         "offsetgroup": "",
         "orientation": "v",
         "showlegend": false,
         "textposition": "auto",
         "type": "bar",
         "x": [
          "Gangs of Wasseypur",
          "Hamlet",
          "Zack Snyder's Justice League",
          "Gone with the Wind",
          "Once Upon a Time in America",
          "Lagaan: Once Upon a Time in India",
          "The Ten Commandments",
          "Lawrence of Arabia",
          "Ben-Hur",
          "Swades: We, the People"
         ],
         "xaxis": "x",
         "y": [
          321,
          242,
          242,
          238,
          229,
          224,
          220,
          218,
          212,
          210
         ],
         "yaxis": "y"
        }
       ],
       "layout": {
        "barmode": "relative",
        "font": {
         "color": "white",
         "family": "Lato",
         "size": 18
        },
        "legend": {
         "tracegroupgap": 0
        },
        "margin": {
         "t": 60
        },
        "paper_bgcolor": "black",
        "plot_bgcolor": "black",
        "template": {
         "data": {
          "bar": [
           {
            "error_x": {
             "color": "#2a3f5f"
            },
            "error_y": {
             "color": "#2a3f5f"
            },
            "marker": {
             "line": {
              "color": "#E5ECF6",
              "width": 0.5
             },
             "pattern": {
              "fillmode": "overlay",
              "size": 10,
              "solidity": 0.2
             }
            },
            "type": "bar"
           }
          ],
          "barpolar": [
           {
            "marker": {
             "line": {
              "color": "#E5ECF6",
              "width": 0.5
             },
             "pattern": {
              "fillmode": "overlay",
              "size": 10,
              "solidity": 0.2
             }
            },
            "type": "barpolar"
           }
          ],
          "carpet": [
           {
            "aaxis": {
             "endlinecolor": "#2a3f5f",
             "gridcolor": "white",
             "linecolor": "white",
             "minorgridcolor": "white",
             "startlinecolor": "#2a3f5f"
            },
            "baxis": {
             "endlinecolor": "#2a3f5f",
             "gridcolor": "white",
             "linecolor": "white",
             "minorgridcolor": "white",
             "startlinecolor": "#2a3f5f"
            },
            "type": "carpet"
           }
          ],
          "choropleth": [
           {
            "colorbar": {
             "outlinewidth": 0,
             "ticks": ""
            },
            "type": "choropleth"
           }
          ],
          "contour": [
           {
            "colorbar": {
             "outlinewidth": 0,
             "ticks": ""
            },
            "colorscale": [
             [
              0,
              "#0d0887"
             ],
             [
              0.1111111111111111,
              "#46039f"
             ],
             [
              0.2222222222222222,
              "#7201a8"
             ],
             [
              0.3333333333333333,
              "#9c179e"
             ],
             [
              0.4444444444444444,
              "#bd3786"
             ],
             [
              0.5555555555555556,
              "#d8576b"
             ],
             [
              0.6666666666666666,
              "#ed7953"
             ],
             [
              0.7777777777777778,
              "#fb9f3a"
             ],
             [
              0.8888888888888888,
              "#fdca26"
             ],
             [
              1,
              "#f0f921"
             ]
            ],
            "type": "contour"
           }
          ],
          "contourcarpet": [
           {
            "colorbar": {
             "outlinewidth": 0,
             "ticks": ""
            },
            "type": "contourcarpet"
           }
          ],
          "heatmap": [
           {
            "colorbar": {
             "outlinewidth": 0,
             "ticks": ""
            },
            "colorscale": [
             [
              0,
              "#0d0887"
             ],
             [
              0.1111111111111111,
              "#46039f"
             ],
             [
              0.2222222222222222,
              "#7201a8"
             ],
             [
              0.3333333333333333,
              "#9c179e"
             ],
             [
              0.4444444444444444,
              "#bd3786"
             ],
             [
              0.5555555555555556,
              "#d8576b"
             ],
             [
              0.6666666666666666,
              "#ed7953"
             ],
             [
              0.7777777777777778,
              "#fb9f3a"
             ],
             [
              0.8888888888888888,
              "#fdca26"
             ],
             [
              1,
              "#f0f921"
             ]
            ],
            "type": "heatmap"
           }
          ],
          "heatmapgl": [
           {
            "colorbar": {
             "outlinewidth": 0,
             "ticks": ""
            },
            "colorscale": [
             [
              0,
              "#0d0887"
             ],
             [
              0.1111111111111111,
              "#46039f"
             ],
             [
              0.2222222222222222,
              "#7201a8"
             ],
             [
              0.3333333333333333,
              "#9c179e"
             ],
             [
              0.4444444444444444,
              "#bd3786"
             ],
             [
              0.5555555555555556,
              "#d8576b"
             ],
             [
              0.6666666666666666,
              "#ed7953"
             ],
             [
              0.7777777777777778,
              "#fb9f3a"
             ],
             [
              0.8888888888888888,
              "#fdca26"
             ],
             [
              1,
              "#f0f921"
             ]
            ],
            "type": "heatmapgl"
           }
          ],
          "histogram": [
           {
            "marker": {
             "pattern": {
              "fillmode": "overlay",
              "size": 10,
              "solidity": 0.2
             }
            },
            "type": "histogram"
           }
          ],
          "histogram2d": [
           {
            "colorbar": {
             "outlinewidth": 0,
             "ticks": ""
            },
            "colorscale": [
             [
              0,
              "#0d0887"
             ],
             [
              0.1111111111111111,
              "#46039f"
             ],
             [
              0.2222222222222222,
              "#7201a8"
             ],
             [
              0.3333333333333333,
              "#9c179e"
             ],
             [
              0.4444444444444444,
              "#bd3786"
             ],
             [
              0.5555555555555556,
              "#d8576b"
             ],
             [
              0.6666666666666666,
              "#ed7953"
             ],
             [
              0.7777777777777778,
              "#fb9f3a"
             ],
             [
              0.8888888888888888,
              "#fdca26"
             ],
             [
              1,
              "#f0f921"
             ]
            ],
            "type": "histogram2d"
           }
          ],
          "histogram2dcontour": [
           {
            "colorbar": {
             "outlinewidth": 0,
             "ticks": ""
            },
            "colorscale": [
             [
              0,
              "#0d0887"
             ],
             [
              0.1111111111111111,
              "#46039f"
             ],
             [
              0.2222222222222222,
              "#7201a8"
             ],
             [
              0.3333333333333333,
              "#9c179e"
             ],
             [
              0.4444444444444444,
              "#bd3786"
             ],
             [
              0.5555555555555556,
              "#d8576b"
             ],
             [
              0.6666666666666666,
              "#ed7953"
             ],
             [
              0.7777777777777778,
              "#fb9f3a"
             ],
             [
              0.8888888888888888,
              "#fdca26"
             ],
             [
              1,
              "#f0f921"
             ]
            ],
            "type": "histogram2dcontour"
           }
          ],
          "mesh3d": [
           {
            "colorbar": {
             "outlinewidth": 0,
             "ticks": ""
            },
            "type": "mesh3d"
           }
          ],
          "parcoords": [
           {
            "line": {
             "colorbar": {
              "outlinewidth": 0,
              "ticks": ""
             }
            },
            "type": "parcoords"
           }
          ],
          "pie": [
           {
            "automargin": true,
            "type": "pie"
           }
          ],
          "scatter": [
           {
            "marker": {
             "colorbar": {
              "outlinewidth": 0,
              "ticks": ""
             }
            },
            "type": "scatter"
           }
          ],
          "scatter3d": [
           {
            "line": {
             "colorbar": {
              "outlinewidth": 0,
              "ticks": ""
             }
            },
            "marker": {
             "colorbar": {
              "outlinewidth": 0,
              "ticks": ""
             }
            },
            "type": "scatter3d"
           }
          ],
          "scattercarpet": [
           {
            "marker": {
             "colorbar": {
              "outlinewidth": 0,
              "ticks": ""
             }
            },
            "type": "scattercarpet"
           }
          ],
          "scattergeo": [
           {
            "marker": {
             "colorbar": {
              "outlinewidth": 0,
              "ticks": ""
             }
            },
            "type": "scattergeo"
           }
          ],
          "scattergl": [
           {
            "marker": {
             "colorbar": {
              "outlinewidth": 0,
              "ticks": ""
             }
            },
            "type": "scattergl"
           }
          ],
          "scattermapbox": [
           {
            "marker": {
             "colorbar": {
              "outlinewidth": 0,
              "ticks": ""
             }
            },
            "type": "scattermapbox"
           }
          ],
          "scatterpolar": [
           {
            "marker": {
             "colorbar": {
              "outlinewidth": 0,
              "ticks": ""
             }
            },
            "type": "scatterpolar"
           }
          ],
          "scatterpolargl": [
           {
            "marker": {
             "colorbar": {
              "outlinewidth": 0,
              "ticks": ""
             }
            },
            "type": "scatterpolargl"
           }
          ],
          "scatterternary": [
           {
            "marker": {
             "colorbar": {
              "outlinewidth": 0,
              "ticks": ""
             }
            },
            "type": "scatterternary"
           }
          ],
          "surface": [
           {
            "colorbar": {
             "outlinewidth": 0,
             "ticks": ""
            },
            "colorscale": [
             [
              0,
              "#0d0887"
             ],
             [
              0.1111111111111111,
              "#46039f"
             ],
             [
              0.2222222222222222,
              "#7201a8"
             ],
             [
              0.3333333333333333,
              "#9c179e"
             ],
             [
              0.4444444444444444,
              "#bd3786"
             ],
             [
              0.5555555555555556,
              "#d8576b"
             ],
             [
              0.6666666666666666,
              "#ed7953"
             ],
             [
              0.7777777777777778,
              "#fb9f3a"
             ],
             [
              0.8888888888888888,
              "#fdca26"
             ],
             [
              1,
              "#f0f921"
             ]
            ],
            "type": "surface"
           }
          ],
          "table": [
           {
            "cells": {
             "fill": {
              "color": "#EBF0F8"
             },
             "line": {
              "color": "white"
             }
            },
            "header": {
             "fill": {
              "color": "#C8D4E3"
             },
             "line": {
              "color": "white"
             }
            },
            "type": "table"
           }
          ]
         },
         "layout": {
          "annotationdefaults": {
           "arrowcolor": "#2a3f5f",
           "arrowhead": 0,
           "arrowwidth": 1
          },
          "autotypenumbers": "strict",
          "coloraxis": {
           "colorbar": {
            "outlinewidth": 0,
            "ticks": ""
           }
          },
          "colorscale": {
           "diverging": [
            [
             0,
             "#8e0152"
            ],
            [
             0.1,
             "#c51b7d"
            ],
            [
             0.2,
             "#de77ae"
            ],
            [
             0.3,
             "#f1b6da"
            ],
            [
             0.4,
             "#fde0ef"
            ],
            [
             0.5,
             "#f7f7f7"
            ],
            [
             0.6,
             "#e6f5d0"
            ],
            [
             0.7,
             "#b8e186"
            ],
            [
             0.8,
             "#7fbc41"
            ],
            [
             0.9,
             "#4d9221"
            ],
            [
             1,
             "#276419"
            ]
           ],
           "sequential": [
            [
             0,
             "#0d0887"
            ],
            [
             0.1111111111111111,
             "#46039f"
            ],
            [
             0.2222222222222222,
             "#7201a8"
            ],
            [
             0.3333333333333333,
             "#9c179e"
            ],
            [
             0.4444444444444444,
             "#bd3786"
            ],
            [
             0.5555555555555556,
             "#d8576b"
            ],
            [
             0.6666666666666666,
             "#ed7953"
            ],
            [
             0.7777777777777778,
             "#fb9f3a"
            ],
            [
             0.8888888888888888,
             "#fdca26"
            ],
            [
             1,
             "#f0f921"
            ]
           ],
           "sequentialminus": [
            [
             0,
             "#0d0887"
            ],
            [
             0.1111111111111111,
             "#46039f"
            ],
            [
             0.2222222222222222,
             "#7201a8"
            ],
            [
             0.3333333333333333,
             "#9c179e"
            ],
            [
             0.4444444444444444,
             "#bd3786"
            ],
            [
             0.5555555555555556,
             "#d8576b"
            ],
            [
             0.6666666666666666,
             "#ed7953"
            ],
            [
             0.7777777777777778,
             "#fb9f3a"
            ],
            [
             0.8888888888888888,
             "#fdca26"
            ],
            [
             1,
             "#f0f921"
            ]
           ]
          },
          "colorway": [
           "#636efa",
           "#EF553B",
           "#00cc96",
           "#ab63fa",
           "#FFA15A",
           "#19d3f3",
           "#FF6692",
           "#B6E880",
           "#FF97FF",
           "#FECB52"
          ],
          "font": {
           "color": "#2a3f5f"
          },
          "geo": {
           "bgcolor": "white",
           "lakecolor": "white",
           "landcolor": "#E5ECF6",
           "showlakes": true,
           "showland": true,
           "subunitcolor": "white"
          },
          "hoverlabel": {
           "align": "left"
          },
          "hovermode": "closest",
          "mapbox": {
           "style": "light"
          },
          "paper_bgcolor": "white",
          "plot_bgcolor": "#E5ECF6",
          "polar": {
           "angularaxis": {
            "gridcolor": "white",
            "linecolor": "white",
            "ticks": ""
           },
           "bgcolor": "#E5ECF6",
           "radialaxis": {
            "gridcolor": "white",
            "linecolor": "white",
            "ticks": ""
           }
          },
          "scene": {
           "xaxis": {
            "backgroundcolor": "#E5ECF6",
            "gridcolor": "white",
            "gridwidth": 2,
            "linecolor": "white",
            "showbackground": true,
            "ticks": "",
            "zerolinecolor": "white"
           },
           "yaxis": {
            "backgroundcolor": "#E5ECF6",
            "gridcolor": "white",
            "gridwidth": 2,
            "linecolor": "white",
            "showbackground": true,
            "ticks": "",
            "zerolinecolor": "white"
           },
           "zaxis": {
            "backgroundcolor": "#E5ECF6",
            "gridcolor": "white",
            "gridwidth": 2,
            "linecolor": "white",
            "showbackground": true,
            "ticks": "",
            "zerolinecolor": "white"
           }
          },
          "shapedefaults": {
           "line": {
            "color": "#2a3f5f"
           }
          },
          "ternary": {
           "aaxis": {
            "gridcolor": "white",
            "linecolor": "white",
            "ticks": ""
           },
           "baxis": {
            "gridcolor": "white",
            "linecolor": "white",
            "ticks": ""
           },
           "bgcolor": "#E5ECF6",
           "caxis": {
            "gridcolor": "white",
            "linecolor": "white",
            "ticks": ""
           }
          },
          "title": {
           "x": 0.05
          },
          "xaxis": {
           "automargin": true,
           "gridcolor": "white",
           "linecolor": "white",
           "ticks": "",
           "title": {
            "standoff": 15
           },
           "zerolinecolor": "white",
           "zerolinewidth": 2
          },
          "yaxis": {
           "automargin": true,
           "gridcolor": "white",
           "linecolor": "white",
           "ticks": "",
           "title": {
            "standoff": 15
           },
           "zerolinecolor": "white",
           "zerolinewidth": 2
          }
         }
        },
        "title": {
         "font": {
          "size": 30
         },
         "text": "<b>IMDB movies - Watch Time",
         "x": 0.5
        },
        "xaxis": {
         "anchor": "y",
         "domain": [
          0,
          1
         ],
         "showgrid": false,
         "tickangle": 30,
         "title": {
          "text": "Watch Time"
         }
        },
        "yaxis": {
         "anchor": "x",
         "domain": [
          0,
          1
         ],
         "showgrid": false,
         "title": {
          "text": "count"
         }
        }
       }
      },
      "text/html": [
       "<div>                            <div id=\"16858969-f122-4170-91af-e3720faecc17\" class=\"plotly-graph-div\" style=\"height:525px; width:100%;\"></div>            <script type=\"text/javascript\">                require([\"plotly\"], function(Plotly) {                    window.PLOTLYENV=window.PLOTLYENV || {};                                    if (document.getElementById(\"16858969-f122-4170-91af-e3720faecc17\")) {                    Plotly.newPlot(                        \"16858969-f122-4170-91af-e3720faecc17\",                        [{\"alignmentgroup\":\"True\",\"hovertemplate\":\"x=%{x}<br>y=%{y}<extra></extra>\",\"legendgroup\":\"\",\"marker\":{\"color\":\"gold\",\"pattern\":{\"shape\":\"\"}},\"name\":\"\",\"offsetgroup\":\"\",\"orientation\":\"v\",\"showlegend\":false,\"textposition\":\"auto\",\"type\":\"bar\",\"x\":[\"Gangs of Wasseypur\",\"Hamlet\",\"Zack Snyder's Justice League\",\"Gone with the Wind\",\"Once Upon a Time in America\",\"Lagaan: Once Upon a Time in India\",\"The Ten Commandments\",\"Lawrence of Arabia\",\"Ben-Hur\",\"Swades: We, the People\"],\"xaxis\":\"x\",\"y\":[321,242,242,238,229,224,220,218,212,210],\"yaxis\":\"y\"}],                        {\"barmode\":\"relative\",\"font\":{\"color\":\"white\",\"family\":\"Lato\",\"size\":18},\"legend\":{\"tracegroupgap\":0},\"margin\":{\"t\":60},\"paper_bgcolor\":\"black\",\"plot_bgcolor\":\"black\",\"template\":{\"data\":{\"bar\":[{\"error_x\":{\"color\":\"#2a3f5f\"},\"error_y\":{\"color\":\"#2a3f5f\"},\"marker\":{\"line\":{\"color\":\"#E5ECF6\",\"width\":0.5},\"pattern\":{\"fillmode\":\"overlay\",\"size\":10,\"solidity\":0.2}},\"type\":\"bar\"}],\"barpolar\":[{\"marker\":{\"line\":{\"color\":\"#E5ECF6\",\"width\":0.5},\"pattern\":{\"fillmode\":\"overlay\",\"size\":10,\"solidity\":0.2}},\"type\":\"barpolar\"}],\"carpet\":[{\"aaxis\":{\"endlinecolor\":\"#2a3f5f\",\"gridcolor\":\"white\",\"linecolor\":\"white\",\"minorgridcolor\":\"white\",\"startlinecolor\":\"#2a3f5f\"},\"baxis\":{\"endlinecolor\":\"#2a3f5f\",\"gridcolor\":\"white\",\"linecolor\":\"white\",\"minorgridcolor\":\"white\",\"startlinecolor\":\"#2a3f5f\"},\"type\":\"carpet\"}],\"choropleth\":[{\"colorbar\":{\"outlinewidth\":0,\"ticks\":\"\"},\"type\":\"choropleth\"}],\"contour\":[{\"colorbar\":{\"outlinewidth\":0,\"ticks\":\"\"},\"colorscale\":[[0.0,\"#0d0887\"],[0.1111111111111111,\"#46039f\"],[0.2222222222222222,\"#7201a8\"],[0.3333333333333333,\"#9c179e\"],[0.4444444444444444,\"#bd3786\"],[0.5555555555555556,\"#d8576b\"],[0.6666666666666666,\"#ed7953\"],[0.7777777777777778,\"#fb9f3a\"],[0.8888888888888888,\"#fdca26\"],[1.0,\"#f0f921\"]],\"type\":\"contour\"}],\"contourcarpet\":[{\"colorbar\":{\"outlinewidth\":0,\"ticks\":\"\"},\"type\":\"contourcarpet\"}],\"heatmap\":[{\"colorbar\":{\"outlinewidth\":0,\"ticks\":\"\"},\"colorscale\":[[0.0,\"#0d0887\"],[0.1111111111111111,\"#46039f\"],[0.2222222222222222,\"#7201a8\"],[0.3333333333333333,\"#9c179e\"],[0.4444444444444444,\"#bd3786\"],[0.5555555555555556,\"#d8576b\"],[0.6666666666666666,\"#ed7953\"],[0.7777777777777778,\"#fb9f3a\"],[0.8888888888888888,\"#fdca26\"],[1.0,\"#f0f921\"]],\"type\":\"heatmap\"}],\"heatmapgl\":[{\"colorbar\":{\"outlinewidth\":0,\"ticks\":\"\"},\"colorscale\":[[0.0,\"#0d0887\"],[0.1111111111111111,\"#46039f\"],[0.2222222222222222,\"#7201a8\"],[0.3333333333333333,\"#9c179e\"],[0.4444444444444444,\"#bd3786\"],[0.5555555555555556,\"#d8576b\"],[0.6666666666666666,\"#ed7953\"],[0.7777777777777778,\"#fb9f3a\"],[0.8888888888888888,\"#fdca26\"],[1.0,\"#f0f921\"]],\"type\":\"heatmapgl\"}],\"histogram\":[{\"marker\":{\"pattern\":{\"fillmode\":\"overlay\",\"size\":10,\"solidity\":0.2}},\"type\":\"histogram\"}],\"histogram2d\":[{\"colorbar\":{\"outlinewidth\":0,\"ticks\":\"\"},\"colorscale\":[[0.0,\"#0d0887\"],[0.1111111111111111,\"#46039f\"],[0.2222222222222222,\"#7201a8\"],[0.3333333333333333,\"#9c179e\"],[0.4444444444444444,\"#bd3786\"],[0.5555555555555556,\"#d8576b\"],[0.6666666666666666,\"#ed7953\"],[0.7777777777777778,\"#fb9f3a\"],[0.8888888888888888,\"#fdca26\"],[1.0,\"#f0f921\"]],\"type\":\"histogram2d\"}],\"histogram2dcontour\":[{\"colorbar\":{\"outlinewidth\":0,\"ticks\":\"\"},\"colorscale\":[[0.0,\"#0d0887\"],[0.1111111111111111,\"#46039f\"],[0.2222222222222222,\"#7201a8\"],[0.3333333333333333,\"#9c179e\"],[0.4444444444444444,\"#bd3786\"],[0.5555555555555556,\"#d8576b\"],[0.6666666666666666,\"#ed7953\"],[0.7777777777777778,\"#fb9f3a\"],[0.8888888888888888,\"#fdca26\"],[1.0,\"#f0f921\"]],\"type\":\"histogram2dcontour\"}],\"mesh3d\":[{\"colorbar\":{\"outlinewidth\":0,\"ticks\":\"\"},\"type\":\"mesh3d\"}],\"parcoords\":[{\"line\":{\"colorbar\":{\"outlinewidth\":0,\"ticks\":\"\"}},\"type\":\"parcoords\"}],\"pie\":[{\"automargin\":true,\"type\":\"pie\"}],\"scatter\":[{\"marker\":{\"colorbar\":{\"outlinewidth\":0,\"ticks\":\"\"}},\"type\":\"scatter\"}],\"scatter3d\":[{\"line\":{\"colorbar\":{\"outlinewidth\":0,\"ticks\":\"\"}},\"marker\":{\"colorbar\":{\"outlinewidth\":0,\"ticks\":\"\"}},\"type\":\"scatter3d\"}],\"scattercarpet\":[{\"marker\":{\"colorbar\":{\"outlinewidth\":0,\"ticks\":\"\"}},\"type\":\"scattercarpet\"}],\"scattergeo\":[{\"marker\":{\"colorbar\":{\"outlinewidth\":0,\"ticks\":\"\"}},\"type\":\"scattergeo\"}],\"scattergl\":[{\"marker\":{\"colorbar\":{\"outlinewidth\":0,\"ticks\":\"\"}},\"type\":\"scattergl\"}],\"scattermapbox\":[{\"marker\":{\"colorbar\":{\"outlinewidth\":0,\"ticks\":\"\"}},\"type\":\"scattermapbox\"}],\"scatterpolar\":[{\"marker\":{\"colorbar\":{\"outlinewidth\":0,\"ticks\":\"\"}},\"type\":\"scatterpolar\"}],\"scatterpolargl\":[{\"marker\":{\"colorbar\":{\"outlinewidth\":0,\"ticks\":\"\"}},\"type\":\"scatterpolargl\"}],\"scatterternary\":[{\"marker\":{\"colorbar\":{\"outlinewidth\":0,\"ticks\":\"\"}},\"type\":\"scatterternary\"}],\"surface\":[{\"colorbar\":{\"outlinewidth\":0,\"ticks\":\"\"},\"colorscale\":[[0.0,\"#0d0887\"],[0.1111111111111111,\"#46039f\"],[0.2222222222222222,\"#7201a8\"],[0.3333333333333333,\"#9c179e\"],[0.4444444444444444,\"#bd3786\"],[0.5555555555555556,\"#d8576b\"],[0.6666666666666666,\"#ed7953\"],[0.7777777777777778,\"#fb9f3a\"],[0.8888888888888888,\"#fdca26\"],[1.0,\"#f0f921\"]],\"type\":\"surface\"}],\"table\":[{\"cells\":{\"fill\":{\"color\":\"#EBF0F8\"},\"line\":{\"color\":\"white\"}},\"header\":{\"fill\":{\"color\":\"#C8D4E3\"},\"line\":{\"color\":\"white\"}},\"type\":\"table\"}]},\"layout\":{\"annotationdefaults\":{\"arrowcolor\":\"#2a3f5f\",\"arrowhead\":0,\"arrowwidth\":1},\"autotypenumbers\":\"strict\",\"coloraxis\":{\"colorbar\":{\"outlinewidth\":0,\"ticks\":\"\"}},\"colorscale\":{\"diverging\":[[0,\"#8e0152\"],[0.1,\"#c51b7d\"],[0.2,\"#de77ae\"],[0.3,\"#f1b6da\"],[0.4,\"#fde0ef\"],[0.5,\"#f7f7f7\"],[0.6,\"#e6f5d0\"],[0.7,\"#b8e186\"],[0.8,\"#7fbc41\"],[0.9,\"#4d9221\"],[1,\"#276419\"]],\"sequential\":[[0.0,\"#0d0887\"],[0.1111111111111111,\"#46039f\"],[0.2222222222222222,\"#7201a8\"],[0.3333333333333333,\"#9c179e\"],[0.4444444444444444,\"#bd3786\"],[0.5555555555555556,\"#d8576b\"],[0.6666666666666666,\"#ed7953\"],[0.7777777777777778,\"#fb9f3a\"],[0.8888888888888888,\"#fdca26\"],[1.0,\"#f0f921\"]],\"sequentialminus\":[[0.0,\"#0d0887\"],[0.1111111111111111,\"#46039f\"],[0.2222222222222222,\"#7201a8\"],[0.3333333333333333,\"#9c179e\"],[0.4444444444444444,\"#bd3786\"],[0.5555555555555556,\"#d8576b\"],[0.6666666666666666,\"#ed7953\"],[0.7777777777777778,\"#fb9f3a\"],[0.8888888888888888,\"#fdca26\"],[1.0,\"#f0f921\"]]},\"colorway\":[\"#636efa\",\"#EF553B\",\"#00cc96\",\"#ab63fa\",\"#FFA15A\",\"#19d3f3\",\"#FF6692\",\"#B6E880\",\"#FF97FF\",\"#FECB52\"],\"font\":{\"color\":\"#2a3f5f\"},\"geo\":{\"bgcolor\":\"white\",\"lakecolor\":\"white\",\"landcolor\":\"#E5ECF6\",\"showlakes\":true,\"showland\":true,\"subunitcolor\":\"white\"},\"hoverlabel\":{\"align\":\"left\"},\"hovermode\":\"closest\",\"mapbox\":{\"style\":\"light\"},\"paper_bgcolor\":\"white\",\"plot_bgcolor\":\"#E5ECF6\",\"polar\":{\"angularaxis\":{\"gridcolor\":\"white\",\"linecolor\":\"white\",\"ticks\":\"\"},\"bgcolor\":\"#E5ECF6\",\"radialaxis\":{\"gridcolor\":\"white\",\"linecolor\":\"white\",\"ticks\":\"\"}},\"scene\":{\"xaxis\":{\"backgroundcolor\":\"#E5ECF6\",\"gridcolor\":\"white\",\"gridwidth\":2,\"linecolor\":\"white\",\"showbackground\":true,\"ticks\":\"\",\"zerolinecolor\":\"white\"},\"yaxis\":{\"backgroundcolor\":\"#E5ECF6\",\"gridcolor\":\"white\",\"gridwidth\":2,\"linecolor\":\"white\",\"showbackground\":true,\"ticks\":\"\",\"zerolinecolor\":\"white\"},\"zaxis\":{\"backgroundcolor\":\"#E5ECF6\",\"gridcolor\":\"white\",\"gridwidth\":2,\"linecolor\":\"white\",\"showbackground\":true,\"ticks\":\"\",\"zerolinecolor\":\"white\"}},\"shapedefaults\":{\"line\":{\"color\":\"#2a3f5f\"}},\"ternary\":{\"aaxis\":{\"gridcolor\":\"white\",\"linecolor\":\"white\",\"ticks\":\"\"},\"baxis\":{\"gridcolor\":\"white\",\"linecolor\":\"white\",\"ticks\":\"\"},\"bgcolor\":\"#E5ECF6\",\"caxis\":{\"gridcolor\":\"white\",\"linecolor\":\"white\",\"ticks\":\"\"}},\"title\":{\"x\":0.05},\"xaxis\":{\"automargin\":true,\"gridcolor\":\"white\",\"linecolor\":\"white\",\"ticks\":\"\",\"title\":{\"standoff\":15},\"zerolinecolor\":\"white\",\"zerolinewidth\":2},\"yaxis\":{\"automargin\":true,\"gridcolor\":\"white\",\"linecolor\":\"white\",\"ticks\":\"\",\"title\":{\"standoff\":15},\"zerolinecolor\":\"white\",\"zerolinewidth\":2}}},\"title\":{\"font\":{\"size\":30},\"text\":\"<b>IMDB movies - Watch Time\",\"x\":0.5},\"xaxis\":{\"anchor\":\"y\",\"domain\":[0.0,1.0],\"showgrid\":false,\"tickangle\":30,\"title\":{\"text\":\"Watch Time\"}},\"yaxis\":{\"anchor\":\"x\",\"domain\":[0.0,1.0],\"showgrid\":false,\"title\":{\"text\":\"count\"}}},                        {\"responsive\": true}                    ).then(function(){\n",
       "                            \n",
       "var gd = document.getElementById('16858969-f122-4170-91af-e3720faecc17');\n",
       "var x = new MutationObserver(function (mutations, observer) {{\n",
       "        var display = window.getComputedStyle(gd).display;\n",
       "        if (!display || display === 'none') {{\n",
       "            console.log([gd, 'removed!']);\n",
       "            Plotly.purge(gd);\n",
       "            observer.disconnect();\n",
       "        }}\n",
       "}});\n",
       "\n",
       "// Listen for the removal of the full notebook cells\n",
       "var notebookContainer = gd.closest('#notebook-container');\n",
       "if (notebookContainer) {{\n",
       "    x.observe(notebookContainer, {childList: true});\n",
       "}}\n",
       "\n",
       "// Listen for the clearing of the current output cell\n",
       "var outputEl = gd.closest('.output');\n",
       "if (outputEl) {{\n",
       "    x.observe(outputEl, {childList: true});\n",
       "}}\n",
       "\n",
       "                        })                };                });            </script>        </div>"
      ]
     },
     "metadata": {},
     "output_type": "display_data"
    }
   ],
   "source": [
    "# Top 10 movies with high watching time.\n",
    "bar_plot('Movie Name', tribe='sort', by='Watch Time', limit=10)"
   ]
  },
  {
   "cell_type": "markdown",
   "id": "a3850681",
   "metadata": {},
   "source": [
    "* Gangs of Wasseypur is the movie with highest watch time of 321 mins."
   ]
  },
  {
   "cell_type": "markdown",
   "id": "31d0fe60",
   "metadata": {},
   "source": [
    "# Top 10 Movies according to Ratings"
   ]
  },
  {
   "cell_type": "code",
   "execution_count": 22,
   "id": "a160dba0",
   "metadata": {},
   "outputs": [
    {
     "data": {
      "application/vnd.plotly.v1+json": {
       "config": {
        "plotlyServerURL": "https://plot.ly"
       },
       "data": [
        {
         "alignmentgroup": "True",
         "hovertemplate": "x=%{x}<br>y=%{y}<extra></extra>",
         "legendgroup": "",
         "marker": {
          "color": "gold",
          "pattern": {
           "shape": ""
          }
         },
         "name": "",
         "offsetgroup": "",
         "orientation": "v",
         "showlegend": false,
         "textposition": "auto",
         "type": "bar",
         "x": [
          "The Shawshank Redemption",
          "The Godfather",
          "The Dark Knight",
          "The Lord of the Rings: The Return of the King",
          "Schindler's List",
          "The Godfather Part II",
          "12 Angry Men",
          "Jai Bhim",
          "Pulp Fiction",
          "The Lord of the Rings: The Fellowship of the Ring"
         ],
         "xaxis": "x",
         "y": [
          9.3,
          9.2,
          9,
          9,
          9,
          9,
          9,
          8.9,
          8.9,
          8.8
         ],
         "yaxis": "y"
        }
       ],
       "layout": {
        "barmode": "relative",
        "font": {
         "color": "white",
         "family": "Lato",
         "size": 18
        },
        "legend": {
         "tracegroupgap": 0
        },
        "margin": {
         "t": 60
        },
        "paper_bgcolor": "black",
        "plot_bgcolor": "black",
        "template": {
         "data": {
          "bar": [
           {
            "error_x": {
             "color": "#2a3f5f"
            },
            "error_y": {
             "color": "#2a3f5f"
            },
            "marker": {
             "line": {
              "color": "#E5ECF6",
              "width": 0.5
             },
             "pattern": {
              "fillmode": "overlay",
              "size": 10,
              "solidity": 0.2
             }
            },
            "type": "bar"
           }
          ],
          "barpolar": [
           {
            "marker": {
             "line": {
              "color": "#E5ECF6",
              "width": 0.5
             },
             "pattern": {
              "fillmode": "overlay",
              "size": 10,
              "solidity": 0.2
             }
            },
            "type": "barpolar"
           }
          ],
          "carpet": [
           {
            "aaxis": {
             "endlinecolor": "#2a3f5f",
             "gridcolor": "white",
             "linecolor": "white",
             "minorgridcolor": "white",
             "startlinecolor": "#2a3f5f"
            },
            "baxis": {
             "endlinecolor": "#2a3f5f",
             "gridcolor": "white",
             "linecolor": "white",
             "minorgridcolor": "white",
             "startlinecolor": "#2a3f5f"
            },
            "type": "carpet"
           }
          ],
          "choropleth": [
           {
            "colorbar": {
             "outlinewidth": 0,
             "ticks": ""
            },
            "type": "choropleth"
           }
          ],
          "contour": [
           {
            "colorbar": {
             "outlinewidth": 0,
             "ticks": ""
            },
            "colorscale": [
             [
              0,
              "#0d0887"
             ],
             [
              0.1111111111111111,
              "#46039f"
             ],
             [
              0.2222222222222222,
              "#7201a8"
             ],
             [
              0.3333333333333333,
              "#9c179e"
             ],
             [
              0.4444444444444444,
              "#bd3786"
             ],
             [
              0.5555555555555556,
              "#d8576b"
             ],
             [
              0.6666666666666666,
              "#ed7953"
             ],
             [
              0.7777777777777778,
              "#fb9f3a"
             ],
             [
              0.8888888888888888,
              "#fdca26"
             ],
             [
              1,
              "#f0f921"
             ]
            ],
            "type": "contour"
           }
          ],
          "contourcarpet": [
           {
            "colorbar": {
             "outlinewidth": 0,
             "ticks": ""
            },
            "type": "contourcarpet"
           }
          ],
          "heatmap": [
           {
            "colorbar": {
             "outlinewidth": 0,
             "ticks": ""
            },
            "colorscale": [
             [
              0,
              "#0d0887"
             ],
             [
              0.1111111111111111,
              "#46039f"
             ],
             [
              0.2222222222222222,
              "#7201a8"
             ],
             [
              0.3333333333333333,
              "#9c179e"
             ],
             [
              0.4444444444444444,
              "#bd3786"
             ],
             [
              0.5555555555555556,
              "#d8576b"
             ],
             [
              0.6666666666666666,
              "#ed7953"
             ],
             [
              0.7777777777777778,
              "#fb9f3a"
             ],
             [
              0.8888888888888888,
              "#fdca26"
             ],
             [
              1,
              "#f0f921"
             ]
            ],
            "type": "heatmap"
           }
          ],
          "heatmapgl": [
           {
            "colorbar": {
             "outlinewidth": 0,
             "ticks": ""
            },
            "colorscale": [
             [
              0,
              "#0d0887"
             ],
             [
              0.1111111111111111,
              "#46039f"
             ],
             [
              0.2222222222222222,
              "#7201a8"
             ],
             [
              0.3333333333333333,
              "#9c179e"
             ],
             [
              0.4444444444444444,
              "#bd3786"
             ],
             [
              0.5555555555555556,
              "#d8576b"
             ],
             [
              0.6666666666666666,
              "#ed7953"
             ],
             [
              0.7777777777777778,
              "#fb9f3a"
             ],
             [
              0.8888888888888888,
              "#fdca26"
             ],
             [
              1,
              "#f0f921"
             ]
            ],
            "type": "heatmapgl"
           }
          ],
          "histogram": [
           {
            "marker": {
             "pattern": {
              "fillmode": "overlay",
              "size": 10,
              "solidity": 0.2
             }
            },
            "type": "histogram"
           }
          ],
          "histogram2d": [
           {
            "colorbar": {
             "outlinewidth": 0,
             "ticks": ""
            },
            "colorscale": [
             [
              0,
              "#0d0887"
             ],
             [
              0.1111111111111111,
              "#46039f"
             ],
             [
              0.2222222222222222,
              "#7201a8"
             ],
             [
              0.3333333333333333,
              "#9c179e"
             ],
             [
              0.4444444444444444,
              "#bd3786"
             ],
             [
              0.5555555555555556,
              "#d8576b"
             ],
             [
              0.6666666666666666,
              "#ed7953"
             ],
             [
              0.7777777777777778,
              "#fb9f3a"
             ],
             [
              0.8888888888888888,
              "#fdca26"
             ],
             [
              1,
              "#f0f921"
             ]
            ],
            "type": "histogram2d"
           }
          ],
          "histogram2dcontour": [
           {
            "colorbar": {
             "outlinewidth": 0,
             "ticks": ""
            },
            "colorscale": [
             [
              0,
              "#0d0887"
             ],
             [
              0.1111111111111111,
              "#46039f"
             ],
             [
              0.2222222222222222,
              "#7201a8"
             ],
             [
              0.3333333333333333,
              "#9c179e"
             ],
             [
              0.4444444444444444,
              "#bd3786"
             ],
             [
              0.5555555555555556,
              "#d8576b"
             ],
             [
              0.6666666666666666,
              "#ed7953"
             ],
             [
              0.7777777777777778,
              "#fb9f3a"
             ],
             [
              0.8888888888888888,
              "#fdca26"
             ],
             [
              1,
              "#f0f921"
             ]
            ],
            "type": "histogram2dcontour"
           }
          ],
          "mesh3d": [
           {
            "colorbar": {
             "outlinewidth": 0,
             "ticks": ""
            },
            "type": "mesh3d"
           }
          ],
          "parcoords": [
           {
            "line": {
             "colorbar": {
              "outlinewidth": 0,
              "ticks": ""
             }
            },
            "type": "parcoords"
           }
          ],
          "pie": [
           {
            "automargin": true,
            "type": "pie"
           }
          ],
          "scatter": [
           {
            "marker": {
             "colorbar": {
              "outlinewidth": 0,
              "ticks": ""
             }
            },
            "type": "scatter"
           }
          ],
          "scatter3d": [
           {
            "line": {
             "colorbar": {
              "outlinewidth": 0,
              "ticks": ""
             }
            },
            "marker": {
             "colorbar": {
              "outlinewidth": 0,
              "ticks": ""
             }
            },
            "type": "scatter3d"
           }
          ],
          "scattercarpet": [
           {
            "marker": {
             "colorbar": {
              "outlinewidth": 0,
              "ticks": ""
             }
            },
            "type": "scattercarpet"
           }
          ],
          "scattergeo": [
           {
            "marker": {
             "colorbar": {
              "outlinewidth": 0,
              "ticks": ""
             }
            },
            "type": "scattergeo"
           }
          ],
          "scattergl": [
           {
            "marker": {
             "colorbar": {
              "outlinewidth": 0,
              "ticks": ""
             }
            },
            "type": "scattergl"
           }
          ],
          "scattermapbox": [
           {
            "marker": {
             "colorbar": {
              "outlinewidth": 0,
              "ticks": ""
             }
            },
            "type": "scattermapbox"
           }
          ],
          "scatterpolar": [
           {
            "marker": {
             "colorbar": {
              "outlinewidth": 0,
              "ticks": ""
             }
            },
            "type": "scatterpolar"
           }
          ],
          "scatterpolargl": [
           {
            "marker": {
             "colorbar": {
              "outlinewidth": 0,
              "ticks": ""
             }
            },
            "type": "scatterpolargl"
           }
          ],
          "scatterternary": [
           {
            "marker": {
             "colorbar": {
              "outlinewidth": 0,
              "ticks": ""
             }
            },
            "type": "scatterternary"
           }
          ],
          "surface": [
           {
            "colorbar": {
             "outlinewidth": 0,
             "ticks": ""
            },
            "colorscale": [
             [
              0,
              "#0d0887"
             ],
             [
              0.1111111111111111,
              "#46039f"
             ],
             [
              0.2222222222222222,
              "#7201a8"
             ],
             [
              0.3333333333333333,
              "#9c179e"
             ],
             [
              0.4444444444444444,
              "#bd3786"
             ],
             [
              0.5555555555555556,
              "#d8576b"
             ],
             [
              0.6666666666666666,
              "#ed7953"
             ],
             [
              0.7777777777777778,
              "#fb9f3a"
             ],
             [
              0.8888888888888888,
              "#fdca26"
             ],
             [
              1,
              "#f0f921"
             ]
            ],
            "type": "surface"
           }
          ],
          "table": [
           {
            "cells": {
             "fill": {
              "color": "#EBF0F8"
             },
             "line": {
              "color": "white"
             }
            },
            "header": {
             "fill": {
              "color": "#C8D4E3"
             },
             "line": {
              "color": "white"
             }
            },
            "type": "table"
           }
          ]
         },
         "layout": {
          "annotationdefaults": {
           "arrowcolor": "#2a3f5f",
           "arrowhead": 0,
           "arrowwidth": 1
          },
          "autotypenumbers": "strict",
          "coloraxis": {
           "colorbar": {
            "outlinewidth": 0,
            "ticks": ""
           }
          },
          "colorscale": {
           "diverging": [
            [
             0,
             "#8e0152"
            ],
            [
             0.1,
             "#c51b7d"
            ],
            [
             0.2,
             "#de77ae"
            ],
            [
             0.3,
             "#f1b6da"
            ],
            [
             0.4,
             "#fde0ef"
            ],
            [
             0.5,
             "#f7f7f7"
            ],
            [
             0.6,
             "#e6f5d0"
            ],
            [
             0.7,
             "#b8e186"
            ],
            [
             0.8,
             "#7fbc41"
            ],
            [
             0.9,
             "#4d9221"
            ],
            [
             1,
             "#276419"
            ]
           ],
           "sequential": [
            [
             0,
             "#0d0887"
            ],
            [
             0.1111111111111111,
             "#46039f"
            ],
            [
             0.2222222222222222,
             "#7201a8"
            ],
            [
             0.3333333333333333,
             "#9c179e"
            ],
            [
             0.4444444444444444,
             "#bd3786"
            ],
            [
             0.5555555555555556,
             "#d8576b"
            ],
            [
             0.6666666666666666,
             "#ed7953"
            ],
            [
             0.7777777777777778,
             "#fb9f3a"
            ],
            [
             0.8888888888888888,
             "#fdca26"
            ],
            [
             1,
             "#f0f921"
            ]
           ],
           "sequentialminus": [
            [
             0,
             "#0d0887"
            ],
            [
             0.1111111111111111,
             "#46039f"
            ],
            [
             0.2222222222222222,
             "#7201a8"
            ],
            [
             0.3333333333333333,
             "#9c179e"
            ],
            [
             0.4444444444444444,
             "#bd3786"
            ],
            [
             0.5555555555555556,
             "#d8576b"
            ],
            [
             0.6666666666666666,
             "#ed7953"
            ],
            [
             0.7777777777777778,
             "#fb9f3a"
            ],
            [
             0.8888888888888888,
             "#fdca26"
            ],
            [
             1,
             "#f0f921"
            ]
           ]
          },
          "colorway": [
           "#636efa",
           "#EF553B",
           "#00cc96",
           "#ab63fa",
           "#FFA15A",
           "#19d3f3",
           "#FF6692",
           "#B6E880",
           "#FF97FF",
           "#FECB52"
          ],
          "font": {
           "color": "#2a3f5f"
          },
          "geo": {
           "bgcolor": "white",
           "lakecolor": "white",
           "landcolor": "#E5ECF6",
           "showlakes": true,
           "showland": true,
           "subunitcolor": "white"
          },
          "hoverlabel": {
           "align": "left"
          },
          "hovermode": "closest",
          "mapbox": {
           "style": "light"
          },
          "paper_bgcolor": "white",
          "plot_bgcolor": "#E5ECF6",
          "polar": {
           "angularaxis": {
            "gridcolor": "white",
            "linecolor": "white",
            "ticks": ""
           },
           "bgcolor": "#E5ECF6",
           "radialaxis": {
            "gridcolor": "white",
            "linecolor": "white",
            "ticks": ""
           }
          },
          "scene": {
           "xaxis": {
            "backgroundcolor": "#E5ECF6",
            "gridcolor": "white",
            "gridwidth": 2,
            "linecolor": "white",
            "showbackground": true,
            "ticks": "",
            "zerolinecolor": "white"
           },
           "yaxis": {
            "backgroundcolor": "#E5ECF6",
            "gridcolor": "white",
            "gridwidth": 2,
            "linecolor": "white",
            "showbackground": true,
            "ticks": "",
            "zerolinecolor": "white"
           },
           "zaxis": {
            "backgroundcolor": "#E5ECF6",
            "gridcolor": "white",
            "gridwidth": 2,
            "linecolor": "white",
            "showbackground": true,
            "ticks": "",
            "zerolinecolor": "white"
           }
          },
          "shapedefaults": {
           "line": {
            "color": "#2a3f5f"
           }
          },
          "ternary": {
           "aaxis": {
            "gridcolor": "white",
            "linecolor": "white",
            "ticks": ""
           },
           "baxis": {
            "gridcolor": "white",
            "linecolor": "white",
            "ticks": ""
           },
           "bgcolor": "#E5ECF6",
           "caxis": {
            "gridcolor": "white",
            "linecolor": "white",
            "ticks": ""
           }
          },
          "title": {
           "x": 0.05
          },
          "xaxis": {
           "automargin": true,
           "gridcolor": "white",
           "linecolor": "white",
           "ticks": "",
           "title": {
            "standoff": 15
           },
           "zerolinecolor": "white",
           "zerolinewidth": 2
          },
          "yaxis": {
           "automargin": true,
           "gridcolor": "white",
           "linecolor": "white",
           "ticks": "",
           "title": {
            "standoff": 15
           },
           "zerolinecolor": "white",
           "zerolinewidth": 2
          }
         }
        },
        "title": {
         "font": {
          "size": 30
         },
         "text": "<b>IMDB movies - Movie Rating",
         "x": 0.5
        },
        "xaxis": {
         "anchor": "y",
         "domain": [
          0,
          1
         ],
         "showgrid": false,
         "tickangle": 30,
         "title": {
          "text": "Movie Rating"
         }
        },
        "yaxis": {
         "anchor": "x",
         "domain": [
          0,
          1
         ],
         "showgrid": false,
         "title": {
          "text": "count"
         }
        }
       }
      },
      "text/html": [
       "<div>                            <div id=\"ebc6e5ff-012c-4b0b-854b-47d7b95878d4\" class=\"plotly-graph-div\" style=\"height:525px; width:100%;\"></div>            <script type=\"text/javascript\">                require([\"plotly\"], function(Plotly) {                    window.PLOTLYENV=window.PLOTLYENV || {};                                    if (document.getElementById(\"ebc6e5ff-012c-4b0b-854b-47d7b95878d4\")) {                    Plotly.newPlot(                        \"ebc6e5ff-012c-4b0b-854b-47d7b95878d4\",                        [{\"alignmentgroup\":\"True\",\"hovertemplate\":\"x=%{x}<br>y=%{y}<extra></extra>\",\"legendgroup\":\"\",\"marker\":{\"color\":\"gold\",\"pattern\":{\"shape\":\"\"}},\"name\":\"\",\"offsetgroup\":\"\",\"orientation\":\"v\",\"showlegend\":false,\"textposition\":\"auto\",\"type\":\"bar\",\"x\":[\"The Shawshank Redemption\",\"The Godfather\",\"The Dark Knight\",\"The Lord of the Rings: The Return of the King\",\"Schindler's List\",\"The Godfather Part II\",\"12 Angry Men\",\"Jai Bhim\",\"Pulp Fiction\",\"The Lord of the Rings: The Fellowship of the Ring\"],\"xaxis\":\"x\",\"y\":[9.3,9.2,9.0,9.0,9.0,9.0,9.0,8.9,8.9,8.8],\"yaxis\":\"y\"}],                        {\"barmode\":\"relative\",\"font\":{\"color\":\"white\",\"family\":\"Lato\",\"size\":18},\"legend\":{\"tracegroupgap\":0},\"margin\":{\"t\":60},\"paper_bgcolor\":\"black\",\"plot_bgcolor\":\"black\",\"template\":{\"data\":{\"bar\":[{\"error_x\":{\"color\":\"#2a3f5f\"},\"error_y\":{\"color\":\"#2a3f5f\"},\"marker\":{\"line\":{\"color\":\"#E5ECF6\",\"width\":0.5},\"pattern\":{\"fillmode\":\"overlay\",\"size\":10,\"solidity\":0.2}},\"type\":\"bar\"}],\"barpolar\":[{\"marker\":{\"line\":{\"color\":\"#E5ECF6\",\"width\":0.5},\"pattern\":{\"fillmode\":\"overlay\",\"size\":10,\"solidity\":0.2}},\"type\":\"barpolar\"}],\"carpet\":[{\"aaxis\":{\"endlinecolor\":\"#2a3f5f\",\"gridcolor\":\"white\",\"linecolor\":\"white\",\"minorgridcolor\":\"white\",\"startlinecolor\":\"#2a3f5f\"},\"baxis\":{\"endlinecolor\":\"#2a3f5f\",\"gridcolor\":\"white\",\"linecolor\":\"white\",\"minorgridcolor\":\"white\",\"startlinecolor\":\"#2a3f5f\"},\"type\":\"carpet\"}],\"choropleth\":[{\"colorbar\":{\"outlinewidth\":0,\"ticks\":\"\"},\"type\":\"choropleth\"}],\"contour\":[{\"colorbar\":{\"outlinewidth\":0,\"ticks\":\"\"},\"colorscale\":[[0.0,\"#0d0887\"],[0.1111111111111111,\"#46039f\"],[0.2222222222222222,\"#7201a8\"],[0.3333333333333333,\"#9c179e\"],[0.4444444444444444,\"#bd3786\"],[0.5555555555555556,\"#d8576b\"],[0.6666666666666666,\"#ed7953\"],[0.7777777777777778,\"#fb9f3a\"],[0.8888888888888888,\"#fdca26\"],[1.0,\"#f0f921\"]],\"type\":\"contour\"}],\"contourcarpet\":[{\"colorbar\":{\"outlinewidth\":0,\"ticks\":\"\"},\"type\":\"contourcarpet\"}],\"heatmap\":[{\"colorbar\":{\"outlinewidth\":0,\"ticks\":\"\"},\"colorscale\":[[0.0,\"#0d0887\"],[0.1111111111111111,\"#46039f\"],[0.2222222222222222,\"#7201a8\"],[0.3333333333333333,\"#9c179e\"],[0.4444444444444444,\"#bd3786\"],[0.5555555555555556,\"#d8576b\"],[0.6666666666666666,\"#ed7953\"],[0.7777777777777778,\"#fb9f3a\"],[0.8888888888888888,\"#fdca26\"],[1.0,\"#f0f921\"]],\"type\":\"heatmap\"}],\"heatmapgl\":[{\"colorbar\":{\"outlinewidth\":0,\"ticks\":\"\"},\"colorscale\":[[0.0,\"#0d0887\"],[0.1111111111111111,\"#46039f\"],[0.2222222222222222,\"#7201a8\"],[0.3333333333333333,\"#9c179e\"],[0.4444444444444444,\"#bd3786\"],[0.5555555555555556,\"#d8576b\"],[0.6666666666666666,\"#ed7953\"],[0.7777777777777778,\"#fb9f3a\"],[0.8888888888888888,\"#fdca26\"],[1.0,\"#f0f921\"]],\"type\":\"heatmapgl\"}],\"histogram\":[{\"marker\":{\"pattern\":{\"fillmode\":\"overlay\",\"size\":10,\"solidity\":0.2}},\"type\":\"histogram\"}],\"histogram2d\":[{\"colorbar\":{\"outlinewidth\":0,\"ticks\":\"\"},\"colorscale\":[[0.0,\"#0d0887\"],[0.1111111111111111,\"#46039f\"],[0.2222222222222222,\"#7201a8\"],[0.3333333333333333,\"#9c179e\"],[0.4444444444444444,\"#bd3786\"],[0.5555555555555556,\"#d8576b\"],[0.6666666666666666,\"#ed7953\"],[0.7777777777777778,\"#fb9f3a\"],[0.8888888888888888,\"#fdca26\"],[1.0,\"#f0f921\"]],\"type\":\"histogram2d\"}],\"histogram2dcontour\":[{\"colorbar\":{\"outlinewidth\":0,\"ticks\":\"\"},\"colorscale\":[[0.0,\"#0d0887\"],[0.1111111111111111,\"#46039f\"],[0.2222222222222222,\"#7201a8\"],[0.3333333333333333,\"#9c179e\"],[0.4444444444444444,\"#bd3786\"],[0.5555555555555556,\"#d8576b\"],[0.6666666666666666,\"#ed7953\"],[0.7777777777777778,\"#fb9f3a\"],[0.8888888888888888,\"#fdca26\"],[1.0,\"#f0f921\"]],\"type\":\"histogram2dcontour\"}],\"mesh3d\":[{\"colorbar\":{\"outlinewidth\":0,\"ticks\":\"\"},\"type\":\"mesh3d\"}],\"parcoords\":[{\"line\":{\"colorbar\":{\"outlinewidth\":0,\"ticks\":\"\"}},\"type\":\"parcoords\"}],\"pie\":[{\"automargin\":true,\"type\":\"pie\"}],\"scatter\":[{\"marker\":{\"colorbar\":{\"outlinewidth\":0,\"ticks\":\"\"}},\"type\":\"scatter\"}],\"scatter3d\":[{\"line\":{\"colorbar\":{\"outlinewidth\":0,\"ticks\":\"\"}},\"marker\":{\"colorbar\":{\"outlinewidth\":0,\"ticks\":\"\"}},\"type\":\"scatter3d\"}],\"scattercarpet\":[{\"marker\":{\"colorbar\":{\"outlinewidth\":0,\"ticks\":\"\"}},\"type\":\"scattercarpet\"}],\"scattergeo\":[{\"marker\":{\"colorbar\":{\"outlinewidth\":0,\"ticks\":\"\"}},\"type\":\"scattergeo\"}],\"scattergl\":[{\"marker\":{\"colorbar\":{\"outlinewidth\":0,\"ticks\":\"\"}},\"type\":\"scattergl\"}],\"scattermapbox\":[{\"marker\":{\"colorbar\":{\"outlinewidth\":0,\"ticks\":\"\"}},\"type\":\"scattermapbox\"}],\"scatterpolar\":[{\"marker\":{\"colorbar\":{\"outlinewidth\":0,\"ticks\":\"\"}},\"type\":\"scatterpolar\"}],\"scatterpolargl\":[{\"marker\":{\"colorbar\":{\"outlinewidth\":0,\"ticks\":\"\"}},\"type\":\"scatterpolargl\"}],\"scatterternary\":[{\"marker\":{\"colorbar\":{\"outlinewidth\":0,\"ticks\":\"\"}},\"type\":\"scatterternary\"}],\"surface\":[{\"colorbar\":{\"outlinewidth\":0,\"ticks\":\"\"},\"colorscale\":[[0.0,\"#0d0887\"],[0.1111111111111111,\"#46039f\"],[0.2222222222222222,\"#7201a8\"],[0.3333333333333333,\"#9c179e\"],[0.4444444444444444,\"#bd3786\"],[0.5555555555555556,\"#d8576b\"],[0.6666666666666666,\"#ed7953\"],[0.7777777777777778,\"#fb9f3a\"],[0.8888888888888888,\"#fdca26\"],[1.0,\"#f0f921\"]],\"type\":\"surface\"}],\"table\":[{\"cells\":{\"fill\":{\"color\":\"#EBF0F8\"},\"line\":{\"color\":\"white\"}},\"header\":{\"fill\":{\"color\":\"#C8D4E3\"},\"line\":{\"color\":\"white\"}},\"type\":\"table\"}]},\"layout\":{\"annotationdefaults\":{\"arrowcolor\":\"#2a3f5f\",\"arrowhead\":0,\"arrowwidth\":1},\"autotypenumbers\":\"strict\",\"coloraxis\":{\"colorbar\":{\"outlinewidth\":0,\"ticks\":\"\"}},\"colorscale\":{\"diverging\":[[0,\"#8e0152\"],[0.1,\"#c51b7d\"],[0.2,\"#de77ae\"],[0.3,\"#f1b6da\"],[0.4,\"#fde0ef\"],[0.5,\"#f7f7f7\"],[0.6,\"#e6f5d0\"],[0.7,\"#b8e186\"],[0.8,\"#7fbc41\"],[0.9,\"#4d9221\"],[1,\"#276419\"]],\"sequential\":[[0.0,\"#0d0887\"],[0.1111111111111111,\"#46039f\"],[0.2222222222222222,\"#7201a8\"],[0.3333333333333333,\"#9c179e\"],[0.4444444444444444,\"#bd3786\"],[0.5555555555555556,\"#d8576b\"],[0.6666666666666666,\"#ed7953\"],[0.7777777777777778,\"#fb9f3a\"],[0.8888888888888888,\"#fdca26\"],[1.0,\"#f0f921\"]],\"sequentialminus\":[[0.0,\"#0d0887\"],[0.1111111111111111,\"#46039f\"],[0.2222222222222222,\"#7201a8\"],[0.3333333333333333,\"#9c179e\"],[0.4444444444444444,\"#bd3786\"],[0.5555555555555556,\"#d8576b\"],[0.6666666666666666,\"#ed7953\"],[0.7777777777777778,\"#fb9f3a\"],[0.8888888888888888,\"#fdca26\"],[1.0,\"#f0f921\"]]},\"colorway\":[\"#636efa\",\"#EF553B\",\"#00cc96\",\"#ab63fa\",\"#FFA15A\",\"#19d3f3\",\"#FF6692\",\"#B6E880\",\"#FF97FF\",\"#FECB52\"],\"font\":{\"color\":\"#2a3f5f\"},\"geo\":{\"bgcolor\":\"white\",\"lakecolor\":\"white\",\"landcolor\":\"#E5ECF6\",\"showlakes\":true,\"showland\":true,\"subunitcolor\":\"white\"},\"hoverlabel\":{\"align\":\"left\"},\"hovermode\":\"closest\",\"mapbox\":{\"style\":\"light\"},\"paper_bgcolor\":\"white\",\"plot_bgcolor\":\"#E5ECF6\",\"polar\":{\"angularaxis\":{\"gridcolor\":\"white\",\"linecolor\":\"white\",\"ticks\":\"\"},\"bgcolor\":\"#E5ECF6\",\"radialaxis\":{\"gridcolor\":\"white\",\"linecolor\":\"white\",\"ticks\":\"\"}},\"scene\":{\"xaxis\":{\"backgroundcolor\":\"#E5ECF6\",\"gridcolor\":\"white\",\"gridwidth\":2,\"linecolor\":\"white\",\"showbackground\":true,\"ticks\":\"\",\"zerolinecolor\":\"white\"},\"yaxis\":{\"backgroundcolor\":\"#E5ECF6\",\"gridcolor\":\"white\",\"gridwidth\":2,\"linecolor\":\"white\",\"showbackground\":true,\"ticks\":\"\",\"zerolinecolor\":\"white\"},\"zaxis\":{\"backgroundcolor\":\"#E5ECF6\",\"gridcolor\":\"white\",\"gridwidth\":2,\"linecolor\":\"white\",\"showbackground\":true,\"ticks\":\"\",\"zerolinecolor\":\"white\"}},\"shapedefaults\":{\"line\":{\"color\":\"#2a3f5f\"}},\"ternary\":{\"aaxis\":{\"gridcolor\":\"white\",\"linecolor\":\"white\",\"ticks\":\"\"},\"baxis\":{\"gridcolor\":\"white\",\"linecolor\":\"white\",\"ticks\":\"\"},\"bgcolor\":\"#E5ECF6\",\"caxis\":{\"gridcolor\":\"white\",\"linecolor\":\"white\",\"ticks\":\"\"}},\"title\":{\"x\":0.05},\"xaxis\":{\"automargin\":true,\"gridcolor\":\"white\",\"linecolor\":\"white\",\"ticks\":\"\",\"title\":{\"standoff\":15},\"zerolinecolor\":\"white\",\"zerolinewidth\":2},\"yaxis\":{\"automargin\":true,\"gridcolor\":\"white\",\"linecolor\":\"white\",\"ticks\":\"\",\"title\":{\"standoff\":15},\"zerolinecolor\":\"white\",\"zerolinewidth\":2}}},\"title\":{\"font\":{\"size\":30},\"text\":\"<b>IMDB movies - Movie Rating\",\"x\":0.5},\"xaxis\":{\"anchor\":\"y\",\"domain\":[0.0,1.0],\"showgrid\":false,\"tickangle\":30,\"title\":{\"text\":\"Movie Rating\"}},\"yaxis\":{\"anchor\":\"x\",\"domain\":[0.0,1.0],\"showgrid\":false,\"title\":{\"text\":\"count\"}}},                        {\"responsive\": true}                    ).then(function(){\n",
       "                            \n",
       "var gd = document.getElementById('ebc6e5ff-012c-4b0b-854b-47d7b95878d4');\n",
       "var x = new MutationObserver(function (mutations, observer) {{\n",
       "        var display = window.getComputedStyle(gd).display;\n",
       "        if (!display || display === 'none') {{\n",
       "            console.log([gd, 'removed!']);\n",
       "            Plotly.purge(gd);\n",
       "            observer.disconnect();\n",
       "        }}\n",
       "}});\n",
       "\n",
       "// Listen for the removal of the full notebook cells\n",
       "var notebookContainer = gd.closest('#notebook-container');\n",
       "if (notebookContainer) {{\n",
       "    x.observe(notebookContainer, {childList: true});\n",
       "}}\n",
       "\n",
       "// Listen for the clearing of the current output cell\n",
       "var outputEl = gd.closest('.output');\n",
       "if (outputEl) {{\n",
       "    x.observe(outputEl, {childList: true});\n",
       "}}\n",
       "\n",
       "                        })                };                });            </script>        </div>"
      ]
     },
     "metadata": {},
     "output_type": "display_data"
    }
   ],
   "source": [
    "# Top 10 movies According to the ratings.\n",
    "bar_plot('Movie Name', tribe='sort', by='Movie Rating', limit=10)"
   ]
  },
  {
   "cell_type": "markdown",
   "id": "b75b75ab",
   "metadata": {},
   "source": [
    "* The Shawshank Redemption is the movie with highest rating oof 9.3 ."
   ]
  },
  {
   "cell_type": "markdown",
   "id": "3068068a",
   "metadata": {},
   "source": [
    "# Top 20 Directors"
   ]
  },
  {
   "cell_type": "code",
   "execution_count": 23,
   "id": "bf25e4ab",
   "metadata": {},
   "outputs": [
    {
     "data": {
      "application/vnd.plotly.v1+json": {
       "config": {
        "plotlyServerURL": "https://plot.ly"
       },
       "data": [
        {
         "alignmentgroup": "True",
         "hovertemplate": "x=%{x}<br>y=%{y}<extra></extra>",
         "legendgroup": "",
         "marker": {
          "color": "gold",
          "pattern": {
           "shape": ""
          }
         },
         "name": "",
         "offsetgroup": "",
         "orientation": "v",
         "showlegend": false,
         "textposition": "auto",
         "type": "bar",
         "x": [
          "Steven Spielberg",
          "Alfred Hitchcock",
          "Akira Kurosawa",
          "Martin Scorsese",
          "Hayao Miyazaki",
          "Woody Allen",
          "Billy Wilder",
          "Stanley Kubrick",
          "Clint Eastwood",
          "David Fincher",
          "Quentin Tarantino",
          "Christopher Nolan",
          "Ingmar Bergman",
          "Rob Reiner",
          "Charles Chaplin",
          "Wes Anderson",
          "Denis Villeneuve",
          "Andrei Tarkovsky",
          "John Huston",
          "Ridley Scott"
         ],
         "xaxis": "x",
         "y": [
          13,
          13,
          11,
          10,
          10,
          9,
          9,
          9,
          8,
          8,
          8,
          8,
          7,
          7,
          6,
          6,
          6,
          6,
          6,
          6
         ],
         "yaxis": "y"
        }
       ],
       "layout": {
        "barmode": "relative",
        "font": {
         "color": "white",
         "family": "Lato",
         "size": 18
        },
        "legend": {
         "tracegroupgap": 0
        },
        "margin": {
         "t": 60
        },
        "paper_bgcolor": "black",
        "plot_bgcolor": "black",
        "template": {
         "data": {
          "bar": [
           {
            "error_x": {
             "color": "#2a3f5f"
            },
            "error_y": {
             "color": "#2a3f5f"
            },
            "marker": {
             "line": {
              "color": "#E5ECF6",
              "width": 0.5
             },
             "pattern": {
              "fillmode": "overlay",
              "size": 10,
              "solidity": 0.2
             }
            },
            "type": "bar"
           }
          ],
          "barpolar": [
           {
            "marker": {
             "line": {
              "color": "#E5ECF6",
              "width": 0.5
             },
             "pattern": {
              "fillmode": "overlay",
              "size": 10,
              "solidity": 0.2
             }
            },
            "type": "barpolar"
           }
          ],
          "carpet": [
           {
            "aaxis": {
             "endlinecolor": "#2a3f5f",
             "gridcolor": "white",
             "linecolor": "white",
             "minorgridcolor": "white",
             "startlinecolor": "#2a3f5f"
            },
            "baxis": {
             "endlinecolor": "#2a3f5f",
             "gridcolor": "white",
             "linecolor": "white",
             "minorgridcolor": "white",
             "startlinecolor": "#2a3f5f"
            },
            "type": "carpet"
           }
          ],
          "choropleth": [
           {
            "colorbar": {
             "outlinewidth": 0,
             "ticks": ""
            },
            "type": "choropleth"
           }
          ],
          "contour": [
           {
            "colorbar": {
             "outlinewidth": 0,
             "ticks": ""
            },
            "colorscale": [
             [
              0,
              "#0d0887"
             ],
             [
              0.1111111111111111,
              "#46039f"
             ],
             [
              0.2222222222222222,
              "#7201a8"
             ],
             [
              0.3333333333333333,
              "#9c179e"
             ],
             [
              0.4444444444444444,
              "#bd3786"
             ],
             [
              0.5555555555555556,
              "#d8576b"
             ],
             [
              0.6666666666666666,
              "#ed7953"
             ],
             [
              0.7777777777777778,
              "#fb9f3a"
             ],
             [
              0.8888888888888888,
              "#fdca26"
             ],
             [
              1,
              "#f0f921"
             ]
            ],
            "type": "contour"
           }
          ],
          "contourcarpet": [
           {
            "colorbar": {
             "outlinewidth": 0,
             "ticks": ""
            },
            "type": "contourcarpet"
           }
          ],
          "heatmap": [
           {
            "colorbar": {
             "outlinewidth": 0,
             "ticks": ""
            },
            "colorscale": [
             [
              0,
              "#0d0887"
             ],
             [
              0.1111111111111111,
              "#46039f"
             ],
             [
              0.2222222222222222,
              "#7201a8"
             ],
             [
              0.3333333333333333,
              "#9c179e"
             ],
             [
              0.4444444444444444,
              "#bd3786"
             ],
             [
              0.5555555555555556,
              "#d8576b"
             ],
             [
              0.6666666666666666,
              "#ed7953"
             ],
             [
              0.7777777777777778,
              "#fb9f3a"
             ],
             [
              0.8888888888888888,
              "#fdca26"
             ],
             [
              1,
              "#f0f921"
             ]
            ],
            "type": "heatmap"
           }
          ],
          "heatmapgl": [
           {
            "colorbar": {
             "outlinewidth": 0,
             "ticks": ""
            },
            "colorscale": [
             [
              0,
              "#0d0887"
             ],
             [
              0.1111111111111111,
              "#46039f"
             ],
             [
              0.2222222222222222,
              "#7201a8"
             ],
             [
              0.3333333333333333,
              "#9c179e"
             ],
             [
              0.4444444444444444,
              "#bd3786"
             ],
             [
              0.5555555555555556,
              "#d8576b"
             ],
             [
              0.6666666666666666,
              "#ed7953"
             ],
             [
              0.7777777777777778,
              "#fb9f3a"
             ],
             [
              0.8888888888888888,
              "#fdca26"
             ],
             [
              1,
              "#f0f921"
             ]
            ],
            "type": "heatmapgl"
           }
          ],
          "histogram": [
           {
            "marker": {
             "pattern": {
              "fillmode": "overlay",
              "size": 10,
              "solidity": 0.2
             }
            },
            "type": "histogram"
           }
          ],
          "histogram2d": [
           {
            "colorbar": {
             "outlinewidth": 0,
             "ticks": ""
            },
            "colorscale": [
             [
              0,
              "#0d0887"
             ],
             [
              0.1111111111111111,
              "#46039f"
             ],
             [
              0.2222222222222222,
              "#7201a8"
             ],
             [
              0.3333333333333333,
              "#9c179e"
             ],
             [
              0.4444444444444444,
              "#bd3786"
             ],
             [
              0.5555555555555556,
              "#d8576b"
             ],
             [
              0.6666666666666666,
              "#ed7953"
             ],
             [
              0.7777777777777778,
              "#fb9f3a"
             ],
             [
              0.8888888888888888,
              "#fdca26"
             ],
             [
              1,
              "#f0f921"
             ]
            ],
            "type": "histogram2d"
           }
          ],
          "histogram2dcontour": [
           {
            "colorbar": {
             "outlinewidth": 0,
             "ticks": ""
            },
            "colorscale": [
             [
              0,
              "#0d0887"
             ],
             [
              0.1111111111111111,
              "#46039f"
             ],
             [
              0.2222222222222222,
              "#7201a8"
             ],
             [
              0.3333333333333333,
              "#9c179e"
             ],
             [
              0.4444444444444444,
              "#bd3786"
             ],
             [
              0.5555555555555556,
              "#d8576b"
             ],
             [
              0.6666666666666666,
              "#ed7953"
             ],
             [
              0.7777777777777778,
              "#fb9f3a"
             ],
             [
              0.8888888888888888,
              "#fdca26"
             ],
             [
              1,
              "#f0f921"
             ]
            ],
            "type": "histogram2dcontour"
           }
          ],
          "mesh3d": [
           {
            "colorbar": {
             "outlinewidth": 0,
             "ticks": ""
            },
            "type": "mesh3d"
           }
          ],
          "parcoords": [
           {
            "line": {
             "colorbar": {
              "outlinewidth": 0,
              "ticks": ""
             }
            },
            "type": "parcoords"
           }
          ],
          "pie": [
           {
            "automargin": true,
            "type": "pie"
           }
          ],
          "scatter": [
           {
            "marker": {
             "colorbar": {
              "outlinewidth": 0,
              "ticks": ""
             }
            },
            "type": "scatter"
           }
          ],
          "scatter3d": [
           {
            "line": {
             "colorbar": {
              "outlinewidth": 0,
              "ticks": ""
             }
            },
            "marker": {
             "colorbar": {
              "outlinewidth": 0,
              "ticks": ""
             }
            },
            "type": "scatter3d"
           }
          ],
          "scattercarpet": [
           {
            "marker": {
             "colorbar": {
              "outlinewidth": 0,
              "ticks": ""
             }
            },
            "type": "scattercarpet"
           }
          ],
          "scattergeo": [
           {
            "marker": {
             "colorbar": {
              "outlinewidth": 0,
              "ticks": ""
             }
            },
            "type": "scattergeo"
           }
          ],
          "scattergl": [
           {
            "marker": {
             "colorbar": {
              "outlinewidth": 0,
              "ticks": ""
             }
            },
            "type": "scattergl"
           }
          ],
          "scattermapbox": [
           {
            "marker": {
             "colorbar": {
              "outlinewidth": 0,
              "ticks": ""
             }
            },
            "type": "scattermapbox"
           }
          ],
          "scatterpolar": [
           {
            "marker": {
             "colorbar": {
              "outlinewidth": 0,
              "ticks": ""
             }
            },
            "type": "scatterpolar"
           }
          ],
          "scatterpolargl": [
           {
            "marker": {
             "colorbar": {
              "outlinewidth": 0,
              "ticks": ""
             }
            },
            "type": "scatterpolargl"
           }
          ],
          "scatterternary": [
           {
            "marker": {
             "colorbar": {
              "outlinewidth": 0,
              "ticks": ""
             }
            },
            "type": "scatterternary"
           }
          ],
          "surface": [
           {
            "colorbar": {
             "outlinewidth": 0,
             "ticks": ""
            },
            "colorscale": [
             [
              0,
              "#0d0887"
             ],
             [
              0.1111111111111111,
              "#46039f"
             ],
             [
              0.2222222222222222,
              "#7201a8"
             ],
             [
              0.3333333333333333,
              "#9c179e"
             ],
             [
              0.4444444444444444,
              "#bd3786"
             ],
             [
              0.5555555555555556,
              "#d8576b"
             ],
             [
              0.6666666666666666,
              "#ed7953"
             ],
             [
              0.7777777777777778,
              "#fb9f3a"
             ],
             [
              0.8888888888888888,
              "#fdca26"
             ],
             [
              1,
              "#f0f921"
             ]
            ],
            "type": "surface"
           }
          ],
          "table": [
           {
            "cells": {
             "fill": {
              "color": "#EBF0F8"
             },
             "line": {
              "color": "white"
             }
            },
            "header": {
             "fill": {
              "color": "#C8D4E3"
             },
             "line": {
              "color": "white"
             }
            },
            "type": "table"
           }
          ]
         },
         "layout": {
          "annotationdefaults": {
           "arrowcolor": "#2a3f5f",
           "arrowhead": 0,
           "arrowwidth": 1
          },
          "autotypenumbers": "strict",
          "coloraxis": {
           "colorbar": {
            "outlinewidth": 0,
            "ticks": ""
           }
          },
          "colorscale": {
           "diverging": [
            [
             0,
             "#8e0152"
            ],
            [
             0.1,
             "#c51b7d"
            ],
            [
             0.2,
             "#de77ae"
            ],
            [
             0.3,
             "#f1b6da"
            ],
            [
             0.4,
             "#fde0ef"
            ],
            [
             0.5,
             "#f7f7f7"
            ],
            [
             0.6,
             "#e6f5d0"
            ],
            [
             0.7,
             "#b8e186"
            ],
            [
             0.8,
             "#7fbc41"
            ],
            [
             0.9,
             "#4d9221"
            ],
            [
             1,
             "#276419"
            ]
           ],
           "sequential": [
            [
             0,
             "#0d0887"
            ],
            [
             0.1111111111111111,
             "#46039f"
            ],
            [
             0.2222222222222222,
             "#7201a8"
            ],
            [
             0.3333333333333333,
             "#9c179e"
            ],
            [
             0.4444444444444444,
             "#bd3786"
            ],
            [
             0.5555555555555556,
             "#d8576b"
            ],
            [
             0.6666666666666666,
             "#ed7953"
            ],
            [
             0.7777777777777778,
             "#fb9f3a"
            ],
            [
             0.8888888888888888,
             "#fdca26"
            ],
            [
             1,
             "#f0f921"
            ]
           ],
           "sequentialminus": [
            [
             0,
             "#0d0887"
            ],
            [
             0.1111111111111111,
             "#46039f"
            ],
            [
             0.2222222222222222,
             "#7201a8"
            ],
            [
             0.3333333333333333,
             "#9c179e"
            ],
            [
             0.4444444444444444,
             "#bd3786"
            ],
            [
             0.5555555555555556,
             "#d8576b"
            ],
            [
             0.6666666666666666,
             "#ed7953"
            ],
            [
             0.7777777777777778,
             "#fb9f3a"
            ],
            [
             0.8888888888888888,
             "#fdca26"
            ],
            [
             1,
             "#f0f921"
            ]
           ]
          },
          "colorway": [
           "#636efa",
           "#EF553B",
           "#00cc96",
           "#ab63fa",
           "#FFA15A",
           "#19d3f3",
           "#FF6692",
           "#B6E880",
           "#FF97FF",
           "#FECB52"
          ],
          "font": {
           "color": "#2a3f5f"
          },
          "geo": {
           "bgcolor": "white",
           "lakecolor": "white",
           "landcolor": "#E5ECF6",
           "showlakes": true,
           "showland": true,
           "subunitcolor": "white"
          },
          "hoverlabel": {
           "align": "left"
          },
          "hovermode": "closest",
          "mapbox": {
           "style": "light"
          },
          "paper_bgcolor": "white",
          "plot_bgcolor": "#E5ECF6",
          "polar": {
           "angularaxis": {
            "gridcolor": "white",
            "linecolor": "white",
            "ticks": ""
           },
           "bgcolor": "#E5ECF6",
           "radialaxis": {
            "gridcolor": "white",
            "linecolor": "white",
            "ticks": ""
           }
          },
          "scene": {
           "xaxis": {
            "backgroundcolor": "#E5ECF6",
            "gridcolor": "white",
            "gridwidth": 2,
            "linecolor": "white",
            "showbackground": true,
            "ticks": "",
            "zerolinecolor": "white"
           },
           "yaxis": {
            "backgroundcolor": "#E5ECF6",
            "gridcolor": "white",
            "gridwidth": 2,
            "linecolor": "white",
            "showbackground": true,
            "ticks": "",
            "zerolinecolor": "white"
           },
           "zaxis": {
            "backgroundcolor": "#E5ECF6",
            "gridcolor": "white",
            "gridwidth": 2,
            "linecolor": "white",
            "showbackground": true,
            "ticks": "",
            "zerolinecolor": "white"
           }
          },
          "shapedefaults": {
           "line": {
            "color": "#2a3f5f"
           }
          },
          "ternary": {
           "aaxis": {
            "gridcolor": "white",
            "linecolor": "white",
            "ticks": ""
           },
           "baxis": {
            "gridcolor": "white",
            "linecolor": "white",
            "ticks": ""
           },
           "bgcolor": "#E5ECF6",
           "caxis": {
            "gridcolor": "white",
            "linecolor": "white",
            "ticks": ""
           }
          },
          "title": {
           "x": 0.05
          },
          "xaxis": {
           "automargin": true,
           "gridcolor": "white",
           "linecolor": "white",
           "ticks": "",
           "title": {
            "standoff": 15
           },
           "zerolinecolor": "white",
           "zerolinewidth": 2
          },
          "yaxis": {
           "automargin": true,
           "gridcolor": "white",
           "linecolor": "white",
           "ticks": "",
           "title": {
            "standoff": 15
           },
           "zerolinecolor": "white",
           "zerolinewidth": 2
          }
         }
        },
        "title": {
         "font": {
          "size": 30
         },
         "text": "<b>IMDB movies - Directors",
         "x": 0.5
        },
        "xaxis": {
         "anchor": "y",
         "domain": [
          0,
          1
         ],
         "showgrid": false,
         "tickangle": 30,
         "title": {
          "text": "Directors"
         }
        },
        "yaxis": {
         "anchor": "x",
         "domain": [
          0,
          1
         ],
         "showgrid": false,
         "title": {
          "text": "count"
         }
        }
       }
      },
      "text/html": [
       "<div>                            <div id=\"75cab4a2-d7e9-41d4-9380-655e99b41a66\" class=\"plotly-graph-div\" style=\"height:525px; width:100%;\"></div>            <script type=\"text/javascript\">                require([\"plotly\"], function(Plotly) {                    window.PLOTLYENV=window.PLOTLYENV || {};                                    if (document.getElementById(\"75cab4a2-d7e9-41d4-9380-655e99b41a66\")) {                    Plotly.newPlot(                        \"75cab4a2-d7e9-41d4-9380-655e99b41a66\",                        [{\"alignmentgroup\":\"True\",\"hovertemplate\":\"x=%{x}<br>y=%{y}<extra></extra>\",\"legendgroup\":\"\",\"marker\":{\"color\":\"gold\",\"pattern\":{\"shape\":\"\"}},\"name\":\"\",\"offsetgroup\":\"\",\"orientation\":\"v\",\"showlegend\":false,\"textposition\":\"auto\",\"type\":\"bar\",\"x\":[\"Steven Spielberg\",\"Alfred Hitchcock\",\"Akira Kurosawa\",\"Martin Scorsese\",\"Hayao Miyazaki\",\"Woody Allen\",\"Billy Wilder\",\"Stanley Kubrick\",\"Clint Eastwood\",\"David Fincher\",\"Quentin Tarantino\",\"Christopher Nolan\",\"Ingmar Bergman\",\"Rob Reiner\",\"Charles Chaplin\",\"Wes Anderson\",\"Denis Villeneuve\",\"Andrei Tarkovsky\",\"John Huston\",\"Ridley Scott\"],\"xaxis\":\"x\",\"y\":[13,13,11,10,10,9,9,9,8,8,8,8,7,7,6,6,6,6,6,6],\"yaxis\":\"y\"}],                        {\"barmode\":\"relative\",\"font\":{\"color\":\"white\",\"family\":\"Lato\",\"size\":18},\"legend\":{\"tracegroupgap\":0},\"margin\":{\"t\":60},\"paper_bgcolor\":\"black\",\"plot_bgcolor\":\"black\",\"template\":{\"data\":{\"bar\":[{\"error_x\":{\"color\":\"#2a3f5f\"},\"error_y\":{\"color\":\"#2a3f5f\"},\"marker\":{\"line\":{\"color\":\"#E5ECF6\",\"width\":0.5},\"pattern\":{\"fillmode\":\"overlay\",\"size\":10,\"solidity\":0.2}},\"type\":\"bar\"}],\"barpolar\":[{\"marker\":{\"line\":{\"color\":\"#E5ECF6\",\"width\":0.5},\"pattern\":{\"fillmode\":\"overlay\",\"size\":10,\"solidity\":0.2}},\"type\":\"barpolar\"}],\"carpet\":[{\"aaxis\":{\"endlinecolor\":\"#2a3f5f\",\"gridcolor\":\"white\",\"linecolor\":\"white\",\"minorgridcolor\":\"white\",\"startlinecolor\":\"#2a3f5f\"},\"baxis\":{\"endlinecolor\":\"#2a3f5f\",\"gridcolor\":\"white\",\"linecolor\":\"white\",\"minorgridcolor\":\"white\",\"startlinecolor\":\"#2a3f5f\"},\"type\":\"carpet\"}],\"choropleth\":[{\"colorbar\":{\"outlinewidth\":0,\"ticks\":\"\"},\"type\":\"choropleth\"}],\"contour\":[{\"colorbar\":{\"outlinewidth\":0,\"ticks\":\"\"},\"colorscale\":[[0.0,\"#0d0887\"],[0.1111111111111111,\"#46039f\"],[0.2222222222222222,\"#7201a8\"],[0.3333333333333333,\"#9c179e\"],[0.4444444444444444,\"#bd3786\"],[0.5555555555555556,\"#d8576b\"],[0.6666666666666666,\"#ed7953\"],[0.7777777777777778,\"#fb9f3a\"],[0.8888888888888888,\"#fdca26\"],[1.0,\"#f0f921\"]],\"type\":\"contour\"}],\"contourcarpet\":[{\"colorbar\":{\"outlinewidth\":0,\"ticks\":\"\"},\"type\":\"contourcarpet\"}],\"heatmap\":[{\"colorbar\":{\"outlinewidth\":0,\"ticks\":\"\"},\"colorscale\":[[0.0,\"#0d0887\"],[0.1111111111111111,\"#46039f\"],[0.2222222222222222,\"#7201a8\"],[0.3333333333333333,\"#9c179e\"],[0.4444444444444444,\"#bd3786\"],[0.5555555555555556,\"#d8576b\"],[0.6666666666666666,\"#ed7953\"],[0.7777777777777778,\"#fb9f3a\"],[0.8888888888888888,\"#fdca26\"],[1.0,\"#f0f921\"]],\"type\":\"heatmap\"}],\"heatmapgl\":[{\"colorbar\":{\"outlinewidth\":0,\"ticks\":\"\"},\"colorscale\":[[0.0,\"#0d0887\"],[0.1111111111111111,\"#46039f\"],[0.2222222222222222,\"#7201a8\"],[0.3333333333333333,\"#9c179e\"],[0.4444444444444444,\"#bd3786\"],[0.5555555555555556,\"#d8576b\"],[0.6666666666666666,\"#ed7953\"],[0.7777777777777778,\"#fb9f3a\"],[0.8888888888888888,\"#fdca26\"],[1.0,\"#f0f921\"]],\"type\":\"heatmapgl\"}],\"histogram\":[{\"marker\":{\"pattern\":{\"fillmode\":\"overlay\",\"size\":10,\"solidity\":0.2}},\"type\":\"histogram\"}],\"histogram2d\":[{\"colorbar\":{\"outlinewidth\":0,\"ticks\":\"\"},\"colorscale\":[[0.0,\"#0d0887\"],[0.1111111111111111,\"#46039f\"],[0.2222222222222222,\"#7201a8\"],[0.3333333333333333,\"#9c179e\"],[0.4444444444444444,\"#bd3786\"],[0.5555555555555556,\"#d8576b\"],[0.6666666666666666,\"#ed7953\"],[0.7777777777777778,\"#fb9f3a\"],[0.8888888888888888,\"#fdca26\"],[1.0,\"#f0f921\"]],\"type\":\"histogram2d\"}],\"histogram2dcontour\":[{\"colorbar\":{\"outlinewidth\":0,\"ticks\":\"\"},\"colorscale\":[[0.0,\"#0d0887\"],[0.1111111111111111,\"#46039f\"],[0.2222222222222222,\"#7201a8\"],[0.3333333333333333,\"#9c179e\"],[0.4444444444444444,\"#bd3786\"],[0.5555555555555556,\"#d8576b\"],[0.6666666666666666,\"#ed7953\"],[0.7777777777777778,\"#fb9f3a\"],[0.8888888888888888,\"#fdca26\"],[1.0,\"#f0f921\"]],\"type\":\"histogram2dcontour\"}],\"mesh3d\":[{\"colorbar\":{\"outlinewidth\":0,\"ticks\":\"\"},\"type\":\"mesh3d\"}],\"parcoords\":[{\"line\":{\"colorbar\":{\"outlinewidth\":0,\"ticks\":\"\"}},\"type\":\"parcoords\"}],\"pie\":[{\"automargin\":true,\"type\":\"pie\"}],\"scatter\":[{\"marker\":{\"colorbar\":{\"outlinewidth\":0,\"ticks\":\"\"}},\"type\":\"scatter\"}],\"scatter3d\":[{\"line\":{\"colorbar\":{\"outlinewidth\":0,\"ticks\":\"\"}},\"marker\":{\"colorbar\":{\"outlinewidth\":0,\"ticks\":\"\"}},\"type\":\"scatter3d\"}],\"scattercarpet\":[{\"marker\":{\"colorbar\":{\"outlinewidth\":0,\"ticks\":\"\"}},\"type\":\"scattercarpet\"}],\"scattergeo\":[{\"marker\":{\"colorbar\":{\"outlinewidth\":0,\"ticks\":\"\"}},\"type\":\"scattergeo\"}],\"scattergl\":[{\"marker\":{\"colorbar\":{\"outlinewidth\":0,\"ticks\":\"\"}},\"type\":\"scattergl\"}],\"scattermapbox\":[{\"marker\":{\"colorbar\":{\"outlinewidth\":0,\"ticks\":\"\"}},\"type\":\"scattermapbox\"}],\"scatterpolar\":[{\"marker\":{\"colorbar\":{\"outlinewidth\":0,\"ticks\":\"\"}},\"type\":\"scatterpolar\"}],\"scatterpolargl\":[{\"marker\":{\"colorbar\":{\"outlinewidth\":0,\"ticks\":\"\"}},\"type\":\"scatterpolargl\"}],\"scatterternary\":[{\"marker\":{\"colorbar\":{\"outlinewidth\":0,\"ticks\":\"\"}},\"type\":\"scatterternary\"}],\"surface\":[{\"colorbar\":{\"outlinewidth\":0,\"ticks\":\"\"},\"colorscale\":[[0.0,\"#0d0887\"],[0.1111111111111111,\"#46039f\"],[0.2222222222222222,\"#7201a8\"],[0.3333333333333333,\"#9c179e\"],[0.4444444444444444,\"#bd3786\"],[0.5555555555555556,\"#d8576b\"],[0.6666666666666666,\"#ed7953\"],[0.7777777777777778,\"#fb9f3a\"],[0.8888888888888888,\"#fdca26\"],[1.0,\"#f0f921\"]],\"type\":\"surface\"}],\"table\":[{\"cells\":{\"fill\":{\"color\":\"#EBF0F8\"},\"line\":{\"color\":\"white\"}},\"header\":{\"fill\":{\"color\":\"#C8D4E3\"},\"line\":{\"color\":\"white\"}},\"type\":\"table\"}]},\"layout\":{\"annotationdefaults\":{\"arrowcolor\":\"#2a3f5f\",\"arrowhead\":0,\"arrowwidth\":1},\"autotypenumbers\":\"strict\",\"coloraxis\":{\"colorbar\":{\"outlinewidth\":0,\"ticks\":\"\"}},\"colorscale\":{\"diverging\":[[0,\"#8e0152\"],[0.1,\"#c51b7d\"],[0.2,\"#de77ae\"],[0.3,\"#f1b6da\"],[0.4,\"#fde0ef\"],[0.5,\"#f7f7f7\"],[0.6,\"#e6f5d0\"],[0.7,\"#b8e186\"],[0.8,\"#7fbc41\"],[0.9,\"#4d9221\"],[1,\"#276419\"]],\"sequential\":[[0.0,\"#0d0887\"],[0.1111111111111111,\"#46039f\"],[0.2222222222222222,\"#7201a8\"],[0.3333333333333333,\"#9c179e\"],[0.4444444444444444,\"#bd3786\"],[0.5555555555555556,\"#d8576b\"],[0.6666666666666666,\"#ed7953\"],[0.7777777777777778,\"#fb9f3a\"],[0.8888888888888888,\"#fdca26\"],[1.0,\"#f0f921\"]],\"sequentialminus\":[[0.0,\"#0d0887\"],[0.1111111111111111,\"#46039f\"],[0.2222222222222222,\"#7201a8\"],[0.3333333333333333,\"#9c179e\"],[0.4444444444444444,\"#bd3786\"],[0.5555555555555556,\"#d8576b\"],[0.6666666666666666,\"#ed7953\"],[0.7777777777777778,\"#fb9f3a\"],[0.8888888888888888,\"#fdca26\"],[1.0,\"#f0f921\"]]},\"colorway\":[\"#636efa\",\"#EF553B\",\"#00cc96\",\"#ab63fa\",\"#FFA15A\",\"#19d3f3\",\"#FF6692\",\"#B6E880\",\"#FF97FF\",\"#FECB52\"],\"font\":{\"color\":\"#2a3f5f\"},\"geo\":{\"bgcolor\":\"white\",\"lakecolor\":\"white\",\"landcolor\":\"#E5ECF6\",\"showlakes\":true,\"showland\":true,\"subunitcolor\":\"white\"},\"hoverlabel\":{\"align\":\"left\"},\"hovermode\":\"closest\",\"mapbox\":{\"style\":\"light\"},\"paper_bgcolor\":\"white\",\"plot_bgcolor\":\"#E5ECF6\",\"polar\":{\"angularaxis\":{\"gridcolor\":\"white\",\"linecolor\":\"white\",\"ticks\":\"\"},\"bgcolor\":\"#E5ECF6\",\"radialaxis\":{\"gridcolor\":\"white\",\"linecolor\":\"white\",\"ticks\":\"\"}},\"scene\":{\"xaxis\":{\"backgroundcolor\":\"#E5ECF6\",\"gridcolor\":\"white\",\"gridwidth\":2,\"linecolor\":\"white\",\"showbackground\":true,\"ticks\":\"\",\"zerolinecolor\":\"white\"},\"yaxis\":{\"backgroundcolor\":\"#E5ECF6\",\"gridcolor\":\"white\",\"gridwidth\":2,\"linecolor\":\"white\",\"showbackground\":true,\"ticks\":\"\",\"zerolinecolor\":\"white\"},\"zaxis\":{\"backgroundcolor\":\"#E5ECF6\",\"gridcolor\":\"white\",\"gridwidth\":2,\"linecolor\":\"white\",\"showbackground\":true,\"ticks\":\"\",\"zerolinecolor\":\"white\"}},\"shapedefaults\":{\"line\":{\"color\":\"#2a3f5f\"}},\"ternary\":{\"aaxis\":{\"gridcolor\":\"white\",\"linecolor\":\"white\",\"ticks\":\"\"},\"baxis\":{\"gridcolor\":\"white\",\"linecolor\":\"white\",\"ticks\":\"\"},\"bgcolor\":\"#E5ECF6\",\"caxis\":{\"gridcolor\":\"white\",\"linecolor\":\"white\",\"ticks\":\"\"}},\"title\":{\"x\":0.05},\"xaxis\":{\"automargin\":true,\"gridcolor\":\"white\",\"linecolor\":\"white\",\"ticks\":\"\",\"title\":{\"standoff\":15},\"zerolinecolor\":\"white\",\"zerolinewidth\":2},\"yaxis\":{\"automargin\":true,\"gridcolor\":\"white\",\"linecolor\":\"white\",\"ticks\":\"\",\"title\":{\"standoff\":15},\"zerolinecolor\":\"white\",\"zerolinewidth\":2}}},\"title\":{\"font\":{\"size\":30},\"text\":\"<b>IMDB movies - Directors\",\"x\":0.5},\"xaxis\":{\"anchor\":\"y\",\"domain\":[0.0,1.0],\"showgrid\":false,\"tickangle\":30,\"title\":{\"text\":\"Directors\"}},\"yaxis\":{\"anchor\":\"x\",\"domain\":[0.0,1.0],\"showgrid\":false,\"title\":{\"text\":\"count\"}}},                        {\"responsive\": true}                    ).then(function(){\n",
       "                            \n",
       "var gd = document.getElementById('75cab4a2-d7e9-41d4-9380-655e99b41a66');\n",
       "var x = new MutationObserver(function (mutations, observer) {{\n",
       "        var display = window.getComputedStyle(gd).display;\n",
       "        if (!display || display === 'none') {{\n",
       "            console.log([gd, 'removed!']);\n",
       "            Plotly.purge(gd);\n",
       "            observer.disconnect();\n",
       "        }}\n",
       "}});\n",
       "\n",
       "// Listen for the removal of the full notebook cells\n",
       "var notebookContainer = gd.closest('#notebook-container');\n",
       "if (notebookContainer) {{\n",
       "    x.observe(notebookContainer, {childList: true});\n",
       "}}\n",
       "\n",
       "// Listen for the clearing of the current output cell\n",
       "var outputEl = gd.closest('.output');\n",
       "if (outputEl) {{\n",
       "    x.observe(outputEl, {childList: true});\n",
       "}}\n",
       "\n",
       "                        })                };                });            </script>        </div>"
      ]
     },
     "metadata": {},
     "output_type": "display_data"
    }
   ],
   "source": [
    "#Top 20 Directors with top movies\n",
    "bar_plot('Directors', limit =20)"
   ]
  },
  {
   "cell_type": "markdown",
   "id": "629fd471",
   "metadata": {},
   "source": [
    "* Steven Spielberg, Alfred Hitchcock is the most sucessful director with count of 13 movies each in top 1000 movies."
   ]
  },
  {
   "cell_type": "markdown",
   "id": "e18ad456",
   "metadata": {},
   "source": [
    "# Top 20 Stars"
   ]
  },
  {
   "cell_type": "code",
   "execution_count": 24,
   "id": "ef3e764a",
   "metadata": {},
   "outputs": [
    {
     "data": {
      "text/html": [
       "<div>\n",
       "<style scoped>\n",
       "    .dataframe tbody tr th:only-of-type {\n",
       "        vertical-align: middle;\n",
       "    }\n",
       "\n",
       "    .dataframe tbody tr th {\n",
       "        vertical-align: top;\n",
       "    }\n",
       "\n",
       "    .dataframe thead th {\n",
       "        text-align: right;\n",
       "    }\n",
       "</style>\n",
       "<table border=\"1\" class=\"dataframe\">\n",
       "  <thead>\n",
       "    <tr style=\"text-align: right;\">\n",
       "      <th></th>\n",
       "      <th>S1</th>\n",
       "      <th>S2</th>\n",
       "      <th>S3</th>\n",
       "      <th>S4</th>\n",
       "    </tr>\n",
       "    <tr>\n",
       "      <th>Ranking</th>\n",
       "      <th></th>\n",
       "      <th></th>\n",
       "      <th></th>\n",
       "      <th></th>\n",
       "    </tr>\n",
       "  </thead>\n",
       "  <tbody>\n",
       "    <tr>\n",
       "      <th>1</th>\n",
       "      <td>Tim Robbins</td>\n",
       "      <td>Morgan Freeman</td>\n",
       "      <td>Bob Gunton</td>\n",
       "      <td>William Sadler</td>\n",
       "    </tr>\n",
       "    <tr>\n",
       "      <th>2</th>\n",
       "      <td>Marlon Brando</td>\n",
       "      <td>Al Pacino</td>\n",
       "      <td>James Caan</td>\n",
       "      <td>Diane Keaton</td>\n",
       "    </tr>\n",
       "    <tr>\n",
       "      <th>3</th>\n",
       "      <td>Christian Bale</td>\n",
       "      <td>Heath Ledger</td>\n",
       "      <td>Aaron Eckhart</td>\n",
       "      <td>Michael Caine</td>\n",
       "    </tr>\n",
       "    <tr>\n",
       "      <th>4</th>\n",
       "      <td>Elijah Wood</td>\n",
       "      <td>Viggo Mortensen</td>\n",
       "      <td>Ian McKellen</td>\n",
       "      <td>Orlando Bloom</td>\n",
       "    </tr>\n",
       "    <tr>\n",
       "      <th>5</th>\n",
       "      <td>Liam Neeson</td>\n",
       "      <td>Ralph Fiennes</td>\n",
       "      <td>Ben Kingsley</td>\n",
       "      <td>Caroline Goodall</td>\n",
       "    </tr>\n",
       "  </tbody>\n",
       "</table>\n",
       "</div>"
      ],
      "text/plain": [
       "                     S1               S2             S3                S4\n",
       "Ranking                                                                  \n",
       "1           Tim Robbins   Morgan Freeman     Bob Gunton    William Sadler\n",
       "2         Marlon Brando        Al Pacino     James Caan      Diane Keaton\n",
       "3        Christian Bale     Heath Ledger  Aaron Eckhart     Michael Caine\n",
       "4           Elijah Wood  Viggo Mortensen   Ian McKellen     Orlando Bloom\n",
       "5           Liam Neeson    Ralph Fiennes   Ben Kingsley  Caroline Goodall"
      ]
     },
     "execution_count": 24,
     "metadata": {},
     "output_type": "execute_result"
    }
   ],
   "source": [
    "starsplt = df['Stars'].str.split(', ', n=-1, expand= True)\n",
    "starsplt.columns = ['S1','S2','S3','S4']\n",
    "starsplt.head()"
   ]
  },
  {
   "cell_type": "code",
   "execution_count": 25,
   "id": "74e7e0e9",
   "metadata": {},
   "outputs": [
    {
     "name": "stderr",
     "output_type": "stream",
     "text": [
      "<ipython-input-25-5f417a68e3d3>:1: FutureWarning:\n",
      "\n",
      "The series.append method is deprecated and will be removed from pandas in a future version. Use pandas.concat instead.\n",
      "\n",
      "<ipython-input-25-5f417a68e3d3>:2: FutureWarning:\n",
      "\n",
      "The series.append method is deprecated and will be removed from pandas in a future version. Use pandas.concat instead.\n",
      "\n",
      "<ipython-input-25-5f417a68e3d3>:3: FutureWarning:\n",
      "\n",
      "The series.append method is deprecated and will be removed from pandas in a future version. Use pandas.concat instead.\n",
      "\n"
     ]
    },
    {
     "data": {
      "text/plain": [
       "Ranking\n",
       "1           Tim Robbins\n",
       "2         Marlon Brando\n",
       "3        Christian Bale\n",
       "4           Elijah Wood\n",
       "5           Liam Neeson\n",
       "              ...      \n",
       "996      Walter Hampden\n",
       "997          Donna Reed\n",
       "998          Roy Atwell\n",
       "999      Godfrey Tearle\n",
       "1,000     Henry Travers\n",
       "Length: 4000, dtype: object"
      ]
     },
     "execution_count": 25,
     "metadata": {},
     "output_type": "execute_result"
    }
   ],
   "source": [
    "starone = starsplt['S1'].append(starsplt['S2'])\n",
    "starone = starone.append(starsplt['S3'])\n",
    "starone = starone.append(starsplt['S4'])\n",
    "starone.dropna(axis=0, how='any')\n",
    "starone"
   ]
  },
  {
   "cell_type": "code",
   "execution_count": 26,
   "id": "9bd3b3a9",
   "metadata": {
    "scrolled": false
   },
   "outputs": [
    {
     "data": {
      "text/html": [
       "<div>\n",
       "<style scoped>\n",
       "    .dataframe tbody tr th:only-of-type {\n",
       "        vertical-align: middle;\n",
       "    }\n",
       "\n",
       "    .dataframe tbody tr th {\n",
       "        vertical-align: top;\n",
       "    }\n",
       "\n",
       "    .dataframe thead th {\n",
       "        text-align: right;\n",
       "    }\n",
       "</style>\n",
       "<table border=\"1\" class=\"dataframe\">\n",
       "  <thead>\n",
       "    <tr style=\"text-align: right;\">\n",
       "      <th></th>\n",
       "      <th>Stars</th>\n",
       "    </tr>\n",
       "    <tr>\n",
       "      <th>Ranking</th>\n",
       "      <th></th>\n",
       "    </tr>\n",
       "  </thead>\n",
       "  <tbody>\n",
       "    <tr>\n",
       "      <th>1</th>\n",
       "      <td>Tim Robbins</td>\n",
       "    </tr>\n",
       "    <tr>\n",
       "      <th>2</th>\n",
       "      <td>Marlon Brando</td>\n",
       "    </tr>\n",
       "    <tr>\n",
       "      <th>3</th>\n",
       "      <td>Christian Bale</td>\n",
       "    </tr>\n",
       "    <tr>\n",
       "      <th>4</th>\n",
       "      <td>Elijah Wood</td>\n",
       "    </tr>\n",
       "    <tr>\n",
       "      <th>5</th>\n",
       "      <td>Liam Neeson</td>\n",
       "    </tr>\n",
       "    <tr>\n",
       "      <th>...</th>\n",
       "      <td>...</td>\n",
       "    </tr>\n",
       "    <tr>\n",
       "      <th>996</th>\n",
       "      <td>Walter Hampden</td>\n",
       "    </tr>\n",
       "    <tr>\n",
       "      <th>997</th>\n",
       "      <td>Donna Reed</td>\n",
       "    </tr>\n",
       "    <tr>\n",
       "      <th>998</th>\n",
       "      <td>Roy Atwell</td>\n",
       "    </tr>\n",
       "    <tr>\n",
       "      <th>999</th>\n",
       "      <td>Godfrey Tearle</td>\n",
       "    </tr>\n",
       "    <tr>\n",
       "      <th>1,000</th>\n",
       "      <td>Henry Travers</td>\n",
       "    </tr>\n",
       "  </tbody>\n",
       "</table>\n",
       "<p>4000 rows × 1 columns</p>\n",
       "</div>"
      ],
      "text/plain": [
       "                  Stars\n",
       "Ranking                \n",
       "1           Tim Robbins\n",
       "2         Marlon Brando\n",
       "3        Christian Bale\n",
       "4           Elijah Wood\n",
       "5           Liam Neeson\n",
       "...                 ...\n",
       "996      Walter Hampden\n",
       "997          Donna Reed\n",
       "998          Roy Atwell\n",
       "999      Godfrey Tearle\n",
       "1,000     Henry Travers\n",
       "\n",
       "[4000 rows x 1 columns]"
      ]
     },
     "execution_count": 26,
     "metadata": {},
     "output_type": "execute_result"
    }
   ],
   "source": [
    "dfstar = pd.DataFrame(starone)\n",
    "dfstar.columns =['Stars']\n",
    "dfstar"
   ]
  },
  {
   "cell_type": "code",
   "execution_count": 27,
   "id": "5f96c4b9",
   "metadata": {},
   "outputs": [
    {
     "data": {
      "application/vnd.plotly.v1+json": {
       "config": {
        "plotlyServerURL": "https://plot.ly"
       },
       "data": [
        {
         "alignmentgroup": "True",
         "hovertemplate": "x=%{x}<br>y=%{y}<extra></extra>",
         "legendgroup": "",
         "marker": {
          "color": "gold",
          "pattern": {
           "shape": ""
          }
         },
         "name": "",
         "offsetgroup": "",
         "orientation": "v",
         "showlegend": false,
         "textposition": "auto",
         "type": "bar",
         "x": [
          "Robert De Niro",
          "Tom Hanks",
          "Al Pacino",
          "Leonardo DiCaprio",
          "James Stewart",
          "Brad Pitt",
          "Matt Damon",
          "Christian Bale",
          "Clint Eastwood",
          "Humphrey Bogart",
          "Michael Caine",
          "Aamir Khan",
          "Ethan Hawke",
          "Scarlett Johansson",
          "Denzel Washington",
          "Tom Cruise",
          "Bruce Willis",
          "Harrison Ford",
          "Mark Ruffalo",
          "Ian McKellen"
         ],
         "xaxis": "x",
         "y": [
          16,
          15,
          13,
          11,
          11,
          11,
          11,
          11,
          10,
          10,
          9,
          9,
          9,
          9,
          8,
          8,
          8,
          8,
          7,
          7
         ],
         "yaxis": "y"
        }
       ],
       "layout": {
        "barmode": "relative",
        "font": {
         "color": "white",
         "family": "Lato",
         "size": 18
        },
        "legend": {
         "tracegroupgap": 0
        },
        "margin": {
         "t": 60
        },
        "paper_bgcolor": "black",
        "plot_bgcolor": "black",
        "template": {
         "data": {
          "bar": [
           {
            "error_x": {
             "color": "#2a3f5f"
            },
            "error_y": {
             "color": "#2a3f5f"
            },
            "marker": {
             "line": {
              "color": "#E5ECF6",
              "width": 0.5
             },
             "pattern": {
              "fillmode": "overlay",
              "size": 10,
              "solidity": 0.2
             }
            },
            "type": "bar"
           }
          ],
          "barpolar": [
           {
            "marker": {
             "line": {
              "color": "#E5ECF6",
              "width": 0.5
             },
             "pattern": {
              "fillmode": "overlay",
              "size": 10,
              "solidity": 0.2
             }
            },
            "type": "barpolar"
           }
          ],
          "carpet": [
           {
            "aaxis": {
             "endlinecolor": "#2a3f5f",
             "gridcolor": "white",
             "linecolor": "white",
             "minorgridcolor": "white",
             "startlinecolor": "#2a3f5f"
            },
            "baxis": {
             "endlinecolor": "#2a3f5f",
             "gridcolor": "white",
             "linecolor": "white",
             "minorgridcolor": "white",
             "startlinecolor": "#2a3f5f"
            },
            "type": "carpet"
           }
          ],
          "choropleth": [
           {
            "colorbar": {
             "outlinewidth": 0,
             "ticks": ""
            },
            "type": "choropleth"
           }
          ],
          "contour": [
           {
            "colorbar": {
             "outlinewidth": 0,
             "ticks": ""
            },
            "colorscale": [
             [
              0,
              "#0d0887"
             ],
             [
              0.1111111111111111,
              "#46039f"
             ],
             [
              0.2222222222222222,
              "#7201a8"
             ],
             [
              0.3333333333333333,
              "#9c179e"
             ],
             [
              0.4444444444444444,
              "#bd3786"
             ],
             [
              0.5555555555555556,
              "#d8576b"
             ],
             [
              0.6666666666666666,
              "#ed7953"
             ],
             [
              0.7777777777777778,
              "#fb9f3a"
             ],
             [
              0.8888888888888888,
              "#fdca26"
             ],
             [
              1,
              "#f0f921"
             ]
            ],
            "type": "contour"
           }
          ],
          "contourcarpet": [
           {
            "colorbar": {
             "outlinewidth": 0,
             "ticks": ""
            },
            "type": "contourcarpet"
           }
          ],
          "heatmap": [
           {
            "colorbar": {
             "outlinewidth": 0,
             "ticks": ""
            },
            "colorscale": [
             [
              0,
              "#0d0887"
             ],
             [
              0.1111111111111111,
              "#46039f"
             ],
             [
              0.2222222222222222,
              "#7201a8"
             ],
             [
              0.3333333333333333,
              "#9c179e"
             ],
             [
              0.4444444444444444,
              "#bd3786"
             ],
             [
              0.5555555555555556,
              "#d8576b"
             ],
             [
              0.6666666666666666,
              "#ed7953"
             ],
             [
              0.7777777777777778,
              "#fb9f3a"
             ],
             [
              0.8888888888888888,
              "#fdca26"
             ],
             [
              1,
              "#f0f921"
             ]
            ],
            "type": "heatmap"
           }
          ],
          "heatmapgl": [
           {
            "colorbar": {
             "outlinewidth": 0,
             "ticks": ""
            },
            "colorscale": [
             [
              0,
              "#0d0887"
             ],
             [
              0.1111111111111111,
              "#46039f"
             ],
             [
              0.2222222222222222,
              "#7201a8"
             ],
             [
              0.3333333333333333,
              "#9c179e"
             ],
             [
              0.4444444444444444,
              "#bd3786"
             ],
             [
              0.5555555555555556,
              "#d8576b"
             ],
             [
              0.6666666666666666,
              "#ed7953"
             ],
             [
              0.7777777777777778,
              "#fb9f3a"
             ],
             [
              0.8888888888888888,
              "#fdca26"
             ],
             [
              1,
              "#f0f921"
             ]
            ],
            "type": "heatmapgl"
           }
          ],
          "histogram": [
           {
            "marker": {
             "pattern": {
              "fillmode": "overlay",
              "size": 10,
              "solidity": 0.2
             }
            },
            "type": "histogram"
           }
          ],
          "histogram2d": [
           {
            "colorbar": {
             "outlinewidth": 0,
             "ticks": ""
            },
            "colorscale": [
             [
              0,
              "#0d0887"
             ],
             [
              0.1111111111111111,
              "#46039f"
             ],
             [
              0.2222222222222222,
              "#7201a8"
             ],
             [
              0.3333333333333333,
              "#9c179e"
             ],
             [
              0.4444444444444444,
              "#bd3786"
             ],
             [
              0.5555555555555556,
              "#d8576b"
             ],
             [
              0.6666666666666666,
              "#ed7953"
             ],
             [
              0.7777777777777778,
              "#fb9f3a"
             ],
             [
              0.8888888888888888,
              "#fdca26"
             ],
             [
              1,
              "#f0f921"
             ]
            ],
            "type": "histogram2d"
           }
          ],
          "histogram2dcontour": [
           {
            "colorbar": {
             "outlinewidth": 0,
             "ticks": ""
            },
            "colorscale": [
             [
              0,
              "#0d0887"
             ],
             [
              0.1111111111111111,
              "#46039f"
             ],
             [
              0.2222222222222222,
              "#7201a8"
             ],
             [
              0.3333333333333333,
              "#9c179e"
             ],
             [
              0.4444444444444444,
              "#bd3786"
             ],
             [
              0.5555555555555556,
              "#d8576b"
             ],
             [
              0.6666666666666666,
              "#ed7953"
             ],
             [
              0.7777777777777778,
              "#fb9f3a"
             ],
             [
              0.8888888888888888,
              "#fdca26"
             ],
             [
              1,
              "#f0f921"
             ]
            ],
            "type": "histogram2dcontour"
           }
          ],
          "mesh3d": [
           {
            "colorbar": {
             "outlinewidth": 0,
             "ticks": ""
            },
            "type": "mesh3d"
           }
          ],
          "parcoords": [
           {
            "line": {
             "colorbar": {
              "outlinewidth": 0,
              "ticks": ""
             }
            },
            "type": "parcoords"
           }
          ],
          "pie": [
           {
            "automargin": true,
            "type": "pie"
           }
          ],
          "scatter": [
           {
            "marker": {
             "colorbar": {
              "outlinewidth": 0,
              "ticks": ""
             }
            },
            "type": "scatter"
           }
          ],
          "scatter3d": [
           {
            "line": {
             "colorbar": {
              "outlinewidth": 0,
              "ticks": ""
             }
            },
            "marker": {
             "colorbar": {
              "outlinewidth": 0,
              "ticks": ""
             }
            },
            "type": "scatter3d"
           }
          ],
          "scattercarpet": [
           {
            "marker": {
             "colorbar": {
              "outlinewidth": 0,
              "ticks": ""
             }
            },
            "type": "scattercarpet"
           }
          ],
          "scattergeo": [
           {
            "marker": {
             "colorbar": {
              "outlinewidth": 0,
              "ticks": ""
             }
            },
            "type": "scattergeo"
           }
          ],
          "scattergl": [
           {
            "marker": {
             "colorbar": {
              "outlinewidth": 0,
              "ticks": ""
             }
            },
            "type": "scattergl"
           }
          ],
          "scattermapbox": [
           {
            "marker": {
             "colorbar": {
              "outlinewidth": 0,
              "ticks": ""
             }
            },
            "type": "scattermapbox"
           }
          ],
          "scatterpolar": [
           {
            "marker": {
             "colorbar": {
              "outlinewidth": 0,
              "ticks": ""
             }
            },
            "type": "scatterpolar"
           }
          ],
          "scatterpolargl": [
           {
            "marker": {
             "colorbar": {
              "outlinewidth": 0,
              "ticks": ""
             }
            },
            "type": "scatterpolargl"
           }
          ],
          "scatterternary": [
           {
            "marker": {
             "colorbar": {
              "outlinewidth": 0,
              "ticks": ""
             }
            },
            "type": "scatterternary"
           }
          ],
          "surface": [
           {
            "colorbar": {
             "outlinewidth": 0,
             "ticks": ""
            },
            "colorscale": [
             [
              0,
              "#0d0887"
             ],
             [
              0.1111111111111111,
              "#46039f"
             ],
             [
              0.2222222222222222,
              "#7201a8"
             ],
             [
              0.3333333333333333,
              "#9c179e"
             ],
             [
              0.4444444444444444,
              "#bd3786"
             ],
             [
              0.5555555555555556,
              "#d8576b"
             ],
             [
              0.6666666666666666,
              "#ed7953"
             ],
             [
              0.7777777777777778,
              "#fb9f3a"
             ],
             [
              0.8888888888888888,
              "#fdca26"
             ],
             [
              1,
              "#f0f921"
             ]
            ],
            "type": "surface"
           }
          ],
          "table": [
           {
            "cells": {
             "fill": {
              "color": "#EBF0F8"
             },
             "line": {
              "color": "white"
             }
            },
            "header": {
             "fill": {
              "color": "#C8D4E3"
             },
             "line": {
              "color": "white"
             }
            },
            "type": "table"
           }
          ]
         },
         "layout": {
          "annotationdefaults": {
           "arrowcolor": "#2a3f5f",
           "arrowhead": 0,
           "arrowwidth": 1
          },
          "autotypenumbers": "strict",
          "coloraxis": {
           "colorbar": {
            "outlinewidth": 0,
            "ticks": ""
           }
          },
          "colorscale": {
           "diverging": [
            [
             0,
             "#8e0152"
            ],
            [
             0.1,
             "#c51b7d"
            ],
            [
             0.2,
             "#de77ae"
            ],
            [
             0.3,
             "#f1b6da"
            ],
            [
             0.4,
             "#fde0ef"
            ],
            [
             0.5,
             "#f7f7f7"
            ],
            [
             0.6,
             "#e6f5d0"
            ],
            [
             0.7,
             "#b8e186"
            ],
            [
             0.8,
             "#7fbc41"
            ],
            [
             0.9,
             "#4d9221"
            ],
            [
             1,
             "#276419"
            ]
           ],
           "sequential": [
            [
             0,
             "#0d0887"
            ],
            [
             0.1111111111111111,
             "#46039f"
            ],
            [
             0.2222222222222222,
             "#7201a8"
            ],
            [
             0.3333333333333333,
             "#9c179e"
            ],
            [
             0.4444444444444444,
             "#bd3786"
            ],
            [
             0.5555555555555556,
             "#d8576b"
            ],
            [
             0.6666666666666666,
             "#ed7953"
            ],
            [
             0.7777777777777778,
             "#fb9f3a"
            ],
            [
             0.8888888888888888,
             "#fdca26"
            ],
            [
             1,
             "#f0f921"
            ]
           ],
           "sequentialminus": [
            [
             0,
             "#0d0887"
            ],
            [
             0.1111111111111111,
             "#46039f"
            ],
            [
             0.2222222222222222,
             "#7201a8"
            ],
            [
             0.3333333333333333,
             "#9c179e"
            ],
            [
             0.4444444444444444,
             "#bd3786"
            ],
            [
             0.5555555555555556,
             "#d8576b"
            ],
            [
             0.6666666666666666,
             "#ed7953"
            ],
            [
             0.7777777777777778,
             "#fb9f3a"
            ],
            [
             0.8888888888888888,
             "#fdca26"
            ],
            [
             1,
             "#f0f921"
            ]
           ]
          },
          "colorway": [
           "#636efa",
           "#EF553B",
           "#00cc96",
           "#ab63fa",
           "#FFA15A",
           "#19d3f3",
           "#FF6692",
           "#B6E880",
           "#FF97FF",
           "#FECB52"
          ],
          "font": {
           "color": "#2a3f5f"
          },
          "geo": {
           "bgcolor": "white",
           "lakecolor": "white",
           "landcolor": "#E5ECF6",
           "showlakes": true,
           "showland": true,
           "subunitcolor": "white"
          },
          "hoverlabel": {
           "align": "left"
          },
          "hovermode": "closest",
          "mapbox": {
           "style": "light"
          },
          "paper_bgcolor": "white",
          "plot_bgcolor": "#E5ECF6",
          "polar": {
           "angularaxis": {
            "gridcolor": "white",
            "linecolor": "white",
            "ticks": ""
           },
           "bgcolor": "#E5ECF6",
           "radialaxis": {
            "gridcolor": "white",
            "linecolor": "white",
            "ticks": ""
           }
          },
          "scene": {
           "xaxis": {
            "backgroundcolor": "#E5ECF6",
            "gridcolor": "white",
            "gridwidth": 2,
            "linecolor": "white",
            "showbackground": true,
            "ticks": "",
            "zerolinecolor": "white"
           },
           "yaxis": {
            "backgroundcolor": "#E5ECF6",
            "gridcolor": "white",
            "gridwidth": 2,
            "linecolor": "white",
            "showbackground": true,
            "ticks": "",
            "zerolinecolor": "white"
           },
           "zaxis": {
            "backgroundcolor": "#E5ECF6",
            "gridcolor": "white",
            "gridwidth": 2,
            "linecolor": "white",
            "showbackground": true,
            "ticks": "",
            "zerolinecolor": "white"
           }
          },
          "shapedefaults": {
           "line": {
            "color": "#2a3f5f"
           }
          },
          "ternary": {
           "aaxis": {
            "gridcolor": "white",
            "linecolor": "white",
            "ticks": ""
           },
           "baxis": {
            "gridcolor": "white",
            "linecolor": "white",
            "ticks": ""
           },
           "bgcolor": "#E5ECF6",
           "caxis": {
            "gridcolor": "white",
            "linecolor": "white",
            "ticks": ""
           }
          },
          "title": {
           "x": 0.05
          },
          "xaxis": {
           "automargin": true,
           "gridcolor": "white",
           "linecolor": "white",
           "ticks": "",
           "title": {
            "standoff": 15
           },
           "zerolinecolor": "white",
           "zerolinewidth": 2
          },
          "yaxis": {
           "automargin": true,
           "gridcolor": "white",
           "linecolor": "white",
           "ticks": "",
           "title": {
            "standoff": 15
           },
           "zerolinecolor": "white",
           "zerolinewidth": 2
          }
         }
        },
        "title": {
         "font": {
          "size": 30
         },
         "text": "<b>IMDB movies - Stars",
         "x": 0.5
        },
        "xaxis": {
         "anchor": "y",
         "domain": [
          0,
          1
         ],
         "showgrid": false,
         "tickangle": 30,
         "title": {
          "text": "Stars"
         }
        },
        "yaxis": {
         "anchor": "x",
         "domain": [
          0,
          1
         ],
         "showgrid": false,
         "title": {
          "text": "count"
         }
        }
       }
      },
      "text/html": [
       "<div>                            <div id=\"18aca413-8d43-41a9-a3b4-5dc977faf503\" class=\"plotly-graph-div\" style=\"height:525px; width:100%;\"></div>            <script type=\"text/javascript\">                require([\"plotly\"], function(Plotly) {                    window.PLOTLYENV=window.PLOTLYENV || {};                                    if (document.getElementById(\"18aca413-8d43-41a9-a3b4-5dc977faf503\")) {                    Plotly.newPlot(                        \"18aca413-8d43-41a9-a3b4-5dc977faf503\",                        [{\"alignmentgroup\":\"True\",\"hovertemplate\":\"x=%{x}<br>y=%{y}<extra></extra>\",\"legendgroup\":\"\",\"marker\":{\"color\":\"gold\",\"pattern\":{\"shape\":\"\"}},\"name\":\"\",\"offsetgroup\":\"\",\"orientation\":\"v\",\"showlegend\":false,\"textposition\":\"auto\",\"type\":\"bar\",\"x\":[\"Robert De Niro\",\"Tom Hanks\",\"Al Pacino\",\"Leonardo DiCaprio\",\"James Stewart\",\"Brad Pitt\",\"Matt Damon\",\"Christian Bale\",\"Clint Eastwood\",\"Humphrey Bogart\",\"Michael Caine\",\"Aamir Khan\",\"Ethan Hawke\",\"Scarlett Johansson\",\"Denzel Washington\",\"Tom Cruise\",\"Bruce Willis\",\"Harrison Ford\",\"Mark Ruffalo\",\"Ian McKellen\"],\"xaxis\":\"x\",\"y\":[16,15,13,11,11,11,11,11,10,10,9,9,9,9,8,8,8,8,7,7],\"yaxis\":\"y\"}],                        {\"barmode\":\"relative\",\"font\":{\"color\":\"white\",\"family\":\"Lato\",\"size\":18},\"legend\":{\"tracegroupgap\":0},\"margin\":{\"t\":60},\"paper_bgcolor\":\"black\",\"plot_bgcolor\":\"black\",\"template\":{\"data\":{\"bar\":[{\"error_x\":{\"color\":\"#2a3f5f\"},\"error_y\":{\"color\":\"#2a3f5f\"},\"marker\":{\"line\":{\"color\":\"#E5ECF6\",\"width\":0.5},\"pattern\":{\"fillmode\":\"overlay\",\"size\":10,\"solidity\":0.2}},\"type\":\"bar\"}],\"barpolar\":[{\"marker\":{\"line\":{\"color\":\"#E5ECF6\",\"width\":0.5},\"pattern\":{\"fillmode\":\"overlay\",\"size\":10,\"solidity\":0.2}},\"type\":\"barpolar\"}],\"carpet\":[{\"aaxis\":{\"endlinecolor\":\"#2a3f5f\",\"gridcolor\":\"white\",\"linecolor\":\"white\",\"minorgridcolor\":\"white\",\"startlinecolor\":\"#2a3f5f\"},\"baxis\":{\"endlinecolor\":\"#2a3f5f\",\"gridcolor\":\"white\",\"linecolor\":\"white\",\"minorgridcolor\":\"white\",\"startlinecolor\":\"#2a3f5f\"},\"type\":\"carpet\"}],\"choropleth\":[{\"colorbar\":{\"outlinewidth\":0,\"ticks\":\"\"},\"type\":\"choropleth\"}],\"contour\":[{\"colorbar\":{\"outlinewidth\":0,\"ticks\":\"\"},\"colorscale\":[[0.0,\"#0d0887\"],[0.1111111111111111,\"#46039f\"],[0.2222222222222222,\"#7201a8\"],[0.3333333333333333,\"#9c179e\"],[0.4444444444444444,\"#bd3786\"],[0.5555555555555556,\"#d8576b\"],[0.6666666666666666,\"#ed7953\"],[0.7777777777777778,\"#fb9f3a\"],[0.8888888888888888,\"#fdca26\"],[1.0,\"#f0f921\"]],\"type\":\"contour\"}],\"contourcarpet\":[{\"colorbar\":{\"outlinewidth\":0,\"ticks\":\"\"},\"type\":\"contourcarpet\"}],\"heatmap\":[{\"colorbar\":{\"outlinewidth\":0,\"ticks\":\"\"},\"colorscale\":[[0.0,\"#0d0887\"],[0.1111111111111111,\"#46039f\"],[0.2222222222222222,\"#7201a8\"],[0.3333333333333333,\"#9c179e\"],[0.4444444444444444,\"#bd3786\"],[0.5555555555555556,\"#d8576b\"],[0.6666666666666666,\"#ed7953\"],[0.7777777777777778,\"#fb9f3a\"],[0.8888888888888888,\"#fdca26\"],[1.0,\"#f0f921\"]],\"type\":\"heatmap\"}],\"heatmapgl\":[{\"colorbar\":{\"outlinewidth\":0,\"ticks\":\"\"},\"colorscale\":[[0.0,\"#0d0887\"],[0.1111111111111111,\"#46039f\"],[0.2222222222222222,\"#7201a8\"],[0.3333333333333333,\"#9c179e\"],[0.4444444444444444,\"#bd3786\"],[0.5555555555555556,\"#d8576b\"],[0.6666666666666666,\"#ed7953\"],[0.7777777777777778,\"#fb9f3a\"],[0.8888888888888888,\"#fdca26\"],[1.0,\"#f0f921\"]],\"type\":\"heatmapgl\"}],\"histogram\":[{\"marker\":{\"pattern\":{\"fillmode\":\"overlay\",\"size\":10,\"solidity\":0.2}},\"type\":\"histogram\"}],\"histogram2d\":[{\"colorbar\":{\"outlinewidth\":0,\"ticks\":\"\"},\"colorscale\":[[0.0,\"#0d0887\"],[0.1111111111111111,\"#46039f\"],[0.2222222222222222,\"#7201a8\"],[0.3333333333333333,\"#9c179e\"],[0.4444444444444444,\"#bd3786\"],[0.5555555555555556,\"#d8576b\"],[0.6666666666666666,\"#ed7953\"],[0.7777777777777778,\"#fb9f3a\"],[0.8888888888888888,\"#fdca26\"],[1.0,\"#f0f921\"]],\"type\":\"histogram2d\"}],\"histogram2dcontour\":[{\"colorbar\":{\"outlinewidth\":0,\"ticks\":\"\"},\"colorscale\":[[0.0,\"#0d0887\"],[0.1111111111111111,\"#46039f\"],[0.2222222222222222,\"#7201a8\"],[0.3333333333333333,\"#9c179e\"],[0.4444444444444444,\"#bd3786\"],[0.5555555555555556,\"#d8576b\"],[0.6666666666666666,\"#ed7953\"],[0.7777777777777778,\"#fb9f3a\"],[0.8888888888888888,\"#fdca26\"],[1.0,\"#f0f921\"]],\"type\":\"histogram2dcontour\"}],\"mesh3d\":[{\"colorbar\":{\"outlinewidth\":0,\"ticks\":\"\"},\"type\":\"mesh3d\"}],\"parcoords\":[{\"line\":{\"colorbar\":{\"outlinewidth\":0,\"ticks\":\"\"}},\"type\":\"parcoords\"}],\"pie\":[{\"automargin\":true,\"type\":\"pie\"}],\"scatter\":[{\"marker\":{\"colorbar\":{\"outlinewidth\":0,\"ticks\":\"\"}},\"type\":\"scatter\"}],\"scatter3d\":[{\"line\":{\"colorbar\":{\"outlinewidth\":0,\"ticks\":\"\"}},\"marker\":{\"colorbar\":{\"outlinewidth\":0,\"ticks\":\"\"}},\"type\":\"scatter3d\"}],\"scattercarpet\":[{\"marker\":{\"colorbar\":{\"outlinewidth\":0,\"ticks\":\"\"}},\"type\":\"scattercarpet\"}],\"scattergeo\":[{\"marker\":{\"colorbar\":{\"outlinewidth\":0,\"ticks\":\"\"}},\"type\":\"scattergeo\"}],\"scattergl\":[{\"marker\":{\"colorbar\":{\"outlinewidth\":0,\"ticks\":\"\"}},\"type\":\"scattergl\"}],\"scattermapbox\":[{\"marker\":{\"colorbar\":{\"outlinewidth\":0,\"ticks\":\"\"}},\"type\":\"scattermapbox\"}],\"scatterpolar\":[{\"marker\":{\"colorbar\":{\"outlinewidth\":0,\"ticks\":\"\"}},\"type\":\"scatterpolar\"}],\"scatterpolargl\":[{\"marker\":{\"colorbar\":{\"outlinewidth\":0,\"ticks\":\"\"}},\"type\":\"scatterpolargl\"}],\"scatterternary\":[{\"marker\":{\"colorbar\":{\"outlinewidth\":0,\"ticks\":\"\"}},\"type\":\"scatterternary\"}],\"surface\":[{\"colorbar\":{\"outlinewidth\":0,\"ticks\":\"\"},\"colorscale\":[[0.0,\"#0d0887\"],[0.1111111111111111,\"#46039f\"],[0.2222222222222222,\"#7201a8\"],[0.3333333333333333,\"#9c179e\"],[0.4444444444444444,\"#bd3786\"],[0.5555555555555556,\"#d8576b\"],[0.6666666666666666,\"#ed7953\"],[0.7777777777777778,\"#fb9f3a\"],[0.8888888888888888,\"#fdca26\"],[1.0,\"#f0f921\"]],\"type\":\"surface\"}],\"table\":[{\"cells\":{\"fill\":{\"color\":\"#EBF0F8\"},\"line\":{\"color\":\"white\"}},\"header\":{\"fill\":{\"color\":\"#C8D4E3\"},\"line\":{\"color\":\"white\"}},\"type\":\"table\"}]},\"layout\":{\"annotationdefaults\":{\"arrowcolor\":\"#2a3f5f\",\"arrowhead\":0,\"arrowwidth\":1},\"autotypenumbers\":\"strict\",\"coloraxis\":{\"colorbar\":{\"outlinewidth\":0,\"ticks\":\"\"}},\"colorscale\":{\"diverging\":[[0,\"#8e0152\"],[0.1,\"#c51b7d\"],[0.2,\"#de77ae\"],[0.3,\"#f1b6da\"],[0.4,\"#fde0ef\"],[0.5,\"#f7f7f7\"],[0.6,\"#e6f5d0\"],[0.7,\"#b8e186\"],[0.8,\"#7fbc41\"],[0.9,\"#4d9221\"],[1,\"#276419\"]],\"sequential\":[[0.0,\"#0d0887\"],[0.1111111111111111,\"#46039f\"],[0.2222222222222222,\"#7201a8\"],[0.3333333333333333,\"#9c179e\"],[0.4444444444444444,\"#bd3786\"],[0.5555555555555556,\"#d8576b\"],[0.6666666666666666,\"#ed7953\"],[0.7777777777777778,\"#fb9f3a\"],[0.8888888888888888,\"#fdca26\"],[1.0,\"#f0f921\"]],\"sequentialminus\":[[0.0,\"#0d0887\"],[0.1111111111111111,\"#46039f\"],[0.2222222222222222,\"#7201a8\"],[0.3333333333333333,\"#9c179e\"],[0.4444444444444444,\"#bd3786\"],[0.5555555555555556,\"#d8576b\"],[0.6666666666666666,\"#ed7953\"],[0.7777777777777778,\"#fb9f3a\"],[0.8888888888888888,\"#fdca26\"],[1.0,\"#f0f921\"]]},\"colorway\":[\"#636efa\",\"#EF553B\",\"#00cc96\",\"#ab63fa\",\"#FFA15A\",\"#19d3f3\",\"#FF6692\",\"#B6E880\",\"#FF97FF\",\"#FECB52\"],\"font\":{\"color\":\"#2a3f5f\"},\"geo\":{\"bgcolor\":\"white\",\"lakecolor\":\"white\",\"landcolor\":\"#E5ECF6\",\"showlakes\":true,\"showland\":true,\"subunitcolor\":\"white\"},\"hoverlabel\":{\"align\":\"left\"},\"hovermode\":\"closest\",\"mapbox\":{\"style\":\"light\"},\"paper_bgcolor\":\"white\",\"plot_bgcolor\":\"#E5ECF6\",\"polar\":{\"angularaxis\":{\"gridcolor\":\"white\",\"linecolor\":\"white\",\"ticks\":\"\"},\"bgcolor\":\"#E5ECF6\",\"radialaxis\":{\"gridcolor\":\"white\",\"linecolor\":\"white\",\"ticks\":\"\"}},\"scene\":{\"xaxis\":{\"backgroundcolor\":\"#E5ECF6\",\"gridcolor\":\"white\",\"gridwidth\":2,\"linecolor\":\"white\",\"showbackground\":true,\"ticks\":\"\",\"zerolinecolor\":\"white\"},\"yaxis\":{\"backgroundcolor\":\"#E5ECF6\",\"gridcolor\":\"white\",\"gridwidth\":2,\"linecolor\":\"white\",\"showbackground\":true,\"ticks\":\"\",\"zerolinecolor\":\"white\"},\"zaxis\":{\"backgroundcolor\":\"#E5ECF6\",\"gridcolor\":\"white\",\"gridwidth\":2,\"linecolor\":\"white\",\"showbackground\":true,\"ticks\":\"\",\"zerolinecolor\":\"white\"}},\"shapedefaults\":{\"line\":{\"color\":\"#2a3f5f\"}},\"ternary\":{\"aaxis\":{\"gridcolor\":\"white\",\"linecolor\":\"white\",\"ticks\":\"\"},\"baxis\":{\"gridcolor\":\"white\",\"linecolor\":\"white\",\"ticks\":\"\"},\"bgcolor\":\"#E5ECF6\",\"caxis\":{\"gridcolor\":\"white\",\"linecolor\":\"white\",\"ticks\":\"\"}},\"title\":{\"x\":0.05},\"xaxis\":{\"automargin\":true,\"gridcolor\":\"white\",\"linecolor\":\"white\",\"ticks\":\"\",\"title\":{\"standoff\":15},\"zerolinecolor\":\"white\",\"zerolinewidth\":2},\"yaxis\":{\"automargin\":true,\"gridcolor\":\"white\",\"linecolor\":\"white\",\"ticks\":\"\",\"title\":{\"standoff\":15},\"zerolinecolor\":\"white\",\"zerolinewidth\":2}}},\"title\":{\"font\":{\"size\":30},\"text\":\"<b>IMDB movies - Stars\",\"x\":0.5},\"xaxis\":{\"anchor\":\"y\",\"domain\":[0.0,1.0],\"showgrid\":false,\"tickangle\":30,\"title\":{\"text\":\"Stars\"}},\"yaxis\":{\"anchor\":\"x\",\"domain\":[0.0,1.0],\"showgrid\":false,\"title\":{\"text\":\"count\"}}},                        {\"responsive\": true}                    ).then(function(){\n",
       "                            \n",
       "var gd = document.getElementById('18aca413-8d43-41a9-a3b4-5dc977faf503');\n",
       "var x = new MutationObserver(function (mutations, observer) {{\n",
       "        var display = window.getComputedStyle(gd).display;\n",
       "        if (!display || display === 'none') {{\n",
       "            console.log([gd, 'removed!']);\n",
       "            Plotly.purge(gd);\n",
       "            observer.disconnect();\n",
       "        }}\n",
       "}});\n",
       "\n",
       "// Listen for the removal of the full notebook cells\n",
       "var notebookContainer = gd.closest('#notebook-container');\n",
       "if (notebookContainer) {{\n",
       "    x.observe(notebookContainer, {childList: true});\n",
       "}}\n",
       "\n",
       "// Listen for the clearing of the current output cell\n",
       "var outputEl = gd.closest('.output');\n",
       "if (outputEl) {{\n",
       "    x.observe(outputEl, {childList: true});\n",
       "}}\n",
       "\n",
       "                        })                };                });            </script>        </div>"
      ]
     },
     "metadata": {},
     "output_type": "display_data"
    }
   ],
   "source": [
    "bar_plot('Stars', data_frame=dfstar, limit=20)"
   ]
  },
  {
   "cell_type": "markdown",
   "id": "a60625e3",
   "metadata": {},
   "source": [
    "* Robert De Niro is the most succesfull actors starring in 16 movies in the Top 1000 IMDB movies."
   ]
  },
  {
   "cell_type": "code",
   "execution_count": 120,
   "id": "7bbd8bb2",
   "metadata": {},
   "outputs": [
    {
     "data": {
      "application/vnd.plotly.v1+json": {
       "config": {
        "plotlyServerURL": "https://plot.ly"
       },
       "data": [
        {
         "mode": "markers",
         "name": "Ratings Vs Watch Time",
         "type": "scatter",
         "x": [
          9.3,
          9.2,
          9,
          9,
          9,
          9,
          9,
          8.9,
          8.9,
          8.8,
          8.8,
          8.8,
          8.8,
          8.8,
          8.8,
          8.7,
          8.7,
          8.7,
          8.7,
          8.7,
          8.6,
          8.6,
          8.6,
          8.6,
          8.6,
          8.6,
          8.6,
          8.6,
          8.6,
          8.6,
          8.6,
          8.6,
          8.6,
          8.6,
          8.5,
          8.5,
          8.5,
          8.5,
          8.5,
          8.5,
          8.5,
          8.5,
          8.5,
          8.5,
          8.5,
          8.5,
          8.5,
          8.5,
          8.5,
          8.5,
          8.5,
          8.5,
          8.5,
          8.5,
          8.5,
          8.5,
          8.5,
          8.5,
          8.5,
          8.5,
          8.4,
          8.4,
          8.4,
          8.4,
          8.4,
          8.4,
          8.4,
          8.4,
          8.4,
          8.4,
          8.4,
          8.4,
          8.4,
          8.4,
          8.4,
          8.4,
          8.4,
          8.4,
          8.4,
          8.4,
          8.4,
          8.4,
          8.4,
          8.4,
          8.4,
          8.4,
          8.4,
          8.4,
          8.4,
          8.4,
          8.4,
          8.4,
          8.4,
          8.3,
          8.3,
          8.3,
          8.3,
          8.3,
          8.3,
          8.3,
          8.3,
          8.3,
          8.3,
          8.3,
          8.3,
          8.3,
          8.3,
          8.3,
          8.3,
          8.3,
          8.3,
          8.3,
          8.3,
          8.3,
          8.3,
          8.3,
          8.3,
          8.3,
          8.3,
          8.3,
          8.3,
          8.3,
          8.3,
          8.3,
          8.3,
          8.3,
          8.3,
          8.3,
          8.3,
          8.3,
          8.3,
          8.3,
          8.3,
          8.3,
          8.3,
          8.3,
          8.2,
          8.2,
          8.2,
          8.2,
          8.2,
          8.2,
          8.2,
          8.2,
          8.2,
          8.2,
          8.2,
          8.2,
          8.2,
          8.2,
          8.2,
          8.2,
          8.2,
          8.2,
          8.2,
          8.2,
          8.2,
          8.2,
          8.2,
          8.2,
          8.2,
          8.2,
          8.2,
          8.2,
          8.2,
          8.2,
          8.2,
          8.2,
          8.2,
          8.2,
          8.2,
          8.2,
          8.2,
          8.2,
          8.2,
          8.2,
          8.2,
          8.2,
          8.2,
          8.2,
          8.2,
          8.2,
          8.2,
          8.2,
          8.2,
          8.2,
          8.2,
          8.2,
          8.2,
          8.2,
          8.2,
          8.2,
          8.2,
          8.2,
          8.2,
          8.2,
          8.2,
          8.2,
          8.2,
          8.2,
          8.2,
          8.2,
          8.2,
          8.2,
          8.2,
          8.2,
          8.2,
          8.1,
          8.1,
          8.1,
          8.1,
          8.1,
          8.1,
          8.1,
          8.1,
          8.1,
          8.1,
          8.1,
          8.1,
          8.1,
          8.1,
          8.1,
          8.1,
          8.1,
          8.1,
          8.1,
          8.1,
          8.1,
          8.1,
          8.1,
          8.1,
          8.1,
          8.1,
          8.1,
          8.1,
          8.1,
          8.1,
          8.1,
          8.1,
          8.1,
          8.1,
          8.1,
          8.1,
          8.1,
          8.1,
          8.1,
          8.1,
          8.1,
          8.1,
          8.1,
          8.1,
          8.1,
          8.1,
          8.1,
          8.1,
          8.1,
          8.1,
          8.1,
          8.1,
          8.1,
          8.1,
          8.1,
          8.1,
          8.1,
          8.1,
          8.1,
          8.1,
          8.1,
          8.1,
          8.1,
          8.1,
          8.1,
          8.1,
          8.1,
          8.1,
          8.1,
          8.1,
          8.1,
          8.1,
          8.1,
          8.1,
          8.1,
          8.1,
          8.1,
          8.1,
          8.1,
          8.1,
          8.1,
          8.1,
          8.1,
          8.1,
          8.1,
          8.1,
          8.1,
          8.1,
          8.1,
          8.1,
          8.1,
          8.1,
          8.1,
          8.1,
          8.1,
          8.1,
          8.1,
          8.1,
          8.1,
          8.1,
          8.1,
          8.1,
          8.1,
          8.1,
          8.1,
          8.1,
          8.1,
          8.1,
          8.1,
          8.1,
          8.1,
          8.1,
          8.1,
          8.1,
          8.1,
          8.1,
          8.1,
          8.1,
          8.1,
          8.1,
          8.1,
          8.1,
          8.1,
          8.1,
          8.1,
          8.1,
          8.1,
          8.1,
          8,
          8,
          8,
          8,
          8,
          8,
          8,
          8,
          8,
          8,
          8,
          8,
          8,
          8,
          8,
          8,
          8,
          8,
          8,
          8,
          8,
          8,
          8,
          8,
          8,
          8,
          8,
          8,
          8,
          8,
          8,
          8,
          8,
          8,
          8,
          8,
          8,
          8,
          8,
          8,
          8,
          8,
          8,
          8,
          8,
          8,
          8,
          8,
          8,
          8,
          8,
          8,
          8,
          8,
          8,
          8,
          8,
          8,
          8,
          8,
          8,
          8,
          8,
          8,
          8,
          8,
          8,
          8,
          8,
          8,
          8,
          8,
          8,
          8,
          8,
          8,
          8,
          8,
          8,
          8,
          8,
          8,
          8,
          8,
          8,
          8,
          8,
          8,
          8,
          8,
          8,
          8,
          8,
          8,
          8,
          8,
          8,
          8,
          8,
          8,
          8,
          8,
          8,
          8,
          8,
          8,
          8,
          8,
          8,
          8,
          8,
          8,
          8,
          8,
          8,
          8,
          8,
          8,
          8,
          8,
          8,
          8,
          8,
          8,
          8,
          8,
          8,
          8,
          7.9,
          7.9,
          7.9,
          7.9,
          7.9,
          7.9,
          7.9,
          7.9,
          7.9,
          7.9,
          7.9,
          7.9,
          7.9,
          7.9,
          7.9,
          7.9,
          7.9,
          7.9,
          7.9,
          7.9,
          7.9,
          7.9,
          7.9,
          7.9,
          7.9,
          7.9,
          7.9,
          7.9,
          7.9,
          7.9,
          7.9,
          7.9,
          7.9,
          7.9,
          7.9,
          7.9,
          7.9,
          7.9,
          7.9,
          7.9,
          7.9,
          7.9,
          7.9,
          7.9,
          7.9,
          7.9,
          7.9,
          7.9,
          7.9,
          7.9,
          7.9,
          7.9,
          7.9,
          7.9,
          7.9,
          7.9,
          7.9,
          7.9,
          7.9,
          7.9,
          7.9,
          7.9,
          7.9,
          7.9,
          7.9,
          7.9,
          7.9,
          7.9,
          7.9,
          7.9,
          7.9,
          7.9,
          7.9,
          7.9,
          7.9,
          7.9,
          7.9,
          7.9,
          7.9,
          7.9,
          7.9,
          7.9,
          7.9,
          7.9,
          7.9,
          7.9,
          7.9,
          7.9,
          7.9,
          7.9,
          7.9,
          7.9,
          7.9,
          7.9,
          7.9,
          7.9,
          7.9,
          7.9,
          7.9,
          7.9,
          7.9,
          7.9,
          7.9,
          7.9,
          7.9,
          7.9,
          7.9,
          7.9,
          7.9,
          7.9,
          7.9,
          7.9,
          7.9,
          7.9,
          7.9,
          7.9,
          7.9,
          7.9,
          7.9,
          7.9,
          7.9,
          7.9,
          7.9,
          7.9,
          7.9,
          7.9,
          7.9,
          7.9,
          7.9,
          7.9,
          7.8,
          7.8,
          7.8,
          7.8,
          7.8,
          7.8,
          7.8,
          7.8,
          7.8,
          7.8,
          7.8,
          7.8,
          7.8,
          7.8,
          7.8,
          7.8,
          7.8,
          7.8,
          7.8,
          7.8,
          7.8,
          7.8,
          7.8,
          7.8,
          7.8,
          7.8,
          7.8,
          7.8,
          7.8,
          7.8,
          7.8,
          7.8,
          7.8,
          7.8,
          7.8,
          7.8,
          7.8,
          7.8,
          7.8,
          7.8,
          7.8,
          7.8,
          7.8,
          7.8,
          7.8,
          7.8,
          7.8,
          7.8,
          7.8,
          7.8,
          7.8,
          7.8,
          7.8,
          7.8,
          7.8,
          7.8,
          7.8,
          7.8,
          7.8,
          7.8,
          7.8,
          7.8,
          7.8,
          7.8,
          7.8,
          7.8,
          7.8,
          7.8,
          7.8,
          7.8,
          7.8,
          7.8,
          7.8,
          7.8,
          7.8,
          7.8,
          7.8,
          7.8,
          7.8,
          7.8,
          7.8,
          7.8,
          7.8,
          7.8,
          7.8,
          7.8,
          7.8,
          7.8,
          7.8,
          7.8,
          7.8,
          7.8,
          7.8,
          7.8,
          7.8,
          7.8,
          7.8,
          7.8,
          7.8,
          7.8,
          7.8,
          7.8,
          7.8,
          7.8,
          7.8,
          7.8,
          7.8,
          7.8,
          7.8,
          7.8,
          7.8,
          7.8,
          7.8,
          7.8,
          7.8,
          7.8,
          7.8,
          7.8,
          7.8,
          7.8,
          7.8,
          7.8,
          7.8,
          7.8,
          7.8,
          7.8,
          7.8,
          7.8,
          7.8,
          7.8,
          7.8,
          7.8,
          7.8,
          7.8,
          7.8,
          7.8,
          7.8,
          7.8,
          7.8,
          7.8,
          7.8,
          7.8,
          7.8,
          7.8,
          7.8,
          7.8,
          7.8,
          7.7,
          7.7,
          7.7,
          7.7,
          7.7,
          7.7,
          7.7,
          7.7,
          7.7,
          7.7,
          7.7,
          7.7,
          7.7,
          7.7,
          7.7,
          7.7,
          7.7,
          7.7,
          7.7,
          7.7,
          7.7,
          7.7,
          7.7,
          7.7,
          7.7,
          7.7,
          7.7,
          7.7,
          7.7,
          7.7,
          7.7,
          7.7,
          7.7,
          7.7,
          7.7,
          7.7,
          7.7,
          7.7,
          7.7,
          7.7,
          7.7,
          7.7,
          7.7,
          7.7,
          7.7,
          7.7,
          7.7,
          7.7,
          7.7,
          7.7,
          7.7,
          7.7,
          7.7,
          7.7,
          7.7,
          7.7,
          7.7,
          7.7,
          7.7,
          7.7,
          7.7,
          7.7,
          7.7,
          7.7,
          7.7,
          7.7,
          7.7,
          7.7,
          7.7,
          7.7,
          7.7,
          7.7,
          7.7,
          7.7,
          7.7,
          7.7,
          7.7,
          7.7,
          7.7,
          7.7,
          7.7,
          7.7,
          7.7,
          7.7,
          7.7,
          7.7,
          7.7,
          7.7,
          7.7,
          7.7,
          7.7,
          7.7,
          7.7,
          7.7,
          7.7,
          7.7,
          7.7,
          7.7,
          7.7,
          7.7,
          7.7,
          7.7,
          7.7,
          7.7,
          7.7,
          7.7,
          7.7,
          7.7,
          7.7,
          7.7,
          7.7,
          7.7,
          7.7,
          7.7,
          7.7,
          7.7,
          7.7,
          7.7,
          7.7,
          7.7,
          7.7,
          7.7,
          7.7,
          7.7,
          7.7,
          7.7,
          7.7,
          7.7,
          7.7,
          7.7,
          7.7,
          7.7,
          7.7,
          7.7,
          7.7,
          7.7,
          7.7,
          7.7,
          7.7,
          7.7,
          7.7,
          7.7,
          7.7,
          7.7,
          7.7,
          7.7,
          7.7,
          7.7,
          7.7,
          7.7,
          7.7,
          7.7,
          7.7,
          7.7,
          7.7,
          7.7,
          7.7,
          7.7,
          7.7,
          7.7,
          7.7,
          7.7,
          7.7,
          7.7,
          7.7,
          7.7,
          7.7,
          7.7,
          7.7,
          7.7,
          7.6,
          7.6,
          7.6,
          7.6,
          7.6,
          7.6,
          7.6,
          7.6,
          7.6,
          7.6,
          7.6,
          7.6,
          7.6,
          7.6,
          7.6,
          7.6,
          7.6,
          7.6,
          7.6,
          7.6,
          7.6,
          7.6,
          7.6,
          7.6,
          7.6,
          7.6,
          7.6,
          7.6,
          7.6,
          7.6,
          7.6,
          7.6,
          7.6,
          7.6,
          7.6,
          7.6,
          7.6,
          7.6,
          7.6,
          7.6,
          7.6,
          7.6,
          7.6,
          7.6,
          7.6,
          7.6,
          7.6,
          7.6,
          7.6,
          7.6,
          7.6,
          7.6,
          7.6,
          7.6,
          7.6,
          7.6,
          7.6,
          7.6,
          7.6,
          7.6,
          7.6,
          7.6,
          7.6,
          7.6,
          7.6,
          7.6,
          7.6,
          7.6,
          7.6,
          7.6,
          7.6,
          7.6,
          7.6,
          7.6,
          7.6,
          7.6,
          7.6,
          7.6,
          7.6,
          7.6,
          7.6,
          7.6,
          7.6,
          7.6,
          7.6,
          7.6,
          7.6,
          7.6,
          7.6,
          7.6
         ],
         "xaxis": "x",
         "y": [
          142,
          175,
          152,
          201,
          195,
          202,
          96,
          164,
          154,
          148,
          179,
          139,
          178,
          142,
          161,
          153,
          136,
          145,
          124,
          133,
          130,
          169,
          130,
          125,
          169,
          189,
          116,
          127,
          137,
          118,
          121,
          133,
          207,
          130,
          145,
          141,
          175,
          132,
          106,
          112,
          164,
          130,
          151,
          150,
          155,
          119,
          106,
          110,
          88,
          155,
          89,
          116,
          147,
          117,
          165,
          109,
          112,
          102,
          87,
          87,
          126,
          122,
          158,
          106,
          117,
          181,
          149,
          105,
          165,
          164,
          152,
          170,
          168,
          135,
          98,
          137,
          101,
          113,
          122,
          134,
          178,
          142,
          137,
          160,
          115,
          149,
          146,
          143,
          95,
          116,
          88,
          110,
          125,
          160,
          170,
          125,
          161,
          160,
          115,
          123,
          131,
          148,
          96,
          165,
          103,
          153,
          108,
          122,
          104,
          102,
          126,
          81,
          170,
          99,
          116,
          229,
          170,
          131,
          129,
          136,
          149,
          129,
          218,
          179,
          125,
          136,
          128,
          125,
          103,
          143,
          89,
          107,
          119,
          117,
          153,
          68,
          143,
          119,
          138,
          104,
          139,
          156,
          130,
          139,
          147,
          167,
          163,
          186,
          95,
          321,
          135,
          129,
          140,
          138,
          117,
          132,
          130,
          97,
          180,
          122,
          112,
          158,
          118,
          132,
          140,
          156,
          119,
          135,
          111,
          100,
          107,
          107,
          103,
          138,
          89,
          178,
          127,
          130,
          127,
          132,
          162,
          109,
          129,
          124,
          114,
          91,
          142,
          130,
          127,
          132,
          172,
          110,
          121,
          161,
          105,
          136,
          131,
          89,
          88,
          138,
          126,
          99,
          238,
          110,
          67,
          95,
          45,
          122,
          136,
          130,
          115,
          132,
          96,
          109,
          145,
          163,
          160,
          146,
          137,
          118,
          122,
          87,
          153,
          125,
          99,
          149,
          117,
          139,
          151,
          134,
          123,
          152,
          129,
          122,
          134,
          155,
          146,
          153,
          120,
          104,
          116,
          130,
          93,
          92,
          98,
          153,
          148,
          167,
          132,
          121,
          111,
          80,
          122,
          156,
          210,
          131,
          143,
          183,
          141,
          107,
          154,
          156,
          174,
          92,
          224,
          105,
          86,
          117,
          98,
          93,
          98,
          128,
          170,
          98,
          101,
          99,
          133,
          101,
          171,
          125,
          142,
          128,
          86,
          89,
          120,
          120,
          107,
          145,
          191,
          188,
          117,
          162,
          99,
          183,
          120,
          121,
          177,
          204,
          124,
          185,
          102,
          122,
          122,
          127,
          85,
          172,
          121,
          123,
          89,
          128,
          99,
          212,
          139,
          91,
          96,
          110,
          110,
          118,
          108,
          117,
          111,
          114,
          104,
          135,
          170,
          99,
          130,
          129,
          102,
          129,
          113,
          105,
          152,
          72,
          94,
          187,
          124,
          103,
          106,
          128,
          118,
          144,
          139,
          100,
          108,
          196,
          159,
          137,
          144,
          114,
          121,
          93,
          164,
          126,
          156,
          103,
          115,
          118,
          108,
          242,
          106,
          155,
          130,
          111,
          120,
          108,
          115,
          143,
          96,
          144,
          117,
          143,
          115,
          141,
          124,
          112,
          140,
          127,
          144,
          137,
          103,
          126,
          144,
          101,
          125,
          115,
          137,
          178,
          110,
          113,
          188,
          87,
          112,
          81,
          110,
          169,
          127,
          135,
          136,
          129,
          189,
          102,
          160,
          156,
          90,
          189,
          84,
          181,
          133,
          124,
          98,
          128,
          104,
          125,
          117,
          125,
          95,
          158,
          94,
          130,
          93,
          125,
          107,
          106,
          151,
          91,
          167,
          138,
          118,
          181,
          110,
          137,
          112,
          105,
          106,
          131,
          205,
          186,
          138,
          95,
          134,
          96,
          95,
          134,
          174,
          141,
          161,
          95,
          96,
          84,
          92,
          108,
          120,
          118,
          85,
          106,
          97,
          103,
          111,
          86,
          100,
          75,
          76,
          130,
          121,
          137,
          154,
          140,
          113,
          130,
          184,
          159,
          106,
          130,
          108,
          113,
          116,
          154,
          96,
          150,
          109,
          132,
          176,
          134,
          96,
          100,
          113,
          127,
          119,
          144,
          165,
          128,
          114,
          112,
          109,
          138,
          165,
          128,
          113,
          127,
          117,
          107,
          87,
          141,
          127,
          87,
          88,
          129,
          110,
          126,
          99,
          186,
          121,
          138,
          142,
          120,
          112,
          98,
          119,
          114,
          109,
          120,
          122,
          140,
          147,
          90,
          92,
          194,
          87,
          155,
          111,
          83,
          102,
          119,
          94,
          76,
          144,
          180,
          105,
          103,
          120,
          119,
          149,
          107,
          132,
          82,
          93,
          115,
          180,
          133,
          96,
          138,
          123,
          91,
          172,
          113,
          140,
          145,
          134,
          110,
          134,
          197,
          99,
          113,
          80,
          126,
          197,
          90,
          108,
          91,
          220,
          119,
          89,
          122,
          101,
          94,
          104,
          80,
          96,
          102,
          114,
          96,
          101,
          88,
          118,
          90,
          112,
          110,
          102,
          91,
          100,
          64,
          94,
          113,
          100,
          132,
          132,
          100,
          101,
          106,
          127,
          101,
          103,
          137,
          100,
          133,
          159,
          118,
          147,
          168,
          135,
          94,
          119,
          117,
          138,
          104,
          126,
          102,
          123,
          134,
          131,
          136,
          157,
          94,
          102,
          130,
          144,
          158,
          134,
          147,
          209,
          120,
          155,
          129,
          125,
          97,
          161,
          144,
          152,
          143,
          116,
          90,
          86,
          169,
          141,
          123,
          100,
          157,
          162,
          141,
          139,
          117,
          101,
          121,
          166,
          192,
          129,
          127,
          90,
          119,
          112,
          97,
          136,
          123,
          154,
          126,
          109,
          87,
          115,
          110,
          113,
          101,
          143,
          157,
          108,
          113,
          106,
          242,
          159,
          127,
          130,
          101,
          134,
          94,
          130,
          121,
          76,
          112,
          107,
          121,
          103,
          122,
          111,
          104,
          108,
          128,
          107,
          103,
          97,
          141,
          105,
          193,
          109,
          105,
          123,
          94,
          127,
          135,
          129,
          114,
          113,
          143,
          102,
          124,
          95,
          100,
          113,
          96,
          108,
          91,
          170,
          139,
          100,
          144,
          118,
          92,
          112,
          133,
          100,
          114,
          108,
          92,
          96,
          126,
          96,
          102,
          96,
          75,
          69,
          70,
          135,
          119,
          120,
          107,
          124,
          104,
          147,
          96,
          148,
          101,
          116,
          103,
          123,
          129,
          126,
          105,
          119,
          130,
          141,
          180,
          111,
          126,
          100,
          115,
          101,
          108,
          98,
          94,
          106,
          119,
          100,
          91,
          132,
          137,
          131,
          100,
          129,
          122,
          117,
          120,
          95,
          146,
          94,
          122,
          122,
          90,
          90,
          98,
          101,
          108,
          120,
          157,
          110,
          116,
          122,
          94,
          100,
          145,
          134,
          122,
          99,
          108,
          101,
          152,
          113,
          102,
          157,
          146,
          100,
          114,
          124,
          106,
          121,
          105,
          80,
          115,
          144,
          117,
          120,
          110,
          95,
          131,
          106,
          99,
          116,
          107,
          145,
          81,
          89,
          134,
          108,
          122,
          81,
          119,
          95,
          139,
          103,
          129,
          127,
          96,
          105,
          129,
          136,
          140,
          108,
          92,
          118,
          188,
          125,
          131,
          85,
          202,
          112,
          128,
          94,
          100,
          138,
          129,
          130,
          98,
          119,
          115,
          103,
          95,
          104,
          107,
          163,
          84,
          153,
          130,
          107,
          120,
          82,
          114,
          154,
          79,
          129,
          113,
          93,
          124,
          88,
          91,
          160,
          85,
          93,
          130,
          72,
          94,
          109,
          104,
          102,
          108,
          150,
          111,
          100,
          120,
          138,
          110,
          178,
          106,
          105,
          128,
          90,
          80,
          124,
          129,
          105,
          100,
          125,
          93,
          126,
          114,
          102,
          161,
          136,
          142,
          118,
          107,
          86,
          121,
          133,
          140,
          102,
          98,
          130,
          101,
          109,
          136,
          110,
          95,
          100,
          117,
          113,
          133,
          120,
          88,
          129,
          101,
          113,
          123,
          100,
          127,
          111,
          123,
          129,
          114,
          92,
          117,
          124,
          162,
          122,
          103,
          125,
          133,
          89,
          135,
          135,
          113,
          132,
          110,
          152,
          101,
          147,
          102,
          93,
          140,
          170,
          88,
          126,
          80,
          100,
          128,
          135,
          92,
          120,
          116,
          162,
          83,
          85,
          102,
          109,
          96,
          97,
          96,
          138,
          104,
          102,
          158,
          105,
          78,
          105,
          119,
          115,
          90,
          111,
          113,
          118,
          83,
          86,
          71
         ],
         "yaxis": "y"
        },
        {
         "mode": "markers",
         "name": "Ratings Vs Metascore",
         "type": "scatter",
         "x": [
          9.3,
          9.2,
          9,
          9,
          9,
          9,
          9,
          8.9,
          8.9,
          8.8,
          8.8,
          8.8,
          8.8,
          8.8,
          8.8,
          8.7,
          8.7,
          8.7,
          8.7,
          8.7,
          8.6,
          8.6,
          8.6,
          8.6,
          8.6,
          8.6,
          8.6,
          8.6,
          8.6,
          8.6,
          8.6,
          8.6,
          8.6,
          8.6,
          8.5,
          8.5,
          8.5,
          8.5,
          8.5,
          8.5,
          8.5,
          8.5,
          8.5,
          8.5,
          8.5,
          8.5,
          8.5,
          8.5,
          8.5,
          8.5,
          8.5,
          8.5,
          8.5,
          8.5,
          8.5,
          8.5,
          8.5,
          8.5,
          8.5,
          8.5,
          8.4,
          8.4,
          8.4,
          8.4,
          8.4,
          8.4,
          8.4,
          8.4,
          8.4,
          8.4,
          8.4,
          8.4,
          8.4,
          8.4,
          8.4,
          8.4,
          8.4,
          8.4,
          8.4,
          8.4,
          8.4,
          8.4,
          8.4,
          8.4,
          8.4,
          8.4,
          8.4,
          8.4,
          8.4,
          8.4,
          8.4,
          8.4,
          8.4,
          8.3,
          8.3,
          8.3,
          8.3,
          8.3,
          8.3,
          8.3,
          8.3,
          8.3,
          8.3,
          8.3,
          8.3,
          8.3,
          8.3,
          8.3,
          8.3,
          8.3,
          8.3,
          8.3,
          8.3,
          8.3,
          8.3,
          8.3,
          8.3,
          8.3,
          8.3,
          8.3,
          8.3,
          8.3,
          8.3,
          8.3,
          8.3,
          8.3,
          8.3,
          8.3,
          8.3,
          8.3,
          8.3,
          8.3,
          8.3,
          8.3,
          8.3,
          8.3,
          8.2,
          8.2,
          8.2,
          8.2,
          8.2,
          8.2,
          8.2,
          8.2,
          8.2,
          8.2,
          8.2,
          8.2,
          8.2,
          8.2,
          8.2,
          8.2,
          8.2,
          8.2,
          8.2,
          8.2,
          8.2,
          8.2,
          8.2,
          8.2,
          8.2,
          8.2,
          8.2,
          8.2,
          8.2,
          8.2,
          8.2,
          8.2,
          8.2,
          8.2,
          8.2,
          8.2,
          8.2,
          8.2,
          8.2,
          8.2,
          8.2,
          8.2,
          8.2,
          8.2,
          8.2,
          8.2,
          8.2,
          8.2,
          8.2,
          8.2,
          8.2,
          8.2,
          8.2,
          8.2,
          8.2,
          8.2,
          8.2,
          8.2,
          8.2,
          8.2,
          8.2,
          8.2,
          8.2,
          8.2,
          8.2,
          8.2,
          8.2,
          8.2,
          8.2,
          8.2,
          8.2,
          8.1,
          8.1,
          8.1,
          8.1,
          8.1,
          8.1,
          8.1,
          8.1,
          8.1,
          8.1,
          8.1,
          8.1,
          8.1,
          8.1,
          8.1,
          8.1,
          8.1,
          8.1,
          8.1,
          8.1,
          8.1,
          8.1,
          8.1,
          8.1,
          8.1,
          8.1,
          8.1,
          8.1,
          8.1,
          8.1,
          8.1,
          8.1,
          8.1,
          8.1,
          8.1,
          8.1,
          8.1,
          8.1,
          8.1,
          8.1,
          8.1,
          8.1,
          8.1,
          8.1,
          8.1,
          8.1,
          8.1,
          8.1,
          8.1,
          8.1,
          8.1,
          8.1,
          8.1,
          8.1,
          8.1,
          8.1,
          8.1,
          8.1,
          8.1,
          8.1,
          8.1,
          8.1,
          8.1,
          8.1,
          8.1,
          8.1,
          8.1,
          8.1,
          8.1,
          8.1,
          8.1,
          8.1,
          8.1,
          8.1,
          8.1,
          8.1,
          8.1,
          8.1,
          8.1,
          8.1,
          8.1,
          8.1,
          8.1,
          8.1,
          8.1,
          8.1,
          8.1,
          8.1,
          8.1,
          8.1,
          8.1,
          8.1,
          8.1,
          8.1,
          8.1,
          8.1,
          8.1,
          8.1,
          8.1,
          8.1,
          8.1,
          8.1,
          8.1,
          8.1,
          8.1,
          8.1,
          8.1,
          8.1,
          8.1,
          8.1,
          8.1,
          8.1,
          8.1,
          8.1,
          8.1,
          8.1,
          8.1,
          8.1,
          8.1,
          8.1,
          8.1,
          8.1,
          8.1,
          8.1,
          8.1,
          8.1,
          8.1,
          8.1,
          8,
          8,
          8,
          8,
          8,
          8,
          8,
          8,
          8,
          8,
          8,
          8,
          8,
          8,
          8,
          8,
          8,
          8,
          8,
          8,
          8,
          8,
          8,
          8,
          8,
          8,
          8,
          8,
          8,
          8,
          8,
          8,
          8,
          8,
          8,
          8,
          8,
          8,
          8,
          8,
          8,
          8,
          8,
          8,
          8,
          8,
          8,
          8,
          8,
          8,
          8,
          8,
          8,
          8,
          8,
          8,
          8,
          8,
          8,
          8,
          8,
          8,
          8,
          8,
          8,
          8,
          8,
          8,
          8,
          8,
          8,
          8,
          8,
          8,
          8,
          8,
          8,
          8,
          8,
          8,
          8,
          8,
          8,
          8,
          8,
          8,
          8,
          8,
          8,
          8,
          8,
          8,
          8,
          8,
          8,
          8,
          8,
          8,
          8,
          8,
          8,
          8,
          8,
          8,
          8,
          8,
          8,
          8,
          8,
          8,
          8,
          8,
          8,
          8,
          8,
          8,
          8,
          8,
          8,
          8,
          8,
          8,
          8,
          8,
          8,
          8,
          8,
          8,
          7.9,
          7.9,
          7.9,
          7.9,
          7.9,
          7.9,
          7.9,
          7.9,
          7.9,
          7.9,
          7.9,
          7.9,
          7.9,
          7.9,
          7.9,
          7.9,
          7.9,
          7.9,
          7.9,
          7.9,
          7.9,
          7.9,
          7.9,
          7.9,
          7.9,
          7.9,
          7.9,
          7.9,
          7.9,
          7.9,
          7.9,
          7.9,
          7.9,
          7.9,
          7.9,
          7.9,
          7.9,
          7.9,
          7.9,
          7.9,
          7.9,
          7.9,
          7.9,
          7.9,
          7.9,
          7.9,
          7.9,
          7.9,
          7.9,
          7.9,
          7.9,
          7.9,
          7.9,
          7.9,
          7.9,
          7.9,
          7.9,
          7.9,
          7.9,
          7.9,
          7.9,
          7.9,
          7.9,
          7.9,
          7.9,
          7.9,
          7.9,
          7.9,
          7.9,
          7.9,
          7.9,
          7.9,
          7.9,
          7.9,
          7.9,
          7.9,
          7.9,
          7.9,
          7.9,
          7.9,
          7.9,
          7.9,
          7.9,
          7.9,
          7.9,
          7.9,
          7.9,
          7.9,
          7.9,
          7.9,
          7.9,
          7.9,
          7.9,
          7.9,
          7.9,
          7.9,
          7.9,
          7.9,
          7.9,
          7.9,
          7.9,
          7.9,
          7.9,
          7.9,
          7.9,
          7.9,
          7.9,
          7.9,
          7.9,
          7.9,
          7.9,
          7.9,
          7.9,
          7.9,
          7.9,
          7.9,
          7.9,
          7.9,
          7.9,
          7.9,
          7.9,
          7.9,
          7.9,
          7.9,
          7.9,
          7.9,
          7.9,
          7.9,
          7.9,
          7.9,
          7.8,
          7.8,
          7.8,
          7.8,
          7.8,
          7.8,
          7.8,
          7.8,
          7.8,
          7.8,
          7.8,
          7.8,
          7.8,
          7.8,
          7.8,
          7.8,
          7.8,
          7.8,
          7.8,
          7.8,
          7.8,
          7.8,
          7.8,
          7.8,
          7.8,
          7.8,
          7.8,
          7.8,
          7.8,
          7.8,
          7.8,
          7.8,
          7.8,
          7.8,
          7.8,
          7.8,
          7.8,
          7.8,
          7.8,
          7.8,
          7.8,
          7.8,
          7.8,
          7.8,
          7.8,
          7.8,
          7.8,
          7.8,
          7.8,
          7.8,
          7.8,
          7.8,
          7.8,
          7.8,
          7.8,
          7.8,
          7.8,
          7.8,
          7.8,
          7.8,
          7.8,
          7.8,
          7.8,
          7.8,
          7.8,
          7.8,
          7.8,
          7.8,
          7.8,
          7.8,
          7.8,
          7.8,
          7.8,
          7.8,
          7.8,
          7.8,
          7.8,
          7.8,
          7.8,
          7.8,
          7.8,
          7.8,
          7.8,
          7.8,
          7.8,
          7.8,
          7.8,
          7.8,
          7.8,
          7.8,
          7.8,
          7.8,
          7.8,
          7.8,
          7.8,
          7.8,
          7.8,
          7.8,
          7.8,
          7.8,
          7.8,
          7.8,
          7.8,
          7.8,
          7.8,
          7.8,
          7.8,
          7.8,
          7.8,
          7.8,
          7.8,
          7.8,
          7.8,
          7.8,
          7.8,
          7.8,
          7.8,
          7.8,
          7.8,
          7.8,
          7.8,
          7.8,
          7.8,
          7.8,
          7.8,
          7.8,
          7.8,
          7.8,
          7.8,
          7.8,
          7.8,
          7.8,
          7.8,
          7.8,
          7.8,
          7.8,
          7.8,
          7.8,
          7.8,
          7.8,
          7.8,
          7.8,
          7.8,
          7.8,
          7.8,
          7.8,
          7.8,
          7.7,
          7.7,
          7.7,
          7.7,
          7.7,
          7.7,
          7.7,
          7.7,
          7.7,
          7.7,
          7.7,
          7.7,
          7.7,
          7.7,
          7.7,
          7.7,
          7.7,
          7.7,
          7.7,
          7.7,
          7.7,
          7.7,
          7.7,
          7.7,
          7.7,
          7.7,
          7.7,
          7.7,
          7.7,
          7.7,
          7.7,
          7.7,
          7.7,
          7.7,
          7.7,
          7.7,
          7.7,
          7.7,
          7.7,
          7.7,
          7.7,
          7.7,
          7.7,
          7.7,
          7.7,
          7.7,
          7.7,
          7.7,
          7.7,
          7.7,
          7.7,
          7.7,
          7.7,
          7.7,
          7.7,
          7.7,
          7.7,
          7.7,
          7.7,
          7.7,
          7.7,
          7.7,
          7.7,
          7.7,
          7.7,
          7.7,
          7.7,
          7.7,
          7.7,
          7.7,
          7.7,
          7.7,
          7.7,
          7.7,
          7.7,
          7.7,
          7.7,
          7.7,
          7.7,
          7.7,
          7.7,
          7.7,
          7.7,
          7.7,
          7.7,
          7.7,
          7.7,
          7.7,
          7.7,
          7.7,
          7.7,
          7.7,
          7.7,
          7.7,
          7.7,
          7.7,
          7.7,
          7.7,
          7.7,
          7.7,
          7.7,
          7.7,
          7.7,
          7.7,
          7.7,
          7.7,
          7.7,
          7.7,
          7.7,
          7.7,
          7.7,
          7.7,
          7.7,
          7.7,
          7.7,
          7.7,
          7.7,
          7.7,
          7.7,
          7.7,
          7.7,
          7.7,
          7.7,
          7.7,
          7.7,
          7.7,
          7.7,
          7.7,
          7.7,
          7.7,
          7.7,
          7.7,
          7.7,
          7.7,
          7.7,
          7.7,
          7.7,
          7.7,
          7.7,
          7.7,
          7.7,
          7.7,
          7.7,
          7.7,
          7.7,
          7.7,
          7.7,
          7.7,
          7.7,
          7.7,
          7.7,
          7.7,
          7.7,
          7.7,
          7.7,
          7.7,
          7.7,
          7.7,
          7.7,
          7.7,
          7.7,
          7.7,
          7.7,
          7.7,
          7.7,
          7.7,
          7.7,
          7.7,
          7.7,
          7.7,
          7.6,
          7.6,
          7.6,
          7.6,
          7.6,
          7.6,
          7.6,
          7.6,
          7.6,
          7.6,
          7.6,
          7.6,
          7.6,
          7.6,
          7.6,
          7.6,
          7.6,
          7.6,
          7.6,
          7.6,
          7.6,
          7.6,
          7.6,
          7.6,
          7.6,
          7.6,
          7.6,
          7.6,
          7.6,
          7.6,
          7.6,
          7.6,
          7.6,
          7.6,
          7.6,
          7.6,
          7.6,
          7.6,
          7.6,
          7.6,
          7.6,
          7.6,
          7.6,
          7.6,
          7.6,
          7.6,
          7.6,
          7.6,
          7.6,
          7.6,
          7.6,
          7.6,
          7.6,
          7.6,
          7.6,
          7.6,
          7.6,
          7.6,
          7.6,
          7.6,
          7.6,
          7.6,
          7.6,
          7.6,
          7.6,
          7.6,
          7.6,
          7.6,
          7.6,
          7.6,
          7.6,
          7.6,
          7.6,
          7.6,
          7.6,
          7.6,
          7.6,
          7.6,
          7.6,
          7.6,
          7.6,
          7.6,
          7.6,
          7.6,
          7.6,
          7.6,
          7.6,
          7.6,
          7.6,
          7.6
         ],
         "xaxis": "x2",
         "y": [
          81,
          100,
          84,
          94,
          94,
          90,
          96,
          78.6866028708134,
          94,
          74,
          87,
          66,
          92,
          82,
          90,
          78.6866028708134,
          73,
          90,
          82,
          84,
          78,
          74,
          79,
          96,
          91,
          61,
          59,
          65,
          75,
          85,
          90,
          85,
          98,
          89,
          78.6866028708134,
          78.6866028708134,
          78.6866028708134,
          96,
          88,
          57,
          78.6866028708134,
          66,
          85,
          85,
          67,
          62,
          77,
          64,
          88,
          80,
          94,
          87,
          94,
          89,
          80,
          97,
          100,
          100,
          96,
          99,
          75,
          59,
          78.6866028708134,
          79,
          87,
          78,
          68,
          81,
          81,
          78,
          78.6866028708134,
          67,
          78.6866028708134,
          78.6866028708134,
          95,
          89,
          77,
          80,
          84,
          76,
          68,
          78.6866028708134,
          84,
          88,
          85,
          86,
          66,
          90,
          97,
          78.6866028708134,
          90,
          78.6866028708134,
          78.6866028708134,
          90,
          78.6866028708134,
          78.6866028708134,
          78.6866028708134,
          78.6866028708134,
          77,
          95,
          80,
          71,
          88,
          78.6866028708134,
          92,
          69,
          89,
          69,
          55,
          68,
          70,
          95,
          76,
          79,
          76,
          75,
          65,
          58,
          83,
          77,
          84,
          88,
          100,
          60,
          94,
          98,
          100,
          78.6866028708134,
          99,
          91,
          78.6866028708134,
          95,
          100,
          78.6866028708134,
          98,
          78.6866028708134,
          78.6866028708134,
          78,
          78.6866028708134,
          78.6866028708134,
          78.6866028708134,
          78.6866028708134,
          69,
          81,
          78.6866028708134,
          78.6866028708134,
          78.6866028708134,
          78.6866028708134,
          94,
          89,
          78.6866028708134,
          80,
          71,
          63,
          72,
          78.6866028708134,
          78.6866028708134,
          88,
          75,
          92,
          78.6866028708134,
          93,
          98,
          62,
          70,
          82,
          80,
          72,
          69,
          90,
          64,
          66,
          90,
          90,
          77,
          73,
          68,
          85,
          65,
          72,
          96,
          57,
          89,
          78,
          94,
          91,
          78.6866028708134,
          92,
          86,
          74,
          86,
          93,
          98,
          87,
          75,
          78.6866028708134,
          85,
          92,
          98,
          98,
          98,
          86,
          97,
          78.6866028708134,
          78.6866028708134,
          78.6866028708134,
          78.6866028708134,
          95,
          78.6866028708134,
          78,
          88,
          78.6866028708134,
          65,
          78.6866028708134,
          84,
          78.6866028708134,
          78.6866028708134,
          78.6866028708134,
          77,
          86,
          77,
          73,
          78.6866028708134,
          78.6866028708134,
          88,
          79,
          71,
          71,
          78.6866028708134,
          96,
          74,
          81,
          93,
          78.6866028708134,
          78.6866028708134,
          78.6866028708134,
          62,
          70,
          90,
          78.6866028708134,
          72,
          85,
          78.6866028708134,
          78.6866028708134,
          75,
          68,
          73,
          78.6866028708134,
          86,
          79,
          96,
          90,
          78.6866028708134,
          78.6866028708134,
          78.6866028708134,
          82,
          63,
          78.6866028708134,
          75,
          78.6866028708134,
          83,
          78.6866028708134,
          78.6866028708134,
          79,
          84,
          82,
          85,
          71,
          85,
          83,
          85,
          78.6866028708134,
          79,
          78.6866028708134,
          77,
          100,
          84,
          72,
          83,
          78.6866028708134,
          78.6866028708134,
          79,
          86,
          75,
          92,
          78.6866028708134,
          84,
          78,
          79,
          100,
          84,
          78.6866028708134,
          78.6866028708134,
          86,
          70,
          83,
          78.6866028708134,
          78.6866028708134,
          87,
          89,
          77,
          81,
          78.6866028708134,
          92,
          86,
          63,
          96,
          94,
          78.6866028708134,
          75,
          78.6866028708134,
          90,
          89,
          88,
          88,
          78.6866028708134,
          78.6866028708134,
          97,
          91,
          78.6866028708134,
          72,
          78.6866028708134,
          97,
          78.6866028708134,
          93,
          96,
          86,
          96,
          92,
          73,
          78.6866028708134,
          87,
          91,
          90,
          78.6866028708134,
          83,
          78.6866028708134,
          87,
          78.6866028708134,
          94,
          69,
          80,
          74,
          83,
          78,
          88,
          78.6866028708134,
          89,
          78.6866028708134,
          71,
          76,
          85,
          81,
          91,
          76,
          67,
          71,
          88,
          65,
          54,
          59,
          74,
          68,
          74,
          84,
          79,
          33,
          69,
          90,
          78.6866028708134,
          64,
          64,
          85,
          88,
          74,
          92,
          64,
          78.6866028708134,
          80,
          83,
          85,
          74,
          69,
          75,
          58,
          90,
          78.6866028708134,
          60,
          78.6866028708134,
          88,
          77,
          78.6866028708134,
          86,
          78.6866028708134,
          80,
          58,
          73,
          84,
          91,
          74,
          78.6866028708134,
          78,
          78.6866028708134,
          59,
          86,
          72,
          95,
          72,
          65,
          67,
          77,
          79,
          88,
          78,
          86,
          78.6866028708134,
          47,
          78.6866028708134,
          77,
          83,
          92,
          86,
          80,
          80,
          58,
          78.6866028708134,
          90,
          78.6866028708134,
          93,
          67,
          66,
          96,
          79,
          78.6866028708134,
          83,
          75,
          78.6866028708134,
          100,
          91,
          78.6866028708134,
          75,
          78.6866028708134,
          78.6866028708134,
          90,
          95,
          93,
          95,
          99,
          100,
          91,
          99,
          78.6866028708134,
          84,
          78,
          89,
          78.6866028708134,
          78.6866028708134,
          78.6866028708134,
          88,
          92,
          97,
          97,
          78.6866028708134,
          82,
          93,
          94,
          78.6866028708134,
          78.6866028708134,
          69,
          78.6866028708134,
          78.6866028708134,
          78.6866028708134,
          79,
          74,
          58,
          66,
          81,
          65,
          82,
          71,
          94,
          75,
          72,
          49,
          71,
          89,
          71,
          94,
          87,
          78.6866028708134,
          50,
          78.6866028708134,
          82,
          81,
          80,
          78.6866028708134,
          100,
          90,
          97,
          82,
          79,
          67,
          78.6866028708134,
          89,
          79,
          83,
          72,
          81,
          82,
          79,
          76,
          54,
          78,
          84,
          82,
          85,
          86,
          84,
          68,
          80,
          84,
          94,
          90,
          61,
          85,
          84,
          88,
          75,
          78.6866028708134,
          85,
          75,
          76,
          77,
          59,
          85,
          82,
          65,
          47,
          74,
          97,
          93,
          79,
          78.6866028708134,
          90,
          84,
          92,
          77,
          91,
          84,
          60,
          83,
          84,
          78.6866028708134,
          62,
          91,
          100,
          91,
          97,
          78.6866028708134,
          75,
          89,
          69,
          65,
          83,
          78.6866028708134,
          94,
          87,
          78.6866028708134,
          84,
          94,
          78.6866028708134,
          94,
          78.6866028708134,
          97,
          88,
          78.6866028708134,
          78.6866028708134,
          73,
          88,
          100,
          86,
          92,
          78.6866028708134,
          78.6866028708134,
          78.6866028708134,
          78.6866028708134,
          96,
          78.6866028708134,
          97,
          86,
          90,
          80,
          78.6866028708134,
          51,
          59,
          78.6866028708134,
          93,
          78,
          82,
          94,
          74,
          81,
          88,
          96,
          75,
          65,
          64,
          72,
          75,
          68,
          91,
          62,
          79,
          76,
          80,
          76,
          78.6866028708134,
          74,
          55,
          78.6866028708134,
          49,
          70,
          82,
          84,
          77,
          81,
          67,
          71,
          82,
          72,
          94,
          95,
          90,
          79,
          64,
          67,
          66,
          82,
          76,
          81,
          79,
          51,
          88,
          58,
          63,
          85,
          78,
          76,
          83,
          63,
          68,
          64,
          80,
          81,
          70,
          67,
          82,
          68,
          73,
          74,
          66,
          56,
          72,
          53,
          55,
          75,
          82,
          70,
          61,
          58,
          48,
          87,
          73,
          84,
          71,
          90,
          64,
          78.6866028708134,
          76,
          70,
          50,
          55,
          86,
          78.6866028708134,
          87,
          80,
          78.6866028708134,
          76,
          75,
          74,
          83,
          78,
          82,
          77,
          57,
          65,
          45,
          61,
          66,
          76,
          71,
          91,
          73,
          77,
          72,
          93,
          71,
          69,
          91,
          76,
          87,
          80,
          93,
          80,
          78.6866028708134,
          67,
          79,
          89,
          63,
          86,
          95,
          88,
          88,
          78.6866028708134,
          72,
          78.6866028708134,
          85,
          78.6866028708134,
          90,
          78.6866028708134,
          94,
          78.6866028708134,
          93,
          78.6866028708134,
          98,
          91,
          78.6866028708134,
          95,
          93,
          91,
          96,
          66,
          82,
          73,
          85,
          85,
          86,
          78.6866028708134,
          78.6866028708134,
          84,
          70,
          72,
          71,
          60,
          69,
          74,
          87,
          85,
          86,
          89,
          70,
          83,
          84,
          87,
          72,
          70,
          52,
          81,
          78.6866028708134,
          78.6866028708134,
          83,
          96,
          72,
          79,
          65,
          73,
          76,
          81,
          79,
          86,
          76,
          65,
          55,
          85,
          80,
          81,
          45,
          78.6866028708134,
          86,
          78,
          78,
          78,
          53,
          70,
          78,
          51,
          71,
          71,
          87,
          76,
          78,
          73,
          61,
          73,
          61,
          89,
          81,
          47,
          80,
          83,
          70,
          67,
          68,
          76,
          91,
          83,
          74,
          72,
          60,
          74,
          85,
          61,
          88,
          83,
          74,
          69,
          80,
          73,
          68,
          81,
          44,
          69,
          77,
          78.6866028708134,
          80,
          67,
          78.6866028708134,
          61,
          76,
          70,
          87,
          47,
          84,
          77,
          81,
          70,
          73,
          79,
          66,
          85,
          64,
          73,
          76,
          78.6866028708134,
          83,
          82,
          62,
          68,
          64,
          86,
          78.6866028708134,
          66,
          63,
          76,
          83,
          78.6866028708134,
          76,
          72,
          62,
          54,
          75,
          76,
          75,
          62,
          78,
          78.6866028708134,
          77,
          67,
          61,
          86,
          78,
          87,
          96,
          89,
          73,
          81,
          73,
          93,
          80,
          94,
          87,
          81,
          73,
          86,
          78.6866028708134,
          72,
          77,
          87,
          75,
          76,
          97,
          74,
          78.6866028708134,
          92,
          63,
          85,
          91,
          78.6866028708134,
          96,
          87,
          73,
          81,
          71,
          83,
          67,
          81,
          80,
          81,
          76,
          82,
          82,
          92,
          88,
          77,
          79,
          73,
          68,
          88,
          80,
          72,
          72,
          66,
          78.6866028708134,
          87,
          70,
          73,
          53,
          86,
          76,
          36,
          82,
          66,
          90,
          74,
          76,
          72,
          74,
          52,
          72,
          56,
          62,
          46,
          83,
          76,
          81,
          55,
          68,
          30,
          28,
          76,
          65,
          74,
          86,
          64,
          86,
          68,
          78,
          71,
          52,
          73,
          66,
          58,
          69,
          88,
          68,
          69,
          60,
          88,
          76,
          70,
          68,
          79,
          90,
          77,
          90,
          68,
          83,
          63,
          86,
          65,
          91,
          90,
          76,
          90,
          89,
          72,
          85,
          95,
          93,
          87
         ],
         "yaxis": "y2"
        },
        {
         "mode": "markers",
         "name": "Ratings Vs Votes",
         "type": "scatter",
         "x": [
          9.3,
          9.2,
          9,
          9,
          9,
          9,
          9,
          8.9,
          8.9,
          8.8,
          8.8,
          8.8,
          8.8,
          8.8,
          8.8,
          8.7,
          8.7,
          8.7,
          8.7,
          8.7,
          8.6,
          8.6,
          8.6,
          8.6,
          8.6,
          8.6,
          8.6,
          8.6,
          8.6,
          8.6,
          8.6,
          8.6,
          8.6,
          8.6,
          8.5,
          8.5,
          8.5,
          8.5,
          8.5,
          8.5,
          8.5,
          8.5,
          8.5,
          8.5,
          8.5,
          8.5,
          8.5,
          8.5,
          8.5,
          8.5,
          8.5,
          8.5,
          8.5,
          8.5,
          8.5,
          8.5,
          8.5,
          8.5,
          8.5,
          8.5,
          8.4,
          8.4,
          8.4,
          8.4,
          8.4,
          8.4,
          8.4,
          8.4,
          8.4,
          8.4,
          8.4,
          8.4,
          8.4,
          8.4,
          8.4,
          8.4,
          8.4,
          8.4,
          8.4,
          8.4,
          8.4,
          8.4,
          8.4,
          8.4,
          8.4,
          8.4,
          8.4,
          8.4,
          8.4,
          8.4,
          8.4,
          8.4,
          8.4,
          8.3,
          8.3,
          8.3,
          8.3,
          8.3,
          8.3,
          8.3,
          8.3,
          8.3,
          8.3,
          8.3,
          8.3,
          8.3,
          8.3,
          8.3,
          8.3,
          8.3,
          8.3,
          8.3,
          8.3,
          8.3,
          8.3,
          8.3,
          8.3,
          8.3,
          8.3,
          8.3,
          8.3,
          8.3,
          8.3,
          8.3,
          8.3,
          8.3,
          8.3,
          8.3,
          8.3,
          8.3,
          8.3,
          8.3,
          8.3,
          8.3,
          8.3,
          8.3,
          8.2,
          8.2,
          8.2,
          8.2,
          8.2,
          8.2,
          8.2,
          8.2,
          8.2,
          8.2,
          8.2,
          8.2,
          8.2,
          8.2,
          8.2,
          8.2,
          8.2,
          8.2,
          8.2,
          8.2,
          8.2,
          8.2,
          8.2,
          8.2,
          8.2,
          8.2,
          8.2,
          8.2,
          8.2,
          8.2,
          8.2,
          8.2,
          8.2,
          8.2,
          8.2,
          8.2,
          8.2,
          8.2,
          8.2,
          8.2,
          8.2,
          8.2,
          8.2,
          8.2,
          8.2,
          8.2,
          8.2,
          8.2,
          8.2,
          8.2,
          8.2,
          8.2,
          8.2,
          8.2,
          8.2,
          8.2,
          8.2,
          8.2,
          8.2,
          8.2,
          8.2,
          8.2,
          8.2,
          8.2,
          8.2,
          8.2,
          8.2,
          8.2,
          8.2,
          8.2,
          8.2,
          8.1,
          8.1,
          8.1,
          8.1,
          8.1,
          8.1,
          8.1,
          8.1,
          8.1,
          8.1,
          8.1,
          8.1,
          8.1,
          8.1,
          8.1,
          8.1,
          8.1,
          8.1,
          8.1,
          8.1,
          8.1,
          8.1,
          8.1,
          8.1,
          8.1,
          8.1,
          8.1,
          8.1,
          8.1,
          8.1,
          8.1,
          8.1,
          8.1,
          8.1,
          8.1,
          8.1,
          8.1,
          8.1,
          8.1,
          8.1,
          8.1,
          8.1,
          8.1,
          8.1,
          8.1,
          8.1,
          8.1,
          8.1,
          8.1,
          8.1,
          8.1,
          8.1,
          8.1,
          8.1,
          8.1,
          8.1,
          8.1,
          8.1,
          8.1,
          8.1,
          8.1,
          8.1,
          8.1,
          8.1,
          8.1,
          8.1,
          8.1,
          8.1,
          8.1,
          8.1,
          8.1,
          8.1,
          8.1,
          8.1,
          8.1,
          8.1,
          8.1,
          8.1,
          8.1,
          8.1,
          8.1,
          8.1,
          8.1,
          8.1,
          8.1,
          8.1,
          8.1,
          8.1,
          8.1,
          8.1,
          8.1,
          8.1,
          8.1,
          8.1,
          8.1,
          8.1,
          8.1,
          8.1,
          8.1,
          8.1,
          8.1,
          8.1,
          8.1,
          8.1,
          8.1,
          8.1,
          8.1,
          8.1,
          8.1,
          8.1,
          8.1,
          8.1,
          8.1,
          8.1,
          8.1,
          8.1,
          8.1,
          8.1,
          8.1,
          8.1,
          8.1,
          8.1,
          8.1,
          8.1,
          8.1,
          8.1,
          8.1,
          8.1,
          8,
          8,
          8,
          8,
          8,
          8,
          8,
          8,
          8,
          8,
          8,
          8,
          8,
          8,
          8,
          8,
          8,
          8,
          8,
          8,
          8,
          8,
          8,
          8,
          8,
          8,
          8,
          8,
          8,
          8,
          8,
          8,
          8,
          8,
          8,
          8,
          8,
          8,
          8,
          8,
          8,
          8,
          8,
          8,
          8,
          8,
          8,
          8,
          8,
          8,
          8,
          8,
          8,
          8,
          8,
          8,
          8,
          8,
          8,
          8,
          8,
          8,
          8,
          8,
          8,
          8,
          8,
          8,
          8,
          8,
          8,
          8,
          8,
          8,
          8,
          8,
          8,
          8,
          8,
          8,
          8,
          8,
          8,
          8,
          8,
          8,
          8,
          8,
          8,
          8,
          8,
          8,
          8,
          8,
          8,
          8,
          8,
          8,
          8,
          8,
          8,
          8,
          8,
          8,
          8,
          8,
          8,
          8,
          8,
          8,
          8,
          8,
          8,
          8,
          8,
          8,
          8,
          8,
          8,
          8,
          8,
          8,
          8,
          8,
          8,
          8,
          8,
          8,
          7.9,
          7.9,
          7.9,
          7.9,
          7.9,
          7.9,
          7.9,
          7.9,
          7.9,
          7.9,
          7.9,
          7.9,
          7.9,
          7.9,
          7.9,
          7.9,
          7.9,
          7.9,
          7.9,
          7.9,
          7.9,
          7.9,
          7.9,
          7.9,
          7.9,
          7.9,
          7.9,
          7.9,
          7.9,
          7.9,
          7.9,
          7.9,
          7.9,
          7.9,
          7.9,
          7.9,
          7.9,
          7.9,
          7.9,
          7.9,
          7.9,
          7.9,
          7.9,
          7.9,
          7.9,
          7.9,
          7.9,
          7.9,
          7.9,
          7.9,
          7.9,
          7.9,
          7.9,
          7.9,
          7.9,
          7.9,
          7.9,
          7.9,
          7.9,
          7.9,
          7.9,
          7.9,
          7.9,
          7.9,
          7.9,
          7.9,
          7.9,
          7.9,
          7.9,
          7.9,
          7.9,
          7.9,
          7.9,
          7.9,
          7.9,
          7.9,
          7.9,
          7.9,
          7.9,
          7.9,
          7.9,
          7.9,
          7.9,
          7.9,
          7.9,
          7.9,
          7.9,
          7.9,
          7.9,
          7.9,
          7.9,
          7.9,
          7.9,
          7.9,
          7.9,
          7.9,
          7.9,
          7.9,
          7.9,
          7.9,
          7.9,
          7.9,
          7.9,
          7.9,
          7.9,
          7.9,
          7.9,
          7.9,
          7.9,
          7.9,
          7.9,
          7.9,
          7.9,
          7.9,
          7.9,
          7.9,
          7.9,
          7.9,
          7.9,
          7.9,
          7.9,
          7.9,
          7.9,
          7.9,
          7.9,
          7.9,
          7.9,
          7.9,
          7.9,
          7.9,
          7.8,
          7.8,
          7.8,
          7.8,
          7.8,
          7.8,
          7.8,
          7.8,
          7.8,
          7.8,
          7.8,
          7.8,
          7.8,
          7.8,
          7.8,
          7.8,
          7.8,
          7.8,
          7.8,
          7.8,
          7.8,
          7.8,
          7.8,
          7.8,
          7.8,
          7.8,
          7.8,
          7.8,
          7.8,
          7.8,
          7.8,
          7.8,
          7.8,
          7.8,
          7.8,
          7.8,
          7.8,
          7.8,
          7.8,
          7.8,
          7.8,
          7.8,
          7.8,
          7.8,
          7.8,
          7.8,
          7.8,
          7.8,
          7.8,
          7.8,
          7.8,
          7.8,
          7.8,
          7.8,
          7.8,
          7.8,
          7.8,
          7.8,
          7.8,
          7.8,
          7.8,
          7.8,
          7.8,
          7.8,
          7.8,
          7.8,
          7.8,
          7.8,
          7.8,
          7.8,
          7.8,
          7.8,
          7.8,
          7.8,
          7.8,
          7.8,
          7.8,
          7.8,
          7.8,
          7.8,
          7.8,
          7.8,
          7.8,
          7.8,
          7.8,
          7.8,
          7.8,
          7.8,
          7.8,
          7.8,
          7.8,
          7.8,
          7.8,
          7.8,
          7.8,
          7.8,
          7.8,
          7.8,
          7.8,
          7.8,
          7.8,
          7.8,
          7.8,
          7.8,
          7.8,
          7.8,
          7.8,
          7.8,
          7.8,
          7.8,
          7.8,
          7.8,
          7.8,
          7.8,
          7.8,
          7.8,
          7.8,
          7.8,
          7.8,
          7.8,
          7.8,
          7.8,
          7.8,
          7.8,
          7.8,
          7.8,
          7.8,
          7.8,
          7.8,
          7.8,
          7.8,
          7.8,
          7.8,
          7.8,
          7.8,
          7.8,
          7.8,
          7.8,
          7.8,
          7.8,
          7.8,
          7.8,
          7.8,
          7.8,
          7.8,
          7.8,
          7.8,
          7.7,
          7.7,
          7.7,
          7.7,
          7.7,
          7.7,
          7.7,
          7.7,
          7.7,
          7.7,
          7.7,
          7.7,
          7.7,
          7.7,
          7.7,
          7.7,
          7.7,
          7.7,
          7.7,
          7.7,
          7.7,
          7.7,
          7.7,
          7.7,
          7.7,
          7.7,
          7.7,
          7.7,
          7.7,
          7.7,
          7.7,
          7.7,
          7.7,
          7.7,
          7.7,
          7.7,
          7.7,
          7.7,
          7.7,
          7.7,
          7.7,
          7.7,
          7.7,
          7.7,
          7.7,
          7.7,
          7.7,
          7.7,
          7.7,
          7.7,
          7.7,
          7.7,
          7.7,
          7.7,
          7.7,
          7.7,
          7.7,
          7.7,
          7.7,
          7.7,
          7.7,
          7.7,
          7.7,
          7.7,
          7.7,
          7.7,
          7.7,
          7.7,
          7.7,
          7.7,
          7.7,
          7.7,
          7.7,
          7.7,
          7.7,
          7.7,
          7.7,
          7.7,
          7.7,
          7.7,
          7.7,
          7.7,
          7.7,
          7.7,
          7.7,
          7.7,
          7.7,
          7.7,
          7.7,
          7.7,
          7.7,
          7.7,
          7.7,
          7.7,
          7.7,
          7.7,
          7.7,
          7.7,
          7.7,
          7.7,
          7.7,
          7.7,
          7.7,
          7.7,
          7.7,
          7.7,
          7.7,
          7.7,
          7.7,
          7.7,
          7.7,
          7.7,
          7.7,
          7.7,
          7.7,
          7.7,
          7.7,
          7.7,
          7.7,
          7.7,
          7.7,
          7.7,
          7.7,
          7.7,
          7.7,
          7.7,
          7.7,
          7.7,
          7.7,
          7.7,
          7.7,
          7.7,
          7.7,
          7.7,
          7.7,
          7.7,
          7.7,
          7.7,
          7.7,
          7.7,
          7.7,
          7.7,
          7.7,
          7.7,
          7.7,
          7.7,
          7.7,
          7.7,
          7.7,
          7.7,
          7.7,
          7.7,
          7.7,
          7.7,
          7.7,
          7.7,
          7.7,
          7.7,
          7.7,
          7.7,
          7.7,
          7.7,
          7.7,
          7.7,
          7.7,
          7.7,
          7.7,
          7.7,
          7.7,
          7.7,
          7.6,
          7.6,
          7.6,
          7.6,
          7.6,
          7.6,
          7.6,
          7.6,
          7.6,
          7.6,
          7.6,
          7.6,
          7.6,
          7.6,
          7.6,
          7.6,
          7.6,
          7.6,
          7.6,
          7.6,
          7.6,
          7.6,
          7.6,
          7.6,
          7.6,
          7.6,
          7.6,
          7.6,
          7.6,
          7.6,
          7.6,
          7.6,
          7.6,
          7.6,
          7.6,
          7.6,
          7.6,
          7.6,
          7.6,
          7.6,
          7.6,
          7.6,
          7.6,
          7.6,
          7.6,
          7.6,
          7.6,
          7.6,
          7.6,
          7.6,
          7.6,
          7.6,
          7.6,
          7.6,
          7.6,
          7.6,
          7.6,
          7.6,
          7.6,
          7.6,
          7.6,
          7.6,
          7.6,
          7.6,
          7.6,
          7.6,
          7.6,
          7.6,
          7.6,
          7.6,
          7.6,
          7.6,
          7.6,
          7.6,
          7.6,
          7.6,
          7.6,
          7.6,
          7.6,
          7.6,
          7.6,
          7.6,
          7.6,
          7.6,
          7.6,
          7.6,
          7.6,
          7.6,
          7.6,
          7.6
         ],
         "xaxis": "x3",
         "y": [
          "2,612,987",
          "1,808,435",
          "2,585,038",
          "1,793,421",
          "1,327,956",
          "1,243,596",
          "772,107",
          "192,817",
          "2,001,896",
          "2,292,848",
          "1,619,563",
          "2,059,166",
          "1,814,522",
          "2,020,036",
          "748,464",
          "111,643",
          "1,874,101",
          "1,130,814",
          "1,264,936",
          "990,539",
          "239,888",
          "1,755,578",
          "745,919",
          "741,507",
          "1,360,278",
          "1,270,268",
          "681,930",
          "1,605,135",
          "1,077,168",
          "1,398,214",
          "1,337,692",
          "55,085",
          "341,441",
          "448,414",
          "26,887",
          "27,285",
          "36,131",
          "759,873",
          "823,707",
          "839,286",
          "40,300",
          "1,305,041",
          "1,298,109",
          "812,938",
          "1,467,223",
          "1,104,099",
          "1,067,967",
          "1,136,803",
          "1,035,018",
          "256,801",
          "270,338",
          "1,173,553",
          "656,344",
          "861,918",
          "325,380",
          "658,807",
          "484,088",
          "563,530",
          "239,118",
          "182,742",
          "86,496",
          "1,216,743",
          "29,361",
          "256,482",
          "502,949",
          "1,077,569",
          "1,035,933",
          "486,564",
          "1,511,767",
          "1,668,144",
          "35,429",
          "390,497",
          "112,979",
          "118,188",
          "1,094,102",
          "385,432",
          "567,153",
          "1,215,988",
          "1,138,208",
          "386,258",
          "1,023,417",
          "76,616",
          "704,900",
          "396,109",
          "950,315",
          "248,468",
          "995,307",
          "43,723",
          "483,987",
          "123,319",
          "194,830",
          "219,188",
          "221,557",
          "89,972",
          "40,465",
          "39,314",
          "185,509",
          "40,769",
          "322,938",
          "242,813",
          "174,184",
          "683,469",
          "1,023,641",
          "190,249",
          "821,794",
          "1,409,577",
          "988,931",
          "747,618",
          "842,371",
          "827,608",
          "946,455",
          "974,195",
          "640,559",
          "998,507",
          "730,168",
          "346,188",
          "819,628",
          "1,033,306",
          "259,098",
          "815,907",
          "656,955",
          "313,560",
          "290,124",
          "76,907",
          "179,545",
          "323,789",
          "397,051",
          "32,215",
          "239,187",
          "77,404",
          "161,793",
          "155,525",
          "437,039",
          "156,292",
          "172,530",
          "125,268",
          "51,228",
          "561,749",
          "59,971",
          "42,974",
          "90,446",
          "78,845",
          "471,903",
          "153,616",
          "38,464",
          "95,115",
          "80,425",
          "67,266",
          "696,225",
          "94,467",
          "36,134",
          "207,709",
          "466,725",
          "1,273,013",
          "54,276",
          "47,723",
          "33,112",
          "141,013",
          "1,359,973",
          "950,683",
          "86,075",
          "575,565",
          "660,336",
          "1,105,768",
          "1,439,945",
          "352,238",
          "384,643",
          "917,853",
          "1,093,419",
          "1,025,974",
          "976,175",
          "574,747",
          "1,050,073",
          "575,712",
          "74,079",
          "510,642",
          "967,037",
          "406,799",
          "743,427",
          "863,010",
          "124,226",
          "414,385",
          "348,908",
          "238,436",
          "808,195",
          "535,032",
          "28,988",
          "322,345",
          "28,556",
          "253,394",
          "242,227",
          "121,733",
          "263,972",
          "218,664",
          "173,788",
          "60,991",
          "60,639",
          "25,727",
          "166,628",
          "130,335",
          "123,934",
          "36,634",
          "312,204",
          "54,153",
          "90,610",
          "110,380",
          "49,204",
          "87,820",
          "44,605",
          "77,543",
          "495,075",
          "35,029",
          "144,574",
          "27,764",
          "141,582",
          "85,981",
          "54,788",
          "65,464",
          "740,050",
          "413,505",
          "195,536",
          "46,041",
          "181,731",
          "58,095",
          "790,239",
          "961,209",
          "44,397",
          "509,631",
          "81,268",
          "690,928",
          "472,845",
          "375,324",
          "462,959",
          "62,563",
          "44,917",
          "76,830",
          "453,337",
          "689,538",
          "979,198",
          "78,225",
          "766,509",
          "855,553",
          "280,510",
          "175,977",
          "726,952",
          "79,573",
          "616,166",
          "118,531",
          "679,644",
          "353,014",
          "715,099",
          "259,916",
          "34,883",
          "80,983",
          "89,633",
          "176,971",
          "1,105,884",
          "71,638",
          "951,801",
          "25,425",
          "238,544",
          "65,825",
          "25,598",
          "892,038",
          "112,877",
          "86,494",
          "189,501",
          "796,445",
          "146,698",
          "678,360",
          "668,726",
          "69,773",
          "58,238",
          "170,280",
          "302,177",
          "102,201",
          "173,196",
          "620,468",
          "28,652",
          "32,498",
          "30,625",
          "478,388",
          "331,430",
          "397,033",
          "409,616",
          "25,802",
          "849,520",
          "104,708",
          "229,609",
          "63,499",
          "755,675",
          "132,507",
          "34,062",
          "335,836",
          "565,268",
          "158,170",
          "47,364",
          "55,364",
          "590,922",
          "165,439",
          "47,362",
          "397,064",
          "33,672",
          "175,601",
          "116,921",
          "229,890",
          "59,639",
          "75,604",
          "29,206",
          "30,080",
          "116,544",
          "237,252",
          "38,867",
          "106,413",
          "183,140",
          "48,685",
          "51,901",
          "34,215",
          "153,790",
          "65,619",
          "35,705",
          "32,771",
          "170,347",
          "34,800",
          "63,905",
          "32,840",
          "135,992",
          "92,488",
          "393,792",
          "114,944",
          "36,517",
          "103,057",
          "61,172",
          "33,568",
          "50,825",
          "86,546",
          "33,997",
          "31,186",
          "172,827",
          "571,791",
          "234,006",
          "836,050",
          "56,510",
          "315,618",
          "487,646",
          "51,415",
          "119,977",
          "45,920",
          "55,933",
          "755,911",
          "1,152,433",
          "57,862",
          "549,140",
          "599,684",
          "786,036",
          "502,814",
          "82,834",
          "674,271",
          "1,008,859",
          "383,813",
          "222,527",
          "591,640",
          "51,946",
          "117,727",
          "837,446",
          "752,781",
          "103,491",
          "1,366,502",
          "94,226",
          "46,772",
          "501,120",
          "541,367",
          "630,154",
          "27,823",
          "763,246",
          "107,438",
          "39,654",
          "62,441",
          "649,493",
          "743,076",
          "82,547",
          "81,535",
          "186,641",
          "124,128",
          "437,942",
          "720,013",
          "48,021",
          "147,924",
          "36,569",
          "789,296",
          "309,996",
          "53,195",
          "89,972",
          "73,785",
          "39,507",
          "63,932",
          "53,577",
          "93,599",
          "43,143",
          "611,940",
          "68,792",
          "79,504",
          "53,071",
          "291,598",
          "409,492",
          "154,636",
          "448,221",
          "262,677",
          "507,928",
          "183,182",
          "423,241",
          "70,586",
          "33,738",
          "164,454",
          "167,454",
          "26,879",
          "80,665",
          "34,766",
          "395,394",
          "72,109",
          "263,948",
          "254,339",
          "46,195",
          "156,726",
          "129,894",
          "34,028",
          "90,445",
          "47,613",
          "48,084",
          "43,388",
          "214,329",
          "212,911",
          "178,779",
          "51,077",
          "271,085",
          "74,891",
          "53,288",
          "25,819",
          "117,130",
          "32,980",
          "55,666",
          "38,038",
          "36,323",
          "81,576",
          "72,660",
          "62,149",
          "66,048",
          "103,978",
          "31,853",
          "89,125",
          "88,852",
          "62,898",
          "55,678",
          "137,518",
          "103,707",
          "37,241",
          "37,023",
          "26,455",
          "25,818",
          "39,974",
          "157,573",
          "57,392",
          "63,150",
          "600,218",
          "74,950",
          "299,058",
          "30,540",
          "25,770",
          "47,872",
          "56,722",
          "55,037",
          "57,358",
          "92,987",
          "719,662",
          "375,276",
          "161,513",
          "677,067",
          "38,768",
          "87,418",
          "122,533",
          "155,904",
          "703,442",
          "547,464",
          "525,332",
          "25,339",
          "240,502",
          "663,904",
          "99,880",
          "53,236",
          "30,584",
          "106,013",
          "33,651",
          "215,559",
          "674,362",
          "303,816",
          "52,595",
          "352,294",
          "52,367",
          "60,118",
          "600,305",
          "481,659",
          "417,642",
          "186,140",
          "162,112",
          "621,332",
          "227,529",
          "54,940",
          "32,841",
          "45,403",
          "1,037,538",
          "550,525",
          "68,642",
          "54,163",
          "451,837",
          "620,390",
          "180,751",
          "111,950",
          "47,074",
          "541,491",
          "52,786",
          "495,097",
          "267,373",
          "273,861",
          "109,314",
          "350,600",
          "665,013",
          "571,889",
          "1,146,055",
          "30,375",
          "261,999",
          "61,600",
          "141,384",
          "34,205",
          "224,815",
          "100,932",
          "329,081",
          "215,947",
          "31,276",
          "482,528",
          "73,962",
          "101,168",
          "306,017",
          "28,092",
          "71,315",
          "199,543",
          "139,022",
          "146,832",
          "402,264",
          "35,524",
          "197,450",
          "139,581",
          "114,436",
          "43,425",
          "77,145",
          "101,631",
          "30,311",
          "25,334",
          "84,281",
          "31,425",
          "75,922",
          "26,552",
          "76,215",
          "214,963",
          "76,771",
          "31,499",
          "75,267",
          "134,036",
          "31,903",
          "49,288",
          "25,423",
          "70,731",
          "88,737",
          "26,687",
          "107,503",
          "133,047",
          "31,398",
          "55,551",
          "141,890",
          "47,549",
          "100,570",
          "85,257",
          "26,398",
          "36,930",
          "47,235",
          "70,420",
          "26,261",
          "68,924",
          "28,941",
          "50,872",
          "29,503",
          "85,058",
          "46,195",
          "96,183",
          "325,018",
          "26,783",
          "28,506",
          "262,846",
          "59,700",
          "165,416",
          "639,902",
          "225,275",
          "128,984",
          "75,957",
          "276,716",
          "40,879",
          "615,716",
          "45,391",
          "216,032",
          "765,572",
          "584,962",
          "195,474",
          "57,406",
          "56,625",
          "531,346",
          "917,086",
          "55,804",
          "43,099",
          "453,340",
          "341,823",
          "36,250",
          "118,078",
          "826,575",
          "46,200",
          "346,349",
          "330,809",
          "421,161",
          "127,838",
          "458,459",
          "454,394",
          "199,384",
          "377,178",
          "689,732",
          "98,266",
          "63,100",
          "65,635",
          "356,146",
          "647,770",
          "73,327",
          "216,234",
          "689,433",
          "363,351",
          "597,281",
          "116,200",
          "808,772",
          "254,080",
          "274,666",
          "625,069",
          "422,139",
          "1,212,211",
          "231,471",
          "310,026",
          "111,915",
          "474,286",
          "499,546",
          "640,561",
          "52,593",
          "290,772",
          "54,871",
          "39,570",
          "294,839",
          "434,782",
          "61,853",
          "249,131",
          "562,826",
          "434,729",
          "101,007",
          "45,560",
          "27,729",
          "48,420",
          "30,001",
          "213,312",
          "96,224",
          "581,588",
          "170,352",
          "90,167",
          "332,455",
          "301,042",
          "38,120",
          "66,646",
          "175,358",
          "146,589",
          "90,832",
          "73,806",
          "37,369",
          "291,405",
          "140,231",
          "50,478",
          "139,144",
          "206,751",
          "139,450",
          "141,864",
          "134,060",
          "48,317",
          "57,885",
          "522,952",
          "99,824",
          "404,277",
          "351,758",
          "390,876",
          "55,380",
          "407,912",
          "61,287",
          "101,977",
          "144,267",
          "31,699",
          "57,839",
          "119,629",
          "73,109",
          "48,795",
          "42,558",
          "110,829",
          "40,848",
          "42,803",
          "54,782",
          "56,885",
          "198,756",
          "110,344",
          "126,941",
          "45,111",
          "27,457",
          "95,038",
          "170,697",
          "30,183",
          "29,644",
          "45,325",
          "81,515",
          "27,013",
          "31,144",
          "34,533",
          "28,640",
          "65,096",
          "58,381",
          "48,704",
          "25,762",
          "52,336",
          "61,240",
          "32,833",
          "47,799",
          "59,952",
          "71,601",
          "155,960",
          "562,563",
          "121,525",
          "246,539",
          "60,179",
          "570,579",
          "326,060",
          "64,666",
          "30,320",
          "128,016",
          "54,395",
          "39,927",
          "444,008",
          "657,321",
          "371,861",
          "130,957",
          "621,847",
          "48,841",
          "90,044",
          "150,855",
          "41,120",
          "84,447",
          "243,338",
          "117,876",
          "415,997",
          "61,735",
          "84,928",
          "419,587",
          "38,997",
          "69,107",
          "350,180",
          "816,149",
          "481,186",
          "80,848",
          "684,917",
          "773,255",
          "173,456",
          "702,312",
          "148,315",
          "609,047",
          "507,432",
          "536,991",
          "215,369",
          "32,077",
          "107,869",
          "82,000",
          "89,424",
          "65,793",
          "121,859",
          "533,596",
          "34,639",
          "529,849",
          "311,757",
          "29,776",
          "65,103",
          "50,557",
          "444,795",
          "76,712",
          "353,049",
          "308,575",
          "138,242",
          "459,729",
          "384,982",
          "146,995",
          "38,498",
          "448,085",
          "613,368",
          "359,160",
          "222,400",
          "27,234",
          "235,512",
          "205,964",
          "145,516",
          "43,058",
          "54,352",
          "191,489",
          "391,964",
          "265,549",
          "93,688",
          "134,354",
          "35,564",
          "137,406",
          "122,338",
          "63,963",
          "563,608",
          "308,953",
          "544,572",
          "203,484",
          "263,777",
          "70,109",
          "238,334",
          "428,977",
          "198,122",
          "69,073",
          "30,621",
          "296,474",
          "30,570",
          "388,352",
          "304,361",
          "28,932",
          "54,182",
          "211,199",
          "114,900",
          "291,879",
          "36,409",
          "220,971",
          "235,058",
          "44,830",
          "239,720",
          "39,172",
          "57,901",
          "93,981",
          "167,620",
          "50,351",
          "88,304",
          "104,570",
          "260,902",
          "60,319",
          "74,309",
          "48,293",
          "26,367",
          "134,683",
          "556,722",
          "216,587",
          "199,102",
          "38,728",
          "102,521",
          "162,468",
          "124,733",
          "108,184",
          "51,472",
          "196,845",
          "51,506",
          "268,721",
          "86,131",
          "42,031",
          "40,181",
          "120,598",
          "248,676",
          "51,971",
          "235,888",
          "268,414",
          "26,280",
          "38,465",
          "137,820",
          "121,807",
          "30,937",
          "72,572",
          "107,953",
          "121,787",
          "155,223",
          "30,566",
          "72,807",
          "112,180",
          "44,309",
          "34,489",
          "39,147",
          "188,854",
          "55,755",
          "29,140",
          "41,277",
          "94,441",
          "80,481",
          "49,523",
          "27,635",
          "38,614",
          "78,372",
          "40,717",
          "95,588",
          "27,874",
          "86,154",
          "104,259",
          "160,355",
          "702,944",
          "661,079",
          "308,230",
          "289,835",
          "326,120",
          "180,739",
          "421,347",
          "269,711",
          "53,313",
          "227,707",
          "99,796",
          "437,036",
          "203,256",
          "245,806",
          "376,503",
          "335,880",
          "538,995",
          "328,688",
          "556,672",
          "67,460",
          "415,951",
          "151,276",
          "567,237",
          "327,475",
          "141,485",
          "569,144",
          "300,974",
          "241,322",
          "270,592",
          "106,099",
          "185,399",
          "369,089",
          "270,551",
          "460,927",
          "809,116",
          "217,022",
          "545,256",
          "314,410",
          "414,037",
          "25,520",
          "73,764",
          "70,387",
          "476,405",
          "178,046",
          "483,837",
          "149,718",
          "289,531",
          "759,796",
          "361,997",
          "206,582",
          "583,576",
          "184,350",
          "776,642",
          "186,482",
          "282,669",
          "468,089",
          "41,435",
          "199,022",
          "384,313",
          "80,745",
          "72,856",
          "123,050",
          "120,726",
          "391,177",
          "258,374",
          "167,486",
          "254,977",
          "256,089",
          "178,810",
          "68,648",
          "179,063",
          "199,695",
          "30,589",
          "103,971",
          "57,880",
          "34,847",
          "180,486",
          "52,983",
          "186,618",
          "178,664",
          "31,398",
          "90,218",
          "64,683",
          "46,910",
          "196,936",
          "56,732",
          "34,731"
         ],
         "yaxis": "y3"
        },
        {
         "mode": "markers",
         "name": "Ratings Vs Gross",
         "type": "scatter",
         "x": [
          9.3,
          9.2,
          9,
          9,
          9,
          9,
          9,
          8.9,
          8.9,
          8.8,
          8.8,
          8.8,
          8.8,
          8.8,
          8.8,
          8.7,
          8.7,
          8.7,
          8.7,
          8.7,
          8.6,
          8.6,
          8.6,
          8.6,
          8.6,
          8.6,
          8.6,
          8.6,
          8.6,
          8.6,
          8.6,
          8.6,
          8.6,
          8.6,
          8.5,
          8.5,
          8.5,
          8.5,
          8.5,
          8.5,
          8.5,
          8.5,
          8.5,
          8.5,
          8.5,
          8.5,
          8.5,
          8.5,
          8.5,
          8.5,
          8.5,
          8.5,
          8.5,
          8.5,
          8.5,
          8.5,
          8.5,
          8.5,
          8.5,
          8.5,
          8.4,
          8.4,
          8.4,
          8.4,
          8.4,
          8.4,
          8.4,
          8.4,
          8.4,
          8.4,
          8.4,
          8.4,
          8.4,
          8.4,
          8.4,
          8.4,
          8.4,
          8.4,
          8.4,
          8.4,
          8.4,
          8.4,
          8.4,
          8.4,
          8.4,
          8.4,
          8.4,
          8.4,
          8.4,
          8.4,
          8.4,
          8.4,
          8.4,
          8.3,
          8.3,
          8.3,
          8.3,
          8.3,
          8.3,
          8.3,
          8.3,
          8.3,
          8.3,
          8.3,
          8.3,
          8.3,
          8.3,
          8.3,
          8.3,
          8.3,
          8.3,
          8.3,
          8.3,
          8.3,
          8.3,
          8.3,
          8.3,
          8.3,
          8.3,
          8.3,
          8.3,
          8.3,
          8.3,
          8.3,
          8.3,
          8.3,
          8.3,
          8.3,
          8.3,
          8.3,
          8.3,
          8.3,
          8.3,
          8.3,
          8.3,
          8.3,
          8.2,
          8.2,
          8.2,
          8.2,
          8.2,
          8.2,
          8.2,
          8.2,
          8.2,
          8.2,
          8.2,
          8.2,
          8.2,
          8.2,
          8.2,
          8.2,
          8.2,
          8.2,
          8.2,
          8.2,
          8.2,
          8.2,
          8.2,
          8.2,
          8.2,
          8.2,
          8.2,
          8.2,
          8.2,
          8.2,
          8.2,
          8.2,
          8.2,
          8.2,
          8.2,
          8.2,
          8.2,
          8.2,
          8.2,
          8.2,
          8.2,
          8.2,
          8.2,
          8.2,
          8.2,
          8.2,
          8.2,
          8.2,
          8.2,
          8.2,
          8.2,
          8.2,
          8.2,
          8.2,
          8.2,
          8.2,
          8.2,
          8.2,
          8.2,
          8.2,
          8.2,
          8.2,
          8.2,
          8.2,
          8.2,
          8.2,
          8.2,
          8.2,
          8.2,
          8.2,
          8.2,
          8.1,
          8.1,
          8.1,
          8.1,
          8.1,
          8.1,
          8.1,
          8.1,
          8.1,
          8.1,
          8.1,
          8.1,
          8.1,
          8.1,
          8.1,
          8.1,
          8.1,
          8.1,
          8.1,
          8.1,
          8.1,
          8.1,
          8.1,
          8.1,
          8.1,
          8.1,
          8.1,
          8.1,
          8.1,
          8.1,
          8.1,
          8.1,
          8.1,
          8.1,
          8.1,
          8.1,
          8.1,
          8.1,
          8.1,
          8.1,
          8.1,
          8.1,
          8.1,
          8.1,
          8.1,
          8.1,
          8.1,
          8.1,
          8.1,
          8.1,
          8.1,
          8.1,
          8.1,
          8.1,
          8.1,
          8.1,
          8.1,
          8.1,
          8.1,
          8.1,
          8.1,
          8.1,
          8.1,
          8.1,
          8.1,
          8.1,
          8.1,
          8.1,
          8.1,
          8.1,
          8.1,
          8.1,
          8.1,
          8.1,
          8.1,
          8.1,
          8.1,
          8.1,
          8.1,
          8.1,
          8.1,
          8.1,
          8.1,
          8.1,
          8.1,
          8.1,
          8.1,
          8.1,
          8.1,
          8.1,
          8.1,
          8.1,
          8.1,
          8.1,
          8.1,
          8.1,
          8.1,
          8.1,
          8.1,
          8.1,
          8.1,
          8.1,
          8.1,
          8.1,
          8.1,
          8.1,
          8.1,
          8.1,
          8.1,
          8.1,
          8.1,
          8.1,
          8.1,
          8.1,
          8.1,
          8.1,
          8.1,
          8.1,
          8.1,
          8.1,
          8.1,
          8.1,
          8.1,
          8.1,
          8.1,
          8.1,
          8.1,
          8.1,
          8,
          8,
          8,
          8,
          8,
          8,
          8,
          8,
          8,
          8,
          8,
          8,
          8,
          8,
          8,
          8,
          8,
          8,
          8,
          8,
          8,
          8,
          8,
          8,
          8,
          8,
          8,
          8,
          8,
          8,
          8,
          8,
          8,
          8,
          8,
          8,
          8,
          8,
          8,
          8,
          8,
          8,
          8,
          8,
          8,
          8,
          8,
          8,
          8,
          8,
          8,
          8,
          8,
          8,
          8,
          8,
          8,
          8,
          8,
          8,
          8,
          8,
          8,
          8,
          8,
          8,
          8,
          8,
          8,
          8,
          8,
          8,
          8,
          8,
          8,
          8,
          8,
          8,
          8,
          8,
          8,
          8,
          8,
          8,
          8,
          8,
          8,
          8,
          8,
          8,
          8,
          8,
          8,
          8,
          8,
          8,
          8,
          8,
          8,
          8,
          8,
          8,
          8,
          8,
          8,
          8,
          8,
          8,
          8,
          8,
          8,
          8,
          8,
          8,
          8,
          8,
          8,
          8,
          8,
          8,
          8,
          8,
          8,
          8,
          8,
          8,
          8,
          8,
          7.9,
          7.9,
          7.9,
          7.9,
          7.9,
          7.9,
          7.9,
          7.9,
          7.9,
          7.9,
          7.9,
          7.9,
          7.9,
          7.9,
          7.9,
          7.9,
          7.9,
          7.9,
          7.9,
          7.9,
          7.9,
          7.9,
          7.9,
          7.9,
          7.9,
          7.9,
          7.9,
          7.9,
          7.9,
          7.9,
          7.9,
          7.9,
          7.9,
          7.9,
          7.9,
          7.9,
          7.9,
          7.9,
          7.9,
          7.9,
          7.9,
          7.9,
          7.9,
          7.9,
          7.9,
          7.9,
          7.9,
          7.9,
          7.9,
          7.9,
          7.9,
          7.9,
          7.9,
          7.9,
          7.9,
          7.9,
          7.9,
          7.9,
          7.9,
          7.9,
          7.9,
          7.9,
          7.9,
          7.9,
          7.9,
          7.9,
          7.9,
          7.9,
          7.9,
          7.9,
          7.9,
          7.9,
          7.9,
          7.9,
          7.9,
          7.9,
          7.9,
          7.9,
          7.9,
          7.9,
          7.9,
          7.9,
          7.9,
          7.9,
          7.9,
          7.9,
          7.9,
          7.9,
          7.9,
          7.9,
          7.9,
          7.9,
          7.9,
          7.9,
          7.9,
          7.9,
          7.9,
          7.9,
          7.9,
          7.9,
          7.9,
          7.9,
          7.9,
          7.9,
          7.9,
          7.9,
          7.9,
          7.9,
          7.9,
          7.9,
          7.9,
          7.9,
          7.9,
          7.9,
          7.9,
          7.9,
          7.9,
          7.9,
          7.9,
          7.9,
          7.9,
          7.9,
          7.9,
          7.9,
          7.9,
          7.9,
          7.9,
          7.9,
          7.9,
          7.9,
          7.8,
          7.8,
          7.8,
          7.8,
          7.8,
          7.8,
          7.8,
          7.8,
          7.8,
          7.8,
          7.8,
          7.8,
          7.8,
          7.8,
          7.8,
          7.8,
          7.8,
          7.8,
          7.8,
          7.8,
          7.8,
          7.8,
          7.8,
          7.8,
          7.8,
          7.8,
          7.8,
          7.8,
          7.8,
          7.8,
          7.8,
          7.8,
          7.8,
          7.8,
          7.8,
          7.8,
          7.8,
          7.8,
          7.8,
          7.8,
          7.8,
          7.8,
          7.8,
          7.8,
          7.8,
          7.8,
          7.8,
          7.8,
          7.8,
          7.8,
          7.8,
          7.8,
          7.8,
          7.8,
          7.8,
          7.8,
          7.8,
          7.8,
          7.8,
          7.8,
          7.8,
          7.8,
          7.8,
          7.8,
          7.8,
          7.8,
          7.8,
          7.8,
          7.8,
          7.8,
          7.8,
          7.8,
          7.8,
          7.8,
          7.8,
          7.8,
          7.8,
          7.8,
          7.8,
          7.8,
          7.8,
          7.8,
          7.8,
          7.8,
          7.8,
          7.8,
          7.8,
          7.8,
          7.8,
          7.8,
          7.8,
          7.8,
          7.8,
          7.8,
          7.8,
          7.8,
          7.8,
          7.8,
          7.8,
          7.8,
          7.8,
          7.8,
          7.8,
          7.8,
          7.8,
          7.8,
          7.8,
          7.8,
          7.8,
          7.8,
          7.8,
          7.8,
          7.8,
          7.8,
          7.8,
          7.8,
          7.8,
          7.8,
          7.8,
          7.8,
          7.8,
          7.8,
          7.8,
          7.8,
          7.8,
          7.8,
          7.8,
          7.8,
          7.8,
          7.8,
          7.8,
          7.8,
          7.8,
          7.8,
          7.8,
          7.8,
          7.8,
          7.8,
          7.8,
          7.8,
          7.8,
          7.8,
          7.8,
          7.8,
          7.8,
          7.8,
          7.8,
          7.7,
          7.7,
          7.7,
          7.7,
          7.7,
          7.7,
          7.7,
          7.7,
          7.7,
          7.7,
          7.7,
          7.7,
          7.7,
          7.7,
          7.7,
          7.7,
          7.7,
          7.7,
          7.7,
          7.7,
          7.7,
          7.7,
          7.7,
          7.7,
          7.7,
          7.7,
          7.7,
          7.7,
          7.7,
          7.7,
          7.7,
          7.7,
          7.7,
          7.7,
          7.7,
          7.7,
          7.7,
          7.7,
          7.7,
          7.7,
          7.7,
          7.7,
          7.7,
          7.7,
          7.7,
          7.7,
          7.7,
          7.7,
          7.7,
          7.7,
          7.7,
          7.7,
          7.7,
          7.7,
          7.7,
          7.7,
          7.7,
          7.7,
          7.7,
          7.7,
          7.7,
          7.7,
          7.7,
          7.7,
          7.7,
          7.7,
          7.7,
          7.7,
          7.7,
          7.7,
          7.7,
          7.7,
          7.7,
          7.7,
          7.7,
          7.7,
          7.7,
          7.7,
          7.7,
          7.7,
          7.7,
          7.7,
          7.7,
          7.7,
          7.7,
          7.7,
          7.7,
          7.7,
          7.7,
          7.7,
          7.7,
          7.7,
          7.7,
          7.7,
          7.7,
          7.7,
          7.7,
          7.7,
          7.7,
          7.7,
          7.7,
          7.7,
          7.7,
          7.7,
          7.7,
          7.7,
          7.7,
          7.7,
          7.7,
          7.7,
          7.7,
          7.7,
          7.7,
          7.7,
          7.7,
          7.7,
          7.7,
          7.7,
          7.7,
          7.7,
          7.7,
          7.7,
          7.7,
          7.7,
          7.7,
          7.7,
          7.7,
          7.7,
          7.7,
          7.7,
          7.7,
          7.7,
          7.7,
          7.7,
          7.7,
          7.7,
          7.7,
          7.7,
          7.7,
          7.7,
          7.7,
          7.7,
          7.7,
          7.7,
          7.7,
          7.7,
          7.7,
          7.7,
          7.7,
          7.7,
          7.7,
          7.7,
          7.7,
          7.7,
          7.7,
          7.7,
          7.7,
          7.7,
          7.7,
          7.7,
          7.7,
          7.7,
          7.7,
          7.7,
          7.7,
          7.7,
          7.7,
          7.7,
          7.7,
          7.7,
          7.6,
          7.6,
          7.6,
          7.6,
          7.6,
          7.6,
          7.6,
          7.6,
          7.6,
          7.6,
          7.6,
          7.6,
          7.6,
          7.6,
          7.6,
          7.6,
          7.6,
          7.6,
          7.6,
          7.6,
          7.6,
          7.6,
          7.6,
          7.6,
          7.6,
          7.6,
          7.6,
          7.6,
          7.6,
          7.6,
          7.6,
          7.6,
          7.6,
          7.6,
          7.6,
          7.6,
          7.6,
          7.6,
          7.6,
          7.6,
          7.6,
          7.6,
          7.6,
          7.6,
          7.6,
          7.6,
          7.6,
          7.6,
          7.6,
          7.6,
          7.6,
          7.6,
          7.6,
          7.6,
          7.6,
          7.6,
          7.6,
          7.6,
          7.6,
          7.6,
          7.6,
          7.6,
          7.6,
          7.6,
          7.6,
          7.6,
          7.6,
          7.6,
          7.6,
          7.6,
          7.6,
          7.6,
          7.6,
          7.6,
          7.6,
          7.6,
          7.6,
          7.6,
          7.6,
          7.6,
          7.6,
          7.6,
          7.6,
          7.6,
          7.6,
          7.6,
          7.6,
          7.6,
          7.6,
          7.6
         ],
         "xaxis": "x4",
         "y": [
          28.34,
          134.97,
          534.86,
          377.85,
          96.9,
          57.3,
          4.36,
          70.13249694002447,
          107.93,
          292.58,
          342.55,
          37.03,
          315.54,
          330.25,
          6.1,
          70.13249694002447,
          171.48,
          46.84,
          290.48,
          112,
          70.13249694002447,
          188.02,
          7.56,
          10.06,
          216.54,
          136.8,
          57.6,
          100.13,
          204.84,
          130.74,
          322.74,
          70.13249694002447,
          0.27,
          70.13249694002447,
          70.13249694002447,
          70.13249694002447,
          70.13249694002447,
          53.37,
          13.09,
          13.18,
          70.13249694002447,
          53.09,
          132.38,
          32.57,
          187.71,
          6.72,
          23.34,
          19.5,
          422.78,
          11.99,
          70.13249694002447,
          210.61,
          83.47,
          78.9,
          5.32,
          32,
          36.76,
          1.02,
          0.16,
          0.02,
          1.66,
          335.45,
          70.13249694002447,
          5.02,
          190.24,
          858.37,
          678.82,
          209.73,
          162.81,
          448.14,
          70.13249694002447,
          6.53,
          70.13249694002447,
          70.13249694002447,
          223.81,
          11.29,
          0.71,
          25.54,
          130.1,
          2.38,
          75.6,
          70.13249694002447,
          85.16,
          51.97,
          248.16,
          11.49,
          44.02,
          70.13249694002447,
          0.28,
          8.18,
          70.13249694002447,
          70.13249694002447,
          0.29,
          70.13249694002447,
          70.13249694002447,
          70.13249694002447,
          12.39,
          70.13249694002447,
          0.69,
          7.1,
          6.86,
          804.75,
          293,
          1.22,
          415,
          120.54,
          34.4,
          33.23,
          30.33,
          3.64,
          138.43,
          191.8,
          67.44,
          2.83,
          46.36,
          5.32,
          45.6,
          309.13,
          159.6,
          6.21,
          56.95,
          70.13249694002447,
          44.82,
          70.13249694002447,
          18.6,
          13.28,
          3.2,
          0.54,
          8.82,
          0.06,
          0.33,
          5.72,
          1.59,
          0.03,
          1.24,
          5.45,
          0.9,
          159.23,
          4.19,
          70.13249694002447,
          1.37,
          70.13249694002447,
          85.08,
          70.13249694002447,
          70.13249694002447,
          20.19,
          0.74,
          1.63,
          356.46,
          70.13249694002447,
          0.04,
          6.39,
          13.66,
          128.01,
          47.7,
          70.13249694002447,
          70.13249694002447,
          70.13249694002447,
          116.9,
          74.28,
          70.13249694002447,
          40.22,
          37.63,
          70.51,
          206.85,
          5.51,
          4.71,
          170.74,
          70.1,
          380.84,
          293.51,
          3.9,
          125.62,
          64.62,
          0.93,
          42.44,
          402.45,
          101.16,
          197.17,
          83.01,
          4.14,
          13.78,
          23.38,
          70.13249694002447,
          28.26,
          1.23,
          70.13249694002447,
          8.49,
          0.08,
          15,
          12.1,
          70.13249694002447,
          25,
          44.91,
          0.01,
          70.13249694002447,
          70.13249694002447,
          0.07,
          0.1,
          0.01,
          5.01,
          70.13249694002447,
          198.68,
          0.02,
          1.03,
          5.45,
          0.98,
          3.76,
          1.24,
          70.13249694002447,
          54.51,
          0.34,
          70.13249694002447,
          70.13249694002447,
          2.01,
          8.18,
          0.9,
          1.43,
          226.28,
          14.68,
          3.11,
          0.14,
          10.62,
          0.92,
          59.1,
          167.77,
          70.13249694002447,
          67.21,
          2.8,
          56.67,
          26.95,
          117.62,
          45.06,
          1.04,
          0.01,
          3.11,
          169.71,
          61,
          154.06,
          70.13249694002447,
          148.1,
          381.01,
          70.13249694002447,
          70.13249694002447,
          217.58,
          1.11,
          18.35,
          2.2,
          100.49,
          23.53,
          206.45,
          5.82,
          0.73,
          70.13249694002447,
          1.22,
          0.01,
          305.41,
          0.3,
          164.62,
          70.13249694002447,
          5.38,
          70.13249694002447,
          70.13249694002447,
          289.92,
          0.07,
          1.65,
          23.16,
          17.5,
          2.73,
          16.5,
          24.61,
          70.13249694002447,
          0.17,
          0.31,
          5.54,
          4.04,
          25.01,
          70.91,
          5.22,
          2.6,
          0.28,
          95.86,
          1.11,
          52.29,
          138.53,
          4.94,
          38.4,
          2.18,
          52.77,
          4.97,
          32.87,
          0.23,
          70.13249694002447,
          48.98,
          117.24,
          70.13249694002447,
          70.13249694002447,
          70.13249694002447,
          260,
          70.13249694002447,
          30.93,
          232.91,
          70.13249694002447,
          16.22,
          70.13249694002447,
          163.21,
          0.06,
          70.13249694002447,
          1.53,
          70.13249694002447,
          70.13249694002447,
          74.7,
          70.13249694002447,
          70.13249694002447,
          70.13249694002447,
          0.75,
          70.13249694002447,
          0.06,
          9.6,
          1.09,
          3.97,
          70.13249694002447,
          0.45,
          10.9,
          23.65,
          0.2,
          4.36,
          0.06,
          2.08,
          9.6,
          0.17,
          4.36,
          3.27,
          70.13249694002447,
          0.54,
          70.13249694002447,
          70.13249694002447,
          70.13249694002447,
          70.13249694002447,
          151.1,
          51.74,
          228.43,
          3.49,
          70.13249694002447,
          341.27,
          0.17,
          6.74,
          1.51,
          1.08,
          91.13,
          333.18,
          0.86,
          92.05,
          25.57,
          183.64,
          17.74,
          0.1,
          138.8,
          363.07,
          70.13249694002447,
          70.13249694002447,
          108.33,
          1.5,
          70.13249694002447,
          141.32,
          106.95,
          0.01,
          623.28,
          4.45,
          2.22,
          163.57,
          57.37,
          227.47,
          0.68,
          74.1,
          5.99,
          1.11,
          70.13249694002447,
          167.45,
          66.21,
          2.38,
          2.09,
          61.65,
          0.17,
          66.26,
          261.44,
          70.13249694002447,
          1.53,
          70.13249694002447,
          1.48,
          22.46,
          70.13249694002447,
          6.2,
          0.78,
          5.6,
          0.26,
          0.35,
          24.48,
          13.42,
          57.14,
          70.13249694002447,
          0.6,
          70.13249694002447,
          63.9,
          217.35,
          70.41,
          218.97,
          184.21,
          178.8,
          0.55,
          30.86,
          3.33,
          4.54,
          70.13249694002447,
          0.5,
          0.01,
          22.24,
          70.13249694002447,
          20.05,
          30.18,
          39.2,
          50,
          0.18,
          86.3,
          53.27,
          1.74,
          70.13249694002447,
          4.08,
          29.13,
          80.5,
          102.31,
          70.13249694002447,
          33.4,
          0.04,
          104.95,
          70.13249694002447,
          0.1,
          70.13249694002447,
          0.05,
          70.13249694002447,
          4.05,
          70.13249694002447,
          70.13249694002447,
          8.28,
          19.52,
          12.54,
          11.9,
          2.24,
          70.13249694002447,
          70.13249694002447,
          0.65,
          70.13249694002447,
          70.13249694002447,
          70.13249694002447,
          9.45,
          70.13249694002447,
          70.13249694002447,
          70.13249694002447,
          70.13249694002447,
          70.13249694002447,
          2.11,
          0.05,
          70.13249694002447,
          165.36,
          3.31,
          2,
          2.27,
          1.66,
          70.13249694002447,
          70.13249694002447,
          1.78,
          70.13249694002447,
          3.24,
          315.06,
          0.35,
          132.42,
          100.55,
          5.57,
          1.01,
          2.63,
          8.11,
          233.92,
          70.13249694002447,
          216.43,
          0.1,
          44.67,
          100.21,
          6.74,
          0.11,
          0.01,
          4.02,
          70.13249694002447,
          2.12,
          115.65,
          26.24,
          0.41,
          25.38,
          70.13249694002447,
          1.19,
          257.73,
          27.3,
          7.76,
          70.13249694002447,
          13.76,
          124.99,
          21,
          0.24,
          70.13249694002447,
          0.5,
          318.41,
          13.54,
          1.79,
          70.13249694002447,
          90.14,
          249.36,
          53.71,
          9.28,
          1.06,
          121.66,
          1.22,
          35.55,
          128.08,
          32.53,
          4.18,
          7.22,
          267.67,
          245.85,
          659.33,
          0,
          26.4,
          70.13249694002447,
          0.52,
          2.2,
          12.28,
          1.32,
          75.08,
          36.95,
          4.5,
          56.36,
          14.74,
          27.55,
          76.27,
          0.3,
          40.08,
          9.93,
          4.74,
          20.61,
          435.11,
          70.13249694002447,
          57.23,
          45.7,
          70.6,
          0.58,
          70.13249694002447,
          61.7,
          0.54,
          0.37,
          12.06,
          22.28,
          24.38,
          70.13249694002447,
          111.72,
          14.5,
          13.47,
          70.13249694002447,
          70.13249694002447,
          30,
          0.09,
          17.57,
          0.11,
          93.74,
          70.13249694002447,
          70.13249694002447,
          8,
          7.63,
          70.13249694002447,
          70.13249694002447,
          70.13249694002447,
          2.65,
          10.46,
          6.54,
          0.3,
          9.46,
          4.36,
          70.13249694002447,
          70.13249694002447,
          70.13249694002447,
          70.13249694002447,
          3.98,
          70.13249694002447,
          10,
          70.13249694002447,
          70.13249694002447,
          70.13249694002447,
          30.71,
          70.13249694002447,
          18.1,
          0.26,
          32.02,
          188.37,
          169.61,
          5.2,
          40.44,
          47.7,
          0.44,
          532.18,
          70.13249694002447,
          5.88,
          408.08,
          54.12,
          108.1,
          6.74,
          70.13249694002447,
          32.38,
          936.66,
          4.23,
          0.17,
          222.53,
          15.32,
          1.67,
          0.09,
          259.77,
          0.14,
          45.51,
          177,
          70.26,
          0.13,
          102.52,
          107.1,
          161.2,
          7,
          96.96,
          2.08,
          0.55,
          70.13249694002447,
          5.01,
          258.37,
          2.22,
          10.1,
          304.36,
          93.62,
          145,
          9.44,
          303,
          35.74,
          50.93,
          35.06,
          130.16,
          760.51,
          0,
          50.87,
          2.28,
          59.89,
          23.64,
          127.51,
          2.92,
          38.41,
          5.13,
          0.13,
          25.51,
          54.58,
          3.64,
          119.52,
          81,
          111.11,
          16.76,
          0.18,
          0.19,
          1,
          70.13249694002447,
          115.65,
          8.26,
          233.63,
          28.97,
          32.48,
          22.86,
          12.34,
          4.41,
          4.04,
          5.89,
          56.51,
          32.42,
          22.95,
          70.13249694002447,
          183.88,
          17.27,
          5.62,
          57.5,
          61.28,
          52.1,
          70.13249694002447,
          26.83,
          70.13249694002447,
          18.25,
          118.5,
          34.6,
          59.74,
          70.14,
          45.88,
          34.7,
          238.63,
          21.5,
          2.5,
          106.26,
          37.82,
          70.13249694002447,
          5.1,
          31.8,
          70.13249694002447,
          0.06,
          4.42,
          16.06,
          0.2,
          42.77,
          70.13249694002447,
          4,
          44.79,
          0.09,
          56.7,
          0.03,
          72,
          102.27,
          2.62,
          70.13249694002447,
          70.13249694002447,
          70.13249694002447,
          70.13249694002447,
          70.13249694002447,
          70.13249694002447,
          70.13249694002447,
          70.13249694002447,
          0.3,
          70.13249694002447,
          4.66,
          70.13249694002447,
          70.13249694002447,
          2.54,
          4.36,
          70.13249694002447,
          70.13249694002447,
          70.13249694002447,
          324.59,
          70.13249694002447,
          33.8,
          2.4,
          176.04,
          220.16,
          70.13249694002447,
          70.13249694002447,
          48.02,
          3.36,
          0.77,
          35.89,
          128.26,
          124.87,
          6.74,
          42.34,
          1.33,
          2.85,
          2.2,
          0.18,
          5.21,
          434.04,
          17.65,
          189.42,
          1.34,
          0.07,
          56.82,
          70.13249694002447,
          0.01,
          257.76,
          274.09,
          228.78,
          0.08,
          146.41,
          277.32,
          70.13249694002447,
          132.09,
          70.13249694002447,
          136.03,
          32.39,
          295.98,
          9.03,
          0.74,
          18.59,
          0.88,
          1.75,
          70.13249694002447,
          0.33,
          25.44,
          0.41,
          33.08,
          22.49,
          1.05,
          0.87,
          0,
          200.82,
          4.4,
          83.04,
          53.61,
          17.11,
          176.24,
          1.08,
          75.33,
          0.02,
          44.59,
          290.01,
          77.91,
          75.29,
          4.89,
          16.29,
          51.68,
          4.06,
          15.54,
          7,
          22.25,
          108.64,
          104.45,
          0.14,
          22,
          3.03,
          54.23,
          13.62,
          2.89,
          183.42,
          45.51,
          132.07,
          52.04,
          10.82,
          2.81,
          0.03,
          76.63,
          7.27,
          0.37,
          0.31,
          148.48,
          0.23,
          48.32,
          41.91,
          0.19,
          35.81,
          56.12,
          43.18,
          173.84,
          21.85,
          3.15,
          9.17,
          6.11,
          77.32,
          1.77,
          27.28,
          48.17,
          75.51,
          70.13249694002447,
          70.13249694002447,
          10.73,
          141.34,
          2.02,
          82.42,
          2,
          1.96,
          5.08,
          285.76,
          92.82,
          156.45,
          70.13249694002447,
          43.98,
          5.92,
          22.24,
          7.15,
          1.44,
          8.55,
          10.63,
          61.5,
          98.47,
          11.8,
          54,
          78.91,
          47.21,
          54.8,
          83.4,
          47,
          14.82,
          70.13249694002447,
          119.5,
          29.8,
          0.19,
          70.13249694002447,
          7.06,
          15.63,
          35.9,
          17.55,
          45.3,
          70.13249694002447,
          0.03,
          28.35,
          70.13249694002447,
          51.08,
          39.1,
          70.13249694002447,
          70.13249694002447,
          4.91,
          0.34,
          70.13249694002447,
          21.75,
          10.55,
          0.54,
          70.13249694002447,
          76.41,
          70.13249694002447,
          70.13249694002447,
          70.13249694002447,
          26.02,
          142.5,
          389.81,
          72.31,
          608.58,
          248.76,
          3.33,
          46.89,
          109.77,
          1.09,
          26.86,
          37.71,
          208.55,
          4.11,
          41,
          215.29,
          171.24,
          251.51,
          35.01,
          48.07,
          70.13249694002447,
          75.61,
          3.19,
          75.59,
          255.96,
          15.09,
          121.46,
          69.95,
          17.11,
          38.63,
          31.57,
          17.61,
          88.51,
          20.3,
          215.43,
          210.61,
          23.09,
          107.51,
          24.15,
          56,
          3.75,
          6.17,
          5.74,
          59.7,
          13.06,
          57.94,
          40.31,
          52.36,
          317.58,
          96.52,
          124.12,
          15.07,
          17.11,
          380.26,
          36.4,
          120.62,
          63.54,
          4.07,
          14.38,
          100.01,
          71.52,
          1.46,
          52.93,
          6.15,
          66.67,
          111.54,
          78.76,
          53.42,
          65.21,
          40.46,
          10.6,
          12.47,
          132.09,
          2.49,
          25,
          70.13249694002447,
          44.53,
          141.84,
          70.13249694002447,
          11.4,
          70.13249694002447,
          0.05,
          70.13249694002447,
          70.13249694002447,
          30.5,
          184.93,
          70.13249694002447,
          70.13249694002447
         ],
         "yaxis": "y4"
        }
       ],
       "layout": {
        "font": {
         "color": "white",
         "family": "Lato",
         "size": 18
        },
        "paper_bgcolor": "black",
        "plot_bgcolor": "black",
        "template": {
         "data": {
          "bar": [
           {
            "error_x": {
             "color": "#2a3f5f"
            },
            "error_y": {
             "color": "#2a3f5f"
            },
            "marker": {
             "line": {
              "color": "#E5ECF6",
              "width": 0.5
             },
             "pattern": {
              "fillmode": "overlay",
              "size": 10,
              "solidity": 0.2
             }
            },
            "type": "bar"
           }
          ],
          "barpolar": [
           {
            "marker": {
             "line": {
              "color": "#E5ECF6",
              "width": 0.5
             },
             "pattern": {
              "fillmode": "overlay",
              "size": 10,
              "solidity": 0.2
             }
            },
            "type": "barpolar"
           }
          ],
          "carpet": [
           {
            "aaxis": {
             "endlinecolor": "#2a3f5f",
             "gridcolor": "white",
             "linecolor": "white",
             "minorgridcolor": "white",
             "startlinecolor": "#2a3f5f"
            },
            "baxis": {
             "endlinecolor": "#2a3f5f",
             "gridcolor": "white",
             "linecolor": "white",
             "minorgridcolor": "white",
             "startlinecolor": "#2a3f5f"
            },
            "type": "carpet"
           }
          ],
          "choropleth": [
           {
            "colorbar": {
             "outlinewidth": 0,
             "ticks": ""
            },
            "type": "choropleth"
           }
          ],
          "contour": [
           {
            "colorbar": {
             "outlinewidth": 0,
             "ticks": ""
            },
            "colorscale": [
             [
              0,
              "#0d0887"
             ],
             [
              0.1111111111111111,
              "#46039f"
             ],
             [
              0.2222222222222222,
              "#7201a8"
             ],
             [
              0.3333333333333333,
              "#9c179e"
             ],
             [
              0.4444444444444444,
              "#bd3786"
             ],
             [
              0.5555555555555556,
              "#d8576b"
             ],
             [
              0.6666666666666666,
              "#ed7953"
             ],
             [
              0.7777777777777778,
              "#fb9f3a"
             ],
             [
              0.8888888888888888,
              "#fdca26"
             ],
             [
              1,
              "#f0f921"
             ]
            ],
            "type": "contour"
           }
          ],
          "contourcarpet": [
           {
            "colorbar": {
             "outlinewidth": 0,
             "ticks": ""
            },
            "type": "contourcarpet"
           }
          ],
          "heatmap": [
           {
            "colorbar": {
             "outlinewidth": 0,
             "ticks": ""
            },
            "colorscale": [
             [
              0,
              "#0d0887"
             ],
             [
              0.1111111111111111,
              "#46039f"
             ],
             [
              0.2222222222222222,
              "#7201a8"
             ],
             [
              0.3333333333333333,
              "#9c179e"
             ],
             [
              0.4444444444444444,
              "#bd3786"
             ],
             [
              0.5555555555555556,
              "#d8576b"
             ],
             [
              0.6666666666666666,
              "#ed7953"
             ],
             [
              0.7777777777777778,
              "#fb9f3a"
             ],
             [
              0.8888888888888888,
              "#fdca26"
             ],
             [
              1,
              "#f0f921"
             ]
            ],
            "type": "heatmap"
           }
          ],
          "heatmapgl": [
           {
            "colorbar": {
             "outlinewidth": 0,
             "ticks": ""
            },
            "colorscale": [
             [
              0,
              "#0d0887"
             ],
             [
              0.1111111111111111,
              "#46039f"
             ],
             [
              0.2222222222222222,
              "#7201a8"
             ],
             [
              0.3333333333333333,
              "#9c179e"
             ],
             [
              0.4444444444444444,
              "#bd3786"
             ],
             [
              0.5555555555555556,
              "#d8576b"
             ],
             [
              0.6666666666666666,
              "#ed7953"
             ],
             [
              0.7777777777777778,
              "#fb9f3a"
             ],
             [
              0.8888888888888888,
              "#fdca26"
             ],
             [
              1,
              "#f0f921"
             ]
            ],
            "type": "heatmapgl"
           }
          ],
          "histogram": [
           {
            "marker": {
             "pattern": {
              "fillmode": "overlay",
              "size": 10,
              "solidity": 0.2
             }
            },
            "type": "histogram"
           }
          ],
          "histogram2d": [
           {
            "colorbar": {
             "outlinewidth": 0,
             "ticks": ""
            },
            "colorscale": [
             [
              0,
              "#0d0887"
             ],
             [
              0.1111111111111111,
              "#46039f"
             ],
             [
              0.2222222222222222,
              "#7201a8"
             ],
             [
              0.3333333333333333,
              "#9c179e"
             ],
             [
              0.4444444444444444,
              "#bd3786"
             ],
             [
              0.5555555555555556,
              "#d8576b"
             ],
             [
              0.6666666666666666,
              "#ed7953"
             ],
             [
              0.7777777777777778,
              "#fb9f3a"
             ],
             [
              0.8888888888888888,
              "#fdca26"
             ],
             [
              1,
              "#f0f921"
             ]
            ],
            "type": "histogram2d"
           }
          ],
          "histogram2dcontour": [
           {
            "colorbar": {
             "outlinewidth": 0,
             "ticks": ""
            },
            "colorscale": [
             [
              0,
              "#0d0887"
             ],
             [
              0.1111111111111111,
              "#46039f"
             ],
             [
              0.2222222222222222,
              "#7201a8"
             ],
             [
              0.3333333333333333,
              "#9c179e"
             ],
             [
              0.4444444444444444,
              "#bd3786"
             ],
             [
              0.5555555555555556,
              "#d8576b"
             ],
             [
              0.6666666666666666,
              "#ed7953"
             ],
             [
              0.7777777777777778,
              "#fb9f3a"
             ],
             [
              0.8888888888888888,
              "#fdca26"
             ],
             [
              1,
              "#f0f921"
             ]
            ],
            "type": "histogram2dcontour"
           }
          ],
          "mesh3d": [
           {
            "colorbar": {
             "outlinewidth": 0,
             "ticks": ""
            },
            "type": "mesh3d"
           }
          ],
          "parcoords": [
           {
            "line": {
             "colorbar": {
              "outlinewidth": 0,
              "ticks": ""
             }
            },
            "type": "parcoords"
           }
          ],
          "pie": [
           {
            "automargin": true,
            "type": "pie"
           }
          ],
          "scatter": [
           {
            "marker": {
             "colorbar": {
              "outlinewidth": 0,
              "ticks": ""
             }
            },
            "type": "scatter"
           }
          ],
          "scatter3d": [
           {
            "line": {
             "colorbar": {
              "outlinewidth": 0,
              "ticks": ""
             }
            },
            "marker": {
             "colorbar": {
              "outlinewidth": 0,
              "ticks": ""
             }
            },
            "type": "scatter3d"
           }
          ],
          "scattercarpet": [
           {
            "marker": {
             "colorbar": {
              "outlinewidth": 0,
              "ticks": ""
             }
            },
            "type": "scattercarpet"
           }
          ],
          "scattergeo": [
           {
            "marker": {
             "colorbar": {
              "outlinewidth": 0,
              "ticks": ""
             }
            },
            "type": "scattergeo"
           }
          ],
          "scattergl": [
           {
            "marker": {
             "colorbar": {
              "outlinewidth": 0,
              "ticks": ""
             }
            },
            "type": "scattergl"
           }
          ],
          "scattermapbox": [
           {
            "marker": {
             "colorbar": {
              "outlinewidth": 0,
              "ticks": ""
             }
            },
            "type": "scattermapbox"
           }
          ],
          "scatterpolar": [
           {
            "marker": {
             "colorbar": {
              "outlinewidth": 0,
              "ticks": ""
             }
            },
            "type": "scatterpolar"
           }
          ],
          "scatterpolargl": [
           {
            "marker": {
             "colorbar": {
              "outlinewidth": 0,
              "ticks": ""
             }
            },
            "type": "scatterpolargl"
           }
          ],
          "scatterternary": [
           {
            "marker": {
             "colorbar": {
              "outlinewidth": 0,
              "ticks": ""
             }
            },
            "type": "scatterternary"
           }
          ],
          "surface": [
           {
            "colorbar": {
             "outlinewidth": 0,
             "ticks": ""
            },
            "colorscale": [
             [
              0,
              "#0d0887"
             ],
             [
              0.1111111111111111,
              "#46039f"
             ],
             [
              0.2222222222222222,
              "#7201a8"
             ],
             [
              0.3333333333333333,
              "#9c179e"
             ],
             [
              0.4444444444444444,
              "#bd3786"
             ],
             [
              0.5555555555555556,
              "#d8576b"
             ],
             [
              0.6666666666666666,
              "#ed7953"
             ],
             [
              0.7777777777777778,
              "#fb9f3a"
             ],
             [
              0.8888888888888888,
              "#fdca26"
             ],
             [
              1,
              "#f0f921"
             ]
            ],
            "type": "surface"
           }
          ],
          "table": [
           {
            "cells": {
             "fill": {
              "color": "#EBF0F8"
             },
             "line": {
              "color": "white"
             }
            },
            "header": {
             "fill": {
              "color": "#C8D4E3"
             },
             "line": {
              "color": "white"
             }
            },
            "type": "table"
           }
          ]
         },
         "layout": {
          "annotationdefaults": {
           "arrowcolor": "#2a3f5f",
           "arrowhead": 0,
           "arrowwidth": 1
          },
          "autotypenumbers": "strict",
          "coloraxis": {
           "colorbar": {
            "outlinewidth": 0,
            "ticks": ""
           }
          },
          "colorscale": {
           "diverging": [
            [
             0,
             "#8e0152"
            ],
            [
             0.1,
             "#c51b7d"
            ],
            [
             0.2,
             "#de77ae"
            ],
            [
             0.3,
             "#f1b6da"
            ],
            [
             0.4,
             "#fde0ef"
            ],
            [
             0.5,
             "#f7f7f7"
            ],
            [
             0.6,
             "#e6f5d0"
            ],
            [
             0.7,
             "#b8e186"
            ],
            [
             0.8,
             "#7fbc41"
            ],
            [
             0.9,
             "#4d9221"
            ],
            [
             1,
             "#276419"
            ]
           ],
           "sequential": [
            [
             0,
             "#0d0887"
            ],
            [
             0.1111111111111111,
             "#46039f"
            ],
            [
             0.2222222222222222,
             "#7201a8"
            ],
            [
             0.3333333333333333,
             "#9c179e"
            ],
            [
             0.4444444444444444,
             "#bd3786"
            ],
            [
             0.5555555555555556,
             "#d8576b"
            ],
            [
             0.6666666666666666,
             "#ed7953"
            ],
            [
             0.7777777777777778,
             "#fb9f3a"
            ],
            [
             0.8888888888888888,
             "#fdca26"
            ],
            [
             1,
             "#f0f921"
            ]
           ],
           "sequentialminus": [
            [
             0,
             "#0d0887"
            ],
            [
             0.1111111111111111,
             "#46039f"
            ],
            [
             0.2222222222222222,
             "#7201a8"
            ],
            [
             0.3333333333333333,
             "#9c179e"
            ],
            [
             0.4444444444444444,
             "#bd3786"
            ],
            [
             0.5555555555555556,
             "#d8576b"
            ],
            [
             0.6666666666666666,
             "#ed7953"
            ],
            [
             0.7777777777777778,
             "#fb9f3a"
            ],
            [
             0.8888888888888888,
             "#fdca26"
            ],
            [
             1,
             "#f0f921"
            ]
           ]
          },
          "colorway": [
           "#636efa",
           "#EF553B",
           "#00cc96",
           "#ab63fa",
           "#FFA15A",
           "#19d3f3",
           "#FF6692",
           "#B6E880",
           "#FF97FF",
           "#FECB52"
          ],
          "font": {
           "color": "#2a3f5f"
          },
          "geo": {
           "bgcolor": "white",
           "lakecolor": "white",
           "landcolor": "#E5ECF6",
           "showlakes": true,
           "showland": true,
           "subunitcolor": "white"
          },
          "hoverlabel": {
           "align": "left"
          },
          "hovermode": "closest",
          "mapbox": {
           "style": "light"
          },
          "paper_bgcolor": "white",
          "plot_bgcolor": "#E5ECF6",
          "polar": {
           "angularaxis": {
            "gridcolor": "white",
            "linecolor": "white",
            "ticks": ""
           },
           "bgcolor": "#E5ECF6",
           "radialaxis": {
            "gridcolor": "white",
            "linecolor": "white",
            "ticks": ""
           }
          },
          "scene": {
           "xaxis": {
            "backgroundcolor": "#E5ECF6",
            "gridcolor": "white",
            "gridwidth": 2,
            "linecolor": "white",
            "showbackground": true,
            "ticks": "",
            "zerolinecolor": "white"
           },
           "yaxis": {
            "backgroundcolor": "#E5ECF6",
            "gridcolor": "white",
            "gridwidth": 2,
            "linecolor": "white",
            "showbackground": true,
            "ticks": "",
            "zerolinecolor": "white"
           },
           "zaxis": {
            "backgroundcolor": "#E5ECF6",
            "gridcolor": "white",
            "gridwidth": 2,
            "linecolor": "white",
            "showbackground": true,
            "ticks": "",
            "zerolinecolor": "white"
           }
          },
          "shapedefaults": {
           "line": {
            "color": "#2a3f5f"
           }
          },
          "ternary": {
           "aaxis": {
            "gridcolor": "white",
            "linecolor": "white",
            "ticks": ""
           },
           "baxis": {
            "gridcolor": "white",
            "linecolor": "white",
            "ticks": ""
           },
           "bgcolor": "#E5ECF6",
           "caxis": {
            "gridcolor": "white",
            "linecolor": "white",
            "ticks": ""
           }
          },
          "title": {
           "x": 0.05
          },
          "xaxis": {
           "automargin": true,
           "gridcolor": "white",
           "linecolor": "white",
           "ticks": "",
           "title": {
            "standoff": 15
           },
           "zerolinecolor": "white",
           "zerolinewidth": 2
          },
          "yaxis": {
           "automargin": true,
           "gridcolor": "white",
           "linecolor": "white",
           "ticks": "",
           "title": {
            "standoff": 15
           },
           "zerolinecolor": "white",
           "zerolinewidth": 2
          }
         }
        },
        "xaxis": {
         "anchor": "y",
         "domain": [
          0,
          0.45
         ],
         "title": {
          "text": "Ratings"
         }
        },
        "xaxis2": {
         "anchor": "y2",
         "domain": [
          0.55,
          1
         ],
         "title": {
          "text": "Ratings"
         }
        },
        "xaxis3": {
         "anchor": "y3",
         "domain": [
          0,
          0.45
         ],
         "title": {
          "text": "Ratings"
         }
        },
        "xaxis4": {
         "anchor": "y4",
         "domain": [
          0.55,
          1
         ],
         "title": {
          "text": "Ratings"
         }
        },
        "yaxis": {
         "anchor": "x",
         "domain": [
          0.575,
          1
         ],
         "title": {
          "text": "Watch Time"
         }
        },
        "yaxis2": {
         "anchor": "x2",
         "domain": [
          0.575,
          1
         ],
         "title": {
          "text": "Metascore"
         }
        },
        "yaxis3": {
         "anchor": "x3",
         "domain": [
          0,
          0.425
         ],
         "title": {
          "text": "Votes"
         }
        },
        "yaxis4": {
         "anchor": "x4",
         "domain": [
          0,
          0.425
         ],
         "title": {
          "text": "Gross"
         }
        }
       }
      },
      "text/html": [
       "<div>                            <div id=\"08692646-0159-4fa2-834e-d6998e963dc7\" class=\"plotly-graph-div\" style=\"height:525px; width:100%;\"></div>            <script type=\"text/javascript\">                require([\"plotly\"], function(Plotly) {                    window.PLOTLYENV=window.PLOTLYENV || {};                                    if (document.getElementById(\"08692646-0159-4fa2-834e-d6998e963dc7\")) {                    Plotly.newPlot(                        \"08692646-0159-4fa2-834e-d6998e963dc7\",                        [{\"mode\":\"markers\",\"name\":\"Ratings Vs Watch Time\",\"type\":\"scatter\",\"x\":[9.3,9.2,9.0,9.0,9.0,9.0,9.0,8.9,8.9,8.8,8.8,8.8,8.8,8.8,8.8,8.7,8.7,8.7,8.7,8.7,8.6,8.6,8.6,8.6,8.6,8.6,8.6,8.6,8.6,8.6,8.6,8.6,8.6,8.6,8.5,8.5,8.5,8.5,8.5,8.5,8.5,8.5,8.5,8.5,8.5,8.5,8.5,8.5,8.5,8.5,8.5,8.5,8.5,8.5,8.5,8.5,8.5,8.5,8.5,8.5,8.4,8.4,8.4,8.4,8.4,8.4,8.4,8.4,8.4,8.4,8.4,8.4,8.4,8.4,8.4,8.4,8.4,8.4,8.4,8.4,8.4,8.4,8.4,8.4,8.4,8.4,8.4,8.4,8.4,8.4,8.4,8.4,8.4,8.3,8.3,8.3,8.3,8.3,8.3,8.3,8.3,8.3,8.3,8.3,8.3,8.3,8.3,8.3,8.3,8.3,8.3,8.3,8.3,8.3,8.3,8.3,8.3,8.3,8.3,8.3,8.3,8.3,8.3,8.3,8.3,8.3,8.3,8.3,8.3,8.3,8.3,8.3,8.3,8.3,8.3,8.3,8.2,8.2,8.2,8.2,8.2,8.2,8.2,8.2,8.2,8.2,8.2,8.2,8.2,8.2,8.2,8.2,8.2,8.2,8.2,8.2,8.2,8.2,8.2,8.2,8.2,8.2,8.2,8.2,8.2,8.2,8.2,8.2,8.2,8.2,8.2,8.2,8.2,8.2,8.2,8.2,8.2,8.2,8.2,8.2,8.2,8.2,8.2,8.2,8.2,8.2,8.2,8.2,8.2,8.2,8.2,8.2,8.2,8.2,8.2,8.2,8.2,8.2,8.2,8.2,8.2,8.2,8.2,8.2,8.2,8.2,8.2,8.1,8.1,8.1,8.1,8.1,8.1,8.1,8.1,8.1,8.1,8.1,8.1,8.1,8.1,8.1,8.1,8.1,8.1,8.1,8.1,8.1,8.1,8.1,8.1,8.1,8.1,8.1,8.1,8.1,8.1,8.1,8.1,8.1,8.1,8.1,8.1,8.1,8.1,8.1,8.1,8.1,8.1,8.1,8.1,8.1,8.1,8.1,8.1,8.1,8.1,8.1,8.1,8.1,8.1,8.1,8.1,8.1,8.1,8.1,8.1,8.1,8.1,8.1,8.1,8.1,8.1,8.1,8.1,8.1,8.1,8.1,8.1,8.1,8.1,8.1,8.1,8.1,8.1,8.1,8.1,8.1,8.1,8.1,8.1,8.1,8.1,8.1,8.1,8.1,8.1,8.1,8.1,8.1,8.1,8.1,8.1,8.1,8.1,8.1,8.1,8.1,8.1,8.1,8.1,8.1,8.1,8.1,8.1,8.1,8.1,8.1,8.1,8.1,8.1,8.1,8.1,8.1,8.1,8.1,8.1,8.1,8.1,8.1,8.1,8.1,8.1,8.1,8.1,8.0,8.0,8.0,8.0,8.0,8.0,8.0,8.0,8.0,8.0,8.0,8.0,8.0,8.0,8.0,8.0,8.0,8.0,8.0,8.0,8.0,8.0,8.0,8.0,8.0,8.0,8.0,8.0,8.0,8.0,8.0,8.0,8.0,8.0,8.0,8.0,8.0,8.0,8.0,8.0,8.0,8.0,8.0,8.0,8.0,8.0,8.0,8.0,8.0,8.0,8.0,8.0,8.0,8.0,8.0,8.0,8.0,8.0,8.0,8.0,8.0,8.0,8.0,8.0,8.0,8.0,8.0,8.0,8.0,8.0,8.0,8.0,8.0,8.0,8.0,8.0,8.0,8.0,8.0,8.0,8.0,8.0,8.0,8.0,8.0,8.0,8.0,8.0,8.0,8.0,8.0,8.0,8.0,8.0,8.0,8.0,8.0,8.0,8.0,8.0,8.0,8.0,8.0,8.0,8.0,8.0,8.0,8.0,8.0,8.0,8.0,8.0,8.0,8.0,8.0,8.0,8.0,8.0,8.0,8.0,8.0,8.0,8.0,8.0,8.0,8.0,8.0,8.0,7.9,7.9,7.9,7.9,7.9,7.9,7.9,7.9,7.9,7.9,7.9,7.9,7.9,7.9,7.9,7.9,7.9,7.9,7.9,7.9,7.9,7.9,7.9,7.9,7.9,7.9,7.9,7.9,7.9,7.9,7.9,7.9,7.9,7.9,7.9,7.9,7.9,7.9,7.9,7.9,7.9,7.9,7.9,7.9,7.9,7.9,7.9,7.9,7.9,7.9,7.9,7.9,7.9,7.9,7.9,7.9,7.9,7.9,7.9,7.9,7.9,7.9,7.9,7.9,7.9,7.9,7.9,7.9,7.9,7.9,7.9,7.9,7.9,7.9,7.9,7.9,7.9,7.9,7.9,7.9,7.9,7.9,7.9,7.9,7.9,7.9,7.9,7.9,7.9,7.9,7.9,7.9,7.9,7.9,7.9,7.9,7.9,7.9,7.9,7.9,7.9,7.9,7.9,7.9,7.9,7.9,7.9,7.9,7.9,7.9,7.9,7.9,7.9,7.9,7.9,7.9,7.9,7.9,7.9,7.9,7.9,7.9,7.9,7.9,7.9,7.9,7.9,7.9,7.9,7.9,7.8,7.8,7.8,7.8,7.8,7.8,7.8,7.8,7.8,7.8,7.8,7.8,7.8,7.8,7.8,7.8,7.8,7.8,7.8,7.8,7.8,7.8,7.8,7.8,7.8,7.8,7.8,7.8,7.8,7.8,7.8,7.8,7.8,7.8,7.8,7.8,7.8,7.8,7.8,7.8,7.8,7.8,7.8,7.8,7.8,7.8,7.8,7.8,7.8,7.8,7.8,7.8,7.8,7.8,7.8,7.8,7.8,7.8,7.8,7.8,7.8,7.8,7.8,7.8,7.8,7.8,7.8,7.8,7.8,7.8,7.8,7.8,7.8,7.8,7.8,7.8,7.8,7.8,7.8,7.8,7.8,7.8,7.8,7.8,7.8,7.8,7.8,7.8,7.8,7.8,7.8,7.8,7.8,7.8,7.8,7.8,7.8,7.8,7.8,7.8,7.8,7.8,7.8,7.8,7.8,7.8,7.8,7.8,7.8,7.8,7.8,7.8,7.8,7.8,7.8,7.8,7.8,7.8,7.8,7.8,7.8,7.8,7.8,7.8,7.8,7.8,7.8,7.8,7.8,7.8,7.8,7.8,7.8,7.8,7.8,7.8,7.8,7.8,7.8,7.8,7.8,7.8,7.8,7.8,7.8,7.8,7.8,7.7,7.7,7.7,7.7,7.7,7.7,7.7,7.7,7.7,7.7,7.7,7.7,7.7,7.7,7.7,7.7,7.7,7.7,7.7,7.7,7.7,7.7,7.7,7.7,7.7,7.7,7.7,7.7,7.7,7.7,7.7,7.7,7.7,7.7,7.7,7.7,7.7,7.7,7.7,7.7,7.7,7.7,7.7,7.7,7.7,7.7,7.7,7.7,7.7,7.7,7.7,7.7,7.7,7.7,7.7,7.7,7.7,7.7,7.7,7.7,7.7,7.7,7.7,7.7,7.7,7.7,7.7,7.7,7.7,7.7,7.7,7.7,7.7,7.7,7.7,7.7,7.7,7.7,7.7,7.7,7.7,7.7,7.7,7.7,7.7,7.7,7.7,7.7,7.7,7.7,7.7,7.7,7.7,7.7,7.7,7.7,7.7,7.7,7.7,7.7,7.7,7.7,7.7,7.7,7.7,7.7,7.7,7.7,7.7,7.7,7.7,7.7,7.7,7.7,7.7,7.7,7.7,7.7,7.7,7.7,7.7,7.7,7.7,7.7,7.7,7.7,7.7,7.7,7.7,7.7,7.7,7.7,7.7,7.7,7.7,7.7,7.7,7.7,7.7,7.7,7.7,7.7,7.7,7.7,7.7,7.7,7.7,7.7,7.7,7.7,7.7,7.7,7.7,7.7,7.7,7.7,7.7,7.7,7.7,7.7,7.7,7.7,7.7,7.7,7.7,7.7,7.7,7.7,7.7,7.7,7.6,7.6,7.6,7.6,7.6,7.6,7.6,7.6,7.6,7.6,7.6,7.6,7.6,7.6,7.6,7.6,7.6,7.6,7.6,7.6,7.6,7.6,7.6,7.6,7.6,7.6,7.6,7.6,7.6,7.6,7.6,7.6,7.6,7.6,7.6,7.6,7.6,7.6,7.6,7.6,7.6,7.6,7.6,7.6,7.6,7.6,7.6,7.6,7.6,7.6,7.6,7.6,7.6,7.6,7.6,7.6,7.6,7.6,7.6,7.6,7.6,7.6,7.6,7.6,7.6,7.6,7.6,7.6,7.6,7.6,7.6,7.6,7.6,7.6,7.6,7.6,7.6,7.6,7.6,7.6,7.6,7.6,7.6,7.6,7.6,7.6,7.6,7.6,7.6,7.6],\"xaxis\":\"x\",\"y\":[142,175,152,201,195,202,96,164,154,148,179,139,178,142,161,153,136,145,124,133,130,169,130,125,169,189,116,127,137,118,121,133,207,130,145,141,175,132,106,112,164,130,151,150,155,119,106,110,88,155,89,116,147,117,165,109,112,102,87,87,126,122,158,106,117,181,149,105,165,164,152,170,168,135,98,137,101,113,122,134,178,142,137,160,115,149,146,143,95,116,88,110,125,160,170,125,161,160,115,123,131,148,96,165,103,153,108,122,104,102,126,81,170,99,116,229,170,131,129,136,149,129,218,179,125,136,128,125,103,143,89,107,119,117,153,68,143,119,138,104,139,156,130,139,147,167,163,186,95,321,135,129,140,138,117,132,130,97,180,122,112,158,118,132,140,156,119,135,111,100,107,107,103,138,89,178,127,130,127,132,162,109,129,124,114,91,142,130,127,132,172,110,121,161,105,136,131,89,88,138,126,99,238,110,67,95,45,122,136,130,115,132,96,109,145,163,160,146,137,118,122,87,153,125,99,149,117,139,151,134,123,152,129,122,134,155,146,153,120,104,116,130,93,92,98,153,148,167,132,121,111,80,122,156,210,131,143,183,141,107,154,156,174,92,224,105,86,117,98,93,98,128,170,98,101,99,133,101,171,125,142,128,86,89,120,120,107,145,191,188,117,162,99,183,120,121,177,204,124,185,102,122,122,127,85,172,121,123,89,128,99,212,139,91,96,110,110,118,108,117,111,114,104,135,170,99,130,129,102,129,113,105,152,72,94,187,124,103,106,128,118,144,139,100,108,196,159,137,144,114,121,93,164,126,156,103,115,118,108,242,106,155,130,111,120,108,115,143,96,144,117,143,115,141,124,112,140,127,144,137,103,126,144,101,125,115,137,178,110,113,188,87,112,81,110,169,127,135,136,129,189,102,160,156,90,189,84,181,133,124,98,128,104,125,117,125,95,158,94,130,93,125,107,106,151,91,167,138,118,181,110,137,112,105,106,131,205,186,138,95,134,96,95,134,174,141,161,95,96,84,92,108,120,118,85,106,97,103,111,86,100,75,76,130,121,137,154,140,113,130,184,159,106,130,108,113,116,154,96,150,109,132,176,134,96,100,113,127,119,144,165,128,114,112,109,138,165,128,113,127,117,107,87,141,127,87,88,129,110,126,99,186,121,138,142,120,112,98,119,114,109,120,122,140,147,90,92,194,87,155,111,83,102,119,94,76,144,180,105,103,120,119,149,107,132,82,93,115,180,133,96,138,123,91,172,113,140,145,134,110,134,197,99,113,80,126,197,90,108,91,220,119,89,122,101,94,104,80,96,102,114,96,101,88,118,90,112,110,102,91,100,64,94,113,100,132,132,100,101,106,127,101,103,137,100,133,159,118,147,168,135,94,119,117,138,104,126,102,123,134,131,136,157,94,102,130,144,158,134,147,209,120,155,129,125,97,161,144,152,143,116,90,86,169,141,123,100,157,162,141,139,117,101,121,166,192,129,127,90,119,112,97,136,123,154,126,109,87,115,110,113,101,143,157,108,113,106,242,159,127,130,101,134,94,130,121,76,112,107,121,103,122,111,104,108,128,107,103,97,141,105,193,109,105,123,94,127,135,129,114,113,143,102,124,95,100,113,96,108,91,170,139,100,144,118,92,112,133,100,114,108,92,96,126,96,102,96,75,69,70,135,119,120,107,124,104,147,96,148,101,116,103,123,129,126,105,119,130,141,180,111,126,100,115,101,108,98,94,106,119,100,91,132,137,131,100,129,122,117,120,95,146,94,122,122,90,90,98,101,108,120,157,110,116,122,94,100,145,134,122,99,108,101,152,113,102,157,146,100,114,124,106,121,105,80,115,144,117,120,110,95,131,106,99,116,107,145,81,89,134,108,122,81,119,95,139,103,129,127,96,105,129,136,140,108,92,118,188,125,131,85,202,112,128,94,100,138,129,130,98,119,115,103,95,104,107,163,84,153,130,107,120,82,114,154,79,129,113,93,124,88,91,160,85,93,130,72,94,109,104,102,108,150,111,100,120,138,110,178,106,105,128,90,80,124,129,105,100,125,93,126,114,102,161,136,142,118,107,86,121,133,140,102,98,130,101,109,136,110,95,100,117,113,133,120,88,129,101,113,123,100,127,111,123,129,114,92,117,124,162,122,103,125,133,89,135,135,113,132,110,152,101,147,102,93,140,170,88,126,80,100,128,135,92,120,116,162,83,85,102,109,96,97,96,138,104,102,158,105,78,105,119,115,90,111,113,118,83,86,71],\"yaxis\":\"y\"},{\"mode\":\"markers\",\"name\":\"Ratings Vs Metascore\",\"type\":\"scatter\",\"x\":[9.3,9.2,9.0,9.0,9.0,9.0,9.0,8.9,8.9,8.8,8.8,8.8,8.8,8.8,8.8,8.7,8.7,8.7,8.7,8.7,8.6,8.6,8.6,8.6,8.6,8.6,8.6,8.6,8.6,8.6,8.6,8.6,8.6,8.6,8.5,8.5,8.5,8.5,8.5,8.5,8.5,8.5,8.5,8.5,8.5,8.5,8.5,8.5,8.5,8.5,8.5,8.5,8.5,8.5,8.5,8.5,8.5,8.5,8.5,8.5,8.4,8.4,8.4,8.4,8.4,8.4,8.4,8.4,8.4,8.4,8.4,8.4,8.4,8.4,8.4,8.4,8.4,8.4,8.4,8.4,8.4,8.4,8.4,8.4,8.4,8.4,8.4,8.4,8.4,8.4,8.4,8.4,8.4,8.3,8.3,8.3,8.3,8.3,8.3,8.3,8.3,8.3,8.3,8.3,8.3,8.3,8.3,8.3,8.3,8.3,8.3,8.3,8.3,8.3,8.3,8.3,8.3,8.3,8.3,8.3,8.3,8.3,8.3,8.3,8.3,8.3,8.3,8.3,8.3,8.3,8.3,8.3,8.3,8.3,8.3,8.3,8.2,8.2,8.2,8.2,8.2,8.2,8.2,8.2,8.2,8.2,8.2,8.2,8.2,8.2,8.2,8.2,8.2,8.2,8.2,8.2,8.2,8.2,8.2,8.2,8.2,8.2,8.2,8.2,8.2,8.2,8.2,8.2,8.2,8.2,8.2,8.2,8.2,8.2,8.2,8.2,8.2,8.2,8.2,8.2,8.2,8.2,8.2,8.2,8.2,8.2,8.2,8.2,8.2,8.2,8.2,8.2,8.2,8.2,8.2,8.2,8.2,8.2,8.2,8.2,8.2,8.2,8.2,8.2,8.2,8.2,8.2,8.1,8.1,8.1,8.1,8.1,8.1,8.1,8.1,8.1,8.1,8.1,8.1,8.1,8.1,8.1,8.1,8.1,8.1,8.1,8.1,8.1,8.1,8.1,8.1,8.1,8.1,8.1,8.1,8.1,8.1,8.1,8.1,8.1,8.1,8.1,8.1,8.1,8.1,8.1,8.1,8.1,8.1,8.1,8.1,8.1,8.1,8.1,8.1,8.1,8.1,8.1,8.1,8.1,8.1,8.1,8.1,8.1,8.1,8.1,8.1,8.1,8.1,8.1,8.1,8.1,8.1,8.1,8.1,8.1,8.1,8.1,8.1,8.1,8.1,8.1,8.1,8.1,8.1,8.1,8.1,8.1,8.1,8.1,8.1,8.1,8.1,8.1,8.1,8.1,8.1,8.1,8.1,8.1,8.1,8.1,8.1,8.1,8.1,8.1,8.1,8.1,8.1,8.1,8.1,8.1,8.1,8.1,8.1,8.1,8.1,8.1,8.1,8.1,8.1,8.1,8.1,8.1,8.1,8.1,8.1,8.1,8.1,8.1,8.1,8.1,8.1,8.1,8.1,8.0,8.0,8.0,8.0,8.0,8.0,8.0,8.0,8.0,8.0,8.0,8.0,8.0,8.0,8.0,8.0,8.0,8.0,8.0,8.0,8.0,8.0,8.0,8.0,8.0,8.0,8.0,8.0,8.0,8.0,8.0,8.0,8.0,8.0,8.0,8.0,8.0,8.0,8.0,8.0,8.0,8.0,8.0,8.0,8.0,8.0,8.0,8.0,8.0,8.0,8.0,8.0,8.0,8.0,8.0,8.0,8.0,8.0,8.0,8.0,8.0,8.0,8.0,8.0,8.0,8.0,8.0,8.0,8.0,8.0,8.0,8.0,8.0,8.0,8.0,8.0,8.0,8.0,8.0,8.0,8.0,8.0,8.0,8.0,8.0,8.0,8.0,8.0,8.0,8.0,8.0,8.0,8.0,8.0,8.0,8.0,8.0,8.0,8.0,8.0,8.0,8.0,8.0,8.0,8.0,8.0,8.0,8.0,8.0,8.0,8.0,8.0,8.0,8.0,8.0,8.0,8.0,8.0,8.0,8.0,8.0,8.0,8.0,8.0,8.0,8.0,8.0,8.0,7.9,7.9,7.9,7.9,7.9,7.9,7.9,7.9,7.9,7.9,7.9,7.9,7.9,7.9,7.9,7.9,7.9,7.9,7.9,7.9,7.9,7.9,7.9,7.9,7.9,7.9,7.9,7.9,7.9,7.9,7.9,7.9,7.9,7.9,7.9,7.9,7.9,7.9,7.9,7.9,7.9,7.9,7.9,7.9,7.9,7.9,7.9,7.9,7.9,7.9,7.9,7.9,7.9,7.9,7.9,7.9,7.9,7.9,7.9,7.9,7.9,7.9,7.9,7.9,7.9,7.9,7.9,7.9,7.9,7.9,7.9,7.9,7.9,7.9,7.9,7.9,7.9,7.9,7.9,7.9,7.9,7.9,7.9,7.9,7.9,7.9,7.9,7.9,7.9,7.9,7.9,7.9,7.9,7.9,7.9,7.9,7.9,7.9,7.9,7.9,7.9,7.9,7.9,7.9,7.9,7.9,7.9,7.9,7.9,7.9,7.9,7.9,7.9,7.9,7.9,7.9,7.9,7.9,7.9,7.9,7.9,7.9,7.9,7.9,7.9,7.9,7.9,7.9,7.9,7.9,7.8,7.8,7.8,7.8,7.8,7.8,7.8,7.8,7.8,7.8,7.8,7.8,7.8,7.8,7.8,7.8,7.8,7.8,7.8,7.8,7.8,7.8,7.8,7.8,7.8,7.8,7.8,7.8,7.8,7.8,7.8,7.8,7.8,7.8,7.8,7.8,7.8,7.8,7.8,7.8,7.8,7.8,7.8,7.8,7.8,7.8,7.8,7.8,7.8,7.8,7.8,7.8,7.8,7.8,7.8,7.8,7.8,7.8,7.8,7.8,7.8,7.8,7.8,7.8,7.8,7.8,7.8,7.8,7.8,7.8,7.8,7.8,7.8,7.8,7.8,7.8,7.8,7.8,7.8,7.8,7.8,7.8,7.8,7.8,7.8,7.8,7.8,7.8,7.8,7.8,7.8,7.8,7.8,7.8,7.8,7.8,7.8,7.8,7.8,7.8,7.8,7.8,7.8,7.8,7.8,7.8,7.8,7.8,7.8,7.8,7.8,7.8,7.8,7.8,7.8,7.8,7.8,7.8,7.8,7.8,7.8,7.8,7.8,7.8,7.8,7.8,7.8,7.8,7.8,7.8,7.8,7.8,7.8,7.8,7.8,7.8,7.8,7.8,7.8,7.8,7.8,7.8,7.8,7.8,7.8,7.8,7.8,7.7,7.7,7.7,7.7,7.7,7.7,7.7,7.7,7.7,7.7,7.7,7.7,7.7,7.7,7.7,7.7,7.7,7.7,7.7,7.7,7.7,7.7,7.7,7.7,7.7,7.7,7.7,7.7,7.7,7.7,7.7,7.7,7.7,7.7,7.7,7.7,7.7,7.7,7.7,7.7,7.7,7.7,7.7,7.7,7.7,7.7,7.7,7.7,7.7,7.7,7.7,7.7,7.7,7.7,7.7,7.7,7.7,7.7,7.7,7.7,7.7,7.7,7.7,7.7,7.7,7.7,7.7,7.7,7.7,7.7,7.7,7.7,7.7,7.7,7.7,7.7,7.7,7.7,7.7,7.7,7.7,7.7,7.7,7.7,7.7,7.7,7.7,7.7,7.7,7.7,7.7,7.7,7.7,7.7,7.7,7.7,7.7,7.7,7.7,7.7,7.7,7.7,7.7,7.7,7.7,7.7,7.7,7.7,7.7,7.7,7.7,7.7,7.7,7.7,7.7,7.7,7.7,7.7,7.7,7.7,7.7,7.7,7.7,7.7,7.7,7.7,7.7,7.7,7.7,7.7,7.7,7.7,7.7,7.7,7.7,7.7,7.7,7.7,7.7,7.7,7.7,7.7,7.7,7.7,7.7,7.7,7.7,7.7,7.7,7.7,7.7,7.7,7.7,7.7,7.7,7.7,7.7,7.7,7.7,7.7,7.7,7.7,7.7,7.7,7.7,7.7,7.7,7.7,7.7,7.7,7.6,7.6,7.6,7.6,7.6,7.6,7.6,7.6,7.6,7.6,7.6,7.6,7.6,7.6,7.6,7.6,7.6,7.6,7.6,7.6,7.6,7.6,7.6,7.6,7.6,7.6,7.6,7.6,7.6,7.6,7.6,7.6,7.6,7.6,7.6,7.6,7.6,7.6,7.6,7.6,7.6,7.6,7.6,7.6,7.6,7.6,7.6,7.6,7.6,7.6,7.6,7.6,7.6,7.6,7.6,7.6,7.6,7.6,7.6,7.6,7.6,7.6,7.6,7.6,7.6,7.6,7.6,7.6,7.6,7.6,7.6,7.6,7.6,7.6,7.6,7.6,7.6,7.6,7.6,7.6,7.6,7.6,7.6,7.6,7.6,7.6,7.6,7.6,7.6,7.6],\"xaxis\":\"x2\",\"y\":[81.0,100.0,84.0,94.0,94.0,90.0,96.0,78.6866028708134,94.0,74.0,87.0,66.0,92.0,82.0,90.0,78.6866028708134,73.0,90.0,82.0,84.0,78.0,74.0,79.0,96.0,91.0,61.0,59.0,65.0,75.0,85.0,90.0,85.0,98.0,89.0,78.6866028708134,78.6866028708134,78.6866028708134,96.0,88.0,57.0,78.6866028708134,66.0,85.0,85.0,67.0,62.0,77.0,64.0,88.0,80.0,94.0,87.0,94.0,89.0,80.0,97.0,100.0,100.0,96.0,99.0,75.0,59.0,78.6866028708134,79.0,87.0,78.0,68.0,81.0,81.0,78.0,78.6866028708134,67.0,78.6866028708134,78.6866028708134,95.0,89.0,77.0,80.0,84.0,76.0,68.0,78.6866028708134,84.0,88.0,85.0,86.0,66.0,90.0,97.0,78.6866028708134,90.0,78.6866028708134,78.6866028708134,90.0,78.6866028708134,78.6866028708134,78.6866028708134,78.6866028708134,77.0,95.0,80.0,71.0,88.0,78.6866028708134,92.0,69.0,89.0,69.0,55.0,68.0,70.0,95.0,76.0,79.0,76.0,75.0,65.0,58.0,83.0,77.0,84.0,88.0,100.0,60.0,94.0,98.0,100.0,78.6866028708134,99.0,91.0,78.6866028708134,95.0,100.0,78.6866028708134,98.0,78.6866028708134,78.6866028708134,78.0,78.6866028708134,78.6866028708134,78.6866028708134,78.6866028708134,69.0,81.0,78.6866028708134,78.6866028708134,78.6866028708134,78.6866028708134,94.0,89.0,78.6866028708134,80.0,71.0,63.0,72.0,78.6866028708134,78.6866028708134,88.0,75.0,92.0,78.6866028708134,93.0,98.0,62.0,70.0,82.0,80.0,72.0,69.0,90.0,64.0,66.0,90.0,90.0,77.0,73.0,68.0,85.0,65.0,72.0,96.0,57.0,89.0,78.0,94.0,91.0,78.6866028708134,92.0,86.0,74.0,86.0,93.0,98.0,87.0,75.0,78.6866028708134,85.0,92.0,98.0,98.0,98.0,86.0,97.0,78.6866028708134,78.6866028708134,78.6866028708134,78.6866028708134,95.0,78.6866028708134,78.0,88.0,78.6866028708134,65.0,78.6866028708134,84.0,78.6866028708134,78.6866028708134,78.6866028708134,77.0,86.0,77.0,73.0,78.6866028708134,78.6866028708134,88.0,79.0,71.0,71.0,78.6866028708134,96.0,74.0,81.0,93.0,78.6866028708134,78.6866028708134,78.6866028708134,62.0,70.0,90.0,78.6866028708134,72.0,85.0,78.6866028708134,78.6866028708134,75.0,68.0,73.0,78.6866028708134,86.0,79.0,96.0,90.0,78.6866028708134,78.6866028708134,78.6866028708134,82.0,63.0,78.6866028708134,75.0,78.6866028708134,83.0,78.6866028708134,78.6866028708134,79.0,84.0,82.0,85.0,71.0,85.0,83.0,85.0,78.6866028708134,79.0,78.6866028708134,77.0,100.0,84.0,72.0,83.0,78.6866028708134,78.6866028708134,79.0,86.0,75.0,92.0,78.6866028708134,84.0,78.0,79.0,100.0,84.0,78.6866028708134,78.6866028708134,86.0,70.0,83.0,78.6866028708134,78.6866028708134,87.0,89.0,77.0,81.0,78.6866028708134,92.0,86.0,63.0,96.0,94.0,78.6866028708134,75.0,78.6866028708134,90.0,89.0,88.0,88.0,78.6866028708134,78.6866028708134,97.0,91.0,78.6866028708134,72.0,78.6866028708134,97.0,78.6866028708134,93.0,96.0,86.0,96.0,92.0,73.0,78.6866028708134,87.0,91.0,90.0,78.6866028708134,83.0,78.6866028708134,87.0,78.6866028708134,94.0,69.0,80.0,74.0,83.0,78.0,88.0,78.6866028708134,89.0,78.6866028708134,71.0,76.0,85.0,81.0,91.0,76.0,67.0,71.0,88.0,65.0,54.0,59.0,74.0,68.0,74.0,84.0,79.0,33.0,69.0,90.0,78.6866028708134,64.0,64.0,85.0,88.0,74.0,92.0,64.0,78.6866028708134,80.0,83.0,85.0,74.0,69.0,75.0,58.0,90.0,78.6866028708134,60.0,78.6866028708134,88.0,77.0,78.6866028708134,86.0,78.6866028708134,80.0,58.0,73.0,84.0,91.0,74.0,78.6866028708134,78.0,78.6866028708134,59.0,86.0,72.0,95.0,72.0,65.0,67.0,77.0,79.0,88.0,78.0,86.0,78.6866028708134,47.0,78.6866028708134,77.0,83.0,92.0,86.0,80.0,80.0,58.0,78.6866028708134,90.0,78.6866028708134,93.0,67.0,66.0,96.0,79.0,78.6866028708134,83.0,75.0,78.6866028708134,100.0,91.0,78.6866028708134,75.0,78.6866028708134,78.6866028708134,90.0,95.0,93.0,95.0,99.0,100.0,91.0,99.0,78.6866028708134,84.0,78.0,89.0,78.6866028708134,78.6866028708134,78.6866028708134,88.0,92.0,97.0,97.0,78.6866028708134,82.0,93.0,94.0,78.6866028708134,78.6866028708134,69.0,78.6866028708134,78.6866028708134,78.6866028708134,79.0,74.0,58.0,66.0,81.0,65.0,82.0,71.0,94.0,75.0,72.0,49.0,71.0,89.0,71.0,94.0,87.0,78.6866028708134,50.0,78.6866028708134,82.0,81.0,80.0,78.6866028708134,100.0,90.0,97.0,82.0,79.0,67.0,78.6866028708134,89.0,79.0,83.0,72.0,81.0,82.0,79.0,76.0,54.0,78.0,84.0,82.0,85.0,86.0,84.0,68.0,80.0,84.0,94.0,90.0,61.0,85.0,84.0,88.0,75.0,78.6866028708134,85.0,75.0,76.0,77.0,59.0,85.0,82.0,65.0,47.0,74.0,97.0,93.0,79.0,78.6866028708134,90.0,84.0,92.0,77.0,91.0,84.0,60.0,83.0,84.0,78.6866028708134,62.0,91.0,100.0,91.0,97.0,78.6866028708134,75.0,89.0,69.0,65.0,83.0,78.6866028708134,94.0,87.0,78.6866028708134,84.0,94.0,78.6866028708134,94.0,78.6866028708134,97.0,88.0,78.6866028708134,78.6866028708134,73.0,88.0,100.0,86.0,92.0,78.6866028708134,78.6866028708134,78.6866028708134,78.6866028708134,96.0,78.6866028708134,97.0,86.0,90.0,80.0,78.6866028708134,51.0,59.0,78.6866028708134,93.0,78.0,82.0,94.0,74.0,81.0,88.0,96.0,75.0,65.0,64.0,72.0,75.0,68.0,91.0,62.0,79.0,76.0,80.0,76.0,78.6866028708134,74.0,55.0,78.6866028708134,49.0,70.0,82.0,84.0,77.0,81.0,67.0,71.0,82.0,72.0,94.0,95.0,90.0,79.0,64.0,67.0,66.0,82.0,76.0,81.0,79.0,51.0,88.0,58.0,63.0,85.0,78.0,76.0,83.0,63.0,68.0,64.0,80.0,81.0,70.0,67.0,82.0,68.0,73.0,74.0,66.0,56.0,72.0,53.0,55.0,75.0,82.0,70.0,61.0,58.0,48.0,87.0,73.0,84.0,71.0,90.0,64.0,78.6866028708134,76.0,70.0,50.0,55.0,86.0,78.6866028708134,87.0,80.0,78.6866028708134,76.0,75.0,74.0,83.0,78.0,82.0,77.0,57.0,65.0,45.0,61.0,66.0,76.0,71.0,91.0,73.0,77.0,72.0,93.0,71.0,69.0,91.0,76.0,87.0,80.0,93.0,80.0,78.6866028708134,67.0,79.0,89.0,63.0,86.0,95.0,88.0,88.0,78.6866028708134,72.0,78.6866028708134,85.0,78.6866028708134,90.0,78.6866028708134,94.0,78.6866028708134,93.0,78.6866028708134,98.0,91.0,78.6866028708134,95.0,93.0,91.0,96.0,66.0,82.0,73.0,85.0,85.0,86.0,78.6866028708134,78.6866028708134,84.0,70.0,72.0,71.0,60.0,69.0,74.0,87.0,85.0,86.0,89.0,70.0,83.0,84.0,87.0,72.0,70.0,52.0,81.0,78.6866028708134,78.6866028708134,83.0,96.0,72.0,79.0,65.0,73.0,76.0,81.0,79.0,86.0,76.0,65.0,55.0,85.0,80.0,81.0,45.0,78.6866028708134,86.0,78.0,78.0,78.0,53.0,70.0,78.0,51.0,71.0,71.0,87.0,76.0,78.0,73.0,61.0,73.0,61.0,89.0,81.0,47.0,80.0,83.0,70.0,67.0,68.0,76.0,91.0,83.0,74.0,72.0,60.0,74.0,85.0,61.0,88.0,83.0,74.0,69.0,80.0,73.0,68.0,81.0,44.0,69.0,77.0,78.6866028708134,80.0,67.0,78.6866028708134,61.0,76.0,70.0,87.0,47.0,84.0,77.0,81.0,70.0,73.0,79.0,66.0,85.0,64.0,73.0,76.0,78.6866028708134,83.0,82.0,62.0,68.0,64.0,86.0,78.6866028708134,66.0,63.0,76.0,83.0,78.6866028708134,76.0,72.0,62.0,54.0,75.0,76.0,75.0,62.0,78.0,78.6866028708134,77.0,67.0,61.0,86.0,78.0,87.0,96.0,89.0,73.0,81.0,73.0,93.0,80.0,94.0,87.0,81.0,73.0,86.0,78.6866028708134,72.0,77.0,87.0,75.0,76.0,97.0,74.0,78.6866028708134,92.0,63.0,85.0,91.0,78.6866028708134,96.0,87.0,73.0,81.0,71.0,83.0,67.0,81.0,80.0,81.0,76.0,82.0,82.0,92.0,88.0,77.0,79.0,73.0,68.0,88.0,80.0,72.0,72.0,66.0,78.6866028708134,87.0,70.0,73.0,53.0,86.0,76.0,36.0,82.0,66.0,90.0,74.0,76.0,72.0,74.0,52.0,72.0,56.0,62.0,46.0,83.0,76.0,81.0,55.0,68.0,30.0,28.0,76.0,65.0,74.0,86.0,64.0,86.0,68.0,78.0,71.0,52.0,73.0,66.0,58.0,69.0,88.0,68.0,69.0,60.0,88.0,76.0,70.0,68.0,79.0,90.0,77.0,90.0,68.0,83.0,63.0,86.0,65.0,91.0,90.0,76.0,90.0,89.0,72.0,85.0,95.0,93.0,87.0],\"yaxis\":\"y2\"},{\"mode\":\"markers\",\"name\":\"Ratings Vs Votes\",\"type\":\"scatter\",\"x\":[9.3,9.2,9.0,9.0,9.0,9.0,9.0,8.9,8.9,8.8,8.8,8.8,8.8,8.8,8.8,8.7,8.7,8.7,8.7,8.7,8.6,8.6,8.6,8.6,8.6,8.6,8.6,8.6,8.6,8.6,8.6,8.6,8.6,8.6,8.5,8.5,8.5,8.5,8.5,8.5,8.5,8.5,8.5,8.5,8.5,8.5,8.5,8.5,8.5,8.5,8.5,8.5,8.5,8.5,8.5,8.5,8.5,8.5,8.5,8.5,8.4,8.4,8.4,8.4,8.4,8.4,8.4,8.4,8.4,8.4,8.4,8.4,8.4,8.4,8.4,8.4,8.4,8.4,8.4,8.4,8.4,8.4,8.4,8.4,8.4,8.4,8.4,8.4,8.4,8.4,8.4,8.4,8.4,8.3,8.3,8.3,8.3,8.3,8.3,8.3,8.3,8.3,8.3,8.3,8.3,8.3,8.3,8.3,8.3,8.3,8.3,8.3,8.3,8.3,8.3,8.3,8.3,8.3,8.3,8.3,8.3,8.3,8.3,8.3,8.3,8.3,8.3,8.3,8.3,8.3,8.3,8.3,8.3,8.3,8.3,8.3,8.2,8.2,8.2,8.2,8.2,8.2,8.2,8.2,8.2,8.2,8.2,8.2,8.2,8.2,8.2,8.2,8.2,8.2,8.2,8.2,8.2,8.2,8.2,8.2,8.2,8.2,8.2,8.2,8.2,8.2,8.2,8.2,8.2,8.2,8.2,8.2,8.2,8.2,8.2,8.2,8.2,8.2,8.2,8.2,8.2,8.2,8.2,8.2,8.2,8.2,8.2,8.2,8.2,8.2,8.2,8.2,8.2,8.2,8.2,8.2,8.2,8.2,8.2,8.2,8.2,8.2,8.2,8.2,8.2,8.2,8.2,8.1,8.1,8.1,8.1,8.1,8.1,8.1,8.1,8.1,8.1,8.1,8.1,8.1,8.1,8.1,8.1,8.1,8.1,8.1,8.1,8.1,8.1,8.1,8.1,8.1,8.1,8.1,8.1,8.1,8.1,8.1,8.1,8.1,8.1,8.1,8.1,8.1,8.1,8.1,8.1,8.1,8.1,8.1,8.1,8.1,8.1,8.1,8.1,8.1,8.1,8.1,8.1,8.1,8.1,8.1,8.1,8.1,8.1,8.1,8.1,8.1,8.1,8.1,8.1,8.1,8.1,8.1,8.1,8.1,8.1,8.1,8.1,8.1,8.1,8.1,8.1,8.1,8.1,8.1,8.1,8.1,8.1,8.1,8.1,8.1,8.1,8.1,8.1,8.1,8.1,8.1,8.1,8.1,8.1,8.1,8.1,8.1,8.1,8.1,8.1,8.1,8.1,8.1,8.1,8.1,8.1,8.1,8.1,8.1,8.1,8.1,8.1,8.1,8.1,8.1,8.1,8.1,8.1,8.1,8.1,8.1,8.1,8.1,8.1,8.1,8.1,8.1,8.1,8.0,8.0,8.0,8.0,8.0,8.0,8.0,8.0,8.0,8.0,8.0,8.0,8.0,8.0,8.0,8.0,8.0,8.0,8.0,8.0,8.0,8.0,8.0,8.0,8.0,8.0,8.0,8.0,8.0,8.0,8.0,8.0,8.0,8.0,8.0,8.0,8.0,8.0,8.0,8.0,8.0,8.0,8.0,8.0,8.0,8.0,8.0,8.0,8.0,8.0,8.0,8.0,8.0,8.0,8.0,8.0,8.0,8.0,8.0,8.0,8.0,8.0,8.0,8.0,8.0,8.0,8.0,8.0,8.0,8.0,8.0,8.0,8.0,8.0,8.0,8.0,8.0,8.0,8.0,8.0,8.0,8.0,8.0,8.0,8.0,8.0,8.0,8.0,8.0,8.0,8.0,8.0,8.0,8.0,8.0,8.0,8.0,8.0,8.0,8.0,8.0,8.0,8.0,8.0,8.0,8.0,8.0,8.0,8.0,8.0,8.0,8.0,8.0,8.0,8.0,8.0,8.0,8.0,8.0,8.0,8.0,8.0,8.0,8.0,8.0,8.0,8.0,8.0,7.9,7.9,7.9,7.9,7.9,7.9,7.9,7.9,7.9,7.9,7.9,7.9,7.9,7.9,7.9,7.9,7.9,7.9,7.9,7.9,7.9,7.9,7.9,7.9,7.9,7.9,7.9,7.9,7.9,7.9,7.9,7.9,7.9,7.9,7.9,7.9,7.9,7.9,7.9,7.9,7.9,7.9,7.9,7.9,7.9,7.9,7.9,7.9,7.9,7.9,7.9,7.9,7.9,7.9,7.9,7.9,7.9,7.9,7.9,7.9,7.9,7.9,7.9,7.9,7.9,7.9,7.9,7.9,7.9,7.9,7.9,7.9,7.9,7.9,7.9,7.9,7.9,7.9,7.9,7.9,7.9,7.9,7.9,7.9,7.9,7.9,7.9,7.9,7.9,7.9,7.9,7.9,7.9,7.9,7.9,7.9,7.9,7.9,7.9,7.9,7.9,7.9,7.9,7.9,7.9,7.9,7.9,7.9,7.9,7.9,7.9,7.9,7.9,7.9,7.9,7.9,7.9,7.9,7.9,7.9,7.9,7.9,7.9,7.9,7.9,7.9,7.9,7.9,7.9,7.9,7.8,7.8,7.8,7.8,7.8,7.8,7.8,7.8,7.8,7.8,7.8,7.8,7.8,7.8,7.8,7.8,7.8,7.8,7.8,7.8,7.8,7.8,7.8,7.8,7.8,7.8,7.8,7.8,7.8,7.8,7.8,7.8,7.8,7.8,7.8,7.8,7.8,7.8,7.8,7.8,7.8,7.8,7.8,7.8,7.8,7.8,7.8,7.8,7.8,7.8,7.8,7.8,7.8,7.8,7.8,7.8,7.8,7.8,7.8,7.8,7.8,7.8,7.8,7.8,7.8,7.8,7.8,7.8,7.8,7.8,7.8,7.8,7.8,7.8,7.8,7.8,7.8,7.8,7.8,7.8,7.8,7.8,7.8,7.8,7.8,7.8,7.8,7.8,7.8,7.8,7.8,7.8,7.8,7.8,7.8,7.8,7.8,7.8,7.8,7.8,7.8,7.8,7.8,7.8,7.8,7.8,7.8,7.8,7.8,7.8,7.8,7.8,7.8,7.8,7.8,7.8,7.8,7.8,7.8,7.8,7.8,7.8,7.8,7.8,7.8,7.8,7.8,7.8,7.8,7.8,7.8,7.8,7.8,7.8,7.8,7.8,7.8,7.8,7.8,7.8,7.8,7.8,7.8,7.8,7.8,7.8,7.8,7.7,7.7,7.7,7.7,7.7,7.7,7.7,7.7,7.7,7.7,7.7,7.7,7.7,7.7,7.7,7.7,7.7,7.7,7.7,7.7,7.7,7.7,7.7,7.7,7.7,7.7,7.7,7.7,7.7,7.7,7.7,7.7,7.7,7.7,7.7,7.7,7.7,7.7,7.7,7.7,7.7,7.7,7.7,7.7,7.7,7.7,7.7,7.7,7.7,7.7,7.7,7.7,7.7,7.7,7.7,7.7,7.7,7.7,7.7,7.7,7.7,7.7,7.7,7.7,7.7,7.7,7.7,7.7,7.7,7.7,7.7,7.7,7.7,7.7,7.7,7.7,7.7,7.7,7.7,7.7,7.7,7.7,7.7,7.7,7.7,7.7,7.7,7.7,7.7,7.7,7.7,7.7,7.7,7.7,7.7,7.7,7.7,7.7,7.7,7.7,7.7,7.7,7.7,7.7,7.7,7.7,7.7,7.7,7.7,7.7,7.7,7.7,7.7,7.7,7.7,7.7,7.7,7.7,7.7,7.7,7.7,7.7,7.7,7.7,7.7,7.7,7.7,7.7,7.7,7.7,7.7,7.7,7.7,7.7,7.7,7.7,7.7,7.7,7.7,7.7,7.7,7.7,7.7,7.7,7.7,7.7,7.7,7.7,7.7,7.7,7.7,7.7,7.7,7.7,7.7,7.7,7.7,7.7,7.7,7.7,7.7,7.7,7.7,7.7,7.7,7.7,7.7,7.7,7.7,7.7,7.6,7.6,7.6,7.6,7.6,7.6,7.6,7.6,7.6,7.6,7.6,7.6,7.6,7.6,7.6,7.6,7.6,7.6,7.6,7.6,7.6,7.6,7.6,7.6,7.6,7.6,7.6,7.6,7.6,7.6,7.6,7.6,7.6,7.6,7.6,7.6,7.6,7.6,7.6,7.6,7.6,7.6,7.6,7.6,7.6,7.6,7.6,7.6,7.6,7.6,7.6,7.6,7.6,7.6,7.6,7.6,7.6,7.6,7.6,7.6,7.6,7.6,7.6,7.6,7.6,7.6,7.6,7.6,7.6,7.6,7.6,7.6,7.6,7.6,7.6,7.6,7.6,7.6,7.6,7.6,7.6,7.6,7.6,7.6,7.6,7.6,7.6,7.6,7.6,7.6],\"xaxis\":\"x3\",\"y\":[\"2,612,987\",\"1,808,435\",\"2,585,038\",\"1,793,421\",\"1,327,956\",\"1,243,596\",\"772,107\",\"192,817\",\"2,001,896\",\"2,292,848\",\"1,619,563\",\"2,059,166\",\"1,814,522\",\"2,020,036\",\"748,464\",\"111,643\",\"1,874,101\",\"1,130,814\",\"1,264,936\",\"990,539\",\"239,888\",\"1,755,578\",\"745,919\",\"741,507\",\"1,360,278\",\"1,270,268\",\"681,930\",\"1,605,135\",\"1,077,168\",\"1,398,214\",\"1,337,692\",\"55,085\",\"341,441\",\"448,414\",\"26,887\",\"27,285\",\"36,131\",\"759,873\",\"823,707\",\"839,286\",\"40,300\",\"1,305,041\",\"1,298,109\",\"812,938\",\"1,467,223\",\"1,104,099\",\"1,067,967\",\"1,136,803\",\"1,035,018\",\"256,801\",\"270,338\",\"1,173,553\",\"656,344\",\"861,918\",\"325,380\",\"658,807\",\"484,088\",\"563,530\",\"239,118\",\"182,742\",\"86,496\",\"1,216,743\",\"29,361\",\"256,482\",\"502,949\",\"1,077,569\",\"1,035,933\",\"486,564\",\"1,511,767\",\"1,668,144\",\"35,429\",\"390,497\",\"112,979\",\"118,188\",\"1,094,102\",\"385,432\",\"567,153\",\"1,215,988\",\"1,138,208\",\"386,258\",\"1,023,417\",\"76,616\",\"704,900\",\"396,109\",\"950,315\",\"248,468\",\"995,307\",\"43,723\",\"483,987\",\"123,319\",\"194,830\",\"219,188\",\"221,557\",\"89,972\",\"40,465\",\"39,314\",\"185,509\",\"40,769\",\"322,938\",\"242,813\",\"174,184\",\"683,469\",\"1,023,641\",\"190,249\",\"821,794\",\"1,409,577\",\"988,931\",\"747,618\",\"842,371\",\"827,608\",\"946,455\",\"974,195\",\"640,559\",\"998,507\",\"730,168\",\"346,188\",\"819,628\",\"1,033,306\",\"259,098\",\"815,907\",\"656,955\",\"313,560\",\"290,124\",\"76,907\",\"179,545\",\"323,789\",\"397,051\",\"32,215\",\"239,187\",\"77,404\",\"161,793\",\"155,525\",\"437,039\",\"156,292\",\"172,530\",\"125,268\",\"51,228\",\"561,749\",\"59,971\",\"42,974\",\"90,446\",\"78,845\",\"471,903\",\"153,616\",\"38,464\",\"95,115\",\"80,425\",\"67,266\",\"696,225\",\"94,467\",\"36,134\",\"207,709\",\"466,725\",\"1,273,013\",\"54,276\",\"47,723\",\"33,112\",\"141,013\",\"1,359,973\",\"950,683\",\"86,075\",\"575,565\",\"660,336\",\"1,105,768\",\"1,439,945\",\"352,238\",\"384,643\",\"917,853\",\"1,093,419\",\"1,025,974\",\"976,175\",\"574,747\",\"1,050,073\",\"575,712\",\"74,079\",\"510,642\",\"967,037\",\"406,799\",\"743,427\",\"863,010\",\"124,226\",\"414,385\",\"348,908\",\"238,436\",\"808,195\",\"535,032\",\"28,988\",\"322,345\",\"28,556\",\"253,394\",\"242,227\",\"121,733\",\"263,972\",\"218,664\",\"173,788\",\"60,991\",\"60,639\",\"25,727\",\"166,628\",\"130,335\",\"123,934\",\"36,634\",\"312,204\",\"54,153\",\"90,610\",\"110,380\",\"49,204\",\"87,820\",\"44,605\",\"77,543\",\"495,075\",\"35,029\",\"144,574\",\"27,764\",\"141,582\",\"85,981\",\"54,788\",\"65,464\",\"740,050\",\"413,505\",\"195,536\",\"46,041\",\"181,731\",\"58,095\",\"790,239\",\"961,209\",\"44,397\",\"509,631\",\"81,268\",\"690,928\",\"472,845\",\"375,324\",\"462,959\",\"62,563\",\"44,917\",\"76,830\",\"453,337\",\"689,538\",\"979,198\",\"78,225\",\"766,509\",\"855,553\",\"280,510\",\"175,977\",\"726,952\",\"79,573\",\"616,166\",\"118,531\",\"679,644\",\"353,014\",\"715,099\",\"259,916\",\"34,883\",\"80,983\",\"89,633\",\"176,971\",\"1,105,884\",\"71,638\",\"951,801\",\"25,425\",\"238,544\",\"65,825\",\"25,598\",\"892,038\",\"112,877\",\"86,494\",\"189,501\",\"796,445\",\"146,698\",\"678,360\",\"668,726\",\"69,773\",\"58,238\",\"170,280\",\"302,177\",\"102,201\",\"173,196\",\"620,468\",\"28,652\",\"32,498\",\"30,625\",\"478,388\",\"331,430\",\"397,033\",\"409,616\",\"25,802\",\"849,520\",\"104,708\",\"229,609\",\"63,499\",\"755,675\",\"132,507\",\"34,062\",\"335,836\",\"565,268\",\"158,170\",\"47,364\",\"55,364\",\"590,922\",\"165,439\",\"47,362\",\"397,064\",\"33,672\",\"175,601\",\"116,921\",\"229,890\",\"59,639\",\"75,604\",\"29,206\",\"30,080\",\"116,544\",\"237,252\",\"38,867\",\"106,413\",\"183,140\",\"48,685\",\"51,901\",\"34,215\",\"153,790\",\"65,619\",\"35,705\",\"32,771\",\"170,347\",\"34,800\",\"63,905\",\"32,840\",\"135,992\",\"92,488\",\"393,792\",\"114,944\",\"36,517\",\"103,057\",\"61,172\",\"33,568\",\"50,825\",\"86,546\",\"33,997\",\"31,186\",\"172,827\",\"571,791\",\"234,006\",\"836,050\",\"56,510\",\"315,618\",\"487,646\",\"51,415\",\"119,977\",\"45,920\",\"55,933\",\"755,911\",\"1,152,433\",\"57,862\",\"549,140\",\"599,684\",\"786,036\",\"502,814\",\"82,834\",\"674,271\",\"1,008,859\",\"383,813\",\"222,527\",\"591,640\",\"51,946\",\"117,727\",\"837,446\",\"752,781\",\"103,491\",\"1,366,502\",\"94,226\",\"46,772\",\"501,120\",\"541,367\",\"630,154\",\"27,823\",\"763,246\",\"107,438\",\"39,654\",\"62,441\",\"649,493\",\"743,076\",\"82,547\",\"81,535\",\"186,641\",\"124,128\",\"437,942\",\"720,013\",\"48,021\",\"147,924\",\"36,569\",\"789,296\",\"309,996\",\"53,195\",\"89,972\",\"73,785\",\"39,507\",\"63,932\",\"53,577\",\"93,599\",\"43,143\",\"611,940\",\"68,792\",\"79,504\",\"53,071\",\"291,598\",\"409,492\",\"154,636\",\"448,221\",\"262,677\",\"507,928\",\"183,182\",\"423,241\",\"70,586\",\"33,738\",\"164,454\",\"167,454\",\"26,879\",\"80,665\",\"34,766\",\"395,394\",\"72,109\",\"263,948\",\"254,339\",\"46,195\",\"156,726\",\"129,894\",\"34,028\",\"90,445\",\"47,613\",\"48,084\",\"43,388\",\"214,329\",\"212,911\",\"178,779\",\"51,077\",\"271,085\",\"74,891\",\"53,288\",\"25,819\",\"117,130\",\"32,980\",\"55,666\",\"38,038\",\"36,323\",\"81,576\",\"72,660\",\"62,149\",\"66,048\",\"103,978\",\"31,853\",\"89,125\",\"88,852\",\"62,898\",\"55,678\",\"137,518\",\"103,707\",\"37,241\",\"37,023\",\"26,455\",\"25,818\",\"39,974\",\"157,573\",\"57,392\",\"63,150\",\"600,218\",\"74,950\",\"299,058\",\"30,540\",\"25,770\",\"47,872\",\"56,722\",\"55,037\",\"57,358\",\"92,987\",\"719,662\",\"375,276\",\"161,513\",\"677,067\",\"38,768\",\"87,418\",\"122,533\",\"155,904\",\"703,442\",\"547,464\",\"525,332\",\"25,339\",\"240,502\",\"663,904\",\"99,880\",\"53,236\",\"30,584\",\"106,013\",\"33,651\",\"215,559\",\"674,362\",\"303,816\",\"52,595\",\"352,294\",\"52,367\",\"60,118\",\"600,305\",\"481,659\",\"417,642\",\"186,140\",\"162,112\",\"621,332\",\"227,529\",\"54,940\",\"32,841\",\"45,403\",\"1,037,538\",\"550,525\",\"68,642\",\"54,163\",\"451,837\",\"620,390\",\"180,751\",\"111,950\",\"47,074\",\"541,491\",\"52,786\",\"495,097\",\"267,373\",\"273,861\",\"109,314\",\"350,600\",\"665,013\",\"571,889\",\"1,146,055\",\"30,375\",\"261,999\",\"61,600\",\"141,384\",\"34,205\",\"224,815\",\"100,932\",\"329,081\",\"215,947\",\"31,276\",\"482,528\",\"73,962\",\"101,168\",\"306,017\",\"28,092\",\"71,315\",\"199,543\",\"139,022\",\"146,832\",\"402,264\",\"35,524\",\"197,450\",\"139,581\",\"114,436\",\"43,425\",\"77,145\",\"101,631\",\"30,311\",\"25,334\",\"84,281\",\"31,425\",\"75,922\",\"26,552\",\"76,215\",\"214,963\",\"76,771\",\"31,499\",\"75,267\",\"134,036\",\"31,903\",\"49,288\",\"25,423\",\"70,731\",\"88,737\",\"26,687\",\"107,503\",\"133,047\",\"31,398\",\"55,551\",\"141,890\",\"47,549\",\"100,570\",\"85,257\",\"26,398\",\"36,930\",\"47,235\",\"70,420\",\"26,261\",\"68,924\",\"28,941\",\"50,872\",\"29,503\",\"85,058\",\"46,195\",\"96,183\",\"325,018\",\"26,783\",\"28,506\",\"262,846\",\"59,700\",\"165,416\",\"639,902\",\"225,275\",\"128,984\",\"75,957\",\"276,716\",\"40,879\",\"615,716\",\"45,391\",\"216,032\",\"765,572\",\"584,962\",\"195,474\",\"57,406\",\"56,625\",\"531,346\",\"917,086\",\"55,804\",\"43,099\",\"453,340\",\"341,823\",\"36,250\",\"118,078\",\"826,575\",\"46,200\",\"346,349\",\"330,809\",\"421,161\",\"127,838\",\"458,459\",\"454,394\",\"199,384\",\"377,178\",\"689,732\",\"98,266\",\"63,100\",\"65,635\",\"356,146\",\"647,770\",\"73,327\",\"216,234\",\"689,433\",\"363,351\",\"597,281\",\"116,200\",\"808,772\",\"254,080\",\"274,666\",\"625,069\",\"422,139\",\"1,212,211\",\"231,471\",\"310,026\",\"111,915\",\"474,286\",\"499,546\",\"640,561\",\"52,593\",\"290,772\",\"54,871\",\"39,570\",\"294,839\",\"434,782\",\"61,853\",\"249,131\",\"562,826\",\"434,729\",\"101,007\",\"45,560\",\"27,729\",\"48,420\",\"30,001\",\"213,312\",\"96,224\",\"581,588\",\"170,352\",\"90,167\",\"332,455\",\"301,042\",\"38,120\",\"66,646\",\"175,358\",\"146,589\",\"90,832\",\"73,806\",\"37,369\",\"291,405\",\"140,231\",\"50,478\",\"139,144\",\"206,751\",\"139,450\",\"141,864\",\"134,060\",\"48,317\",\"57,885\",\"522,952\",\"99,824\",\"404,277\",\"351,758\",\"390,876\",\"55,380\",\"407,912\",\"61,287\",\"101,977\",\"144,267\",\"31,699\",\"57,839\",\"119,629\",\"73,109\",\"48,795\",\"42,558\",\"110,829\",\"40,848\",\"42,803\",\"54,782\",\"56,885\",\"198,756\",\"110,344\",\"126,941\",\"45,111\",\"27,457\",\"95,038\",\"170,697\",\"30,183\",\"29,644\",\"45,325\",\"81,515\",\"27,013\",\"31,144\",\"34,533\",\"28,640\",\"65,096\",\"58,381\",\"48,704\",\"25,762\",\"52,336\",\"61,240\",\"32,833\",\"47,799\",\"59,952\",\"71,601\",\"155,960\",\"562,563\",\"121,525\",\"246,539\",\"60,179\",\"570,579\",\"326,060\",\"64,666\",\"30,320\",\"128,016\",\"54,395\",\"39,927\",\"444,008\",\"657,321\",\"371,861\",\"130,957\",\"621,847\",\"48,841\",\"90,044\",\"150,855\",\"41,120\",\"84,447\",\"243,338\",\"117,876\",\"415,997\",\"61,735\",\"84,928\",\"419,587\",\"38,997\",\"69,107\",\"350,180\",\"816,149\",\"481,186\",\"80,848\",\"684,917\",\"773,255\",\"173,456\",\"702,312\",\"148,315\",\"609,047\",\"507,432\",\"536,991\",\"215,369\",\"32,077\",\"107,869\",\"82,000\",\"89,424\",\"65,793\",\"121,859\",\"533,596\",\"34,639\",\"529,849\",\"311,757\",\"29,776\",\"65,103\",\"50,557\",\"444,795\",\"76,712\",\"353,049\",\"308,575\",\"138,242\",\"459,729\",\"384,982\",\"146,995\",\"38,498\",\"448,085\",\"613,368\",\"359,160\",\"222,400\",\"27,234\",\"235,512\",\"205,964\",\"145,516\",\"43,058\",\"54,352\",\"191,489\",\"391,964\",\"265,549\",\"93,688\",\"134,354\",\"35,564\",\"137,406\",\"122,338\",\"63,963\",\"563,608\",\"308,953\",\"544,572\",\"203,484\",\"263,777\",\"70,109\",\"238,334\",\"428,977\",\"198,122\",\"69,073\",\"30,621\",\"296,474\",\"30,570\",\"388,352\",\"304,361\",\"28,932\",\"54,182\",\"211,199\",\"114,900\",\"291,879\",\"36,409\",\"220,971\",\"235,058\",\"44,830\",\"239,720\",\"39,172\",\"57,901\",\"93,981\",\"167,620\",\"50,351\",\"88,304\",\"104,570\",\"260,902\",\"60,319\",\"74,309\",\"48,293\",\"26,367\",\"134,683\",\"556,722\",\"216,587\",\"199,102\",\"38,728\",\"102,521\",\"162,468\",\"124,733\",\"108,184\",\"51,472\",\"196,845\",\"51,506\",\"268,721\",\"86,131\",\"42,031\",\"40,181\",\"120,598\",\"248,676\",\"51,971\",\"235,888\",\"268,414\",\"26,280\",\"38,465\",\"137,820\",\"121,807\",\"30,937\",\"72,572\",\"107,953\",\"121,787\",\"155,223\",\"30,566\",\"72,807\",\"112,180\",\"44,309\",\"34,489\",\"39,147\",\"188,854\",\"55,755\",\"29,140\",\"41,277\",\"94,441\",\"80,481\",\"49,523\",\"27,635\",\"38,614\",\"78,372\",\"40,717\",\"95,588\",\"27,874\",\"86,154\",\"104,259\",\"160,355\",\"702,944\",\"661,079\",\"308,230\",\"289,835\",\"326,120\",\"180,739\",\"421,347\",\"269,711\",\"53,313\",\"227,707\",\"99,796\",\"437,036\",\"203,256\",\"245,806\",\"376,503\",\"335,880\",\"538,995\",\"328,688\",\"556,672\",\"67,460\",\"415,951\",\"151,276\",\"567,237\",\"327,475\",\"141,485\",\"569,144\",\"300,974\",\"241,322\",\"270,592\",\"106,099\",\"185,399\",\"369,089\",\"270,551\",\"460,927\",\"809,116\",\"217,022\",\"545,256\",\"314,410\",\"414,037\",\"25,520\",\"73,764\",\"70,387\",\"476,405\",\"178,046\",\"483,837\",\"149,718\",\"289,531\",\"759,796\",\"361,997\",\"206,582\",\"583,576\",\"184,350\",\"776,642\",\"186,482\",\"282,669\",\"468,089\",\"41,435\",\"199,022\",\"384,313\",\"80,745\",\"72,856\",\"123,050\",\"120,726\",\"391,177\",\"258,374\",\"167,486\",\"254,977\",\"256,089\",\"178,810\",\"68,648\",\"179,063\",\"199,695\",\"30,589\",\"103,971\",\"57,880\",\"34,847\",\"180,486\",\"52,983\",\"186,618\",\"178,664\",\"31,398\",\"90,218\",\"64,683\",\"46,910\",\"196,936\",\"56,732\",\"34,731\"],\"yaxis\":\"y3\"},{\"mode\":\"markers\",\"name\":\"Ratings Vs Gross\",\"type\":\"scatter\",\"x\":[9.3,9.2,9.0,9.0,9.0,9.0,9.0,8.9,8.9,8.8,8.8,8.8,8.8,8.8,8.8,8.7,8.7,8.7,8.7,8.7,8.6,8.6,8.6,8.6,8.6,8.6,8.6,8.6,8.6,8.6,8.6,8.6,8.6,8.6,8.5,8.5,8.5,8.5,8.5,8.5,8.5,8.5,8.5,8.5,8.5,8.5,8.5,8.5,8.5,8.5,8.5,8.5,8.5,8.5,8.5,8.5,8.5,8.5,8.5,8.5,8.4,8.4,8.4,8.4,8.4,8.4,8.4,8.4,8.4,8.4,8.4,8.4,8.4,8.4,8.4,8.4,8.4,8.4,8.4,8.4,8.4,8.4,8.4,8.4,8.4,8.4,8.4,8.4,8.4,8.4,8.4,8.4,8.4,8.3,8.3,8.3,8.3,8.3,8.3,8.3,8.3,8.3,8.3,8.3,8.3,8.3,8.3,8.3,8.3,8.3,8.3,8.3,8.3,8.3,8.3,8.3,8.3,8.3,8.3,8.3,8.3,8.3,8.3,8.3,8.3,8.3,8.3,8.3,8.3,8.3,8.3,8.3,8.3,8.3,8.3,8.3,8.2,8.2,8.2,8.2,8.2,8.2,8.2,8.2,8.2,8.2,8.2,8.2,8.2,8.2,8.2,8.2,8.2,8.2,8.2,8.2,8.2,8.2,8.2,8.2,8.2,8.2,8.2,8.2,8.2,8.2,8.2,8.2,8.2,8.2,8.2,8.2,8.2,8.2,8.2,8.2,8.2,8.2,8.2,8.2,8.2,8.2,8.2,8.2,8.2,8.2,8.2,8.2,8.2,8.2,8.2,8.2,8.2,8.2,8.2,8.2,8.2,8.2,8.2,8.2,8.2,8.2,8.2,8.2,8.2,8.2,8.2,8.1,8.1,8.1,8.1,8.1,8.1,8.1,8.1,8.1,8.1,8.1,8.1,8.1,8.1,8.1,8.1,8.1,8.1,8.1,8.1,8.1,8.1,8.1,8.1,8.1,8.1,8.1,8.1,8.1,8.1,8.1,8.1,8.1,8.1,8.1,8.1,8.1,8.1,8.1,8.1,8.1,8.1,8.1,8.1,8.1,8.1,8.1,8.1,8.1,8.1,8.1,8.1,8.1,8.1,8.1,8.1,8.1,8.1,8.1,8.1,8.1,8.1,8.1,8.1,8.1,8.1,8.1,8.1,8.1,8.1,8.1,8.1,8.1,8.1,8.1,8.1,8.1,8.1,8.1,8.1,8.1,8.1,8.1,8.1,8.1,8.1,8.1,8.1,8.1,8.1,8.1,8.1,8.1,8.1,8.1,8.1,8.1,8.1,8.1,8.1,8.1,8.1,8.1,8.1,8.1,8.1,8.1,8.1,8.1,8.1,8.1,8.1,8.1,8.1,8.1,8.1,8.1,8.1,8.1,8.1,8.1,8.1,8.1,8.1,8.1,8.1,8.1,8.1,8.0,8.0,8.0,8.0,8.0,8.0,8.0,8.0,8.0,8.0,8.0,8.0,8.0,8.0,8.0,8.0,8.0,8.0,8.0,8.0,8.0,8.0,8.0,8.0,8.0,8.0,8.0,8.0,8.0,8.0,8.0,8.0,8.0,8.0,8.0,8.0,8.0,8.0,8.0,8.0,8.0,8.0,8.0,8.0,8.0,8.0,8.0,8.0,8.0,8.0,8.0,8.0,8.0,8.0,8.0,8.0,8.0,8.0,8.0,8.0,8.0,8.0,8.0,8.0,8.0,8.0,8.0,8.0,8.0,8.0,8.0,8.0,8.0,8.0,8.0,8.0,8.0,8.0,8.0,8.0,8.0,8.0,8.0,8.0,8.0,8.0,8.0,8.0,8.0,8.0,8.0,8.0,8.0,8.0,8.0,8.0,8.0,8.0,8.0,8.0,8.0,8.0,8.0,8.0,8.0,8.0,8.0,8.0,8.0,8.0,8.0,8.0,8.0,8.0,8.0,8.0,8.0,8.0,8.0,8.0,8.0,8.0,8.0,8.0,8.0,8.0,8.0,8.0,7.9,7.9,7.9,7.9,7.9,7.9,7.9,7.9,7.9,7.9,7.9,7.9,7.9,7.9,7.9,7.9,7.9,7.9,7.9,7.9,7.9,7.9,7.9,7.9,7.9,7.9,7.9,7.9,7.9,7.9,7.9,7.9,7.9,7.9,7.9,7.9,7.9,7.9,7.9,7.9,7.9,7.9,7.9,7.9,7.9,7.9,7.9,7.9,7.9,7.9,7.9,7.9,7.9,7.9,7.9,7.9,7.9,7.9,7.9,7.9,7.9,7.9,7.9,7.9,7.9,7.9,7.9,7.9,7.9,7.9,7.9,7.9,7.9,7.9,7.9,7.9,7.9,7.9,7.9,7.9,7.9,7.9,7.9,7.9,7.9,7.9,7.9,7.9,7.9,7.9,7.9,7.9,7.9,7.9,7.9,7.9,7.9,7.9,7.9,7.9,7.9,7.9,7.9,7.9,7.9,7.9,7.9,7.9,7.9,7.9,7.9,7.9,7.9,7.9,7.9,7.9,7.9,7.9,7.9,7.9,7.9,7.9,7.9,7.9,7.9,7.9,7.9,7.9,7.9,7.9,7.8,7.8,7.8,7.8,7.8,7.8,7.8,7.8,7.8,7.8,7.8,7.8,7.8,7.8,7.8,7.8,7.8,7.8,7.8,7.8,7.8,7.8,7.8,7.8,7.8,7.8,7.8,7.8,7.8,7.8,7.8,7.8,7.8,7.8,7.8,7.8,7.8,7.8,7.8,7.8,7.8,7.8,7.8,7.8,7.8,7.8,7.8,7.8,7.8,7.8,7.8,7.8,7.8,7.8,7.8,7.8,7.8,7.8,7.8,7.8,7.8,7.8,7.8,7.8,7.8,7.8,7.8,7.8,7.8,7.8,7.8,7.8,7.8,7.8,7.8,7.8,7.8,7.8,7.8,7.8,7.8,7.8,7.8,7.8,7.8,7.8,7.8,7.8,7.8,7.8,7.8,7.8,7.8,7.8,7.8,7.8,7.8,7.8,7.8,7.8,7.8,7.8,7.8,7.8,7.8,7.8,7.8,7.8,7.8,7.8,7.8,7.8,7.8,7.8,7.8,7.8,7.8,7.8,7.8,7.8,7.8,7.8,7.8,7.8,7.8,7.8,7.8,7.8,7.8,7.8,7.8,7.8,7.8,7.8,7.8,7.8,7.8,7.8,7.8,7.8,7.8,7.8,7.8,7.8,7.8,7.8,7.8,7.7,7.7,7.7,7.7,7.7,7.7,7.7,7.7,7.7,7.7,7.7,7.7,7.7,7.7,7.7,7.7,7.7,7.7,7.7,7.7,7.7,7.7,7.7,7.7,7.7,7.7,7.7,7.7,7.7,7.7,7.7,7.7,7.7,7.7,7.7,7.7,7.7,7.7,7.7,7.7,7.7,7.7,7.7,7.7,7.7,7.7,7.7,7.7,7.7,7.7,7.7,7.7,7.7,7.7,7.7,7.7,7.7,7.7,7.7,7.7,7.7,7.7,7.7,7.7,7.7,7.7,7.7,7.7,7.7,7.7,7.7,7.7,7.7,7.7,7.7,7.7,7.7,7.7,7.7,7.7,7.7,7.7,7.7,7.7,7.7,7.7,7.7,7.7,7.7,7.7,7.7,7.7,7.7,7.7,7.7,7.7,7.7,7.7,7.7,7.7,7.7,7.7,7.7,7.7,7.7,7.7,7.7,7.7,7.7,7.7,7.7,7.7,7.7,7.7,7.7,7.7,7.7,7.7,7.7,7.7,7.7,7.7,7.7,7.7,7.7,7.7,7.7,7.7,7.7,7.7,7.7,7.7,7.7,7.7,7.7,7.7,7.7,7.7,7.7,7.7,7.7,7.7,7.7,7.7,7.7,7.7,7.7,7.7,7.7,7.7,7.7,7.7,7.7,7.7,7.7,7.7,7.7,7.7,7.7,7.7,7.7,7.7,7.7,7.7,7.7,7.7,7.7,7.7,7.7,7.7,7.6,7.6,7.6,7.6,7.6,7.6,7.6,7.6,7.6,7.6,7.6,7.6,7.6,7.6,7.6,7.6,7.6,7.6,7.6,7.6,7.6,7.6,7.6,7.6,7.6,7.6,7.6,7.6,7.6,7.6,7.6,7.6,7.6,7.6,7.6,7.6,7.6,7.6,7.6,7.6,7.6,7.6,7.6,7.6,7.6,7.6,7.6,7.6,7.6,7.6,7.6,7.6,7.6,7.6,7.6,7.6,7.6,7.6,7.6,7.6,7.6,7.6,7.6,7.6,7.6,7.6,7.6,7.6,7.6,7.6,7.6,7.6,7.6,7.6,7.6,7.6,7.6,7.6,7.6,7.6,7.6,7.6,7.6,7.6,7.6,7.6,7.6,7.6,7.6,7.6],\"xaxis\":\"x4\",\"y\":[28.34,134.97,534.86,377.85,96.9,57.3,4.36,70.13249694002447,107.93,292.58,342.55,37.03,315.54,330.25,6.1,70.13249694002447,171.48,46.84,290.48,112.0,70.13249694002447,188.02,7.56,10.06,216.54,136.8,57.6,100.13,204.84,130.74,322.74,70.13249694002447,0.27,70.13249694002447,70.13249694002447,70.13249694002447,70.13249694002447,53.37,13.09,13.18,70.13249694002447,53.09,132.38,32.57,187.71,6.72,23.34,19.5,422.78,11.99,70.13249694002447,210.61,83.47,78.9,5.32,32.0,36.76,1.02,0.16,0.02,1.66,335.45,70.13249694002447,5.02,190.24,858.37,678.82,209.73,162.81,448.14,70.13249694002447,6.53,70.13249694002447,70.13249694002447,223.81,11.29,0.71,25.54,130.1,2.38,75.6,70.13249694002447,85.16,51.97,248.16,11.49,44.02,70.13249694002447,0.28,8.18,70.13249694002447,70.13249694002447,0.29,70.13249694002447,70.13249694002447,70.13249694002447,12.39,70.13249694002447,0.69,7.1,6.86,804.75,293.0,1.22,415.0,120.54,34.4,33.23,30.33,3.64,138.43,191.8,67.44,2.83,46.36,5.32,45.6,309.13,159.6,6.21,56.95,70.13249694002447,44.82,70.13249694002447,18.6,13.28,3.2,0.54,8.82,0.06,0.33,5.72,1.59,0.03,1.24,5.45,0.9,159.23,4.19,70.13249694002447,1.37,70.13249694002447,85.08,70.13249694002447,70.13249694002447,20.19,0.74,1.63,356.46,70.13249694002447,0.04,6.39,13.66,128.01,47.7,70.13249694002447,70.13249694002447,70.13249694002447,116.9,74.28,70.13249694002447,40.22,37.63,70.51,206.85,5.51,4.71,170.74,70.1,380.84,293.51,3.9,125.62,64.62,0.93,42.44,402.45,101.16,197.17,83.01,4.14,13.78,23.38,70.13249694002447,28.26,1.23,70.13249694002447,8.49,0.08,15.0,12.1,70.13249694002447,25.0,44.91,0.01,70.13249694002447,70.13249694002447,0.07,0.1,0.01,5.01,70.13249694002447,198.68,0.02,1.03,5.45,0.98,3.76,1.24,70.13249694002447,54.51,0.34,70.13249694002447,70.13249694002447,2.01,8.18,0.9,1.43,226.28,14.68,3.11,0.14,10.62,0.92,59.1,167.77,70.13249694002447,67.21,2.8,56.67,26.95,117.62,45.06,1.04,0.01,3.11,169.71,61.0,154.06,70.13249694002447,148.1,381.01,70.13249694002447,70.13249694002447,217.58,1.11,18.35,2.2,100.49,23.53,206.45,5.82,0.73,70.13249694002447,1.22,0.01,305.41,0.3,164.62,70.13249694002447,5.38,70.13249694002447,70.13249694002447,289.92,0.07,1.65,23.16,17.5,2.73,16.5,24.61,70.13249694002447,0.17,0.31,5.54,4.04,25.01,70.91,5.22,2.6,0.28,95.86,1.11,52.29,138.53,4.94,38.4,2.18,52.77,4.97,32.87,0.23,70.13249694002447,48.98,117.24,70.13249694002447,70.13249694002447,70.13249694002447,260.0,70.13249694002447,30.93,232.91,70.13249694002447,16.22,70.13249694002447,163.21,0.06,70.13249694002447,1.53,70.13249694002447,70.13249694002447,74.7,70.13249694002447,70.13249694002447,70.13249694002447,0.75,70.13249694002447,0.06,9.6,1.09,3.97,70.13249694002447,0.45,10.9,23.65,0.2,4.36,0.06,2.08,9.6,0.17,4.36,3.27,70.13249694002447,0.54,70.13249694002447,70.13249694002447,70.13249694002447,70.13249694002447,151.1,51.74,228.43,3.49,70.13249694002447,341.27,0.17,6.74,1.51,1.08,91.13,333.18,0.86,92.05,25.57,183.64,17.74,0.1,138.8,363.07,70.13249694002447,70.13249694002447,108.33,1.5,70.13249694002447,141.32,106.95,0.01,623.28,4.45,2.22,163.57,57.37,227.47,0.68,74.1,5.99,1.11,70.13249694002447,167.45,66.21,2.38,2.09,61.65,0.17,66.26,261.44,70.13249694002447,1.53,70.13249694002447,1.48,22.46,70.13249694002447,6.2,0.78,5.6,0.26,0.35,24.48,13.42,57.14,70.13249694002447,0.6,70.13249694002447,63.9,217.35,70.41,218.97,184.21,178.8,0.55,30.86,3.33,4.54,70.13249694002447,0.5,0.01,22.24,70.13249694002447,20.05,30.18,39.2,50.0,0.18,86.3,53.27,1.74,70.13249694002447,4.08,29.13,80.5,102.31,70.13249694002447,33.4,0.04,104.95,70.13249694002447,0.1,70.13249694002447,0.05,70.13249694002447,4.05,70.13249694002447,70.13249694002447,8.28,19.52,12.54,11.9,2.24,70.13249694002447,70.13249694002447,0.65,70.13249694002447,70.13249694002447,70.13249694002447,9.45,70.13249694002447,70.13249694002447,70.13249694002447,70.13249694002447,70.13249694002447,2.11,0.05,70.13249694002447,165.36,3.31,2.0,2.27,1.66,70.13249694002447,70.13249694002447,1.78,70.13249694002447,3.24,315.06,0.35,132.42,100.55,5.57,1.01,2.63,8.11,233.92,70.13249694002447,216.43,0.1,44.67,100.21,6.74,0.11,0.01,4.02,70.13249694002447,2.12,115.65,26.24,0.41,25.38,70.13249694002447,1.19,257.73,27.3,7.76,70.13249694002447,13.76,124.99,21.0,0.24,70.13249694002447,0.5,318.41,13.54,1.79,70.13249694002447,90.14,249.36,53.71,9.28,1.06,121.66,1.22,35.55,128.08,32.53,4.18,7.22,267.67,245.85,659.33,0.0,26.4,70.13249694002447,0.52,2.2,12.28,1.32,75.08,36.95,4.5,56.36,14.74,27.55,76.27,0.3,40.08,9.93,4.74,20.61,435.11,70.13249694002447,57.23,45.7,70.6,0.58,70.13249694002447,61.7,0.54,0.37,12.06,22.28,24.38,70.13249694002447,111.72,14.5,13.47,70.13249694002447,70.13249694002447,30.0,0.09,17.57,0.11,93.74,70.13249694002447,70.13249694002447,8.0,7.63,70.13249694002447,70.13249694002447,70.13249694002447,2.65,10.46,6.54,0.3,9.46,4.36,70.13249694002447,70.13249694002447,70.13249694002447,70.13249694002447,3.98,70.13249694002447,10.0,70.13249694002447,70.13249694002447,70.13249694002447,30.71,70.13249694002447,18.1,0.26,32.02,188.37,169.61,5.2,40.44,47.7,0.44,532.18,70.13249694002447,5.88,408.08,54.12,108.1,6.74,70.13249694002447,32.38,936.66,4.23,0.17,222.53,15.32,1.67,0.09,259.77,0.14,45.51,177.0,70.26,0.13,102.52,107.1,161.2,7.0,96.96,2.08,0.55,70.13249694002447,5.01,258.37,2.22,10.1,304.36,93.62,145.0,9.44,303.0,35.74,50.93,35.06,130.16,760.51,0.0,50.87,2.28,59.89,23.64,127.51,2.92,38.41,5.13,0.13,25.51,54.58,3.64,119.52,81.0,111.11,16.76,0.18,0.19,1.0,70.13249694002447,115.65,8.26,233.63,28.97,32.48,22.86,12.34,4.41,4.04,5.89,56.51,32.42,22.95,70.13249694002447,183.88,17.27,5.62,57.5,61.28,52.1,70.13249694002447,26.83,70.13249694002447,18.25,118.5,34.6,59.74,70.14,45.88,34.7,238.63,21.5,2.5,106.26,37.82,70.13249694002447,5.1,31.8,70.13249694002447,0.06,4.42,16.06,0.2,42.77,70.13249694002447,4.0,44.79,0.09,56.7,0.03,72.0,102.27,2.62,70.13249694002447,70.13249694002447,70.13249694002447,70.13249694002447,70.13249694002447,70.13249694002447,70.13249694002447,70.13249694002447,0.3,70.13249694002447,4.66,70.13249694002447,70.13249694002447,2.54,4.36,70.13249694002447,70.13249694002447,70.13249694002447,324.59,70.13249694002447,33.8,2.4,176.04,220.16,70.13249694002447,70.13249694002447,48.02,3.36,0.77,35.89,128.26,124.87,6.74,42.34,1.33,2.85,2.2,0.18,5.21,434.04,17.65,189.42,1.34,0.07,56.82,70.13249694002447,0.01,257.76,274.09,228.78,0.08,146.41,277.32,70.13249694002447,132.09,70.13249694002447,136.03,32.39,295.98,9.03,0.74,18.59,0.88,1.75,70.13249694002447,0.33,25.44,0.41,33.08,22.49,1.05,0.87,0.0,200.82,4.4,83.04,53.61,17.11,176.24,1.08,75.33,0.02,44.59,290.01,77.91,75.29,4.89,16.29,51.68,4.06,15.54,7.0,22.25,108.64,104.45,0.14,22.0,3.03,54.23,13.62,2.89,183.42,45.51,132.07,52.04,10.82,2.81,0.03,76.63,7.27,0.37,0.31,148.48,0.23,48.32,41.91,0.19,35.81,56.12,43.18,173.84,21.85,3.15,9.17,6.11,77.32,1.77,27.28,48.17,75.51,70.13249694002447,70.13249694002447,10.73,141.34,2.02,82.42,2.0,1.96,5.08,285.76,92.82,156.45,70.13249694002447,43.98,5.92,22.24,7.15,1.44,8.55,10.63,61.5,98.47,11.8,54.0,78.91,47.21,54.8,83.4,47.0,14.82,70.13249694002447,119.5,29.8,0.19,70.13249694002447,7.06,15.63,35.9,17.55,45.3,70.13249694002447,0.03,28.35,70.13249694002447,51.08,39.1,70.13249694002447,70.13249694002447,4.91,0.34,70.13249694002447,21.75,10.55,0.54,70.13249694002447,76.41,70.13249694002447,70.13249694002447,70.13249694002447,26.02,142.5,389.81,72.31,608.58,248.76,3.33,46.89,109.77,1.09,26.86,37.71,208.55,4.11,41.0,215.29,171.24,251.51,35.01,48.07,70.13249694002447,75.61,3.19,75.59,255.96,15.09,121.46,69.95,17.11,38.63,31.57,17.61,88.51,20.3,215.43,210.61,23.09,107.51,24.15,56.0,3.75,6.17,5.74,59.7,13.06,57.94,40.31,52.36,317.58,96.52,124.12,15.07,17.11,380.26,36.4,120.62,63.54,4.07,14.38,100.01,71.52,1.46,52.93,6.15,66.67,111.54,78.76,53.42,65.21,40.46,10.6,12.47,132.09,2.49,25.0,70.13249694002447,44.53,141.84,70.13249694002447,11.4,70.13249694002447,0.05,70.13249694002447,70.13249694002447,30.5,184.93,70.13249694002447,70.13249694002447],\"yaxis\":\"y4\"}],                        {\"font\":{\"color\":\"white\",\"family\":\"Lato\",\"size\":18},\"paper_bgcolor\":\"black\",\"plot_bgcolor\":\"black\",\"template\":{\"data\":{\"bar\":[{\"error_x\":{\"color\":\"#2a3f5f\"},\"error_y\":{\"color\":\"#2a3f5f\"},\"marker\":{\"line\":{\"color\":\"#E5ECF6\",\"width\":0.5},\"pattern\":{\"fillmode\":\"overlay\",\"size\":10,\"solidity\":0.2}},\"type\":\"bar\"}],\"barpolar\":[{\"marker\":{\"line\":{\"color\":\"#E5ECF6\",\"width\":0.5},\"pattern\":{\"fillmode\":\"overlay\",\"size\":10,\"solidity\":0.2}},\"type\":\"barpolar\"}],\"carpet\":[{\"aaxis\":{\"endlinecolor\":\"#2a3f5f\",\"gridcolor\":\"white\",\"linecolor\":\"white\",\"minorgridcolor\":\"white\",\"startlinecolor\":\"#2a3f5f\"},\"baxis\":{\"endlinecolor\":\"#2a3f5f\",\"gridcolor\":\"white\",\"linecolor\":\"white\",\"minorgridcolor\":\"white\",\"startlinecolor\":\"#2a3f5f\"},\"type\":\"carpet\"}],\"choropleth\":[{\"colorbar\":{\"outlinewidth\":0,\"ticks\":\"\"},\"type\":\"choropleth\"}],\"contour\":[{\"colorbar\":{\"outlinewidth\":0,\"ticks\":\"\"},\"colorscale\":[[0.0,\"#0d0887\"],[0.1111111111111111,\"#46039f\"],[0.2222222222222222,\"#7201a8\"],[0.3333333333333333,\"#9c179e\"],[0.4444444444444444,\"#bd3786\"],[0.5555555555555556,\"#d8576b\"],[0.6666666666666666,\"#ed7953\"],[0.7777777777777778,\"#fb9f3a\"],[0.8888888888888888,\"#fdca26\"],[1.0,\"#f0f921\"]],\"type\":\"contour\"}],\"contourcarpet\":[{\"colorbar\":{\"outlinewidth\":0,\"ticks\":\"\"},\"type\":\"contourcarpet\"}],\"heatmap\":[{\"colorbar\":{\"outlinewidth\":0,\"ticks\":\"\"},\"colorscale\":[[0.0,\"#0d0887\"],[0.1111111111111111,\"#46039f\"],[0.2222222222222222,\"#7201a8\"],[0.3333333333333333,\"#9c179e\"],[0.4444444444444444,\"#bd3786\"],[0.5555555555555556,\"#d8576b\"],[0.6666666666666666,\"#ed7953\"],[0.7777777777777778,\"#fb9f3a\"],[0.8888888888888888,\"#fdca26\"],[1.0,\"#f0f921\"]],\"type\":\"heatmap\"}],\"heatmapgl\":[{\"colorbar\":{\"outlinewidth\":0,\"ticks\":\"\"},\"colorscale\":[[0.0,\"#0d0887\"],[0.1111111111111111,\"#46039f\"],[0.2222222222222222,\"#7201a8\"],[0.3333333333333333,\"#9c179e\"],[0.4444444444444444,\"#bd3786\"],[0.5555555555555556,\"#d8576b\"],[0.6666666666666666,\"#ed7953\"],[0.7777777777777778,\"#fb9f3a\"],[0.8888888888888888,\"#fdca26\"],[1.0,\"#f0f921\"]],\"type\":\"heatmapgl\"}],\"histogram\":[{\"marker\":{\"pattern\":{\"fillmode\":\"overlay\",\"size\":10,\"solidity\":0.2}},\"type\":\"histogram\"}],\"histogram2d\":[{\"colorbar\":{\"outlinewidth\":0,\"ticks\":\"\"},\"colorscale\":[[0.0,\"#0d0887\"],[0.1111111111111111,\"#46039f\"],[0.2222222222222222,\"#7201a8\"],[0.3333333333333333,\"#9c179e\"],[0.4444444444444444,\"#bd3786\"],[0.5555555555555556,\"#d8576b\"],[0.6666666666666666,\"#ed7953\"],[0.7777777777777778,\"#fb9f3a\"],[0.8888888888888888,\"#fdca26\"],[1.0,\"#f0f921\"]],\"type\":\"histogram2d\"}],\"histogram2dcontour\":[{\"colorbar\":{\"outlinewidth\":0,\"ticks\":\"\"},\"colorscale\":[[0.0,\"#0d0887\"],[0.1111111111111111,\"#46039f\"],[0.2222222222222222,\"#7201a8\"],[0.3333333333333333,\"#9c179e\"],[0.4444444444444444,\"#bd3786\"],[0.5555555555555556,\"#d8576b\"],[0.6666666666666666,\"#ed7953\"],[0.7777777777777778,\"#fb9f3a\"],[0.8888888888888888,\"#fdca26\"],[1.0,\"#f0f921\"]],\"type\":\"histogram2dcontour\"}],\"mesh3d\":[{\"colorbar\":{\"outlinewidth\":0,\"ticks\":\"\"},\"type\":\"mesh3d\"}],\"parcoords\":[{\"line\":{\"colorbar\":{\"outlinewidth\":0,\"ticks\":\"\"}},\"type\":\"parcoords\"}],\"pie\":[{\"automargin\":true,\"type\":\"pie\"}],\"scatter\":[{\"marker\":{\"colorbar\":{\"outlinewidth\":0,\"ticks\":\"\"}},\"type\":\"scatter\"}],\"scatter3d\":[{\"line\":{\"colorbar\":{\"outlinewidth\":0,\"ticks\":\"\"}},\"marker\":{\"colorbar\":{\"outlinewidth\":0,\"ticks\":\"\"}},\"type\":\"scatter3d\"}],\"scattercarpet\":[{\"marker\":{\"colorbar\":{\"outlinewidth\":0,\"ticks\":\"\"}},\"type\":\"scattercarpet\"}],\"scattergeo\":[{\"marker\":{\"colorbar\":{\"outlinewidth\":0,\"ticks\":\"\"}},\"type\":\"scattergeo\"}],\"scattergl\":[{\"marker\":{\"colorbar\":{\"outlinewidth\":0,\"ticks\":\"\"}},\"type\":\"scattergl\"}],\"scattermapbox\":[{\"marker\":{\"colorbar\":{\"outlinewidth\":0,\"ticks\":\"\"}},\"type\":\"scattermapbox\"}],\"scatterpolar\":[{\"marker\":{\"colorbar\":{\"outlinewidth\":0,\"ticks\":\"\"}},\"type\":\"scatterpolar\"}],\"scatterpolargl\":[{\"marker\":{\"colorbar\":{\"outlinewidth\":0,\"ticks\":\"\"}},\"type\":\"scatterpolargl\"}],\"scatterternary\":[{\"marker\":{\"colorbar\":{\"outlinewidth\":0,\"ticks\":\"\"}},\"type\":\"scatterternary\"}],\"surface\":[{\"colorbar\":{\"outlinewidth\":0,\"ticks\":\"\"},\"colorscale\":[[0.0,\"#0d0887\"],[0.1111111111111111,\"#46039f\"],[0.2222222222222222,\"#7201a8\"],[0.3333333333333333,\"#9c179e\"],[0.4444444444444444,\"#bd3786\"],[0.5555555555555556,\"#d8576b\"],[0.6666666666666666,\"#ed7953\"],[0.7777777777777778,\"#fb9f3a\"],[0.8888888888888888,\"#fdca26\"],[1.0,\"#f0f921\"]],\"type\":\"surface\"}],\"table\":[{\"cells\":{\"fill\":{\"color\":\"#EBF0F8\"},\"line\":{\"color\":\"white\"}},\"header\":{\"fill\":{\"color\":\"#C8D4E3\"},\"line\":{\"color\":\"white\"}},\"type\":\"table\"}]},\"layout\":{\"annotationdefaults\":{\"arrowcolor\":\"#2a3f5f\",\"arrowhead\":0,\"arrowwidth\":1},\"autotypenumbers\":\"strict\",\"coloraxis\":{\"colorbar\":{\"outlinewidth\":0,\"ticks\":\"\"}},\"colorscale\":{\"diverging\":[[0,\"#8e0152\"],[0.1,\"#c51b7d\"],[0.2,\"#de77ae\"],[0.3,\"#f1b6da\"],[0.4,\"#fde0ef\"],[0.5,\"#f7f7f7\"],[0.6,\"#e6f5d0\"],[0.7,\"#b8e186\"],[0.8,\"#7fbc41\"],[0.9,\"#4d9221\"],[1,\"#276419\"]],\"sequential\":[[0.0,\"#0d0887\"],[0.1111111111111111,\"#46039f\"],[0.2222222222222222,\"#7201a8\"],[0.3333333333333333,\"#9c179e\"],[0.4444444444444444,\"#bd3786\"],[0.5555555555555556,\"#d8576b\"],[0.6666666666666666,\"#ed7953\"],[0.7777777777777778,\"#fb9f3a\"],[0.8888888888888888,\"#fdca26\"],[1.0,\"#f0f921\"]],\"sequentialminus\":[[0.0,\"#0d0887\"],[0.1111111111111111,\"#46039f\"],[0.2222222222222222,\"#7201a8\"],[0.3333333333333333,\"#9c179e\"],[0.4444444444444444,\"#bd3786\"],[0.5555555555555556,\"#d8576b\"],[0.6666666666666666,\"#ed7953\"],[0.7777777777777778,\"#fb9f3a\"],[0.8888888888888888,\"#fdca26\"],[1.0,\"#f0f921\"]]},\"colorway\":[\"#636efa\",\"#EF553B\",\"#00cc96\",\"#ab63fa\",\"#FFA15A\",\"#19d3f3\",\"#FF6692\",\"#B6E880\",\"#FF97FF\",\"#FECB52\"],\"font\":{\"color\":\"#2a3f5f\"},\"geo\":{\"bgcolor\":\"white\",\"lakecolor\":\"white\",\"landcolor\":\"#E5ECF6\",\"showlakes\":true,\"showland\":true,\"subunitcolor\":\"white\"},\"hoverlabel\":{\"align\":\"left\"},\"hovermode\":\"closest\",\"mapbox\":{\"style\":\"light\"},\"paper_bgcolor\":\"white\",\"plot_bgcolor\":\"#E5ECF6\",\"polar\":{\"angularaxis\":{\"gridcolor\":\"white\",\"linecolor\":\"white\",\"ticks\":\"\"},\"bgcolor\":\"#E5ECF6\",\"radialaxis\":{\"gridcolor\":\"white\",\"linecolor\":\"white\",\"ticks\":\"\"}},\"scene\":{\"xaxis\":{\"backgroundcolor\":\"#E5ECF6\",\"gridcolor\":\"white\",\"gridwidth\":2,\"linecolor\":\"white\",\"showbackground\":true,\"ticks\":\"\",\"zerolinecolor\":\"white\"},\"yaxis\":{\"backgroundcolor\":\"#E5ECF6\",\"gridcolor\":\"white\",\"gridwidth\":2,\"linecolor\":\"white\",\"showbackground\":true,\"ticks\":\"\",\"zerolinecolor\":\"white\"},\"zaxis\":{\"backgroundcolor\":\"#E5ECF6\",\"gridcolor\":\"white\",\"gridwidth\":2,\"linecolor\":\"white\",\"showbackground\":true,\"ticks\":\"\",\"zerolinecolor\":\"white\"}},\"shapedefaults\":{\"line\":{\"color\":\"#2a3f5f\"}},\"ternary\":{\"aaxis\":{\"gridcolor\":\"white\",\"linecolor\":\"white\",\"ticks\":\"\"},\"baxis\":{\"gridcolor\":\"white\",\"linecolor\":\"white\",\"ticks\":\"\"},\"bgcolor\":\"#E5ECF6\",\"caxis\":{\"gridcolor\":\"white\",\"linecolor\":\"white\",\"ticks\":\"\"}},\"title\":{\"x\":0.05},\"xaxis\":{\"automargin\":true,\"gridcolor\":\"white\",\"linecolor\":\"white\",\"ticks\":\"\",\"title\":{\"standoff\":15},\"zerolinecolor\":\"white\",\"zerolinewidth\":2},\"yaxis\":{\"automargin\":true,\"gridcolor\":\"white\",\"linecolor\":\"white\",\"ticks\":\"\",\"title\":{\"standoff\":15},\"zerolinecolor\":\"white\",\"zerolinewidth\":2}}},\"xaxis\":{\"anchor\":\"y\",\"domain\":[0.0,0.45],\"title\":{\"text\":\"Ratings\"}},\"xaxis2\":{\"anchor\":\"y2\",\"domain\":[0.55,1.0],\"title\":{\"text\":\"Ratings\"}},\"xaxis3\":{\"anchor\":\"y3\",\"domain\":[0.0,0.45],\"title\":{\"text\":\"Ratings\"}},\"xaxis4\":{\"anchor\":\"y4\",\"domain\":[0.55,1.0],\"title\":{\"text\":\"Ratings\"}},\"yaxis\":{\"anchor\":\"x\",\"domain\":[0.575,1.0],\"title\":{\"text\":\"Watch Time\"}},\"yaxis2\":{\"anchor\":\"x2\",\"domain\":[0.575,1.0],\"title\":{\"text\":\"Metascore\"}},\"yaxis3\":{\"anchor\":\"x3\",\"domain\":[0.0,0.425],\"title\":{\"text\":\"Votes\"}},\"yaxis4\":{\"anchor\":\"x4\",\"domain\":[0.0,0.425],\"title\":{\"text\":\"Gross\"}}},                        {\"responsive\": true}                    ).then(function(){\n",
       "                            \n",
       "var gd = document.getElementById('08692646-0159-4fa2-834e-d6998e963dc7');\n",
       "var x = new MutationObserver(function (mutations, observer) {{\n",
       "        var display = window.getComputedStyle(gd).display;\n",
       "        if (!display || display === 'none') {{\n",
       "            console.log([gd, 'removed!']);\n",
       "            Plotly.purge(gd);\n",
       "            observer.disconnect();\n",
       "        }}\n",
       "}});\n",
       "\n",
       "// Listen for the removal of the full notebook cells\n",
       "var notebookContainer = gd.closest('#notebook-container');\n",
       "if (notebookContainer) {{\n",
       "    x.observe(notebookContainer, {childList: true});\n",
       "}}\n",
       "\n",
       "// Listen for the clearing of the current output cell\n",
       "var outputEl = gd.closest('.output');\n",
       "if (outputEl) {{\n",
       "    x.observe(outputEl, {childList: true});\n",
       "}}\n",
       "\n",
       "                        })                };                });            </script>        </div>"
      ]
     },
     "metadata": {},
     "output_type": "display_data"
    }
   ],
   "source": [
    "fig = make_subplots(rows=2, cols=2 )\n",
    "\n",
    "fig.append_trace(go.Scatter(\n",
    "x=df['Movie Rating'],\n",
    "y=df['Watch Time'],\n",
    "mode='markers',\n",
    "name='Ratings Vs Watch Time'),\n",
    "row=1, col=1) \n",
    "\n",
    "fig.append_trace(go.Scatter(\n",
    "x=df['Movie Rating'],\n",
    "y=df['Metascore'],\n",
    "mode='markers',\n",
    "name='Ratings Vs Metascore'),\n",
    "row=1, col=2)\n",
    "\n",
    "fig.append_trace(go.Scatter(\n",
    "x=df['Movie Rating'],\n",
    "y=df['Votes'],\n",
    "mode='markers',\n",
    "name='Ratings Vs Votes'),\n",
    "row=2, col=1)\n",
    "\n",
    "fig.append_trace(go.Scatter(\n",
    "x=df['Movie Rating'],\n",
    "y=df['Gross'],\n",
    "mode='markers',\n",
    "name='Ratings Vs Gross'),\n",
    "row=2, col=2)\n",
    "\n",
    "fig.update_xaxes(title='Ratings')\n",
    "\n",
    "fig.update_yaxes(title='Watch Time', row=1, col=1)\n",
    "fig.update_yaxes(title='Metascore', row=1, col=2)\n",
    "fig.update_yaxes(title='Votes', row=2, col=1)\n",
    "fig.update_yaxes(title='Gross', row=2, col=2)\n",
    "\n",
    "fig.update_layout(font=dict(family='Lato', size=18, color='white'),\n",
    "                  paper_bgcolor= 'black', plot_bgcolor='black')\n",
    "\n",
    "fig.show()"
   ]
  },
  {
   "cell_type": "code",
   "execution_count": null,
   "id": "83903f9e",
   "metadata": {},
   "outputs": [],
   "source": []
  },
  {
   "cell_type": "code",
   "execution_count": null,
   "id": "e89f5a6e",
   "metadata": {},
   "outputs": [],
   "source": []
  },
  {
   "cell_type": "code",
   "execution_count": null,
   "id": "78d6921a",
   "metadata": {},
   "outputs": [],
   "source": []
  },
  {
   "cell_type": "code",
   "execution_count": null,
   "id": "3714bb0a",
   "metadata": {},
   "outputs": [],
   "source": []
  },
  {
   "cell_type": "code",
   "execution_count": null,
   "id": "52caaf1a",
   "metadata": {},
   "outputs": [],
   "source": []
  }
 ],
 "metadata": {
  "kernelspec": {
   "display_name": "Python 3",
   "language": "python",
   "name": "python3"
  },
  "language_info": {
   "codemirror_mode": {
    "name": "ipython",
    "version": 3
   },
   "file_extension": ".py",
   "mimetype": "text/x-python",
   "name": "python",
   "nbconvert_exporter": "python",
   "pygments_lexer": "ipython3",
   "version": "3.8.8"
  }
 },
 "nbformat": 4,
 "nbformat_minor": 5
}
